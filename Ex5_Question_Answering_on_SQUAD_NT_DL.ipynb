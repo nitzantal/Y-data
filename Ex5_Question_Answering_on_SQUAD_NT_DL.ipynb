{
  "nbformat": 4,
  "nbformat_minor": 0,
  "metadata": {
    "accelerator": "GPU",
    "colab": {
      "name": "Ex5_Question Answering on SQUAD_NT_DL",
      "provenance": [],
      "collapsed_sections": []
    },
    "kernelspec": {
      "display_name": "Python 3",
      "language": "python",
      "name": "python3"
    },
    "language_info": {
      "codemirror_mode": {
        "name": "ipython",
        "version": 3
      },
      "file_extension": ".py",
      "mimetype": "text/x-python",
      "name": "python",
      "nbconvert_exporter": "python",
      "pygments_lexer": "ipython3",
      "version": "3.7.9"
    },
    "widgets": {
      "application/vnd.jupyter.widget-state+json": {
        "fd792d4682d045f9ad1a4f4a5469c485": {
          "model_module": "@jupyter-widgets/controls",
          "model_name": "HBoxModel",
          "state": {
            "_view_name": "HBoxView",
            "_dom_classes": [],
            "_model_name": "HBoxModel",
            "_view_module": "@jupyter-widgets/controls",
            "_model_module_version": "1.5.0",
            "_view_count": null,
            "_view_module_version": "1.5.0",
            "box_style": "",
            "layout": "IPY_MODEL_782f92b2224744ddb6c5cb5ce94f87c3",
            "_model_module": "@jupyter-widgets/controls",
            "children": [
              "IPY_MODEL_ee71ebc585234b3f8443c5dc02d81f4f",
              "IPY_MODEL_dc5682dbacc94b06ad2071d8627656d6",
              "IPY_MODEL_aad653995f3c4ca2bce660f0ca1ceddb"
            ]
          }
        },
        "782f92b2224744ddb6c5cb5ce94f87c3": {
          "model_module": "@jupyter-widgets/base",
          "model_name": "LayoutModel",
          "state": {
            "_view_name": "LayoutView",
            "grid_template_rows": null,
            "right": null,
            "justify_content": null,
            "_view_module": "@jupyter-widgets/base",
            "overflow": null,
            "_model_module_version": "1.2.0",
            "_view_count": null,
            "flex_flow": null,
            "width": null,
            "min_width": null,
            "border": null,
            "align_items": null,
            "bottom": null,
            "_model_module": "@jupyter-widgets/base",
            "top": null,
            "grid_column": null,
            "overflow_y": null,
            "overflow_x": null,
            "grid_auto_flow": null,
            "grid_area": null,
            "grid_template_columns": null,
            "flex": null,
            "_model_name": "LayoutModel",
            "justify_items": null,
            "grid_row": null,
            "max_height": null,
            "align_content": null,
            "visibility": null,
            "align_self": null,
            "height": null,
            "min_height": null,
            "padding": null,
            "grid_auto_rows": null,
            "grid_gap": null,
            "max_width": null,
            "order": null,
            "_view_module_version": "1.2.0",
            "grid_template_areas": null,
            "object_position": null,
            "object_fit": null,
            "grid_auto_columns": null,
            "margin": null,
            "display": null,
            "left": null
          }
        },
        "ee71ebc585234b3f8443c5dc02d81f4f": {
          "model_module": "@jupyter-widgets/controls",
          "model_name": "HTMLModel",
          "state": {
            "_view_name": "HTMLView",
            "style": "IPY_MODEL_a5edaa134d54440298de734b069cd772",
            "_dom_classes": [],
            "description": "",
            "_model_name": "HTMLModel",
            "placeholder": "​",
            "_view_module": "@jupyter-widgets/controls",
            "_model_module_version": "1.5.0",
            "value": "Downloading: 100%",
            "_view_count": null,
            "_view_module_version": "1.5.0",
            "description_tooltip": null,
            "_model_module": "@jupyter-widgets/controls",
            "layout": "IPY_MODEL_fa0d976bc7334cee8e61a8276fe58a70"
          }
        },
        "dc5682dbacc94b06ad2071d8627656d6": {
          "model_module": "@jupyter-widgets/controls",
          "model_name": "FloatProgressModel",
          "state": {
            "_view_name": "ProgressView",
            "style": "IPY_MODEL_f6ad5ae2f3664f729d131ff5607e0a36",
            "_dom_classes": [],
            "description": "",
            "_model_name": "FloatProgressModel",
            "bar_style": "success",
            "max": 28,
            "_view_module": "@jupyter-widgets/controls",
            "_model_module_version": "1.5.0",
            "value": 28,
            "_view_count": null,
            "_view_module_version": "1.5.0",
            "orientation": "horizontal",
            "min": 0,
            "description_tooltip": null,
            "_model_module": "@jupyter-widgets/controls",
            "layout": "IPY_MODEL_13d1bc6ec5f749a98591df4cd3f0d9cc"
          }
        },
        "aad653995f3c4ca2bce660f0ca1ceddb": {
          "model_module": "@jupyter-widgets/controls",
          "model_name": "HTMLModel",
          "state": {
            "_view_name": "HTMLView",
            "style": "IPY_MODEL_a656f527cb3e410cab4d52ca7c6f45fe",
            "_dom_classes": [],
            "description": "",
            "_model_name": "HTMLModel",
            "placeholder": "​",
            "_view_module": "@jupyter-widgets/controls",
            "_model_module_version": "1.5.0",
            "value": " 28.0/28.0 [00:00&lt;00:00, 746B/s]",
            "_view_count": null,
            "_view_module_version": "1.5.0",
            "description_tooltip": null,
            "_model_module": "@jupyter-widgets/controls",
            "layout": "IPY_MODEL_7abb26a05a2a4f6bb83acf50114d1ca6"
          }
        },
        "a5edaa134d54440298de734b069cd772": {
          "model_module": "@jupyter-widgets/controls",
          "model_name": "DescriptionStyleModel",
          "state": {
            "_view_name": "StyleView",
            "_model_name": "DescriptionStyleModel",
            "description_width": "",
            "_view_module": "@jupyter-widgets/base",
            "_model_module_version": "1.5.0",
            "_view_count": null,
            "_view_module_version": "1.2.0",
            "_model_module": "@jupyter-widgets/controls"
          }
        },
        "fa0d976bc7334cee8e61a8276fe58a70": {
          "model_module": "@jupyter-widgets/base",
          "model_name": "LayoutModel",
          "state": {
            "_view_name": "LayoutView",
            "grid_template_rows": null,
            "right": null,
            "justify_content": null,
            "_view_module": "@jupyter-widgets/base",
            "overflow": null,
            "_model_module_version": "1.2.0",
            "_view_count": null,
            "flex_flow": null,
            "width": null,
            "min_width": null,
            "border": null,
            "align_items": null,
            "bottom": null,
            "_model_module": "@jupyter-widgets/base",
            "top": null,
            "grid_column": null,
            "overflow_y": null,
            "overflow_x": null,
            "grid_auto_flow": null,
            "grid_area": null,
            "grid_template_columns": null,
            "flex": null,
            "_model_name": "LayoutModel",
            "justify_items": null,
            "grid_row": null,
            "max_height": null,
            "align_content": null,
            "visibility": null,
            "align_self": null,
            "height": null,
            "min_height": null,
            "padding": null,
            "grid_auto_rows": null,
            "grid_gap": null,
            "max_width": null,
            "order": null,
            "_view_module_version": "1.2.0",
            "grid_template_areas": null,
            "object_position": null,
            "object_fit": null,
            "grid_auto_columns": null,
            "margin": null,
            "display": null,
            "left": null
          }
        },
        "f6ad5ae2f3664f729d131ff5607e0a36": {
          "model_module": "@jupyter-widgets/controls",
          "model_name": "ProgressStyleModel",
          "state": {
            "_view_name": "StyleView",
            "_model_name": "ProgressStyleModel",
            "description_width": "",
            "_view_module": "@jupyter-widgets/base",
            "_model_module_version": "1.5.0",
            "_view_count": null,
            "_view_module_version": "1.2.0",
            "bar_color": null,
            "_model_module": "@jupyter-widgets/controls"
          }
        },
        "13d1bc6ec5f749a98591df4cd3f0d9cc": {
          "model_module": "@jupyter-widgets/base",
          "model_name": "LayoutModel",
          "state": {
            "_view_name": "LayoutView",
            "grid_template_rows": null,
            "right": null,
            "justify_content": null,
            "_view_module": "@jupyter-widgets/base",
            "overflow": null,
            "_model_module_version": "1.2.0",
            "_view_count": null,
            "flex_flow": null,
            "width": null,
            "min_width": null,
            "border": null,
            "align_items": null,
            "bottom": null,
            "_model_module": "@jupyter-widgets/base",
            "top": null,
            "grid_column": null,
            "overflow_y": null,
            "overflow_x": null,
            "grid_auto_flow": null,
            "grid_area": null,
            "grid_template_columns": null,
            "flex": null,
            "_model_name": "LayoutModel",
            "justify_items": null,
            "grid_row": null,
            "max_height": null,
            "align_content": null,
            "visibility": null,
            "align_self": null,
            "height": null,
            "min_height": null,
            "padding": null,
            "grid_auto_rows": null,
            "grid_gap": null,
            "max_width": null,
            "order": null,
            "_view_module_version": "1.2.0",
            "grid_template_areas": null,
            "object_position": null,
            "object_fit": null,
            "grid_auto_columns": null,
            "margin": null,
            "display": null,
            "left": null
          }
        },
        "a656f527cb3e410cab4d52ca7c6f45fe": {
          "model_module": "@jupyter-widgets/controls",
          "model_name": "DescriptionStyleModel",
          "state": {
            "_view_name": "StyleView",
            "_model_name": "DescriptionStyleModel",
            "description_width": "",
            "_view_module": "@jupyter-widgets/base",
            "_model_module_version": "1.5.0",
            "_view_count": null,
            "_view_module_version": "1.2.0",
            "_model_module": "@jupyter-widgets/controls"
          }
        },
        "7abb26a05a2a4f6bb83acf50114d1ca6": {
          "model_module": "@jupyter-widgets/base",
          "model_name": "LayoutModel",
          "state": {
            "_view_name": "LayoutView",
            "grid_template_rows": null,
            "right": null,
            "justify_content": null,
            "_view_module": "@jupyter-widgets/base",
            "overflow": null,
            "_model_module_version": "1.2.0",
            "_view_count": null,
            "flex_flow": null,
            "width": null,
            "min_width": null,
            "border": null,
            "align_items": null,
            "bottom": null,
            "_model_module": "@jupyter-widgets/base",
            "top": null,
            "grid_column": null,
            "overflow_y": null,
            "overflow_x": null,
            "grid_auto_flow": null,
            "grid_area": null,
            "grid_template_columns": null,
            "flex": null,
            "_model_name": "LayoutModel",
            "justify_items": null,
            "grid_row": null,
            "max_height": null,
            "align_content": null,
            "visibility": null,
            "align_self": null,
            "height": null,
            "min_height": null,
            "padding": null,
            "grid_auto_rows": null,
            "grid_gap": null,
            "max_width": null,
            "order": null,
            "_view_module_version": "1.2.0",
            "grid_template_areas": null,
            "object_position": null,
            "object_fit": null,
            "grid_auto_columns": null,
            "margin": null,
            "display": null,
            "left": null
          }
        },
        "5e53f8a8095641838a51a27e811048a8": {
          "model_module": "@jupyter-widgets/controls",
          "model_name": "HBoxModel",
          "state": {
            "_view_name": "HBoxView",
            "_dom_classes": [],
            "_model_name": "HBoxModel",
            "_view_module": "@jupyter-widgets/controls",
            "_model_module_version": "1.5.0",
            "_view_count": null,
            "_view_module_version": "1.5.0",
            "box_style": "",
            "layout": "IPY_MODEL_e741f300517541c986ec800a3502bf1f",
            "_model_module": "@jupyter-widgets/controls",
            "children": [
              "IPY_MODEL_800f5716b4cf43399e446673bd7a7952",
              "IPY_MODEL_fbc1ad16e2e84f2387834e066da845bc",
              "IPY_MODEL_471b76fa95d5459b8746ed853a7ab28d"
            ]
          }
        },
        "e741f300517541c986ec800a3502bf1f": {
          "model_module": "@jupyter-widgets/base",
          "model_name": "LayoutModel",
          "state": {
            "_view_name": "LayoutView",
            "grid_template_rows": null,
            "right": null,
            "justify_content": null,
            "_view_module": "@jupyter-widgets/base",
            "overflow": null,
            "_model_module_version": "1.2.0",
            "_view_count": null,
            "flex_flow": null,
            "width": null,
            "min_width": null,
            "border": null,
            "align_items": null,
            "bottom": null,
            "_model_module": "@jupyter-widgets/base",
            "top": null,
            "grid_column": null,
            "overflow_y": null,
            "overflow_x": null,
            "grid_auto_flow": null,
            "grid_area": null,
            "grid_template_columns": null,
            "flex": null,
            "_model_name": "LayoutModel",
            "justify_items": null,
            "grid_row": null,
            "max_height": null,
            "align_content": null,
            "visibility": null,
            "align_self": null,
            "height": null,
            "min_height": null,
            "padding": null,
            "grid_auto_rows": null,
            "grid_gap": null,
            "max_width": null,
            "order": null,
            "_view_module_version": "1.2.0",
            "grid_template_areas": null,
            "object_position": null,
            "object_fit": null,
            "grid_auto_columns": null,
            "margin": null,
            "display": null,
            "left": null
          }
        },
        "800f5716b4cf43399e446673bd7a7952": {
          "model_module": "@jupyter-widgets/controls",
          "model_name": "HTMLModel",
          "state": {
            "_view_name": "HTMLView",
            "style": "IPY_MODEL_4687fdaa83314c998a6d2c3f2490695f",
            "_dom_classes": [],
            "description": "",
            "_model_name": "HTMLModel",
            "placeholder": "​",
            "_view_module": "@jupyter-widgets/controls",
            "_model_module_version": "1.5.0",
            "value": "Downloading: 100%",
            "_view_count": null,
            "_view_module_version": "1.5.0",
            "description_tooltip": null,
            "_model_module": "@jupyter-widgets/controls",
            "layout": "IPY_MODEL_ef40738d8fa44404864288ac25246316"
          }
        },
        "fbc1ad16e2e84f2387834e066da845bc": {
          "model_module": "@jupyter-widgets/controls",
          "model_name": "FloatProgressModel",
          "state": {
            "_view_name": "ProgressView",
            "style": "IPY_MODEL_6dcc3aca09ae4ee59a448d55af59d4e4",
            "_dom_classes": [],
            "description": "",
            "_model_name": "FloatProgressModel",
            "bar_style": "success",
            "max": 442,
            "_view_module": "@jupyter-widgets/controls",
            "_model_module_version": "1.5.0",
            "value": 442,
            "_view_count": null,
            "_view_module_version": "1.5.0",
            "orientation": "horizontal",
            "min": 0,
            "description_tooltip": null,
            "_model_module": "@jupyter-widgets/controls",
            "layout": "IPY_MODEL_04514f66793f42dc845be72a32220e51"
          }
        },
        "471b76fa95d5459b8746ed853a7ab28d": {
          "model_module": "@jupyter-widgets/controls",
          "model_name": "HTMLModel",
          "state": {
            "_view_name": "HTMLView",
            "style": "IPY_MODEL_b0ace9f935e44ea48617a6c68f27da96",
            "_dom_classes": [],
            "description": "",
            "_model_name": "HTMLModel",
            "placeholder": "​",
            "_view_module": "@jupyter-widgets/controls",
            "_model_module_version": "1.5.0",
            "value": " 442/442 [00:00&lt;00:00, 15.5kB/s]",
            "_view_count": null,
            "_view_module_version": "1.5.0",
            "description_tooltip": null,
            "_model_module": "@jupyter-widgets/controls",
            "layout": "IPY_MODEL_2cf17f7957f049639627c5d2a0ba0f77"
          }
        },
        "4687fdaa83314c998a6d2c3f2490695f": {
          "model_module": "@jupyter-widgets/controls",
          "model_name": "DescriptionStyleModel",
          "state": {
            "_view_name": "StyleView",
            "_model_name": "DescriptionStyleModel",
            "description_width": "",
            "_view_module": "@jupyter-widgets/base",
            "_model_module_version": "1.5.0",
            "_view_count": null,
            "_view_module_version": "1.2.0",
            "_model_module": "@jupyter-widgets/controls"
          }
        },
        "ef40738d8fa44404864288ac25246316": {
          "model_module": "@jupyter-widgets/base",
          "model_name": "LayoutModel",
          "state": {
            "_view_name": "LayoutView",
            "grid_template_rows": null,
            "right": null,
            "justify_content": null,
            "_view_module": "@jupyter-widgets/base",
            "overflow": null,
            "_model_module_version": "1.2.0",
            "_view_count": null,
            "flex_flow": null,
            "width": null,
            "min_width": null,
            "border": null,
            "align_items": null,
            "bottom": null,
            "_model_module": "@jupyter-widgets/base",
            "top": null,
            "grid_column": null,
            "overflow_y": null,
            "overflow_x": null,
            "grid_auto_flow": null,
            "grid_area": null,
            "grid_template_columns": null,
            "flex": null,
            "_model_name": "LayoutModel",
            "justify_items": null,
            "grid_row": null,
            "max_height": null,
            "align_content": null,
            "visibility": null,
            "align_self": null,
            "height": null,
            "min_height": null,
            "padding": null,
            "grid_auto_rows": null,
            "grid_gap": null,
            "max_width": null,
            "order": null,
            "_view_module_version": "1.2.0",
            "grid_template_areas": null,
            "object_position": null,
            "object_fit": null,
            "grid_auto_columns": null,
            "margin": null,
            "display": null,
            "left": null
          }
        },
        "6dcc3aca09ae4ee59a448d55af59d4e4": {
          "model_module": "@jupyter-widgets/controls",
          "model_name": "ProgressStyleModel",
          "state": {
            "_view_name": "StyleView",
            "_model_name": "ProgressStyleModel",
            "description_width": "",
            "_view_module": "@jupyter-widgets/base",
            "_model_module_version": "1.5.0",
            "_view_count": null,
            "_view_module_version": "1.2.0",
            "bar_color": null,
            "_model_module": "@jupyter-widgets/controls"
          }
        },
        "04514f66793f42dc845be72a32220e51": {
          "model_module": "@jupyter-widgets/base",
          "model_name": "LayoutModel",
          "state": {
            "_view_name": "LayoutView",
            "grid_template_rows": null,
            "right": null,
            "justify_content": null,
            "_view_module": "@jupyter-widgets/base",
            "overflow": null,
            "_model_module_version": "1.2.0",
            "_view_count": null,
            "flex_flow": null,
            "width": null,
            "min_width": null,
            "border": null,
            "align_items": null,
            "bottom": null,
            "_model_module": "@jupyter-widgets/base",
            "top": null,
            "grid_column": null,
            "overflow_y": null,
            "overflow_x": null,
            "grid_auto_flow": null,
            "grid_area": null,
            "grid_template_columns": null,
            "flex": null,
            "_model_name": "LayoutModel",
            "justify_items": null,
            "grid_row": null,
            "max_height": null,
            "align_content": null,
            "visibility": null,
            "align_self": null,
            "height": null,
            "min_height": null,
            "padding": null,
            "grid_auto_rows": null,
            "grid_gap": null,
            "max_width": null,
            "order": null,
            "_view_module_version": "1.2.0",
            "grid_template_areas": null,
            "object_position": null,
            "object_fit": null,
            "grid_auto_columns": null,
            "margin": null,
            "display": null,
            "left": null
          }
        },
        "b0ace9f935e44ea48617a6c68f27da96": {
          "model_module": "@jupyter-widgets/controls",
          "model_name": "DescriptionStyleModel",
          "state": {
            "_view_name": "StyleView",
            "_model_name": "DescriptionStyleModel",
            "description_width": "",
            "_view_module": "@jupyter-widgets/base",
            "_model_module_version": "1.5.0",
            "_view_count": null,
            "_view_module_version": "1.2.0",
            "_model_module": "@jupyter-widgets/controls"
          }
        },
        "2cf17f7957f049639627c5d2a0ba0f77": {
          "model_module": "@jupyter-widgets/base",
          "model_name": "LayoutModel",
          "state": {
            "_view_name": "LayoutView",
            "grid_template_rows": null,
            "right": null,
            "justify_content": null,
            "_view_module": "@jupyter-widgets/base",
            "overflow": null,
            "_model_module_version": "1.2.0",
            "_view_count": null,
            "flex_flow": null,
            "width": null,
            "min_width": null,
            "border": null,
            "align_items": null,
            "bottom": null,
            "_model_module": "@jupyter-widgets/base",
            "top": null,
            "grid_column": null,
            "overflow_y": null,
            "overflow_x": null,
            "grid_auto_flow": null,
            "grid_area": null,
            "grid_template_columns": null,
            "flex": null,
            "_model_name": "LayoutModel",
            "justify_items": null,
            "grid_row": null,
            "max_height": null,
            "align_content": null,
            "visibility": null,
            "align_self": null,
            "height": null,
            "min_height": null,
            "padding": null,
            "grid_auto_rows": null,
            "grid_gap": null,
            "max_width": null,
            "order": null,
            "_view_module_version": "1.2.0",
            "grid_template_areas": null,
            "object_position": null,
            "object_fit": null,
            "grid_auto_columns": null,
            "margin": null,
            "display": null,
            "left": null
          }
        },
        "e6bc8cd2697b4927903cbf6bafb39e34": {
          "model_module": "@jupyter-widgets/controls",
          "model_name": "HBoxModel",
          "state": {
            "_view_name": "HBoxView",
            "_dom_classes": [],
            "_model_name": "HBoxModel",
            "_view_module": "@jupyter-widgets/controls",
            "_model_module_version": "1.5.0",
            "_view_count": null,
            "_view_module_version": "1.5.0",
            "box_style": "",
            "layout": "IPY_MODEL_d4d848d05d374aedbe1e7679f9e8f733",
            "_model_module": "@jupyter-widgets/controls",
            "children": [
              "IPY_MODEL_7fcd71495ea34ba29bc3d6e52956729f",
              "IPY_MODEL_487c83d706a944a295e42bf75d627f9b",
              "IPY_MODEL_a8c86c4d80f043a497250e0c825e1dbd"
            ]
          }
        },
        "d4d848d05d374aedbe1e7679f9e8f733": {
          "model_module": "@jupyter-widgets/base",
          "model_name": "LayoutModel",
          "state": {
            "_view_name": "LayoutView",
            "grid_template_rows": null,
            "right": null,
            "justify_content": null,
            "_view_module": "@jupyter-widgets/base",
            "overflow": null,
            "_model_module_version": "1.2.0",
            "_view_count": null,
            "flex_flow": null,
            "width": null,
            "min_width": null,
            "border": null,
            "align_items": null,
            "bottom": null,
            "_model_module": "@jupyter-widgets/base",
            "top": null,
            "grid_column": null,
            "overflow_y": null,
            "overflow_x": null,
            "grid_auto_flow": null,
            "grid_area": null,
            "grid_template_columns": null,
            "flex": null,
            "_model_name": "LayoutModel",
            "justify_items": null,
            "grid_row": null,
            "max_height": null,
            "align_content": null,
            "visibility": null,
            "align_self": null,
            "height": null,
            "min_height": null,
            "padding": null,
            "grid_auto_rows": null,
            "grid_gap": null,
            "max_width": null,
            "order": null,
            "_view_module_version": "1.2.0",
            "grid_template_areas": null,
            "object_position": null,
            "object_fit": null,
            "grid_auto_columns": null,
            "margin": null,
            "display": null,
            "left": null
          }
        },
        "7fcd71495ea34ba29bc3d6e52956729f": {
          "model_module": "@jupyter-widgets/controls",
          "model_name": "HTMLModel",
          "state": {
            "_view_name": "HTMLView",
            "style": "IPY_MODEL_e148544554ea4604916b533262867d58",
            "_dom_classes": [],
            "description": "",
            "_model_name": "HTMLModel",
            "placeholder": "​",
            "_view_module": "@jupyter-widgets/controls",
            "_model_module_version": "1.5.0",
            "value": "Downloading: 100%",
            "_view_count": null,
            "_view_module_version": "1.5.0",
            "description_tooltip": null,
            "_model_module": "@jupyter-widgets/controls",
            "layout": "IPY_MODEL_0c7da0661b0f4098ae9015e2c8873c8e"
          }
        },
        "487c83d706a944a295e42bf75d627f9b": {
          "model_module": "@jupyter-widgets/controls",
          "model_name": "FloatProgressModel",
          "state": {
            "_view_name": "ProgressView",
            "style": "IPY_MODEL_5bdcc14cbf144955a23524542fc8ccf2",
            "_dom_classes": [],
            "description": "",
            "_model_name": "FloatProgressModel",
            "bar_style": "success",
            "max": 231508,
            "_view_module": "@jupyter-widgets/controls",
            "_model_module_version": "1.5.0",
            "value": 231508,
            "_view_count": null,
            "_view_module_version": "1.5.0",
            "orientation": "horizontal",
            "min": 0,
            "description_tooltip": null,
            "_model_module": "@jupyter-widgets/controls",
            "layout": "IPY_MODEL_1c99a91c544147f79c8986f87ea2d977"
          }
        },
        "a8c86c4d80f043a497250e0c825e1dbd": {
          "model_module": "@jupyter-widgets/controls",
          "model_name": "HTMLModel",
          "state": {
            "_view_name": "HTMLView",
            "style": "IPY_MODEL_bb54fbf027f545c29c42dbe719896f8a",
            "_dom_classes": [],
            "description": "",
            "_model_name": "HTMLModel",
            "placeholder": "​",
            "_view_module": "@jupyter-widgets/controls",
            "_model_module_version": "1.5.0",
            "value": " 232k/232k [00:00&lt;00:00, 1.55MB/s]",
            "_view_count": null,
            "_view_module_version": "1.5.0",
            "description_tooltip": null,
            "_model_module": "@jupyter-widgets/controls",
            "layout": "IPY_MODEL_ac8738cacf2b4faa9b6351914a9f1e8b"
          }
        },
        "e148544554ea4604916b533262867d58": {
          "model_module": "@jupyter-widgets/controls",
          "model_name": "DescriptionStyleModel",
          "state": {
            "_view_name": "StyleView",
            "_model_name": "DescriptionStyleModel",
            "description_width": "",
            "_view_module": "@jupyter-widgets/base",
            "_model_module_version": "1.5.0",
            "_view_count": null,
            "_view_module_version": "1.2.0",
            "_model_module": "@jupyter-widgets/controls"
          }
        },
        "0c7da0661b0f4098ae9015e2c8873c8e": {
          "model_module": "@jupyter-widgets/base",
          "model_name": "LayoutModel",
          "state": {
            "_view_name": "LayoutView",
            "grid_template_rows": null,
            "right": null,
            "justify_content": null,
            "_view_module": "@jupyter-widgets/base",
            "overflow": null,
            "_model_module_version": "1.2.0",
            "_view_count": null,
            "flex_flow": null,
            "width": null,
            "min_width": null,
            "border": null,
            "align_items": null,
            "bottom": null,
            "_model_module": "@jupyter-widgets/base",
            "top": null,
            "grid_column": null,
            "overflow_y": null,
            "overflow_x": null,
            "grid_auto_flow": null,
            "grid_area": null,
            "grid_template_columns": null,
            "flex": null,
            "_model_name": "LayoutModel",
            "justify_items": null,
            "grid_row": null,
            "max_height": null,
            "align_content": null,
            "visibility": null,
            "align_self": null,
            "height": null,
            "min_height": null,
            "padding": null,
            "grid_auto_rows": null,
            "grid_gap": null,
            "max_width": null,
            "order": null,
            "_view_module_version": "1.2.0",
            "grid_template_areas": null,
            "object_position": null,
            "object_fit": null,
            "grid_auto_columns": null,
            "margin": null,
            "display": null,
            "left": null
          }
        },
        "5bdcc14cbf144955a23524542fc8ccf2": {
          "model_module": "@jupyter-widgets/controls",
          "model_name": "ProgressStyleModel",
          "state": {
            "_view_name": "StyleView",
            "_model_name": "ProgressStyleModel",
            "description_width": "",
            "_view_module": "@jupyter-widgets/base",
            "_model_module_version": "1.5.0",
            "_view_count": null,
            "_view_module_version": "1.2.0",
            "bar_color": null,
            "_model_module": "@jupyter-widgets/controls"
          }
        },
        "1c99a91c544147f79c8986f87ea2d977": {
          "model_module": "@jupyter-widgets/base",
          "model_name": "LayoutModel",
          "state": {
            "_view_name": "LayoutView",
            "grid_template_rows": null,
            "right": null,
            "justify_content": null,
            "_view_module": "@jupyter-widgets/base",
            "overflow": null,
            "_model_module_version": "1.2.0",
            "_view_count": null,
            "flex_flow": null,
            "width": null,
            "min_width": null,
            "border": null,
            "align_items": null,
            "bottom": null,
            "_model_module": "@jupyter-widgets/base",
            "top": null,
            "grid_column": null,
            "overflow_y": null,
            "overflow_x": null,
            "grid_auto_flow": null,
            "grid_area": null,
            "grid_template_columns": null,
            "flex": null,
            "_model_name": "LayoutModel",
            "justify_items": null,
            "grid_row": null,
            "max_height": null,
            "align_content": null,
            "visibility": null,
            "align_self": null,
            "height": null,
            "min_height": null,
            "padding": null,
            "grid_auto_rows": null,
            "grid_gap": null,
            "max_width": null,
            "order": null,
            "_view_module_version": "1.2.0",
            "grid_template_areas": null,
            "object_position": null,
            "object_fit": null,
            "grid_auto_columns": null,
            "margin": null,
            "display": null,
            "left": null
          }
        },
        "bb54fbf027f545c29c42dbe719896f8a": {
          "model_module": "@jupyter-widgets/controls",
          "model_name": "DescriptionStyleModel",
          "state": {
            "_view_name": "StyleView",
            "_model_name": "DescriptionStyleModel",
            "description_width": "",
            "_view_module": "@jupyter-widgets/base",
            "_model_module_version": "1.5.0",
            "_view_count": null,
            "_view_module_version": "1.2.0",
            "_model_module": "@jupyter-widgets/controls"
          }
        },
        "ac8738cacf2b4faa9b6351914a9f1e8b": {
          "model_module": "@jupyter-widgets/base",
          "model_name": "LayoutModel",
          "state": {
            "_view_name": "LayoutView",
            "grid_template_rows": null,
            "right": null,
            "justify_content": null,
            "_view_module": "@jupyter-widgets/base",
            "overflow": null,
            "_model_module_version": "1.2.0",
            "_view_count": null,
            "flex_flow": null,
            "width": null,
            "min_width": null,
            "border": null,
            "align_items": null,
            "bottom": null,
            "_model_module": "@jupyter-widgets/base",
            "top": null,
            "grid_column": null,
            "overflow_y": null,
            "overflow_x": null,
            "grid_auto_flow": null,
            "grid_area": null,
            "grid_template_columns": null,
            "flex": null,
            "_model_name": "LayoutModel",
            "justify_items": null,
            "grid_row": null,
            "max_height": null,
            "align_content": null,
            "visibility": null,
            "align_self": null,
            "height": null,
            "min_height": null,
            "padding": null,
            "grid_auto_rows": null,
            "grid_gap": null,
            "max_width": null,
            "order": null,
            "_view_module_version": "1.2.0",
            "grid_template_areas": null,
            "object_position": null,
            "object_fit": null,
            "grid_auto_columns": null,
            "margin": null,
            "display": null,
            "left": null
          }
        },
        "7396a3023114462e8911c5dcb047540e": {
          "model_module": "@jupyter-widgets/controls",
          "model_name": "HBoxModel",
          "state": {
            "_view_name": "HBoxView",
            "_dom_classes": [],
            "_model_name": "HBoxModel",
            "_view_module": "@jupyter-widgets/controls",
            "_model_module_version": "1.5.0",
            "_view_count": null,
            "_view_module_version": "1.5.0",
            "box_style": "",
            "layout": "IPY_MODEL_080455c933a04727ab6f027a7f49a88c",
            "_model_module": "@jupyter-widgets/controls",
            "children": [
              "IPY_MODEL_6000831f056d4ad5a8202500e124a31f",
              "IPY_MODEL_8dddd6b343cc4cfb8498c738e4a9fee1",
              "IPY_MODEL_c712a7703fbf4cc982a1bb2d91d8f797"
            ]
          }
        },
        "080455c933a04727ab6f027a7f49a88c": {
          "model_module": "@jupyter-widgets/base",
          "model_name": "LayoutModel",
          "state": {
            "_view_name": "LayoutView",
            "grid_template_rows": null,
            "right": null,
            "justify_content": null,
            "_view_module": "@jupyter-widgets/base",
            "overflow": null,
            "_model_module_version": "1.2.0",
            "_view_count": null,
            "flex_flow": null,
            "width": null,
            "min_width": null,
            "border": null,
            "align_items": null,
            "bottom": null,
            "_model_module": "@jupyter-widgets/base",
            "top": null,
            "grid_column": null,
            "overflow_y": null,
            "overflow_x": null,
            "grid_auto_flow": null,
            "grid_area": null,
            "grid_template_columns": null,
            "flex": null,
            "_model_name": "LayoutModel",
            "justify_items": null,
            "grid_row": null,
            "max_height": null,
            "align_content": null,
            "visibility": null,
            "align_self": null,
            "height": null,
            "min_height": null,
            "padding": null,
            "grid_auto_rows": null,
            "grid_gap": null,
            "max_width": null,
            "order": null,
            "_view_module_version": "1.2.0",
            "grid_template_areas": null,
            "object_position": null,
            "object_fit": null,
            "grid_auto_columns": null,
            "margin": null,
            "display": null,
            "left": null
          }
        },
        "6000831f056d4ad5a8202500e124a31f": {
          "model_module": "@jupyter-widgets/controls",
          "model_name": "HTMLModel",
          "state": {
            "_view_name": "HTMLView",
            "style": "IPY_MODEL_9fe33b4bcb57468b83e3eff574b33787",
            "_dom_classes": [],
            "description": "",
            "_model_name": "HTMLModel",
            "placeholder": "​",
            "_view_module": "@jupyter-widgets/controls",
            "_model_module_version": "1.5.0",
            "value": "Downloading: 100%",
            "_view_count": null,
            "_view_module_version": "1.5.0",
            "description_tooltip": null,
            "_model_module": "@jupyter-widgets/controls",
            "layout": "IPY_MODEL_38f6002bc9494fd39a7a574368b506aa"
          }
        },
        "8dddd6b343cc4cfb8498c738e4a9fee1": {
          "model_module": "@jupyter-widgets/controls",
          "model_name": "FloatProgressModel",
          "state": {
            "_view_name": "ProgressView",
            "style": "IPY_MODEL_4244f8ac62b24995940d8dc83e9baabf",
            "_dom_classes": [],
            "description": "",
            "_model_name": "FloatProgressModel",
            "bar_style": "success",
            "max": 466062,
            "_view_module": "@jupyter-widgets/controls",
            "_model_module_version": "1.5.0",
            "value": 466062,
            "_view_count": null,
            "_view_module_version": "1.5.0",
            "orientation": "horizontal",
            "min": 0,
            "description_tooltip": null,
            "_model_module": "@jupyter-widgets/controls",
            "layout": "IPY_MODEL_7c965839d2104669be50d33a2dbdcfee"
          }
        },
        "c712a7703fbf4cc982a1bb2d91d8f797": {
          "model_module": "@jupyter-widgets/controls",
          "model_name": "HTMLModel",
          "state": {
            "_view_name": "HTMLView",
            "style": "IPY_MODEL_9efe1ea4fc574f2293248c0cf037ca75",
            "_dom_classes": [],
            "description": "",
            "_model_name": "HTMLModel",
            "placeholder": "​",
            "_view_module": "@jupyter-widgets/controls",
            "_model_module_version": "1.5.0",
            "value": " 466k/466k [00:00&lt;00:00, 1.59MB/s]",
            "_view_count": null,
            "_view_module_version": "1.5.0",
            "description_tooltip": null,
            "_model_module": "@jupyter-widgets/controls",
            "layout": "IPY_MODEL_40d3309349324fadbace7f3599330278"
          }
        },
        "9fe33b4bcb57468b83e3eff574b33787": {
          "model_module": "@jupyter-widgets/controls",
          "model_name": "DescriptionStyleModel",
          "state": {
            "_view_name": "StyleView",
            "_model_name": "DescriptionStyleModel",
            "description_width": "",
            "_view_module": "@jupyter-widgets/base",
            "_model_module_version": "1.5.0",
            "_view_count": null,
            "_view_module_version": "1.2.0",
            "_model_module": "@jupyter-widgets/controls"
          }
        },
        "38f6002bc9494fd39a7a574368b506aa": {
          "model_module": "@jupyter-widgets/base",
          "model_name": "LayoutModel",
          "state": {
            "_view_name": "LayoutView",
            "grid_template_rows": null,
            "right": null,
            "justify_content": null,
            "_view_module": "@jupyter-widgets/base",
            "overflow": null,
            "_model_module_version": "1.2.0",
            "_view_count": null,
            "flex_flow": null,
            "width": null,
            "min_width": null,
            "border": null,
            "align_items": null,
            "bottom": null,
            "_model_module": "@jupyter-widgets/base",
            "top": null,
            "grid_column": null,
            "overflow_y": null,
            "overflow_x": null,
            "grid_auto_flow": null,
            "grid_area": null,
            "grid_template_columns": null,
            "flex": null,
            "_model_name": "LayoutModel",
            "justify_items": null,
            "grid_row": null,
            "max_height": null,
            "align_content": null,
            "visibility": null,
            "align_self": null,
            "height": null,
            "min_height": null,
            "padding": null,
            "grid_auto_rows": null,
            "grid_gap": null,
            "max_width": null,
            "order": null,
            "_view_module_version": "1.2.0",
            "grid_template_areas": null,
            "object_position": null,
            "object_fit": null,
            "grid_auto_columns": null,
            "margin": null,
            "display": null,
            "left": null
          }
        },
        "4244f8ac62b24995940d8dc83e9baabf": {
          "model_module": "@jupyter-widgets/controls",
          "model_name": "ProgressStyleModel",
          "state": {
            "_view_name": "StyleView",
            "_model_name": "ProgressStyleModel",
            "description_width": "",
            "_view_module": "@jupyter-widgets/base",
            "_model_module_version": "1.5.0",
            "_view_count": null,
            "_view_module_version": "1.2.0",
            "bar_color": null,
            "_model_module": "@jupyter-widgets/controls"
          }
        },
        "7c965839d2104669be50d33a2dbdcfee": {
          "model_module": "@jupyter-widgets/base",
          "model_name": "LayoutModel",
          "state": {
            "_view_name": "LayoutView",
            "grid_template_rows": null,
            "right": null,
            "justify_content": null,
            "_view_module": "@jupyter-widgets/base",
            "overflow": null,
            "_model_module_version": "1.2.0",
            "_view_count": null,
            "flex_flow": null,
            "width": null,
            "min_width": null,
            "border": null,
            "align_items": null,
            "bottom": null,
            "_model_module": "@jupyter-widgets/base",
            "top": null,
            "grid_column": null,
            "overflow_y": null,
            "overflow_x": null,
            "grid_auto_flow": null,
            "grid_area": null,
            "grid_template_columns": null,
            "flex": null,
            "_model_name": "LayoutModel",
            "justify_items": null,
            "grid_row": null,
            "max_height": null,
            "align_content": null,
            "visibility": null,
            "align_self": null,
            "height": null,
            "min_height": null,
            "padding": null,
            "grid_auto_rows": null,
            "grid_gap": null,
            "max_width": null,
            "order": null,
            "_view_module_version": "1.2.0",
            "grid_template_areas": null,
            "object_position": null,
            "object_fit": null,
            "grid_auto_columns": null,
            "margin": null,
            "display": null,
            "left": null
          }
        },
        "9efe1ea4fc574f2293248c0cf037ca75": {
          "model_module": "@jupyter-widgets/controls",
          "model_name": "DescriptionStyleModel",
          "state": {
            "_view_name": "StyleView",
            "_model_name": "DescriptionStyleModel",
            "description_width": "",
            "_view_module": "@jupyter-widgets/base",
            "_model_module_version": "1.5.0",
            "_view_count": null,
            "_view_module_version": "1.2.0",
            "_model_module": "@jupyter-widgets/controls"
          }
        },
        "40d3309349324fadbace7f3599330278": {
          "model_module": "@jupyter-widgets/base",
          "model_name": "LayoutModel",
          "state": {
            "_view_name": "LayoutView",
            "grid_template_rows": null,
            "right": null,
            "justify_content": null,
            "_view_module": "@jupyter-widgets/base",
            "overflow": null,
            "_model_module_version": "1.2.0",
            "_view_count": null,
            "flex_flow": null,
            "width": null,
            "min_width": null,
            "border": null,
            "align_items": null,
            "bottom": null,
            "_model_module": "@jupyter-widgets/base",
            "top": null,
            "grid_column": null,
            "overflow_y": null,
            "overflow_x": null,
            "grid_auto_flow": null,
            "grid_area": null,
            "grid_template_columns": null,
            "flex": null,
            "_model_name": "LayoutModel",
            "justify_items": null,
            "grid_row": null,
            "max_height": null,
            "align_content": null,
            "visibility": null,
            "align_self": null,
            "height": null,
            "min_height": null,
            "padding": null,
            "grid_auto_rows": null,
            "grid_gap": null,
            "max_width": null,
            "order": null,
            "_view_module_version": "1.2.0",
            "grid_template_areas": null,
            "object_position": null,
            "object_fit": null,
            "grid_auto_columns": null,
            "margin": null,
            "display": null,
            "left": null
          }
        },
        "4c1927167ab948f5867ccff59b9b6aa5": {
          "model_module": "@jupyter-widgets/controls",
          "model_name": "HBoxModel",
          "state": {
            "_view_name": "HBoxView",
            "_dom_classes": [],
            "_model_name": "HBoxModel",
            "_view_module": "@jupyter-widgets/controls",
            "_model_module_version": "1.5.0",
            "_view_count": null,
            "_view_module_version": "1.5.0",
            "box_style": "",
            "layout": "IPY_MODEL_47d5e9cc946f4d2787524e523e3fe265",
            "_model_module": "@jupyter-widgets/controls",
            "children": [
              "IPY_MODEL_bdf7908060e04eb1b85e60b22b6f214d",
              "IPY_MODEL_ba5acf44851c49adb419614d8f9865a1",
              "IPY_MODEL_3a9a59cca02b4d2fa196867a93a3abc5"
            ]
          }
        },
        "47d5e9cc946f4d2787524e523e3fe265": {
          "model_module": "@jupyter-widgets/base",
          "model_name": "LayoutModel",
          "state": {
            "_view_name": "LayoutView",
            "grid_template_rows": null,
            "right": null,
            "justify_content": null,
            "_view_module": "@jupyter-widgets/base",
            "overflow": null,
            "_model_module_version": "1.2.0",
            "_view_count": null,
            "flex_flow": null,
            "width": null,
            "min_width": null,
            "border": null,
            "align_items": null,
            "bottom": null,
            "_model_module": "@jupyter-widgets/base",
            "top": null,
            "grid_column": null,
            "overflow_y": null,
            "overflow_x": null,
            "grid_auto_flow": null,
            "grid_area": null,
            "grid_template_columns": null,
            "flex": null,
            "_model_name": "LayoutModel",
            "justify_items": null,
            "grid_row": null,
            "max_height": null,
            "align_content": null,
            "visibility": null,
            "align_self": null,
            "height": null,
            "min_height": null,
            "padding": null,
            "grid_auto_rows": null,
            "grid_gap": null,
            "max_width": null,
            "order": null,
            "_view_module_version": "1.2.0",
            "grid_template_areas": null,
            "object_position": null,
            "object_fit": null,
            "grid_auto_columns": null,
            "margin": null,
            "display": null,
            "left": null
          }
        },
        "bdf7908060e04eb1b85e60b22b6f214d": {
          "model_module": "@jupyter-widgets/controls",
          "model_name": "HTMLModel",
          "state": {
            "_view_name": "HTMLView",
            "style": "IPY_MODEL_e8a9381c96c84f9abba7588013288c46",
            "_dom_classes": [],
            "description": "",
            "_model_name": "HTMLModel",
            "placeholder": "​",
            "_view_module": "@jupyter-widgets/controls",
            "_model_module_version": "1.5.0",
            "value": "100%",
            "_view_count": null,
            "_view_module_version": "1.5.0",
            "description_tooltip": null,
            "_model_module": "@jupyter-widgets/controls",
            "layout": "IPY_MODEL_da9dad7a54c549eb8cd59cd05165b246"
          }
        },
        "ba5acf44851c49adb419614d8f9865a1": {
          "model_module": "@jupyter-widgets/controls",
          "model_name": "FloatProgressModel",
          "state": {
            "_view_name": "ProgressView",
            "style": "IPY_MODEL_59c1fbc597584c00a8aaa439e37d688f",
            "_dom_classes": [],
            "description": "",
            "_model_name": "FloatProgressModel",
            "bar_style": "success",
            "max": 20,
            "_view_module": "@jupyter-widgets/controls",
            "_model_module_version": "1.5.0",
            "value": 20,
            "_view_count": null,
            "_view_module_version": "1.5.0",
            "orientation": "horizontal",
            "min": 0,
            "description_tooltip": null,
            "_model_module": "@jupyter-widgets/controls",
            "layout": "IPY_MODEL_2eb1d0cb40684d41b468f1cf857359f3"
          }
        },
        "3a9a59cca02b4d2fa196867a93a3abc5": {
          "model_module": "@jupyter-widgets/controls",
          "model_name": "HTMLModel",
          "state": {
            "_view_name": "HTMLView",
            "style": "IPY_MODEL_0e68cb4031a249feb78036f696a8eaa7",
            "_dom_classes": [],
            "description": "",
            "_model_name": "HTMLModel",
            "placeholder": "​",
            "_view_module": "@jupyter-widgets/controls",
            "_model_module_version": "1.5.0",
            "value": " 20/20 [00:06&lt;00:00,  3.23ba/s]",
            "_view_count": null,
            "_view_module_version": "1.5.0",
            "description_tooltip": null,
            "_model_module": "@jupyter-widgets/controls",
            "layout": "IPY_MODEL_666306f4cd01439a8cc8c77fcf505c79"
          }
        },
        "e8a9381c96c84f9abba7588013288c46": {
          "model_module": "@jupyter-widgets/controls",
          "model_name": "DescriptionStyleModel",
          "state": {
            "_view_name": "StyleView",
            "_model_name": "DescriptionStyleModel",
            "description_width": "",
            "_view_module": "@jupyter-widgets/base",
            "_model_module_version": "1.5.0",
            "_view_count": null,
            "_view_module_version": "1.2.0",
            "_model_module": "@jupyter-widgets/controls"
          }
        },
        "da9dad7a54c549eb8cd59cd05165b246": {
          "model_module": "@jupyter-widgets/base",
          "model_name": "LayoutModel",
          "state": {
            "_view_name": "LayoutView",
            "grid_template_rows": null,
            "right": null,
            "justify_content": null,
            "_view_module": "@jupyter-widgets/base",
            "overflow": null,
            "_model_module_version": "1.2.0",
            "_view_count": null,
            "flex_flow": null,
            "width": null,
            "min_width": null,
            "border": null,
            "align_items": null,
            "bottom": null,
            "_model_module": "@jupyter-widgets/base",
            "top": null,
            "grid_column": null,
            "overflow_y": null,
            "overflow_x": null,
            "grid_auto_flow": null,
            "grid_area": null,
            "grid_template_columns": null,
            "flex": null,
            "_model_name": "LayoutModel",
            "justify_items": null,
            "grid_row": null,
            "max_height": null,
            "align_content": null,
            "visibility": null,
            "align_self": null,
            "height": null,
            "min_height": null,
            "padding": null,
            "grid_auto_rows": null,
            "grid_gap": null,
            "max_width": null,
            "order": null,
            "_view_module_version": "1.2.0",
            "grid_template_areas": null,
            "object_position": null,
            "object_fit": null,
            "grid_auto_columns": null,
            "margin": null,
            "display": null,
            "left": null
          }
        },
        "59c1fbc597584c00a8aaa439e37d688f": {
          "model_module": "@jupyter-widgets/controls",
          "model_name": "ProgressStyleModel",
          "state": {
            "_view_name": "StyleView",
            "_model_name": "ProgressStyleModel",
            "description_width": "",
            "_view_module": "@jupyter-widgets/base",
            "_model_module_version": "1.5.0",
            "_view_count": null,
            "_view_module_version": "1.2.0",
            "bar_color": null,
            "_model_module": "@jupyter-widgets/controls"
          }
        },
        "2eb1d0cb40684d41b468f1cf857359f3": {
          "model_module": "@jupyter-widgets/base",
          "model_name": "LayoutModel",
          "state": {
            "_view_name": "LayoutView",
            "grid_template_rows": null,
            "right": null,
            "justify_content": null,
            "_view_module": "@jupyter-widgets/base",
            "overflow": null,
            "_model_module_version": "1.2.0",
            "_view_count": null,
            "flex_flow": null,
            "width": null,
            "min_width": null,
            "border": null,
            "align_items": null,
            "bottom": null,
            "_model_module": "@jupyter-widgets/base",
            "top": null,
            "grid_column": null,
            "overflow_y": null,
            "overflow_x": null,
            "grid_auto_flow": null,
            "grid_area": null,
            "grid_template_columns": null,
            "flex": null,
            "_model_name": "LayoutModel",
            "justify_items": null,
            "grid_row": null,
            "max_height": null,
            "align_content": null,
            "visibility": null,
            "align_self": null,
            "height": null,
            "min_height": null,
            "padding": null,
            "grid_auto_rows": null,
            "grid_gap": null,
            "max_width": null,
            "order": null,
            "_view_module_version": "1.2.0",
            "grid_template_areas": null,
            "object_position": null,
            "object_fit": null,
            "grid_auto_columns": null,
            "margin": null,
            "display": null,
            "left": null
          }
        },
        "0e68cb4031a249feb78036f696a8eaa7": {
          "model_module": "@jupyter-widgets/controls",
          "model_name": "DescriptionStyleModel",
          "state": {
            "_view_name": "StyleView",
            "_model_name": "DescriptionStyleModel",
            "description_width": "",
            "_view_module": "@jupyter-widgets/base",
            "_model_module_version": "1.5.0",
            "_view_count": null,
            "_view_module_version": "1.2.0",
            "_model_module": "@jupyter-widgets/controls"
          }
        },
        "666306f4cd01439a8cc8c77fcf505c79": {
          "model_module": "@jupyter-widgets/base",
          "model_name": "LayoutModel",
          "state": {
            "_view_name": "LayoutView",
            "grid_template_rows": null,
            "right": null,
            "justify_content": null,
            "_view_module": "@jupyter-widgets/base",
            "overflow": null,
            "_model_module_version": "1.2.0",
            "_view_count": null,
            "flex_flow": null,
            "width": null,
            "min_width": null,
            "border": null,
            "align_items": null,
            "bottom": null,
            "_model_module": "@jupyter-widgets/base",
            "top": null,
            "grid_column": null,
            "overflow_y": null,
            "overflow_x": null,
            "grid_auto_flow": null,
            "grid_area": null,
            "grid_template_columns": null,
            "flex": null,
            "_model_name": "LayoutModel",
            "justify_items": null,
            "grid_row": null,
            "max_height": null,
            "align_content": null,
            "visibility": null,
            "align_self": null,
            "height": null,
            "min_height": null,
            "padding": null,
            "grid_auto_rows": null,
            "grid_gap": null,
            "max_width": null,
            "order": null,
            "_view_module_version": "1.2.0",
            "grid_template_areas": null,
            "object_position": null,
            "object_fit": null,
            "grid_auto_columns": null,
            "margin": null,
            "display": null,
            "left": null
          }
        },
        "9f61b2532b5643d29db5e6ef83f00b78": {
          "model_module": "@jupyter-widgets/controls",
          "model_name": "HBoxModel",
          "state": {
            "_view_name": "HBoxView",
            "_dom_classes": [],
            "_model_name": "HBoxModel",
            "_view_module": "@jupyter-widgets/controls",
            "_model_module_version": "1.5.0",
            "_view_count": null,
            "_view_module_version": "1.5.0",
            "box_style": "",
            "layout": "IPY_MODEL_b10f1806e27d4d85818d8ed9556e5168",
            "_model_module": "@jupyter-widgets/controls",
            "children": [
              "IPY_MODEL_40aa25520c164542a01ba7754f2336fb",
              "IPY_MODEL_6851b5328d6d472aa2b33a91893b958f",
              "IPY_MODEL_cb09be7e089b41ada491201f7a8ec37c"
            ]
          }
        },
        "b10f1806e27d4d85818d8ed9556e5168": {
          "model_module": "@jupyter-widgets/base",
          "model_name": "LayoutModel",
          "state": {
            "_view_name": "LayoutView",
            "grid_template_rows": null,
            "right": null,
            "justify_content": null,
            "_view_module": "@jupyter-widgets/base",
            "overflow": null,
            "_model_module_version": "1.2.0",
            "_view_count": null,
            "flex_flow": null,
            "width": null,
            "min_width": null,
            "border": null,
            "align_items": null,
            "bottom": null,
            "_model_module": "@jupyter-widgets/base",
            "top": null,
            "grid_column": null,
            "overflow_y": null,
            "overflow_x": null,
            "grid_auto_flow": null,
            "grid_area": null,
            "grid_template_columns": null,
            "flex": null,
            "_model_name": "LayoutModel",
            "justify_items": null,
            "grid_row": null,
            "max_height": null,
            "align_content": null,
            "visibility": null,
            "align_self": null,
            "height": null,
            "min_height": null,
            "padding": null,
            "grid_auto_rows": null,
            "grid_gap": null,
            "max_width": null,
            "order": null,
            "_view_module_version": "1.2.0",
            "grid_template_areas": null,
            "object_position": null,
            "object_fit": null,
            "grid_auto_columns": null,
            "margin": null,
            "display": null,
            "left": null
          }
        },
        "40aa25520c164542a01ba7754f2336fb": {
          "model_module": "@jupyter-widgets/controls",
          "model_name": "HTMLModel",
          "state": {
            "_view_name": "HTMLView",
            "style": "IPY_MODEL_a1fc88ff5c56415893a36521ac9ecd35",
            "_dom_classes": [],
            "description": "",
            "_model_name": "HTMLModel",
            "placeholder": "​",
            "_view_module": "@jupyter-widgets/controls",
            "_model_module_version": "1.5.0",
            "value": "100%",
            "_view_count": null,
            "_view_module_version": "1.5.0",
            "description_tooltip": null,
            "_model_module": "@jupyter-widgets/controls",
            "layout": "IPY_MODEL_043f82db0d5f4d7e97fddd2b935db8c0"
          }
        },
        "6851b5328d6d472aa2b33a91893b958f": {
          "model_module": "@jupyter-widgets/controls",
          "model_name": "FloatProgressModel",
          "state": {
            "_view_name": "ProgressView",
            "style": "IPY_MODEL_f7b4e4bda6f4451dbef491865599a4ce",
            "_dom_classes": [],
            "description": "",
            "_model_name": "FloatProgressModel",
            "bar_style": "success",
            "max": 17,
            "_view_module": "@jupyter-widgets/controls",
            "_model_module_version": "1.5.0",
            "value": 17,
            "_view_count": null,
            "_view_module_version": "1.5.0",
            "orientation": "horizontal",
            "min": 0,
            "description_tooltip": null,
            "_model_module": "@jupyter-widgets/controls",
            "layout": "IPY_MODEL_8e97bd93ed90485d912f8903311c9b16"
          }
        },
        "cb09be7e089b41ada491201f7a8ec37c": {
          "model_module": "@jupyter-widgets/controls",
          "model_name": "HTMLModel",
          "state": {
            "_view_name": "HTMLView",
            "style": "IPY_MODEL_5795fa7cf6ad48c892914dd3482cfb66",
            "_dom_classes": [],
            "description": "",
            "_model_name": "HTMLModel",
            "placeholder": "​",
            "_view_module": "@jupyter-widgets/controls",
            "_model_module_version": "1.5.0",
            "value": " 17/17 [00:04&lt;00:00,  3.83ba/s]",
            "_view_count": null,
            "_view_module_version": "1.5.0",
            "description_tooltip": null,
            "_model_module": "@jupyter-widgets/controls",
            "layout": "IPY_MODEL_e9e17b63f6734d9698154f7d4250f662"
          }
        },
        "a1fc88ff5c56415893a36521ac9ecd35": {
          "model_module": "@jupyter-widgets/controls",
          "model_name": "DescriptionStyleModel",
          "state": {
            "_view_name": "StyleView",
            "_model_name": "DescriptionStyleModel",
            "description_width": "",
            "_view_module": "@jupyter-widgets/base",
            "_model_module_version": "1.5.0",
            "_view_count": null,
            "_view_module_version": "1.2.0",
            "_model_module": "@jupyter-widgets/controls"
          }
        },
        "043f82db0d5f4d7e97fddd2b935db8c0": {
          "model_module": "@jupyter-widgets/base",
          "model_name": "LayoutModel",
          "state": {
            "_view_name": "LayoutView",
            "grid_template_rows": null,
            "right": null,
            "justify_content": null,
            "_view_module": "@jupyter-widgets/base",
            "overflow": null,
            "_model_module_version": "1.2.0",
            "_view_count": null,
            "flex_flow": null,
            "width": null,
            "min_width": null,
            "border": null,
            "align_items": null,
            "bottom": null,
            "_model_module": "@jupyter-widgets/base",
            "top": null,
            "grid_column": null,
            "overflow_y": null,
            "overflow_x": null,
            "grid_auto_flow": null,
            "grid_area": null,
            "grid_template_columns": null,
            "flex": null,
            "_model_name": "LayoutModel",
            "justify_items": null,
            "grid_row": null,
            "max_height": null,
            "align_content": null,
            "visibility": null,
            "align_self": null,
            "height": null,
            "min_height": null,
            "padding": null,
            "grid_auto_rows": null,
            "grid_gap": null,
            "max_width": null,
            "order": null,
            "_view_module_version": "1.2.0",
            "grid_template_areas": null,
            "object_position": null,
            "object_fit": null,
            "grid_auto_columns": null,
            "margin": null,
            "display": null,
            "left": null
          }
        },
        "f7b4e4bda6f4451dbef491865599a4ce": {
          "model_module": "@jupyter-widgets/controls",
          "model_name": "ProgressStyleModel",
          "state": {
            "_view_name": "StyleView",
            "_model_name": "ProgressStyleModel",
            "description_width": "",
            "_view_module": "@jupyter-widgets/base",
            "_model_module_version": "1.5.0",
            "_view_count": null,
            "_view_module_version": "1.2.0",
            "bar_color": null,
            "_model_module": "@jupyter-widgets/controls"
          }
        },
        "8e97bd93ed90485d912f8903311c9b16": {
          "model_module": "@jupyter-widgets/base",
          "model_name": "LayoutModel",
          "state": {
            "_view_name": "LayoutView",
            "grid_template_rows": null,
            "right": null,
            "justify_content": null,
            "_view_module": "@jupyter-widgets/base",
            "overflow": null,
            "_model_module_version": "1.2.0",
            "_view_count": null,
            "flex_flow": null,
            "width": null,
            "min_width": null,
            "border": null,
            "align_items": null,
            "bottom": null,
            "_model_module": "@jupyter-widgets/base",
            "top": null,
            "grid_column": null,
            "overflow_y": null,
            "overflow_x": null,
            "grid_auto_flow": null,
            "grid_area": null,
            "grid_template_columns": null,
            "flex": null,
            "_model_name": "LayoutModel",
            "justify_items": null,
            "grid_row": null,
            "max_height": null,
            "align_content": null,
            "visibility": null,
            "align_self": null,
            "height": null,
            "min_height": null,
            "padding": null,
            "grid_auto_rows": null,
            "grid_gap": null,
            "max_width": null,
            "order": null,
            "_view_module_version": "1.2.0",
            "grid_template_areas": null,
            "object_position": null,
            "object_fit": null,
            "grid_auto_columns": null,
            "margin": null,
            "display": null,
            "left": null
          }
        },
        "5795fa7cf6ad48c892914dd3482cfb66": {
          "model_module": "@jupyter-widgets/controls",
          "model_name": "DescriptionStyleModel",
          "state": {
            "_view_name": "StyleView",
            "_model_name": "DescriptionStyleModel",
            "description_width": "",
            "_view_module": "@jupyter-widgets/base",
            "_model_module_version": "1.5.0",
            "_view_count": null,
            "_view_module_version": "1.2.0",
            "_model_module": "@jupyter-widgets/controls"
          }
        },
        "e9e17b63f6734d9698154f7d4250f662": {
          "model_module": "@jupyter-widgets/base",
          "model_name": "LayoutModel",
          "state": {
            "_view_name": "LayoutView",
            "grid_template_rows": null,
            "right": null,
            "justify_content": null,
            "_view_module": "@jupyter-widgets/base",
            "overflow": null,
            "_model_module_version": "1.2.0",
            "_view_count": null,
            "flex_flow": null,
            "width": null,
            "min_width": null,
            "border": null,
            "align_items": null,
            "bottom": null,
            "_model_module": "@jupyter-widgets/base",
            "top": null,
            "grid_column": null,
            "overflow_y": null,
            "overflow_x": null,
            "grid_auto_flow": null,
            "grid_area": null,
            "grid_template_columns": null,
            "flex": null,
            "_model_name": "LayoutModel",
            "justify_items": null,
            "grid_row": null,
            "max_height": null,
            "align_content": null,
            "visibility": null,
            "align_self": null,
            "height": null,
            "min_height": null,
            "padding": null,
            "grid_auto_rows": null,
            "grid_gap": null,
            "max_width": null,
            "order": null,
            "_view_module_version": "1.2.0",
            "grid_template_areas": null,
            "object_position": null,
            "object_fit": null,
            "grid_auto_columns": null,
            "margin": null,
            "display": null,
            "left": null
          }
        },
        "7699b0b728e849caafd5b887dcebbd72": {
          "model_module": "@jupyter-widgets/controls",
          "model_name": "HBoxModel",
          "state": {
            "_view_name": "HBoxView",
            "_dom_classes": [],
            "_model_name": "HBoxModel",
            "_view_module": "@jupyter-widgets/controls",
            "_model_module_version": "1.5.0",
            "_view_count": null,
            "_view_module_version": "1.5.0",
            "box_style": "",
            "layout": "IPY_MODEL_8b8c5eaf20444b3892a4d33a2842ffc4",
            "_model_module": "@jupyter-widgets/controls",
            "children": [
              "IPY_MODEL_22649a803b99408c88bafa629008c28a",
              "IPY_MODEL_0e4a63fa1ed54e329ecc0fd82b3117ed",
              "IPY_MODEL_f2019d7c95b74de2b978ff92c4e56d6c"
            ]
          }
        },
        "8b8c5eaf20444b3892a4d33a2842ffc4": {
          "model_module": "@jupyter-widgets/base",
          "model_name": "LayoutModel",
          "state": {
            "_view_name": "LayoutView",
            "grid_template_rows": null,
            "right": null,
            "justify_content": null,
            "_view_module": "@jupyter-widgets/base",
            "overflow": null,
            "_model_module_version": "1.2.0",
            "_view_count": null,
            "flex_flow": null,
            "width": null,
            "min_width": null,
            "border": null,
            "align_items": null,
            "bottom": null,
            "_model_module": "@jupyter-widgets/base",
            "top": null,
            "grid_column": null,
            "overflow_y": null,
            "overflow_x": null,
            "grid_auto_flow": null,
            "grid_area": null,
            "grid_template_columns": null,
            "flex": null,
            "_model_name": "LayoutModel",
            "justify_items": null,
            "grid_row": null,
            "max_height": null,
            "align_content": null,
            "visibility": null,
            "align_self": null,
            "height": null,
            "min_height": null,
            "padding": null,
            "grid_auto_rows": null,
            "grid_gap": null,
            "max_width": null,
            "order": null,
            "_view_module_version": "1.2.0",
            "grid_template_areas": null,
            "object_position": null,
            "object_fit": null,
            "grid_auto_columns": null,
            "margin": null,
            "display": null,
            "left": null
          }
        },
        "22649a803b99408c88bafa629008c28a": {
          "model_module": "@jupyter-widgets/controls",
          "model_name": "HTMLModel",
          "state": {
            "_view_name": "HTMLView",
            "style": "IPY_MODEL_32f046f4062746688c4fcecd4450d762",
            "_dom_classes": [],
            "description": "",
            "_model_name": "HTMLModel",
            "placeholder": "​",
            "_view_module": "@jupyter-widgets/controls",
            "_model_module_version": "1.5.0",
            "value": "Downloading: 100%",
            "_view_count": null,
            "_view_module_version": "1.5.0",
            "description_tooltip": null,
            "_model_module": "@jupyter-widgets/controls",
            "layout": "IPY_MODEL_8d64663f0119475e9f91c00cf6bd661e"
          }
        },
        "0e4a63fa1ed54e329ecc0fd82b3117ed": {
          "model_module": "@jupyter-widgets/controls",
          "model_name": "FloatProgressModel",
          "state": {
            "_view_name": "ProgressView",
            "style": "IPY_MODEL_b76ca862549d48c6ac3412a22bc72b44",
            "_dom_classes": [],
            "description": "",
            "_model_name": "FloatProgressModel",
            "bar_style": "success",
            "max": 267967963,
            "_view_module": "@jupyter-widgets/controls",
            "_model_module_version": "1.5.0",
            "value": 267967963,
            "_view_count": null,
            "_view_module_version": "1.5.0",
            "orientation": "horizontal",
            "min": 0,
            "description_tooltip": null,
            "_model_module": "@jupyter-widgets/controls",
            "layout": "IPY_MODEL_c65bb99aef2f4ae3a4a8b26b9c3c4bda"
          }
        },
        "f2019d7c95b74de2b978ff92c4e56d6c": {
          "model_module": "@jupyter-widgets/controls",
          "model_name": "HTMLModel",
          "state": {
            "_view_name": "HTMLView",
            "style": "IPY_MODEL_1472d558ffc54bb7b34f19ced10a87b0",
            "_dom_classes": [],
            "description": "",
            "_model_name": "HTMLModel",
            "placeholder": "​",
            "_view_module": "@jupyter-widgets/controls",
            "_model_module_version": "1.5.0",
            "value": " 268M/268M [00:05&lt;00:00, 47.0MB/s]",
            "_view_count": null,
            "_view_module_version": "1.5.0",
            "description_tooltip": null,
            "_model_module": "@jupyter-widgets/controls",
            "layout": "IPY_MODEL_5716c932e2ec4c77811f35d586634417"
          }
        },
        "32f046f4062746688c4fcecd4450d762": {
          "model_module": "@jupyter-widgets/controls",
          "model_name": "DescriptionStyleModel",
          "state": {
            "_view_name": "StyleView",
            "_model_name": "DescriptionStyleModel",
            "description_width": "",
            "_view_module": "@jupyter-widgets/base",
            "_model_module_version": "1.5.0",
            "_view_count": null,
            "_view_module_version": "1.2.0",
            "_model_module": "@jupyter-widgets/controls"
          }
        },
        "8d64663f0119475e9f91c00cf6bd661e": {
          "model_module": "@jupyter-widgets/base",
          "model_name": "LayoutModel",
          "state": {
            "_view_name": "LayoutView",
            "grid_template_rows": null,
            "right": null,
            "justify_content": null,
            "_view_module": "@jupyter-widgets/base",
            "overflow": null,
            "_model_module_version": "1.2.0",
            "_view_count": null,
            "flex_flow": null,
            "width": null,
            "min_width": null,
            "border": null,
            "align_items": null,
            "bottom": null,
            "_model_module": "@jupyter-widgets/base",
            "top": null,
            "grid_column": null,
            "overflow_y": null,
            "overflow_x": null,
            "grid_auto_flow": null,
            "grid_area": null,
            "grid_template_columns": null,
            "flex": null,
            "_model_name": "LayoutModel",
            "justify_items": null,
            "grid_row": null,
            "max_height": null,
            "align_content": null,
            "visibility": null,
            "align_self": null,
            "height": null,
            "min_height": null,
            "padding": null,
            "grid_auto_rows": null,
            "grid_gap": null,
            "max_width": null,
            "order": null,
            "_view_module_version": "1.2.0",
            "grid_template_areas": null,
            "object_position": null,
            "object_fit": null,
            "grid_auto_columns": null,
            "margin": null,
            "display": null,
            "left": null
          }
        },
        "b76ca862549d48c6ac3412a22bc72b44": {
          "model_module": "@jupyter-widgets/controls",
          "model_name": "ProgressStyleModel",
          "state": {
            "_view_name": "StyleView",
            "_model_name": "ProgressStyleModel",
            "description_width": "",
            "_view_module": "@jupyter-widgets/base",
            "_model_module_version": "1.5.0",
            "_view_count": null,
            "_view_module_version": "1.2.0",
            "bar_color": null,
            "_model_module": "@jupyter-widgets/controls"
          }
        },
        "c65bb99aef2f4ae3a4a8b26b9c3c4bda": {
          "model_module": "@jupyter-widgets/base",
          "model_name": "LayoutModel",
          "state": {
            "_view_name": "LayoutView",
            "grid_template_rows": null,
            "right": null,
            "justify_content": null,
            "_view_module": "@jupyter-widgets/base",
            "overflow": null,
            "_model_module_version": "1.2.0",
            "_view_count": null,
            "flex_flow": null,
            "width": null,
            "min_width": null,
            "border": null,
            "align_items": null,
            "bottom": null,
            "_model_module": "@jupyter-widgets/base",
            "top": null,
            "grid_column": null,
            "overflow_y": null,
            "overflow_x": null,
            "grid_auto_flow": null,
            "grid_area": null,
            "grid_template_columns": null,
            "flex": null,
            "_model_name": "LayoutModel",
            "justify_items": null,
            "grid_row": null,
            "max_height": null,
            "align_content": null,
            "visibility": null,
            "align_self": null,
            "height": null,
            "min_height": null,
            "padding": null,
            "grid_auto_rows": null,
            "grid_gap": null,
            "max_width": null,
            "order": null,
            "_view_module_version": "1.2.0",
            "grid_template_areas": null,
            "object_position": null,
            "object_fit": null,
            "grid_auto_columns": null,
            "margin": null,
            "display": null,
            "left": null
          }
        },
        "1472d558ffc54bb7b34f19ced10a87b0": {
          "model_module": "@jupyter-widgets/controls",
          "model_name": "DescriptionStyleModel",
          "state": {
            "_view_name": "StyleView",
            "_model_name": "DescriptionStyleModel",
            "description_width": "",
            "_view_module": "@jupyter-widgets/base",
            "_model_module_version": "1.5.0",
            "_view_count": null,
            "_view_module_version": "1.2.0",
            "_model_module": "@jupyter-widgets/controls"
          }
        },
        "5716c932e2ec4c77811f35d586634417": {
          "model_module": "@jupyter-widgets/base",
          "model_name": "LayoutModel",
          "state": {
            "_view_name": "LayoutView",
            "grid_template_rows": null,
            "right": null,
            "justify_content": null,
            "_view_module": "@jupyter-widgets/base",
            "overflow": null,
            "_model_module_version": "1.2.0",
            "_view_count": null,
            "flex_flow": null,
            "width": null,
            "min_width": null,
            "border": null,
            "align_items": null,
            "bottom": null,
            "_model_module": "@jupyter-widgets/base",
            "top": null,
            "grid_column": null,
            "overflow_y": null,
            "overflow_x": null,
            "grid_auto_flow": null,
            "grid_area": null,
            "grid_template_columns": null,
            "flex": null,
            "_model_name": "LayoutModel",
            "justify_items": null,
            "grid_row": null,
            "max_height": null,
            "align_content": null,
            "visibility": null,
            "align_self": null,
            "height": null,
            "min_height": null,
            "padding": null,
            "grid_auto_rows": null,
            "grid_gap": null,
            "max_width": null,
            "order": null,
            "_view_module_version": "1.2.0",
            "grid_template_areas": null,
            "object_position": null,
            "object_fit": null,
            "grid_auto_columns": null,
            "margin": null,
            "display": null,
            "left": null
          }
        },
        "542a9aafde184fce8dce0cdb9d36364e": {
          "model_module": "@jupyter-widgets/controls",
          "model_name": "HBoxModel",
          "state": {
            "_view_name": "HBoxView",
            "_dom_classes": [],
            "_model_name": "HBoxModel",
            "_view_module": "@jupyter-widgets/controls",
            "_model_module_version": "1.5.0",
            "_view_count": null,
            "_view_module_version": "1.5.0",
            "box_style": "",
            "layout": "IPY_MODEL_3ecf4daa339840f098c5e8c8d1d9d8c9",
            "_model_module": "@jupyter-widgets/controls",
            "children": [
              "IPY_MODEL_5fdaa16d3aa140cda75e03a0083ce3dd",
              "IPY_MODEL_2522db2d7f654d8594d7a54d170cb639",
              "IPY_MODEL_86d0e14cf2754a03b2f0885800ebb660"
            ]
          }
        },
        "3ecf4daa339840f098c5e8c8d1d9d8c9": {
          "model_module": "@jupyter-widgets/base",
          "model_name": "LayoutModel",
          "state": {
            "_view_name": "LayoutView",
            "grid_template_rows": null,
            "right": null,
            "justify_content": null,
            "_view_module": "@jupyter-widgets/base",
            "overflow": null,
            "_model_module_version": "1.2.0",
            "_view_count": null,
            "flex_flow": null,
            "width": null,
            "min_width": null,
            "border": null,
            "align_items": null,
            "bottom": null,
            "_model_module": "@jupyter-widgets/base",
            "top": null,
            "grid_column": null,
            "overflow_y": null,
            "overflow_x": null,
            "grid_auto_flow": null,
            "grid_area": null,
            "grid_template_columns": null,
            "flex": null,
            "_model_name": "LayoutModel",
            "justify_items": null,
            "grid_row": null,
            "max_height": null,
            "align_content": null,
            "visibility": null,
            "align_self": null,
            "height": null,
            "min_height": null,
            "padding": null,
            "grid_auto_rows": null,
            "grid_gap": null,
            "max_width": null,
            "order": null,
            "_view_module_version": "1.2.0",
            "grid_template_areas": null,
            "object_position": null,
            "object_fit": null,
            "grid_auto_columns": null,
            "margin": null,
            "display": null,
            "left": null
          }
        },
        "5fdaa16d3aa140cda75e03a0083ce3dd": {
          "model_module": "@jupyter-widgets/controls",
          "model_name": "HTMLModel",
          "state": {
            "_view_name": "HTMLView",
            "style": "IPY_MODEL_d5ff0b07d6a0499d8556abab1efa3c11",
            "_dom_classes": [],
            "description": "",
            "_model_name": "HTMLModel",
            "placeholder": "​",
            "_view_module": "@jupyter-widgets/controls",
            "_model_module_version": "1.5.0",
            "value": "100%",
            "_view_count": null,
            "_view_module_version": "1.5.0",
            "description_tooltip": null,
            "_model_module": "@jupyter-widgets/controls",
            "layout": "IPY_MODEL_3561dd43aafb4cb9a5bcd361c9c6fb29"
          }
        },
        "2522db2d7f654d8594d7a54d170cb639": {
          "model_module": "@jupyter-widgets/controls",
          "model_name": "FloatProgressModel",
          "state": {
            "_view_name": "ProgressView",
            "style": "IPY_MODEL_b78944b31d734dd5a20a5acb124ff957",
            "_dom_classes": [],
            "description": "",
            "_model_name": "FloatProgressModel",
            "bar_style": "success",
            "max": 17,
            "_view_module": "@jupyter-widgets/controls",
            "_model_module_version": "1.5.0",
            "value": 17,
            "_view_count": null,
            "_view_module_version": "1.5.0",
            "orientation": "horizontal",
            "min": 0,
            "description_tooltip": null,
            "_model_module": "@jupyter-widgets/controls",
            "layout": "IPY_MODEL_faf38a94cd8849d8b88a855009f74696"
          }
        },
        "86d0e14cf2754a03b2f0885800ebb660": {
          "model_module": "@jupyter-widgets/controls",
          "model_name": "HTMLModel",
          "state": {
            "_view_name": "HTMLView",
            "style": "IPY_MODEL_7744d498a26b460eb180b191354f3d3d",
            "_dom_classes": [],
            "description": "",
            "_model_name": "HTMLModel",
            "placeholder": "​",
            "_view_module": "@jupyter-widgets/controls",
            "_model_module_version": "1.5.0",
            "value": " 17/17 [00:24&lt;00:00,  1.35s/ba]",
            "_view_count": null,
            "_view_module_version": "1.5.0",
            "description_tooltip": null,
            "_model_module": "@jupyter-widgets/controls",
            "layout": "IPY_MODEL_35c1d61c729040fcb548f9cd45b65de0"
          }
        },
        "d5ff0b07d6a0499d8556abab1efa3c11": {
          "model_module": "@jupyter-widgets/controls",
          "model_name": "DescriptionStyleModel",
          "state": {
            "_view_name": "StyleView",
            "_model_name": "DescriptionStyleModel",
            "description_width": "",
            "_view_module": "@jupyter-widgets/base",
            "_model_module_version": "1.5.0",
            "_view_count": null,
            "_view_module_version": "1.2.0",
            "_model_module": "@jupyter-widgets/controls"
          }
        },
        "3561dd43aafb4cb9a5bcd361c9c6fb29": {
          "model_module": "@jupyter-widgets/base",
          "model_name": "LayoutModel",
          "state": {
            "_view_name": "LayoutView",
            "grid_template_rows": null,
            "right": null,
            "justify_content": null,
            "_view_module": "@jupyter-widgets/base",
            "overflow": null,
            "_model_module_version": "1.2.0",
            "_view_count": null,
            "flex_flow": null,
            "width": null,
            "min_width": null,
            "border": null,
            "align_items": null,
            "bottom": null,
            "_model_module": "@jupyter-widgets/base",
            "top": null,
            "grid_column": null,
            "overflow_y": null,
            "overflow_x": null,
            "grid_auto_flow": null,
            "grid_area": null,
            "grid_template_columns": null,
            "flex": null,
            "_model_name": "LayoutModel",
            "justify_items": null,
            "grid_row": null,
            "max_height": null,
            "align_content": null,
            "visibility": null,
            "align_self": null,
            "height": null,
            "min_height": null,
            "padding": null,
            "grid_auto_rows": null,
            "grid_gap": null,
            "max_width": null,
            "order": null,
            "_view_module_version": "1.2.0",
            "grid_template_areas": null,
            "object_position": null,
            "object_fit": null,
            "grid_auto_columns": null,
            "margin": null,
            "display": null,
            "left": null
          }
        },
        "b78944b31d734dd5a20a5acb124ff957": {
          "model_module": "@jupyter-widgets/controls",
          "model_name": "ProgressStyleModel",
          "state": {
            "_view_name": "StyleView",
            "_model_name": "ProgressStyleModel",
            "description_width": "",
            "_view_module": "@jupyter-widgets/base",
            "_model_module_version": "1.5.0",
            "_view_count": null,
            "_view_module_version": "1.2.0",
            "bar_color": null,
            "_model_module": "@jupyter-widgets/controls"
          }
        },
        "faf38a94cd8849d8b88a855009f74696": {
          "model_module": "@jupyter-widgets/base",
          "model_name": "LayoutModel",
          "state": {
            "_view_name": "LayoutView",
            "grid_template_rows": null,
            "right": null,
            "justify_content": null,
            "_view_module": "@jupyter-widgets/base",
            "overflow": null,
            "_model_module_version": "1.2.0",
            "_view_count": null,
            "flex_flow": null,
            "width": null,
            "min_width": null,
            "border": null,
            "align_items": null,
            "bottom": null,
            "_model_module": "@jupyter-widgets/base",
            "top": null,
            "grid_column": null,
            "overflow_y": null,
            "overflow_x": null,
            "grid_auto_flow": null,
            "grid_area": null,
            "grid_template_columns": null,
            "flex": null,
            "_model_name": "LayoutModel",
            "justify_items": null,
            "grid_row": null,
            "max_height": null,
            "align_content": null,
            "visibility": null,
            "align_self": null,
            "height": null,
            "min_height": null,
            "padding": null,
            "grid_auto_rows": null,
            "grid_gap": null,
            "max_width": null,
            "order": null,
            "_view_module_version": "1.2.0",
            "grid_template_areas": null,
            "object_position": null,
            "object_fit": null,
            "grid_auto_columns": null,
            "margin": null,
            "display": null,
            "left": null
          }
        },
        "7744d498a26b460eb180b191354f3d3d": {
          "model_module": "@jupyter-widgets/controls",
          "model_name": "DescriptionStyleModel",
          "state": {
            "_view_name": "StyleView",
            "_model_name": "DescriptionStyleModel",
            "description_width": "",
            "_view_module": "@jupyter-widgets/base",
            "_model_module_version": "1.5.0",
            "_view_count": null,
            "_view_module_version": "1.2.0",
            "_model_module": "@jupyter-widgets/controls"
          }
        },
        "35c1d61c729040fcb548f9cd45b65de0": {
          "model_module": "@jupyter-widgets/base",
          "model_name": "LayoutModel",
          "state": {
            "_view_name": "LayoutView",
            "grid_template_rows": null,
            "right": null,
            "justify_content": null,
            "_view_module": "@jupyter-widgets/base",
            "overflow": null,
            "_model_module_version": "1.2.0",
            "_view_count": null,
            "flex_flow": null,
            "width": null,
            "min_width": null,
            "border": null,
            "align_items": null,
            "bottom": null,
            "_model_module": "@jupyter-widgets/base",
            "top": null,
            "grid_column": null,
            "overflow_y": null,
            "overflow_x": null,
            "grid_auto_flow": null,
            "grid_area": null,
            "grid_template_columns": null,
            "flex": null,
            "_model_name": "LayoutModel",
            "justify_items": null,
            "grid_row": null,
            "max_height": null,
            "align_content": null,
            "visibility": null,
            "align_self": null,
            "height": null,
            "min_height": null,
            "padding": null,
            "grid_auto_rows": null,
            "grid_gap": null,
            "max_width": null,
            "order": null,
            "_view_module_version": "1.2.0",
            "grid_template_areas": null,
            "object_position": null,
            "object_fit": null,
            "grid_auto_columns": null,
            "margin": null,
            "display": null,
            "left": null
          }
        },
        "4479ebd07b9541dcb5142100aff01cb7": {
          "model_module": "@jupyter-widgets/controls",
          "model_name": "HBoxModel",
          "state": {
            "_view_name": "HBoxView",
            "_dom_classes": [],
            "_model_name": "HBoxModel",
            "_view_module": "@jupyter-widgets/controls",
            "_model_module_version": "1.5.0",
            "_view_count": null,
            "_view_module_version": "1.5.0",
            "box_style": "",
            "layout": "IPY_MODEL_c3d1cb6264444d0fb9825292539e1bbe",
            "_model_module": "@jupyter-widgets/controls",
            "children": [
              "IPY_MODEL_aeb6c737796b4f5cadff5e586ba80435",
              "IPY_MODEL_14e5c1da47c546e988658310fad11c51",
              "IPY_MODEL_10e985eac7ef42948012ef59fbb073d0"
            ]
          }
        },
        "c3d1cb6264444d0fb9825292539e1bbe": {
          "model_module": "@jupyter-widgets/base",
          "model_name": "LayoutModel",
          "state": {
            "_view_name": "LayoutView",
            "grid_template_rows": null,
            "right": null,
            "justify_content": null,
            "_view_module": "@jupyter-widgets/base",
            "overflow": null,
            "_model_module_version": "1.2.0",
            "_view_count": null,
            "flex_flow": null,
            "width": null,
            "min_width": null,
            "border": null,
            "align_items": null,
            "bottom": null,
            "_model_module": "@jupyter-widgets/base",
            "top": null,
            "grid_column": null,
            "overflow_y": null,
            "overflow_x": null,
            "grid_auto_flow": null,
            "grid_area": null,
            "grid_template_columns": null,
            "flex": null,
            "_model_name": "LayoutModel",
            "justify_items": null,
            "grid_row": null,
            "max_height": null,
            "align_content": null,
            "visibility": null,
            "align_self": null,
            "height": null,
            "min_height": null,
            "padding": null,
            "grid_auto_rows": null,
            "grid_gap": null,
            "max_width": null,
            "order": null,
            "_view_module_version": "1.2.0",
            "grid_template_areas": null,
            "object_position": null,
            "object_fit": null,
            "grid_auto_columns": null,
            "margin": null,
            "display": null,
            "left": null
          }
        },
        "aeb6c737796b4f5cadff5e586ba80435": {
          "model_module": "@jupyter-widgets/controls",
          "model_name": "HTMLModel",
          "state": {
            "_view_name": "HTMLView",
            "style": "IPY_MODEL_ad62dbd2cd464357a21f681c36b0f24a",
            "_dom_classes": [],
            "description": "",
            "_model_name": "HTMLModel",
            "placeholder": "​",
            "_view_module": "@jupyter-widgets/controls",
            "_model_module_version": "1.5.0",
            "value": "100%",
            "_view_count": null,
            "_view_module_version": "1.5.0",
            "description_tooltip": null,
            "_model_module": "@jupyter-widgets/controls",
            "layout": "IPY_MODEL_8064212fe211462aa8610006e83b67a6"
          }
        },
        "14e5c1da47c546e988658310fad11c51": {
          "model_module": "@jupyter-widgets/controls",
          "model_name": "FloatProgressModel",
          "state": {
            "_view_name": "ProgressView",
            "style": "IPY_MODEL_24a92864ce3d4d2583c17041b4d159e2",
            "_dom_classes": [],
            "description": "",
            "_model_name": "FloatProgressModel",
            "bar_style": "success",
            "max": 16849,
            "_view_module": "@jupyter-widgets/controls",
            "_model_module_version": "1.5.0",
            "value": 16849,
            "_view_count": null,
            "_view_module_version": "1.5.0",
            "orientation": "horizontal",
            "min": 0,
            "description_tooltip": null,
            "_model_module": "@jupyter-widgets/controls",
            "layout": "IPY_MODEL_891c0e8ed19d418eb1179fa5166dc610"
          }
        },
        "10e985eac7ef42948012ef59fbb073d0": {
          "model_module": "@jupyter-widgets/controls",
          "model_name": "HTMLModel",
          "state": {
            "_view_name": "HTMLView",
            "style": "IPY_MODEL_47c5621a659b4ef891719b5f1b953fa4",
            "_dom_classes": [],
            "description": "",
            "_model_name": "HTMLModel",
            "placeholder": "​",
            "_view_module": "@jupyter-widgets/controls",
            "_model_module_version": "1.5.0",
            "value": " 16849/16849 [00:28&lt;00:00, 659.59it/s]",
            "_view_count": null,
            "_view_module_version": "1.5.0",
            "description_tooltip": null,
            "_model_module": "@jupyter-widgets/controls",
            "layout": "IPY_MODEL_1e49de10d8074e69b4471bdd8e265b83"
          }
        },
        "ad62dbd2cd464357a21f681c36b0f24a": {
          "model_module": "@jupyter-widgets/controls",
          "model_name": "DescriptionStyleModel",
          "state": {
            "_view_name": "StyleView",
            "_model_name": "DescriptionStyleModel",
            "description_width": "",
            "_view_module": "@jupyter-widgets/base",
            "_model_module_version": "1.5.0",
            "_view_count": null,
            "_view_module_version": "1.2.0",
            "_model_module": "@jupyter-widgets/controls"
          }
        },
        "8064212fe211462aa8610006e83b67a6": {
          "model_module": "@jupyter-widgets/base",
          "model_name": "LayoutModel",
          "state": {
            "_view_name": "LayoutView",
            "grid_template_rows": null,
            "right": null,
            "justify_content": null,
            "_view_module": "@jupyter-widgets/base",
            "overflow": null,
            "_model_module_version": "1.2.0",
            "_view_count": null,
            "flex_flow": null,
            "width": null,
            "min_width": null,
            "border": null,
            "align_items": null,
            "bottom": null,
            "_model_module": "@jupyter-widgets/base",
            "top": null,
            "grid_column": null,
            "overflow_y": null,
            "overflow_x": null,
            "grid_auto_flow": null,
            "grid_area": null,
            "grid_template_columns": null,
            "flex": null,
            "_model_name": "LayoutModel",
            "justify_items": null,
            "grid_row": null,
            "max_height": null,
            "align_content": null,
            "visibility": null,
            "align_self": null,
            "height": null,
            "min_height": null,
            "padding": null,
            "grid_auto_rows": null,
            "grid_gap": null,
            "max_width": null,
            "order": null,
            "_view_module_version": "1.2.0",
            "grid_template_areas": null,
            "object_position": null,
            "object_fit": null,
            "grid_auto_columns": null,
            "margin": null,
            "display": null,
            "left": null
          }
        },
        "24a92864ce3d4d2583c17041b4d159e2": {
          "model_module": "@jupyter-widgets/controls",
          "model_name": "ProgressStyleModel",
          "state": {
            "_view_name": "StyleView",
            "_model_name": "ProgressStyleModel",
            "description_width": "",
            "_view_module": "@jupyter-widgets/base",
            "_model_module_version": "1.5.0",
            "_view_count": null,
            "_view_module_version": "1.2.0",
            "bar_color": null,
            "_model_module": "@jupyter-widgets/controls"
          }
        },
        "891c0e8ed19d418eb1179fa5166dc610": {
          "model_module": "@jupyter-widgets/base",
          "model_name": "LayoutModel",
          "state": {
            "_view_name": "LayoutView",
            "grid_template_rows": null,
            "right": null,
            "justify_content": null,
            "_view_module": "@jupyter-widgets/base",
            "overflow": null,
            "_model_module_version": "1.2.0",
            "_view_count": null,
            "flex_flow": null,
            "width": null,
            "min_width": null,
            "border": null,
            "align_items": null,
            "bottom": null,
            "_model_module": "@jupyter-widgets/base",
            "top": null,
            "grid_column": null,
            "overflow_y": null,
            "overflow_x": null,
            "grid_auto_flow": null,
            "grid_area": null,
            "grid_template_columns": null,
            "flex": null,
            "_model_name": "LayoutModel",
            "justify_items": null,
            "grid_row": null,
            "max_height": null,
            "align_content": null,
            "visibility": null,
            "align_self": null,
            "height": null,
            "min_height": null,
            "padding": null,
            "grid_auto_rows": null,
            "grid_gap": null,
            "max_width": null,
            "order": null,
            "_view_module_version": "1.2.0",
            "grid_template_areas": null,
            "object_position": null,
            "object_fit": null,
            "grid_auto_columns": null,
            "margin": null,
            "display": null,
            "left": null
          }
        },
        "47c5621a659b4ef891719b5f1b953fa4": {
          "model_module": "@jupyter-widgets/controls",
          "model_name": "DescriptionStyleModel",
          "state": {
            "_view_name": "StyleView",
            "_model_name": "DescriptionStyleModel",
            "description_width": "",
            "_view_module": "@jupyter-widgets/base",
            "_model_module_version": "1.5.0",
            "_view_count": null,
            "_view_module_version": "1.2.0",
            "_model_module": "@jupyter-widgets/controls"
          }
        },
        "1e49de10d8074e69b4471bdd8e265b83": {
          "model_module": "@jupyter-widgets/base",
          "model_name": "LayoutModel",
          "state": {
            "_view_name": "LayoutView",
            "grid_template_rows": null,
            "right": null,
            "justify_content": null,
            "_view_module": "@jupyter-widgets/base",
            "overflow": null,
            "_model_module_version": "1.2.0",
            "_view_count": null,
            "flex_flow": null,
            "width": null,
            "min_width": null,
            "border": null,
            "align_items": null,
            "bottom": null,
            "_model_module": "@jupyter-widgets/base",
            "top": null,
            "grid_column": null,
            "overflow_y": null,
            "overflow_x": null,
            "grid_auto_flow": null,
            "grid_area": null,
            "grid_template_columns": null,
            "flex": null,
            "_model_name": "LayoutModel",
            "justify_items": null,
            "grid_row": null,
            "max_height": null,
            "align_content": null,
            "visibility": null,
            "align_self": null,
            "height": null,
            "min_height": null,
            "padding": null,
            "grid_auto_rows": null,
            "grid_gap": null,
            "max_width": null,
            "order": null,
            "_view_module_version": "1.2.0",
            "grid_template_areas": null,
            "object_position": null,
            "object_fit": null,
            "grid_auto_columns": null,
            "margin": null,
            "display": null,
            "left": null
          }
        },
        "481b36d803114316a5960a859f87ea05": {
          "model_module": "@jupyter-widgets/controls",
          "model_name": "HBoxModel",
          "state": {
            "_view_name": "HBoxView",
            "_dom_classes": [],
            "_model_name": "HBoxModel",
            "_view_module": "@jupyter-widgets/controls",
            "_model_module_version": "1.5.0",
            "_view_count": null,
            "_view_module_version": "1.5.0",
            "box_style": "",
            "layout": "IPY_MODEL_9a8e0818b1934ffd9c9ba1dd6341cf85",
            "_model_module": "@jupyter-widgets/controls",
            "children": [
              "IPY_MODEL_698ae2592d9f49a68f53d000f271c967",
              "IPY_MODEL_d67e582066ca4e0fa586b812f32f4125",
              "IPY_MODEL_52b69e1e31d2498f9ebd9077b0da100c"
            ]
          }
        },
        "9a8e0818b1934ffd9c9ba1dd6341cf85": {
          "model_module": "@jupyter-widgets/base",
          "model_name": "LayoutModel",
          "state": {
            "_view_name": "LayoutView",
            "grid_template_rows": null,
            "right": null,
            "justify_content": null,
            "_view_module": "@jupyter-widgets/base",
            "overflow": null,
            "_model_module_version": "1.2.0",
            "_view_count": null,
            "flex_flow": null,
            "width": null,
            "min_width": null,
            "border": null,
            "align_items": null,
            "bottom": null,
            "_model_module": "@jupyter-widgets/base",
            "top": null,
            "grid_column": null,
            "overflow_y": null,
            "overflow_x": null,
            "grid_auto_flow": null,
            "grid_area": null,
            "grid_template_columns": null,
            "flex": null,
            "_model_name": "LayoutModel",
            "justify_items": null,
            "grid_row": null,
            "max_height": null,
            "align_content": null,
            "visibility": null,
            "align_self": null,
            "height": null,
            "min_height": null,
            "padding": null,
            "grid_auto_rows": null,
            "grid_gap": null,
            "max_width": null,
            "order": null,
            "_view_module_version": "1.2.0",
            "grid_template_areas": null,
            "object_position": null,
            "object_fit": null,
            "grid_auto_columns": null,
            "margin": null,
            "display": null,
            "left": null
          }
        },
        "698ae2592d9f49a68f53d000f271c967": {
          "model_module": "@jupyter-widgets/controls",
          "model_name": "HTMLModel",
          "state": {
            "_view_name": "HTMLView",
            "style": "IPY_MODEL_9f86f1a58c674193ab4d628cd3119748",
            "_dom_classes": [],
            "description": "",
            "_model_name": "HTMLModel",
            "placeholder": "​",
            "_view_module": "@jupyter-widgets/controls",
            "_model_module_version": "1.5.0",
            "value": "100%",
            "_view_count": null,
            "_view_module_version": "1.5.0",
            "description_tooltip": null,
            "_model_module": "@jupyter-widgets/controls",
            "layout": "IPY_MODEL_c9e17d31ea374df999a1b8039416f699"
          }
        },
        "d67e582066ca4e0fa586b812f32f4125": {
          "model_module": "@jupyter-widgets/controls",
          "model_name": "FloatProgressModel",
          "state": {
            "_view_name": "ProgressView",
            "style": "IPY_MODEL_d9b28ef954ac4b1bab97d86bdb1b00a6",
            "_dom_classes": [],
            "description": "",
            "_model_name": "FloatProgressModel",
            "bar_style": "success",
            "max": 16849,
            "_view_module": "@jupyter-widgets/controls",
            "_model_module_version": "1.5.0",
            "value": 16849,
            "_view_count": null,
            "_view_module_version": "1.5.0",
            "orientation": "horizontal",
            "min": 0,
            "description_tooltip": null,
            "_model_module": "@jupyter-widgets/controls",
            "layout": "IPY_MODEL_a8ff84b1395a44b6bd5c93e1ed457123"
          }
        },
        "52b69e1e31d2498f9ebd9077b0da100c": {
          "model_module": "@jupyter-widgets/controls",
          "model_name": "HTMLModel",
          "state": {
            "_view_name": "HTMLView",
            "style": "IPY_MODEL_a3764505fae146a69dd942213cb00875",
            "_dom_classes": [],
            "description": "",
            "_model_name": "HTMLModel",
            "placeholder": "​",
            "_view_module": "@jupyter-widgets/controls",
            "_model_module_version": "1.5.0",
            "value": " 16849/16849 [00:26&lt;00:00, 643.48it/s]",
            "_view_count": null,
            "_view_module_version": "1.5.0",
            "description_tooltip": null,
            "_model_module": "@jupyter-widgets/controls",
            "layout": "IPY_MODEL_8403792c4765412e8248a5a88a359588"
          }
        },
        "9f86f1a58c674193ab4d628cd3119748": {
          "model_module": "@jupyter-widgets/controls",
          "model_name": "DescriptionStyleModel",
          "state": {
            "_view_name": "StyleView",
            "_model_name": "DescriptionStyleModel",
            "description_width": "",
            "_view_module": "@jupyter-widgets/base",
            "_model_module_version": "1.5.0",
            "_view_count": null,
            "_view_module_version": "1.2.0",
            "_model_module": "@jupyter-widgets/controls"
          }
        },
        "c9e17d31ea374df999a1b8039416f699": {
          "model_module": "@jupyter-widgets/base",
          "model_name": "LayoutModel",
          "state": {
            "_view_name": "LayoutView",
            "grid_template_rows": null,
            "right": null,
            "justify_content": null,
            "_view_module": "@jupyter-widgets/base",
            "overflow": null,
            "_model_module_version": "1.2.0",
            "_view_count": null,
            "flex_flow": null,
            "width": null,
            "min_width": null,
            "border": null,
            "align_items": null,
            "bottom": null,
            "_model_module": "@jupyter-widgets/base",
            "top": null,
            "grid_column": null,
            "overflow_y": null,
            "overflow_x": null,
            "grid_auto_flow": null,
            "grid_area": null,
            "grid_template_columns": null,
            "flex": null,
            "_model_name": "LayoutModel",
            "justify_items": null,
            "grid_row": null,
            "max_height": null,
            "align_content": null,
            "visibility": null,
            "align_self": null,
            "height": null,
            "min_height": null,
            "padding": null,
            "grid_auto_rows": null,
            "grid_gap": null,
            "max_width": null,
            "order": null,
            "_view_module_version": "1.2.0",
            "grid_template_areas": null,
            "object_position": null,
            "object_fit": null,
            "grid_auto_columns": null,
            "margin": null,
            "display": null,
            "left": null
          }
        },
        "d9b28ef954ac4b1bab97d86bdb1b00a6": {
          "model_module": "@jupyter-widgets/controls",
          "model_name": "ProgressStyleModel",
          "state": {
            "_view_name": "StyleView",
            "_model_name": "ProgressStyleModel",
            "description_width": "",
            "_view_module": "@jupyter-widgets/base",
            "_model_module_version": "1.5.0",
            "_view_count": null,
            "_view_module_version": "1.2.0",
            "bar_color": null,
            "_model_module": "@jupyter-widgets/controls"
          }
        },
        "a8ff84b1395a44b6bd5c93e1ed457123": {
          "model_module": "@jupyter-widgets/base",
          "model_name": "LayoutModel",
          "state": {
            "_view_name": "LayoutView",
            "grid_template_rows": null,
            "right": null,
            "justify_content": null,
            "_view_module": "@jupyter-widgets/base",
            "overflow": null,
            "_model_module_version": "1.2.0",
            "_view_count": null,
            "flex_flow": null,
            "width": null,
            "min_width": null,
            "border": null,
            "align_items": null,
            "bottom": null,
            "_model_module": "@jupyter-widgets/base",
            "top": null,
            "grid_column": null,
            "overflow_y": null,
            "overflow_x": null,
            "grid_auto_flow": null,
            "grid_area": null,
            "grid_template_columns": null,
            "flex": null,
            "_model_name": "LayoutModel",
            "justify_items": null,
            "grid_row": null,
            "max_height": null,
            "align_content": null,
            "visibility": null,
            "align_self": null,
            "height": null,
            "min_height": null,
            "padding": null,
            "grid_auto_rows": null,
            "grid_gap": null,
            "max_width": null,
            "order": null,
            "_view_module_version": "1.2.0",
            "grid_template_areas": null,
            "object_position": null,
            "object_fit": null,
            "grid_auto_columns": null,
            "margin": null,
            "display": null,
            "left": null
          }
        },
        "a3764505fae146a69dd942213cb00875": {
          "model_module": "@jupyter-widgets/controls",
          "model_name": "DescriptionStyleModel",
          "state": {
            "_view_name": "StyleView",
            "_model_name": "DescriptionStyleModel",
            "description_width": "",
            "_view_module": "@jupyter-widgets/base",
            "_model_module_version": "1.5.0",
            "_view_count": null,
            "_view_module_version": "1.2.0",
            "_model_module": "@jupyter-widgets/controls"
          }
        },
        "8403792c4765412e8248a5a88a359588": {
          "model_module": "@jupyter-widgets/base",
          "model_name": "LayoutModel",
          "state": {
            "_view_name": "LayoutView",
            "grid_template_rows": null,
            "right": null,
            "justify_content": null,
            "_view_module": "@jupyter-widgets/base",
            "overflow": null,
            "_model_module_version": "1.2.0",
            "_view_count": null,
            "flex_flow": null,
            "width": null,
            "min_width": null,
            "border": null,
            "align_items": null,
            "bottom": null,
            "_model_module": "@jupyter-widgets/base",
            "top": null,
            "grid_column": null,
            "overflow_y": null,
            "overflow_x": null,
            "grid_auto_flow": null,
            "grid_area": null,
            "grid_template_columns": null,
            "flex": null,
            "_model_name": "LayoutModel",
            "justify_items": null,
            "grid_row": null,
            "max_height": null,
            "align_content": null,
            "visibility": null,
            "align_self": null,
            "height": null,
            "min_height": null,
            "padding": null,
            "grid_auto_rows": null,
            "grid_gap": null,
            "max_width": null,
            "order": null,
            "_view_module_version": "1.2.0",
            "grid_template_areas": null,
            "object_position": null,
            "object_fit": null,
            "grid_auto_columns": null,
            "margin": null,
            "display": null,
            "left": null
          }
        },
        "493c0563fa1f49fc9fb3d2f2c508d7b9": {
          "model_module": "@jupyter-widgets/controls",
          "model_name": "HBoxModel",
          "state": {
            "_view_name": "HBoxView",
            "_dom_classes": [],
            "_model_name": "HBoxModel",
            "_view_module": "@jupyter-widgets/controls",
            "_model_module_version": "1.5.0",
            "_view_count": null,
            "_view_module_version": "1.5.0",
            "box_style": "",
            "layout": "IPY_MODEL_f77e4a21f7134480b55bdbff58f38e8c",
            "_model_module": "@jupyter-widgets/controls",
            "children": [
              "IPY_MODEL_f0917453e16b46a4869e7e827f9f2afa",
              "IPY_MODEL_7f327ec7249b445a8e7e281114467470",
              "IPY_MODEL_631b6eb4e01b468fb05f62963e298fed"
            ]
          }
        },
        "f77e4a21f7134480b55bdbff58f38e8c": {
          "model_module": "@jupyter-widgets/base",
          "model_name": "LayoutModel",
          "state": {
            "_view_name": "LayoutView",
            "grid_template_rows": null,
            "right": null,
            "justify_content": null,
            "_view_module": "@jupyter-widgets/base",
            "overflow": null,
            "_model_module_version": "1.2.0",
            "_view_count": null,
            "flex_flow": null,
            "width": null,
            "min_width": null,
            "border": null,
            "align_items": null,
            "bottom": null,
            "_model_module": "@jupyter-widgets/base",
            "top": null,
            "grid_column": null,
            "overflow_y": null,
            "overflow_x": null,
            "grid_auto_flow": null,
            "grid_area": null,
            "grid_template_columns": null,
            "flex": null,
            "_model_name": "LayoutModel",
            "justify_items": null,
            "grid_row": null,
            "max_height": null,
            "align_content": null,
            "visibility": null,
            "align_self": null,
            "height": null,
            "min_height": null,
            "padding": null,
            "grid_auto_rows": null,
            "grid_gap": null,
            "max_width": null,
            "order": null,
            "_view_module_version": "1.2.0",
            "grid_template_areas": null,
            "object_position": null,
            "object_fit": null,
            "grid_auto_columns": null,
            "margin": null,
            "display": null,
            "left": null
          }
        },
        "f0917453e16b46a4869e7e827f9f2afa": {
          "model_module": "@jupyter-widgets/controls",
          "model_name": "HTMLModel",
          "state": {
            "_view_name": "HTMLView",
            "style": "IPY_MODEL_9eb46f1b4831497590da91b254bd9df6",
            "_dom_classes": [],
            "description": "",
            "_model_name": "HTMLModel",
            "placeholder": "​",
            "_view_module": "@jupyter-widgets/controls",
            "_model_module_version": "1.5.0",
            "value": "Downloading: ",
            "_view_count": null,
            "_view_module_version": "1.5.0",
            "description_tooltip": null,
            "_model_module": "@jupyter-widgets/controls",
            "layout": "IPY_MODEL_315ce1ef1a2c4de984f0beaf449d6f48"
          }
        },
        "7f327ec7249b445a8e7e281114467470": {
          "model_module": "@jupyter-widgets/controls",
          "model_name": "FloatProgressModel",
          "state": {
            "_view_name": "ProgressView",
            "style": "IPY_MODEL_b285cdbbeb2a45d7ad686014c6c36c98",
            "_dom_classes": [],
            "description": "",
            "_model_name": "FloatProgressModel",
            "bar_style": "success",
            "max": 2264,
            "_view_module": "@jupyter-widgets/controls",
            "_model_module_version": "1.5.0",
            "value": 2264,
            "_view_count": null,
            "_view_module_version": "1.5.0",
            "orientation": "horizontal",
            "min": 0,
            "description_tooltip": null,
            "_model_module": "@jupyter-widgets/controls",
            "layout": "IPY_MODEL_91b505a4cb3d4c329dd369086e8b1b0d"
          }
        },
        "631b6eb4e01b468fb05f62963e298fed": {
          "model_module": "@jupyter-widgets/controls",
          "model_name": "HTMLModel",
          "state": {
            "_view_name": "HTMLView",
            "style": "IPY_MODEL_559850f6b48a4b2a94e9fc4bb78ec633",
            "_dom_classes": [],
            "description": "",
            "_model_name": "HTMLModel",
            "placeholder": "​",
            "_view_module": "@jupyter-widgets/controls",
            "_model_module_version": "1.5.0",
            "value": " 6.49k/? [00:00&lt;00:00, 185kB/s]",
            "_view_count": null,
            "_view_module_version": "1.5.0",
            "description_tooltip": null,
            "_model_module": "@jupyter-widgets/controls",
            "layout": "IPY_MODEL_6335ab47f1be41bdb60145244fc2829d"
          }
        },
        "9eb46f1b4831497590da91b254bd9df6": {
          "model_module": "@jupyter-widgets/controls",
          "model_name": "DescriptionStyleModel",
          "state": {
            "_view_name": "StyleView",
            "_model_name": "DescriptionStyleModel",
            "description_width": "",
            "_view_module": "@jupyter-widgets/base",
            "_model_module_version": "1.5.0",
            "_view_count": null,
            "_view_module_version": "1.2.0",
            "_model_module": "@jupyter-widgets/controls"
          }
        },
        "315ce1ef1a2c4de984f0beaf449d6f48": {
          "model_module": "@jupyter-widgets/base",
          "model_name": "LayoutModel",
          "state": {
            "_view_name": "LayoutView",
            "grid_template_rows": null,
            "right": null,
            "justify_content": null,
            "_view_module": "@jupyter-widgets/base",
            "overflow": null,
            "_model_module_version": "1.2.0",
            "_view_count": null,
            "flex_flow": null,
            "width": null,
            "min_width": null,
            "border": null,
            "align_items": null,
            "bottom": null,
            "_model_module": "@jupyter-widgets/base",
            "top": null,
            "grid_column": null,
            "overflow_y": null,
            "overflow_x": null,
            "grid_auto_flow": null,
            "grid_area": null,
            "grid_template_columns": null,
            "flex": null,
            "_model_name": "LayoutModel",
            "justify_items": null,
            "grid_row": null,
            "max_height": null,
            "align_content": null,
            "visibility": null,
            "align_self": null,
            "height": null,
            "min_height": null,
            "padding": null,
            "grid_auto_rows": null,
            "grid_gap": null,
            "max_width": null,
            "order": null,
            "_view_module_version": "1.2.0",
            "grid_template_areas": null,
            "object_position": null,
            "object_fit": null,
            "grid_auto_columns": null,
            "margin": null,
            "display": null,
            "left": null
          }
        },
        "b285cdbbeb2a45d7ad686014c6c36c98": {
          "model_module": "@jupyter-widgets/controls",
          "model_name": "ProgressStyleModel",
          "state": {
            "_view_name": "StyleView",
            "_model_name": "ProgressStyleModel",
            "description_width": "",
            "_view_module": "@jupyter-widgets/base",
            "_model_module_version": "1.5.0",
            "_view_count": null,
            "_view_module_version": "1.2.0",
            "bar_color": null,
            "_model_module": "@jupyter-widgets/controls"
          }
        },
        "91b505a4cb3d4c329dd369086e8b1b0d": {
          "model_module": "@jupyter-widgets/base",
          "model_name": "LayoutModel",
          "state": {
            "_view_name": "LayoutView",
            "grid_template_rows": null,
            "right": null,
            "justify_content": null,
            "_view_module": "@jupyter-widgets/base",
            "overflow": null,
            "_model_module_version": "1.2.0",
            "_view_count": null,
            "flex_flow": null,
            "width": null,
            "min_width": null,
            "border": null,
            "align_items": null,
            "bottom": null,
            "_model_module": "@jupyter-widgets/base",
            "top": null,
            "grid_column": null,
            "overflow_y": null,
            "overflow_x": null,
            "grid_auto_flow": null,
            "grid_area": null,
            "grid_template_columns": null,
            "flex": null,
            "_model_name": "LayoutModel",
            "justify_items": null,
            "grid_row": null,
            "max_height": null,
            "align_content": null,
            "visibility": null,
            "align_self": null,
            "height": null,
            "min_height": null,
            "padding": null,
            "grid_auto_rows": null,
            "grid_gap": null,
            "max_width": null,
            "order": null,
            "_view_module_version": "1.2.0",
            "grid_template_areas": null,
            "object_position": null,
            "object_fit": null,
            "grid_auto_columns": null,
            "margin": null,
            "display": null,
            "left": null
          }
        },
        "559850f6b48a4b2a94e9fc4bb78ec633": {
          "model_module": "@jupyter-widgets/controls",
          "model_name": "DescriptionStyleModel",
          "state": {
            "_view_name": "StyleView",
            "_model_name": "DescriptionStyleModel",
            "description_width": "",
            "_view_module": "@jupyter-widgets/base",
            "_model_module_version": "1.5.0",
            "_view_count": null,
            "_view_module_version": "1.2.0",
            "_model_module": "@jupyter-widgets/controls"
          }
        },
        "6335ab47f1be41bdb60145244fc2829d": {
          "model_module": "@jupyter-widgets/base",
          "model_name": "LayoutModel",
          "state": {
            "_view_name": "LayoutView",
            "grid_template_rows": null,
            "right": null,
            "justify_content": null,
            "_view_module": "@jupyter-widgets/base",
            "overflow": null,
            "_model_module_version": "1.2.0",
            "_view_count": null,
            "flex_flow": null,
            "width": null,
            "min_width": null,
            "border": null,
            "align_items": null,
            "bottom": null,
            "_model_module": "@jupyter-widgets/base",
            "top": null,
            "grid_column": null,
            "overflow_y": null,
            "overflow_x": null,
            "grid_auto_flow": null,
            "grid_area": null,
            "grid_template_columns": null,
            "flex": null,
            "_model_name": "LayoutModel",
            "justify_items": null,
            "grid_row": null,
            "max_height": null,
            "align_content": null,
            "visibility": null,
            "align_self": null,
            "height": null,
            "min_height": null,
            "padding": null,
            "grid_auto_rows": null,
            "grid_gap": null,
            "max_width": null,
            "order": null,
            "_view_module_version": "1.2.0",
            "grid_template_areas": null,
            "object_position": null,
            "object_fit": null,
            "grid_auto_columns": null,
            "margin": null,
            "display": null,
            "left": null
          }
        },
        "717cc88c1d9742608d23f99da8c317c6": {
          "model_module": "@jupyter-widgets/controls",
          "model_name": "HBoxModel",
          "state": {
            "_view_name": "HBoxView",
            "_dom_classes": [],
            "_model_name": "HBoxModel",
            "_view_module": "@jupyter-widgets/controls",
            "_model_module_version": "1.5.0",
            "_view_count": null,
            "_view_module_version": "1.5.0",
            "box_style": "",
            "layout": "IPY_MODEL_31d54770186d48bda66884bd401e6202",
            "_model_module": "@jupyter-widgets/controls",
            "children": [
              "IPY_MODEL_3d82f18332a0423bbc100617e496f356",
              "IPY_MODEL_3047d753a2e14cdfa3fea91b668ab43d",
              "IPY_MODEL_66c36d5f25bd452bad1ddaef5abedb77"
            ]
          }
        },
        "31d54770186d48bda66884bd401e6202": {
          "model_module": "@jupyter-widgets/base",
          "model_name": "LayoutModel",
          "state": {
            "_view_name": "LayoutView",
            "grid_template_rows": null,
            "right": null,
            "justify_content": null,
            "_view_module": "@jupyter-widgets/base",
            "overflow": null,
            "_model_module_version": "1.2.0",
            "_view_count": null,
            "flex_flow": null,
            "width": null,
            "min_width": null,
            "border": null,
            "align_items": null,
            "bottom": null,
            "_model_module": "@jupyter-widgets/base",
            "top": null,
            "grid_column": null,
            "overflow_y": null,
            "overflow_x": null,
            "grid_auto_flow": null,
            "grid_area": null,
            "grid_template_columns": null,
            "flex": null,
            "_model_name": "LayoutModel",
            "justify_items": null,
            "grid_row": null,
            "max_height": null,
            "align_content": null,
            "visibility": null,
            "align_self": null,
            "height": null,
            "min_height": null,
            "padding": null,
            "grid_auto_rows": null,
            "grid_gap": null,
            "max_width": null,
            "order": null,
            "_view_module_version": "1.2.0",
            "grid_template_areas": null,
            "object_position": null,
            "object_fit": null,
            "grid_auto_columns": null,
            "margin": null,
            "display": null,
            "left": null
          }
        },
        "3d82f18332a0423bbc100617e496f356": {
          "model_module": "@jupyter-widgets/controls",
          "model_name": "HTMLModel",
          "state": {
            "_view_name": "HTMLView",
            "style": "IPY_MODEL_6280b0bd42d6430eb5a5063aa66756c4",
            "_dom_classes": [],
            "description": "",
            "_model_name": "HTMLModel",
            "placeholder": "​",
            "_view_module": "@jupyter-widgets/controls",
            "_model_module_version": "1.5.0",
            "value": "Downloading: ",
            "_view_count": null,
            "_view_module_version": "1.5.0",
            "description_tooltip": null,
            "_model_module": "@jupyter-widgets/controls",
            "layout": "IPY_MODEL_464e37d3060645df8747665a8bcc2ff2"
          }
        },
        "3047d753a2e14cdfa3fea91b668ab43d": {
          "model_module": "@jupyter-widgets/controls",
          "model_name": "FloatProgressModel",
          "state": {
            "_view_name": "ProgressView",
            "style": "IPY_MODEL_26d335df3b5c4579bd7feebb3d276b06",
            "_dom_classes": [],
            "description": "",
            "_model_name": "FloatProgressModel",
            "bar_style": "success",
            "max": 3182,
            "_view_module": "@jupyter-widgets/controls",
            "_model_module_version": "1.5.0",
            "value": 3182,
            "_view_count": null,
            "_view_module_version": "1.5.0",
            "orientation": "horizontal",
            "min": 0,
            "description_tooltip": null,
            "_model_module": "@jupyter-widgets/controls",
            "layout": "IPY_MODEL_c0ea4966c3d24d08896896cfb6d866d6"
          }
        },
        "66c36d5f25bd452bad1ddaef5abedb77": {
          "model_module": "@jupyter-widgets/controls",
          "model_name": "HTMLModel",
          "state": {
            "_view_name": "HTMLView",
            "style": "IPY_MODEL_1beb227927a8400c912048560a55d97a",
            "_dom_classes": [],
            "description": "",
            "_model_name": "HTMLModel",
            "placeholder": "​",
            "_view_module": "@jupyter-widgets/controls",
            "_model_module_version": "1.5.0",
            "value": " 11.3k/? [00:00&lt;00:00, 358kB/s]",
            "_view_count": null,
            "_view_module_version": "1.5.0",
            "description_tooltip": null,
            "_model_module": "@jupyter-widgets/controls",
            "layout": "IPY_MODEL_7070bbab17b34c3d85664cffb8b8dbd3"
          }
        },
        "6280b0bd42d6430eb5a5063aa66756c4": {
          "model_module": "@jupyter-widgets/controls",
          "model_name": "DescriptionStyleModel",
          "state": {
            "_view_name": "StyleView",
            "_model_name": "DescriptionStyleModel",
            "description_width": "",
            "_view_module": "@jupyter-widgets/base",
            "_model_module_version": "1.5.0",
            "_view_count": null,
            "_view_module_version": "1.2.0",
            "_model_module": "@jupyter-widgets/controls"
          }
        },
        "464e37d3060645df8747665a8bcc2ff2": {
          "model_module": "@jupyter-widgets/base",
          "model_name": "LayoutModel",
          "state": {
            "_view_name": "LayoutView",
            "grid_template_rows": null,
            "right": null,
            "justify_content": null,
            "_view_module": "@jupyter-widgets/base",
            "overflow": null,
            "_model_module_version": "1.2.0",
            "_view_count": null,
            "flex_flow": null,
            "width": null,
            "min_width": null,
            "border": null,
            "align_items": null,
            "bottom": null,
            "_model_module": "@jupyter-widgets/base",
            "top": null,
            "grid_column": null,
            "overflow_y": null,
            "overflow_x": null,
            "grid_auto_flow": null,
            "grid_area": null,
            "grid_template_columns": null,
            "flex": null,
            "_model_name": "LayoutModel",
            "justify_items": null,
            "grid_row": null,
            "max_height": null,
            "align_content": null,
            "visibility": null,
            "align_self": null,
            "height": null,
            "min_height": null,
            "padding": null,
            "grid_auto_rows": null,
            "grid_gap": null,
            "max_width": null,
            "order": null,
            "_view_module_version": "1.2.0",
            "grid_template_areas": null,
            "object_position": null,
            "object_fit": null,
            "grid_auto_columns": null,
            "margin": null,
            "display": null,
            "left": null
          }
        },
        "26d335df3b5c4579bd7feebb3d276b06": {
          "model_module": "@jupyter-widgets/controls",
          "model_name": "ProgressStyleModel",
          "state": {
            "_view_name": "StyleView",
            "_model_name": "ProgressStyleModel",
            "description_width": "",
            "_view_module": "@jupyter-widgets/base",
            "_model_module_version": "1.5.0",
            "_view_count": null,
            "_view_module_version": "1.2.0",
            "bar_color": null,
            "_model_module": "@jupyter-widgets/controls"
          }
        },
        "c0ea4966c3d24d08896896cfb6d866d6": {
          "model_module": "@jupyter-widgets/base",
          "model_name": "LayoutModel",
          "state": {
            "_view_name": "LayoutView",
            "grid_template_rows": null,
            "right": null,
            "justify_content": null,
            "_view_module": "@jupyter-widgets/base",
            "overflow": null,
            "_model_module_version": "1.2.0",
            "_view_count": null,
            "flex_flow": null,
            "width": null,
            "min_width": null,
            "border": null,
            "align_items": null,
            "bottom": null,
            "_model_module": "@jupyter-widgets/base",
            "top": null,
            "grid_column": null,
            "overflow_y": null,
            "overflow_x": null,
            "grid_auto_flow": null,
            "grid_area": null,
            "grid_template_columns": null,
            "flex": null,
            "_model_name": "LayoutModel",
            "justify_items": null,
            "grid_row": null,
            "max_height": null,
            "align_content": null,
            "visibility": null,
            "align_self": null,
            "height": null,
            "min_height": null,
            "padding": null,
            "grid_auto_rows": null,
            "grid_gap": null,
            "max_width": null,
            "order": null,
            "_view_module_version": "1.2.0",
            "grid_template_areas": null,
            "object_position": null,
            "object_fit": null,
            "grid_auto_columns": null,
            "margin": null,
            "display": null,
            "left": null
          }
        },
        "1beb227927a8400c912048560a55d97a": {
          "model_module": "@jupyter-widgets/controls",
          "model_name": "DescriptionStyleModel",
          "state": {
            "_view_name": "StyleView",
            "_model_name": "DescriptionStyleModel",
            "description_width": "",
            "_view_module": "@jupyter-widgets/base",
            "_model_module_version": "1.5.0",
            "_view_count": null,
            "_view_module_version": "1.2.0",
            "_model_module": "@jupyter-widgets/controls"
          }
        },
        "7070bbab17b34c3d85664cffb8b8dbd3": {
          "model_module": "@jupyter-widgets/base",
          "model_name": "LayoutModel",
          "state": {
            "_view_name": "LayoutView",
            "grid_template_rows": null,
            "right": null,
            "justify_content": null,
            "_view_module": "@jupyter-widgets/base",
            "overflow": null,
            "_model_module_version": "1.2.0",
            "_view_count": null,
            "flex_flow": null,
            "width": null,
            "min_width": null,
            "border": null,
            "align_items": null,
            "bottom": null,
            "_model_module": "@jupyter-widgets/base",
            "top": null,
            "grid_column": null,
            "overflow_y": null,
            "overflow_x": null,
            "grid_auto_flow": null,
            "grid_area": null,
            "grid_template_columns": null,
            "flex": null,
            "_model_name": "LayoutModel",
            "justify_items": null,
            "grid_row": null,
            "max_height": null,
            "align_content": null,
            "visibility": null,
            "align_self": null,
            "height": null,
            "min_height": null,
            "padding": null,
            "grid_auto_rows": null,
            "grid_gap": null,
            "max_width": null,
            "order": null,
            "_view_module_version": "1.2.0",
            "grid_template_areas": null,
            "object_position": null,
            "object_fit": null,
            "grid_auto_columns": null,
            "margin": null,
            "display": null,
            "left": null
          }
        }
      }
    }
  },
  "cells": [
    {
      "cell_type": "code",
      "metadata": {
        "colab": {
          "base_uri": "https://localhost:8080/"
        },
        "id": "MOsHUjgdIrIW",
        "outputId": "b01cc744-993d-4c75-d0e4-4b2149f5b82f"
      },
      "source": [
        "! pip3 install datasets transformers"
      ],
      "execution_count": 1,
      "outputs": [
        {
          "output_type": "stream",
          "text": [
            "Collecting datasets\n",
            "  Downloading datasets-1.10.2-py3-none-any.whl (542 kB)\n",
            "\u001b[?25l\r\u001b[K     |▋                               | 10 kB 28.5 MB/s eta 0:00:01\r\u001b[K     |█▏                              | 20 kB 27.3 MB/s eta 0:00:01\r\u001b[K     |█▉                              | 30 kB 19.0 MB/s eta 0:00:01\r\u001b[K     |██▍                             | 40 kB 14.9 MB/s eta 0:00:01\r\u001b[K     |███                             | 51 kB 7.0 MB/s eta 0:00:01\r\u001b[K     |███▋                            | 61 kB 8.2 MB/s eta 0:00:01\r\u001b[K     |████▎                           | 71 kB 7.8 MB/s eta 0:00:01\r\u001b[K     |████▉                           | 81 kB 8.7 MB/s eta 0:00:01\r\u001b[K     |█████▍                          | 92 kB 8.7 MB/s eta 0:00:01\r\u001b[K     |██████                          | 102 kB 7.3 MB/s eta 0:00:01\r\u001b[K     |██████▋                         | 112 kB 7.3 MB/s eta 0:00:01\r\u001b[K     |███████▎                        | 122 kB 7.3 MB/s eta 0:00:01\r\u001b[K     |███████▉                        | 133 kB 7.3 MB/s eta 0:00:01\r\u001b[K     |████████▌                       | 143 kB 7.3 MB/s eta 0:00:01\r\u001b[K     |█████████                       | 153 kB 7.3 MB/s eta 0:00:01\r\u001b[K     |█████████▊                      | 163 kB 7.3 MB/s eta 0:00:01\r\u001b[K     |██████████▎                     | 174 kB 7.3 MB/s eta 0:00:01\r\u001b[K     |██████████▉                     | 184 kB 7.3 MB/s eta 0:00:01\r\u001b[K     |███████████▌                    | 194 kB 7.3 MB/s eta 0:00:01\r\u001b[K     |████████████                    | 204 kB 7.3 MB/s eta 0:00:01\r\u001b[K     |████████████▊                   | 215 kB 7.3 MB/s eta 0:00:01\r\u001b[K     |█████████████▎                  | 225 kB 7.3 MB/s eta 0:00:01\r\u001b[K     |██████████████                  | 235 kB 7.3 MB/s eta 0:00:01\r\u001b[K     |██████████████▌                 | 245 kB 7.3 MB/s eta 0:00:01\r\u001b[K     |███████████████                 | 256 kB 7.3 MB/s eta 0:00:01\r\u001b[K     |███████████████▊                | 266 kB 7.3 MB/s eta 0:00:01\r\u001b[K     |████████████████▎               | 276 kB 7.3 MB/s eta 0:00:01\r\u001b[K     |█████████████████               | 286 kB 7.3 MB/s eta 0:00:01\r\u001b[K     |█████████████████▌              | 296 kB 7.3 MB/s eta 0:00:01\r\u001b[K     |██████████████████▏             | 307 kB 7.3 MB/s eta 0:00:01\r\u001b[K     |██████████████████▊             | 317 kB 7.3 MB/s eta 0:00:01\r\u001b[K     |███████████████████▍            | 327 kB 7.3 MB/s eta 0:00:01\r\u001b[K     |████████████████████            | 337 kB 7.3 MB/s eta 0:00:01\r\u001b[K     |████████████████████▌           | 348 kB 7.3 MB/s eta 0:00:01\r\u001b[K     |█████████████████████▏          | 358 kB 7.3 MB/s eta 0:00:01\r\u001b[K     |█████████████████████▊          | 368 kB 7.3 MB/s eta 0:00:01\r\u001b[K     |██████████████████████▍         | 378 kB 7.3 MB/s eta 0:00:01\r\u001b[K     |███████████████████████         | 389 kB 7.3 MB/s eta 0:00:01\r\u001b[K     |███████████████████████▋        | 399 kB 7.3 MB/s eta 0:00:01\r\u001b[K     |████████████████████████▏       | 409 kB 7.3 MB/s eta 0:00:01\r\u001b[K     |████████████████████████▉       | 419 kB 7.3 MB/s eta 0:00:01\r\u001b[K     |█████████████████████████▍      | 430 kB 7.3 MB/s eta 0:00:01\r\u001b[K     |██████████████████████████      | 440 kB 7.3 MB/s eta 0:00:01\r\u001b[K     |██████████████████████████▋     | 450 kB 7.3 MB/s eta 0:00:01\r\u001b[K     |███████████████████████████▏    | 460 kB 7.3 MB/s eta 0:00:01\r\u001b[K     |███████████████████████████▉    | 471 kB 7.3 MB/s eta 0:00:01\r\u001b[K     |████████████████████████████▍   | 481 kB 7.3 MB/s eta 0:00:01\r\u001b[K     |█████████████████████████████   | 491 kB 7.3 MB/s eta 0:00:01\r\u001b[K     |█████████████████████████████▋  | 501 kB 7.3 MB/s eta 0:00:01\r\u001b[K     |██████████████████████████████▏ | 512 kB 7.3 MB/s eta 0:00:01\r\u001b[K     |██████████████████████████████▉ | 522 kB 7.3 MB/s eta 0:00:01\r\u001b[K     |███████████████████████████████▍| 532 kB 7.3 MB/s eta 0:00:01\r\u001b[K     |████████████████████████████████| 542 kB 7.3 MB/s \n",
            "\u001b[?25hCollecting transformers\n",
            "  Downloading transformers-4.9.0-py3-none-any.whl (2.6 MB)\n",
            "\u001b[K     |████████████████████████████████| 2.6 MB 13.4 MB/s \n",
            "\u001b[?25hRequirement already satisfied: dill in /usr/local/lib/python3.7/dist-packages (from datasets) (0.3.4)\n",
            "Requirement already satisfied: requests>=2.19.0 in /usr/local/lib/python3.7/dist-packages (from datasets) (2.23.0)\n",
            "Collecting tqdm>=4.42\n",
            "  Downloading tqdm-4.61.2-py2.py3-none-any.whl (76 kB)\n",
            "\u001b[K     |████████████████████████████████| 76 kB 4.9 MB/s \n",
            "\u001b[?25hCollecting huggingface-hub<0.1.0\n",
            "  Downloading huggingface_hub-0.0.14-py3-none-any.whl (43 kB)\n",
            "\u001b[K     |████████████████████████████████| 43 kB 1.8 MB/s \n",
            "\u001b[?25hRequirement already satisfied: importlib-metadata in /usr/local/lib/python3.7/dist-packages (from datasets) (4.6.1)\n",
            "Collecting xxhash\n",
            "  Downloading xxhash-2.0.2-cp37-cp37m-manylinux2010_x86_64.whl (243 kB)\n",
            "\u001b[K     |████████████████████████████████| 243 kB 56.3 MB/s \n",
            "\u001b[?25hRequirement already satisfied: packaging in /usr/local/lib/python3.7/dist-packages (from datasets) (21.0)\n",
            "Requirement already satisfied: numpy>=1.17 in /usr/local/lib/python3.7/dist-packages (from datasets) (1.19.5)\n",
            "Requirement already satisfied: pyarrow!=4.0.0,>=1.0.0 in /usr/local/lib/python3.7/dist-packages (from datasets) (3.0.0)\n",
            "Collecting fsspec>=2021.05.0\n",
            "  Downloading fsspec-2021.7.0-py3-none-any.whl (118 kB)\n",
            "\u001b[K     |████████████████████████████████| 118 kB 60.5 MB/s \n",
            "\u001b[?25hRequirement already satisfied: multiprocess in /usr/local/lib/python3.7/dist-packages (from datasets) (0.70.12.2)\n",
            "Requirement already satisfied: pandas in /usr/local/lib/python3.7/dist-packages (from datasets) (1.1.5)\n",
            "Requirement already satisfied: typing-extensions in /usr/local/lib/python3.7/dist-packages (from huggingface-hub<0.1.0->datasets) (3.7.4.3)\n",
            "Requirement already satisfied: filelock in /usr/local/lib/python3.7/dist-packages (from huggingface-hub<0.1.0->datasets) (3.0.12)\n",
            "Requirement already satisfied: pyparsing>=2.0.2 in /usr/local/lib/python3.7/dist-packages (from packaging->datasets) (2.4.7)\n",
            "Requirement already satisfied: idna<3,>=2.5 in /usr/local/lib/python3.7/dist-packages (from requests>=2.19.0->datasets) (2.10)\n",
            "Requirement already satisfied: urllib3!=1.25.0,!=1.25.1,<1.26,>=1.21.1 in /usr/local/lib/python3.7/dist-packages (from requests>=2.19.0->datasets) (1.24.3)\n",
            "Requirement already satisfied: chardet<4,>=3.0.2 in /usr/local/lib/python3.7/dist-packages (from requests>=2.19.0->datasets) (3.0.4)\n",
            "Requirement already satisfied: certifi>=2017.4.17 in /usr/local/lib/python3.7/dist-packages (from requests>=2.19.0->datasets) (2021.5.30)\n",
            "Collecting tokenizers<0.11,>=0.10.1\n",
            "  Downloading tokenizers-0.10.3-cp37-cp37m-manylinux_2_5_x86_64.manylinux1_x86_64.manylinux_2_12_x86_64.manylinux2010_x86_64.whl (3.3 MB)\n",
            "\u001b[K     |████████████████████████████████| 3.3 MB 54.7 MB/s \n",
            "\u001b[?25hRequirement already satisfied: regex!=2019.12.17 in /usr/local/lib/python3.7/dist-packages (from transformers) (2019.12.20)\n",
            "Collecting huggingface-hub<0.1.0\n",
            "  Downloading huggingface_hub-0.0.12-py3-none-any.whl (37 kB)\n",
            "Collecting sacremoses\n",
            "  Downloading sacremoses-0.0.45-py3-none-any.whl (895 kB)\n",
            "\u001b[K     |████████████████████████████████| 895 kB 44.4 MB/s \n",
            "\u001b[?25hCollecting pyyaml>=5.1\n",
            "  Downloading PyYAML-5.4.1-cp37-cp37m-manylinux1_x86_64.whl (636 kB)\n",
            "\u001b[K     |████████████████████████████████| 636 kB 59.3 MB/s \n",
            "\u001b[?25hRequirement already satisfied: zipp>=0.5 in /usr/local/lib/python3.7/dist-packages (from importlib-metadata->datasets) (3.5.0)\n",
            "Requirement already satisfied: python-dateutil>=2.7.3 in /usr/local/lib/python3.7/dist-packages (from pandas->datasets) (2.8.1)\n",
            "Requirement already satisfied: pytz>=2017.2 in /usr/local/lib/python3.7/dist-packages (from pandas->datasets) (2018.9)\n",
            "Requirement already satisfied: six>=1.5 in /usr/local/lib/python3.7/dist-packages (from python-dateutil>=2.7.3->pandas->datasets) (1.15.0)\n",
            "Requirement already satisfied: joblib in /usr/local/lib/python3.7/dist-packages (from sacremoses->transformers) (1.0.1)\n",
            "Requirement already satisfied: click in /usr/local/lib/python3.7/dist-packages (from sacremoses->transformers) (7.1.2)\n",
            "Installing collected packages: tqdm, xxhash, tokenizers, sacremoses, pyyaml, huggingface-hub, fsspec, transformers, datasets\n",
            "  Attempting uninstall: tqdm\n",
            "    Found existing installation: tqdm 4.41.1\n",
            "    Uninstalling tqdm-4.41.1:\n",
            "      Successfully uninstalled tqdm-4.41.1\n",
            "  Attempting uninstall: pyyaml\n",
            "    Found existing installation: PyYAML 3.13\n",
            "    Uninstalling PyYAML-3.13:\n",
            "      Successfully uninstalled PyYAML-3.13\n",
            "Successfully installed datasets-1.10.2 fsspec-2021.7.0 huggingface-hub-0.0.12 pyyaml-5.4.1 sacremoses-0.0.45 tokenizers-0.10.3 tqdm-4.61.2 transformers-4.9.0 xxhash-2.0.2\n"
          ],
          "name": "stdout"
        }
      ]
    },
    {
      "cell_type": "code",
      "metadata": {
        "colab": {
          "base_uri": "https://localhost:8080/"
        },
        "id": "_UvEp4p3kv5w",
        "outputId": "541febb7-a162-4003-a654-66deaf897216"
      },
      "source": [
        "import numpy as np\n",
        "import random\n",
        "import torch\n",
        "seed = 2001\n",
        "random.seed(seed)\n",
        "np.random.seed(seed)\n",
        "torch.manual_seed(seed)\n",
        "# torch.cuda.manual_seed(seed) # if cuda\n",
        "# torch.cuda.manual_seed_all(seed)\n",
        "# torch.backends.cudnn.deterministic = True\n",
        "# torch.backends.cudnn.benchmark =False"
      ],
      "execution_count": 2,
      "outputs": [
        {
          "output_type": "execute_result",
          "data": {
            "text/plain": [
              "<torch._C.Generator at 0x7fa33efc7ab0>"
            ]
          },
          "metadata": {
            "tags": []
          },
          "execution_count": 2
        }
      ]
    },
    {
      "cell_type": "code",
      "metadata": {
        "colab": {
          "base_uri": "https://localhost:8080/"
        },
        "id": "QBv0FsYvbNMj",
        "outputId": "bcaba30e-92f8-4f94-dfea-c6715fbfaccd"
      },
      "source": [
        "import transformers\n",
        "\n",
        "print(transformers.__version__)"
      ],
      "execution_count": 3,
      "outputs": [
        {
          "output_type": "stream",
          "text": [
            "4.9.0\n"
          ],
          "name": "stdout"
        }
      ]
    },
    {
      "cell_type": "code",
      "metadata": {
        "id": "hk9ZosvpTvXf"
      },
      "source": [
        "#!pip install tqdm\n",
        "import datasets\n",
        "from datasets import Dataset, DatasetDict"
      ],
      "execution_count": 4,
      "outputs": []
    },
    {
      "cell_type": "code",
      "metadata": {
        "id": "8KVXu4Fofylh"
      },
      "source": [
        "import sys\n",
        "import numpy as np\n",
        "sys.path.append('/content/drive/MyDrive/nlp')\n",
        "#np.save('/content/drive/MyDrive/nlp/test', np.array([2,3,4,5]))"
      ],
      "execution_count": 5,
      "outputs": []
    },
    {
      "cell_type": "markdown",
      "metadata": {
        "id": "HFASsisvIrIb"
      },
      "source": [
        "If you're opening this notebook locally, make sure your environment has an install from the last version of those libraries.\n",
        "\n",
        "You can find a script version of this notebook to fine-tune your model in a distributed fashion using multiple GPUs or TPUs [here](https://github.com/huggingface/transformers/tree/master/examples/question-answering)."
      ]
    },
    {
      "cell_type": "markdown",
      "metadata": {
        "id": "rEJBSTyZIrIb"
      },
      "source": [
        "# Fine-tuning a model on a question-answering task"
      ]
    },
    {
      "cell_type": "markdown",
      "metadata": {
        "id": "qlo6ic_odG88"
      },
      "source": [
        "In this notebook, we will see how to fine-tune one of the [🤗 Transformers](https://github.com/huggingface/transformers) model to a question answering task, which is the task of extracting the answer to a question from a given context. We will see how to easily load a dataset for these kinds of tasks and use the `Trainer` API to fine-tune a model on it.\n",
        "\n",
        "![Widget inference representing the QA task](https://github.com/huggingface/notebooks/blob/master/examples/images/question_answering.png?raw=1)\n",
        "\n",
        "**Note:** This notebook finetunes models that answer question by taking a substring of a context, not by generating new text."
      ]
    },
    {
      "cell_type": "code",
      "metadata": {
        "id": "zVvslsfMIrIh"
      },
      "source": [
        " \n",
        "squad_v2 = True#False\n",
        "model_checkpoint = \"distilbert-base-uncased\"\n",
        "batch_size = 16"
      ],
      "execution_count": 6,
      "outputs": []
    },
    {
      "cell_type": "markdown",
      "metadata": {
        "id": "bsLJYRUC84PE"
      },
      "source": [
        "Outline of the solution:\n",
        "1. Converting the original data to a question answering format by adding questions such as 'who' + relation + entity B.\n",
        "2. Adding questions with no answers in the training set and in validation set.\n",
        "   For training - one extra random question for each sentence\n",
        "   For validation - adding all the other questions (7 in total)\n",
        "3. During test we check the answers given to all the questions related to a \n",
        "   specific sentence and hopefully the best answer will correspond with the\n",
        "   correct relation as all other questions have no answer and will get lower\n",
        "   score."
      ]
    },
    {
      "cell_type": "markdown",
      "metadata": {
        "id": "whPRbBNbIrIl"
      },
      "source": [
        "## Loading the dataset"
      ]
    },
    {
      "cell_type": "code",
      "metadata": {
        "colab": {
          "base_uri": "https://localhost:8080/",
          "height": 292
        },
        "id": "Re3jvWEIF4qV",
        "outputId": "a6e9bc02-bb8c-403e-bf4c-d66d8196c14e"
      },
      "source": [
        "import requests, zipfile, io\n",
        "\n",
        "import pandas as pd\n",
        "\n",
        "def download_data():\n",
        "    url = \"https://www.dropbox.com/s/izi2x4sjohpzoot/relation_extraction_dataset.zip?dl=1\"\n",
        "    r = requests.get(url)\n",
        "    z = zipfile.ZipFile(io.BytesIO(r.content))\n",
        "    z.extractall()\n",
        "\n",
        "download_data()\n",
        "\n",
        "\n",
        "df = pd.read_pickle(\"relation_extraction_dataset.pkl\")\n",
        "df.reset_index(drop=True, inplace=True)\n",
        "df.head()"
      ],
      "execution_count": 7,
      "outputs": [
        {
          "output_type": "execute_result",
          "data": {
            "text/html": [
              "<div>\n",
              "<style scoped>\n",
              "    .dataframe tbody tr th:only-of-type {\n",
              "        vertical-align: middle;\n",
              "    }\n",
              "\n",
              "    .dataframe tbody tr th {\n",
              "        vertical-align: top;\n",
              "    }\n",
              "\n",
              "    .dataframe thead th {\n",
              "        text-align: right;\n",
              "    }\n",
              "</style>\n",
              "<table border=\"1\" class=\"dataframe\">\n",
              "  <thead>\n",
              "    <tr style=\"text-align: right;\">\n",
              "      <th></th>\n",
              "      <th>end_idx</th>\n",
              "      <th>entities</th>\n",
              "      <th>entity_spans</th>\n",
              "      <th>match</th>\n",
              "      <th>original_article</th>\n",
              "      <th>sentence</th>\n",
              "      <th>start_idx</th>\n",
              "      <th>string_id</th>\n",
              "    </tr>\n",
              "  </thead>\n",
              "  <tbody>\n",
              "    <tr>\n",
              "      <th>0</th>\n",
              "      <td>1024</td>\n",
              "      <td>[Lilium, Baillie Gifford]</td>\n",
              "      <td>[[3, 9], [151, 166]]</td>\n",
              "      <td>raising $35</td>\n",
              "      <td>Happy Friday!\\n\\nWe sincerely hope you and you...</td>\n",
              "      <td>3) Lilium, a German startup that’s making an a...</td>\n",
              "      <td>1013</td>\n",
              "      <td>invested_in</td>\n",
              "    </tr>\n",
              "    <tr>\n",
              "      <th>1</th>\n",
              "      <td>1762</td>\n",
              "      <td>[Facebook ’s, Giphy]</td>\n",
              "      <td>[[92, 102], [148, 153]]</td>\n",
              "      <td>acquisition</td>\n",
              "      <td>Happy Friday!\\n\\nWe sincerely hope you and you...</td>\n",
              "      <td>Meanwhile, the UK’s watchdog on Friday announc...</td>\n",
              "      <td>1751</td>\n",
              "      <td>acquired_by</td>\n",
              "    </tr>\n",
              "    <tr>\n",
              "      <th>2</th>\n",
              "      <td>2784</td>\n",
              "      <td>[Global-e, Vitruvian Partners]</td>\n",
              "      <td>[[27, 35], [94, 112]]</td>\n",
              "      <td>raised $60</td>\n",
              "      <td>Happy Friday!\\n\\nWe sincerely hope you and you...</td>\n",
              "      <td>Israeli e-commerce startup Global-e has raised...</td>\n",
              "      <td>2774</td>\n",
              "      <td>invested_in</td>\n",
              "    </tr>\n",
              "    <tr>\n",
              "      <th>3</th>\n",
              "      <td>680</td>\n",
              "      <td>[Joris Van Der Gucht, Silverfin]</td>\n",
              "      <td>[[0, 19], [35, 44]]</td>\n",
              "      <td>founder</td>\n",
              "      <td>Hg is a leading investor in tax and accounting...</td>\n",
              "      <td>Joris Van Der Gucht, co-founder at Silverfin c...</td>\n",
              "      <td>673</td>\n",
              "      <td>founded_by</td>\n",
              "    </tr>\n",
              "    <tr>\n",
              "      <th>4</th>\n",
              "      <td>2070</td>\n",
              "      <td>[Tim Vandecasteele, Silverfin]</td>\n",
              "      <td>[[0, 17], [71, 80]]</td>\n",
              "      <td>founder</td>\n",
              "      <td>Hg is a leading investor in tax and accounting...</td>\n",
              "      <td>Tim Vandecasteele, co-founder added: \"We want ...</td>\n",
              "      <td>2063</td>\n",
              "      <td>founded_by</td>\n",
              "    </tr>\n",
              "  </tbody>\n",
              "</table>\n",
              "</div>"
            ],
            "text/plain": [
              "  end_idx                          entities  ... start_idx    string_id\n",
              "0    1024         [Lilium, Baillie Gifford]  ...      1013  invested_in\n",
              "1    1762              [Facebook ’s, Giphy]  ...      1751  acquired_by\n",
              "2    2784    [Global-e, Vitruvian Partners]  ...      2774  invested_in\n",
              "3     680  [Joris Van Der Gucht, Silverfin]  ...       673   founded_by\n",
              "4    2070    [Tim Vandecasteele, Silverfin]  ...      2063   founded_by\n",
              "\n",
              "[5 rows x 8 columns]"
            ]
          },
          "metadata": {
            "tags": []
          },
          "execution_count": 7
        }
      ]
    },
    {
      "cell_type": "code",
      "metadata": {
        "colab": {
          "base_uri": "https://localhost:8080/"
        },
        "id": "werYAqe6iqAn",
        "outputId": "20820cb6-4edd-49c8-d11e-c4dcfdbccaca"
      },
      "source": [
        "id2label = dict()\n",
        "for idx, label in enumerate(df.string_id.value_counts().index):\n",
        "  id2label[idx] = label\n",
        "label2id = {v:k for k,v in id2label.items()}\n",
        "label2id"
      ],
      "execution_count": 8,
      "outputs": [
        {
          "output_type": "execute_result",
          "data": {
            "text/plain": [
              "{'CEO_of': 3,\n",
              " 'acquired_by': 1,\n",
              " 'founded_by': 0,\n",
              " 'invested_in': 2,\n",
              " 'owned_by': 6,\n",
              " 'partners_with': 5,\n",
              " 'subsidiary_of': 4}"
            ]
          },
          "metadata": {
            "tags": []
          },
          "execution_count": 8
        }
      ]
    },
    {
      "cell_type": "code",
      "metadata": {
        "colab": {
          "base_uri": "https://localhost:8080/"
        },
        "id": "JEV6_5ggxN1N",
        "outputId": "108000a6-799f-43c8-808a-c3617421897f"
      },
      "source": [
        "questions=['who founded ','who acquired ','who invested in ','who is the CEO of ','who is subsidiary of ','who is partner with ','who owns ']\n",
        "q2label=dict()\n",
        "for idx, q in enumerate(questions):\n",
        "  q2label[q] = id2label[idx]\n",
        "q2label"
      ],
      "execution_count": 9,
      "outputs": [
        {
          "output_type": "execute_result",
          "data": {
            "text/plain": [
              "{'who acquired ': 'acquired_by',\n",
              " 'who founded ': 'founded_by',\n",
              " 'who invested in ': 'invested_in',\n",
              " 'who is partner with ': 'partners_with',\n",
              " 'who is subsidiary of ': 'subsidiary_of',\n",
              " 'who is the CEO of ': 'CEO_of',\n",
              " 'who owns ': 'owned_by'}"
            ]
          },
          "metadata": {
            "tags": []
          },
          "execution_count": 9
        }
      ]
    },
    {
      "cell_type": "code",
      "metadata": {
        "id": "FdxKaQHuRNjY"
      },
      "source": [
        " \n",
        "#add questions and answers to db text and span\n",
        "df['question'] = df['string_id'].transform(lambda x: questions[label2id[x]])#[typ.feature.names[i] for i in x]\n",
        "df['question'] =df['question'] +df['entities'].transform(lambda x: x[1]+'?')\n",
        "\n",
        "def add_answer(entity, span):\n",
        "     \n",
        "    return {'text':[entity[0]],'answer_start':[span[0][0]]}\n",
        "\n",
        "#df['answer'] = df.(lambda x: add_answer(df.entities, df.entity_spans))# for i in range(df.entity_spans.count()))#, axis=1)\n",
        "df['answers']= df[['entities', 'entity_spans']].apply(lambda x: add_answer(*x), axis=1)\n",
        "df['id']=df.index.astype('str')\n",
        "df.rename(columns={'sentence':'context'}, inplace=True)"
      ],
      "execution_count": 10,
      "outputs": []
    },
    {
      "cell_type": "code",
      "metadata": {
        "colab": {
          "base_uri": "https://localhost:8080/"
        },
        "id": "pznRDy1bjzDo",
        "outputId": "6edd248f-0328-4049-c654-e8322d59b465"
      },
      "source": [
        "import numpy as np\n",
        "\n",
        "#split train validation\n",
        "train_idx= np.random.choice(df.shape[0], size=int(0.8*df.shape[0]), replace=False)\n",
        "val_idx=np.array([x for x in range(df.shape[0]) if not x in train_idx])\n",
        "#train_idx.shape, val_idx.shape, df.shape\n",
        "df_train=df.iloc[train_idx]\n",
        "df_val=df.iloc[val_idx]\n",
        "df_train.shape"
      ],
      "execution_count": 11,
      "outputs": [
        {
          "output_type": "execute_result",
          "data": {
            "text/plain": [
              "(9624, 11)"
            ]
          },
          "metadata": {
            "tags": []
          },
          "execution_count": 11
        }
      ]
    },
    {
      "cell_type": "markdown",
      "metadata": {
        "id": "DkrL539gnkG3"
      },
      "source": [
        "#add questions with no answrs both for train and validation"
      ]
    },
    {
      "cell_type": "code",
      "metadata": {
        "colab": {
          "base_uri": "https://localhost:8080/"
        },
        "id": "PZzFgRWMk-e7",
        "outputId": "98634669-e810-4138-a711-3e358d43f30b"
      },
      "source": [
        "\n",
        "import ast\n",
        " \n",
        "\n",
        " \n",
        "df_train_ext=df_train.copy()\n",
        "df_size=df.shape[0]\n",
        "df_train_ext['question_id']=df_train_ext['id']\n",
        "df_train_ext['string_id']=df_train['string_id']\n",
        "def add_questionsWno_answers(group, withAnswer=False, size=0):\n",
        "    row0 = group.iloc[0]\n",
        "    row=pd.DataFrame(row0)#.transpose())#,index=line.name)\n",
        "    row=row.transpose()\n",
        "   \n",
        "    rel=row0['string_id']\n",
        "     \n",
        "    possible_questions= [questions[i] for i in label2id.values() if i!=label2id[rel]]\n",
        "    \n",
        "    if withAnswer:\n",
        "      #count=1\n",
        "      idx=np.random.choice(len(possible_questions))\n",
        "      possible_questions=[possible_questions[idx]]\n",
        "      \n",
        "  \n",
        "    df3=pd.concat([row]*(len(possible_questions)+1))\n",
        " \n",
        "    for i,q in enumerate(possible_questions) :\n",
        "      #print(int(df3.iloc[i+1].loc['id'])+idx)\n",
        "      df3.iloc[i+1].loc['question']=q + df3.iloc[i+1].loc['entities'][1]+ '?'\n",
        "      #df3.loc[i+1,'question']=q + df3.iloc[i+1].loc['entities'][1]+ '?'\n",
        "     \n",
        "      df3.iloc[i+1].loc['answers'] = str({'text':[],'answer_start':[]}) #str()\n",
        "      df3.iloc[i+1].loc['string_id']  = q2label[q]\n",
        "      df3.iloc[i+1].loc['question_id']=str(i+1 + size + 8*int(df3.iloc[i+1].loc['id']))\n",
        "    return df3\n",
        "\n",
        "##\n",
        "## Add questions with no answers for train dataset, for every question we add one more random question that has no answer \n",
        "df_train_ext=df_train_ext.groupby('id', group_keys=False).apply(add_questionsWno_answers, (True), (df_size))\n",
        "df_train_ext['answers']= df_train_ext['answers'].transform(lambda x:ast.literal_eval(x) if isinstance(x, str) else x)\n",
        "df_train_ext.shape[0]"
      ],
      "execution_count": 12,
      "outputs": [
        {
          "output_type": "stream",
          "text": [
            "/usr/local/lib/python3.7/dist-packages/ipykernel_launcher.py:8: SettingWithCopyWarning: \n",
            "A value is trying to be set on a copy of a slice from a DataFrame.\n",
            "Try using .loc[row_indexer,col_indexer] = value instead\n",
            "\n",
            "See the caveats in the documentation: https://pandas.pydata.org/pandas-docs/stable/user_guide/indexing.html#returning-a-view-versus-a-copy\n",
            "  \n",
            "/usr/local/lib/python3.7/dist-packages/ipykernel_launcher.py:9: SettingWithCopyWarning: \n",
            "A value is trying to be set on a copy of a slice from a DataFrame.\n",
            "Try using .loc[row_indexer,col_indexer] = value instead\n",
            "\n",
            "See the caveats in the documentation: https://pandas.pydata.org/pandas-docs/stable/user_guide/indexing.html#returning-a-view-versus-a-copy\n",
            "  if __name__ == '__main__':\n"
          ],
          "name": "stderr"
        },
        {
          "output_type": "execute_result",
          "data": {
            "text/plain": [
              "19248"
            ]
          },
          "metadata": {
            "tags": []
          },
          "execution_count": 12
        }
      ]
    },
    {
      "cell_type": "code",
      "metadata": {
        "id": "P7M2JI_ba9we",
        "colab": {
          "base_uri": "https://localhost:8080/",
          "height": 1000
        },
        "outputId": "54b94a49-ec7a-4fb8-e47f-bfa804dfef57"
      },
      "source": [
        "df_train_ext.head(16)"
      ],
      "execution_count": 13,
      "outputs": [
        {
          "output_type": "execute_result",
          "data": {
            "text/html": [
              "<div>\n",
              "<style scoped>\n",
              "    .dataframe tbody tr th:only-of-type {\n",
              "        vertical-align: middle;\n",
              "    }\n",
              "\n",
              "    .dataframe tbody tr th {\n",
              "        vertical-align: top;\n",
              "    }\n",
              "\n",
              "    .dataframe thead th {\n",
              "        text-align: right;\n",
              "    }\n",
              "</style>\n",
              "<table border=\"1\" class=\"dataframe\">\n",
              "  <thead>\n",
              "    <tr style=\"text-align: right;\">\n",
              "      <th></th>\n",
              "      <th>end_idx</th>\n",
              "      <th>entities</th>\n",
              "      <th>entity_spans</th>\n",
              "      <th>match</th>\n",
              "      <th>original_article</th>\n",
              "      <th>context</th>\n",
              "      <th>start_idx</th>\n",
              "      <th>string_id</th>\n",
              "      <th>question</th>\n",
              "      <th>answers</th>\n",
              "      <th>id</th>\n",
              "      <th>question_id</th>\n",
              "    </tr>\n",
              "  </thead>\n",
              "  <tbody>\n",
              "    <tr>\n",
              "      <th>0</th>\n",
              "      <td>1024</td>\n",
              "      <td>[Lilium, Baillie Gifford]</td>\n",
              "      <td>[[3, 9], [151, 166]]</td>\n",
              "      <td>raising $35</td>\n",
              "      <td>Happy Friday!\\n\\nWe sincerely hope you and you...</td>\n",
              "      <td>3) Lilium, a German startup that’s making an a...</td>\n",
              "      <td>1013</td>\n",
              "      <td>invested_in</td>\n",
              "      <td>who invested in Baillie Gifford?</td>\n",
              "      <td>{'text': ['Lilium'], 'answer_start': [3]}</td>\n",
              "      <td>0</td>\n",
              "      <td>0</td>\n",
              "    </tr>\n",
              "    <tr>\n",
              "      <th>0</th>\n",
              "      <td>1024</td>\n",
              "      <td>[Lilium, Baillie Gifford]</td>\n",
              "      <td>[[3, 9], [151, 166]]</td>\n",
              "      <td>raising $35</td>\n",
              "      <td>Happy Friday!\\n\\nWe sincerely hope you and you...</td>\n",
              "      <td>3) Lilium, a German startup that’s making an a...</td>\n",
              "      <td>1013</td>\n",
              "      <td>founded_by</td>\n",
              "      <td>who founded Baillie Gifford?</td>\n",
              "      <td>{'text': [], 'answer_start': []}</td>\n",
              "      <td>0</td>\n",
              "      <td>12032</td>\n",
              "    </tr>\n",
              "    <tr>\n",
              "      <th>1</th>\n",
              "      <td>1762</td>\n",
              "      <td>[Facebook ’s, Giphy]</td>\n",
              "      <td>[[92, 102], [148, 153]]</td>\n",
              "      <td>acquisition</td>\n",
              "      <td>Happy Friday!\\n\\nWe sincerely hope you and you...</td>\n",
              "      <td>Meanwhile, the UK’s watchdog on Friday announc...</td>\n",
              "      <td>1751</td>\n",
              "      <td>acquired_by</td>\n",
              "      <td>who acquired Giphy?</td>\n",
              "      <td>{'text': ['Facebook ’s'], 'answer_start': [92]}</td>\n",
              "      <td>1</td>\n",
              "      <td>1</td>\n",
              "    </tr>\n",
              "    <tr>\n",
              "      <th>1</th>\n",
              "      <td>1762</td>\n",
              "      <td>[Facebook ’s, Giphy]</td>\n",
              "      <td>[[92, 102], [148, 153]]</td>\n",
              "      <td>acquisition</td>\n",
              "      <td>Happy Friday!\\n\\nWe sincerely hope you and you...</td>\n",
              "      <td>Meanwhile, the UK’s watchdog on Friday announc...</td>\n",
              "      <td>1751</td>\n",
              "      <td>owned_by</td>\n",
              "      <td>who owns Giphy?</td>\n",
              "      <td>{'text': [], 'answer_start': []}</td>\n",
              "      <td>1</td>\n",
              "      <td>12040</td>\n",
              "    </tr>\n",
              "    <tr>\n",
              "      <th>10</th>\n",
              "      <td>76</td>\n",
              "      <td>[Collibra, CapitalG]</td>\n",
              "      <td>[[52, 60], [90, 98]]</td>\n",
              "      <td>raised $100</td>\n",
              "      <td>Belgium/US-based data governance technology co...</td>\n",
              "      <td>Belgium/US-based data governance technology co...</td>\n",
              "      <td>65</td>\n",
              "      <td>invested_in</td>\n",
              "      <td>who invested in CapitalG?</td>\n",
              "      <td>{'text': ['Collibra'], 'answer_start': [52]}</td>\n",
              "      <td>10</td>\n",
              "      <td>10</td>\n",
              "    </tr>\n",
              "    <tr>\n",
              "      <th>10</th>\n",
              "      <td>76</td>\n",
              "      <td>[Collibra, CapitalG]</td>\n",
              "      <td>[[52, 60], [90, 98]]</td>\n",
              "      <td>raised $100</td>\n",
              "      <td>Belgium/US-based data governance technology co...</td>\n",
              "      <td>Belgium/US-based data governance technology co...</td>\n",
              "      <td>65</td>\n",
              "      <td>founded_by</td>\n",
              "      <td>who founded CapitalG?</td>\n",
              "      <td>{'text': [], 'answer_start': []}</td>\n",
              "      <td>10</td>\n",
              "      <td>12112</td>\n",
              "    </tr>\n",
              "    <tr>\n",
              "      <th>100</th>\n",
              "      <td>46</td>\n",
              "      <td>[Randy, CloudBlue]</td>\n",
              "      <td>[[30, 35], [77, 86]]</td>\n",
              "      <td>founded</td>\n",
              "      <td>Prior to co-founding Xometry, Randy co-founded...</td>\n",
              "      <td>Prior to co-founding Xometry, Randy co-founded...</td>\n",
              "      <td>39</td>\n",
              "      <td>founded_by</td>\n",
              "      <td>who founded CloudBlue?</td>\n",
              "      <td>{'text': ['Randy'], 'answer_start': [30]}</td>\n",
              "      <td>100</td>\n",
              "      <td>100</td>\n",
              "    </tr>\n",
              "    <tr>\n",
              "      <th>100</th>\n",
              "      <td>46</td>\n",
              "      <td>[Randy, CloudBlue]</td>\n",
              "      <td>[[30, 35], [77, 86]]</td>\n",
              "      <td>founded</td>\n",
              "      <td>Prior to co-founding Xometry, Randy co-founded...</td>\n",
              "      <td>Prior to co-founding Xometry, Randy co-founded...</td>\n",
              "      <td>39</td>\n",
              "      <td>invested_in</td>\n",
              "      <td>who invested in CloudBlue?</td>\n",
              "      <td>{'text': [], 'answer_start': []}</td>\n",
              "      <td>100</td>\n",
              "      <td>12832</td>\n",
              "    </tr>\n",
              "    <tr>\n",
              "      <th>1000</th>\n",
              "      <td>3256</td>\n",
              "      <td>[Scopely, Barcelona Dublin DIGIT Game Studio]</td>\n",
              "      <td>[[381, 388], [464, 498]]</td>\n",
              "      <td>founded</td>\n",
              "      <td>Mobile game publisher Scopely has raised 200 m...</td>\n",
              "      <td>Viswanathan former NEA general partner Greycro...</td>\n",
              "      <td>3249</td>\n",
              "      <td>founded_by</td>\n",
              "      <td>who founded Barcelona Dublin DIGIT Game Studio?</td>\n",
              "      <td>{'text': ['Scopely'], 'answer_start': [381]}</td>\n",
              "      <td>1000</td>\n",
              "      <td>1000</td>\n",
              "    </tr>\n",
              "    <tr>\n",
              "      <th>1000</th>\n",
              "      <td>3256</td>\n",
              "      <td>[Scopely, Barcelona Dublin DIGIT Game Studio]</td>\n",
              "      <td>[[381, 388], [464, 498]]</td>\n",
              "      <td>founded</td>\n",
              "      <td>Mobile game publisher Scopely has raised 200 m...</td>\n",
              "      <td>Viswanathan former NEA general partner Greycro...</td>\n",
              "      <td>3249</td>\n",
              "      <td>subsidiary_of</td>\n",
              "      <td>who is subsidiary of Barcelona Dublin DIGIT Ga...</td>\n",
              "      <td>{'text': [], 'answer_start': []}</td>\n",
              "      <td>1000</td>\n",
              "      <td>20032</td>\n",
              "    </tr>\n",
              "    <tr>\n",
              "      <th>10001</th>\n",
              "      <td>1175</td>\n",
              "      <td>[Dreyfus, Changpeng Zhao]</td>\n",
              "      <td>[[0, 7], [226, 240]]</td>\n",
              "      <td>Binance CEO</td>\n",
              "      <td>Sports blockchain venture Chiliz has announced...</td>\n",
              "      <td>Dreyfus noted represent an addressable audienc...</td>\n",
              "      <td>1164</td>\n",
              "      <td>CEO_of</td>\n",
              "      <td>who is the CEO of Changpeng Zhao?</td>\n",
              "      <td>{'text': ['Dreyfus'], 'answer_start': [0]}</td>\n",
              "      <td>10001</td>\n",
              "      <td>10001</td>\n",
              "    </tr>\n",
              "    <tr>\n",
              "      <th>10001</th>\n",
              "      <td>1175</td>\n",
              "      <td>[Dreyfus, Changpeng Zhao]</td>\n",
              "      <td>[[0, 7], [226, 240]]</td>\n",
              "      <td>Binance CEO</td>\n",
              "      <td>Sports blockchain venture Chiliz has announced...</td>\n",
              "      <td>Dreyfus noted represent an addressable audienc...</td>\n",
              "      <td>1164</td>\n",
              "      <td>invested_in</td>\n",
              "      <td>who invested in Changpeng Zhao?</td>\n",
              "      <td>{'text': [], 'answer_start': []}</td>\n",
              "      <td>10001</td>\n",
              "      <td>92040</td>\n",
              "    </tr>\n",
              "    <tr>\n",
              "      <th>10002</th>\n",
              "      <td>266</td>\n",
              "      <td>[Chiliz, Cointelegraph]</td>\n",
              "      <td>[[251, 257], [280, 293]]</td>\n",
              "      <td>CEO Alex</td>\n",
              "      <td>American sports fans could soon be using block...</td>\n",
              "      <td>American sports fans could soon be using block...</td>\n",
              "      <td>258</td>\n",
              "      <td>CEO_of</td>\n",
              "      <td>who is the CEO of Cointelegraph?</td>\n",
              "      <td>{'text': ['Chiliz'], 'answer_start': [251]}</td>\n",
              "      <td>10002</td>\n",
              "      <td>10002</td>\n",
              "    </tr>\n",
              "    <tr>\n",
              "      <th>10002</th>\n",
              "      <td>266</td>\n",
              "      <td>[Chiliz, Cointelegraph]</td>\n",
              "      <td>[[251, 257], [280, 293]]</td>\n",
              "      <td>CEO Alex</td>\n",
              "      <td>American sports fans could soon be using block...</td>\n",
              "      <td>American sports fans could soon be using block...</td>\n",
              "      <td>258</td>\n",
              "      <td>acquired_by</td>\n",
              "      <td>who acquired Cointelegraph?</td>\n",
              "      <td>{'text': [], 'answer_start': []}</td>\n",
              "      <td>10002</td>\n",
              "      <td>92048</td>\n",
              "    </tr>\n",
              "    <tr>\n",
              "      <th>10004</th>\n",
              "      <td>121</td>\n",
              "      <td>[Lolli, Safeway]</td>\n",
              "      <td>[[13, 18], [70, 77]]</td>\n",
              "      <td>Companies subsidiary</td>\n",
              "      <td>Lolli announces Safeway Bitcoin partnership Re...</td>\n",
              "      <td>shopping app Lolli has partnered with Albertso...</td>\n",
              "      <td>101</td>\n",
              "      <td>subsidiary_of</td>\n",
              "      <td>who is subsidiary of Safeway?</td>\n",
              "      <td>{'text': ['Lolli'], 'answer_start': [13]}</td>\n",
              "      <td>10004</td>\n",
              "      <td>10004</td>\n",
              "    </tr>\n",
              "    <tr>\n",
              "      <th>10004</th>\n",
              "      <td>121</td>\n",
              "      <td>[Lolli, Safeway]</td>\n",
              "      <td>[[13, 18], [70, 77]]</td>\n",
              "      <td>Companies subsidiary</td>\n",
              "      <td>Lolli announces Safeway Bitcoin partnership Re...</td>\n",
              "      <td>shopping app Lolli has partnered with Albertso...</td>\n",
              "      <td>101</td>\n",
              "      <td>CEO_of</td>\n",
              "      <td>who is the CEO of Safeway?</td>\n",
              "      <td>{'text': [], 'answer_start': []}</td>\n",
              "      <td>10004</td>\n",
              "      <td>92064</td>\n",
              "    </tr>\n",
              "  </tbody>\n",
              "</table>\n",
              "</div>"
            ],
            "text/plain": [
              "      end_idx                                       entities  ...     id question_id\n",
              "0        1024                      [Lilium, Baillie Gifford]  ...      0           0\n",
              "0        1024                      [Lilium, Baillie Gifford]  ...      0       12032\n",
              "1        1762                           [Facebook ’s, Giphy]  ...      1           1\n",
              "1        1762                           [Facebook ’s, Giphy]  ...      1       12040\n",
              "10         76                           [Collibra, CapitalG]  ...     10          10\n",
              "10         76                           [Collibra, CapitalG]  ...     10       12112\n",
              "100        46                             [Randy, CloudBlue]  ...    100         100\n",
              "100        46                             [Randy, CloudBlue]  ...    100       12832\n",
              "1000     3256  [Scopely, Barcelona Dublin DIGIT Game Studio]  ...   1000        1000\n",
              "1000     3256  [Scopely, Barcelona Dublin DIGIT Game Studio]  ...   1000       20032\n",
              "10001    1175                      [Dreyfus, Changpeng Zhao]  ...  10001       10001\n",
              "10001    1175                      [Dreyfus, Changpeng Zhao]  ...  10001       92040\n",
              "10002     266                        [Chiliz, Cointelegraph]  ...  10002       10002\n",
              "10002     266                        [Chiliz, Cointelegraph]  ...  10002       92048\n",
              "10004     121                               [Lolli, Safeway]  ...  10004       10004\n",
              "10004     121                               [Lolli, Safeway]  ...  10004       92064\n",
              "\n",
              "[16 rows x 12 columns]"
            ]
          },
          "metadata": {
            "tags": []
          },
          "execution_count": 13
        }
      ]
    },
    {
      "cell_type": "markdown",
      "metadata": {
        "id": "0GSKVKQSnryK"
      },
      "source": [
        "Add questions to validation dataset so for each question we ask all the 7 questions. Thus the question which will have an answer will describe the correct relation"
      ]
    },
    {
      "cell_type": "code",
      "metadata": {
        "id": "x449Rzabc0pU",
        "colab": {
          "base_uri": "https://localhost:8080/",
          "height": 1000
        },
        "outputId": "31dd2fc8-7d48-4f6a-9204-b298d6dca690"
      },
      "source": [
        "\n",
        "\n",
        "df_size=df.shape[0]\n",
        "df_val_ext=df_val.copy()\n",
        "df_val_ext['question_id']=df_val_ext['id']\n",
        "df_val_ext=df_val_ext.groupby('id', group_keys=False).apply(add_questionsWno_answers, (False), (df_size))\n",
        "df_val_ext['answers']= df_val_ext['answers'].transform(lambda x:ast.literal_eval(x) if isinstance(x, str) else x)\n",
        "df_val_ext.head(15)"
      ],
      "execution_count": 14,
      "outputs": [
        {
          "output_type": "stream",
          "text": [
            "/usr/local/lib/python3.7/dist-packages/ipykernel_launcher.py:3: SettingWithCopyWarning: \n",
            "A value is trying to be set on a copy of a slice from a DataFrame.\n",
            "Try using .loc[row_indexer,col_indexer] = value instead\n",
            "\n",
            "See the caveats in the documentation: https://pandas.pydata.org/pandas-docs/stable/user_guide/indexing.html#returning-a-view-versus-a-copy\n",
            "  This is separate from the ipykernel package so we can avoid doing imports until\n"
          ],
          "name": "stderr"
        },
        {
          "output_type": "execute_result",
          "data": {
            "text/html": [
              "<div>\n",
              "<style scoped>\n",
              "    .dataframe tbody tr th:only-of-type {\n",
              "        vertical-align: middle;\n",
              "    }\n",
              "\n",
              "    .dataframe tbody tr th {\n",
              "        vertical-align: top;\n",
              "    }\n",
              "\n",
              "    .dataframe thead th {\n",
              "        text-align: right;\n",
              "    }\n",
              "</style>\n",
              "<table border=\"1\" class=\"dataframe\">\n",
              "  <thead>\n",
              "    <tr style=\"text-align: right;\">\n",
              "      <th></th>\n",
              "      <th>end_idx</th>\n",
              "      <th>entities</th>\n",
              "      <th>entity_spans</th>\n",
              "      <th>match</th>\n",
              "      <th>original_article</th>\n",
              "      <th>context</th>\n",
              "      <th>start_idx</th>\n",
              "      <th>string_id</th>\n",
              "      <th>question</th>\n",
              "      <th>answers</th>\n",
              "      <th>id</th>\n",
              "      <th>question_id</th>\n",
              "    </tr>\n",
              "  </thead>\n",
              "  <tbody>\n",
              "    <tr>\n",
              "      <th>10000</th>\n",
              "      <td>75</td>\n",
              "      <td>[Chiliz, Binance Chain]</td>\n",
              "      <td>[[26, 32], [76, 89]]</td>\n",
              "      <td>partnership with</td>\n",
              "      <td>Sports blockchain venture Chiliz has announced...</td>\n",
              "      <td>Sports blockchain venture Chiliz has announced...</td>\n",
              "      <td>59</td>\n",
              "      <td>partners_with</td>\n",
              "      <td>who is partner with Binance Chain?</td>\n",
              "      <td>{'text': ['Chiliz'], 'answer_start': [26]}</td>\n",
              "      <td>10000</td>\n",
              "      <td>10000</td>\n",
              "    </tr>\n",
              "    <tr>\n",
              "      <th>10000</th>\n",
              "      <td>75</td>\n",
              "      <td>[Chiliz, Binance Chain]</td>\n",
              "      <td>[[26, 32], [76, 89]]</td>\n",
              "      <td>partnership with</td>\n",
              "      <td>Sports blockchain venture Chiliz has announced...</td>\n",
              "      <td>Sports blockchain venture Chiliz has announced...</td>\n",
              "      <td>59</td>\n",
              "      <td>founded_by</td>\n",
              "      <td>who founded Binance Chain?</td>\n",
              "      <td>{'text': [], 'answer_start': []}</td>\n",
              "      <td>10000</td>\n",
              "      <td>92032</td>\n",
              "    </tr>\n",
              "    <tr>\n",
              "      <th>10000</th>\n",
              "      <td>75</td>\n",
              "      <td>[Chiliz, Binance Chain]</td>\n",
              "      <td>[[26, 32], [76, 89]]</td>\n",
              "      <td>partnership with</td>\n",
              "      <td>Sports blockchain venture Chiliz has announced...</td>\n",
              "      <td>Sports blockchain venture Chiliz has announced...</td>\n",
              "      <td>59</td>\n",
              "      <td>acquired_by</td>\n",
              "      <td>who acquired Binance Chain?</td>\n",
              "      <td>{'text': [], 'answer_start': []}</td>\n",
              "      <td>10000</td>\n",
              "      <td>92033</td>\n",
              "    </tr>\n",
              "    <tr>\n",
              "      <th>10000</th>\n",
              "      <td>75</td>\n",
              "      <td>[Chiliz, Binance Chain]</td>\n",
              "      <td>[[26, 32], [76, 89]]</td>\n",
              "      <td>partnership with</td>\n",
              "      <td>Sports blockchain venture Chiliz has announced...</td>\n",
              "      <td>Sports blockchain venture Chiliz has announced...</td>\n",
              "      <td>59</td>\n",
              "      <td>invested_in</td>\n",
              "      <td>who invested in Binance Chain?</td>\n",
              "      <td>{'text': [], 'answer_start': []}</td>\n",
              "      <td>10000</td>\n",
              "      <td>92034</td>\n",
              "    </tr>\n",
              "    <tr>\n",
              "      <th>10000</th>\n",
              "      <td>75</td>\n",
              "      <td>[Chiliz, Binance Chain]</td>\n",
              "      <td>[[26, 32], [76, 89]]</td>\n",
              "      <td>partnership with</td>\n",
              "      <td>Sports blockchain venture Chiliz has announced...</td>\n",
              "      <td>Sports blockchain venture Chiliz has announced...</td>\n",
              "      <td>59</td>\n",
              "      <td>CEO_of</td>\n",
              "      <td>who is the CEO of Binance Chain?</td>\n",
              "      <td>{'text': [], 'answer_start': []}</td>\n",
              "      <td>10000</td>\n",
              "      <td>92035</td>\n",
              "    </tr>\n",
              "    <tr>\n",
              "      <th>10000</th>\n",
              "      <td>75</td>\n",
              "      <td>[Chiliz, Binance Chain]</td>\n",
              "      <td>[[26, 32], [76, 89]]</td>\n",
              "      <td>partnership with</td>\n",
              "      <td>Sports blockchain venture Chiliz has announced...</td>\n",
              "      <td>Sports blockchain venture Chiliz has announced...</td>\n",
              "      <td>59</td>\n",
              "      <td>subsidiary_of</td>\n",
              "      <td>who is subsidiary of Binance Chain?</td>\n",
              "      <td>{'text': [], 'answer_start': []}</td>\n",
              "      <td>10000</td>\n",
              "      <td>92036</td>\n",
              "    </tr>\n",
              "    <tr>\n",
              "      <th>10000</th>\n",
              "      <td>75</td>\n",
              "      <td>[Chiliz, Binance Chain]</td>\n",
              "      <td>[[26, 32], [76, 89]]</td>\n",
              "      <td>partnership with</td>\n",
              "      <td>Sports blockchain venture Chiliz has announced...</td>\n",
              "      <td>Sports blockchain venture Chiliz has announced...</td>\n",
              "      <td>59</td>\n",
              "      <td>owned_by</td>\n",
              "      <td>who owns Binance Chain?</td>\n",
              "      <td>{'text': [], 'answer_start': []}</td>\n",
              "      <td>10000</td>\n",
              "      <td>92037</td>\n",
              "    </tr>\n",
              "    <tr>\n",
              "      <th>10003</th>\n",
              "      <td>1335</td>\n",
              "      <td>[Alexandre Dreyfus, Socios com]</td>\n",
              "      <td>[[41, 58], [78, 88]]</td>\n",
              "      <td>founder</td>\n",
              "      <td>What is blockchain technology for OK at this p...</td>\n",
              "      <td>The core concept is relatively simple As Alexa...</td>\n",
              "      <td>1328</td>\n",
              "      <td>founded_by</td>\n",
              "      <td>who founded Socios com?</td>\n",
              "      <td>{'text': ['Alexandre Dreyfus'], 'answer_start'...</td>\n",
              "      <td>10003</td>\n",
              "      <td>10003</td>\n",
              "    </tr>\n",
              "    <tr>\n",
              "      <th>10003</th>\n",
              "      <td>1335</td>\n",
              "      <td>[Alexandre Dreyfus, Socios com]</td>\n",
              "      <td>[[41, 58], [78, 88]]</td>\n",
              "      <td>founder</td>\n",
              "      <td>What is blockchain technology for OK at this p...</td>\n",
              "      <td>The core concept is relatively simple As Alexa...</td>\n",
              "      <td>1328</td>\n",
              "      <td>acquired_by</td>\n",
              "      <td>who acquired Socios com?</td>\n",
              "      <td>{'text': [], 'answer_start': []}</td>\n",
              "      <td>10003</td>\n",
              "      <td>92056</td>\n",
              "    </tr>\n",
              "    <tr>\n",
              "      <th>10003</th>\n",
              "      <td>1335</td>\n",
              "      <td>[Alexandre Dreyfus, Socios com]</td>\n",
              "      <td>[[41, 58], [78, 88]]</td>\n",
              "      <td>founder</td>\n",
              "      <td>What is blockchain technology for OK at this p...</td>\n",
              "      <td>The core concept is relatively simple As Alexa...</td>\n",
              "      <td>1328</td>\n",
              "      <td>invested_in</td>\n",
              "      <td>who invested in Socios com?</td>\n",
              "      <td>{'text': [], 'answer_start': []}</td>\n",
              "      <td>10003</td>\n",
              "      <td>92057</td>\n",
              "    </tr>\n",
              "    <tr>\n",
              "      <th>10003</th>\n",
              "      <td>1335</td>\n",
              "      <td>[Alexandre Dreyfus, Socios com]</td>\n",
              "      <td>[[41, 58], [78, 88]]</td>\n",
              "      <td>founder</td>\n",
              "      <td>What is blockchain technology for OK at this p...</td>\n",
              "      <td>The core concept is relatively simple As Alexa...</td>\n",
              "      <td>1328</td>\n",
              "      <td>CEO_of</td>\n",
              "      <td>who is the CEO of Socios com?</td>\n",
              "      <td>{'text': [], 'answer_start': []}</td>\n",
              "      <td>10003</td>\n",
              "      <td>92058</td>\n",
              "    </tr>\n",
              "    <tr>\n",
              "      <th>10003</th>\n",
              "      <td>1335</td>\n",
              "      <td>[Alexandre Dreyfus, Socios com]</td>\n",
              "      <td>[[41, 58], [78, 88]]</td>\n",
              "      <td>founder</td>\n",
              "      <td>What is blockchain technology for OK at this p...</td>\n",
              "      <td>The core concept is relatively simple As Alexa...</td>\n",
              "      <td>1328</td>\n",
              "      <td>subsidiary_of</td>\n",
              "      <td>who is subsidiary of Socios com?</td>\n",
              "      <td>{'text': [], 'answer_start': []}</td>\n",
              "      <td>10003</td>\n",
              "      <td>92059</td>\n",
              "    </tr>\n",
              "    <tr>\n",
              "      <th>10003</th>\n",
              "      <td>1335</td>\n",
              "      <td>[Alexandre Dreyfus, Socios com]</td>\n",
              "      <td>[[41, 58], [78, 88]]</td>\n",
              "      <td>founder</td>\n",
              "      <td>What is blockchain technology for OK at this p...</td>\n",
              "      <td>The core concept is relatively simple As Alexa...</td>\n",
              "      <td>1328</td>\n",
              "      <td>partners_with</td>\n",
              "      <td>who is partner with Socios com?</td>\n",
              "      <td>{'text': [], 'answer_start': []}</td>\n",
              "      <td>10003</td>\n",
              "      <td>92060</td>\n",
              "    </tr>\n",
              "    <tr>\n",
              "      <th>10003</th>\n",
              "      <td>1335</td>\n",
              "      <td>[Alexandre Dreyfus, Socios com]</td>\n",
              "      <td>[[41, 58], [78, 88]]</td>\n",
              "      <td>founder</td>\n",
              "      <td>What is blockchain technology for OK at this p...</td>\n",
              "      <td>The core concept is relatively simple As Alexa...</td>\n",
              "      <td>1328</td>\n",
              "      <td>owned_by</td>\n",
              "      <td>who owns Socios com?</td>\n",
              "      <td>{'text': [], 'answer_start': []}</td>\n",
              "      <td>10003</td>\n",
              "      <td>92061</td>\n",
              "    </tr>\n",
              "    <tr>\n",
              "      <th>10008</th>\n",
              "      <td>3751</td>\n",
              "      <td>[Cointelegraph Turkey, Yasin Oral]</td>\n",
              "      <td>[[94, 114], [127, 137]]</td>\n",
              "      <td>Paribu CEO</td>\n",
              "      <td>Turkey started off strong in crypto and blockc...</td>\n",
              "      <td>A big spike in trade volume was also revealed ...</td>\n",
              "      <td>3741</td>\n",
              "      <td>CEO_of</td>\n",
              "      <td>who is the CEO of Yasin Oral?</td>\n",
              "      <td>{'text': ['Cointelegraph Turkey'], 'answer_sta...</td>\n",
              "      <td>10008</td>\n",
              "      <td>10008</td>\n",
              "    </tr>\n",
              "  </tbody>\n",
              "</table>\n",
              "</div>"
            ],
            "text/plain": [
              "      end_idx                            entities  ...     id question_id\n",
              "10000      75             [Chiliz, Binance Chain]  ...  10000       10000\n",
              "10000      75             [Chiliz, Binance Chain]  ...  10000       92032\n",
              "10000      75             [Chiliz, Binance Chain]  ...  10000       92033\n",
              "10000      75             [Chiliz, Binance Chain]  ...  10000       92034\n",
              "10000      75             [Chiliz, Binance Chain]  ...  10000       92035\n",
              "10000      75             [Chiliz, Binance Chain]  ...  10000       92036\n",
              "10000      75             [Chiliz, Binance Chain]  ...  10000       92037\n",
              "10003    1335     [Alexandre Dreyfus, Socios com]  ...  10003       10003\n",
              "10003    1335     [Alexandre Dreyfus, Socios com]  ...  10003       92056\n",
              "10003    1335     [Alexandre Dreyfus, Socios com]  ...  10003       92057\n",
              "10003    1335     [Alexandre Dreyfus, Socios com]  ...  10003       92058\n",
              "10003    1335     [Alexandre Dreyfus, Socios com]  ...  10003       92059\n",
              "10003    1335     [Alexandre Dreyfus, Socios com]  ...  10003       92060\n",
              "10003    1335     [Alexandre Dreyfus, Socios com]  ...  10003       92061\n",
              "10008    3751  [Cointelegraph Turkey, Yasin Oral]  ...  10008       10008\n",
              "\n",
              "[15 rows x 12 columns]"
            ]
          },
          "metadata": {
            "tags": []
          },
          "execution_count": 14
        }
      ]
    },
    {
      "cell_type": "code",
      "metadata": {
        "id": "NFaaFRg5jj1N",
        "colab": {
          "base_uri": "https://localhost:8080/",
          "height": 361
        },
        "outputId": "60d128eb-b649-4302-c61d-7995b15eab72"
      },
      "source": [
        "#df_val_ext[df_val_ext.id=='3']\n",
        "df_val[:5]#.shape[0]"
      ],
      "execution_count": 15,
      "outputs": [
        {
          "output_type": "execute_result",
          "data": {
            "text/html": [
              "<div>\n",
              "<style scoped>\n",
              "    .dataframe tbody tr th:only-of-type {\n",
              "        vertical-align: middle;\n",
              "    }\n",
              "\n",
              "    .dataframe tbody tr th {\n",
              "        vertical-align: top;\n",
              "    }\n",
              "\n",
              "    .dataframe thead th {\n",
              "        text-align: right;\n",
              "    }\n",
              "</style>\n",
              "<table border=\"1\" class=\"dataframe\">\n",
              "  <thead>\n",
              "    <tr style=\"text-align: right;\">\n",
              "      <th></th>\n",
              "      <th>end_idx</th>\n",
              "      <th>entities</th>\n",
              "      <th>entity_spans</th>\n",
              "      <th>match</th>\n",
              "      <th>original_article</th>\n",
              "      <th>context</th>\n",
              "      <th>start_idx</th>\n",
              "      <th>string_id</th>\n",
              "      <th>question</th>\n",
              "      <th>answers</th>\n",
              "      <th>id</th>\n",
              "      <th>question_id</th>\n",
              "    </tr>\n",
              "  </thead>\n",
              "  <tbody>\n",
              "    <tr>\n",
              "      <th>2</th>\n",
              "      <td>2784</td>\n",
              "      <td>[Global-e, Vitruvian Partners]</td>\n",
              "      <td>[[27, 35], [94, 112]]</td>\n",
              "      <td>raised $60</td>\n",
              "      <td>Happy Friday!\\n\\nWe sincerely hope you and you...</td>\n",
              "      <td>Israeli e-commerce startup Global-e has raised...</td>\n",
              "      <td>2774</td>\n",
              "      <td>invested_in</td>\n",
              "      <td>who invested in Vitruvian Partners?</td>\n",
              "      <td>{'text': ['Global-e'], 'answer_start': [27]}</td>\n",
              "      <td>2</td>\n",
              "      <td>2</td>\n",
              "    </tr>\n",
              "    <tr>\n",
              "      <th>39</th>\n",
              "      <td>17937</td>\n",
              "      <td>[Agosto, Google Cloud]</td>\n",
              "      <td>[[0, 6], [130, 142]]</td>\n",
              "      <td>founded</td>\n",
              "      <td>Above the Trend Line: your industry rumor cent...</td>\n",
              "      <td>Agosto, founded in 2001, helps businesses enha...</td>\n",
              "      <td>17930</td>\n",
              "      <td>founded_by</td>\n",
              "      <td>who founded Google Cloud?</td>\n",
              "      <td>{'text': ['Agosto'], 'answer_start': [0]}</td>\n",
              "      <td>39</td>\n",
              "      <td>39</td>\n",
              "    </tr>\n",
              "    <tr>\n",
              "      <th>40</th>\n",
              "      <td>18088</td>\n",
              "      <td>[Agosto, Pythian]</td>\n",
              "      <td>[[4, 10], [37, 44]]</td>\n",
              "      <td>acquisition</td>\n",
              "      <td>Above the Trend Line: your industry rumor cent...</td>\n",
              "      <td>The Agosto acquisition will solidify Pythian's...</td>\n",
              "      <td>18077</td>\n",
              "      <td>acquired_by</td>\n",
              "      <td>who acquired Pythian?</td>\n",
              "      <td>{'text': ['Agosto'], 'answer_start': [4]}</td>\n",
              "      <td>40</td>\n",
              "      <td>40</td>\n",
              "    </tr>\n",
              "    <tr>\n",
              "      <th>42</th>\n",
              "      <td>19372</td>\n",
              "      <td>[Louis Tetu, Coveo]</td>\n",
              "      <td>[[190, 200], [220, 225]]</td>\n",
              "      <td>&amp; CEO</td>\n",
              "      <td>Above the Trend Line: your industry rumor cent...</td>\n",
              "      <td>\"From a business perspective, COVID-19 is both...</td>\n",
              "      <td>19367</td>\n",
              "      <td>CEO_of</td>\n",
              "      <td>who is the CEO of Coveo?</td>\n",
              "      <td>{'text': ['Louis Tetu'], 'answer_start': [190]}</td>\n",
              "      <td>42</td>\n",
              "      <td>42</td>\n",
              "    </tr>\n",
              "    <tr>\n",
              "      <th>44</th>\n",
              "      <td>21163</td>\n",
              "      <td>[Felix Van de Maele, Collibra]</td>\n",
              "      <td>[[118, 136], [160, 168]]</td>\n",
              "      <td>CEO of</td>\n",
              "      <td>Above the Trend Line: your industry rumor cent...</td>\n",
              "      <td>\"The impact of the global pandemic highlights ...</td>\n",
              "      <td>21157</td>\n",
              "      <td>CEO_of</td>\n",
              "      <td>who is the CEO of Collibra?</td>\n",
              "      <td>{'text': ['Felix Van de Maele'], 'answer_start...</td>\n",
              "      <td>44</td>\n",
              "      <td>44</td>\n",
              "    </tr>\n",
              "  </tbody>\n",
              "</table>\n",
              "</div>"
            ],
            "text/plain": [
              "   end_idx                        entities  ...  id question_id\n",
              "2     2784  [Global-e, Vitruvian Partners]  ...   2           2\n",
              "39   17937          [Agosto, Google Cloud]  ...  39          39\n",
              "40   18088               [Agosto, Pythian]  ...  40          40\n",
              "42   19372             [Louis Tetu, Coveo]  ...  42          42\n",
              "44   21163  [Felix Van de Maele, Collibra]  ...  44          44\n",
              "\n",
              "[5 rows x 12 columns]"
            ]
          },
          "metadata": {
            "tags": []
          },
          "execution_count": 15
        }
      ]
    },
    {
      "cell_type": "code",
      "metadata": {
        "id": "GJg30qZsR_df"
      },
      "source": [
        "\n",
        " \n",
        "from datasets import Dataset, DatasetDict\n",
        "dataset_rel_train = Dataset.from_pandas(df_train_ext)\n",
        "dataset_rel_val = Dataset.from_pandas(df_val_ext)\n",
        "ds_rel_val_org = Dataset.from_pandas(df_val)"
      ],
      "execution_count": 16,
      "outputs": []
    },
    {
      "cell_type": "code",
      "metadata": {
        "id": "DNbnmDT7jrZt"
      },
      "source": [
        " \n",
        "datasets=DatasetDict({'train':dataset_rel_train, 'val':dataset_rel_val})"
      ],
      "execution_count": 17,
      "outputs": []
    },
    {
      "cell_type": "code",
      "metadata": {
        "id": "aXZVzT9TXvvI",
        "colab": {
          "base_uri": "https://localhost:8080/"
        },
        "outputId": "1d09cbed-6154-4401-8de5-838f2f7c2acf"
      },
      "source": [
        "from google.colab import drive\n",
        "drive.mount('/content/drive')"
      ],
      "execution_count": 18,
      "outputs": [
        {
          "output_type": "stream",
          "text": [
            "Mounted at /content/drive\n"
          ],
          "name": "stdout"
        }
      ]
    },
    {
      "cell_type": "markdown",
      "metadata": {
        "id": "W7QYTpxXIrIl"
      },
      "source": [
        "We will use the [🤗 Datasets](https://github.com/huggingface/datasets) library to download the data and get the metric we need to use for evaluation (to compare our model to the benchmark). This can be easily done with the functions `load_dataset` and `load_metric`.  "
      ]
    },
    {
      "cell_type": "code",
      "metadata": {
        "id": "IreSlFmlIrIm"
      },
      "source": [
        "from datasets import load_dataset, load_metric"
      ],
      "execution_count": 19,
      "outputs": []
    },
    {
      "cell_type": "markdown",
      "metadata": {
        "id": "RzfPtOMoIrIu"
      },
      "source": [
        "The `datasets` object itself is [`DatasetDict`](https://huggingface.co/docs/datasets/package_reference/main_classes.html#datasetdict), which contains one key for the training, validation and test set."
      ]
    },
    {
      "cell_type": "code",
      "metadata": {
        "id": "GWiVUF0jIrIv",
        "colab": {
          "base_uri": "https://localhost:8080/"
        },
        "outputId": "f35d1aed-0b69-405c-a3f3-fb370a81144b"
      },
      "source": [
        "datasets"
      ],
      "execution_count": 20,
      "outputs": [
        {
          "output_type": "execute_result",
          "data": {
            "text/plain": [
              "DatasetDict({\n",
              "    train: Dataset({\n",
              "        features: ['end_idx', 'entities', 'entity_spans', 'match', 'original_article', 'context', 'start_idx', 'string_id', 'question', 'answers', 'id', 'question_id', '__index_level_0__'],\n",
              "        num_rows: 19248\n",
              "    })\n",
              "    val: Dataset({\n",
              "        features: ['end_idx', 'entities', 'entity_spans', 'match', 'original_article', 'context', 'start_idx', 'string_id', 'question', 'answers', 'id', 'question_id', '__index_level_0__'],\n",
              "        num_rows: 16849\n",
              "    })\n",
              "})"
            ]
          },
          "metadata": {
            "tags": []
          },
          "execution_count": 20
        }
      ]
    },
    {
      "cell_type": "markdown",
      "metadata": {
        "id": "ubsRTrmldG9C"
      },
      "source": [
        "We can see the training, validation and test sets all have a column for the context, the question and the answers to those questions."
      ]
    },
    {
      "cell_type": "markdown",
      "metadata": {
        "id": "u3EtYfeHIrIz"
      },
      "source": [
        "To access an actual element, you need to select a split first, then give an index:"
      ]
    },
    {
      "cell_type": "code",
      "metadata": {
        "id": "X6HrpprwIrIz",
        "colab": {
          "base_uri": "https://localhost:8080/"
        },
        "outputId": "82252494-054a-4a98-b6b5-313559786f67"
      },
      "source": [
        "datasets[\"train\"][0]"
      ],
      "execution_count": 21,
      "outputs": [
        {
          "output_type": "execute_result",
          "data": {
            "text/plain": [
              "{'__index_level_0__': 0,\n",
              " 'answers': {'answer_start': [3], 'text': ['Lilium']},\n",
              " 'context': '3) Lilium, a German startup that’s making an all-electric vertical takeoff and landing passenger jet became a ‘unicorn’ after raising $35 million from Baillie Gifford, the largest investor in Tesla after its billionaire owner Elon Musk.',\n",
              " 'end_idx': '1024',\n",
              " 'entities': ['Lilium', 'Baillie Gifford'],\n",
              " 'entity_spans': [[3, 9], [151, 166]],\n",
              " 'id': '0',\n",
              " 'match': 'raising $35',\n",
              " 'original_article': 'Happy Friday!\\n\\nWe sincerely hope you and yours are keeping healthy and safe. Please take care of yourself and others.\\n\\nThis week, our research team tracked more than 70 tech funding deals worth over €2 billion (!), as well as 15 M&A transactions, rumours, and related news stories across Europe, including Russia, Israel, and Turkey.\\n\\nMeanwhile, here’s an overview of the 10 biggest European tech news items for this week (subscribe to our free newsletter to get this roundup in your inbox every Monday morning):\\n\\n1) Just Eat Takeaway.com agreed to acquire US-based Grubhub for $7.3 billion in a deal that creates one of the world’s largest meal-delivery companies as the coronavirus pandemic drives a surge in orders.\\n\\n2) Online supermarket Ocado is to raise more than £1 billion of fresh equity and debt as it seeks to capitalise on a surge of interest during the coronavirus crisis.\\n\\n3) Lilium, a German startup that’s making an all-electric vertical takeoff and landing passenger jet became a ‘unicorn’ after raising $35 million from Baillie Gifford, the largest investor in Tesla after its billionaire owner Elon Musk. Lilium’s new funding came with a post-money valuation of more than a billion dollars, a person familiar with the situation told Bloomberg.\\n\\n4) The European Union’s antitrust watchdog is planning to file charges against Amazon over its treatment of third-party sellers, The Wall Street Journal reported Thursday.  The charges could come as early as next week or the week after and would focus on Amazon’s dual role as both a seller and operator of the marketplace, according to the Journal.\\n\\n5) Meanwhile, the UK’s watchdog on Friday announced that it has launched an investigation into Facebook’s (reportedly for $400 million) acquisition of Giphy, the popular GIF repository and search engine.\\n\\n6) Trustly, a startup from Sweden that has built a platform to make it as easy for merchants to accept bank transfers as it is to take card payments to complete online transactions, has raised ‘a significant round’ of funding from a group of investors led by BlackRock at a +$1 billion valuation.\\n\\n7) Belgian fintech startup Silverfin has raised a Series B round of $30 million, according to De Tijd. The round was led by Hg Capital with participation from Index Ventures and SmartFin Ventures.\\n\\n8) A group of prominent German tech entrepreneurs – former Rocket Internet execs – has raised €170 million to set up a ‘deep tech’-focused VC firm.\\n\\n9) Babylon Health has acknowledged that its GP video appointment app has suffered a data breach. The UK tech firm was alerted to the problem after one of its users discovered he had been given access to dozens of video recordings of other patients’ consultations.\\n\\n10) Israeli e-commerce startup Global-e has raised $60 million from international investment fund Vitruvian Partners, a person with knowledge of the matter told Calcalist.\\n\\nPodcast(s):\\n\\nTech.eu Podcast #172: Just Eat Grub Takeaway Hub\\n\\n“We take a look at the role that European startups may play in the food delivery industry in the US. Later in the show, you’ll hear an interview with Antti-Jussi Suominen, CEO at the Finnish fintech startup Holvi.”\\n+\\nCheck out our guide to European tech and startup podcasts in English!\\n\\nBonus link(s):\\n\\nThe World Economic Forum this week released a great report entitled ‘Bridging the Gap in European Scale-up Funding: The Green Imperative in an Unprecedented Time’.',\n",
              " 'question': 'who invested in Baillie Gifford?',\n",
              " 'question_id': '0',\n",
              " 'start_idx': '1013',\n",
              " 'string_id': 'invested_in'}"
            ]
          },
          "metadata": {
            "tags": []
          },
          "execution_count": 21
        }
      ]
    },
    {
      "cell_type": "code",
      "metadata": {
        "id": "4fQpI9SgZ52F",
        "colab": {
          "base_uri": "https://localhost:8080/"
        },
        "outputId": "0885557c-428a-46fe-ee70-dc79e4803735"
      },
      "source": [
        "type(datasets[\"train\"])"
      ],
      "execution_count": 22,
      "outputs": [
        {
          "output_type": "execute_result",
          "data": {
            "text/plain": [
              "datasets.arrow_dataset.Dataset"
            ]
          },
          "metadata": {
            "tags": []
          },
          "execution_count": 22
        }
      ]
    },
    {
      "cell_type": "markdown",
      "metadata": {
        "id": "eAg5cr9RdG9D"
      },
      "source": [
        "We can see the answers are indicated by their start position in the text (here at character 515) and their full text, which is a substring of the context as we mentioned above."
      ]
    },
    {
      "cell_type": "markdown",
      "metadata": {
        "id": "WHUmphG3IrI3"
      },
      "source": [
        "To get a sense of what the data looks like, the following function will show some examples picked randomly in the dataset (automatically decoding the labels in passing)."
      ]
    },
    {
      "cell_type": "code",
      "metadata": {
        "id": "i3j8APAoIrI3"
      },
      "source": [
        "from datasets import ClassLabel, Sequence\n",
        "import random\n",
        "import pandas as pd\n",
        "from IPython.display import display, HTML\n",
        "\n",
        "def show_random_elements(dataset, num_examples=10):\n",
        "    assert num_examples <= len(dataset), \"Can't pick more elements than there are in the dataset.\"\n",
        "    picks = []\n",
        "    for _ in range(num_examples):\n",
        "        pick = random.randint(0, len(dataset)-1)\n",
        "        while pick in picks:\n",
        "            pick = random.randint(0, len(dataset)-1)\n",
        "        picks.append(pick)\n",
        "    \n",
        "    df = pd.DataFrame(dataset[picks])\n",
        "    \n",
        "    for column, typ in dataset.features.items():\n",
        "        if isinstance(typ, ClassLabel):\n",
        "            df[column] = df[column].transform(lambda i: typ.names[i])\n",
        "        elif isinstance(typ, Sequence) and isinstance(typ.feature, ClassLabel):\n",
        "            df[column] = df[column].transform(lambda x: [typ.feature.names[i] for i in x])\n",
        "    print(df.dtypes)\n",
        "    display(HTML(df.to_html()))"
      ],
      "execution_count": 23,
      "outputs": []
    },
    {
      "cell_type": "code",
      "metadata": {
        "id": "SZy5tRB_IrI7",
        "scrolled": true,
        "colab": {
          "base_uri": "https://localhost:8080/",
          "height": 1000
        },
        "outputId": "f52ac50b-02f3-4a7c-fb95-fa2595f4990a"
      },
      "source": [
        "show_random_elements(datasets[\"train\"])"
      ],
      "execution_count": 24,
      "outputs": [
        {
          "output_type": "stream",
          "text": [
            "end_idx              object\n",
            "entities             object\n",
            "entity_spans         object\n",
            "match                object\n",
            "original_article     object\n",
            "context              object\n",
            "start_idx            object\n",
            "string_id            object\n",
            "question             object\n",
            "answers              object\n",
            "id                   object\n",
            "question_id          object\n",
            "__index_level_0__     int64\n",
            "dtype: object\n"
          ],
          "name": "stdout"
        },
        {
          "output_type": "display_data",
          "data": {
            "text/html": [
              "<table border=\"1\" class=\"dataframe\">\n",
              "  <thead>\n",
              "    <tr style=\"text-align: right;\">\n",
              "      <th></th>\n",
              "      <th>end_idx</th>\n",
              "      <th>entities</th>\n",
              "      <th>entity_spans</th>\n",
              "      <th>match</th>\n",
              "      <th>original_article</th>\n",
              "      <th>context</th>\n",
              "      <th>start_idx</th>\n",
              "      <th>string_id</th>\n",
              "      <th>question</th>\n",
              "      <th>answers</th>\n",
              "      <th>id</th>\n",
              "      <th>question_id</th>\n",
              "      <th>__index_level_0__</th>\n",
              "    </tr>\n",
              "  </thead>\n",
              "  <tbody>\n",
              "    <tr>\n",
              "      <th>0</th>\n",
              "      <td>2438</td>\n",
              "      <td>[Kristofer Tremaine, Kimura Capital]</td>\n",
              "      <td>[[175, 193], [213, 227]]</td>\n",
              "      <td>Founder</td>\n",
              "      <td>MineHub has added London based asset management company Kimura Capital to its growing consortium of industry participants The news comes just a few weeks after the technology platform to improve efficiency in trading operations and environmental and social governance ESG compliance in mining and metals supply chains confirmed it was ready for its first blockchain customers Kimura a specialist in commodity trade finance with expertise in financing complex logistical operations is a member of the Alternative Investment Management Association Kimura s experience in finance will provide another important source of financial liquidity within the mining and metals ecosystem MineHub said The partnership with MineHub will be instrumental in driving the innovation within the industry The company continued With financial institutions adapting to a changing regulatory environment the provision of alternative finance plays an increasingly important role in facilitating the availability of credit not just for trade finance but also project and institutional finance Improving access to capital is therefore a core part of the MineHub value proposition and a key area of focus is on enabling an integrated mix of institutional and alternative finance actors to provide new financing structures MineHub has been working on this technology platform in collaboration with IBM and leaders across the mining supply chain including ING Group Wheaton Precious Metals Ocean Partners USA Kutcho Copper Capstone Mining and White Case LLP It went live earlier this month with the company saying initial usage and transactions with consortium members was anticipated to commence within the next few weeks Arnoud Star Busmann CEO of MineHub said having Kimura on board as a consortium member is very strategic for MineHub Offering optionality in financing sources is core to our strategy and Kimura is a clear leader in this sector both in size and diversity as well as their commitment to innovation technology and sustainability He added Working with Kimura and their peers in conjunction with commercial banks and other financial institutions MineHub will improve the working capital options and costs for miners traders and other users Our solutions will serve both large corporates and SMEs within the market whilst contributing to responsible supply chains by linking risk pricing to ESG profiles of minerals Kristofer Tremaine CEO and Founder of Kimura Capital said digitisation is the future for the market Kimura has developed its business by selecting best in class partners in order to strengthen its overall offering We are delighted to begin a partnership with MineHub whom have outstanding potential and represent Kimura s first cooperation in the digitisation of commodity trade flows MineHub added Digitalisation transparency and automation will help reduce operational and fraud risks thereby lowering the barriers to entry for alternative financing sources Increased operational efficiencies and automation of ESG compliance will enable alternative financing houses to serve more clients without increasing operations and overheads</td>\n",
              "      <td>Our solutions will serve both large corporates and SMEs within the market whilst contributing to responsible supply chains by linking risk pricing to ESG profiles of minerals Kristofer Tremaine CEO and Founder of Kimura Capital</td>\n",
              "      <td>2431</td>\n",
              "      <td>founded_by</td>\n",
              "      <td>who founded Kimura Capital?</td>\n",
              "      <td>{'answer_start': [175], 'text': ['Kristofer Tremaine']}</td>\n",
              "      <td>9982</td>\n",
              "      <td>9982</td>\n",
              "      <td>9982</td>\n",
              "    </tr>\n",
              "    <tr>\n",
              "      <th>1</th>\n",
              "      <td>5554</td>\n",
              "      <td>[Meridia Private Equity, Vetsum]</td>\n",
              "      <td>[[0, 22], [39, 45]]</td>\n",
              "      <td>invested</td>\n",
              "      <td>Forescout (Nasdaq: FSCT) and the Advent International private equity firm have reached an amended $1.43 billion merger agreement to settle a lawsuit over Advent's attempt to back out of the deal based on Covid-19 concerns. \"The fundamental strengths that first attracted Advent to Forescout - its differentiated technology, record of innovation, talented employee base and relentless focus on its customers - continue to make this business a compelling platform and critical player in the cybersecurity ecosystem,\" says Bryan Taylor, head of Advent's technology investment team. According to lawyers for Wilson Sonsini Goodrich &amp; Rosati who argued the case for Forescout, the agreement marks the first \"material adverse event\" related to Covid-19 where a temporary restraining order was granted and a settlement was reached. Advent had announced in May that it wanted to back out of the sale as a result of the effect that the pandemic had on Forescout's security device business. In response, Forescout sued Advent in Delaware Chancery Court, arguing that the purchase agreement specifically barred Advent from citing the coronavirus as creating a material adverse change that would excuse the investment fund from finalizing the deal. The trial had been scheduled to start July 20. The transaction is now expected to close in the third quarter. Crosspoint Capital Partners, Morgan Stanley and Ropes &amp; Gray also advised on the deal.\\n\\nGuiding portfolio companies through the Covid-19 pandemic is the biggest challenge facing private equity firms and service providers today. Firms throughout the middle market are focused now on helping portfolio companies make decisions about reopening their businesses, assessing the impact of the coronavirus on their businesses and forging a strategy on moving forward. For example, Boston-based Watermill worked with portfolio company Enbi to reimagine its business to make face shields. \"They are a high-tech company with deep market knowhow that make rollers for printers,\" says Julia Karol, president and COO of Watermill. \"The company realized people who have to wear the face shields for long periods of time were getting deep welts on their foreheads. Enbi was able to make a high-grade compound that used foam across the front of the shields, so they are comfortable. Enbi will continue to make masks and explore other innovations. It's awesome to see the whole manufacturing community using their skills and expertise to help.\" For more insights from Watermill, New Heritage, Monroe, Cushman &amp; Wakefield and EisnerAmper, see the story Switching gears: 5 ways private equity firms and service providers are helping portfolio companies adapt in the Covid-19 pandemic.\\n\\nDEAL NEWS\\n\\nLast year Saudi Aramco, the world's biggest oil producer, was set to buy a 20 percent stake in Reliance Industries Ltd.'s refining and petrochemicals business, valuing it at $75 billion. But Mukesh Ambani, Asia's richest tycoon, said on Wednesday that a deal hadn't been worked out yet with the delay partly down to the coronavirus.\\n\\nTechnimark, manufacturer of plastic packaging and components based in North Carolina, has acquired Tool &amp; Plastic Industries Ltd., a supplier of injection molded products for the medical device, pharmaceutical and consumer product sectors headquartered in Longford, Ireland. Terms were not disclosed. Technimark is backed by Pritzker Private Capital.\\n\\nPayments company Square has acquired Stitch Labs, an operations management platform. Stitch Labs builds tools for businesses for inventory and order management, channel management and fulfillment solutions. Stitch Lab's products will continue to operate for existing customers until the spring of 2021.\\n\\nAdam Cook, former CEO of Glebar Co., has formed Culper Capital Partners, a New Jersey-based private investment company. The new company plans to provide debt and equity capital to middle-market companies while partnering with their management teams to drive growth and enterprise value. Culper Capital will also invest in alternative credit and equity vehicles and real estate.\\n\\nTriller, a music-video streaming platform owned by the Los Angeles-based Proxima Media investment firm, has acquired Halogen Networks and its patents for live video streaming and monetization. Triller plans to use Halogen's technology to deliver live-streamed, large-scale free and pay-per-view events.\\n\\nMP Materials, producer of rare earth minerals, will be listed on the New York Stock Exchange following a merger with Fortress Value Acquisition Corp. The combined company will be valued at about $1.5 billion, and current MP Materials shareholders JHL Capital Group and QVT Financial will roll their existing equity holdings into equity of the combined company.\\n\\nCB Insights has acquired VentureSource data from Dow Jones. According to CB Insights, the VentureSource data assets will significantly expand its private markets coverage and strengthen its position in emerging technology information and private market data.\\n\\nLos Angeles middle-market PE firm RLH Equity Partners has invested in MCA Connect, one of the largest independent Microsoft Dynamics firms that had not been controlled by private equity or acquired by a large corporation, according to RLH.\\n\\nBerlin-based RSG Group is acquiring the Gold's Gym fitness chain for $100 million. With the acquisition, RSG Group will have more than 900 fitness locations on six continents. Gold's Gym had filed for Chapter 11 bankruptcy protection from creditors in May.\\n\\nMeridia Private Equity has invested in Vetsum, a veterinary care provider in Spain. Alongside Kipenzi, the company's majority shareholder, Meridia plans to grow Vetsum by accelerating its \"buy and build' consolidation strategy.\\n\\nBear Down Brands, a portfolio company of Topspin Consumer Partners, has acquired Verilux Inc., a Waitsfield, Vermont-based provider of lighting products that simulate natural light indoors for reading and seasonal light therapy. Huntington Beach, California-based Bear Down is a developer and marketer of home, health and wellness products marketed under the Pure Enrichment, Bentgo, Brusheez and EasyLunchboxes brands. Intrepid Investment Bankers advised on the deal.\\n\\nATTOM Data Solutions, curator of a national property database, has acquired Home Junction Inc., a real estate data technology company. Monroe Capital supported the deal through an increased credit facility to ATTOM.\\n\\nTrident Energy, an independent oil and gas company operating in Equatorial Guinea, has acquired the Pampo and Enchova offshore oil basins from the Brazil-run Petrobras.\\n\\nDEAL TRENDS\\n\\nA June survey of senior executives and M&amp;A professionals found that the Covid-19 pandemic is creating uncertainty about the strength of the U.S. economy over the next 12 months, with respondents evenly split between positive, neutral or negative outlooks. But looking out 24 months, respondents are overwhelmingly positive about the U.S. economic outlook, reports Dykema and the Association for Corporate Growth -- Detroit, San Antonio/Austin and Columbus Chapters, which conducted the survey. The survey respondents also say that the No. 1 driver of U.S. M&amp;A deal activity is the health of the U.S. economy, and most believe their company or portfolio companies will be involved in an M&amp;A transaction in the next 12 months.\\n\\nAfter a three-month decline that brought U.S. manufacturing activity to its lowest level since the global financial crisis, the industry showed signs of slight recovery in May and June, according to Capstone Headwaters' Industrials &amp; Manufacturing Update. Capstone reported that from speaking to industry players and private equity firms about how Covid-19 has impacted their business model and merger and acquisition appetite, the firm has found that while activity has slowed, select M&amp;A transactions are still underway.\\n\\nWilliam Blair has added two senior investment bankers: Jamie Hamilton as managing director, financial technology investment banking, and B.T. Remmert as managing director, IT services investment banking, both in Atlanta.\\n\\nEQUALITY AND INCLUSION\\n\\nA 2019 report from the Institute for Policy Studies shows that the median wealth for Black families in 2016 was $3,557 -- about 2% of the median wealth owned by white families, which owned nearly $147,000 in the same year. For banks to play a major role in closing the income gap between whites and Blacks, they'll need to diversify their top leadership and middle-management ranks. New hiring and promotional policies could reshape banks' understanding of local communities' needs and expand who gets mortgages or small-business loans and which families build lasting wealth. Including more people of color in bank management would diversify the flow of capital, says Malia Lazu, the chief experience and culture officer at Berkshire Hills Bancorp in Boston. See the full story: How banks aim to close racial wealth gap: More minorities in leadership.\\n\\nTen private equity firms have pledged to each create and post five board seats to make them available to minority and women candidates, participating in an initiative to increase diversity on company boards of directors. Aurora Capital Partners, Clearlake Capital, Genstar Capital, Grain Management, Hellman &amp; Friedman, Hg, Insight Partners, K1 Investment Management, TA Associates and Vista Equity Partners have committed to the board initiative announced by Diligent Corp., provider of company governance software and a portfolio company of Clearlake and Insight. Read our full coverage: Clearlake, Insight, Vista and other private equity firms create 50 new board roles for diverse candidates.\\n\\nPortfolia Rising America Fund \"invests directly in early and growth-stage companies in the U.S. led by people of color and/or LGBTQ founders, or products and services that cater to these markets,\" says investment partner Lorine Pendleton in a Q&amp;A with Mergers &amp; Acquisitions. \"These are founders, ecosystems, products and services historically overlooked by traditional venture capitalists but positioned for significant growth and profitability.\" The firm is led by five women of color. In addition to Pendleton, the firm's leaders are: Noramay Cadena, co-founder and managing partner of MiLA Capital; Daphne Dufresne, a managing partner of GenNx 360 Capital Partners; Juliana Garaizar, an angel investor; and Karen Kerr, executive managing director at GE Ventures. \"We believe that strength lies in differences and seek out entrepreneurs and startups who are using shifting demographics and their own diversity of experience and thought to create innovation that offers outsized opportunities for returns and impact.\" The fund had its first close earlier in 2020 and has made two investments to date: The first investment is in MoCaFi, a fintech startup founded by Wole Coaxum, a former JPMorgan Chase commercial banking executive and entrepreneur, who is African American. \"MoCaFi offers a mobile-first banking platform that brings digital banking products to underbanked or unbanked communities (an 88 million U.S. market), allowing them to build credit and financial mobility,\" Pendleton explains. The second investment is in a women's tele-medicine network. For more, read the full interview: Led by 5 women of color, Portfolia Rising America Fund backs mobile banking and women's telemedicine startups.\\n\\n\"As stewards of capital we have an outsized role in determining which businesses to support,\" says Mina Pacheco Nazemi of Barings Alternative Investments. \"As asset allocators, we need to hold ourselves accountable. I can do more. Will you join me?\" Dealmakers begin to weigh in, as Gerge Floyd's death sparked two weeks of Black Lives Matter protests against police brutality and racial injustice. Read the story: \"Justice doesn't just happen. It requires action, dedication and accountability,\" says one private equity investor.\\n\\nCORONAVIRUS IMPACT\\n\\nLast year Saudi Aramco, the world's biggest oil producer, was set to buy a 20 percent stake in Reliance Industries Ltd.'s refining and petrochemicals business, valuing it at $75 billion. But Mukesh Ambani, Asia's richest tycoon, said on Wednesday that a deal hadn't been worked out yet with the delay partly down to the coronavirus.\\n\\nUnder normal circumstances, M&amp;A demands a robust set of tools and services to be successful. In today's environment in which the stakes have been raised by the coronavirus crisis, professional help from service providers is more important than ever. Private equity firms and their portfolio companies want to know what actions they can or should take, and what their peers are considering, to make the best decisions possible in response to the Covid-19 pandemic. Through talking with many different affected parties, service providers have streams of data and information that can help investors make informed decisions and minimize negative economic impacts on their investments. Mergers &amp; Acquisitions examines offerings from EHE Health, Norgay Partners, Cepres, Valuation Research Corp. and Axial. \"The stakes are high today,\" says Greg Mansur, chief client officer at EHE Health, which provides a playbook on getting companies back to work safely. \"We want to be part of the solution for our clients. We want to help them through this and help America get back to work.\" Read our full coverage: 5 service providers guide dealmakers through the next phase of the pandemic.\\n\\nAs transactions previously delayed due to the pandemic begin to pick up, acquirors and investors in the middle market should evaluate the target's performance during the unprecedented disruption presented by the pandemic, and adjust expectations for the immediate and medium term. Supplemental due diligence is not only prudent -- it is likely to be required as a condition to the placement of any representations and warranties insurance. Essential considerations include whether the target has been able to innovate and whether the valuation agreed to in a letter of intent should be revisited. Buyers should also review any termination provisions to determine whether any breakup fee would be payable. See our full coverage: 11 factors for dealmakers to consider before buying a company during the pandemic.\\n\\nMany companies are unprepared to face the tremendous economic challenges brought on by the pandemic. For buyers, navigating this new world of distressed M&amp;A may be the hardest obstacle to overcome in transactions with insolvent organizations. Read the full article: Coronavirus puts spotlight on distressed M&amp;A.\\n\\nDigital technologies like artificial intelligence and advanced analytics can help organizations to accelerate their pace and expand their insights quickly -- advantages that are especially crucial in times of rapid change. See the full story: How analytics can rebalance M&amp;A in the wake of the coronavirus.\\n\\nArizent, the parent company of Mergers &amp; Acquisitions, released a new survey May 15 to understand how executives across industries were dealing with the impacts of the Covid-19 crisis after operating in a \"new normal\" environment for two months. As the coronavirus pandemic continues to extend its grip on the globe -- infecting more than 1.41 million Americans (over 4.44 million globally) by the middle of May -- executives must navigate their organizations through uncharted territory, with the possibility that the virus may not disappear any time soon. This is forcing C-suites to make big, lasting decisions with few guideposts to aid them. The April survey found that there was a surprisingly smooth, albeit hurried transition to remote, with most companies, including private equity firms and investment banks, feeling that they performed on par or above their own expectations. However, technology gaps did arise, as some companies found that customers either didn't have the equipment to access their accounts digitally or needed training from staff working remotely. In the middle market, dealmakers report that \"opportunities have thinned somewhat but have not disappeared,\" as one private equity investor put it. \"Investor base still has liquidity to invest.\" Said one investment banker focused on real estate: \"Pending deals were either put on hold, cancelled or delayed. Asset prices for listings are being re-evaluated or renegotiated with the sellers and buyers expecting discounts.\" For more, see: Exclusive survey: How private equity firms, investment banks and other companies are surviving the pandemic.\\n\\nWhat do you do when you're a dealmaker under quarantine, and face-to-face meetings are out of the question? For Work from Home (WFH) strategies, Mergers &amp; Acquisitions turns to eight prominent dealmakers from private equity firms, investment banks, lenders and law firms. \"I miss the excitement of a great conference; wearing my nice clothes, early morning breakfasts, the one-on-ones, drinks with my women 'tribe,' and dinner at a steakhouse, even though I am a vegan,\" says Amy Weisman, managing director, business development, Sterling Investment Partners. In some respects, it is easier to build relationships now, explains Nanette Heide, partner, co-chair, private equity group, Duane Morris. \"Meeting folks over a video conference from their home is immediately humanizing.\" M&amp;A pros also point out that human factors play a role. \"Emotional Quotient (EQ) is more important than ever during trying times,\" says Jeremy Holland, managing partner, origination, The Riverside Co. \"It's critical to remember that the dealmaker on other side of the (now figurative) deal table is a person, too. They have good and bad days and presumably know many people in high-risk categories, potentially even themselves. Being extra thoughtful about each interaction is important.\" Read our full coverage: Dealmaking under quarantine: 8 private equity and M&amp;A pros share strategies while social distancing.\\n\\nMORE FEATURED CONTENT\\n\\nMergers &amp; Acquisitions is recognizing nine dealmakers as the 2020 Rising Stars of Private Equity:\\n\\nThese outstanding up-and-coming investment professionals have been excelling during a period of profound change in the U.S. and in the world. The publication of this list comes at a pivotal moment in time. The country is beginning to open up after three months of quarantine from the coronavirus, while a second wave picks up steam in the Sun Belt from South Carolina to California and including Texas. Dealmaking under quarantine while working from home has proved challenging, to say the least.\\n\\nSocial justice issues have taken on fresh urgency. There is heightened awareness of systemic racial injustice and police brutality against Blacks after the deaths of George Floyd and many others. Meanwhile, the U.S. Supreme Court ruled recently that, \"An employer who fires an individual merely for being gay or transgender defies the law.\" On immigration policy, the Court recently put the brakes on dismantling the Deferred Action for Childhood Arrivals, or DACA. Meanwhile, the President is asking the Court to overturn the Affordable Care Act, also known as Obamacare.\\n\\nClick here for full coverage of Mergers &amp; Acquisitions' 2020 Rising Stars of Private Equity.\\n\\nIn the challenging times we face now, it's more important than ever to come together as a community and recognize the people and companies that excel and lead. We invite you to join us in honoring the 2019 winners of Mergers &amp; Acquisitions' M&amp;A Mid-Market Awards. In contrast with the volatile coronavirus-driven conditions unfolding in 2020, the dealmaking environment of 2019 was remarkably stable. Among the PE firms benefitting from the auspicious fundraising climate was Vista Private Equity, which raised a $16 billion fund - the largest technology-focused PE fund ever raised. Mergers &amp; Acquisitions is honoring Vista founder and CEO Robert F. Smith with our 2019 Dealmaker of the Year award. In addition to leading his firm's unprecedented fundraising, Smith excelled in philanthropy. When he spoke at the commencement of Morehouse College, he announced he would pay off all the student loans of the HBCU's 2019 graduates, providing a helping hand in the student debt crisis facing many U.S. families. The financial services sector saw a lot of consolidation in 2019. Piper Jaffray wins our 2019 Deal of the Year for buying Sandler O'Neill to form Piper Sandler, which instantly became a leading investment bank in the financial services sector. And Stifel wins our 2019 Investment Bank of the Year for growing dramatically and making several acquisitions. Read our full awards coverage: Meet the winners of Mergers &amp; Acquisitions' M&amp;A Mid-Market Awards.\\n\\nTo celebrate deals, dealmakers and dealmaking firms, Mergers &amp; Acquisitions produces three special reports every year: the M&amp;A Mid-Market Awards; the Rising Stars of Private Equity; and the Most Influenital Women in Mid-Market M&amp;A. For an overview of what we're looking for in each project, including timelines, see Special reports overview: M&amp;A Mid-Market Awards, Rising Stars, Most Influential Women.</td>\n",
              "      <td>Meridia Private Equity has invested in Vetsum, a veterinary care provider in Spain.</td>\n",
              "      <td>5546</td>\n",
              "      <td>invested_in</td>\n",
              "      <td>who invested in Vetsum?</td>\n",
              "      <td>{'answer_start': [0], 'text': ['Meridia Private Equity']}</td>\n",
              "      <td>10407</td>\n",
              "      <td>10407</td>\n",
              "      <td>10407</td>\n",
              "    </tr>\n",
              "    <tr>\n",
              "      <th>2</th>\n",
              "      <td>13095</td>\n",
              "      <td>[Facebook, Dustin Moskovitz]</td>\n",
              "      <td>[[63, 71], [83, 99]]</td>\n",
              "      <td>founder</td>\n",
              "      <td>YouTube upgraded to show 60 frames per second recently - and put top-quality video out of reach for half of UK households. CC-licensed photo by Sean MacEntee on Flickr.\\n\\nDavid McCabe, Cecilia Kang and Daisuke Wakabayashi:\\n\\n\"\\n\\nThe Justice Department accused Google of illegally protecting its monopoly over search and search advertising in a lawsuit filed on Tuesday, the government's most significant legal challenge to a tech company's market power in a generation.\\n\\nIn a 57-page complaint, filed in the US District Court in the District of Columbia, the agency accused Google of locking out competition in search by obtaining several exclusive business contracts and agreements. Google's deals with Apple, mobile carriers and other handset makers to place its search engine as the default option for consumers accounted for most of its dominant market share in search, the agency said, a figure that it put at around 80 percent.\\n\\n\"For many years,\" the suit said, \"Google has used anticompetitive tactics to maintain and extend its monopolies in the markets for general search services, search advertising and general search text advertising -- the cornerstones of its empire.\"\\n\\nThe lawsuit signals a new era for the technology sector. It reflects pent-up and bipartisan frustration toward a handful of companies -- Google, Amazon, Apple and Facebook in particular -- that have morphed from small and scrappy companies into global powerhouses with outsize influence over commerce, speech, media and advertising. Conservatives like President Trump and liberals like Senator Elizabeth Warren have called for more restraints over Big Tech.\\n\\n\"\\n\\nHere's the lawsuit. And here's Google's blogpost in response, titled \"A deeply flawed blogpost that would do nothing to help consumers\".\\n\\nSo. A little history. When Google was being sued by the EC in 2010 over its suppression of shopping comparison sites - beginning with the British company Foundem - I thought the EC was making the right move, and focusing on the correct topic: that Google was manipulating search to favour its own products over what consumers evidently wanted. Effectively, that's annexation: using your power in the market to push others out of an adjacent market.\\n\\nI thought the EC lawsuit against Google over tying Google services to Android was reasonable, too. It's a slightly different situation - an effective monopsony: Google's the only useful supplier for Android that people want outside China. (Ask Huawei.) The OEMs would all have to defect from Google to have any effect; and defection back would be more profitable.\\n\\nBut this? This is nonsense. There's no law against being a monopoly in the US. The 1998 lawsuit against Microsoft was about tying the provision of Windows to the use of Internet Explorer - when browsers were a new technology. IBM nearly missed out on the whole Windows95 launch because it resisted.\\n\\nThe FTC had an excellent chance to act on this right back in 2013 but whiffed it. If the DoJ and the states really want to make their case work, they should revisit that casework. But it wasn't about being a monopoly. It was about suppressing rivals in shopping search.\\n\\nBrian Chen spent ages trying to find 5G, and when he did it was basically to try out the Speedtest app; there's no real use for 5G. Then there's the rest of the phone:\\n\\n\"\\n\\nApple also said it had strengthened the display glass, making it four times less likely to break. It's difficult to test that scientifically, but I dropped the iPhone 12 and iPhone 12 Pro several times by accident on hard surfaces. They survived without any scuffs.\\n\\nAlso new is a charging mechanism that Apple calls MagSafe. It's basically a new standard to support faster charging via magnetic induction. The new standard will open doors to other companies to make accessories that magnetically attach to iPhones, such as miniature wallets.\\n\\nI tested both the MagSafe charger and Apple's MagSafe wallet. But I preferred charging with a normal wire because it was faster, as well as carrying my own wallet, because it can hold more cards.\\n\\nThere's a major downside to all of the new features: We have to pay a lot for these phones. Apple is also no longer including charging bricks or earphones with the new iPhones since so many people already own power bricks and fancy wireless earbuds. While that will lead to less waste, this shift and the price jump may annoy plenty of people.\\n\\n\"\\n\\nThere's also Nilay Patel's review at The Verge, which looks in more detail at the camera quality. He and his video producer are enthusiastic.\\n\\n\"\\n\\nSweden has banned Huawei Technologies and ZTE from gaining access to its fifth-generation wireless network, adding to the increasing number of European governments forcing local telecom companies to shift away from Chinese suppliers.\\n\\nThe Swedish Post and Telecom Authority said in a statement Tuesday that the \"influence of China's one-party state over the country's private sector brings with it strong incentives for privately owned companies to act in accordance with state goals and the communist party's national strategies.\"\\n\\nThe authority said that the two Chinese technology giants' equipment must be removed from existing infrastructure used for 5G frequencies by January 2025.\\n\\nThe US has described Huawei as the \"backbone\" of surveillance efforts by the Chinese communist party, and is pressuring European governments to block the technology company from gaining access to 5G networks. The UK has already imposed an outright ban on Huawei's 5G equipment, while German Chancellor Angela Merkel has so far hesitated to follow suit.\\n\\n\"\\n\\nAnother domino falls. Significant that it's banning ZTE as well. Though of course Sweden doesn't have to look far to find a network supplier: Ericsson is home-grown. Or it can give Nokia, in neighbouring Finland, a call.\\n\\n\"\\n\\nThis week we're going to talk about how YouTube broke HD for me and about 40% the UK population, give or take.\\n\\nI moved to a newer home earlier this year and like most places in the UK (even in London) it only had broadband internet aka slow ADSL over copper. It's pushing a good 4.2 Mbps, sometimes up to 4.6 Mbps on a good day.\\n\\nYouTube decided to rollout 60 FPS videos by default to everyone. It came in effect automatically for most videos published over the past couple years.\\n\\nHave a look at quality setting and see what pops up. If the video is relatively recent the options are usually limited to: 1080p60, 720p60, 480p ...\\n\\nThere's no setting and there's no opt-out to get back to 30 FPS. Like all software updates lately, the switch happened and there's nothing you can do about it.\\n\\nProblem: 60 FPS video requires roughly 50% more bandwidth than 30 FPS video.\\n\\n\"\\n\\nProblem arising from the fact that about 45% of UK households have a connection speed lower than 8Mbps, and you need above that for 1080p60fps; but only half that (which would work with most of the country) for 1080p30fps. It would be good if Google allowed a fallback to 30fps, but it doesn't seem to be doing that.\\n\\n\"\\n\\nlet's be honest with ourselves for a moment: when did you actually ever enjoy talking to a chat bot? And I'm not talking about the type of bots you talk to when you're bored, but about those that provide a deeper purpose.\\n\\nIt turns out that the answer is, at least for most of us, almost never.\\n\\nI love you Intercom, except when I don't. 99% of time I don't want to talk to a silly and obtrusive avatar popping up from some corner of the screen before I even had a chance to check out what's going on. Somehow, I can't help but think others feel the same.\\n\\nIn fact, we do know that others feel the same. Chat heads jumping at us unasked, are the quintessential equivalent of the infamous sales clerk who eagerly talks to us upon entering a store.\\n\\nTo further add to the challenges: as soon as users go off-script, chat bot's don't just become awkward and unpredictable -- they turn into little sociopaths that might rub users the wrong way.\\n\\nThe moment you create a chat bot is the moment you allow customers to have a conversation with your brand. Not with yourself, not with your friend, but with an uber entity -- a symbol -- that represents everything you and your team stand for. That's not a step to be taken lightly.\\n\\n\"\\n\\nPersonally, I never ever ever wanted to talk to a chatbot. You know that it's only an intermediate step towards dealing with a real human, or using a website with an interface you can navigate with your eyes, rather than an Adventure-style guessing game.\\n\\nBut they seem to be on the way out, so that's something.\\n\\n\"\\n\\nOrganizations that learn with AI have three essential characteristics:\\n\\n1. They facilitate systematic and continuous learning between humans and machines. Organizational learning with AI isn't just machines learning autonomously. Or humans teaching machines. Or machines teaching humans. It's all three. Organizations that enable humans and machines to continuously learn from each other with all three methods are five times more likely to realize significant financial benefits than organizations that learn with a single method.\\n\\n2. They develop multiple ways for humans and machines to interact. Humans and machines can and should interact in different ways depending on the context. Mutual learning with AI stems from these human-machine interactions. Deploying the appropriate interaction mode(s) in the appropriate context is critical. For example, some situations may require an AI system to make a recommendation and humans to decide whether to implement it. Some context-rich environments may require humans to generate solutions and AI to evaluate the quality of those solutions. We consider five ways to structure human-machine interactions. Organizations that effectively use all five modes of interaction are six times as likely to realize significant financial benefits compared with organizations effective at a single mode of interaction.\\n\\n3. They change to learn, and learn to change. Structuring human and machine interactions to learn through multiple methods requires significant, and sometimes uncomfortable, change. Organizations that make extensive changes to many processes are five times more likely to gain significant financial benefits compared with those that make only some changes to a few processes. These organizations don't just change processes to use AI; they change processes in response to what they learn with AI.\\n\\nOrganizational learning with AI demands, builds on, and leads to significant organizational change.\\n\\n\"\\n\\nThis sounds to me, without knowing the detail of the organisations, like they're obliged to change to fit with the demands of the AI, rather as organisations had to become more computer-like to better adjust to the broader use of computers. How many people in a day do you hear say \"just got to enter a few details into the computer, be with you in a minute...\"\\n\\n\"\\n\\nHave we reached \"peak subscription streaming\" in the way that some scientists fear that we're approaching \"peak oil,\" the theoretical point at which more oil has been extracted from the earth than remains in it? The streaming situation is far less grim -- peak oil assumes that production will decline, while streaming-subscription numbers will presumably stop growing but not decrease -- but there's one important parallel. Just as we're running out of \"easy oil\" and the price of a barrel increases as we move from drilling wells to more expensive extraction methods like fracking, we're also running out of what we might call \"easy subscribers\": young, tech-savvy music fans, many of whom have smartphones with iOS, which makes commerce easy. Finding more will require marketing, whether that means courting more Android users, selling skeptics on the value of music streaming or trying to take subscribers from other companies -- which costs money. It could also put pressure on services to lower prices, at precisely the point when they also have an incentive to raise them in order to show bottom-line growth.\\n\\nTo get a sense of what's ahead, it's worth looking at two markets that adapted to streaming early, Sweden and Norway, which make some of these concerns look a bit like the boy who cried wolf. Since 2015, when analysts first began predicting that music streaming services were running out of potential subscribers, the music business consultancy MIDiA estimates subscription numbers are up 85% in Sweden and 78% in Norway.\\n\\nThen again, remember what happened to that boy who cried wolf in the end? It could be that the predator is still on his way -- he just hasn't quite arrived yet.\\n\\n\"\\n\\nIn possibly related news, Netflix said subscriber growth slowed in the most recent quarter. (Via Benedict Evans's newsletter.)\\n\\n\"\\n\\nA little-known Democratic super PAC backed by some of Silicon Valley's biggest donors is quietly unleashing a torrent of television spending in the final weeks of the presidential campaign in a last-minute attempt to oust President Donald Trump, Recode has learned.\\n\\nThe barrage of late money -- which includes at least $22m from Facebook co-founder Dustin Moskovitz -- figures among one of the most expensive and aggressive plays yet by tech billionaires, who have spent years studying how to maximize the return they get from each additional dollar they spend on politics. Moskovitz is placing his single biggest public bet yet on the evidence that TV ads that come just before Election Day are the best way to do that.\\n\\nThe super PAC, called Future Forward, has remained under the radar but is spending more than $100m on television and digital in the final month of the campaign -- more than any other group -- on behalf of Democratic presidential nominee Joe Biden outside of the Biden campaign itself.\\n\\n\"\\n\\nWhat better way, when you deeply desire your advertising spend to have a meaningful effect, than to demonstrate the targeting power of advertising on the platform that you've helped create by *checks notes* using a completely different one.\\n\\n\"\\n\\n[US CIA official in charge of blocking Russian counterintel work, Marc] Polymeropoulos was stunned by how unabashedly combative his Russian counterparts were. He had spent his career in a region where people were exceedingly polite, rolling out banquets and plying him with tea, even as he knew they were plotting to kill him. He knew the Russians didn't like him, but \"I would have expected them to be a little more polite,\" Polymeropoulos told me.\\n\\nNonetheless, he figured that this was little more than bluster. He knew he had to be careful in Russia and to be wary of Russian agents trying to entrap him in compromising situations -- for example, the beautiful young women at the rooftop bar of the Moscow Ritz-Carlton who seemed determined to chat up him and his colleague. But Polymeropoulos figured he had no reason to fear for his physical safety. Even after that awful night in the Marriott, Polymeropoulos did not immediately suspect anything malicious. By morning, the worst of the symptoms had passed and he seemed to be doing better, confirming his suspicion that it had just been something he'd eaten. Just a few hours after he'd been incapacitated, he managed to get on a train to St. Petersburg, where he felt well enough to walk for miles, duck into more dive bars, and even glimpse the famous troll factory. He even did some Christmas shopping for his wife and kids. That miserable, terrifying night in his Moscow hotel room receded in his memory.\\n\\nTwo days before the end of his trip, Polymeropoulos and his colleagues were eating dinner at Pushkin, a posh Moscow restaurant, when he suddenly felt the room begin to spin again, just as it had in the hotel room that night. A wave of nausea hit, and he was suddenly drenched in sweat. He barely made it back to his hotel room, where, having canceled all his meetings, he stayed for the rest of his trip, unable to move. His body was in revolt, and he had no idea why. \"I made it back on the airplane somehow,\" Polymeropoulos said.\\n\\nIt wasn't until Polymeropoulos got home to the Virginia suburbs that it occurred to him that what had happened in Moscow was possibly the result of something far more sinister that what he'd originally suspected. In February, after a few weeks of relative normalcy, he started feeling an intense and painful pressure that started in the back of his head and radiated forward into his face.\\n\\n\"\\n\\nGiven Russians' proclivities, wonder if this and other cases was very low-grade chemical poisoning, not some sort of radiation.\\n\\nSarah Ditum on the popular response to New Zealand TV journalist Tova O'Brien demolishing failed political candidate Jami-Lee Ross:\\n\\n\"\\n\\nPerhaps it doesn't matter very much in the case of Ross. Advance got less than 1% of the vote, so you can hardly think of him as the representative of New Zealand's Covid-denying left-behinds. More worrying is the idea that O'Brien is some kind of role model for journalists -- \"the way it should be done\". What she offers is the stupefaction of a cheap pleasure, which is fine once in a while, but nothing you can live on. Turn this approach on an actually popular populist, rather than a sadsack failure content to soak up the last moments of his dead career, and you'd quickly have a polarised nightmare.\\n\\nRather than attack people as liars or presume their bad faith, Ripley suggests journalists should look for ways to open conversations: instead of telling people what they think, ask them about why they believe the things they do. Often, the things that people seem to be at odds over are just proxies for underlying issues; and sometimes, those underlying issues are more tractable than you ever expected.\\n\\nIt's even possible that the questioner could be the one to change their mind about something.\\n\\n\"\\n\\nI think this is wrong. Take Jonathan Swann's interview with Trump: while Swann didn't cut Trump off for talking nonsense, he absolutely did call him on his nonsense because he knew the indisputable facts. Ditto Chris Wallace, who had been wily enough to take the mental aptitude test that Trump was going to boast about, and so could contradict Trump from a position of knowledge.\\n\\nThe common thread in all three: being prepared with knowledge of what the facts are, and not being prepared to take dissembling crap around it.</td>\n",
              "      <td>The barrage of late money -- which includes at least $22m from Facebook co-founder Dustin Moskovitz -- figures among one of the most expensive and aggressive plays yet by tech billionaires, who have spent years studying how to maximize the return they get from each additional dollar they spend on politics.</td>\n",
              "      <td>13088</td>\n",
              "      <td>founded_by</td>\n",
              "      <td>who founded Dustin Moskovitz?</td>\n",
              "      <td>{'answer_start': [63], 'text': ['Facebook']}</td>\n",
              "      <td>5894</td>\n",
              "      <td>5894</td>\n",
              "      <td>5894</td>\n",
              "    </tr>\n",
              "    <tr>\n",
              "      <th>3</th>\n",
              "      <td>309</td>\n",
              "      <td>[Platinum Equity, Cision]</td>\n",
              "      <td>[[7, 22], [40, 46]]</td>\n",
              "      <td>acquisition</td>\n",
              "      <td>Cision, an industry-leading earned media communications management and media advisory platform, today announced it has appointed Abel Clark as Chief Executive Officer, effective immediately. Brandon Crawley, Managing Director at Platinum Equity was acting as Interim CEO.\\n\\n“Since Platinum Equity’s acquisition of Cision, our focus has been on unlocking the value potential of the business,” said Crawley. “We are excited for Abel to help push this vision forward and confident that his customer-oriented approach and his extensive background in driving successful global growth strategies will be invaluable.”\\n\\nClark has extensive experience executing high-impact growth strategies and business transformations, with an impressive track record of leading strong and engaged teams to accelerate revenues and profitability.\\n\\n“I am thrilled to be joining Cision at such an exciting time for the company and our customers,” said Clark. “Cision has a world-class global earned media management platform and we are best positioned to partner with our customers in order to deliver the next-generation of technology, workflow solutions and market insight.”\\n\\nMost recently, Clark was CEO and Chairman of TruSight, a start-up backed by leading financial services companies, established to transform third party risk management. Under his leadership the business achieved rapid market adoption and customer expansion, positioning the company for long-term success.\\n\\nPreviously, Clark was the Global Managing Director of Thomson Reuters’ $5.5bn Financial division, serving 40,000 customers in over 100 countries. His focus on strategic growth opportunities, resource reallocation, business simplification and the shift from a product focus to a customer-led platform business resulted in an increased organic growth rate and substantial margin expansion. Prior to his role in the Financial division, Clark ran the $1.8bn trading systems business, Marketplaces, during which time he led the turnaround and re-positioning of the global foreign exchange business to achieve market leadership and sustainable growth. Earlier, he was the Chief Strategy Officer for Thomson Reuters Corporation and member of the Executive Committee.</td>\n",
              "      <td>“Since Platinum Equity’s acquisition of Cision, our focus has been on unlocking the value potential of the business,” said Crawley.</td>\n",
              "      <td>298</td>\n",
              "      <td>acquired_by</td>\n",
              "      <td>who acquired Cision?</td>\n",
              "      <td>{'answer_start': [7], 'text': ['Platinum Equity']}</td>\n",
              "      <td>10990</td>\n",
              "      <td>10990</td>\n",
              "      <td>10990</td>\n",
              "    </tr>\n",
              "    <tr>\n",
              "      <th>4</th>\n",
              "      <td>27843</td>\n",
              "      <td>[HonestJohn.co.uk, Heycar]</td>\n",
              "      <td>[[0, 16], [108, 114]]</td>\n",
              "      <td>bought</td>\n",
              "      <td>Bonmarché, the value-oriented clothing retailer, went into administration for the second time in a year on December 2, 2020.\\n\\nThere are 226 stores and more than 1200 employees. It is owned as a separate business by Philip Day, whose EWM is also in crisis (see below).\\n\\nPhilip Day put this company into administration a few months ago, and reaquired it via a pre-pack. It is thought unlikely that he will do this again a second time.\\n\\nAge UK, the charity focused on supporting the elderly, closed 133 of its 392 charity outlets in 2020 and made 400 people redundant. During the first lockdown approximately 70 per cent of its staff were on furlough.\\n\\nDebenhams, the oldest retail chain in the UK, announced on December 1, 2020 that it had no alternative except to go into liquidation.\\n\\nBooHoo is to acquire the Debenhams' website, brands and goodwill, but close the Debenhams' stores, came on 25 January 2021.\\n\\nIt marks the end of a well-known retailer, whose problems stemmed from the manner in which the company was managed or exploited in the last 20 years.\\n\\nIn the past 35 years it has had a variety of owners none of which was fundamentally committed to the future of Debenhams Group or was able to introduce a coherent long-term strategy.\\n\\nArcadia, the fashion giant owned by Philip Green's wife in Monaco, went into administration on the last day of November 2020. It consists of the former Burton Group, with major subsidiaries Topshop, Dorothy Perkins, Burtons, Miss Selfridge, Wallis and Evans.\\n\\nThese are all well-known brands. The administrators are allowing the stores and the website to continue to trade while new purchasers for the business or businesses are found. There are around 440 stores and 12,000+ staff.\\n\\nThe heyday of Philip Green's Arcadia was probably 2004-2007, but it failed to invest sufficiently in shops, IT or modern designs. Its dinner has been eated by upstarts like Primark, BooHoo, Zara, Next and even by grocery clothing lines.\\n\\nFor some years, the company has lacked a clear sense of direction and suffered from low investment and an unwillingness to develop its online sales. It has cut its store numbers by more than half since 2012. Comparatively staid business like John Lewis and Next have heavily invested in their online operations and now produce half their sales online.\\n\\nASOS, the UK online fashion retailer, has acquired from the shell of Arcadia the brands and websites of Topshop, Topman, Miss Selfridge and the athleisure HIIT brands. The purchase excludes the retail stores owned by Arcadia, but there may be further news of these later.\\n\\nThe Irish arm of Arcadia comprising TopShop, Dotty P, Burton, Miss Selfridge etc have now closed and all 490 staff are being made redundant. The administrators have sold to online-retailer BooHoo, the online business and original Burton brands, Burtons, Dorothy Perkins and Wallis. Meanwhile, news from Deloitte is that Arcadia owed creditors as follows: HMRC £44.2m, suppliers £163m, landlords £35.5m and giftcard holders £5.6m. As secured creditors, the Green's family loan of £50m takes precedence over the unsecured creditors. The bill for taxpayers will be around £250m+, consisting of the redundancy pay owing to sacked staff and supporting the pension scheme.\\n\\nEdinburgh Woollen Mill and Ponden Mill, both parts of Edinburgh Woollen Mill Group (EWM Group), went into administration in November.\\n\\nBut Pureplay Retail Limited, a company backed by 'international investors', has since taken over the EWM Group along with Bonmarché which owed £190m to creditors.\\n\\nPureplay has taken over 50 Bonmarché stores (1,000 staff) and 246 EWM and Ponden Home sites (1,452 staff). Bonmarché originally had 225 stores when it went into administration. Around 85 EWM and 34 Ponden Home stores will be closed and their 485 staff will lose their jobs.\\n\\nThis is in addition to the 64 closures and 860 staff that lost their jobs when EWM originally went into administration.\\n\\nIt seems that Philip Day, the founder of the EWM Group, may have lent investors some of the money required to buy out his operations, but retains fixed and floating charges as a secured creditor over the business along with Pureplay Retail Limited. Under the new agreement, Philip Day seems to have retained ownership of the various brands that are franchised to Pureplay Retail.\\n\\nJ Crew, American 'preppy' clothing retailer, is to close all six of its UK stores making their staff redundant. Its parent company has recently emerged from administration and seems to have decided to liquidate its UK subsidiary.\\n\\nCeline Group Holdings, the parent company of Debenhams, has called in FRP Advisory to prepare for its own administration.\\n\\nThis is understood to have been done to prevent any creditor taking action against them in the period when Debs is up for sale and trying to find a new owner.\\n\\nIt is said that interest is overdue on £200m of loans made to Celine: administration would mean there would be no need to pay it. Any administration of Celine would not affect Debenhams store operation per se.\\n\\nM&amp;Co, the Scots-based value clothing retailer previously called Mackays, has gone into administrators and been bought by its previous owners as part of a pre-pack to save the business. There are 262 stores and 2,700 employees.\\n\\nThe covid-19 lockdown cost the firm more than £50m: in its last financial year profits fell by 40 per cent to £3.6m. Forty-seven stores are to close (380 redundancies) as part of its recovery plan.\\n\\nD W Sports, a sportswear and gym retailer owned by Dave Whelan, went into administration in the first days of August.\\n\\nThe company's outlets - as non-essential retailers - have been closed since lockdown started: its 73 gyms were about to re-open until the change in government policy that postponed the resumption of trading by gymnasia, bowling alleys etc.\\n\\nThere are 75 DW Sports retail stores: these will all close in four weeks. The Group has a total of 1,700 employees. Twenty-five stores have closed already.\\n\\nThe Fitness First Group which is also owned by Dave Whelan is not to go into administration: its 43 clubs will remain trading.\\n\\nFeather &amp; Black, the award-winning bed specialist rescued in 2017 from administration, has been bought by Dreams.\\n\\nNone of its stores is to reopen after the easing of lockdown. It will become online only, probably with concessions in Dreams.\\n\\nOutstanding orders will be honoured. The Company was rumoured last February to be up for sale, so these closures are not strictly caused by coronavirus, although being closed for three months would not have helped its chances of survival.\\n\\nGrosvenor Shopping Centre in Chester went into receivership along with its car park earlier in July 2020. It was originally built in the 1960s and refurbished in the 80s. There are 101 retail units, all on one level. The Shopping centre continues trading.\\n\\nOliver Sweeney Trading, the retail arm of the prestige shoe company Oliver Sweeney Group, was placed in administration in mid-July.\\n\\nAll its seven stores are closed as the company sees its retail future as online only. This administration does not affect the wholesaling and online arms of the business.\\n\\nMuji, the Japanese high-street homewares retailer, has applied for bankruptcy protection in the U.S. It has debts of $64m and the Covid-19 lockdowns in the UK and the U.S. have hit it hard.\\n\\nIt won't be included in our UK figures, but, under U.S. law the corporation will be required to produce an exit plan to revamp the company. This may well have implications for UK stores. The stores continue to trade.\\n\\nCardinal, the Yorkshire-based firm of shopfitters (outfitting or remodelling store interiors), went into administration in mid-July.\\n\\nOne hundred and thirty-five staff amongst its 170 employees have already been made redundant. Their business has been hit by the pandemic.\\n\\nIn addition their customers (i.e. the retailers) were unable to make firm commitments about work they needed in 2020, H2, into 2021.\\n\\nThe impact of Covid-19 upon retailers has meant that most companies are now unsure about the number, type and location of stores that they are going to need in 2021-2025. The collapse of work for Cardinal is a symptom of the bloodbath on the high street.\\n\\nSoletrader, a footwear retailer established in 1962, went into a creditors' voluntary liquidation in mid-July 2020. Its assets including stock and brand names Sole and Soletrader were purchased by its owner, the Twinmar Group, and are now invested in a new subsidiary, Twinmar London.\\n\\nMost of the company's stores opened for trading in July, but eight shops have been closed. Soletrader's website is a separate entity and is unaffected by the liquidation.\\n\\nPeter Jones (China), a 50-year old crockery and gift business based in Wakefield, went into administration in mid-July. It had not opened after the lockdown eased. There were ten stores and 76 staff. The business is expected to be liquidated.\\n\\nNorville Group, a Gloucestershire-based firm of opticians and optical suppliers to the industry, went into administration early in June after selling its nine Norville Opticians' practices the previous week.\\n\\nSince then the former Norville laboratories, which were renowned for being able to produce lens to the very highest standard, have been acquired from administration by Inspecs, the new owner of the Norville Group, and continue to trade.\\n\\nBenson Beds, the beds and bedding business owned by Alteri, was put into pre-pack administration at the same time as Harveys (see below).\\n\\nAlteri bought the business out immediately and put £25m into the company to invest in its development. There are 242 stores and 1,900 staff. Bensons (at present) is seen as a much better business than Harveys, most UK bedding is made in the UK, it faces less competition from overseas operators and Alteri is likely to focus on improving its operations, while keeping Harveys Furniture stable. The company continues to trade and existing orders will be fulfilled.\\n\\nHarveys Furniture, the second largest furniture retailer in the UK, was put into administration by its owners, Alteri Investors on the last day of June.\\n\\nThere are 105 stores, which have been struggling for some years, and 1,575 staff. The company is looking to close 20 stores and make 240 staff redundant. The company continues to trade and existing orders will be satisfied.\\n\\nT M Lewin, retailer of shirts and ties online and in 65 stores, went into administration on the last day of June after failing to find a buyer.\\n\\nThe shops have not re-opened following the relaxation of the lockdown. The business had been acquired from Bain private equity only last month (May). The new owners, SCP Private Equity, expect to close all the stores, making the company online only. Six hundred employees are likely to lose their jobs.\\n\\nBertram Books, the Norwich-based book wholesaler, went into administration towards the end of June 2020 with debts now (Aug 2020) known to be £25m.\\n\\nMost of its 450 workforce has been made redundant. Bertrams was particularly important to smaller publishing companies.\\n\\nChanges in the book market in the last 20 years including the growth of online sales and dramatic price cutting, highly-promoted 'blockbusters', the growth of Amazon and direct-to-customer applications as well as e-books adversely affected Bertram Books' business model.\\n\\nBut sub-optimal decision-making by a succession of uncommitted owners have also brought it down.\\n\\nThe coronavirus pandemic, closing both libraries and bookshops, proved to be the final blow for Bertram Books.\\n\\nIntu Properties, the major property company that owns and manages some of the largest and best UK retail malls, went into administration on 26 June 2020. Many of its retail clients are not paying their rents and INTU's creditors are not as forebearing.\\n\\nIt has total debts of £4.5bn, a merger with a European property company came to nothing and it has failed to raise more capital. Its recent negotiations with other parties, where it hoped to arrange a 'standstill agreement' with its lenders, led to no useful outcome, so it went into administration.\\n\\nMajor sites include Lakeside, Glasgow's Braehead, Manchester's Trafford Centre, Nottingham's Victoria Centre and Norwich's Chapelfield. This administration will be a major blow to the UK retail sector, although, coming after many other impossible-to-believe 'major blows', its significance may be less apparent.\\n\\nIt may not be possible for the Administrators to run all the shopping centres without outside funding, although so far all sites have been kept open. It is still possible that many of their shopping centres will close unless a new potential buyer acquires some or all of them.\\n\\nGo Outdoors, the outdoor sports, walking, climbing, camping, riding and exercise retailer owned by JD Sports, went into administration towards the end of June.\\n\\nIt was immediately bought out of administration by J D Sports for £56.5m (pre-pack administration), enabling the company to be reorganised. J D Sports has stated that it wishes needs to re-think the Go Outdoors business but does not expect large-scale redundancies and closures.\\n\\nThere are 2,400 employees and 67 stores. Since the firm was bought by JD Sports it has lost £291m (to August 2019) and the massive losses caused by the coronavirus lockdown have only worsened the situation. In July, the Administrators estimated that unsecured creditors would receive only 1p in the £1.\\n\\nLee Longlands, the Birmingham-based upmarket furniture retailer, went into administration towards the end of June to enable the company to restructure and improve cash flow. The company continues to trade and outstanding orders will be met.\\n\\nThere are six stores, mostly in the Midlands. Lee Longlands was purchased via a management buy-out in 2015. The company started in Broad Street Bham as an antiques business in 1902.\\n\\nPoundstretcher Properties, a company connected to discount-chain Poundstretcher, is to be placed into administration as part of a CVA programme by 450-store group Poundstretcher to reorganise its store portfolio, cut rents and reduce other costs.\\n\\nThe Poundstretcher Group has argued that around 250 stores will close if the CVA is not approved by its creditors. Poundstrecher Properties holds the leases on only 23 stores and this will not affect the legal position or ownership of the group as a whole. Poundstretcher faces the same issues as the rest of the high street, compounded by the lockdown, now in its 85th day (it is really that long?).\\n\\nOak Furnitureland, the specialist furniture store that started off on eBay, has gone into administration, and was immediately bought out of administration (pre-pack) by hedge-fund Davidson Kempner Capital Management.\\n\\nThere are 105 showrooms and 1,491 employees. The business continues still to trade, but the new owner expects to rationalise the business, probably through the closure of some stores and reductions in staff.\\n\\nLe Pain Quotidien, the French-themed retailer, bread/coffee/restaurant chain, went into pre-pack administration in mid-June. It has been bought out of administration by a new vehicle, BrunchCo21, believed to be linked to its former owner, Cobepa. Ten of its 26 outlets have been closed with the loss of around 200 jobs in stores and the closure of its head office.\\n\\nThe new owners expect to negotiate T&amp;C with the landlords of the remaining 16 properties, and the results may lead of course to further closures.\\n\\nMonsoon Accessorize, the womenswear and accessories chain with 181 stores, went into administration early in June. It is a private company owned by its founder, Peter Simon: it started as a market stall.\\n\\nMonsoon Accessorize was immediately bought out of administration by Peter Simon. Thirty-five stores are to be closed with 545 employees being made redundant.\\n\\nThe business had 181 stores and 2,534 UK staff before administration. It is understood that Monsoon does not expect that every landlord will agree to the new conditions, but hopes to save around 100 stores and 2,300 jobs. The stores are based on careful, edited retailing which only encountered problems in the last decade.\\n\\nIn 2019 the company survived a previous crisis through a large cash injection from its owner, the closure of 40 stores and a CVA that cut rents on three-quarters of its stores.\\n\\nMonsoon's international business is unaffected, with 49 stores and 966 staff outside the UK.\\n\\nQuiz, the Glasgow-based fashion group, put its physical stores division into administration in early June. Ninety-three head-office and warehouse redundancies have already been declared. The business wants to renegotiate rents for its 82 stores and the eventual size of the group will only be known, when this has been done. KPMG has been appointed to review the firm's options, which are likely to include store closures. There are 915 staff in the stores division. Quiz's online business continues unaffected, as are its 300+ concessions.\\n\\nVictoria's Secret, the UK arm of the U.S.-owned global retailer, went into administration early in June 2020 having made a loss now known (Aug 2020) to be £100m in the last financial year. The UK fashion trade has experienced a torrid three years and the coronavirus lockdown, which prevented 'non-essential' stores trading (though not online), has been the final hammer blow. There are 25 stores and 800 staff. The company is reported as looking for a light-touch administration, allowing them to restructure the business, reduce costs and possibly find a new owner.\\n\\nAldo, a Canadian-based international chain of stores, went into administration early in May. Five UK stores have been permanently closed, leaving eight surviving while the administrators seek new owners for the UK business. The UK network is up for sale, but many of the stores are franchised and are not 'owned' by Aldo Canada. Aldo shoes, handbags and accessories are still available for purchase in the UK both online and in its 28 UK concessions. The Irish arm of Aldo has already gone into administration. The company and its brands (chiefly 'Aldo' and 'Call It Spring') are major international businesses, operating around 3,000 stores globally served by 20,000 staff. Apart from the UK, Aldo businesses are expected to reopen as each government permits in the post-coronavirus world.\\n\\nDVF Studio, the luxury fashion company owned by Diane von Furstenberg, has gone into administration, citing 'coronavirus', and is closing its Mayfair store. The company has an online business as well as concessions in prestigious department stores, including Selfridges and Harvey Nichols. It announced earlier in 2020 that it was starting a subscription luxury service. The e-commerce business and concessions continue to trade.\\n\\nAntler, the luggage retailer which runs 18 stores and a concession, went into administration in mid-May. There are 194 employees: 164 of these have been made redundant. The Administrators announced in mid-July that they had successfully sold the brand name, Online business, stock and assets, but the stores remain closed and there was no news of their future.\\n\\nJohnsons' Shoes, also trading as Bowleys Fine Shoes, went into administration in mid-May. There are 12 stores, all in the South East of England. The 145 furloughed staff will retain their jobs as the administrators seek to reopen the businesses. The group was later acquired by Newjohn Limited, part of Daniel Footwear. Six stores were closed.\\n\\nDawson's Music, one of the oldest stores selling musical instruments (est. 1898), went into administration early in May. There are six stores in Leeds, Manchester, Chester, Liverpool, Reading and Belfast. It is still open and is hoping to be sold as a going concern. There are 75 staff. The coronavirus lockdown proved to be the last straw for a retail group that was already facing a decline in sales. There is also an Educational Division which supplies schools, colleges and universities. In late May, the chain was purchased by Andrew and Karen Oliver, who took over all the stores and retained the staff.\\n\\nJ Crew, the U.S. fashion retailer with six UK stores, sought Chapter 11 bankruptcy protection at the beginning of May. It has 500 stores in the U.S., trades online, and owns the J Crew Factory and Madewell brands. It intends to continue trading online while it gives control of the business to its lenders who will cancel debts of $1.65bn (£1.3bn). It is unclear how this will affect its UK business.\\n\\nL K Bennet, the fashion retailer which went into administration in March 2019, is to extend its administration for another twelve months. The company expects to open seven stores on 15 June 2020 (when non-essential stores are allowed to start trading) with the remaining 10 stores to open at a later date.\\n\\nOasis and Warehouse, two fashion retailers owned by Icelandic-Bank Kaupthing, went into administration in mid-April 2020, having failed to find a buyer for the group. All its 92 stores were closed, 2,300 staff made redundant and the 437 concessions terminated. The 13 stores and 29 concessions in the Irish Republic had already gone in into administration under Irish law: there were 248 staff in Ireland. The Oasis and Warehouse brands and e-commerce operations were bought by Hilco, which sold them in June to BooHoo, the successful e-commerce apparel business. BooHoo raised £200m in May to help it take advantage of 'opportunities', and now also owns brands such as NastyGal, PrettyLittleThing, Karen Millen, MissPap and Coast. Concessions and stores in other countries will continue to trade. Oasis and Warehouse had been suffering recently from the problems common to most UK mid-range fashion businesses. The coronavirus lockdown - closing all its stores - made it impossible to continue operating and ended any chance of a sale.\\n\\nSpicers, the office-supplies wholesaler, employing 1,200 people started by John Spicer in 1796 ceased trading in April. It built up a European presence, but the UK arm and the European operations were separated in 2011, Spicers being bought by Better Capital, the private equity firm controlled by John Moulton. When it went into administration its administrators were not able to sell it and the business was liquidated.\\n\\nSimply Scuba, an award-winning diving retailer based in Faversham, went into administration in June. Thirty-two jobs are at risk. The Simply Group also runs SimplyHike and SimplySwim. The Simply Scuba website continues to trade.\\n\\nKath Kidston, the vintage-inspired fashion and accessories chain, appointed administrators early in April 2020. It has now announced that it will close its UK branches, concentrating on Asia, the wholesale business and online sales. The company - like many fashion retailers - has had problems in maintaining sales and profitability. Since 2018 it lost £27m, resulting in its closing stores and cutting head-office staff. There are 200 stores globally. All 60 UK sites are to close, with only 32 of its 941 UK staff being retained. It will now operate in the UK as an online-only retailer. The company's owners, Barings Private Equity Asia, have bought it out of administration on a pre-pack basis, having previously tried to sell it. Finances were so poor towards the end that initially Kath Kidson announced that they would only be paying part of the wages owed to employees: they have now agreed to make payments in full, but a up to a week late. The company suppliers, including HMRC and clothing manufacturers, are owned £90m by the failed company.\\n\\nAutonomy Clothing, a small fashion chain with three stores, 100 concessions and 44 staff, went into administration towards the end of March 2020. It has been beset by the same problems as the rest of the industry, the lockdown being the last straw. All employees have been made redundant.\\n\\nLombok, the aspirational furniture and furnishings business, went into administration at the end of March. It operates both online and offline and is best known for its teak products made mostly from reclaimed timber. It has experienced two pre-pack administrations before (2009 and 2011). All 43 staff have been made redundant.\\n\\nBrighthouse, the rent-to-own household goods retailer, appointed administrators at the end of March 2020. There are 240 stores and 2,700 employees. The administration does not affect customers that rent goods, as their obligations will transfer first to the administrators and then to any new owner. The business mainly deals with low-income households and was fined by the financial regulator for mis-selling and 'unfair' interest charged as part of consumer transactions. The compensation it must pay to 250,000 customers is understood to cost £1m per month and its most-recent financial report (February 2020) showed showed corporate losses of £16m.\\n\\nLaura Ashley, the fashion retailer with 155 stores, went into administration in mid-March 2020. The administrators permanently closed 70 of the company's outlets: 1,669 staff were furloughed and 677 staff continued working in the business with more redundancies announced in mid-June. Only 18 of its remaining stores have re-opened post lockdown, though this may not be ominous. Gordon Bros have been allowed to purchase the Laura Ashley brand and its archives, leaving the future of the stores, logistics and manufacturing in Britain and Ireland unresolved. The Pension Protection Fund is asking for another administrator to be appointed to ensure the protection of Laura Ashley shareholders. Administration comes after a long period of poor results from a retailer that had been a star in the 80s and early 90s. The post-2016 deterioration in fashion sales affecting most clothing retailers was certainly a factor, but the failure of the business to match modern consumer requirements meant it was difficult to see the purpose of the company.\\n\\nKikki.K, an Australian-based retail group selling Swedish-designed stationery, has gone into voluntary administration as a result of the problems of Australian retailing plus the cost of its global expansion (now including Hong Kong, the UK, Singapore and New Zealand). There are up to five stores in the UK, three shops-within-shops in stores like Fortnum &amp; Mason and Selfridges and an online business which, in Europe, seems now to be switched through to Australia. There are 100 stores globally. The Australian stores remain open, but the UK online business is currently uncontactable due to 'unprecedented shipping delays'.\\n\\nHomebase, the DIY chain, has returned to profit after its experiences first as Bunnings UK and then a large CVA case. It used its CVA to cut rents and close more than 70 stores. It is therefore quitting its CVA eighteen months early. CVAs have had mixed results when used by retailers, but this is one that seems to have turned up trumps for the business.\\n\\nSoak, a major online bathroom products retailer, went into administration at the end of February. The market is intensely competitive and Soak's revenue fell from £70m (2018) to £43m (2019). Its profit on the 2018 figures was only £2.9m. Price competition between online and bricks-and-mortar retailers has meant that few operators are making much of a profit, hence the decline of Soak and the collapse of other kitchen and bathroom retailers, such as Better Bathrooms. There are 220 employees.\\n\\nT J Hughes Outlet Division has issued a notice of intended administration for its Outlet Division, prior to renegotiating their rents. Lewis's Home Retail Limited, a subsidiary of LHR Holdings (the master company for T J Hughes), owns eight stores, two of which have already been saved via agreed rent reductions. This does not affect the whole Group, but only outlet stores.\\n\\nHonestJohn.co.uk, the online advice website for car owners, went into administration and has been bought by Heycar, an online retailer of used cars. The staff, IP and assets have been transferred.\\n\\nAshbury Furniture, a large furniture and soft furnishings salesroom, went into administration in February, caused by constant road engineering on the M20 (making it hard to get to the showroom) and the impact of rent and rates.\\n\\nEna Shaw, a producer and retailer of soft furnishings based in St Helens, went into administration in February 2020, closing its factory and store. There were 167 employees.\\n\\nOddbins, the wine and drinks off-licence business of European Food Brokers, went into administration at the beginning of February. There are 56 stores, mostly trading as Oddbins or Wine Cellars: two have now closed. Employees number around 567. Less than one year ago 45 EFB off-licence businesses were sold or closed on the basis that they were no longer viable.\\n\\nHearing and Mobility, a specialist national chain of hearing and mobility stores, has ceased trading and administrators have been appointed. Hearing and Mobility (HHML) is a Northampton-based company founded in 2002 with 18,000 customers. It established a chain of 27 hearing and mobility stores throughout Britain, later focusing mainly on the Midlands and the South with 15 stores. Starting in 2016, the company closed many of its mobility stores to concentrate on hearing disabilities. The company rarely made a profit and by January 2020 had only four stores. After its stores had 'temporarily' ceased trading they were sold to two other companies trading in this vertical market. Amplify Hearing has acquired HHML hearing operations, assets and 76 staff, enabling customers to continue being provided with service.\\n\\nHawkins Bazaar, a Norwich-based games retailer with a focus on adult merchandise, went into administration in the latter days of January. There are 20 stores and 177 staff. The company went into administration previously in 2011. Weak trading in 2019 and a poor Christmas have led the firm's current problems. The stores will remain open while a buyer is found, but by mid-February were all to close.\\n\\nHouseology, a Glasgow-based e-commerce furniture business, has gone into administration after a doleful Christmas. Twenty-three staff have been made redundant. Bureau, its office-oriented associate business, continues to trade and is not affected by Houseology's failure. By the end of February Houseology's assets including IP had been acquired by competitor Olivia, part of the Moot Group. Moot Group started in 2018 and is targeting turnover of £20m by end-2020.\\n\\nBeales, a 22-store department store chain, went into into administration, having failed to find a new owner or additional finance in the latter end of 2019. At first, the company's stores remained open in the hope that a new owner could be found. They have all now closed. The loss-making stores in the Midlands and the South were closed suddenly when no new owner cold be found, and were followed a fortnight later by the remaining stores, which were mostly in East Anglia. Losses rose from -£1.3m in 2018 to -£3.1m in 2019 and poor trading over Christmas made it essential to secure new funding. The company had announced in December 2019 that it was in difficulties and needed refinancing. Beales employed more than 1,200 staff. Colliers International reported in January 2020 that Beales was paying £2.85m in business rates, £1m more than should have been the case.\\n\\n2021\\n\\nJessops, the chain of camera dealers now with only 17 stores, appointed administrators at the end of March. It had previously gone into administration at the end of 2019, after which it closed more than half its stores. In the Lockdowns the shops have been unable to trade and more and more business is shifting online. There are around 120 staff.\\n\\nThe Hummingbird Bakery, a London-based American-style bakery, has been bought by pre-pack administration by Acropolis Capital, a family investment company. The Hummingbird bakery and three of its stores are part of the pre-pack, but two other sites are excluded.\\n\\nPreston St George's Shopping Centre went into the control of administrators on February 2 2021, when its parent company (InfraRed) entered administration. InfraRed acquired the Shopping Centre in 2015 for £73m, supported by a loan from Wells Fargo Bank. Trading continues as normal, although the Preston Centre, in common with every UK shopping mall, has suffered considerably from the closure of non-food stores in Lockdown.\\n\\nPaperchase, the up-market stationery, student accessories and gift business, has gone through a pre-pack administration, closing 37 stores with the loss of 500 jobs. Before issuing a notice of intent to appoint administrators in early January 2021, the company had 127 stores and around 1,500 staff. The new owners are to be Permira. Around 40 per cent of Paperchase sales occur in November and December each year, but government restrictions have meant that most stores had been closed for up to six of its best shopping weeks.\\n\\nJaeger brand and stock have been purchased by Marks &amp; Spencer, but not its staff and stores. All 63 Jaeger stores and concessions, its retail staff and 80 per cent of head office staff will be made redundant apart from a few employees in distribution and head office. The brands Austin Reed and Jacques Vert, previously operating as part of the Jaeger Group, did not form part of the M&amp;S acquisition.</td>\n",
              "      <td>HonestJohn.co.uk, the online advice website for car owners, went into administration and has been bought by Heycar, an online retailer of used cars.</td>\n",
              "      <td>27837</td>\n",
              "      <td>acquired_by</td>\n",
              "      <td>who acquired Heycar?</td>\n",
              "      <td>{'answer_start': [0], 'text': ['HonestJohn.co.uk']}</td>\n",
              "      <td>11612</td>\n",
              "      <td>11612</td>\n",
              "      <td>11612</td>\n",
              "    </tr>\n",
              "    <tr>\n",
              "      <th>5</th>\n",
              "      <td>4141</td>\n",
              "      <td>[Raj Ganguly, B Capital Group]</td>\n",
              "      <td>[[90, 101], [138, 153]]</td>\n",
              "      <td>Founder</td>\n",
              "      <td>Atomwise, the company deciphering human disease via the largest AI-drug discovery portfolio, announced today that it has closed $123 million in an oversubscribed Series B financing led by B Capital Group and Sanabil Investments. The funding round includes returning investors DCVC, BV, Tencent, Y Combinator, Dolby Ventures, AME Cloud Ventures, as well as new backing from two top ten global insurance companies. This brings the total amount of capital raised to date to almost $175 million. The company has appointed Raj Ganguly of B Capital Group as a new board member and Hani Enaya of Sanabil as a board observer.\\n\\n\"Over the past three years, our platform AtomNetÂ® has tackled - and succeeded - in finding small molecule hits for more undruggable targets than any other AI drug discovery platform,\" said Abraham Heifets, CEO and co-founder of Atomwise. \"With support from our new and existing investment partners, we will be able to leverage this to develop our own pipeline of small molecule drug programs, further grow our portfolio of joint-venture investments, and realize our vision to create better medicines that can improve the lives of billions of people.\"\\n\\nWith the new investment, Atomwise will continue to scale its AI technology platform and team. The company plans to expand its work with corporate partners, which currently include major players in the biopharma space such as Eli Lilly and Company, Bayer, Hansoh Pharmaceuticals, and Bridge Biotherapeutics, as well as emerging biotechnology companies like StemoniX and SEngine Precision Medicine. Atomwise has signed more than $5.5 billion in total deal value with corporate partners to date.\\n\\nThe company will also leverage the financing to build its own internal pipeline tackling historically undruggable and other challenging disease targets. Atomwise will continue to grow its portfolio of joint ventures with leading researchers using AtomNetÂ® for drug discovery, like those it has launched with X-37, Atropos Therapeutics, Theia Biosciences and vAIrus, with a goal to commercialize high potential candidates through the drug development process.\\n\\nAtomwise created the first convolutional neural networks (CNN) for drug discovery, and since its founding in 2012 has continually developed and improved its AI-based drug discovery technology. The company's AI technology has been used by academic researchers at institutes around the world and drug developers - including top-100 pharmaceutical and emerging biotechnology companies, a rapidly growing market estimated to reach $729B in global market value by 2025. Researchers and companies struggle with access to AI-based drug discovery technology, due to overall cost and lack of expertise - something which requires computational scientists, drug discovery experts, software and systems engineers for AI and ML. To date, Atomwise has provided AI technology to over 750 research collaborations addressing over 600 disease targets, and worked with top-pharmaceutical and biotechnology partners, to design new drugs for \"undruggable\" targets with speed and scale.\\n\\nThrough these academic collaborations, Atomwise has enriched its AtomNetÂ® technology with experimental data and conducted the largest screening of molecules in human history - today at over 16 billion molecules for virtual screening. From the continued use of AtomNetÂ® among research teams, Atomwise has gained a valuable breadth of experimental data, including the largest diversity of drug target sites, homology models, protein classes, and disease areas of any AI platform. The company's technology is covered by 19 issued patents, and research partnerships have generated 17 pending patent applications and several peer-reviewed publications. Atomwise has 285 active drug discovery partnerships with researchers at top universities around the world, and recently announced 15 research collaborations with global universities to explore broad-spectrum therapies for COVID-19, targeting 15 unique and novel mechanisms of action.\\n\\n\"New technologies are enabling better and faster R&amp;D for the life science industry,\" said Raj Ganguly, co-Founder and Managing Partner at B Capital Group. \"The advancements Atomwise has made with its computational drug discovery platform have effectively cut months or even years off of the R&amp;D lifecycle. More importantly, however, they are solving biology problems previously believed to be unsolvable by researchers and delivering that capability to everyone from academics to big pharma. We're excited to continue to partner with the Atomwise team on its mission to develop new, more effective therapies.\"\\n\\nA spokesperson for Sanabil Investments added, \"We chose to lead this B round as Atomwise has shown clear leadership in developing better medicines for the world, and has become the number one global leader in applying and scaling its AI platform for drug discovery programs. Even more important is the prominence and strategic reputation of the new and returning investors, and their expertise in AI, drug discovery and pharma. They all believe, like we do, that Atomwise will use the funding to strengthen and develop their strategic advantages where it counts.\"\\n\\nIf you're a drug discovery team interested in learning more about Atomwise, please visit our website or email partners@atomwise.com.\\n\\nAbout Atomwise\\n\\nAtomwise Inc. invented the first deep learning AI technology for structure-based small molecule drug discovery. Created in 2012, today, Atomwise performs hundreds of projects per year in partnership with some of the world's largest pharmaceutical and agrochemical companies, as well as more than 200 universities and hospitals in 40 countries. AtomNetÂ®, its AI platform built for drug discovery contains more than 16 billion molecules for virtual screening. Atomwise has raised over $174 million from leading venture capital firms to support the development and application of its AI technology. Learn more at atomwise.com or follow @AtomwiseInc.\\n\\nAbout Sanabil Investments\\n\\nSanabil is a commercial investment company with a multi-billion paid-up capital that seeks to deliver superior risk-adjusted returns over the long term. Sanabil focuses on global private investments in venture and growth assets from earlier stages through the asset lifecycle. It provides partners with patient and resilient capital, the ability to invest across multiple stages and funding rounds, and access to the GCC market.\\n\\nAbout B Capital Group\\n\\nB Capital Group is a global firm specializing in equity investing in venture and growth-stage companies that have achieved traction with customers. Through our extensive global network and exclusive partnership with The Boston Consulting Group, B Capital helps high growth startups navigate business challenges, raise capital and attract talented leadership at key points of their journeys to scale. With offices in San Francisco, New York, Los Angeles and Singapore, B Capital believes innovation can come from anywhere. Our unique multinational presence and deep industry knowledge have enabled us to build a portfolio of startups in Enterprise application software, Infrastructure, Security, AI/ML, Fintech and Insurtech, and HealthcareTech and Bio IT that are transforming large traditional industries across borders and geographies. Portfolio companies include AImotive, Atomwise, Blackbuck, Bounce, Bright.md, CXA, Evidation Health, Icertis, INTURN, Plastiq, Ninja Van, Notable Labs and SilverCloud Health. For more information, visit http://www.bcapgroup.com/.</td>\n",
              "      <td>\"New technologies are enabling better and faster R&amp;D for the life science industry,\" said Raj Ganguly, co-Founder and Managing Partner at B Capital Group.</td>\n",
              "      <td>4134</td>\n",
              "      <td>founded_by</td>\n",
              "      <td>who founded B Capital Group?</td>\n",
              "      <td>{'answer_start': [90], 'text': ['Raj Ganguly']}</td>\n",
              "      <td>108</td>\n",
              "      <td>108</td>\n",
              "      <td>108</td>\n",
              "    </tr>\n",
              "    <tr>\n",
              "      <th>6</th>\n",
              "      <td>2729</td>\n",
              "      <td>[Ando, Uber Eats]</td>\n",
              "      <td>[[52, 56], [73, 82]]</td>\n",
              "      <td>acquired by</td>\n",
              "      <td>When truly disruptive technology comes along it not only leads to new types of companies it also forces incumbents to evolve Airbnb is arguably the poster child for the peer to peer P2P home sharing movement but it has also helped drive an ecosystem of me too rivals and complementary companies aimed at property managers On the flip side Airbnb and its ilk have also forced traditional accommodation providers such as hotels to rethink their business models This pattern is also evident in the ride hailing industry where a whole new breed of startup has sprung up to provide everything from in car commerce and advertising to predictive analytics and more At the same time established taxi companies have had to embrace the kind of technology that powers Uber and the rest But the tech underpinning on demand transport platforms is having an impact far beyond the taxi industry Virtual kitchens sometimes referred to as dark restaurants virtual brands ghost kitchens or any combination thereof have been popping up all over due in large part to the rise of on demand transport infrastructure In 2019 the trend reached a fever pitch with numerous investments and fresh takes on the concept Virtual kitchens are essentially strategically placed kitchens that specialize in delivery only no walk in or sit down customers allowed The general idea is that restaurants can expand their footprint into high demand areas with minimal upfront investment and lower overhead given that prime real estate is not required Virtual kitchens can also allow existing restaurants to experiment with bespoke menus and offer new items without impacting their existing brand To reach customers these businesses usually lean on transport infrastructure provided by the likes of Uber Eats Deliveroo Postmates GrubHub DoorDash and Caviar Kitchen in the cloud U K based food delivery giant Deliveroo which counts Amazon as a major investor recently revealed that it now claims 2 000 virtual restaurant brands in the U K alone a 150 increase on the previous year Deliveroo has operated delivery only kitchens called editions since 2017 This basically involves setting up near areas that are likely to have a big demand for food delivery with Deliveroo offering an arsenal of data to help identify specific culinary preferences It s all about spotting gaps in the market and you might see a small industrial estate with several cabins working on various types of cuisine Deliveroo was far from the first to embrace this concept New York based Maple had operated a similar model out of Manhattan for a couple of years but that ultimately faltered and Deliveroo bought it out in 2017 Another New York based delivery only kitchen called Ando was acquired by Uber Eats last year Elsewhere in Europe Spain based on demand delivery startup Glovo last week raised 167 million at a valuation of more than 1 billion making it one of just a handful of private Spanish startups to hit unicorn status A large chunk of Glovo s cash injection will go toward delivery only restaurants and grocery stores In fact the startup currently operates seven dark stores in Europe and Latin America and is planning 100 similar locations by 2021 The technology landscape over the past 12 months reveals a similar picture investors are hungry for delivery only restaurants The Uber factor As Uber struggles to cut losses across its business Uber Eats now represents its fastest growing unit with a customer base of well over 90 million users and sales growth of 64 in the past year Uber has also been promoting virtual kitchens although these typically operate out of existing restaurants with a different brand and separate menus designed for delivery However the impact of Uber s foray into the virtual kitchen realm is clear Uber cofounder and former CEO Travis Kalanick has launched a new venture called CloudKitchens which touts itself as a real estate company that provides smart kitchens for delivery only restaurants Last month it closed a 400 million funding round at a reported 5 billion valuation Another new startup called Virtual Kitchen Co launched out of stealth last month with 17 million in funding from an illustrious list of backers that includes Andreessen Horowitz a16z and Uber Eats product head Stephen Chau Virtual Kitchen Co was founded by Ken Chong who formerly led Uber s marketplace product team Matt Sawchuk who launched Uber s first peer to peer ride sharing service before moving into a role with Uber Eats and Andro Radonich Virtual Kitchen Co has already helped a few virtual kitchens open in San Francisco with plans to open more than a dozen additional locations in the Bay Area alone in early 2020 We think with a combination of technology data science and rigorous operational abilities it s possible to make running a high volume delivery restaurant an easy complete solution that lets even the smallest food entrepreneurs take advantage of the massive food delivery market said a16z general partner Andrew Chen Virtual Kitchen Co utilizes data to figure out where to best locate their network of kitchens what cuisines are lacking in underserved neighborhoods and even what ingredients should go into which dishes By sharing and collaborating with restaurant partners it will make the ecosystem even better Scramble In September Pasadena California based Kitchen United closed a 40 million series B round of funding co led by Alphabet s GV and New York real estate giant RXR Realty Similar to others in the space Kitchen United offers prospective customers or food entrepreneurs warehouse type facilities that can house up to 20 different restaurants This again is underpinned by a data driven technology platform to help guide menu and location choices Various similar cloud kitchen startups have sprung up around the world and investors have been lining up in droves In Latin America Columbia based Muy this year secured a 15 million cash injection while London based Taster which is creating native food brands for delivery companies like Glovo Uber Eats and Deliveroo raised 8 million And in Germany Keatz locked down 13 million in funding Setting up a traditional sit down restaurant is a costly endeavor and fraught with risk By crunching large swathes of data spanning demographics location and food preferences cloud kitchens promise to sidestep both issues in one fell swoop The data lets them know where to set up and what food to sell and fancy facilities with long leases are simply not necessary A report released last year by Investment bank UBS titled Is the Kitchen Dead estimated that the 35 billion food delivery economy could grow tenfold within a decade The rise of virtual kitchens will undoubtedly play a major role in driving down the cost of meals making it far more likely that people will order takeout instead of cooking at home There could be a scenario where by 2030 most meals currently cooked at home are instead ordered online and delivered from either restaurants or central kitchens the report said The ramifications for the food retail food producer and restaurant industries could be material as well as the impact on property markets home appliances and robotics This is the very definition of disruption Technology platforms that were originally conceived to connect drivers with passengers have not only changed the taxi industry they re also transforming freight and trucking and other spinoff sectors And as we have seen with the rapid rise of cloud kitchens this year the restaurant industry is the next frontier</td>\n",
              "      <td>Another New York based delivery only kitchen called Ando was acquired by Uber Eats last year Elsewhere in Europe</td>\n",
              "      <td>2718</td>\n",
              "      <td>owned_by</td>\n",
              "      <td>who owns Uber Eats?</td>\n",
              "      <td>{'answer_start': [], 'text': []}</td>\n",
              "      <td>9662</td>\n",
              "      <td>89328</td>\n",
              "      <td>9662</td>\n",
              "    </tr>\n",
              "    <tr>\n",
              "      <th>7</th>\n",
              "      <td>2561</td>\n",
              "      <td>[Walmart, Ribbit Capital]</td>\n",
              "      <td>[[0, 7], [39, 53]]</td>\n",
              "      <td>owner</td>\n",
              "      <td>\"For years, millions of customers have put their trust in Walmart to not only save them money when they shop with us but help them manage their financial needs,\" John Furner, the CEO of Walmart U.S. said in a news release. \"And they've made it clear they want more from us in the financial services arena.\"\\n\\nWalmart said Monday that it's creating a fintech start-up with Ribbit Capital, one of the venture capital firms behind Robinhood.\\n\\nThe big-box retailer did not share the name of the new company or say when its services will be available. It said it will develop unique and affordable financial products for Walmart employees and customers.\\n\\nShares were up more than 2% on the news in after-hours trading Monday. Walmart's market cap is $416.7 billion.\\n\\nThe fintech startup will be majority-owned by Walmart and its board will include several company executives, including its Chief Financial Officer Brett Biggs and Walmart U.S. CEO John Furner. It said it will also name independent industry experts to the board and may acquire or partner with other fintech companies.\\n\\n\"For years, millions of customers have put their trust in Walmart to not only save them money when they shop with us but help them manage their financial needs,\" Furner said in a news release. \"And they've made it clear they want more from us in the financial services arena.\"\\n\\nWith more than 4,700 stores across the country, Walmart interacts with millions of customers each year - including some who don't have a relationship with a bank or a financial advisor.\\n\\nSix percent of adults don't have a checking, savings or money market account, according to the Federal Reserve. About 16% are \"underbanked,\" meaning they have a bank account but also use alternative financial service products, like a money order. Those Americans are more likely to turn to short-term solutions, such as a pawn shop or a payday loan, which can lead to additional charges or high interest fees.\\n\\nWalmart already offers some financial services for customers. For example, it has Walmart MoneyCard, a prepaid debit card that customers can load with money and use for purchases. The card has some features that encourage money management or help people who may have a challenged credit history, such as no overdraft fees, no monthly fee and no minimum balance requirement.\\n\\nThe retailer also offers alternative payment plans for customers on a tight budget, such as layaway and Affirm, a fintech company that allows customers to buy an online item immediately and pay in installments.\\n\\nWalmart's co-owner of the new company, Ribbit Capital, has a history of investing in fintech companies. Its portfolio includes Affirm; Robinhood, a fee-free investing start-up; and Credit Karma, a company that offers consumer-friendly tools like free credit score checks.</td>\n",
              "      <td>Walmart's co-owner of the new company, Ribbit Capital, has a history of investing in fintech companies.</td>\n",
              "      <td>2556</td>\n",
              "      <td>owned_by</td>\n",
              "      <td>who owns Ribbit Capital?</td>\n",
              "      <td>{'answer_start': [0], 'text': ['Walmart']}</td>\n",
              "      <td>2323</td>\n",
              "      <td>2323</td>\n",
              "      <td>2323</td>\n",
              "    </tr>\n",
              "    <tr>\n",
              "      <th>8</th>\n",
              "      <td>736</td>\n",
              "      <td>[Marketo, Adobe]</td>\n",
              "      <td>[[53, 60], [74, 79]]</td>\n",
              "      <td>part of</td>\n",
              "      <td>Recently, it’s become popular to downplay the differences between B2B and B2C marketing. Some industry analysts and commentators have forcefully argued that all marketing should be viewed as “business-to-human,” “human-to-human,” or something similar.\\n\\nIt’s certainly accurate to say that virtually all forms of marketing involve the communication of messages to human beings. It’s equally true that business decision makers are also consumers, and that the attributes and preferences they have as consumers don’t evaporate when they’re acting in a professional capacity. But have all the meaningful differences between B2B and B2C marketing really disappeared?\\n\\nThe findings in two recent research reports – one by Marketo (now part of Adobe), and one by Forrester Consulting (commissioned by Adobe) – suggest that some of the lines between B2B and B2C marketing have become blurred. These two studies used different research approaches, and they emphasize different aspects of B2B and B2C marketing, but both raise issues that merit consideration.\\n\\nThe Marketo Study For this study, Marketo partnered with Loudhouse, an independent research firm, to survey 910 B2B buyers and interview 305 B2B marketing professionals. All of the study participants were located in the UK, Germany, or France, and the surveyed buyers represented a range of company sizes and job functions, including IT, Finance, HR, and Operations.\\n\\nThe survey found that, like consumers, B2B buyers are very concerned about privacy. More than 80% of the survey respondents said it is important for their prospective vendors to be serious about protecting their business and personal data and to always conform to best practices for handling their data and sensitive information.\\n\\nMarketo’s survey also found that many B2B buyers, like many consumers, are placing importance on the social values and practices of the companies they do business with. The following table shows the percentage of buyer survey respondents who rated six social practices as important:\\n\\nThis study also revealed two other emerging similarities between business buyers and consumers. First, 30% of the surveyed buyers said they would disengage from a vendor whose values don’t match their own. And second, it appears that B2B buyers, like consumers, are becoming less loyal. Forty-three percent of the surveyed buyers said they are always looking for a better deal.\\n\\nThe Forrester Consulting Study The principal objective of the Forrester Consulting study was to explore the similarities between business and consumer purchase journeys. For this research, Forrester surveyed 552 B2B and B2C marketers (manager level and above) representing a wide range of industries and company sizes. Survey respondents were drawn from a total of nine countries. Because of the composition of the survey panel, this research actually captures the perceptions of marketing professionals regarding the convergence of business and consumer buying behaviors.\\n\\nIn the Forrester survey, marketers identified three attitudes or behaviors that business buyers and consumers share:\\n\\nMore specifically, Forrester asked marketers how certain elements of their customers’ buying journey have changed over the past two years. The following table shows the percentage of B2B and B2C marketers who reported that these journey attributes had increased significantly or somewhat:\\n\\nThere is little doubt that the expectations and behaviors of business buyers are being influenced by their experiences as consumers. But this doesn’t mean that all meaningful differences between B2B and B2C marketing have disappeared.\\n\\nMost B2C marketing still involves the communication of relatively simple messages to a large or very large audience. Most B2B marketing, on the other hand, still involves the communication of more complex messages to a relatively small audience. This difference alone requires the use of different marketing strategies, channels, and tactics.\\n\\nTop image courtesy of George Redgrave via Flickr CC.</td>\n",
              "      <td>The findings in two recent research reports – one by Marketo (now part of Adobe), and one by Forrester Consulting (commissioned by Adobe) – suggest that some of the lines between B2B and B2C marketing have become blurred.</td>\n",
              "      <td>729</td>\n",
              "      <td>founded_by</td>\n",
              "      <td>who founded Adobe?</td>\n",
              "      <td>{'answer_start': [], 'text': []}</td>\n",
              "      <td>11075</td>\n",
              "      <td>100632</td>\n",
              "      <td>11075</td>\n",
              "    </tr>\n",
              "    <tr>\n",
              "      <th>9</th>\n",
              "      <td>7422</td>\n",
              "      <td>[Smart Industry, Sparta Systems , Inc.]</td>\n",
              "      <td>[[75, 89], [120, 140]]</td>\n",
              "      <td>partnership with</td>\n",
              "      <td>Above the Trend Line: your industry rumor central is a recurring feature of insideBIGDATA. In this column, we present a variety of short time-critical news items grouped by category such as M&amp;A activity, people movements, funding news, industry partnerships, customer wins, rumors and general scuttlebutt floating around the big data, data science and machine learning industries including behind-the-scenes anecdotes and curious buzz. Our intent is to provide you a one-stop source of late-breaking news to help you keep abreast of this fast-paced ecosystem. We're working hard on your behalf with our extensive vendor network to give you all the latest happenings. Heard of something yourself? Tell us! Just e-mail me at: daniel@insidebigdata.com. Be sure to Tweet Above the Trend Line articles using the hashtag: #abovethetrendline.\\n\\nI've been taking it pretty easy this summer so far while wearing my \"educator\" hat. I'm only teaching a single \"Introduction to Data Science\" class for UCLA Extension and it's been a blast thus far. My small group of 10 newbie data scientists are hungry for knowledge in support of their attempt to break into the field. I'm making sure they're ready with a data science toolbox full of code, a real-life project to complete, publish and promote on GitHub, as well as a glimpse of the entire Data Science Process. Summer of Data! But for now, let's dig into the big data rumor mill ... in new funding news we heard ... Privacera, the cloud data governance and security leader founded by the creators of Apache Ranger™, announced it has raised $13.5 million in Series A funding to support the increasing demand for automated data security, privacy and governance in the cloud. The funding was led by Accel who invested based on the tremendous trajectory of the Company and its strong customer base. Equally appealing for the venture firm was the fact that data governance, security, and compliance are becoming table stakes as organizations look to migrate enterprise data to the cloud to drive data analytics. Accel joins early investors Cervin Ventures, Point 72, and Alchemist Accelerator ... TileDB, Inc. has secured a $15M Series A investment round led by Two Bear Capital, joined by Uncorrelated Ventures and all existing investors: Nexus Venture Partners, Intel Capital, and Big Pi Ventures. The funding will help the company expand go-to-market and product development for its \"universal data engine,\" a novel database that goes beyond tables to manage any complex data and beyond SQL to analyze the data with any tool, all serverless and at planet scale. Montana philanthropist and Two Bear Capital Managing Partner Mike Goguen will join TileDB's Board of Directors ... MariaDB® Corporation announced a $25 million funding round supporting the company goals to expand the reach and development of its cloud database, MariaDB SkySQL. Led by SmartFin Capital, with participation from existing investors and new investor GP Bullhound, the round brings the total investment in MariaDB to over $125 million ... Traceable, the end-to-end application security monitoring platform, launched from stealth with $20M in series A funding from Unusual Ventures and BIG Labs. Jyoti Bansal, the founder and former CEO of AppDynamics, heads the company as CEO and co-founder after selling AppDynamics to Cisco for $3.7 billion. Bansal is joined by Sanjay Nagaraj, former VP Engineering at AppDynamics, as CTO and co-founder. Traceable was spun out of BIG Labs, Bansal's startup studio.\\n\\nIn M&amp;A news we learned ... Syniti, a global data solution provider, announced the acquisition of Virtyx Technologies, Inc., an innovative start-up that provides end-to-end AI-powered automatic monitoring and analytics for data transformation. The asset purchase, which encompasses the acquisition of Virtyx technology and the retention of the key Virtyx Engineering talent, will integrate Virtyx's industry-leading cloud-native and AI technology with Syniti's Knowledge Platform -- creating a knowledge-driven software suite and enhancing Syniti's development and Engineering team ... Core Scientific, a leading infrastructure and software solutions provider for Artificial Intelligence (AI) and blockchain led by CEO Kevin Turner, the former COO of Microsoft, announced the acquisition of certain assets and technology of Atrio Inc. The addition of Atrio is timely as Core Scientific is focusing on expanding its efforts to help researchers solve molecular genetic codes of viruses like COVID-19 and aid drug discovery efforts. Most recently, Core Scientific partnered with NVIDIA, the inventor of the GPU, as well as NetApp, the leader in cloud data services, to provide free access to AI and data engineering infrastructure for coronavirus-related research. Similarly, this acquisition will bring together both Core Scientific and Atrio's High Performance Computing (HPC) and AI capabilities to offer researchers and businesses a more seamless experience for their high-end computing needs ... Jobvite, a leading end-to-end talent acquisition suite, announced that it has acquired the artificial intelligence (AI) and data science team at Predictive Partner. Morgan Llewellyn, CEO of Predictive Partner, will serve as Jobvite's Chief Data Scientist and oversee a team leveraging AI through automation, predictive analytics, data science, machine learning, natural language processing, and optical character recognition ... ATTOM Data Solutions, curator of the nation's premier property database, announced it has acquired Home Junction Inc., a real estate data technology company that specializes in building high quality geographic boundary datasets for neighborhoods, school attendance zones, subdivisions and more ... IBM (NYSE: IBM) announced it has reached a definitive agreement to acquire Brazilian software provider of robotic process automation (RPA) WDG Soluções Em Sistemas E Automação De Processos LTDA (referred to as \"WDG Automation\" throughout). The acquisition further advances IBM's comprehensive AI-infused automation capabilities, spanning business processes to IT operations. Financial terms were not disclosed ... NetApp (NASDAQ: NTAP), a leader in cloud data services, announced that it has completed its acquisition of Spot, a leader in compute management and cost optimization in the public clouds ... Brillio, a leading digital technology consulting and solutions company, announced the acquisition of Cognetik, a data and insights company with deep expertise in improving digital experiences for its customers. Cognetik enables companies across the globe, including Facebook, Pizza Hut and McDonald's to build and implement analytics solutions that optimize customer experience to increase loyalty, drive revenue and advance business transformation. Terms of the deal were not disclosed.\\n\\nWe also heard of a number of new partnerships, alignments and collaborations ... Iguazio, the data science platform for real-time machine learning applications, announced a strategic partnership with SFL Scientific, a leading data science consulting firm. The partnership will enable both companies to extend their offerings to enterprises of all industries looking to apply AI to real life applications, regardless of the size or skill set of their internal teams ... Quartic.ai, provider of the award-winning Quartic AI and IoT Platform™ for Smart Industry, announced a partnership with Sparta Systems, Inc., provider of industry-leading Quality Management System (QMS) platforms TrackWise® and TrackWise Digital®, to bring forward next-level AI capabilities for early risk detection during the manufacturing process to reduce product quality impact and enable near-real-time product release ... To make it easier to run more targeted and precise marketing campaigns cost-effectively across multiple channels, Narrative, the enterprise data streaming company, announced they are partnering with TransUnion (NYSE:TRU) to enable access to TransUnion's rich consumer attributes and audiences via Narrative's data streaming platform ... Q-CTRL, a startup that applies the principles of control engineering to accelerate the development of quantum technology, announced a global research and technology development partnership with Advanced Navigation, a leader in AI-based navigational hardware ... Hybrid cloud data warehouse company Yellowbrick Data announced that Sonra has joined the company's partner program. Both Yellowbrick and Sonra power huge data needs across a variety of enterprise applications. Together, they are making it faster, easier, and cheaper to convert legacy XML and JSON data into modern formats that can be used for data insights critical to business success. As part of their partnership, the companies are working on technical certifications and performance tuning as well as joint go-to-market opportunities. Sonra also offers data architecture consulting and design services, and can help enterprises deploy Yellowbrick quickly and with expertise ... SpIntellx, Inc., and CellNetix Pathology &amp; Laboratories have announced that they will collaborate to validate the SpIntellx HistoMapr-Breast™ Platform, which taps the power of explainable artificial intelligence (xAI) for healthcare providers to diagnose and treat breast cancer more efficiently and accurately. The platform is the first in the companies' larger efforts to harness the power of xAI-assisted lab processes in the development of diagnostics, prognostics, therapeutic strategies, and drug development for tumor and non-tumor diseases. SpIntellx, Inc. is a computational and systems pathology company that harnesses the computational power of unbiased spatial analytics and explainable artificial intelligence (xAI) technologies to offer proprietary software products and services for analyzing pathology tissue sections. CellNetix Pathology &amp; Laboratories is a rapidly growing pathology laboratory company providing comprehensive subspecialty clinical and anatomic pathology services in the Pacific Northwest ... Siren, a leading provider of Investigative Intelligence analytics, today announced a strategic partnership with AIMART, a Brazilian-based consultancy which specializes in providing solutions that tackle complex investigations and detect sophisticated frauds and financial crimes. Under this agreement, Siren joins vendors such as IBM and Q-Credi to form part of a best of breed analytics and data science portfolio for the South American marketplace.\\n\\nIn people movement news we heard ... Excelero, a disruptor in software-defined block storage for AI/ML/deep learning and GPU computing, announced that longtime enterprise technology executive and strategist Henri Richard has become a board advisor. As AI/ML/deep learning and HPC deployments drive demand for newer software-defined storage solutions using NVMe Flash, Henri will assist Excelero's executive team in uncovering opportunities to accelerate growth ... Collibra, the Data Intelligence company, announced the appointment of Stuart Wilson to chief revenue officer and Aileen Black to senior vice president of public sector, a newly-created role ... Magnitude Software has named Paul Young as the company's new general manager. Paul will be tasked with leading Magnitude's Data Integration Business unit that brings together its data connectivity, integration and management solutions under one umbrella.\\n\\nAnd finally, in the new customer wins category we learned ... Run:AI, a company virtualizing AI infrastructure, announced that it is working with the London Medical Imaging &amp; Artificial Intelligence Centre for Value Based Healthcare as a technology provider to help them better manage their AI resources and provide elastic resource allocation, visibility and control.\\n\\nThe AI Centre, led by King's College London and based in St Thomas' Hospital, uses an enormous trove of de-identified patient data held by the NHS, including medical images and patient clinical pathway data, to train sophisticated AI learning algorithms. These algorithms are used to create new tools for faster diagnosis, personalized therapies, and more effective screening ... Ascend.io, the data engineering company, announced that HNI Corporation, a global leader in workplace furnishings and residential building products, has deployed The Ascend Unified Data Engineering Platform for modern data pipelines, enabling faster data analytics to drive strategic business decisions. Ascend enables HNI to intelligently collect and model data from various APIs and sources to directly fuel operational analytics across the business. Completed in just two months, HNI has been able to experience high operational efficiency by replacing manually-intensive processes with fully automated pipelines, resulting in faster data delivery, improved accuracy, and better business insights ... SADA, a leading global business and technology consultancy, announced a five year, $50 million deal with MadHive to expand the OTT ad solutions company's use of Google Cloud technologies to deliver new products and services. MadHive's end-to-end advertising solution, which leverages cryptography, blockchain and AI to power modern media, was first deployed on Google Cloud Platform (Google Cloud) in 2017 with help from SADA, a Google Cloud Premier Partner. The challenge was to deliver MadHive's next-generation platform at scale with low latency while supporting a rapid, iterative development cycle, machine learning requirements, and a short go-to-market timeline ... Hewlett Packard Enterprise (HPE) announced that Mastertel, one of the largest telecommunications companies in Russia, has selected HPE GreenLake to modernize its IT infrastructure, optimize financial flows, and achieve the flexibility necessary to service the growth of new customers.</td>\n",
              "      <td>Quartic.ai, provider of the award-winning Quartic AI and IoT Platform™ for Smart Industry, announced a partnership with Sparta Systems, Inc., provider of industry-leading Quality Management System (QMS) platforms TrackWise</td>\n",
              "      <td>7406</td>\n",
              "      <td>partners_with</td>\n",
              "      <td>who is partner with Sparta Systems , Inc.?</td>\n",
              "      <td>{'answer_start': [75], 'text': ['Smart Industry']}</td>\n",
              "      <td>3867</td>\n",
              "      <td>3867</td>\n",
              "      <td>3867</td>\n",
              "    </tr>\n",
              "  </tbody>\n",
              "</table>"
            ],
            "text/plain": [
              "<IPython.core.display.HTML object>"
            ]
          },
          "metadata": {
            "tags": []
          }
        }
      ]
    },
    {
      "cell_type": "markdown",
      "metadata": {
        "id": "n9qywopnIrJH"
      },
      "source": [
        "## Preprocessing the training data"
      ]
    },
    {
      "cell_type": "markdown",
      "metadata": {
        "id": "YVx71GdAIrJH"
      },
      "source": [
        "Before we can feed those texts to our model, we need to preprocess them. This is done by a 🤗 Transformers `Tokenizer` which will (as the name indicates) tokenize the inputs (including converting the tokens to their corresponding IDs in the pretrained vocabulary) and put it in a format the model expects, as well as generate the other inputs that model requires.\n",
        "\n",
        "To do all of this, we instantiate our tokenizer with the `AutoTokenizer.from_pretrained` method, which will ensure:\n",
        "\n",
        "- we get a tokenizer that corresponds to the model architecture we want to use,\n",
        "- we download the vocabulary used when pretraining this specific checkpoint.\n",
        "\n",
        "That vocabulary will be cached, so it's not downloaded again the next time we run the cell."
      ]
    },
    {
      "cell_type": "code",
      "metadata": {
        "id": "eXNLu_-nIrJI",
        "colab": {
          "base_uri": "https://localhost:8080/",
          "height": 145,
          "referenced_widgets": [
            "fd792d4682d045f9ad1a4f4a5469c485",
            "782f92b2224744ddb6c5cb5ce94f87c3",
            "ee71ebc585234b3f8443c5dc02d81f4f",
            "dc5682dbacc94b06ad2071d8627656d6",
            "aad653995f3c4ca2bce660f0ca1ceddb",
            "a5edaa134d54440298de734b069cd772",
            "fa0d976bc7334cee8e61a8276fe58a70",
            "f6ad5ae2f3664f729d131ff5607e0a36",
            "13d1bc6ec5f749a98591df4cd3f0d9cc",
            "a656f527cb3e410cab4d52ca7c6f45fe",
            "7abb26a05a2a4f6bb83acf50114d1ca6",
            "5e53f8a8095641838a51a27e811048a8",
            "e741f300517541c986ec800a3502bf1f",
            "800f5716b4cf43399e446673bd7a7952",
            "fbc1ad16e2e84f2387834e066da845bc",
            "471b76fa95d5459b8746ed853a7ab28d",
            "4687fdaa83314c998a6d2c3f2490695f",
            "ef40738d8fa44404864288ac25246316",
            "6dcc3aca09ae4ee59a448d55af59d4e4",
            "04514f66793f42dc845be72a32220e51",
            "b0ace9f935e44ea48617a6c68f27da96",
            "2cf17f7957f049639627c5d2a0ba0f77",
            "e6bc8cd2697b4927903cbf6bafb39e34",
            "d4d848d05d374aedbe1e7679f9e8f733",
            "7fcd71495ea34ba29bc3d6e52956729f",
            "487c83d706a944a295e42bf75d627f9b",
            "a8c86c4d80f043a497250e0c825e1dbd",
            "e148544554ea4604916b533262867d58",
            "0c7da0661b0f4098ae9015e2c8873c8e",
            "5bdcc14cbf144955a23524542fc8ccf2",
            "1c99a91c544147f79c8986f87ea2d977",
            "bb54fbf027f545c29c42dbe719896f8a",
            "ac8738cacf2b4faa9b6351914a9f1e8b",
            "7396a3023114462e8911c5dcb047540e",
            "080455c933a04727ab6f027a7f49a88c",
            "6000831f056d4ad5a8202500e124a31f",
            "8dddd6b343cc4cfb8498c738e4a9fee1",
            "c712a7703fbf4cc982a1bb2d91d8f797",
            "9fe33b4bcb57468b83e3eff574b33787",
            "38f6002bc9494fd39a7a574368b506aa",
            "4244f8ac62b24995940d8dc83e9baabf",
            "7c965839d2104669be50d33a2dbdcfee",
            "9efe1ea4fc574f2293248c0cf037ca75",
            "40d3309349324fadbace7f3599330278"
          ]
        },
        "outputId": "ee8a5c50-883f-4561-cf23-b52840d879fd"
      },
      "source": [
        "from transformers import AutoTokenizer\n",
        "    \n",
        "tokenizer = AutoTokenizer.from_pretrained(model_checkpoint)"
      ],
      "execution_count": 25,
      "outputs": [
        {
          "output_type": "display_data",
          "data": {
            "application/vnd.jupyter.widget-view+json": {
              "model_id": "fd792d4682d045f9ad1a4f4a5469c485",
              "version_minor": 0,
              "version_major": 2
            },
            "text/plain": [
              "Downloading:   0%|          | 0.00/28.0 [00:00<?, ?B/s]"
            ]
          },
          "metadata": {
            "tags": []
          }
        },
        {
          "output_type": "display_data",
          "data": {
            "application/vnd.jupyter.widget-view+json": {
              "model_id": "5e53f8a8095641838a51a27e811048a8",
              "version_minor": 0,
              "version_major": 2
            },
            "text/plain": [
              "Downloading:   0%|          | 0.00/442 [00:00<?, ?B/s]"
            ]
          },
          "metadata": {
            "tags": []
          }
        },
        {
          "output_type": "display_data",
          "data": {
            "application/vnd.jupyter.widget-view+json": {
              "model_id": "e6bc8cd2697b4927903cbf6bafb39e34",
              "version_minor": 0,
              "version_major": 2
            },
            "text/plain": [
              "Downloading:   0%|          | 0.00/232k [00:00<?, ?B/s]"
            ]
          },
          "metadata": {
            "tags": []
          }
        },
        {
          "output_type": "display_data",
          "data": {
            "application/vnd.jupyter.widget-view+json": {
              "model_id": "7396a3023114462e8911c5dcb047540e",
              "version_minor": 0,
              "version_major": 2
            },
            "text/plain": [
              "Downloading:   0%|          | 0.00/466k [00:00<?, ?B/s]"
            ]
          },
          "metadata": {
            "tags": []
          }
        }
      ]
    },
    {
      "cell_type": "markdown",
      "metadata": {
        "id": "Vl6IidfdIrJK"
      },
      "source": [
        "The following assertion ensures that our tokenizer is a fast tokenizers (backed by Rust) from the 🤗 Tokenizers library. Those fast tokenizers are available for almost all models, and we will need some of the special features they have for our preprocessing."
      ]
    },
    {
      "cell_type": "code",
      "metadata": {
        "id": "65GQFs6MdG9G"
      },
      "source": [
        "import transformers\n",
        "assert isinstance(tokenizer, transformers.PreTrainedTokenizerFast)"
      ],
      "execution_count": 26,
      "outputs": []
    },
    {
      "cell_type": "markdown",
      "metadata": {
        "id": "9Nt9ULWwdG9G"
      },
      "source": [
        "You can check which type of models have a fast tokenizer available and which don't on the [big table of models](https://huggingface.co/transformers/index.html#bigtable)."
      ]
    },
    {
      "cell_type": "markdown",
      "metadata": {
        "id": "rowT4iCLIrJK"
      },
      "source": [
        "You can directly call this tokenizer on two sentences (one for the answer, one for the context):"
      ]
    },
    {
      "cell_type": "code",
      "metadata": {
        "id": "a5hBlsrHIrJL",
        "colab": {
          "base_uri": "https://localhost:8080/"
        },
        "outputId": "edf55f6c-8f5d-4372-94c3-e90db8dc6350"
      },
      "source": [
        "tokenizer(\"What is your name?\", \"My name is Sylvain.\")"
      ],
      "execution_count": 27,
      "outputs": [
        {
          "output_type": "execute_result",
          "data": {
            "text/plain": [
              "{'input_ids': [101, 2054, 2003, 2115, 2171, 1029, 102, 2026, 2171, 2003, 25353, 22144, 2378, 1012, 102], 'attention_mask': [1, 1, 1, 1, 1, 1, 1, 1, 1, 1, 1, 1, 1, 1, 1]}"
            ]
          },
          "metadata": {
            "tags": []
          },
          "execution_count": 27
        }
      ]
    },
    {
      "cell_type": "markdown",
      "metadata": {
        "id": "wFEvEXLkdG9H"
      },
      "source": [
        "Depending on the model you selected, you will see different keys in the dictionary returned by the cell above. They don't matter much for what we're doing here (just know they are required by the model we will instantiate later), you can learn more about them in [this tutorial](https://huggingface.co/transformers/preprocessing.html) if you're interested.\n",
        "\n",
        "Now one specific thing for the preprocessing in question answering is how to deal with very long documents. We usually truncate them in other tasks, when they are longer than the model maximum sentence length, but here, removing part of the the context might result in losing the answer we are looking for. To deal with this, we will allow one (long) example in our dataset to give several input features, each of length shorter than the maximum length of the model (or the one we set as a hyper-parameter). Also, just in case the answer lies at the point we split a long context, we allow some overlap between the features we generate controlled by the hyper-parameter `doc_stride`:"
      ]
    },
    {
      "cell_type": "code",
      "metadata": {
        "id": "9X86jbsndG9H"
      },
      "source": [
        "max_length = 384 # The maximum length of a feature (question and context)\n",
        "doc_stride = 128 # The authorized overlap between two part of the context when splitting it is needed."
      ],
      "execution_count": 28,
      "outputs": []
    },
    {
      "cell_type": "markdown",
      "metadata": {
        "id": "m7slmz2WdG9I"
      },
      "source": [
        "Let's find one long example in our dataset:"
      ]
    },
    {
      "cell_type": "code",
      "metadata": {
        "id": "q4yIPD8ZdG9I",
        "colab": {
          "base_uri": "https://localhost:8080/"
        },
        "outputId": "24917f61-4178-4ffc-d435-103b4e86b1e4"
      },
      "source": [
        "for i, example in enumerate(datasets[\"train\"]):\n",
        "    if len(tokenizer(example[\"question\"], example[\"context\"])[\"input_ids\"]) > 384:\n",
        "        break\n",
        "example = datasets[\"train\"][i]"
      ],
      "execution_count": 29,
      "outputs": [
        {
          "output_type": "stream",
          "text": [
            "Token indices sequence length is longer than the specified maximum sequence length for this model (659 > 512). Running this sequence through the model will result in indexing errors\n"
          ],
          "name": "stderr"
        }
      ]
    },
    {
      "cell_type": "markdown",
      "metadata": {
        "id": "__MhSRitdG9I"
      },
      "source": [
        "Without any truncation, we get the following length for the input IDs:"
      ]
    },
    {
      "cell_type": "code",
      "metadata": {
        "id": "BlE7QqQTdG9J",
        "colab": {
          "base_uri": "https://localhost:8080/"
        },
        "outputId": "8227c112-ecb2-4081-c9d5-c9729b04c2ad"
      },
      "source": [
        "len(tokenizer(example[\"question\"], example[\"context\"])[\"input_ids\"])"
      ],
      "execution_count": 30,
      "outputs": [
        {
          "output_type": "execute_result",
          "data": {
            "text/plain": [
              "659"
            ]
          },
          "metadata": {
            "tags": []
          },
          "execution_count": 30
        }
      ]
    },
    {
      "cell_type": "markdown",
      "metadata": {
        "id": "muPW6yp3dG9J"
      },
      "source": [
        "Now, if we just truncate, we will lose information (and possibly the answer to our question):"
      ]
    },
    {
      "cell_type": "code",
      "metadata": {
        "id": "VzogmfTidG9J",
        "colab": {
          "base_uri": "https://localhost:8080/"
        },
        "outputId": "d304d128-3c22-4ead-e357-1380f06be80c"
      },
      "source": [
        "len(tokenizer(example[\"question\"], example[\"context\"], max_length=max_length, truncation=\"only_second\")[\"input_ids\"])"
      ],
      "execution_count": 31,
      "outputs": [
        {
          "output_type": "execute_result",
          "data": {
            "text/plain": [
              "384"
            ]
          },
          "metadata": {
            "tags": []
          },
          "execution_count": 31
        }
      ]
    },
    {
      "cell_type": "markdown",
      "metadata": {
        "id": "FDxGkzp0dG9K"
      },
      "source": [
        "Note that we never want to truncate the question, only the context, else the `only_second` truncation picked. Now, our tokenizer can automatically return us a list of features capped by a certain maximum length, with the overlap we talked above, we just have to tell it with `return_overflowing_tokens=True` and by passing the stride:"
      ]
    },
    {
      "cell_type": "code",
      "metadata": {
        "id": "Xgibc8mZdG9K"
      },
      "source": [
        "tokenized_example = tokenizer(\n",
        "    example[\"question\"],\n",
        "    example[\"context\"],\n",
        "    max_length=max_length,\n",
        "    truncation=\"only_second\",\n",
        "    return_overflowing_tokens=True,\n",
        "    stride=doc_stride\n",
        ")"
      ],
      "execution_count": 32,
      "outputs": []
    },
    {
      "cell_type": "markdown",
      "metadata": {
        "id": "KVtB2u6xdG9L"
      },
      "source": [
        "Now we don't have one list of `input_ids`, but several: "
      ]
    },
    {
      "cell_type": "code",
      "metadata": {
        "id": "8IGKW9FwdG9L",
        "colab": {
          "base_uri": "https://localhost:8080/"
        },
        "outputId": "8d5b2520-9ec3-4fdc-be51-dcb8764691a1"
      },
      "source": [
        "[len(x) for x in tokenized_example[\"input_ids\"]]"
      ],
      "execution_count": 33,
      "outputs": [
        {
          "output_type": "execute_result",
          "data": {
            "text/plain": [
              "[384, 384, 163]"
            ]
          },
          "metadata": {
            "tags": []
          },
          "execution_count": 33
        }
      ]
    },
    {
      "cell_type": "markdown",
      "metadata": {
        "id": "gj8A_q5NdG9M"
      },
      "source": [
        "And if we decode them, we can see the overlap:"
      ]
    },
    {
      "cell_type": "code",
      "metadata": {
        "id": "QprA9BwMdG9M",
        "colab": {
          "base_uri": "https://localhost:8080/"
        },
        "outputId": "75341357-e3c4-4915-c4a2-53769fbed82a"
      },
      "source": [
        "for x in tokenized_example[\"input_ids\"][:2]:\n",
        "    print(tokenizer.decode(x))"
      ],
      "execution_count": 34,
      "outputs": [
        {
          "output_type": "stream",
          "text": [
            "[CLS] who acquired amd? [SEP] intel corporation's dominance of the microprocessor market and its aggressive business practices ; the ability of third party manufacturers to manufacture amd's products on a timely basis in sufficient quantities and using competitive technologies ; expected manufacturing yields for amd's products ; amd's ability to introduce products on a timely basis with features and performance levels that provide value to its customers ; global economic uncertainty ; the loss of a significant customer ; amd's ability to generate revenue from its semi - custom soc products ; the impact of the covid - 19 pandemic on amd's business, financial condition and results of operations ; political, legal, economic risks and natural disasters ; the impact of government actions and regulations such as export administration regulations, tariffs and trade protection measures ; potential security vulnerabilities ; potential it outages, data loss, data breaches and cyber - attacks ; uncertainties involving the ordering and shipment of amd's products ; quarterly and seasonal sales patterns ; the restrictions imposed by agreements governing amd's notes and the secured credit facility ; the competitive markets in which amd's products are sold ; amd's ability to generate sufficient revenue and operating cash flow or obtain external financing for research and development or other strategic investments ; the potential dilutive effect if the 2. 125 % convertible senior notes due 2026 are converted ; market conditions of the industries in which amd products are sold ; amd's reliance on third - party intellectual property to design and introduce new products in a timely manner ; amd's reliance on third - party companies for the design, manufacture and supply of motherboards, software and other computer platform components ; amd's reliance on microsoft corporation and other software vendors'support to design and develop software to run on amd's products ; amd's reliance on third - [SEP]\n",
            "[CLS] who acquired amd? [SEP] for research and development or other strategic investments ; the potential dilutive effect if the 2. 125 % convertible senior notes due 2026 are converted ; market conditions of the industries in which amd products are sold ; amd's reliance on third - party intellectual property to design and introduce new products in a timely manner ; amd's reliance on third - party companies for the design, manufacture and supply of motherboards, software and other computer platform components ; amd's reliance on microsoft corporation and other software vendors'support to design and develop software to run on amd's products ; amd's reliance on third - party distributors and add - in - board partners ; future impairments of goodwill and technology license purchases ; amd's ability to attract and retain qualified personnel ; amd's indebtedness ; amd's ability to generate sufficient cash to service its debt obligations or meet its working capital requirements ; amd's ability to repurchase its outstanding debt in the event of a change of control ; the cyclical nature of the semiconductor industry ; the impact of acquisitions, joint ventures and / or investments on amd's business ; the impact of modification or interruption of amd's internal business processes and information systems ; the availability of essential equipment, materials or manufacturing processes ; compatibility of amd's products with some or all industry - standard software and hardware ; costs related to defective products ; the efficiency of amd's supply chain ; amd's ability to rely on third party supply - chain logistics functions ; amd's stock price volatility ; worldwide political conditions ; unfavorable currency exchange rate fluctuations ; amd's ability to effectively control the sales of its products on the gray market ; amd's ability to adequately protect its technology or other intellectual property ; current and future [SEP]\n"
          ],
          "name": "stdout"
        }
      ]
    },
    {
      "cell_type": "markdown",
      "metadata": {
        "id": "kTxe_BZVdG9M"
      },
      "source": [
        "Now this will give us some work to properly treat the answers: we need to find in which of those features the answer actually is, and where exactly in that feature. The models we will use require the start and end positions of these answers in the tokens, so we will also need to to map parts of the original context to some tokens. Thankfully, the tokenizer we're using can help us with that by returning an `offset_mapping`:"
      ]
    },
    {
      "cell_type": "code",
      "metadata": {
        "id": "8NhlIuXfdG9M",
        "colab": {
          "base_uri": "https://localhost:8080/"
        },
        "outputId": "c6f1d8ec-d07a-4ec7-8ebc-fcbff74654c2"
      },
      "source": [
        "tokenized_example = tokenizer(\n",
        "    example[\"question\"],\n",
        "    example[\"context\"],\n",
        "    max_length=max_length,\n",
        "    truncation=\"only_second\",\n",
        "    return_overflowing_tokens=True,\n",
        "    return_offsets_mapping=True,\n",
        "    stride=doc_stride\n",
        ")\n",
        "print(tokenized_example[\"offset_mapping\"][0][:100])"
      ],
      "execution_count": 35,
      "outputs": [
        {
          "output_type": "stream",
          "text": [
            "[(0, 0), (0, 3), (4, 12), (13, 15), (15, 16), (16, 17), (0, 0), (0, 5), (6, 17), (17, 18), (18, 19), (20, 29), (30, 32), (33, 36), (37, 42), (42, 45), (45, 48), (48, 51), (52, 58), (59, 62), (63, 66), (67, 77), (78, 86), (87, 96), (96, 97), (98, 101), (102, 109), (110, 112), (113, 118), (119, 124), (125, 138), (139, 141), (142, 153), (154, 156), (156, 157), (157, 158), (158, 159), (160, 168), (169, 171), (172, 173), (174, 180), (181, 186), (187, 189), (190, 200), (201, 211), (212, 215), (216, 221), (222, 233), (234, 246), (246, 247), (248, 256), (257, 270), (271, 277), (278, 281), (282, 284), (284, 285), (285, 286), (286, 287), (288, 296), (296, 297), (298, 300), (300, 301), (301, 302), (302, 303), (304, 311), (312, 314), (315, 324), (325, 333), (334, 336), (337, 338), (339, 345), (346, 351), (352, 356), (357, 365), (366, 369), (370, 381), (382, 388), (389, 393), (394, 401), (402, 407), (408, 410), (411, 414), (415, 424), (424, 425), (426, 432), (433, 441), (442, 453), (453, 454), (455, 458), (459, 463), (464, 466), (467, 468), (469, 480), (481, 489), (489, 490), (491, 493), (493, 494), (494, 495), (495, 496), (497, 504)]\n"
          ],
          "name": "stdout"
        }
      ]
    },
    {
      "cell_type": "markdown",
      "metadata": {
        "id": "EYzS6LVRdG9N"
      },
      "source": [
        "This gives, for each index of our input IDS, the corresponding start and end character in the original text that gave our token. The very first token (`[CLS]`) has (0, 0) because it doesn't correspond to any part of the question/answer, then the second token is the same as the characters 0 to 3 of the question:"
      ]
    },
    {
      "cell_type": "code",
      "metadata": {
        "id": "e26peX-mdG9N",
        "colab": {
          "base_uri": "https://localhost:8080/"
        },
        "outputId": "7e434b5e-4ea6-4d92-edb0-0f0d4210462e"
      },
      "source": [
        "first_token_id = tokenized_example[\"input_ids\"][0][1]\n",
        "offsets = tokenized_example[\"offset_mapping\"][0][1]\n",
        "print(tokenizer.convert_ids_to_tokens([first_token_id])[0], example[\"question\"][offsets[0]:offsets[1]])"
      ],
      "execution_count": 36,
      "outputs": [
        {
          "output_type": "stream",
          "text": [
            "who who\n"
          ],
          "name": "stdout"
        }
      ]
    },
    {
      "cell_type": "markdown",
      "metadata": {
        "id": "jtpqjkzidG9N"
      },
      "source": [
        "So we can use this mapping to find the position of the start and end tokens of our answer in a given feature. We just have to distinguish which parts of the offsets correspond to the question and which part correspond to the context, this is where the `sequence_ids` method of our `tokenized_example` can be useful:"
      ]
    },
    {
      "cell_type": "code",
      "metadata": {
        "id": "kry5FyMOdG9O",
        "colab": {
          "base_uri": "https://localhost:8080/"
        },
        "outputId": "b0803434-c819-4670-beb8-5d20ec17c855"
      },
      "source": [
        "sequence_ids = tokenized_example.sequence_ids()\n",
        "print(sequence_ids)"
      ],
      "execution_count": 37,
      "outputs": [
        {
          "output_type": "stream",
          "text": [
            "[None, 0, 0, 0, 0, 0, None, 1, 1, 1, 1, 1, 1, 1, 1, 1, 1, 1, 1, 1, 1, 1, 1, 1, 1, 1, 1, 1, 1, 1, 1, 1, 1, 1, 1, 1, 1, 1, 1, 1, 1, 1, 1, 1, 1, 1, 1, 1, 1, 1, 1, 1, 1, 1, 1, 1, 1, 1, 1, 1, 1, 1, 1, 1, 1, 1, 1, 1, 1, 1, 1, 1, 1, 1, 1, 1, 1, 1, 1, 1, 1, 1, 1, 1, 1, 1, 1, 1, 1, 1, 1, 1, 1, 1, 1, 1, 1, 1, 1, 1, 1, 1, 1, 1, 1, 1, 1, 1, 1, 1, 1, 1, 1, 1, 1, 1, 1, 1, 1, 1, 1, 1, 1, 1, 1, 1, 1, 1, 1, 1, 1, 1, 1, 1, 1, 1, 1, 1, 1, 1, 1, 1, 1, 1, 1, 1, 1, 1, 1, 1, 1, 1, 1, 1, 1, 1, 1, 1, 1, 1, 1, 1, 1, 1, 1, 1, 1, 1, 1, 1, 1, 1, 1, 1, 1, 1, 1, 1, 1, 1, 1, 1, 1, 1, 1, 1, 1, 1, 1, 1, 1, 1, 1, 1, 1, 1, 1, 1, 1, 1, 1, 1, 1, 1, 1, 1, 1, 1, 1, 1, 1, 1, 1, 1, 1, 1, 1, 1, 1, 1, 1, 1, 1, 1, 1, 1, 1, 1, 1, 1, 1, 1, 1, 1, 1, 1, 1, 1, 1, 1, 1, 1, 1, 1, 1, 1, 1, 1, 1, 1, 1, 1, 1, 1, 1, 1, 1, 1, 1, 1, 1, 1, 1, 1, 1, 1, 1, 1, 1, 1, 1, 1, 1, 1, 1, 1, 1, 1, 1, 1, 1, 1, 1, 1, 1, 1, 1, 1, 1, 1, 1, 1, 1, 1, 1, 1, 1, 1, 1, 1, 1, 1, 1, 1, 1, 1, 1, 1, 1, 1, 1, 1, 1, 1, 1, 1, 1, 1, 1, 1, 1, 1, 1, 1, 1, 1, 1, 1, 1, 1, 1, 1, 1, 1, 1, 1, 1, 1, 1, 1, 1, 1, 1, 1, 1, 1, 1, 1, 1, 1, 1, 1, 1, 1, 1, 1, 1, 1, 1, 1, 1, 1, 1, 1, 1, 1, 1, 1, 1, 1, 1, 1, 1, 1, 1, 1, 1, 1, 1, 1, 1, 1, 1, None]\n"
          ],
          "name": "stdout"
        }
      ]
    },
    {
      "cell_type": "markdown",
      "metadata": {
        "id": "pKG-W0EbdG9O"
      },
      "source": [
        "It returns `None` for the special tokens, then 0 or 1 depending on whether the corresponding token comes from the first sentence past (the question) or the second (the context). Now with all of this, we can find the first and last token of the answer in one of our input feature (or if the answer is not in this feature):"
      ]
    },
    {
      "cell_type": "code",
      "metadata": {
        "id": "mEk7VoNzdG9O",
        "colab": {
          "base_uri": "https://localhost:8080/"
        },
        "outputId": "6f0a827a-2f5c-49b0-c399-6f0e265c6d42"
      },
      "source": [
        "answers = example[\"answers\"]\n",
        "start_char = answers[\"answer_start\"][0]\n",
        "end_char = start_char + len(answers[\"text\"][0])\n",
        "\n",
        "# Start token index of the current span in the text.\n",
        "token_start_index = 0\n",
        "while sequence_ids[token_start_index] != 1:\n",
        "    token_start_index += 1\n",
        "\n",
        "# End token index of the current span in the text.\n",
        "token_end_index = len(tokenized_example[\"input_ids\"][0]) - 1\n",
        "while sequence_ids[token_end_index] != 1:\n",
        "    token_end_index -= 1\n",
        "\n",
        "# Detect if the answer is out of the span (in which case this feature is labeled with the CLS index).\n",
        "offsets = tokenized_example[\"offset_mapping\"][0]\n",
        "if (offsets[token_start_index][0] <= start_char and offsets[token_end_index][1] >= end_char):\n",
        "    # Move the token_start_index and token_end_index to the two ends of the answer.\n",
        "    # Note: we could go after the last offset if the answer is the last word (edge case).\n",
        "    while token_start_index < len(offsets) and offsets[token_start_index][0] <= start_char:\n",
        "        token_start_index += 1\n",
        "    start_position = token_start_index - 1\n",
        "    while offsets[token_end_index][1] >= end_char:\n",
        "        token_end_index -= 1\n",
        "    end_position = token_end_index + 1\n",
        "    print(start_position, end_position)\n",
        "else:\n",
        "    print(\"The answer is not in this feature.\")"
      ],
      "execution_count": 38,
      "outputs": [
        {
          "output_type": "stream",
          "text": [
            "230 231\n"
          ],
          "name": "stdout"
        }
      ]
    },
    {
      "cell_type": "markdown",
      "metadata": {
        "id": "MfPrPCEFdG9P"
      },
      "source": [
        "And we can double check that it is indeed the theoretical answer:"
      ]
    },
    {
      "cell_type": "code",
      "metadata": {
        "id": "IPcC-rwFdG9Q",
        "colab": {
          "base_uri": "https://localhost:8080/"
        },
        "outputId": "f8815e40-5ec4-4804-8cb2-44138ed72175"
      },
      "source": [
        "print(tokenizer.decode(tokenized_example[\"input_ids\"][0][start_position: end_position+1]))\n",
        "print(answers[\"text\"][0])"
      ],
      "execution_count": 39,
      "outputs": [
        {
          "output_type": "stream",
          "text": [
            "amd\n",
            "AMD\n"
          ],
          "name": "stdout"
        }
      ]
    },
    {
      "cell_type": "markdown",
      "metadata": {
        "id": "ix6Q53FtdG9Q"
      },
      "source": [
        "For this notebook to work with any kind of models, we need to account for the special case where the model expects padding on the left (in which case we switch the order of the question and the context):"
      ]
    },
    {
      "cell_type": "code",
      "metadata": {
        "id": "NAdRF9g-dG9Q"
      },
      "source": [
        "pad_on_right = tokenizer.padding_side == \"right\""
      ],
      "execution_count": 40,
      "outputs": []
    },
    {
      "cell_type": "markdown",
      "metadata": {
        "id": "BVMNaFwVdG9Q"
      },
      "source": [
        "Now let's put everything together in one function we will apply to our training set. In the case of impossible answers (the answer is in another feature given by an example with a long context), we set the cls index for both the start and end position. We could also simply discard those examples from the training set if the flag `allow_impossible_answers` is `False`. Since the preprocessing is already complex enough as it is, we've kept is simple for this part."
      ]
    },
    {
      "cell_type": "code",
      "metadata": {
        "id": "bQkot3v_dG9R"
      },
      "source": [
        "def prepare_train_features(examples):\n",
        "    # Tokenize our examples with truncation and padding, but keep the overflows using a stride. This results\n",
        "    # in one example possible giving several features when a context is long, each of those features having a\n",
        "    # context that overlaps a bit the context of the previous feature.\n",
        "    tokenized_examples = tokenizer(\n",
        "        examples[\"question\" if pad_on_right else \"context\"],\n",
        "        examples[\"context\" if pad_on_right else \"question\"],\n",
        "        truncation=\"only_second\" if pad_on_right else \"only_first\",\n",
        "        max_length=max_length,\n",
        "        stride=doc_stride,\n",
        "        return_overflowing_tokens=True,\n",
        "        return_offsets_mapping=True,\n",
        "        padding=\"max_length\",\n",
        "    )\n",
        "\n",
        "    # Since one example might give us several features if it has a long context, we need a map from a feature to\n",
        "    # its corresponding example. This key gives us just that.\n",
        "    sample_mapping = tokenized_examples.pop(\"overflow_to_sample_mapping\")\n",
        "    # The offset mappings will give us a map from token to character position in the original context. This will\n",
        "    # help us compute the start_positions and end_positions.\n",
        "    offset_mapping = tokenized_examples.pop(\"offset_mapping\")\n",
        "\n",
        "    # Let's label those examples!\n",
        "    tokenized_examples[\"start_positions\"] = []\n",
        "    tokenized_examples[\"end_positions\"] = []\n",
        "\n",
        "    for i, offsets in enumerate(offset_mapping):\n",
        "        # We will label impossible answers with the index of the CLS token.\n",
        "        input_ids = tokenized_examples[\"input_ids\"][i]\n",
        "        cls_index = input_ids.index(tokenizer.cls_token_id)\n",
        "\n",
        "        # Grab the sequence corresponding to that example (to know what is the context and what is the question).\n",
        "        sequence_ids = tokenized_examples.sequence_ids(i)\n",
        "\n",
        "        # One example can give several spans, this is the index of the example containing this span of text.\n",
        "        sample_index = sample_mapping[i]\n",
        "        answers = examples[\"answers\"][sample_index]\n",
        "        # If no answers are given, set the cls_index as answer.\n",
        "        if len(answers[\"answer_start\"]) == 0:\n",
        "            tokenized_examples[\"start_positions\"].append(cls_index)\n",
        "            tokenized_examples[\"end_positions\"].append(cls_index)\n",
        "        else:\n",
        "            # Start/end character index of the answer in the text.\n",
        "            start_char = answers[\"answer_start\"][0]\n",
        "            end_char = start_char + len(answers[\"text\"][0])\n",
        "\n",
        "            # Start token index of the current span in the text.\n",
        "            token_start_index = 0\n",
        "            while sequence_ids[token_start_index] != (1 if pad_on_right else 0):\n",
        "                token_start_index += 1\n",
        "\n",
        "            # End token index of the current span in the text.\n",
        "            token_end_index = len(input_ids) - 1\n",
        "            while sequence_ids[token_end_index] != (1 if pad_on_right else 0):\n",
        "                token_end_index -= 1\n",
        "\n",
        "            # Detect if the answer is out of the span (in which case this feature is labeled with the CLS index).\n",
        "            if not (offsets[token_start_index][0] <= start_char and offsets[token_end_index][1] >= end_char):\n",
        "                tokenized_examples[\"start_positions\"].append(cls_index)\n",
        "                tokenized_examples[\"end_positions\"].append(cls_index)\n",
        "            else:\n",
        "                # Otherwise move the token_start_index and token_end_index to the two ends of the answer.\n",
        "                # Note: we could go after the last offset if the answer is the last word (edge case).\n",
        "                while token_start_index < len(offsets) and offsets[token_start_index][0] <= start_char:\n",
        "                    token_start_index += 1\n",
        "                tokenized_examples[\"start_positions\"].append(token_start_index - 1)\n",
        "                while offsets[token_end_index][1] >= end_char:\n",
        "                    token_end_index -= 1\n",
        "                tokenized_examples[\"end_positions\"].append(token_end_index + 1)\n",
        "\n",
        "    return tokenized_examples"
      ],
      "execution_count": 41,
      "outputs": []
    },
    {
      "cell_type": "code",
      "metadata": {
        "id": "_5y1NL60cOfo",
        "colab": {
          "base_uri": "https://localhost:8080/"
        },
        "outputId": "9c581681-3086-4649-bb7e-3658999d0cab"
      },
      "source": [
        "print((datasets['train'][:69]))"
      ],
      "execution_count": 42,
      "outputs": [
        {
          "output_type": "stream",
          "text": [
            "{'end_idx': ['1024', '1024', '1762', '1762', '76', '76', '46', '46', '3256', '3256', '1175', '1175', '266', '266', '121', '121', '531', '531', '1180', '1180', '276', '276', '123', '123', '107', '107', '88', '88', '3238', '3238', '124', '124', '34', '34', '140', '140', '2652', '2652', '4156', '4156', '5735', '5735', '2242', '2242', '3334', '3334', '8817', '8817', '2562', '2562', '3245', '3245', '3659', '3659', '64', '64', '781', '781', '1530', '1530', '1948', '1948', '2415', '2415', '42', '42', '2647', '2647', '8075'], 'entities': [['Lilium', 'Baillie Gifford'], ['Lilium', 'Baillie Gifford'], ['Facebook ’s', 'Giphy'], ['Facebook ’s', 'Giphy'], ['Collibra', 'CapitalG'], ['Collibra', 'CapitalG'], ['Randy', 'CloudBlue'], ['Randy', 'CloudBlue'], ['Scopely', 'Barcelona Dublin DIGIT Game Studio'], ['Scopely', 'Barcelona Dublin DIGIT Game Studio'], ['Dreyfus', 'Changpeng Zhao'], ['Dreyfus', 'Changpeng Zhao'], ['Chiliz', 'Cointelegraph'], ['Chiliz', 'Cointelegraph'], ['Lolli', 'Safeway'], ['Lolli', 'Safeway'], ['Mati Greenspan', 'Quantum Economics'], ['Mati Greenspan', 'Quantum Economics'], ['Chiliz', 'Alexandre Dreyfus'], ['Chiliz', 'Alexandre Dreyfus'], ['Chiliz', 'Fintech'], ['Chiliz', 'Fintech'], ['Chiliz', 'Alexandre Dreyfus'], ['Chiliz', 'Alexandre Dreyfus'], ['Star Trek Fleet Command', 'FoxNext Games Los Angeles'], ['Star Trek Fleet Command', 'FoxNext Games Los Angeles'], ['MacGregor', 'Cargotec'], ['MacGregor', 'Cargotec'], ['MacGregor', 'Alfa Lift'], ['MacGregor', 'Alfa Lift'], ['MacGregor', 'Cargotec'], ['MacGregor', 'Cargotec'], ['MacGregor', 'Cargotec'], ['MacGregor', 'Cargotec'], ['MacGregor', 'Cargotec'], ['MacGregor', 'Cargotec'], ['Rolls-Royce', 'Intel'], ['Rolls-Royce', 'Intel'], ['Plymouth Quest', 'U.K.’s Plymouth Marine Laboratory'], ['Plymouth Quest', 'U.K.’s Plymouth Marine Laboratory'], ['Rolls-Royce', 'Intel'], ['Rolls-Royce', 'Intel'], ['Don Scales', 'Investis Digital'], ['Don Scales', 'Investis Digital'], ['NSKFF', 'Rolls-Royce Commercial Marine'], ['NSKFF', 'Rolls-Royce Commercial Marine'], ['YardClub', 'Caterpillar'], ['YardClub', 'Caterpillar'], ['Ericsson', 'ABB'], ['Ericsson', 'ABB'], ['Telia', 'Ericsson'], ['Telia', 'Ericsson'], ['Andrew Steer', 'World Resources Institute'], ['Andrew Steer', 'World Resources Institute'], ['Telia', 'Ericsson'], ['Telia', 'Ericsson'], ['Dan Strömberg', 'Telia'], ['Dan Strömberg', 'Telia'], ['Ericsson', 'Telia'], ['Ericsson', 'Telia'], ['Telia', 'Ericsson'], ['Telia', 'Ericsson'], ['Telia Company', 'Ericsson'], ['Telia Company', 'Ericsson'], ['Scopely', 'Digit Game Studios'], ['Scopely', 'Digit Game Studios'], ['Three UK', 'CK Hutchison Holdings'], ['Three UK', 'CK Hutchison Holdings'], ['Digital TV Group', 'Digital Catapult']], 'entity_spans': [[[3, 9], [151, 166]], [[3, 9], [151, 166]], [[92, 102], [148, 153]], [[92, 102], [148, 153]], [[52, 60], [90, 98]], [[52, 60], [90, 98]], [[30, 35], [77, 86]], [[30, 35], [77, 86]], [[381, 388], [464, 498]], [[381, 388], [464, 498]], [[0, 7], [226, 240]], [[0, 7], [226, 240]], [[251, 257], [280, 293]], [[251, 257], [280, 293]], [[13, 18], [70, 77]], [[13, 18], [70, 77]], [[0, 14], [66, 83]], [[0, 14], [66, 83]], [[90, 96], [125, 142]], [[90, 96], [125, 142]], [[50, 56], [145, 152]], [[50, 56], [145, 152]], [[26, 32], [158, 175]], [[26, 32], [158, 175]], [[0, 23], [55, 80]], [[0, 23], [55, 80]], [[0, 9], [19, 27]], [[0, 9], [19, 27]], [[50, 59], [191, 200]], [[50, 59], [191, 200]], [[106, 115], [125, 133]], [[106, 115], [125, 133]], [[16, 25], [35, 43]], [[16, 25], [35, 43]], [[30, 39], [49, 57]], [[30, 39], [49, 57]], [[11, 22], [61, 66]], [[11, 22], [61, 66]], [[148, 162], [186, 219]], [[148, 162], [186, 219]], [[11, 22], [126, 131]], [[11, 22], [126, 131]], [[0, 10], [26, 42]], [[0, 10], [26, 42]], [[35, 40], [71, 100]], [[35, 40], [71, 100]], [[85, 93], [132, 143]], [[85, 93], [132, 143]], [[64, 72], [108, 111]], [[64, 72], [108, 111]], [[0, 5], [218, 226]], [[0, 5], [218, 226]], [[84, 96], [119, 144]], [[84, 96], [119, 144]], [[0, 5], [65, 73]], [[0, 5], [65, 73]], [[192, 205], [214, 219]], [[192, 205], [214, 219]], [[54, 62], [129, 134]], [[54, 62], [129, 134]], [[4, 9], [48, 56]], [[4, 9], [48, 56]], [[12, 25], [70, 78]], [[12, 25], [70, 78]], [[22, 29], [43, 61]], [[22, 29], [43, 61]], [[138, 146], [169, 190]], [[138, 146], [169, 190]], [[50, 66], [96, 112]]], 'match': ['raising $35', 'raising $35', 'acquisition', 'acquisition', 'raised $100', 'raised $100', 'founded', 'founded', 'founded', 'founded', 'Binance CEO', 'Binance CEO', 'CEO Alex', 'CEO Alex', 'Companies subsidiary', 'Companies subsidiary', 'founder', 'founder', 'founder', 'founder', 'partnership with', 'partnership with', 'invest', 'invest', 'has acquired', 'has acquired', 'part of', 'part of', 'invested', 'invested', 'part of', 'part of', 'part of', 'part of', 'part of', 'part of', 'partnership with', 'partnership with', 'owned by', 'owned by', 'partnership with', 'partnership with', 'CEO of', 'CEO of', 'acquisition', 'acquisition', 'acquired by', 'acquired by', 'partnership with', 'partnership with', 'partnership with', 'partnership with', 'CEO of', 'CEO of', 'partnership with', 'partnership with', 'CEO of', 'CEO of', 'partnership with', 'partnership with', 'partnership with', 'partnership with', 'partnership with', 'partnership with', 'has acquired', 'has acquired', 'subsidiary of', 'subsidiary of', 'partnership with'], 'original_article': ['Happy Friday!\\n\\nWe sincerely hope you and yours are keeping healthy and safe. Please take care of yourself and others.\\n\\nThis week, our research team tracked more than 70 tech funding deals worth over €2 billion (!), as well as 15 M&A transactions, rumours, and related news stories across Europe, including Russia, Israel, and Turkey.\\n\\nMeanwhile, here’s an overview of the 10 biggest European tech news items for this week (subscribe to our free newsletter to get this roundup in your inbox every Monday morning):\\n\\n1) Just Eat Takeaway.com agreed to acquire US-based Grubhub for $7.3 billion in a deal that creates one of the world’s largest meal-delivery companies as the coronavirus pandemic drives a surge in orders.\\n\\n2) Online supermarket Ocado is to raise more than £1 billion of fresh equity and debt as it seeks to capitalise on a surge of interest during the coronavirus crisis.\\n\\n3) Lilium, a German startup that’s making an all-electric vertical takeoff and landing passenger jet became a ‘unicorn’ after raising $35 million from Baillie Gifford, the largest investor in Tesla after its billionaire owner Elon Musk. Lilium’s new funding came with a post-money valuation of more than a billion dollars, a person familiar with the situation told Bloomberg.\\n\\n4) The European Union’s antitrust watchdog is planning to file charges against Amazon over its treatment of third-party sellers, The Wall Street Journal reported Thursday.  The charges could come as early as next week or the week after and would focus on Amazon’s dual role as both a seller and operator of the marketplace, according to the Journal.\\n\\n5) Meanwhile, the UK’s watchdog on Friday announced that it has launched an investigation into Facebook’s (reportedly for $400 million) acquisition of Giphy, the popular GIF repository and search engine.\\n\\n6) Trustly, a startup from Sweden that has built a platform to make it as easy for merchants to accept bank transfers as it is to take card payments to complete online transactions, has raised ‘a significant round’ of funding from a group of investors led by BlackRock at a +$1 billion valuation.\\n\\n7) Belgian fintech startup Silverfin has raised a Series B round of $30 million, according to De Tijd. The round was led by Hg Capital with participation from Index Ventures and SmartFin Ventures.\\n\\n8) A group of prominent German tech entrepreneurs – former Rocket Internet execs – has raised €170 million to set up a ‘deep tech’-focused VC firm.\\n\\n9) Babylon Health has acknowledged that its GP video appointment app has suffered a data breach. The UK tech firm was alerted to the problem after one of its users discovered he had been given access to dozens of video recordings of other patients’ consultations.\\n\\n10) Israeli e-commerce startup Global-e has raised $60 million from international investment fund Vitruvian Partners, a person with knowledge of the matter told Calcalist.\\n\\nPodcast(s):\\n\\nTech.eu Podcast #172: Just Eat Grub Takeaway Hub\\n\\n“We take a look at the role that European startups may play in the food delivery industry in the US. Later in the show, you’ll hear an interview with Antti-Jussi Suominen, CEO at the Finnish fintech startup Holvi.”\\n+\\nCheck out our guide to European tech and startup podcasts in English!\\n\\nBonus link(s):\\n\\nThe World Economic Forum this week released a great report entitled ‘Bridging the Gap in European Scale-up Funding: The Green Imperative in an Unprecedented Time’.', 'Happy Friday!\\n\\nWe sincerely hope you and yours are keeping healthy and safe. Please take care of yourself and others.\\n\\nThis week, our research team tracked more than 70 tech funding deals worth over €2 billion (!), as well as 15 M&A transactions, rumours, and related news stories across Europe, including Russia, Israel, and Turkey.\\n\\nMeanwhile, here’s an overview of the 10 biggest European tech news items for this week (subscribe to our free newsletter to get this roundup in your inbox every Monday morning):\\n\\n1) Just Eat Takeaway.com agreed to acquire US-based Grubhub for $7.3 billion in a deal that creates one of the world’s largest meal-delivery companies as the coronavirus pandemic drives a surge in orders.\\n\\n2) Online supermarket Ocado is to raise more than £1 billion of fresh equity and debt as it seeks to capitalise on a surge of interest during the coronavirus crisis.\\n\\n3) Lilium, a German startup that’s making an all-electric vertical takeoff and landing passenger jet became a ‘unicorn’ after raising $35 million from Baillie Gifford, the largest investor in Tesla after its billionaire owner Elon Musk. Lilium’s new funding came with a post-money valuation of more than a billion dollars, a person familiar with the situation told Bloomberg.\\n\\n4) The European Union’s antitrust watchdog is planning to file charges against Amazon over its treatment of third-party sellers, The Wall Street Journal reported Thursday.  The charges could come as early as next week or the week after and would focus on Amazon’s dual role as both a seller and operator of the marketplace, according to the Journal.\\n\\n5) Meanwhile, the UK’s watchdog on Friday announced that it has launched an investigation into Facebook’s (reportedly for $400 million) acquisition of Giphy, the popular GIF repository and search engine.\\n\\n6) Trustly, a startup from Sweden that has built a platform to make it as easy for merchants to accept bank transfers as it is to take card payments to complete online transactions, has raised ‘a significant round’ of funding from a group of investors led by BlackRock at a +$1 billion valuation.\\n\\n7) Belgian fintech startup Silverfin has raised a Series B round of $30 million, according to De Tijd. The round was led by Hg Capital with participation from Index Ventures and SmartFin Ventures.\\n\\n8) A group of prominent German tech entrepreneurs – former Rocket Internet execs – has raised €170 million to set up a ‘deep tech’-focused VC firm.\\n\\n9) Babylon Health has acknowledged that its GP video appointment app has suffered a data breach. The UK tech firm was alerted to the problem after one of its users discovered he had been given access to dozens of video recordings of other patients’ consultations.\\n\\n10) Israeli e-commerce startup Global-e has raised $60 million from international investment fund Vitruvian Partners, a person with knowledge of the matter told Calcalist.\\n\\nPodcast(s):\\n\\nTech.eu Podcast #172: Just Eat Grub Takeaway Hub\\n\\n“We take a look at the role that European startups may play in the food delivery industry in the US. Later in the show, you’ll hear an interview with Antti-Jussi Suominen, CEO at the Finnish fintech startup Holvi.”\\n+\\nCheck out our guide to European tech and startup podcasts in English!\\n\\nBonus link(s):\\n\\nThe World Economic Forum this week released a great report entitled ‘Bridging the Gap in European Scale-up Funding: The Green Imperative in an Unprecedented Time’.', 'Happy Friday!\\n\\nWe sincerely hope you and yours are keeping healthy and safe. Please take care of yourself and others.\\n\\nThis week, our research team tracked more than 70 tech funding deals worth over €2 billion (!), as well as 15 M&A transactions, rumours, and related news stories across Europe, including Russia, Israel, and Turkey.\\n\\nMeanwhile, here’s an overview of the 10 biggest European tech news items for this week (subscribe to our free newsletter to get this roundup in your inbox every Monday morning):\\n\\n1) Just Eat Takeaway.com agreed to acquire US-based Grubhub for $7.3 billion in a deal that creates one of the world’s largest meal-delivery companies as the coronavirus pandemic drives a surge in orders.\\n\\n2) Online supermarket Ocado is to raise more than £1 billion of fresh equity and debt as it seeks to capitalise on a surge of interest during the coronavirus crisis.\\n\\n3) Lilium, a German startup that’s making an all-electric vertical takeoff and landing passenger jet became a ‘unicorn’ after raising $35 million from Baillie Gifford, the largest investor in Tesla after its billionaire owner Elon Musk. Lilium’s new funding came with a post-money valuation of more than a billion dollars, a person familiar with the situation told Bloomberg.\\n\\n4) The European Union’s antitrust watchdog is planning to file charges against Amazon over its treatment of third-party sellers, The Wall Street Journal reported Thursday.  The charges could come as early as next week or the week after and would focus on Amazon’s dual role as both a seller and operator of the marketplace, according to the Journal.\\n\\n5) Meanwhile, the UK’s watchdog on Friday announced that it has launched an investigation into Facebook’s (reportedly for $400 million) acquisition of Giphy, the popular GIF repository and search engine.\\n\\n6) Trustly, a startup from Sweden that has built a platform to make it as easy for merchants to accept bank transfers as it is to take card payments to complete online transactions, has raised ‘a significant round’ of funding from a group of investors led by BlackRock at a +$1 billion valuation.\\n\\n7) Belgian fintech startup Silverfin has raised a Series B round of $30 million, according to De Tijd. The round was led by Hg Capital with participation from Index Ventures and SmartFin Ventures.\\n\\n8) A group of prominent German tech entrepreneurs – former Rocket Internet execs – has raised €170 million to set up a ‘deep tech’-focused VC firm.\\n\\n9) Babylon Health has acknowledged that its GP video appointment app has suffered a data breach. The UK tech firm was alerted to the problem after one of its users discovered he had been given access to dozens of video recordings of other patients’ consultations.\\n\\n10) Israeli e-commerce startup Global-e has raised $60 million from international investment fund Vitruvian Partners, a person with knowledge of the matter told Calcalist.\\n\\nPodcast(s):\\n\\nTech.eu Podcast #172: Just Eat Grub Takeaway Hub\\n\\n“We take a look at the role that European startups may play in the food delivery industry in the US. Later in the show, you’ll hear an interview with Antti-Jussi Suominen, CEO at the Finnish fintech startup Holvi.”\\n+\\nCheck out our guide to European tech and startup podcasts in English!\\n\\nBonus link(s):\\n\\nThe World Economic Forum this week released a great report entitled ‘Bridging the Gap in European Scale-up Funding: The Green Imperative in an Unprecedented Time’.', 'Happy Friday!\\n\\nWe sincerely hope you and yours are keeping healthy and safe. Please take care of yourself and others.\\n\\nThis week, our research team tracked more than 70 tech funding deals worth over €2 billion (!), as well as 15 M&A transactions, rumours, and related news stories across Europe, including Russia, Israel, and Turkey.\\n\\nMeanwhile, here’s an overview of the 10 biggest European tech news items for this week (subscribe to our free newsletter to get this roundup in your inbox every Monday morning):\\n\\n1) Just Eat Takeaway.com agreed to acquire US-based Grubhub for $7.3 billion in a deal that creates one of the world’s largest meal-delivery companies as the coronavirus pandemic drives a surge in orders.\\n\\n2) Online supermarket Ocado is to raise more than £1 billion of fresh equity and debt as it seeks to capitalise on a surge of interest during the coronavirus crisis.\\n\\n3) Lilium, a German startup that’s making an all-electric vertical takeoff and landing passenger jet became a ‘unicorn’ after raising $35 million from Baillie Gifford, the largest investor in Tesla after its billionaire owner Elon Musk. Lilium’s new funding came with a post-money valuation of more than a billion dollars, a person familiar with the situation told Bloomberg.\\n\\n4) The European Union’s antitrust watchdog is planning to file charges against Amazon over its treatment of third-party sellers, The Wall Street Journal reported Thursday.  The charges could come as early as next week or the week after and would focus on Amazon’s dual role as both a seller and operator of the marketplace, according to the Journal.\\n\\n5) Meanwhile, the UK’s watchdog on Friday announced that it has launched an investigation into Facebook’s (reportedly for $400 million) acquisition of Giphy, the popular GIF repository and search engine.\\n\\n6) Trustly, a startup from Sweden that has built a platform to make it as easy for merchants to accept bank transfers as it is to take card payments to complete online transactions, has raised ‘a significant round’ of funding from a group of investors led by BlackRock at a +$1 billion valuation.\\n\\n7) Belgian fintech startup Silverfin has raised a Series B round of $30 million, according to De Tijd. The round was led by Hg Capital with participation from Index Ventures and SmartFin Ventures.\\n\\n8) A group of prominent German tech entrepreneurs – former Rocket Internet execs – has raised €170 million to set up a ‘deep tech’-focused VC firm.\\n\\n9) Babylon Health has acknowledged that its GP video appointment app has suffered a data breach. The UK tech firm was alerted to the problem after one of its users discovered he had been given access to dozens of video recordings of other patients’ consultations.\\n\\n10) Israeli e-commerce startup Global-e has raised $60 million from international investment fund Vitruvian Partners, a person with knowledge of the matter told Calcalist.\\n\\nPodcast(s):\\n\\nTech.eu Podcast #172: Just Eat Grub Takeaway Hub\\n\\n“We take a look at the role that European startups may play in the food delivery industry in the US. Later in the show, you’ll hear an interview with Antti-Jussi Suominen, CEO at the Finnish fintech startup Holvi.”\\n+\\nCheck out our guide to European tech and startup podcasts in English!\\n\\nBonus link(s):\\n\\nThe World Economic Forum this week released a great report entitled ‘Bridging the Gap in European Scale-up Funding: The Green Imperative in an Unprecedented Time’.', 'Belgium/US-based data governance technology company Collibra has raised $100 million from CapitalG, Google’s growth investment arm, giving it a valuation above $1 billion according to De Tijd and Fortune.\\n\\nBasically, the company’s solutions make it easier to find, interpret and trust the organisational data they need to make business decisions, information that is usually stuck in silos or otherwise hard to obtain or understand.\\n\\nThe scale-up previously raised €40 million in a funding round led by ICONIQ Capital, the investment firm linked with Mark Zuckerberg and several other Silicon Valley elites, and before that $50 million from the likes of Battery Ventures, Dawn Capital, Index Ventures, and Newion Investments.\\n\\nThis series E funding round brings its total funding to $233 million.\\n\\nThe company says it plans to extend its AI and machine learning capabilities both within its cloud-native platform and in its support of data science teams for their own analytics initiatives.\\n\\nCollibra’s solutions are used today by over 300 global customers in industries ranging from financial services to healthcare, retail and technology, the company added.', 'Belgium/US-based data governance technology company Collibra has raised $100 million from CapitalG, Google’s growth investment arm, giving it a valuation above $1 billion according to De Tijd and Fortune.\\n\\nBasically, the company’s solutions make it easier to find, interpret and trust the organisational data they need to make business decisions, information that is usually stuck in silos or otherwise hard to obtain or understand.\\n\\nThe scale-up previously raised €40 million in a funding round led by ICONIQ Capital, the investment firm linked with Mark Zuckerberg and several other Silicon Valley elites, and before that $50 million from the likes of Battery Ventures, Dawn Capital, Index Ventures, and Newion Investments.\\n\\nThis series E funding round brings its total funding to $233 million.\\n\\nThe company says it plans to extend its AI and machine learning capabilities both within its cloud-native platform and in its support of data science teams for their own analytics initiatives.\\n\\nCollibra’s solutions are used today by over 300 global customers in industries ranging from financial services to healthcare, retail and technology, the company added.', \"Prior to co-founding Xometry, Randy co-founded and was Executive Chairman of CloudBlue, a leading provider of recycling services for electronic equipment. CloudBlue was acquired by Ingram Micro in September of 2013. Before CloudBlue, Randy was the co-founder and chief executive officer of OfficeTiger, a global BPO company. OfficeTiger was acquired by RR Donnelley in April of 2006. Randy is a member of the Regional Manufacturing Institute of Maryland's (RMI) Board of Directors, representing the interests of manufacturers across the region. Randy graduated from Princeton University and received an MBA from the Harvard Business School.\\n\\n2. How Randy pivoted to being an entrepreneur after stints in banking and politics\\n\\n3. How the company was launched to bring technology to the gigantic, $250 billion manufacturing industry to make it a more efficient and better process for both buyers and sellers\\n\\n4. Why Xometry sought venture capital investment and how to pick the right partner\\n\\n5. The challenges of shifting the manufacturing industry's mindset to accepting a digital experience without sacrificing quality, and the role of manufacturing in the U.S. economy\\n\\n6. Xometry's vision of being a one-stop shop for the customer and the best way for small manufacturers to do business\\n\\n7. How Randy has worked to maintain a culture of innovation and entrepreneurialism through all stages of growth\\n\\n8. How Xometry is not only offsetting carbon emissions from their own shipping but also allowing customers to offset carbon emissions from their manufacturing projects at the time of purchase\\n\\n9. Randy's view of the entrepreneurial and manufacturing ecosystems in Maryland and how Xometry is creating jobs not only within its organization but among the manufacturers it serves\\n\\n10. How Xometry is helping America during the pandemic, from manufacturing PPE and ventilators to helping small businesses emerge and survive\\n\\nHunter Somerville Bio:\\n\\nHunter is a General Partner at Greenspring Associates and is responsible for the sourcing and due diligence efforts on fund, direct and secondary opportunities. He is also actively involved in the assessment of micro-vc managers for the Firm. Additionally, Hunter serves on the LP Advisory Boards for 5 AM Ventures, K2 Venture Capital, Arthur Ventures, Anthos Capital, Bolt, Pear, Bullpen Capital, Redpoint China, Fika Ventures, Felix Capital, Foundry Group, Icon Ventures, Imaginary Ventures, Pioneer Square Labs, Primary Ventures, Scale Venture Partners, TLV Partners and Amiti Ventures. Hunter has played a meaningful role in Greenspring Associates' investments in Matrix Medical, Docusign, Glossier, Xometry, Rover, Teladoc, Senseonics, G5, Rocket Lab, Channel 51, Omnispace, Degreed, Buildops, Filevine, Reliaquest and PolicyGenius. Prior to joining Greenspring, Hunter worked as an Associate for Camden Private Capital. While at Camden Private Capital, he conducted due diligence and monitored fund investments across venture capital, growth equity, debt and buyout structures. Hunter received his M.B.A at the Robert H. Smith School of Business with a concentration in Finance and Strategy. He completed his undergraduate degree from the University of Pennsylvania with a Bachelor of Arts in International Relations and a minor in History.\\n\\nUnlike other forms of private investment, venture brings significant human capital to bear in the form of acting as a strategic advisor to the entrepreneur and working together to form a winning strategy. At Greenspring Associates, we are committed to leveraging our human capital alongside our financial capital to effect powerful enterprise capital via our dedicated Portfolio Impact program.\\n\\nSince leading Xometry's Series D financing in in 2019, we have made a series of introductions for the benefit of the on-demand manufacturing marketplace, including $24 million in prospective customer leads, C-Suite candidate Jim Rallo, who has since assumed the role of CFO, $10 million in customer orders for PPE through our robust network of hospital systems and strategic investor connections for their recent $75 million crossover round.\\n\\nAbout Xometry\\n\\nFounded in 2013 and based in Gaithersburg, Maryland, Xometry is a marketplace that provides customers of all sizes with access to high-quality manufacturers for custom parts. The Company's instant quoting platform and large network of machine shops has helped transform custom manufacturing across industries including aerospace, automotive, consumer and healthcare. Now customers like BMW, GE, Dell, Bosch and NASA can source critical component parts with lower lead times from a wide array of suppliers. Simultaneously, manufacturers in the Xometry network benefit from a broader potential customer base and the ability to more efficiently bid on applicable projects.\\n\\nSophia MacDonald Joins Xometry as Chief People Officer\\n\\nT. Rowe Price and Greenspring Associates Join $75 Million Financing of Xometry\", \"Prior to co-founding Xometry, Randy co-founded and was Executive Chairman of CloudBlue, a leading provider of recycling services for electronic equipment. CloudBlue was acquired by Ingram Micro in September of 2013. Before CloudBlue, Randy was the co-founder and chief executive officer of OfficeTiger, a global BPO company. OfficeTiger was acquired by RR Donnelley in April of 2006. Randy is a member of the Regional Manufacturing Institute of Maryland's (RMI) Board of Directors, representing the interests of manufacturers across the region. Randy graduated from Princeton University and received an MBA from the Harvard Business School.\\n\\n2. How Randy pivoted to being an entrepreneur after stints in banking and politics\\n\\n3. How the company was launched to bring technology to the gigantic, $250 billion manufacturing industry to make it a more efficient and better process for both buyers and sellers\\n\\n4. Why Xometry sought venture capital investment and how to pick the right partner\\n\\n5. The challenges of shifting the manufacturing industry's mindset to accepting a digital experience without sacrificing quality, and the role of manufacturing in the U.S. economy\\n\\n6. Xometry's vision of being a one-stop shop for the customer and the best way for small manufacturers to do business\\n\\n7. How Randy has worked to maintain a culture of innovation and entrepreneurialism through all stages of growth\\n\\n8. How Xometry is not only offsetting carbon emissions from their own shipping but also allowing customers to offset carbon emissions from their manufacturing projects at the time of purchase\\n\\n9. Randy's view of the entrepreneurial and manufacturing ecosystems in Maryland and how Xometry is creating jobs not only within its organization but among the manufacturers it serves\\n\\n10. How Xometry is helping America during the pandemic, from manufacturing PPE and ventilators to helping small businesses emerge and survive\\n\\nHunter Somerville Bio:\\n\\nHunter is a General Partner at Greenspring Associates and is responsible for the sourcing and due diligence efforts on fund, direct and secondary opportunities. He is also actively involved in the assessment of micro-vc managers for the Firm. Additionally, Hunter serves on the LP Advisory Boards for 5 AM Ventures, K2 Venture Capital, Arthur Ventures, Anthos Capital, Bolt, Pear, Bullpen Capital, Redpoint China, Fika Ventures, Felix Capital, Foundry Group, Icon Ventures, Imaginary Ventures, Pioneer Square Labs, Primary Ventures, Scale Venture Partners, TLV Partners and Amiti Ventures. Hunter has played a meaningful role in Greenspring Associates' investments in Matrix Medical, Docusign, Glossier, Xometry, Rover, Teladoc, Senseonics, G5, Rocket Lab, Channel 51, Omnispace, Degreed, Buildops, Filevine, Reliaquest and PolicyGenius. Prior to joining Greenspring, Hunter worked as an Associate for Camden Private Capital. While at Camden Private Capital, he conducted due diligence and monitored fund investments across venture capital, growth equity, debt and buyout structures. Hunter received his M.B.A at the Robert H. Smith School of Business with a concentration in Finance and Strategy. He completed his undergraduate degree from the University of Pennsylvania with a Bachelor of Arts in International Relations and a minor in History.\\n\\nUnlike other forms of private investment, venture brings significant human capital to bear in the form of acting as a strategic advisor to the entrepreneur and working together to form a winning strategy. At Greenspring Associates, we are committed to leveraging our human capital alongside our financial capital to effect powerful enterprise capital via our dedicated Portfolio Impact program.\\n\\nSince leading Xometry's Series D financing in in 2019, we have made a series of introductions for the benefit of the on-demand manufacturing marketplace, including $24 million in prospective customer leads, C-Suite candidate Jim Rallo, who has since assumed the role of CFO, $10 million in customer orders for PPE through our robust network of hospital systems and strategic investor connections for their recent $75 million crossover round.\\n\\nAbout Xometry\\n\\nFounded in 2013 and based in Gaithersburg, Maryland, Xometry is a marketplace that provides customers of all sizes with access to high-quality manufacturers for custom parts. The Company's instant quoting platform and large network of machine shops has helped transform custom manufacturing across industries including aerospace, automotive, consumer and healthcare. Now customers like BMW, GE, Dell, Bosch and NASA can source critical component parts with lower lead times from a wide array of suppliers. Simultaneously, manufacturers in the Xometry network benefit from a broader potential customer base and the ability to more efficiently bid on applicable projects.\\n\\nSophia MacDonald Joins Xometry as Chief People Officer\\n\\nT. Rowe Price and Greenspring Associates Join $75 Million Financing of Xometry\", 'Mobile game publisher Scopely has raised 200 million in a fourth round of funding so that it can have a war chest for acquisitions and investments Scopely said it is profitable and growing but it will use the money to accelerate its merger and acquisition M A and investment strategy expanding its portfolio of games across new genres and intellectual property The deal values the company at more than 1 7 billion more than double compared to a year ago NewView Capital led the round with participation from Canada Pension Plan Investment Board CPPIB and Baillie Gifford among others Existing investors who also participated include Greycroft Partners Revolution Growth and Sands Capital Ventures The investment is a sign of further consolidation Last year acquisitions totaled 22 billion in the game industry Scopely s big games include Star Trek Fleet Command Looney Tunes World of Mayhem WWE Champions 2019 The Walking Dead Road To Survival Yahtzee With Buddies and Wheel of Fortune Free Play Scopely s games have generated more than 1 billion in lifetime revenue and the company said its valuation more than doubled in the past year \\xa0 this past summer alongside a number of recent milestones that have more than doubled Scopely s valuation in just one year At the end of 2018 the company added two new games to its highly diverse portfolio Looney Tunes World of Mayhem and Star Trek Fleet Command which was created with the recently acquired DIGIT Game Studios and is now Scopely s fastest growing title ever With our business continuing to scale and the durability of our flagship properties we are more bullish than ever on further expanding our portfolio through M A This funding round adds the financial support to pursue large scale acquisition opportunities said Walter Driver Scopely co CEO in a statement Javier Ferreira Scopely co CEO added in a statement The continued interest in our business is a great validation of both our momentum this past year and the fundamental strength of Scopely We plan to continue to create and deliver the very best game experiences that are an important part of people s lives now on an even greater scale Scopely noted that mobile gaming is now the biggest and fastest growing category in interactive entertainment generating more than the worldwide box office Scopely is emblematic of the rise of interactive entertainment and we have seen firsthand the team s ability to repeatedly and successfully launch and sustain mobile products which are complex live businesses said Ravi Viswanathan managing partner of NewView Capital \\xa0 in a statement Scopely s technology platform coupled with their strategic partnerships and track record are unmatched in the western world and we are thrilled to deepen our relationship to support their next phase of growth NewView Capital spun out of NEA and it was founded by Viswanathan former NEA general partner Greycroft Partner Mark Terbeek said in a statement We ve been longtime supporters of Scopely since our initial seed investment and we continue to be incredibly impressed by their momentum Scopely has solidified their role as one of the preeminent free to play games companies and we are thrilled to increase our participation in the business Scopely was founded in 2011 and it now has 450 employees in offices in Los Angeles Barcelona Dublin DIGIT Game Studio and Tokyo with an additional 400 people working on Scopely games at external development studios around the world Our goal is to invest and acquire teams and companies that have achieved success in the marketplace and that have products players love and engage with deeply said Driver in an email to GamesBeat Asked why the company isn t opting for pure organic growth Driver said We are seeing significant organic growth as a profitable business and expect to continue to grow organically in the future We will use this financing to accelerate our inorganic investment strategy as a complement to our organic growth To date Scopely has raised more than 450 million Scopely has six consecutive top grossing franchises all on track to hit more than 100 million in lifetime revenue In early 2019 Scopely said it had exceeded a 400 million annual revenue run rate and this summer \\xa0Scopely said it had hit over 1 billion in lifetime revenue Sign up for Funding Daily Get the\\xa0latest news in your inbox every weekday', 'Mobile game publisher Scopely has raised 200 million in a fourth round of funding so that it can have a war chest for acquisitions and investments Scopely said it is profitable and growing but it will use the money to accelerate its merger and acquisition M A and investment strategy expanding its portfolio of games across new genres and intellectual property The deal values the company at more than 1 7 billion more than double compared to a year ago NewView Capital led the round with participation from Canada Pension Plan Investment Board CPPIB and Baillie Gifford among others Existing investors who also participated include Greycroft Partners Revolution Growth and Sands Capital Ventures The investment is a sign of further consolidation Last year acquisitions totaled 22 billion in the game industry Scopely s big games include Star Trek Fleet Command Looney Tunes World of Mayhem WWE Champions 2019 The Walking Dead Road To Survival Yahtzee With Buddies and Wheel of Fortune Free Play Scopely s games have generated more than 1 billion in lifetime revenue and the company said its valuation more than doubled in the past year \\xa0 this past summer alongside a number of recent milestones that have more than doubled Scopely s valuation in just one year At the end of 2018 the company added two new games to its highly diverse portfolio Looney Tunes World of Mayhem and Star Trek Fleet Command which was created with the recently acquired DIGIT Game Studios and is now Scopely s fastest growing title ever With our business continuing to scale and the durability of our flagship properties we are more bullish than ever on further expanding our portfolio through M A This funding round adds the financial support to pursue large scale acquisition opportunities said Walter Driver Scopely co CEO in a statement Javier Ferreira Scopely co CEO added in a statement The continued interest in our business is a great validation of both our momentum this past year and the fundamental strength of Scopely We plan to continue to create and deliver the very best game experiences that are an important part of people s lives now on an even greater scale Scopely noted that mobile gaming is now the biggest and fastest growing category in interactive entertainment generating more than the worldwide box office Scopely is emblematic of the rise of interactive entertainment and we have seen firsthand the team s ability to repeatedly and successfully launch and sustain mobile products which are complex live businesses said Ravi Viswanathan managing partner of NewView Capital \\xa0 in a statement Scopely s technology platform coupled with their strategic partnerships and track record are unmatched in the western world and we are thrilled to deepen our relationship to support their next phase of growth NewView Capital spun out of NEA and it was founded by Viswanathan former NEA general partner Greycroft Partner Mark Terbeek said in a statement We ve been longtime supporters of Scopely since our initial seed investment and we continue to be incredibly impressed by their momentum Scopely has solidified their role as one of the preeminent free to play games companies and we are thrilled to increase our participation in the business Scopely was founded in 2011 and it now has 450 employees in offices in Los Angeles Barcelona Dublin DIGIT Game Studio and Tokyo with an additional 400 people working on Scopely games at external development studios around the world Our goal is to invest and acquire teams and companies that have achieved success in the marketplace and that have products players love and engage with deeply said Driver in an email to GamesBeat Asked why the company isn t opting for pure organic growth Driver said We are seeing significant organic growth as a profitable business and expect to continue to grow organically in the future We will use this financing to accelerate our inorganic investment strategy as a complement to our organic growth To date Scopely has raised more than 450 million Scopely has six consecutive top grossing franchises all on track to hit more than 100 million in lifetime revenue In early 2019 Scopely said it had exceeded a 400 million annual revenue run rate and this summer \\xa0Scopely said it had hit over 1 billion in lifetime revenue Sign up for Funding Daily Get the\\xa0latest news in your inbox every weekday', 'Sports blockchain venture Chiliz has announced a strategic partnership with Binance Chain the mainnet of major cryptocurrency exchange Binance The news was revealed in an official press release on May 17 As previously reported Chiliz CHZ is a sports industry oriented digital currency that powers the tokenized fan engagement platform and blockchain powered mobile app Socios com High profile Socios partners to date have included major soccer teams Paris Saint Germain and Juventus who plan to use the platform to launch fan token offerings for their club branded tokens which will confer voting rights for club related polls and offer rewards for their holders While crypto exchange Binance was already a backer of the Chiliz venture Chiliz and Socios com CEO Alex Dreyfus has underscored that the new integration with the Binance Chain mainnet will increase Socios com s access to the liquidity pool of the worldwide Binance community Sports fans Dreyfus noted represent an addressable audience of 3 5 billion globally opening up the possibility of bringing blockchain to a wider audience via collaboration with the industry s global brands and household names Binance CEO Changpeng Zhao echoed the idea stating in the press release According to the release Binance Chain integration will enable Chiliz to deepen blockchain implementation in their consumer oriented product and to offer services such as instant payments prepaid gift cards and micro transactions for digital services With Socios partner club fan tokens such as PSG and Juventus currently under development the press release states that once CHZ has been successfully integrated these forthcoming fan tokens could also in future be issued on Binance Chain Chiliz which reportedly raised over 66 million through private placement from investors in 2018 will reportedly release further news in coming weeks in particular concerning the partial migration of ERC20 tokens to BEP2 the technical standard for the Binance Chain mainnet The Binance Chain mainnet was launched in April of this year with the intent to build a basis for issuing new cryptocurrencies and initial coin offering tokens As Cointelegraph has reported London based West Ham United which plays in the English Premier League became the latest high profile Socios club partner this April In December 2018 Brazilian premier league soccer club Atletico Mineiro launched its own fan utility token dubbed GaloCoin', 'Sports blockchain venture Chiliz has announced a strategic partnership with Binance Chain the mainnet of major cryptocurrency exchange Binance The news was revealed in an official press release on May 17 As previously reported Chiliz CHZ is a sports industry oriented digital currency that powers the tokenized fan engagement platform and blockchain powered mobile app Socios com High profile Socios partners to date have included major soccer teams Paris Saint Germain and Juventus who plan to use the platform to launch fan token offerings for their club branded tokens which will confer voting rights for club related polls and offer rewards for their holders While crypto exchange Binance was already a backer of the Chiliz venture Chiliz and Socios com CEO Alex Dreyfus has underscored that the new integration with the Binance Chain mainnet will increase Socios com s access to the liquidity pool of the worldwide Binance community Sports fans Dreyfus noted represent an addressable audience of 3 5 billion globally opening up the possibility of bringing blockchain to a wider audience via collaboration with the industry s global brands and household names Binance CEO Changpeng Zhao echoed the idea stating in the press release According to the release Binance Chain integration will enable Chiliz to deepen blockchain implementation in their consumer oriented product and to offer services such as instant payments prepaid gift cards and micro transactions for digital services With Socios partner club fan tokens such as PSG and Juventus currently under development the press release states that once CHZ has been successfully integrated these forthcoming fan tokens could also in future be issued on Binance Chain Chiliz which reportedly raised over 66 million through private placement from investors in 2018 will reportedly release further news in coming weeks in particular concerning the partial migration of ERC20 tokens to BEP2 the technical standard for the Binance Chain mainnet The Binance Chain mainnet was launched in April of this year with the intent to build a basis for issuing new cryptocurrencies and initial coin offering tokens As Cointelegraph has reported London based West Ham United which plays in the English Premier League became the latest high profile Socios club partner this April In December 2018 Brazilian premier league soccer club Atletico Mineiro launched its own fan utility token dubbed GaloCoin', 'American sports fans could soon be using blockchain based tokens to interact with their favorite teams Blockchain sports firm Chiliz has partnered with major marketing agency Lagardere Sports and Entertainment according to a press release on Feb 17 \\xa0 Chiliz CEO Alex Dreyfus told Cointelegraph that as part of the partnership Lagardere s sales team will present Chiliz and its blockchain based fan interaction system Socios to new sports teams leagues and sports federations \\xa0 Dreyfus explained that since Lagardere has a major presence in the United States it will help expose Chiliz and Socios to teams in major sports leagues such as the National Football League and Major League Baseball where average team valuations are in the billions of dollars Per Lagardere s quarterly reports the company saw over 435 million in annual profits at the end of Q3 2019 Legardere has contracts with athletes in the NFL MLB and professional golf Dreyfus claims that Chiliz already has 120 000 users and hinted at more potential future partnerships that could help increase its user base By adding major teams Chiliz aims for mass appeal for tokenized assets The Socios platform currently allows soccer fans of various teams to purchase blockchain based fan engagement tokens which can then be used to vote on certain club decisions and to access exclusive events and merchandise Spanish soccer powerhouse FC Barcelona recently joined Socios to create a token for the franchise In September 2019 soccer club Atlético de Madrid also joined the platform as did London based soccer team West Ham United that previous April In a recent interview with Cointelegraph Dreyfus explained that Socios may be the first way for the masses to experience tokenized assets just like the mobile video game Pokemon Go was the first way for the mainstream public to experience augmented reality', 'American sports fans could soon be using blockchain based tokens to interact with their favorite teams Blockchain sports firm Chiliz has partnered with major marketing agency Lagardere Sports and Entertainment according to a press release on Feb 17 \\xa0 Chiliz CEO Alex Dreyfus told Cointelegraph that as part of the partnership Lagardere s sales team will present Chiliz and its blockchain based fan interaction system Socios to new sports teams leagues and sports federations \\xa0 Dreyfus explained that since Lagardere has a major presence in the United States it will help expose Chiliz and Socios to teams in major sports leagues such as the National Football League and Major League Baseball where average team valuations are in the billions of dollars Per Lagardere s quarterly reports the company saw over 435 million in annual profits at the end of Q3 2019 Legardere has contracts with athletes in the NFL MLB and professional golf Dreyfus claims that Chiliz already has 120 000 users and hinted at more potential future partnerships that could help increase its user base By adding major teams Chiliz aims for mass appeal for tokenized assets The Socios platform currently allows soccer fans of various teams to purchase blockchain based fan engagement tokens which can then be used to vote on certain club decisions and to access exclusive events and merchandise Spanish soccer powerhouse FC Barcelona recently joined Socios to create a token for the franchise In September 2019 soccer club Atlético de Madrid also joined the platform as did London based soccer team West Ham United that previous April In a recent interview with Cointelegraph Dreyfus explained that Socios may be the first way for the masses to experience tokenized assets just like the mobile video game Pokemon Go was the first way for the mainstream public to experience augmented reality', 'Lolli announces Safeway Bitcoin partnership Rewards shopping app Lolli has partnered with Albertsons Companies subsidiary Safeway to give customers 3 5 back in Bitcoin when purchasing groceries online Customers will be rewarded in Satoshis sats the name given to one hundred millionth of one Bitcoin the smallest unit of the cryptocurrency Lolli CEO and Co Founder Alex Adelman says I m extremely proud to partner with Safeway one of the most well recognised food retailers in the United States Americans are already shopping for groceries at least once a week why not earn some Bitcoin off those frequent purchases Hopefully this will give people to ability to get involved in holding and owning Bitcoin perhaps for the first time Further details here The post Blockchain and crypto in retail the past week at a glance appeared first on Coin Rivet Lolli announces Safeway Bitcoin partnership Rewards shopping app Lolli has partnered with Albertsons Companies subsidiary Safeway to give customers 3 5 back in Bitcoin when purchasing groceries online Customers will be rewarded in Satoshis sats the name given to one hundred millionth of one Bitcoin the smallest unit of the cryptocurrency Lolli CEO and Co Founder Alex Adelman says I m extremely proud to partner with Safeway one of the most well recognised food retailers in the United States Americans are already shopping for groceries at least once a week why not earn some Bitcoin off those frequent purchases Hopefully this will give people to ability to get involved in holding and owning Bitcoin perhaps for the first time Further details here Phone House brings crypto payments to Portugal with UTRUST Phone House has teamed with payment platform UTRUST enabling customers in Portugal to purchase electronics at phonehouse pt using cryptocurrencies Other countries will be added in the coming months UTRUST CEO Nuno Correia says We re delighted to be adding Phone House as our latest merchant and offering their customers and the crypto community as a whole\\xa0the option of paying for electronics using a variety of cryptocurrencies This follows on from our recent partnership announcement with major football club S L Benfica and we look forward to adding more merchants in the coming weeks and months Pedro Brehm General Director of Phone House Portugal adds This announcement coincides with the redesign of the Portugal online store We are living through challenging times for retailers defined by constant change and new concepts We are innovating and anticipating these changes and through this partnership we are positioning ourselves as a first mover With the UTRUST platform users can pay using native token UTK in addition to such cryptocurrencies as Bitcoin and Ethereum The company provides crypto to fiat conversions It says that Phone House will be able to settle payments directly to its bank in fiat on the very same day they are received shielding them from any risk of market volatility AS Roma signs up with blockchain powered Socios com platform AS Roma has become the second Italian football club to join Socios com a blockchain based fan engagement and rewards mobile platform developed by Chiliz It lines up alongside the likes of Juventus Paris Saint Germain and West Ham United in offering fan tokens to supporters As AS Roma s official cryptocurrency partner Socios com will provide digital assets that give fans the right to vote in certain decisions The more fans do so the more rewards they can earn From the autumn they will be able to choose the name of a club facility make decisions over warm up related activities at Stadio Olimpico as well as decide which player will feature in a live Twitter Q A Fan tokens will be tradeable against Socios com s native token CHZ which is currently listed on BitMax KuCoin and Binance DEX Francesco Calvo Chief Revenue Officer at AS Roma says As a club we have a duty to always be very attentive and proactive towards new technologies and innovation Thanks to Socios com s blockchain platform we can guarantee new opportunities to our fan base around the world giving them the possibility to interact in an innovative way with their favourite team Oranco announces blockchain trial Oranco a Chinese alcohol wholesaler and marketer that specialises in Fenjiu liquor and imported wines is testing out blockchain based anti counterfeiting laser recognition technology Peng Yang President of Oranco comments We believe the verification capabilities of blockchain will enable us to credibly assure the origins and authenticity of our premium alcoholic beverages This technology will assure the authenticity and further build the value of our premium products We look forward to further exploring and exploiting blockchain technologies following this exciting step The post Blockchain and crypto in retail the past week at a glance appeared first on Coin Rivet', 'Lolli announces Safeway Bitcoin partnership Rewards shopping app Lolli has partnered with Albertsons Companies subsidiary Safeway to give customers 3 5 back in Bitcoin when purchasing groceries online Customers will be rewarded in Satoshis sats the name given to one hundred millionth of one Bitcoin the smallest unit of the cryptocurrency Lolli CEO and Co Founder Alex Adelman says I m extremely proud to partner with Safeway one of the most well recognised food retailers in the United States Americans are already shopping for groceries at least once a week why not earn some Bitcoin off those frequent purchases Hopefully this will give people to ability to get involved in holding and owning Bitcoin perhaps for the first time Further details here The post Blockchain and crypto in retail the past week at a glance appeared first on Coin Rivet Lolli announces Safeway Bitcoin partnership Rewards shopping app Lolli has partnered with Albertsons Companies subsidiary Safeway to give customers 3 5 back in Bitcoin when purchasing groceries online Customers will be rewarded in Satoshis sats the name given to one hundred millionth of one Bitcoin the smallest unit of the cryptocurrency Lolli CEO and Co Founder Alex Adelman says I m extremely proud to partner with Safeway one of the most well recognised food retailers in the United States Americans are already shopping for groceries at least once a week why not earn some Bitcoin off those frequent purchases Hopefully this will give people to ability to get involved in holding and owning Bitcoin perhaps for the first time Further details here Phone House brings crypto payments to Portugal with UTRUST Phone House has teamed with payment platform UTRUST enabling customers in Portugal to purchase electronics at phonehouse pt using cryptocurrencies Other countries will be added in the coming months UTRUST CEO Nuno Correia says We re delighted to be adding Phone House as our latest merchant and offering their customers and the crypto community as a whole\\xa0the option of paying for electronics using a variety of cryptocurrencies This follows on from our recent partnership announcement with major football club S L Benfica and we look forward to adding more merchants in the coming weeks and months Pedro Brehm General Director of Phone House Portugal adds This announcement coincides with the redesign of the Portugal online store We are living through challenging times for retailers defined by constant change and new concepts We are innovating and anticipating these changes and through this partnership we are positioning ourselves as a first mover With the UTRUST platform users can pay using native token UTK in addition to such cryptocurrencies as Bitcoin and Ethereum The company provides crypto to fiat conversions It says that Phone House will be able to settle payments directly to its bank in fiat on the very same day they are received shielding them from any risk of market volatility AS Roma signs up with blockchain powered Socios com platform AS Roma has become the second Italian football club to join Socios com a blockchain based fan engagement and rewards mobile platform developed by Chiliz It lines up alongside the likes of Juventus Paris Saint Germain and West Ham United in offering fan tokens to supporters As AS Roma s official cryptocurrency partner Socios com will provide digital assets that give fans the right to vote in certain decisions The more fans do so the more rewards they can earn From the autumn they will be able to choose the name of a club facility make decisions over warm up related activities at Stadio Olimpico as well as decide which player will feature in a live Twitter Q A Fan tokens will be tradeable against Socios com s native token CHZ which is currently listed on BitMax KuCoin and Binance DEX Francesco Calvo Chief Revenue Officer at AS Roma says As a club we have a duty to always be very attentive and proactive towards new technologies and innovation Thanks to Socios com s blockchain platform we can guarantee new opportunities to our fan base around the world giving them the possibility to interact in an innovative way with their favourite team Oranco announces blockchain trial Oranco a Chinese alcohol wholesaler and marketer that specialises in Fenjiu liquor and imported wines is testing out blockchain based anti counterfeiting laser recognition technology Peng Yang President of Oranco comments We believe the verification capabilities of blockchain will enable us to credibly assure the origins and authenticity of our premium alcoholic beverages This technology will assure the authenticity and further build the value of our premium products We look forward to further exploring and exploiting blockchain technologies following this exciting step The post Blockchain and crypto in retail the past week at a glance appeared first on Coin Rivet', 'Digital tokens and blockchain technology are not the first things one would imagine when asked about soccer games in Europe. But Chiliz, via its subsidiary Socios.com made that possible in 2018, bringing the concept of \"fan tokens\" to millions of football fanatics.\\n\\nNow, just as footballing events in Europe are restarting after the lockdown, Chiliz is bolstering its advisor team with a fintech and renowned markets analyst to tap into newer ventures for the brand.\\n\\nMati Greenspan, the famed markets analyst and currency founder of Quantum Economics, has joined the advisory board of Chiliz on June 9, as per a release shared with CryptoSlate.\\n\\nThose in the cryptocurrency community might recognize Greenspan from his days at eToro, the retail-focused trading firm that rolled out Bitcoin support back in 2014. Greenspan was known for his cryptocurrency market calls and predictions, with a notable accuracy in certain long-term plays.\\n\\nHis work has been quoted on publications like Bloomberg, Forbes, Reuters, WSJ, and several cryptocurrency outlets.\\n\\nGreenspan brings years of market experience, industry connections, and strong networks to Chiliz, notes the latter\\'s founder Alexandre Dreyfus.\\n\\nChiliz, via Socio.com, runs a reward and fan voting platform, allowing fans to \"influence\" teams and earn rewards through digital assets called \"Fan Tokens.\"\\n\\nGreenspan spoke on the development:\\n\\n\"This project is extremely exciting as it will open up the token\\'s market to an entirely new industry. One with hundreds of millions of loyal fans who are eager to increase their relationship with brands they love and play a more active role with their clubs.\"\\n\\nFan Tokens are specific to a team or a club, and are a finite, digital asset that provides access to an encrypted, immutable ledger of voting and membership rights ownership. All Fan Tokens are either an ERC20 standard on the Ethereum blockchain or a BEP-2 on Binance Chain.\\n\\nMajor Socios.com partners include UFC, footballing giants such as FC Barcelona ($BAR), Juventus ($JUV), Paris Saint Germain ($PSG), Atlético de Madrid ($ATM), AS Roma ($ASR), and esports giants OG ($OG).\\n\\nAll tokens, as mentioned above, can be purchased or traded via both Socios.com and Chiliz. The latter touts itself as the world\\'s first tokenized sports exchange, allowing fans and crypto enthusiasts to trade digital assets from globally recognized sporting organizations.\\n\\n$JUV and Galatasaray ($GAL) have both already been listed on Chiliz.net. The latter was listed just last week and saw a 200 percent price increase in the first few hours of trading. $GAL currently trades at $4.97, while $JUV can be purchased for $7.75 after initially being sold at €2 during the Fan Token Offering (FTO) on Socios.com.\\n\\nChiliz notes all other Fan Tokens, such as $BAR and $ATM will go live on the platform shortly with many more to follow in 2020. All such tokens are paired against CHZ, the native token of the Chiliz protocol.\\n\\nIn its announcement, Chiliz noted Greenspan would use his expertise to \"blaze a trail\" for follow and venture into the trading of sports-based digital assets, eventually scaling the Socios.com and Chiliz.net platforms globally.\\n\\nDreyfus concluded:', 'Digital tokens and blockchain technology are not the first things one would imagine when asked about soccer games in Europe. But Chiliz, via its subsidiary Socios.com made that possible in 2018, bringing the concept of \"fan tokens\" to millions of football fanatics.\\n\\nNow, just as footballing events in Europe are restarting after the lockdown, Chiliz is bolstering its advisor team with a fintech and renowned markets analyst to tap into newer ventures for the brand.\\n\\nMati Greenspan, the famed markets analyst and currency founder of Quantum Economics, has joined the advisory board of Chiliz on June 9, as per a release shared with CryptoSlate.\\n\\nThose in the cryptocurrency community might recognize Greenspan from his days at eToro, the retail-focused trading firm that rolled out Bitcoin support back in 2014. Greenspan was known for his cryptocurrency market calls and predictions, with a notable accuracy in certain long-term plays.\\n\\nHis work has been quoted on publications like Bloomberg, Forbes, Reuters, WSJ, and several cryptocurrency outlets.\\n\\nGreenspan brings years of market experience, industry connections, and strong networks to Chiliz, notes the latter\\'s founder Alexandre Dreyfus.\\n\\nChiliz, via Socio.com, runs a reward and fan voting platform, allowing fans to \"influence\" teams and earn rewards through digital assets called \"Fan Tokens.\"\\n\\nGreenspan spoke on the development:\\n\\n\"This project is extremely exciting as it will open up the token\\'s market to an entirely new industry. One with hundreds of millions of loyal fans who are eager to increase their relationship with brands they love and play a more active role with their clubs.\"\\n\\nFan Tokens are specific to a team or a club, and are a finite, digital asset that provides access to an encrypted, immutable ledger of voting and membership rights ownership. All Fan Tokens are either an ERC20 standard on the Ethereum blockchain or a BEP-2 on Binance Chain.\\n\\nMajor Socios.com partners include UFC, footballing giants such as FC Barcelona ($BAR), Juventus ($JUV), Paris Saint Germain ($PSG), Atlético de Madrid ($ATM), AS Roma ($ASR), and esports giants OG ($OG).\\n\\nAll tokens, as mentioned above, can be purchased or traded via both Socios.com and Chiliz. The latter touts itself as the world\\'s first tokenized sports exchange, allowing fans and crypto enthusiasts to trade digital assets from globally recognized sporting organizations.\\n\\n$JUV and Galatasaray ($GAL) have both already been listed on Chiliz.net. The latter was listed just last week and saw a 200 percent price increase in the first few hours of trading. $GAL currently trades at $4.97, while $JUV can be purchased for $7.75 after initially being sold at €2 during the Fan Token Offering (FTO) on Socios.com.\\n\\nChiliz notes all other Fan Tokens, such as $BAR and $ATM will go live on the platform shortly with many more to follow in 2020. All such tokens are paired against CHZ, the native token of the Chiliz protocol.\\n\\nIn its announcement, Chiliz noted Greenspan would use his expertise to \"blaze a trail\" for follow and venture into the trading of sports-based digital assets, eventually scaling the Socios.com and Chiliz.net platforms globally.\\n\\nDreyfus concluded:', 'Digital tokens and blockchain technology are not the first things one would imagine when asked about soccer games in Europe. But Chiliz, via its subsidiary Socios.com made that possible in 2018, bringing the concept of \"fan tokens\" to millions of football fanatics.\\n\\nNow, just as footballing events in Europe are restarting after the lockdown, Chiliz is bolstering its advisor team with a fintech and renowned markets analyst to tap into newer ventures for the brand.\\n\\nMati Greenspan, the famed markets analyst and currency founder of Quantum Economics, has joined the advisory board of Chiliz on June 9, as per a release shared with CryptoSlate.\\n\\nThose in the cryptocurrency community might recognize Greenspan from his days at eToro, the retail-focused trading firm that rolled out Bitcoin support back in 2014. Greenspan was known for his cryptocurrency market calls and predictions, with a notable accuracy in certain long-term plays.\\n\\nHis work has been quoted on publications like Bloomberg, Forbes, Reuters, WSJ, and several cryptocurrency outlets.\\n\\nGreenspan brings years of market experience, industry connections, and strong networks to Chiliz, notes the latter\\'s founder Alexandre Dreyfus.\\n\\nChiliz, via Socio.com, runs a reward and fan voting platform, allowing fans to \"influence\" teams and earn rewards through digital assets called \"Fan Tokens.\"\\n\\nGreenspan spoke on the development:\\n\\n\"This project is extremely exciting as it will open up the token\\'s market to an entirely new industry. One with hundreds of millions of loyal fans who are eager to increase their relationship with brands they love and play a more active role with their clubs.\"\\n\\nFan Tokens are specific to a team or a club, and are a finite, digital asset that provides access to an encrypted, immutable ledger of voting and membership rights ownership. All Fan Tokens are either an ERC20 standard on the Ethereum blockchain or a BEP-2 on Binance Chain.\\n\\nMajor Socios.com partners include UFC, footballing giants such as FC Barcelona ($BAR), Juventus ($JUV), Paris Saint Germain ($PSG), Atlético de Madrid ($ATM), AS Roma ($ASR), and esports giants OG ($OG).\\n\\nAll tokens, as mentioned above, can be purchased or traded via both Socios.com and Chiliz. The latter touts itself as the world\\'s first tokenized sports exchange, allowing fans and crypto enthusiasts to trade digital assets from globally recognized sporting organizations.\\n\\n$JUV and Galatasaray ($GAL) have both already been listed on Chiliz.net. The latter was listed just last week and saw a 200 percent price increase in the first few hours of trading. $GAL currently trades at $4.97, while $JUV can be purchased for $7.75 after initially being sold at €2 during the Fan Token Offering (FTO) on Socios.com.\\n\\nChiliz notes all other Fan Tokens, such as $BAR and $ATM will go live on the platform shortly with many more to follow in 2020. All such tokens are paired against CHZ, the native token of the Chiliz protocol.\\n\\nIn its announcement, Chiliz noted Greenspan would use his expertise to \"blaze a trail\" for follow and venture into the trading of sports-based digital assets, eventually scaling the Socios.com and Chiliz.net platforms globally.\\n\\nDreyfus concluded:', 'Digital tokens and blockchain technology are not the first things one would imagine when asked about soccer games in Europe. But Chiliz, via its subsidiary Socios.com made that possible in 2018, bringing the concept of \"fan tokens\" to millions of football fanatics.\\n\\nNow, just as footballing events in Europe are restarting after the lockdown, Chiliz is bolstering its advisor team with a fintech and renowned markets analyst to tap into newer ventures for the brand.\\n\\nMati Greenspan, the famed markets analyst and currency founder of Quantum Economics, has joined the advisory board of Chiliz on June 9, as per a release shared with CryptoSlate.\\n\\nThose in the cryptocurrency community might recognize Greenspan from his days at eToro, the retail-focused trading firm that rolled out Bitcoin support back in 2014. Greenspan was known for his cryptocurrency market calls and predictions, with a notable accuracy in certain long-term plays.\\n\\nHis work has been quoted on publications like Bloomberg, Forbes, Reuters, WSJ, and several cryptocurrency outlets.\\n\\nGreenspan brings years of market experience, industry connections, and strong networks to Chiliz, notes the latter\\'s founder Alexandre Dreyfus.\\n\\nChiliz, via Socio.com, runs a reward and fan voting platform, allowing fans to \"influence\" teams and earn rewards through digital assets called \"Fan Tokens.\"\\n\\nGreenspan spoke on the development:\\n\\n\"This project is extremely exciting as it will open up the token\\'s market to an entirely new industry. One with hundreds of millions of loyal fans who are eager to increase their relationship with brands they love and play a more active role with their clubs.\"\\n\\nFan Tokens are specific to a team or a club, and are a finite, digital asset that provides access to an encrypted, immutable ledger of voting and membership rights ownership. All Fan Tokens are either an ERC20 standard on the Ethereum blockchain or a BEP-2 on Binance Chain.\\n\\nMajor Socios.com partners include UFC, footballing giants such as FC Barcelona ($BAR), Juventus ($JUV), Paris Saint Germain ($PSG), Atlético de Madrid ($ATM), AS Roma ($ASR), and esports giants OG ($OG).\\n\\nAll tokens, as mentioned above, can be purchased or traded via both Socios.com and Chiliz. The latter touts itself as the world\\'s first tokenized sports exchange, allowing fans and crypto enthusiasts to trade digital assets from globally recognized sporting organizations.\\n\\n$JUV and Galatasaray ($GAL) have both already been listed on Chiliz.net. The latter was listed just last week and saw a 200 percent price increase in the first few hours of trading. $GAL currently trades at $4.97, while $JUV can be purchased for $7.75 after initially being sold at €2 during the Fan Token Offering (FTO) on Socios.com.\\n\\nChiliz notes all other Fan Tokens, such as $BAR and $ATM will go live on the platform shortly with many more to follow in 2020. All such tokens are paired against CHZ, the native token of the Chiliz protocol.\\n\\nIn its announcement, Chiliz noted Greenspan would use his expertise to \"blaze a trail\" for follow and venture into the trading of sports-based digital assets, eventually scaling the Socios.com and Chiliz.net platforms globally.\\n\\nDreyfus concluded:', 'Binance, the world’s largest digital asset exchange, has partnered with a Fintech-focused blockchain firm, called Chiliz, which provides various sports and entertainment services.\\n\\nBinance, which claims it was an early investor in Chiliz, has now extended the partnership with additional investments – which will focus on the Fintech sports space. As noted in the announcement, the first milestone of the initiative will be Fan Tokens allocation via the Binance Launchpool.\\n\\nAs mentioned in a release:\\n\\nThe Socios platform is powered by a “utility” token, called $CHZ. Socios is reportedly one of the “most active non-financial, consumer-facing mainstream blockchain products in the world.”\\n\\nThe Socios software has been downloaded over 370,000 times, over 14 million Fan Tokens have reportedly been sold, and more than 700,000 votes have been “registered on the blockchain.”\\n\\nAs confirmed by Binance:\\n\\nThe exchange further noted that with Binance Launchpool, traders and investors can acquire new digital token rewards in exchange for staking different tokens.\\n\\nBinance added:\\n\\nThe Binance team confirmed that the exchange will then be listing Paris Saint-Germain Fan Tokens (PSG) and Juventus Fan Tokens (JUV) in the innovation zone, beginning “at 2020/12/21 6:00 AM (UTC) and open trading for PSG/BTC, PSG/USDT, PSG/BUSD, JUV/BTC, JUV/USDT and JUV/BUSD trading pairs.”\\n\\nBinance CEO Changpeng Zhao remarked:\\n\\nAlexandre Dreyfus, CEO and Founder at Chiliz, noted that Binance has been a supporter of the company since its launch. However, this recent partnership supports their original goal of tokenizing the sports and entertainment sector in the coming years. Dreyfus claims that in only three years, they’ve established their organization as “the leading force in this space, but this partnership gives us renewed strength and credibility to create the leading global fan engagement and monetization ecosystem.”\\n\\nDreyfus added:', 'Binance, the world’s largest digital asset exchange, has partnered with a Fintech-focused blockchain firm, called Chiliz, which provides various sports and entertainment services.\\n\\nBinance, which claims it was an early investor in Chiliz, has now extended the partnership with additional investments – which will focus on the Fintech sports space. As noted in the announcement, the first milestone of the initiative will be Fan Tokens allocation via the Binance Launchpool.\\n\\nAs mentioned in a release:\\n\\nThe Socios platform is powered by a “utility” token, called $CHZ. Socios is reportedly one of the “most active non-financial, consumer-facing mainstream blockchain products in the world.”\\n\\nThe Socios software has been downloaded over 370,000 times, over 14 million Fan Tokens have reportedly been sold, and more than 700,000 votes have been “registered on the blockchain.”\\n\\nAs confirmed by Binance:\\n\\nThe exchange further noted that with Binance Launchpool, traders and investors can acquire new digital token rewards in exchange for staking different tokens.\\n\\nBinance added:\\n\\nThe Binance team confirmed that the exchange will then be listing Paris Saint-Germain Fan Tokens (PSG) and Juventus Fan Tokens (JUV) in the innovation zone, beginning “at 2020/12/21 6:00 AM (UTC) and open trading for PSG/BTC, PSG/USDT, PSG/BUSD, JUV/BTC, JUV/USDT and JUV/BUSD trading pairs.”\\n\\nBinance CEO Changpeng Zhao remarked:\\n\\nAlexandre Dreyfus, CEO and Founder at Chiliz, noted that Binance has been a supporter of the company since its launch. However, this recent partnership supports their original goal of tokenizing the sports and entertainment sector in the coming years. Dreyfus claims that in only three years, they’ve established their organization as “the leading force in this space, but this partnership gives us renewed strength and credibility to create the leading global fan engagement and monetization ecosystem.”\\n\\nDreyfus added:', 'MANCHESTER, England (Reuters) - Blockchain sports venture Chiliz, which is heavily involved in European soccer, will invest $50 million in an expansion to the United States, chief executive Alexandre Dreyfus has told Reuters.\\n\\nThe company based in Malta offers tokens to fans which allow them to vote in a series of polls and receive special promotions and rewards, creating what it calls a “new digital revenue stream” for sports organisations through engagement with global fan bases.\\n\\nThe fan tokens are listed on Binance, one of the world’s biggest cryptocurrency exchanges, and last week Serie A club AC Milan became the latest team to launch their token, generating $6 million of revenue in the first day.\\n\\nThat move follows launches of tokens, on the company’s fan engagement platform Socios.com, for other high-profile clubs such as Juventus, Paris St Germain and Barcelona.\\n\\nCryptocurrencies and related tech have attracted a surge of interest in recent months, as mainstream investors and companies embrace bitcoin, the most popular digital token.\\n\\nDreyfus said his company is now opening an office in the U.S as they target the country’s top sports franchises.\\n\\n“A huge focal point for us in our global growth plans is the U.S.. That’s why we’re opening a New York office and investing $50 million into the country’s sports industry in order to launch Fan Tokens with leading franchises from the five major U.S. sports leagues,” Dreyfus said.\\n\\n“We head to the U.S. with a proven track record in generating millions of dollars of revenue for some of Europe’s biggest sporting organisations. In 2020, we shared more than $30 million with our partners, but this year we’re targeting a minimum of $60 million.”\\n\\nDreyfus said the FanMarketCap, a fan token price and market information tracker run by Chiliz, currently stands at just under $200 million and that he expects it to grow with the addition of new European soccer clubs in the coming weeks.\\n\\nChiliz are also in talks with Formula One and e-sports teams, he added.\\n\\nPERFECT TIMING\\n\\nJoseph Edwards, head of research at cryptocurrency brokerage Enigma Securities, said the timing is perfect for clubs, who need to boost revenue after the hits from COVID-19 related restrictions, given the current popularity of crypto markets.\\n\\n“Fan tokens right now are just hitting the perfect itch at the perfect time - fans are disconnected physically from their fandom, and this helps bridge that gap,” he said.\\n\\n“It should be said that Socios have usually been very clever with these launches - I can’t think of any that were headline failures, even in the overall crypto bear market - but there’s a reason that they’ve been stepping them up as of late.\\n\\n“It just hits right in the current moment that sports entertainment finds itself in.”\\n\\nEdwards said fan tokens were growing in popularity at the same time as a new type of digital asset - known as a non-fungible token (NFT) - has exploded in popularity during the pandemic as enthusiasts and investors scramble to spend enormous sums of money on items that only exist online.\\n\\nGiorgio Ricci, Chief Revenue Officer at Italian champions Juventus, stressed that there is more to the tokens than just revenue generation however.\\n\\n“(It) is not just a short-term fix to the problems brought on by the pandemic,” he said.\\n\\n“It’s a solution to the longer-term issue of how to engage with the 99% of fans that aren’t able to watch games from the stadium or ever set foot in Turin.\\n\\n“In normal circumstances our stadium holds 41,000 people, but recent estimates suggest our global fanbase is around 400 million, many of whom are thousands of miles away,” he added.\\n\\n(This story corrects typo in first paragraph)', 'MANCHESTER, England (Reuters) - Blockchain sports venture Chiliz, which is heavily involved in European soccer, will invest $50 million in an expansion to the United States, chief executive Alexandre Dreyfus has told Reuters.\\n\\nThe company based in Malta offers tokens to fans which allow them to vote in a series of polls and receive special promotions and rewards, creating what it calls a “new digital revenue stream” for sports organisations through engagement with global fan bases.\\n\\nThe fan tokens are listed on Binance, one of the world’s biggest cryptocurrency exchanges, and last week Serie A club AC Milan became the latest team to launch their token, generating $6 million of revenue in the first day.\\n\\nThat move follows launches of tokens, on the company’s fan engagement platform Socios.com, for other high-profile clubs such as Juventus, Paris St Germain and Barcelona.\\n\\nCryptocurrencies and related tech have attracted a surge of interest in recent months, as mainstream investors and companies embrace bitcoin, the most popular digital token.\\n\\nDreyfus said his company is now opening an office in the U.S as they target the country’s top sports franchises.\\n\\n“A huge focal point for us in our global growth plans is the U.S.. That’s why we’re opening a New York office and investing $50 million into the country’s sports industry in order to launch Fan Tokens with leading franchises from the five major U.S. sports leagues,” Dreyfus said.\\n\\n“We head to the U.S. with a proven track record in generating millions of dollars of revenue for some of Europe’s biggest sporting organisations. In 2020, we shared more than $30 million with our partners, but this year we’re targeting a minimum of $60 million.”\\n\\nDreyfus said the FanMarketCap, a fan token price and market information tracker run by Chiliz, currently stands at just under $200 million and that he expects it to grow with the addition of new European soccer clubs in the coming weeks.\\n\\nChiliz are also in talks with Formula One and e-sports teams, he added.\\n\\nPERFECT TIMING\\n\\nJoseph Edwards, head of research at cryptocurrency brokerage Enigma Securities, said the timing is perfect for clubs, who need to boost revenue after the hits from COVID-19 related restrictions, given the current popularity of crypto markets.\\n\\n“Fan tokens right now are just hitting the perfect itch at the perfect time - fans are disconnected physically from their fandom, and this helps bridge that gap,” he said.\\n\\n“It should be said that Socios have usually been very clever with these launches - I can’t think of any that were headline failures, even in the overall crypto bear market - but there’s a reason that they’ve been stepping them up as of late.\\n\\n“It just hits right in the current moment that sports entertainment finds itself in.”\\n\\nEdwards said fan tokens were growing in popularity at the same time as a new type of digital asset - known as a non-fungible token (NFT) - has exploded in popularity during the pandemic as enthusiasts and investors scramble to spend enormous sums of money on items that only exist online.\\n\\nGiorgio Ricci, Chief Revenue Officer at Italian champions Juventus, stressed that there is more to the tokens than just revenue generation however.\\n\\n“(It) is not just a short-term fix to the problems brought on by the pandemic,” he said.\\n\\n“It’s a solution to the longer-term issue of how to engage with the 99% of fans that aren’t able to watch games from the stadium or ever set foot in Turin.\\n\\n“In normal circumstances our stadium holds 41,000 people, but recent estimates suggest our global fanbase is around 400 million, many of whom are thousands of miles away,” he added.\\n\\n(This story corrects typo in first paragraph)', 'Scopely the mobile gaming company behind titles like Star Trek Fleet Command announced that it has acquired FoxNext Games Los Angeles from Disney Disney acquired FoxNext Games a relative newcomer among Hollywood studio game divisions as part of its acquisition of Fox for 71 billion in March 2019 This acquisition comes on the heels of Scopely s recent 200 million round of funding it is the first example of how the company is using its strategic financing for acquisitions with the focus on expanding its already diverse portfolio of games across new genres and intellectual properties As part of the deal Scopely has agreed to buy the Los Angeles studio of FoxNext Games which made Marvel Strike Force and Cold Iron Studios in San Jose California We have been hugely impressed with the incredible game the team at FoxNext Games has built with Marvel Strike Force and can t wait to see what more we can do together said Tim O Brien the chief revenue officer at Scopely in a statement In addition to successfully growing our existing business we have been bullish on further expanding our portfolio through M A and FoxNext Games player first product approach aligns perfectly with our focus on delivering unforgettable game experiences We are thrilled to combine forces with their world class team and look forward to a big future together FoxNext Games Los Angeles released its debut title Marvel Strike Force in March 2018 and it has become a strong performer on iOS and Android bringing in more than 150 million in its first year The studio is also developing Avatar Pandora Rising a massively multiplayer strategy game based on James Cameron s Avatar film The acquisition does not include the separate portfolio of Fox IP licensed games titles which will continue to be a part of Disney s licensed games business Disney acquired FoxNext Games and licensed titles in its 2019 acquisition of 21st Century Fox I m extremely proud of what our talented team at FoxNext Games has built and accomplished in just a few years said Aaron Loeb FoxNext Games president in a statement And look forward to joining forces with the impressive team at Scopely who have a well deserved reputation as one of the preeminent companies in the free to play games arena Upon completion of the transaction Loeb will join Scopely in a newly created executive role and Rahimi will lead the FoxNext Games Los Angeles studio within Scopely as president of games The acquisition agreement follows a number of recent milestones for Scopely including the achievement of more than 1 billion in lifetime revenue last summer the acquisition of Digit Game Studios and global expansion across Europe Asia and North America', 'Scopely the mobile gaming company behind titles like Star Trek Fleet Command announced that it has acquired FoxNext Games Los Angeles from Disney Disney acquired FoxNext Games a relative newcomer among Hollywood studio game divisions as part of its acquisition of Fox for 71 billion in March 2019 This acquisition comes on the heels of Scopely s recent 200 million round of funding it is the first example of how the company is using its strategic financing for acquisitions with the focus on expanding its already diverse portfolio of games across new genres and intellectual properties As part of the deal Scopely has agreed to buy the Los Angeles studio of FoxNext Games which made Marvel Strike Force and Cold Iron Studios in San Jose California We have been hugely impressed with the incredible game the team at FoxNext Games has built with Marvel Strike Force and can t wait to see what more we can do together said Tim O Brien the chief revenue officer at Scopely in a statement In addition to successfully growing our existing business we have been bullish on further expanding our portfolio through M A and FoxNext Games player first product approach aligns perfectly with our focus on delivering unforgettable game experiences We are thrilled to combine forces with their world class team and look forward to a big future together FoxNext Games Los Angeles released its debut title Marvel Strike Force in March 2018 and it has become a strong performer on iOS and Android bringing in more than 150 million in its first year The studio is also developing Avatar Pandora Rising a massively multiplayer strategy game based on James Cameron s Avatar film The acquisition does not include the separate portfolio of Fox IP licensed games titles which will continue to be a part of Disney s licensed games business Disney acquired FoxNext Games and licensed titles in its 2019 acquisition of 21st Century Fox I m extremely proud of what our talented team at FoxNext Games has built and accomplished in just a few years said Aaron Loeb FoxNext Games president in a statement And look forward to joining forces with the impressive team at Scopely who have a well deserved reputation as one of the preeminent companies in the free to play games arena Upon completion of the transaction Loeb will join Scopely in a newly created executive role and Rahimi will lead the FoxNext Games Los Angeles studio within Scopely as president of games The acquisition agreement follows a number of recent milestones for Scopely including the achievement of more than 1 billion in lifetime revenue last summer the acquisition of Digit Game Studios and global expansion across Europe Asia and North America', 'CARGOTEC CORPORATION, PRESS RELEASE, 27 AUGUST 2020 AT 10:00 am EEST\\n\\nMacGregor, part of Cargotec, has received a significant order for delivery of the mission-critical system to be installed on the OHT offshore wind foundation installation vessel, Alfa Lift, being built at the China Merchants Heavy Industry shipyard in Jiangsu, China.\\n\\nÂ\\n\\nThe order, which is the largest single vessel contract secured to date by MacGregor, was booked in Cargotecâ\\x80\\x99s 2020 third quarter order intake. The monopile installation system is scheduled to be delivered during the fourth quarter of 2021.Â\\n\\nScope of supply includes the engineering, procurement and construction of the monopile lifting, skidding and transfer system, which is an integral part of the installation process undertaken by employing an upending tool and motion compensated gripper frame.Â\\n\\nThe motion-compensated gripper frame will be closely interfaced with the vesselâ\\x80\\x99s dynamic positioning and control system in an integrated solution developed jointly by MacGregor and Kongsberg Maritime. Both companies believe that the application of automated handling solutions will increase the safety, productivity and consistency of the installation operation, resulting in substantial cost and time savings.\\n\\nAlfa Lift is scheduled for delivery in 2021 and will be the worldâ\\x80\\x99s largest custom-built offshore wind foundation installation vessel. She will feature a 3,000t main crane, a 10,000+ mÂ² â\\x80\\x98smart deck, capable of carrying and installing up to 14 XL monopiles per voyage and will be able to fully submerge the main deck to a depth of 14.66m.\\n\\n\"OHT is committed to continuously advancing the development of technologies within offshore wind operations, thereby enabling complex operations to be undertaken at the highest levels of safety and efficiency. The monopile installation solution is the result of applying our collective capabilities and experience to solve market challenges and achieve optimum operability for our vessels,\" says Torgeir E. Ramstad, Chief Executive Officer. \"Whenever we ask MacGregor to solve operational challenges in the demanding marine environment they, together with partners, demonstrate excellent technical understanding and respond quickly. We are extremely pleased to be working together on the exciting Alfa Lift project.\"\\n\\n\"Working closely with MacGregor, we have developed an innovative solution that improves the efficiency of foundation installation vessels by replacing lengthy, temporary mooring processes with full DP in combination with an integrated guidance system and hydraulic frame mechanism,â\\x80\\x9d says Gunnar Thorsen, SVP Business Concepts, Kongsberg Maritime AS.\\n\\n\"MacGregor is delighted to be selected to supply the mission-critical work system for the Alfa Lift vessel,â\\x80\\x9d says Leif BystrÃ¶m, Head of the Offshore Solutions Division. \"We have worked intensively over several years to develop a state-of-the-art solution that provides the most precise installation method for all monopile ranges. We appreciate and highly value the hard work and great cooperation between the OHT, Kongsberg Maritime and MacGregor teams that have made this possible.\"\\n\\nMichel van Roozendaal, President, MacGregor says \"MacGregor has invested in applying its vast knowledge of offshore technology into enabling the progression of renewable energy, with the OHT Alfa Lift contract being an excellent example of where these advanced technologies can be put to work. I would also like to add my appreciation of the trust that OHT has placed in MacGregor, and equally recognise the collaborative team effort that has resulted in the innovative monopile installation solution being developed.â\\x80\\x9dÂ\\n\\nMacGregor is a leader in intelligent maritime cargo and load handling with a strong portfolio of MacGregor, Hatlapa, NMF, Porsgrunn, Pusnes, Rapp, Triplex and TTS products, services and solutions, all designed to perform with the sea.Â\\n\\nShipbuilders, shipowners and operators are able to optimise the lifetime profitability, safety, reliability and environmental sustainability of their operations by working in close cooperation with MacGregor. www.macgregor.com\\n\\nMacGregor is part of Cargotec. Cargotec\\'s (Nasdaq Helsinki: CGCBV) sales in 2019 totalled approximately EUR 3.7 billion and it employs around 12,000 people worldwide. www.cargotec.com', 'CARGOTEC CORPORATION, PRESS RELEASE, 27 AUGUST 2020 AT 10:00 am EEST\\n\\nMacGregor, part of Cargotec, has received a significant order for delivery of the mission-critical system to be installed on the OHT offshore wind foundation installation vessel, Alfa Lift, being built at the China Merchants Heavy Industry shipyard in Jiangsu, China.\\n\\nÂ\\n\\nThe order, which is the largest single vessel contract secured to date by MacGregor, was booked in Cargotecâ\\x80\\x99s 2020 third quarter order intake. The monopile installation system is scheduled to be delivered during the fourth quarter of 2021.Â\\n\\nScope of supply includes the engineering, procurement and construction of the monopile lifting, skidding and transfer system, which is an integral part of the installation process undertaken by employing an upending tool and motion compensated gripper frame.Â\\n\\nThe motion-compensated gripper frame will be closely interfaced with the vesselâ\\x80\\x99s dynamic positioning and control system in an integrated solution developed jointly by MacGregor and Kongsberg Maritime. Both companies believe that the application of automated handling solutions will increase the safety, productivity and consistency of the installation operation, resulting in substantial cost and time savings.\\n\\nAlfa Lift is scheduled for delivery in 2021 and will be the worldâ\\x80\\x99s largest custom-built offshore wind foundation installation vessel. She will feature a 3,000t main crane, a 10,000+ mÂ² â\\x80\\x98smart deck, capable of carrying and installing up to 14 XL monopiles per voyage and will be able to fully submerge the main deck to a depth of 14.66m.\\n\\n\"OHT is committed to continuously advancing the development of technologies within offshore wind operations, thereby enabling complex operations to be undertaken at the highest levels of safety and efficiency. The monopile installation solution is the result of applying our collective capabilities and experience to solve market challenges and achieve optimum operability for our vessels,\" says Torgeir E. Ramstad, Chief Executive Officer. \"Whenever we ask MacGregor to solve operational challenges in the demanding marine environment they, together with partners, demonstrate excellent technical understanding and respond quickly. We are extremely pleased to be working together on the exciting Alfa Lift project.\"\\n\\n\"Working closely with MacGregor, we have developed an innovative solution that improves the efficiency of foundation installation vessels by replacing lengthy, temporary mooring processes with full DP in combination with an integrated guidance system and hydraulic frame mechanism,â\\x80\\x9d says Gunnar Thorsen, SVP Business Concepts, Kongsberg Maritime AS.\\n\\n\"MacGregor is delighted to be selected to supply the mission-critical work system for the Alfa Lift vessel,â\\x80\\x9d says Leif BystrÃ¶m, Head of the Offshore Solutions Division. \"We have worked intensively over several years to develop a state-of-the-art solution that provides the most precise installation method for all monopile ranges. We appreciate and highly value the hard work and great cooperation between the OHT, Kongsberg Maritime and MacGregor teams that have made this possible.\"\\n\\nMichel van Roozendaal, President, MacGregor says \"MacGregor has invested in applying its vast knowledge of offshore technology into enabling the progression of renewable energy, with the OHT Alfa Lift contract being an excellent example of where these advanced technologies can be put to work. I would also like to add my appreciation of the trust that OHT has placed in MacGregor, and equally recognise the collaborative team effort that has resulted in the innovative monopile installation solution being developed.â\\x80\\x9dÂ\\n\\nMacGregor is a leader in intelligent maritime cargo and load handling with a strong portfolio of MacGregor, Hatlapa, NMF, Porsgrunn, Pusnes, Rapp, Triplex and TTS products, services and solutions, all designed to perform with the sea.Â\\n\\nShipbuilders, shipowners and operators are able to optimise the lifetime profitability, safety, reliability and environmental sustainability of their operations by working in close cooperation with MacGregor. www.macgregor.com\\n\\nMacGregor is part of Cargotec. Cargotec\\'s (Nasdaq Helsinki: CGCBV) sales in 2019 totalled approximately EUR 3.7 billion and it employs around 12,000 people worldwide. www.cargotec.com', 'CARGOTEC CORPORATION, PRESS RELEASE, 27 AUGUST 2020 AT 10:00 am EEST\\n\\nMacGregor, part of Cargotec, has received a significant order for delivery of the mission-critical system to be installed on the OHT offshore wind foundation installation vessel, Alfa Lift, being built at the China Merchants Heavy Industry shipyard in Jiangsu, China.\\n\\nÂ\\n\\nThe order, which is the largest single vessel contract secured to date by MacGregor, was booked in Cargotecâ\\x80\\x99s 2020 third quarter order intake. The monopile installation system is scheduled to be delivered during the fourth quarter of 2021.Â\\n\\nScope of supply includes the engineering, procurement and construction of the monopile lifting, skidding and transfer system, which is an integral part of the installation process undertaken by employing an upending tool and motion compensated gripper frame.Â\\n\\nThe motion-compensated gripper frame will be closely interfaced with the vesselâ\\x80\\x99s dynamic positioning and control system in an integrated solution developed jointly by MacGregor and Kongsberg Maritime. Both companies believe that the application of automated handling solutions will increase the safety, productivity and consistency of the installation operation, resulting in substantial cost and time savings.\\n\\nAlfa Lift is scheduled for delivery in 2021 and will be the worldâ\\x80\\x99s largest custom-built offshore wind foundation installation vessel. She will feature a 3,000t main crane, a 10,000+ mÂ² â\\x80\\x98smart deck, capable of carrying and installing up to 14 XL monopiles per voyage and will be able to fully submerge the main deck to a depth of 14.66m.\\n\\n\"OHT is committed to continuously advancing the development of technologies within offshore wind operations, thereby enabling complex operations to be undertaken at the highest levels of safety and efficiency. The monopile installation solution is the result of applying our collective capabilities and experience to solve market challenges and achieve optimum operability for our vessels,\" says Torgeir E. Ramstad, Chief Executive Officer. \"Whenever we ask MacGregor to solve operational challenges in the demanding marine environment they, together with partners, demonstrate excellent technical understanding and respond quickly. We are extremely pleased to be working together on the exciting Alfa Lift project.\"\\n\\n\"Working closely with MacGregor, we have developed an innovative solution that improves the efficiency of foundation installation vessels by replacing lengthy, temporary mooring processes with full DP in combination with an integrated guidance system and hydraulic frame mechanism,â\\x80\\x9d says Gunnar Thorsen, SVP Business Concepts, Kongsberg Maritime AS.\\n\\n\"MacGregor is delighted to be selected to supply the mission-critical work system for the Alfa Lift vessel,â\\x80\\x9d says Leif BystrÃ¶m, Head of the Offshore Solutions Division. \"We have worked intensively over several years to develop a state-of-the-art solution that provides the most precise installation method for all monopile ranges. We appreciate and highly value the hard work and great cooperation between the OHT, Kongsberg Maritime and MacGregor teams that have made this possible.\"\\n\\nMichel van Roozendaal, President, MacGregor says \"MacGregor has invested in applying its vast knowledge of offshore technology into enabling the progression of renewable energy, with the OHT Alfa Lift contract being an excellent example of where these advanced technologies can be put to work. I would also like to add my appreciation of the trust that OHT has placed in MacGregor, and equally recognise the collaborative team effort that has resulted in the innovative monopile installation solution being developed.â\\x80\\x9dÂ\\n\\nMacGregor is a leader in intelligent maritime cargo and load handling with a strong portfolio of MacGregor, Hatlapa, NMF, Porsgrunn, Pusnes, Rapp, Triplex and TTS products, services and solutions, all designed to perform with the sea.Â\\n\\nShipbuilders, shipowners and operators are able to optimise the lifetime profitability, safety, reliability and environmental sustainability of their operations by working in close cooperation with MacGregor. www.macgregor.com\\n\\nMacGregor is part of Cargotec. Cargotec\\'s (Nasdaq Helsinki: CGCBV) sales in 2019 totalled approximately EUR 3.7 billion and it employs around 12,000 people worldwide. www.cargotec.com', 'CARGOTEC CORPORATION, PRESS RELEASE, 27 AUGUST 2020 AT 10:00 am EEST\\n\\nMacGregor, part of Cargotec, has received a significant order for delivery of the mission-critical system to be installed on the OHT offshore wind foundation installation vessel, Alfa Lift, being built at the China Merchants Heavy Industry shipyard in Jiangsu, China.\\n\\nÂ\\n\\nThe order, which is the largest single vessel contract secured to date by MacGregor, was booked in Cargotecâ\\x80\\x99s 2020 third quarter order intake. The monopile installation system is scheduled to be delivered during the fourth quarter of 2021.Â\\n\\nScope of supply includes the engineering, procurement and construction of the monopile lifting, skidding and transfer system, which is an integral part of the installation process undertaken by employing an upending tool and motion compensated gripper frame.Â\\n\\nThe motion-compensated gripper frame will be closely interfaced with the vesselâ\\x80\\x99s dynamic positioning and control system in an integrated solution developed jointly by MacGregor and Kongsberg Maritime. Both companies believe that the application of automated handling solutions will increase the safety, productivity and consistency of the installation operation, resulting in substantial cost and time savings.\\n\\nAlfa Lift is scheduled for delivery in 2021 and will be the worldâ\\x80\\x99s largest custom-built offshore wind foundation installation vessel. She will feature a 3,000t main crane, a 10,000+ mÂ² â\\x80\\x98smart deck, capable of carrying and installing up to 14 XL monopiles per voyage and will be able to fully submerge the main deck to a depth of 14.66m.\\n\\n\"OHT is committed to continuously advancing the development of technologies within offshore wind operations, thereby enabling complex operations to be undertaken at the highest levels of safety and efficiency. The monopile installation solution is the result of applying our collective capabilities and experience to solve market challenges and achieve optimum operability for our vessels,\" says Torgeir E. Ramstad, Chief Executive Officer. \"Whenever we ask MacGregor to solve operational challenges in the demanding marine environment they, together with partners, demonstrate excellent technical understanding and respond quickly. We are extremely pleased to be working together on the exciting Alfa Lift project.\"\\n\\n\"Working closely with MacGregor, we have developed an innovative solution that improves the efficiency of foundation installation vessels by replacing lengthy, temporary mooring processes with full DP in combination with an integrated guidance system and hydraulic frame mechanism,â\\x80\\x9d says Gunnar Thorsen, SVP Business Concepts, Kongsberg Maritime AS.\\n\\n\"MacGregor is delighted to be selected to supply the mission-critical work system for the Alfa Lift vessel,â\\x80\\x9d says Leif BystrÃ¶m, Head of the Offshore Solutions Division. \"We have worked intensively over several years to develop a state-of-the-art solution that provides the most precise installation method for all monopile ranges. We appreciate and highly value the hard work and great cooperation between the OHT, Kongsberg Maritime and MacGregor teams that have made this possible.\"\\n\\nMichel van Roozendaal, President, MacGregor says \"MacGregor has invested in applying its vast knowledge of offshore technology into enabling the progression of renewable energy, with the OHT Alfa Lift contract being an excellent example of where these advanced technologies can be put to work. I would also like to add my appreciation of the trust that OHT has placed in MacGregor, and equally recognise the collaborative team effort that has resulted in the innovative monopile installation solution being developed.â\\x80\\x9dÂ\\n\\nMacGregor is a leader in intelligent maritime cargo and load handling with a strong portfolio of MacGregor, Hatlapa, NMF, Porsgrunn, Pusnes, Rapp, Triplex and TTS products, services and solutions, all designed to perform with the sea.Â\\n\\nShipbuilders, shipowners and operators are able to optimise the lifetime profitability, safety, reliability and environmental sustainability of their operations by working in close cooperation with MacGregor. www.macgregor.com\\n\\nMacGregor is part of Cargotec. Cargotec\\'s (Nasdaq Helsinki: CGCBV) sales in 2019 totalled approximately EUR 3.7 billion and it employs around 12,000 people worldwide. www.cargotec.com', 'MacGregor secures largest single vessel contract for OHT\\'s Alfa Lift wind foundation installation vessel\\n\\nMacGregor, part of Cargotec, has received a significant order for delivery of the mission-critical system to be installed on the OHT offshore wind foundation installation vessel, Alfa Lift, being built at the China Merchants Heavy Industry shipyard in Jiangsu, China.\\n\\nThe order, which is the largest single vessel contract secured to date by MacGregor, was booked in Cargotec\\'s 2020 third quarter order intake. The monopile installation system is scheduled to be delivered during the fourth quarter of 2021.\\n\\nScope of supply includes the engineering, procurement and construction of the monopile lifting, skidding and transfer system, which is an integral part of the installation process undertaken by employing an upending tool and motion compensated gripper frame.\\n\\nThe motion-compensated gripper frame will be closely interfaced with the vessel\\'s dynamic positioning and control system in an integrated solution developed jointly by MacGregor and Kongsberg Maritime. Both companies believe that the application of automated handling solutions will increase the safety, productivity and consistency of the installation operation, resulting in substantial cost and time savings.\\n\\nAlfa Lift is scheduled for delivery in 2021 and will be the world\\'s largest custom-built offshore wind foundation installation vessel. She will feature a 3,000t main crane, a 10,000+ m² \\'smart deck, capable of carrying and installing up to 14 XL monopiles per voyage and will be able to fully submerge the main deck to a depth of 14.66m.\\n\\n\"OHT is committed to continuously advancing the development of technologies within offshore wind operations, thereby enabling complex operations to be undertaken at the highest levels of safety and efficiency. The monopile installation solution is the result of applying our collective capabilities and experience to solve market challenges and achieve optimum operability for our vessels,\" says Torgeir E. Ramstad, Chief Executive Officer. \"Whenever we ask MacGregor to solve operational challenges in the demanding marine environment they, together with partners, demonstrate excellent technical understanding and respond quickly. We are extremely pleased to be working together on the exciting Alfa Lift project.\"\\n\\n\"Working closely with MacGregor, we have developed an innovative solution that improves the efficiency of foundation installation vessels by replacing lengthy, temporary mooring processes with full DP in combination with an integrated guidance system and hydraulic frame mechanism,\" says Gunnar Thorsen, SVP Business Concepts, Kongsberg Maritime AS.\\n\\n\"MacGregor is delighted to be selected to supply the mission-critical work system for the Alfa Lift vessel,\" says Leif Byström, Head of the Offshore Solutions Division. \"We have worked intensively over several years to develop a state-of-the-art solution that provides the most precise installation method for all monopile ranges. We appreciate and highly value the hard work and great cooperation between the OHT, Kongsberg Maritime and MacGregor teams that have made this possible.\"\\n\\nMichel van Roozendaal, President, MacGregor says \"MacGregor has invested in applying its vast knowledge of offshore technology into enabling the progression of renewable energy, with the OHT Alfa Lift contract being an excellent example of where these advanced technologies can be put to work. I would also like to add my appreciation of the trust that OHT has placed in MacGregor, and equally recognise the collaborative team effort that has resulted in the innovative monopile installation solution being developed.\"\\n\\nMichel van Roozendaal, President, MacGregor (left) and Torgeir E. Ramstad, Chief Executive Officer, OHT\\n\\nFrom left to right: Michel van Roozendaal, President, MacGregor; Leif Byström, Head of Offshore Solutions, MacGregor; Kristina Arutjunova, Director - Sales and Marketing Innovations, Offshore Solutions, MacGregor; Tom Jebsen, Chief Financial Officer, OHT and Torgeir E. Ramstad, Chief Executive Officer, OHT', 'MacGregor secures largest single vessel contract for OHT\\'s Alfa Lift wind foundation installation vessel\\n\\nMacGregor, part of Cargotec, has received a significant order for delivery of the mission-critical system to be installed on the OHT offshore wind foundation installation vessel, Alfa Lift, being built at the China Merchants Heavy Industry shipyard in Jiangsu, China.\\n\\nThe order, which is the largest single vessel contract secured to date by MacGregor, was booked in Cargotec\\'s 2020 third quarter order intake. The monopile installation system is scheduled to be delivered during the fourth quarter of 2021.\\n\\nScope of supply includes the engineering, procurement and construction of the monopile lifting, skidding and transfer system, which is an integral part of the installation process undertaken by employing an upending tool and motion compensated gripper frame.\\n\\nThe motion-compensated gripper frame will be closely interfaced with the vessel\\'s dynamic positioning and control system in an integrated solution developed jointly by MacGregor and Kongsberg Maritime. Both companies believe that the application of automated handling solutions will increase the safety, productivity and consistency of the installation operation, resulting in substantial cost and time savings.\\n\\nAlfa Lift is scheduled for delivery in 2021 and will be the world\\'s largest custom-built offshore wind foundation installation vessel. She will feature a 3,000t main crane, a 10,000+ m² \\'smart deck, capable of carrying and installing up to 14 XL monopiles per voyage and will be able to fully submerge the main deck to a depth of 14.66m.\\n\\n\"OHT is committed to continuously advancing the development of technologies within offshore wind operations, thereby enabling complex operations to be undertaken at the highest levels of safety and efficiency. The monopile installation solution is the result of applying our collective capabilities and experience to solve market challenges and achieve optimum operability for our vessels,\" says Torgeir E. Ramstad, Chief Executive Officer. \"Whenever we ask MacGregor to solve operational challenges in the demanding marine environment they, together with partners, demonstrate excellent technical understanding and respond quickly. We are extremely pleased to be working together on the exciting Alfa Lift project.\"\\n\\n\"Working closely with MacGregor, we have developed an innovative solution that improves the efficiency of foundation installation vessels by replacing lengthy, temporary mooring processes with full DP in combination with an integrated guidance system and hydraulic frame mechanism,\" says Gunnar Thorsen, SVP Business Concepts, Kongsberg Maritime AS.\\n\\n\"MacGregor is delighted to be selected to supply the mission-critical work system for the Alfa Lift vessel,\" says Leif Byström, Head of the Offshore Solutions Division. \"We have worked intensively over several years to develop a state-of-the-art solution that provides the most precise installation method for all monopile ranges. We appreciate and highly value the hard work and great cooperation between the OHT, Kongsberg Maritime and MacGregor teams that have made this possible.\"\\n\\nMichel van Roozendaal, President, MacGregor says \"MacGregor has invested in applying its vast knowledge of offshore technology into enabling the progression of renewable energy, with the OHT Alfa Lift contract being an excellent example of where these advanced technologies can be put to work. I would also like to add my appreciation of the trust that OHT has placed in MacGregor, and equally recognise the collaborative team effort that has resulted in the innovative monopile installation solution being developed.\"\\n\\nMichel van Roozendaal, President, MacGregor (left) and Torgeir E. Ramstad, Chief Executive Officer, OHT\\n\\nFrom left to right: Michel van Roozendaal, President, MacGregor; Leif Byström, Head of Offshore Solutions, MacGregor; Kristina Arutjunova, Director - Sales and Marketing Innovations, Offshore Solutions, MacGregor; Tom Jebsen, Chief Financial Officer, OHT and Torgeir E. Ramstad, Chief Executive Officer, OHT', 'Press Release - MacGregor, part of Cargotec, has received a significant order for delivery of the mission-critical system to be installed on the OHT offshore wind foundation installation vessel, Alfa Lift, being built at the China Merchants Heavy Industry shipyard in Jiangsu, China.\\n\\nThe order, which is the largest single vessel contract secured to date by MacGregor, was booked in Cargotec\\'s 2020 third quarter order intake. The monopile installation system is scheduled to be delivered during the fourth quarter of 2021.\\n\\nScope of supply includes the engineering, procurement and construction of the monopile lifting, skidding and transfer system, which is an integral part of the installation process undertaken by employing an upending tool and motion compensated gripper frame.\\n\\nThe motion-compensated gripper frame will be closely interfaced with the vessel\\'s dynamic positioning and control system in an integrated solution developed jointly by MacGregor and Kongsberg Maritime. Both companies believe that the application of automated handling solutions will increase the safety, productivity and consistency of the installation operation, resulting in substantial cost and time savings.\\n\\nAlfa Lift is scheduled for delivery in 2021 and will be the world\\'s largest custom-built offshore wind foundation installation vessel. She will feature a 3,000t main crane, a 10,000+ m² \\'smart deck, capable of carrying and installing up to 14 XL monopiles per voyage and will be able to fully submerge the main deck to a depth of 14.66m.\\n\\n\"OHT is committed to continuously advancing the development of technologies within offshore wind operations, thereby enabling complex operations to be undertaken at the highest levels of safety and efficiency. The monopile installation solution is the result of applying our collective capabilities and experience to solve market challenges and achieve optimum operability for our vessels,\" says Torgeir E. Ramstad, Chief Executive Officer. \"Whenever we ask MacGregor to solve operational challenges in the demanding marine environment they, together with partners, demonstrate excellent technical understanding and respond quickly. We are extremely pleased to be working together on the exciting Alfa Lift project.\"\\n\\n\"Working closely with MacGregor, we have developed an innovative solution that improves the efficiency of foundation installation vessels by replacing lengthy, temporary mooring processes with full DP in combination with an integrated guidance system and hydraulic frame mechanism,\" says Gunnar Thorsen, SVP Business Concepts, Kongsberg Maritime AS.\\n\\n\"MacGregor is delighted to be selected to supply the mission-critical work system for the Alfa Liftvessel,\" says Leif Byström, Head of the Offshore Solutions Division. \"We have worked intensively over several years to develop a state-of-the-art solution that provides the most precise installation method for all monopile ranges. We appreciate and highly value the hard work and great cooperation between the OHT, Kongsberg Maritime and MacGregor teams that have made this possible.\"\\n\\nMichel van Roozendaal, President, MacGregor says \"MacGregor has invested in applying its vast knowledge of offshore technology into enabling the progression of renewable energy, with the OHT Alfa Lift contract being an excellent example of where these advanced technologies can be put to work. I would also like to add my appreciation of the trust that OHT has placed in MacGregor, and equally recognise the collaborative team effort that has resulted in the innovative monopile installation solution being developed.\"\\n\\nMichel van Roozendaal, President, MacGregor (left) and Torgeir E. Ramstad, Chief Executive Officer, OHT', 'Press Release - MacGregor, part of Cargotec, has received a significant order for delivery of the mission-critical system to be installed on the OHT offshore wind foundation installation vessel, Alfa Lift, being built at the China Merchants Heavy Industry shipyard in Jiangsu, China.\\n\\nThe order, which is the largest single vessel contract secured to date by MacGregor, was booked in Cargotec\\'s 2020 third quarter order intake. The monopile installation system is scheduled to be delivered during the fourth quarter of 2021.\\n\\nScope of supply includes the engineering, procurement and construction of the monopile lifting, skidding and transfer system, which is an integral part of the installation process undertaken by employing an upending tool and motion compensated gripper frame.\\n\\nThe motion-compensated gripper frame will be closely interfaced with the vessel\\'s dynamic positioning and control system in an integrated solution developed jointly by MacGregor and Kongsberg Maritime. Both companies believe that the application of automated handling solutions will increase the safety, productivity and consistency of the installation operation, resulting in substantial cost and time savings.\\n\\nAlfa Lift is scheduled for delivery in 2021 and will be the world\\'s largest custom-built offshore wind foundation installation vessel. She will feature a 3,000t main crane, a 10,000+ m² \\'smart deck, capable of carrying and installing up to 14 XL monopiles per voyage and will be able to fully submerge the main deck to a depth of 14.66m.\\n\\n\"OHT is committed to continuously advancing the development of technologies within offshore wind operations, thereby enabling complex operations to be undertaken at the highest levels of safety and efficiency. The monopile installation solution is the result of applying our collective capabilities and experience to solve market challenges and achieve optimum operability for our vessels,\" says Torgeir E. Ramstad, Chief Executive Officer. \"Whenever we ask MacGregor to solve operational challenges in the demanding marine environment they, together with partners, demonstrate excellent technical understanding and respond quickly. We are extremely pleased to be working together on the exciting Alfa Lift project.\"\\n\\n\"Working closely with MacGregor, we have developed an innovative solution that improves the efficiency of foundation installation vessels by replacing lengthy, temporary mooring processes with full DP in combination with an integrated guidance system and hydraulic frame mechanism,\" says Gunnar Thorsen, SVP Business Concepts, Kongsberg Maritime AS.\\n\\n\"MacGregor is delighted to be selected to supply the mission-critical work system for the Alfa Liftvessel,\" says Leif Byström, Head of the Offshore Solutions Division. \"We have worked intensively over several years to develop a state-of-the-art solution that provides the most precise installation method for all monopile ranges. We appreciate and highly value the hard work and great cooperation between the OHT, Kongsberg Maritime and MacGregor teams that have made this possible.\"\\n\\nMichel van Roozendaal, President, MacGregor says \"MacGregor has invested in applying its vast knowledge of offshore technology into enabling the progression of renewable energy, with the OHT Alfa Lift contract being an excellent example of where these advanced technologies can be put to work. I would also like to add my appreciation of the trust that OHT has placed in MacGregor, and equally recognise the collaborative team effort that has resulted in the innovative monopile installation solution being developed.\"\\n\\nMichel van Roozendaal, President, MacGregor (left) and Torgeir E. Ramstad, Chief Executive Officer, OHT', 'Signs of recovery are now emerging in some applications and markets, for example in China. \"State rescue programs and the MacGregor, part of Cargotec, has received a significant order for delivery of the mission-critical system to be installed on the OHT offshore wind foundation installation vessel, Alfa Lift, being built at the China Merchants Heavy Industry shipyard in Jiangsu, China.\\n\\nThe order, which is the largest single vessel contract secured to date by MacGregor, was booked in Cargotec\\'s 2020 third quarter order intake. The monopile installation system is scheduled to be delivered during the fourth quarter of 2021.\\n\\nScope of supply includes the engineering, procurement and construction of the monopile lifting, skidding and transfer system, which is an integral part of the installation process undertaken by employing an upending tool and motion compensated gripper frame.\\n\\nThe motion-compensated gripper frame will be closely interfaced with the vessel\\'s dynamic positioning and control system in an integrated solution developed jointly by MacGregor and Kongsberg Maritime. Both companies believe that the application of automated handling solutions will increase the safety, productivity and consistency of the installation operation, resulting in substantial cost and time savings.\\n\\nAlfa Lift is scheduled for delivery in 2021 and will be the world\\'s largest custom-built offshore wind foundation installation vessel. She will feature a 3,000t main crane, a 10,000+ m² \\'smart deck, capable of carrying and installing up to 14 XL monopiles per voyage and will be able to fully submerge the main deck to a depth of 14.66m.\\n\\n\"OHT is committed to continuously advancing the development of technologies within offshore wind operations, thereby enabling complex operations to be undertaken at the highest levels of safety and efficiency. The monopile installation solution is the result of applying our collective capabilities and experience to solve market challenges and achieve optimum operability for our vessels,\" says Torgeir E. Ramstad, Chief Executive Officer. \"Whenever we ask MacGregor to solve operational challenges in the demanding marine environment they, together with partners, demonstrate excellent technical understanding and respond quickly. We are extremely pleased to be working together on the exciting Alfa Lift project.\"\\n\\n\"Working closely with MacGregor, we have developed an innovative solution that improves the efficiency of foundation installation vessels by replacing lengthy, temporary mooring processes with full DP in combination with an integrated guidance system and hydraulic frame mechanism,\" says Gunnar Thorsen, SVP Business Concepts, Kongsberg Maritime AS.\\n\\n\"MacGregor is delighted to be selected to supply the mission-critical work system for the Alfa Lift vessel,\" says Leif Byström, Head of the Offshore Solutions Division. \"We have worked intensively over several years to develop a state-of-the-art solution that provides the most precise installation method for all monopile ranges. We appreciate and highly value the hard work and great cooperation between the OHT, Kongsberg Maritime and MacGregor teams that have made this possible.\"\\n\\nMichel van Roozendaal, President, MacGregor says \"MacGregor has invested in applying its vast knowledge of offshore technology into enabling the progression of renewable energy, with the OHT Alfa Lift contract being an excellent example of where these advanced technologies can be put to work. I would also like to add my appreciation of the trust that OHT has placed in MacGregor, and equally recognise the collaborative team effort that has resulted in the innovative monopile installation solution being developed.\"\\n\\nThe products and services herein described in this press release are not endorsed by The Maritime Executive.', 'Signs of recovery are now emerging in some applications and markets, for example in China. \"State rescue programs and the MacGregor, part of Cargotec, has received a significant order for delivery of the mission-critical system to be installed on the OHT offshore wind foundation installation vessel, Alfa Lift, being built at the China Merchants Heavy Industry shipyard in Jiangsu, China.\\n\\nThe order, which is the largest single vessel contract secured to date by MacGregor, was booked in Cargotec\\'s 2020 third quarter order intake. The monopile installation system is scheduled to be delivered during the fourth quarter of 2021.\\n\\nScope of supply includes the engineering, procurement and construction of the monopile lifting, skidding and transfer system, which is an integral part of the installation process undertaken by employing an upending tool and motion compensated gripper frame.\\n\\nThe motion-compensated gripper frame will be closely interfaced with the vessel\\'s dynamic positioning and control system in an integrated solution developed jointly by MacGregor and Kongsberg Maritime. Both companies believe that the application of automated handling solutions will increase the safety, productivity and consistency of the installation operation, resulting in substantial cost and time savings.\\n\\nAlfa Lift is scheduled for delivery in 2021 and will be the world\\'s largest custom-built offshore wind foundation installation vessel. She will feature a 3,000t main crane, a 10,000+ m² \\'smart deck, capable of carrying and installing up to 14 XL monopiles per voyage and will be able to fully submerge the main deck to a depth of 14.66m.\\n\\n\"OHT is committed to continuously advancing the development of technologies within offshore wind operations, thereby enabling complex operations to be undertaken at the highest levels of safety and efficiency. The monopile installation solution is the result of applying our collective capabilities and experience to solve market challenges and achieve optimum operability for our vessels,\" says Torgeir E. Ramstad, Chief Executive Officer. \"Whenever we ask MacGregor to solve operational challenges in the demanding marine environment they, together with partners, demonstrate excellent technical understanding and respond quickly. We are extremely pleased to be working together on the exciting Alfa Lift project.\"\\n\\n\"Working closely with MacGregor, we have developed an innovative solution that improves the efficiency of foundation installation vessels by replacing lengthy, temporary mooring processes with full DP in combination with an integrated guidance system and hydraulic frame mechanism,\" says Gunnar Thorsen, SVP Business Concepts, Kongsberg Maritime AS.\\n\\n\"MacGregor is delighted to be selected to supply the mission-critical work system for the Alfa Lift vessel,\" says Leif Byström, Head of the Offshore Solutions Division. \"We have worked intensively over several years to develop a state-of-the-art solution that provides the most precise installation method for all monopile ranges. We appreciate and highly value the hard work and great cooperation between the OHT, Kongsberg Maritime and MacGregor teams that have made this possible.\"\\n\\nMichel van Roozendaal, President, MacGregor says \"MacGregor has invested in applying its vast knowledge of offshore technology into enabling the progression of renewable energy, with the OHT Alfa Lift contract being an excellent example of where these advanced technologies can be put to work. I would also like to add my appreciation of the trust that OHT has placed in MacGregor, and equally recognise the collaborative team effort that has resulted in the innovative monopile installation solution being developed.\"\\n\\nThe products and services herein described in this press release are not endorsed by The Maritime Executive.', 'Rolls-Royce has publicly demonstrated what it calls the “world’s first fully autonomous ferry” on a trip between Parainen and Nauvo in Finland.\\n\\nThe British company entered a research partnership with Finnish state-owned Finferries back in May, revealing plans to “optimize ship safety and efficiency” through developing and demonstrating autonomous ferry technologies.\\n\\nThe first fruits of this project — which is called SVAN\\xa0(Safer Vessel with Autonomous Navigation) — have been revealed today after the team conducted around 400 hours of trials in the Turku archipelago using an adapted 53.8-meter Falco car ferry.\\n\\n“Today’s demonstration proves that the autonomous ship is not just a concept, but something that will transform shipping as we know it,” said Rolls-Royce’s president for commercial marine Mikael Makinen, in a press release.\\n\\nPlain sailing\\n\\nThe ferry is loaded with myriad sensors, meshed with artificial intelligence (AI) software to help it identify and avoid objects in its immediate vicinity.\\n\\nTraveling from Parainen to Nauvo, the Falco ferry operated completely autonomously, but the return journey was controlled remotely from a command\\xa0center 50 kilometres away in Turku, demonstrating that the ship can be commandeered by a human if required.\\n\\nAdditionally, Rolls-Royce and Finferries demonstrated an “auto-docking” system that basically enables the ferry to alter its speed and course when it’s coming into port.\\n\\n“Today marks a huge step forward in the journey toward autonomous shipping and reaffirms exactly what we have been saying for several years, that autonomous shipping will happen,” Makinen added. “The SVAN project has been a successful collaboration between Rolls-Royce and Finferries and an ideal opportunity to showcase to the world how ship intelligence technology can bring great benefits in the safe and efficient operation of ships.”\\n\\nPlanes, trains, and autonomous ferries\\n\\nWhile rarely a day goes by without self-driving cars making the headlines, there has been a quiet push to bring autonomy to other modes of transport, including planes, trains, and, indeed, sea-faring vessels.\\n\\nBack in 2016, news emerged of an autonomous unmanned warship called Sea Hunter, which was\\xa0developed by research agency DARPA, while the following year a new crewless cargo ship called the Yara Birkeland was announced out of Norway — though it isn’t expected to go into full operation without a crew until 2020. A few months back, the Norwegian University of Science and Technology (NNTU) also carried out trials of a\\xa0tiny electric driverless passenger ferry.\\n\\nElsewhere, Rolls-Royce recently\\xa0announced a partnership with Intel as part of a grand plan to bring self-guided cargo ships to the world’s seas by 2025.\\n\\nWith technology and automotive giants such as Alphabet’s Waymo and Volvo continuing to improve and iterate on their self-driving car smarts, we are now starting to see the early commercial implementations of all that groundwork. Last month, for example,\\xa0Volvo announced its first commercial self-driving trucks will be used in the mining industry, while Waymo is gearing up to launch an autonomous taxi service with no human in the driver seat.\\n\\nThese efforts will undoubtedly continue to raise concerns about implications for human employment, but the technology and automotive companies share a core counter-argument: safety.\\n\\n“As a modern ship owner, our main goal in this cooperation has been on increasing safety in marine traffic, as this is beneficial for both the environment and our passengers,” added Finferries CEO Mats Rosin. “But we are also equally excited about how this demonstration opens the door to the new possibilities of autonomous shipping and safety.”', 'Rolls-Royce has publicly demonstrated what it calls the “world’s first fully autonomous ferry” on a trip between Parainen and Nauvo in Finland.\\n\\nThe British company entered a research partnership with Finnish state-owned Finferries back in May, revealing plans to “optimize ship safety and efficiency” through developing and demonstrating autonomous ferry technologies.\\n\\nThe first fruits of this project — which is called SVAN\\xa0(Safer Vessel with Autonomous Navigation) — have been revealed today after the team conducted around 400 hours of trials in the Turku archipelago using an adapted 53.8-meter Falco car ferry.\\n\\n“Today’s demonstration proves that the autonomous ship is not just a concept, but something that will transform shipping as we know it,” said Rolls-Royce’s president for commercial marine Mikael Makinen, in a press release.\\n\\nPlain sailing\\n\\nThe ferry is loaded with myriad sensors, meshed with artificial intelligence (AI) software to help it identify and avoid objects in its immediate vicinity.\\n\\nTraveling from Parainen to Nauvo, the Falco ferry operated completely autonomously, but the return journey was controlled remotely from a command\\xa0center 50 kilometres away in Turku, demonstrating that the ship can be commandeered by a human if required.\\n\\nAdditionally, Rolls-Royce and Finferries demonstrated an “auto-docking” system that basically enables the ferry to alter its speed and course when it’s coming into port.\\n\\n“Today marks a huge step forward in the journey toward autonomous shipping and reaffirms exactly what we have been saying for several years, that autonomous shipping will happen,” Makinen added. “The SVAN project has been a successful collaboration between Rolls-Royce and Finferries and an ideal opportunity to showcase to the world how ship intelligence technology can bring great benefits in the safe and efficient operation of ships.”\\n\\nPlanes, trains, and autonomous ferries\\n\\nWhile rarely a day goes by without self-driving cars making the headlines, there has been a quiet push to bring autonomy to other modes of transport, including planes, trains, and, indeed, sea-faring vessels.\\n\\nBack in 2016, news emerged of an autonomous unmanned warship called Sea Hunter, which was\\xa0developed by research agency DARPA, while the following year a new crewless cargo ship called the Yara Birkeland was announced out of Norway — though it isn’t expected to go into full operation without a crew until 2020. A few months back, the Norwegian University of Science and Technology (NNTU) also carried out trials of a\\xa0tiny electric driverless passenger ferry.\\n\\nElsewhere, Rolls-Royce recently\\xa0announced a partnership with Intel as part of a grand plan to bring self-guided cargo ships to the world’s seas by 2025.\\n\\nWith technology and automotive giants such as Alphabet’s Waymo and Volvo continuing to improve and iterate on their self-driving car smarts, we are now starting to see the early commercial implementations of all that groundwork. Last month, for example,\\xa0Volvo announced its first commercial self-driving trucks will be used in the mining industry, while Waymo is gearing up to launch an autonomous taxi service with no human in the driver seat.\\n\\nThese efforts will undoubtedly continue to raise concerns about implications for human employment, but the technology and automotive companies share a core counter-argument: safety.\\n\\n“As a modern ship owner, our main goal in this cooperation has been on increasing safety in marine traffic, as this is beneficial for both the environment and our passengers,” added Finferries CEO Mats Rosin. “But we are also equally excited about how this demonstration opens the door to the new possibilities of autonomous shipping and safety.”', 'While self-driving cars have hogged the headlines\\xa0for the past few years, other forms of autonomous transport are starting to heat up.\\n\\nThis month, IBM and Promare — a U.K.-based marine research and exploration charity — will trial a prototype of an artificial intelligence (AI)-powered maritime navigation system ahead of a September 16th venture to send a crewless ship across the Atlantic Ocean on the very same route the original Mayflower traversed 400 years ago.\\n\\nThe original Mayflower ship, which in 1620 carried the first English settlers to the U.S., traveled from Plymouth in the U.K. to what is today known as Plymouth, Massachusetts. Mayflower version 1.0 was a square-rigged sail ship, like many merchant vessels of the era, and relied purely on wind and human navigation techniques to find its way to the New World. The Mayflower Autonomous Ship (MAS), on the other hand, will be propelled by a combination of solar- and wind-generated power, with a diesel generator on board as backup.\\n\\nMoreover, while the first Mayflower traveled at a maximum speed of around 2.5 knots and took some two months to reach its destination, the upgraded version moves at a giddy 20 knots and should arrive in less than two weeks.\\n\\nAI Captain\\n\\nThe mission, first announced back in October, aims to tackle all the usual obstacles that come with navigating a ship through treacherous waters, except without human intervention.\\n\\nThe onboard “AI Captain,” as it’s called, can’t always rely on GPS and satellite connectivity, and speed is integral to processing real-time data. This is why all the AI and navigational smarts must be available locally, making edge computing pivotal to the venture’s success.\\n\\n“Edge computing is critical to making an autonomous ship like the Mayflower possible,” noted Rob High, IBM’s CTO for edge computing. “The ship needs to sense its environment, make smart decisions about the situation, and then act on these insights in the minimum amount of time — even in the presence of intermittent connectivity, and all while keeping data secure from cyberthreats.”\\n\\nThe team behind the new Mayflower has been training the ship’s AI models for the past few years, using millions of maritime images collected from cameras in the Plymouth Sound, in addition to other open source data sets.\\n\\nFor machine learning prowess, the ship is using an IBM Power AC922 system, which is used in some of the world’s biggest AI supercomputers. Alongside IBM’s PowerAI Vision, the Mayflower’s AI Captain is built to detect and identify ships and buoys — as well as other hazards, including debris — and to make decisions about what to do next.\\n\\nFor example, if the MAS encounters a cargo ship that has shed some of its load after colliding with another vessel, the AI Captain will be called into action and can use any combination of onboard sensors and software to circumvent the obstacles. The radar can detect hazards in the water ahead, with cameras providing additional visual data on objects in the water.\\n\\nMoreover, an automatic identification system (AIS) can tap into specific information about any vessels ahead, including their class, weight, speed, cargo type, and so on. Radio broadcast warnings from the cargo ship can also be accepted and interpreted, with the AI Captain ready to decide on a change of course.\\n\\nOther data the AI Captain can tap into includes the navigation system and nautical chart server, which provide the current location, speed, course, and route of the ship, as well as attitude sensors for monitoring the state of the sea and a fathometer for water depth.\\n\\nThe onboard vehicle management system also provides crucial data, such as the battery charge level and power consumption, that can be used to determine the best route around a hazardous patch of ocean, with weather forecasts informing the final decision.\\n\\nCrucially, the AI Captain can communicate vocally with other ships in the vicinity to communicate any change in plans.\\n\\nThe MAS ship itself is still being constructed in Gdansk, Poland, and the AI Captain will be tested this month in a manned research ship called the Plymouth Quest, which is owned by the U.K.’s Plymouth Marine Laboratory. The test will essentially determine how the AI Captain performs in real-world scenarios, and feedback will be used to refine the main vessel’s machine learning smarts before the September launch.\\n\\nThe state of play\\n\\nMaritime transport constitutes around 90% of global trade, as it’s the most cost-effective way of transporting goods in bulk. But shipping is widely regarded as a major source of pollution for the planet. Like self-driving cars, a major benefit of electrified autonomous ships is that they reduce emissions while also promising fewer accidents — at least three quarters of maritime accidents are thought to be caused by human error.\\n\\nMoreover, crewless ships open the doors to longer research missions, as food and salaries are no longer logistical or budgetary considerations.\\n\\nThere has been a push toward fully automating sea-faring transport in recent years. Back in 2016, news emerged that an unmanned warship called Sea Hunter was being developed by research agency DARPA, which passed the Sea Hunter prototype on to the Office of Naval Research two years later for further iteration. In Norway, a crewless cargo ship called the Yara Birkeland has also been in development for the past few year and is expected to go into commercial operation later in 2020. The Norwegian University of Science and Technology (NNTU) has also carried out trials\\xa0of a\\xa0tiny electric driverless passenger ferry.\\n\\nElsewhere,\\xa0Rolls-Royce previously demonstrated a fully autonomous passenger ferry in Finland and announced a partnership with Intel as part of a grand plan to bring self-guided cargo ships to the world’s seas by 2025.\\n\\nSo plenty is happening in the self-navigating ship sphere — a recent report from Allied Research pegged the industry at $88 billion today, and it could hit $130 billion within a decade. But while others seeks to automate various aspects of shipping, the new Mayflower is designed to be completely self-sufficient and operate without any direct human intervention.\\n\\n“Many of today’s autonomous ships are really just automated — robots [that] do not dynamically adapt to new situations and rely heavily on operator override,” said Don Scott, CTO of the Mayflower Autonomous Ship. “Using an integrated suite of IBM’s AI, cloud, and edge technologies, we are aiming to give the Mayflower full autonomy and are pushing the boundaries of what’s currently possible.”\\n\\nFour centuries after the Mayflower carried the Pilgrims across the Atlantic, we could be entering a new era of maritime adventures.', 'While self-driving cars have hogged the headlines\\xa0for the past few years, other forms of autonomous transport are starting to heat up.\\n\\nThis month, IBM and Promare — a U.K.-based marine research and exploration charity — will trial a prototype of an artificial intelligence (AI)-powered maritime navigation system ahead of a September 16th venture to send a crewless ship across the Atlantic Ocean on the very same route the original Mayflower traversed 400 years ago.\\n\\nThe original Mayflower ship, which in 1620 carried the first English settlers to the U.S., traveled from Plymouth in the U.K. to what is today known as Plymouth, Massachusetts. Mayflower version 1.0 was a square-rigged sail ship, like many merchant vessels of the era, and relied purely on wind and human navigation techniques to find its way to the New World. The Mayflower Autonomous Ship (MAS), on the other hand, will be propelled by a combination of solar- and wind-generated power, with a diesel generator on board as backup.\\n\\nMoreover, while the first Mayflower traveled at a maximum speed of around 2.5 knots and took some two months to reach its destination, the upgraded version moves at a giddy 20 knots and should arrive in less than two weeks.\\n\\nAI Captain\\n\\nThe mission, first announced back in October, aims to tackle all the usual obstacles that come with navigating a ship through treacherous waters, except without human intervention.\\n\\nThe onboard “AI Captain,” as it’s called, can’t always rely on GPS and satellite connectivity, and speed is integral to processing real-time data. This is why all the AI and navigational smarts must be available locally, making edge computing pivotal to the venture’s success.\\n\\n“Edge computing is critical to making an autonomous ship like the Mayflower possible,” noted Rob High, IBM’s CTO for edge computing. “The ship needs to sense its environment, make smart decisions about the situation, and then act on these insights in the minimum amount of time — even in the presence of intermittent connectivity, and all while keeping data secure from cyberthreats.”\\n\\nThe team behind the new Mayflower has been training the ship’s AI models for the past few years, using millions of maritime images collected from cameras in the Plymouth Sound, in addition to other open source data sets.\\n\\nFor machine learning prowess, the ship is using an IBM Power AC922 system, which is used in some of the world’s biggest AI supercomputers. Alongside IBM’s PowerAI Vision, the Mayflower’s AI Captain is built to detect and identify ships and buoys — as well as other hazards, including debris — and to make decisions about what to do next.\\n\\nFor example, if the MAS encounters a cargo ship that has shed some of its load after colliding with another vessel, the AI Captain will be called into action and can use any combination of onboard sensors and software to circumvent the obstacles. The radar can detect hazards in the water ahead, with cameras providing additional visual data on objects in the water.\\n\\nMoreover, an automatic identification system (AIS) can tap into specific information about any vessels ahead, including their class, weight, speed, cargo type, and so on. Radio broadcast warnings from the cargo ship can also be accepted and interpreted, with the AI Captain ready to decide on a change of course.\\n\\nOther data the AI Captain can tap into includes the navigation system and nautical chart server, which provide the current location, speed, course, and route of the ship, as well as attitude sensors for monitoring the state of the sea and a fathometer for water depth.\\n\\nThe onboard vehicle management system also provides crucial data, such as the battery charge level and power consumption, that can be used to determine the best route around a hazardous patch of ocean, with weather forecasts informing the final decision.\\n\\nCrucially, the AI Captain can communicate vocally with other ships in the vicinity to communicate any change in plans.\\n\\nThe MAS ship itself is still being constructed in Gdansk, Poland, and the AI Captain will be tested this month in a manned research ship called the Plymouth Quest, which is owned by the U.K.’s Plymouth Marine Laboratory. The test will essentially determine how the AI Captain performs in real-world scenarios, and feedback will be used to refine the main vessel’s machine learning smarts before the September launch.\\n\\nThe state of play\\n\\nMaritime transport constitutes around 90% of global trade, as it’s the most cost-effective way of transporting goods in bulk. But shipping is widely regarded as a major source of pollution for the planet. Like self-driving cars, a major benefit of electrified autonomous ships is that they reduce emissions while also promising fewer accidents — at least three quarters of maritime accidents are thought to be caused by human error.\\n\\nMoreover, crewless ships open the doors to longer research missions, as food and salaries are no longer logistical or budgetary considerations.\\n\\nThere has been a push toward fully automating sea-faring transport in recent years. Back in 2016, news emerged that an unmanned warship called Sea Hunter was being developed by research agency DARPA, which passed the Sea Hunter prototype on to the Office of Naval Research two years later for further iteration. In Norway, a crewless cargo ship called the Yara Birkeland has also been in development for the past few year and is expected to go into commercial operation later in 2020. The Norwegian University of Science and Technology (NNTU) has also carried out trials\\xa0of a\\xa0tiny electric driverless passenger ferry.\\n\\nElsewhere,\\xa0Rolls-Royce previously demonstrated a fully autonomous passenger ferry in Finland and announced a partnership with Intel as part of a grand plan to bring self-guided cargo ships to the world’s seas by 2025.\\n\\nSo plenty is happening in the self-navigating ship sphere — a recent report from Allied Research pegged the industry at $88 billion today, and it could hit $130 billion within a decade. But while others seeks to automate various aspects of shipping, the new Mayflower is designed to be completely self-sufficient and operate without any direct human intervention.\\n\\n“Many of today’s autonomous ships are really just automated — robots [that] do not dynamically adapt to new situations and rely heavily on operator override,” said Don Scott, CTO of the Mayflower Autonomous Ship. “Using an integrated suite of IBM’s AI, cloud, and edge technologies, we are aiming to give the Mayflower full autonomy and are pushing the boundaries of what’s currently possible.”\\n\\nFour centuries after the Mayflower carried the Pilgrims across the Atlantic, we could be entering a new era of maritime adventures.', 'While self-driving cars have hogged the headlines\\xa0for the past few years, other forms of autonomous transport are starting to heat up.\\n\\nThis month, IBM and Promare — a U.K.-based marine research and exploration charity — will trial a prototype of an artificial intelligence (AI)-powered maritime navigation system ahead of a September 16th venture to send a crewless ship across the Atlantic Ocean on the very same route the original Mayflower traversed 400 years ago.\\n\\nThe original Mayflower ship, which in 1620 carried the first English settlers to the U.S., traveled from Plymouth in the U.K. to what is today known as Plymouth, Massachusetts. Mayflower version 1.0 was a square-rigged sail ship, like many merchant vessels of the era, and relied purely on wind and human navigation techniques to find its way to the New World. The Mayflower Autonomous Ship (MAS), on the other hand, will be propelled by a combination of solar- and wind-generated power, with a diesel generator on board as backup.\\n\\nMoreover, while the first Mayflower traveled at a maximum speed of around 2.5 knots and took some two months to reach its destination, the upgraded version moves at a giddy 20 knots and should arrive in less than two weeks.\\n\\nAI Captain\\n\\nThe mission, first announced back in October, aims to tackle all the usual obstacles that come with navigating a ship through treacherous waters, except without human intervention.\\n\\nThe onboard “AI Captain,” as it’s called, can’t always rely on GPS and satellite connectivity, and speed is integral to processing real-time data. This is why all the AI and navigational smarts must be available locally, making edge computing pivotal to the venture’s success.\\n\\n“Edge computing is critical to making an autonomous ship like the Mayflower possible,” noted Rob High, IBM’s CTO for edge computing. “The ship needs to sense its environment, make smart decisions about the situation, and then act on these insights in the minimum amount of time — even in the presence of intermittent connectivity, and all while keeping data secure from cyberthreats.”\\n\\nThe team behind the new Mayflower has been training the ship’s AI models for the past few years, using millions of maritime images collected from cameras in the Plymouth Sound, in addition to other open source data sets.\\n\\nFor machine learning prowess, the ship is using an IBM Power AC922 system, which is used in some of the world’s biggest AI supercomputers. Alongside IBM’s PowerAI Vision, the Mayflower’s AI Captain is built to detect and identify ships and buoys — as well as other hazards, including debris — and to make decisions about what to do next.\\n\\nFor example, if the MAS encounters a cargo ship that has shed some of its load after colliding with another vessel, the AI Captain will be called into action and can use any combination of onboard sensors and software to circumvent the obstacles. The radar can detect hazards in the water ahead, with cameras providing additional visual data on objects in the water.\\n\\nMoreover, an automatic identification system (AIS) can tap into specific information about any vessels ahead, including their class, weight, speed, cargo type, and so on. Radio broadcast warnings from the cargo ship can also be accepted and interpreted, with the AI Captain ready to decide on a change of course.\\n\\nOther data the AI Captain can tap into includes the navigation system and nautical chart server, which provide the current location, speed, course, and route of the ship, as well as attitude sensors for monitoring the state of the sea and a fathometer for water depth.\\n\\nThe onboard vehicle management system also provides crucial data, such as the battery charge level and power consumption, that can be used to determine the best route around a hazardous patch of ocean, with weather forecasts informing the final decision.\\n\\nCrucially, the AI Captain can communicate vocally with other ships in the vicinity to communicate any change in plans.\\n\\nThe MAS ship itself is still being constructed in Gdansk, Poland, and the AI Captain will be tested this month in a manned research ship called the Plymouth Quest, which is owned by the U.K.’s Plymouth Marine Laboratory. The test will essentially determine how the AI Captain performs in real-world scenarios, and feedback will be used to refine the main vessel’s machine learning smarts before the September launch.\\n\\nThe state of play\\n\\nMaritime transport constitutes around 90% of global trade, as it’s the most cost-effective way of transporting goods in bulk. But shipping is widely regarded as a major source of pollution for the planet. Like self-driving cars, a major benefit of electrified autonomous ships is that they reduce emissions while also promising fewer accidents — at least three quarters of maritime accidents are thought to be caused by human error.\\n\\nMoreover, crewless ships open the doors to longer research missions, as food and salaries are no longer logistical or budgetary considerations.\\n\\nThere has been a push toward fully automating sea-faring transport in recent years. Back in 2016, news emerged that an unmanned warship called Sea Hunter was being developed by research agency DARPA, which passed the Sea Hunter prototype on to the Office of Naval Research two years later for further iteration. In Norway, a crewless cargo ship called the Yara Birkeland has also been in development for the past few year and is expected to go into commercial operation later in 2020. The Norwegian University of Science and Technology (NNTU) has also carried out trials\\xa0of a\\xa0tiny electric driverless passenger ferry.\\n\\nElsewhere,\\xa0Rolls-Royce previously demonstrated a fully autonomous passenger ferry in Finland and announced a partnership with Intel as part of a grand plan to bring self-guided cargo ships to the world’s seas by 2025.\\n\\nSo plenty is happening in the self-navigating ship sphere — a recent report from Allied Research pegged the industry at $88 billion today, and it could hit $130 billion within a decade. But while others seeks to automate various aspects of shipping, the new Mayflower is designed to be completely self-sufficient and operate without any direct human intervention.\\n\\n“Many of today’s autonomous ships are really just automated — robots [that] do not dynamically adapt to new situations and rely heavily on operator override,” said Don Scott, CTO of the Mayflower Autonomous Ship. “Using an integrated suite of IBM’s AI, cloud, and edge technologies, we are aiming to give the Mayflower full autonomy and are pushing the boundaries of what’s currently possible.”\\n\\nFour centuries after the Mayflower carried the Pilgrims across the Atlantic, we could be entering a new era of maritime adventures.', 'While self-driving cars have hogged the headlines\\xa0for the past few years, other forms of autonomous transport are starting to heat up.\\n\\nThis month, IBM and Promare — a U.K.-based marine research and exploration charity — will trial a prototype of an artificial intelligence (AI)-powered maritime navigation system ahead of a September 16th venture to send a crewless ship across the Atlantic Ocean on the very same route the original Mayflower traversed 400 years ago.\\n\\nThe original Mayflower ship, which in 1620 carried the first English settlers to the U.S., traveled from Plymouth in the U.K. to what is today known as Plymouth, Massachusetts. Mayflower version 1.0 was a square-rigged sail ship, like many merchant vessels of the era, and relied purely on wind and human navigation techniques to find its way to the New World. The Mayflower Autonomous Ship (MAS), on the other hand, will be propelled by a combination of solar- and wind-generated power, with a diesel generator on board as backup.\\n\\nMoreover, while the first Mayflower traveled at a maximum speed of around 2.5 knots and took some two months to reach its destination, the upgraded version moves at a giddy 20 knots and should arrive in less than two weeks.\\n\\nAI Captain\\n\\nThe mission, first announced back in October, aims to tackle all the usual obstacles that come with navigating a ship through treacherous waters, except without human intervention.\\n\\nThe onboard “AI Captain,” as it’s called, can’t always rely on GPS and satellite connectivity, and speed is integral to processing real-time data. This is why all the AI and navigational smarts must be available locally, making edge computing pivotal to the venture’s success.\\n\\n“Edge computing is critical to making an autonomous ship like the Mayflower possible,” noted Rob High, IBM’s CTO for edge computing. “The ship needs to sense its environment, make smart decisions about the situation, and then act on these insights in the minimum amount of time — even in the presence of intermittent connectivity, and all while keeping data secure from cyberthreats.”\\n\\nThe team behind the new Mayflower has been training the ship’s AI models for the past few years, using millions of maritime images collected from cameras in the Plymouth Sound, in addition to other open source data sets.\\n\\nFor machine learning prowess, the ship is using an IBM Power AC922 system, which is used in some of the world’s biggest AI supercomputers. Alongside IBM’s PowerAI Vision, the Mayflower’s AI Captain is built to detect and identify ships and buoys — as well as other hazards, including debris — and to make decisions about what to do next.\\n\\nFor example, if the MAS encounters a cargo ship that has shed some of its load after colliding with another vessel, the AI Captain will be called into action and can use any combination of onboard sensors and software to circumvent the obstacles. The radar can detect hazards in the water ahead, with cameras providing additional visual data on objects in the water.\\n\\nMoreover, an automatic identification system (AIS) can tap into specific information about any vessels ahead, including their class, weight, speed, cargo type, and so on. Radio broadcast warnings from the cargo ship can also be accepted and interpreted, with the AI Captain ready to decide on a change of course.\\n\\nOther data the AI Captain can tap into includes the navigation system and nautical chart server, which provide the current location, speed, course, and route of the ship, as well as attitude sensors for monitoring the state of the sea and a fathometer for water depth.\\n\\nThe onboard vehicle management system also provides crucial data, such as the battery charge level and power consumption, that can be used to determine the best route around a hazardous patch of ocean, with weather forecasts informing the final decision.\\n\\nCrucially, the AI Captain can communicate vocally with other ships in the vicinity to communicate any change in plans.\\n\\nThe MAS ship itself is still being constructed in Gdansk, Poland, and the AI Captain will be tested this month in a manned research ship called the Plymouth Quest, which is owned by the U.K.’s Plymouth Marine Laboratory. The test will essentially determine how the AI Captain performs in real-world scenarios, and feedback will be used to refine the main vessel’s machine learning smarts before the September launch.\\n\\nThe state of play\\n\\nMaritime transport constitutes around 90% of global trade, as it’s the most cost-effective way of transporting goods in bulk. But shipping is widely regarded as a major source of pollution for the planet. Like self-driving cars, a major benefit of electrified autonomous ships is that they reduce emissions while also promising fewer accidents — at least three quarters of maritime accidents are thought to be caused by human error.\\n\\nMoreover, crewless ships open the doors to longer research missions, as food and salaries are no longer logistical or budgetary considerations.\\n\\nThere has been a push toward fully automating sea-faring transport in recent years. Back in 2016, news emerged that an unmanned warship called Sea Hunter was being developed by research agency DARPA, which passed the Sea Hunter prototype on to the Office of Naval Research two years later for further iteration. In Norway, a crewless cargo ship called the Yara Birkeland has also been in development for the past few year and is expected to go into commercial operation later in 2020. The Norwegian University of Science and Technology (NNTU) has also carried out trials\\xa0of a\\xa0tiny electric driverless passenger ferry.\\n\\nElsewhere,\\xa0Rolls-Royce previously demonstrated a fully autonomous passenger ferry in Finland and announced a partnership with Intel as part of a grand plan to bring self-guided cargo ships to the world’s seas by 2025.\\n\\nSo plenty is happening in the self-navigating ship sphere — a recent report from Allied Research pegged the industry at $88 billion today, and it could hit $130 billion within a decade. But while others seeks to automate various aspects of shipping, the new Mayflower is designed to be completely self-sufficient and operate without any direct human intervention.\\n\\n“Many of today’s autonomous ships are really just automated — robots [that] do not dynamically adapt to new situations and rely heavily on operator override,” said Don Scott, CTO of the Mayflower Autonomous Ship. “Using an integrated suite of IBM’s AI, cloud, and edge technologies, we are aiming to give the Mayflower full autonomy and are pushing the boundaries of what’s currently possible.”\\n\\nFour centuries after the Mayflower carried the Pilgrims across the Atlantic, we could be entering a new era of maritime adventures.', 'NEW YORK, June 17, 2020 /PRNewswire/ -- Investis Digital, a leading global digital communications company, announced today the latest results of its Connect.IQ Ranking Report, the industry\\'s leading benchmark that measures the effectiveness of corporate websites from the perspective of their key audiences -- investors, influencers, employees and more. Connect.IQ evaluates the digital performance of global businesses against 300 criteria that covers content, user experience and technical implementation including organic and paid search visibility and social presence.\\n\\nThrough the lens of Investis Digital\\'s Connected Content approach, which helps companies tell their brand stories through strategic and engaging content, build and run intelligent websites and reach audiences with powerful performance marketing solutions, this report ranks companies across five areas; narrative (our company, sustainability, reputation, investors, media and job seekers), content mix, channel mix, optimization and amplification.\\n\\nBringing 20 years of experience, Investis Digital has analyzed corporate websites across major indexes like FTSE, NYSE, and NASDAQ. In this report, it highlights companies in the NASDAQ and NYSE Top 100 to assess how effective they are at telling their stories through their corporate website and owned channels.\\n\\nNotably, the report shows:\\n\\nWhile sustainability is high on both the corporate and societal agenda, less than 10 percent of companies in this group explain their sustainability strategy. (NASDAQ 100) 54 percent of companies have seen a 2-year increase in organic keywords, but only 34 percent of them rank for more non-branded, industry keywords than their brand and company name. (NYSE 100)\\n\\nProminently ranked as Connect.IQ\\'s NASDAQ 100 leader is Exelon, the nation\\'s leading competitive energy provider who successfully maintains an effective narrative on their corporate website, which includes highlighting its focus on sustainability through its corporate environment policy. Other leaders include:\\n\\nConnect.IQ NASDAQ Leaders\\n\\n1 Exelon\\n\\n2 Intel\\n\\n3 Amazon\\n\\n4 ADP\\n\\n5 Analog Devices\\n\\nConnect.IQ NYSE Leaders\\n\\n1 Merck & Co.\\n\\n2 Lockheed Martin\\n\\n3 Accenture\\n\\n4 CVS Health\\n\\n5 UPS\\n\\nDon Scales, Global CEO of Investis Digital, said, \"This report is an excellent showcase of how companies must completely rethink their communications and marketing strategies in today\\'s digital-first world. You must have soundproof websites, digital estates and omni-channel performance marketing strategies that reach your most important audiences. This is especially true if you hope to remain relevant to a new generation of job seekers, customers who put purpose over profit and investors who are expected to focus on the harder elements of reputation. That\\'s why our Connected Content approach is so powerful. It does just that.\"\\n\\nAccording to the Connect.IQ NASDAQ 100 report, from investors to employees, \\'purpose\\' is increasingly driving the agenda but only 25 percent of companies in this group share theirs.\\n\\n\"Companies need to provide a more consistent and coherent perspective of what they do, focus more on stakeholder value, and show long-term business sustainability. This report aims to provide a better understanding on how to tell your story but to also ensure companies address the needs of their audience,\" said Simon Gittings, Creative Director and editor of the report.\\n\\nAbout Investis Digital\\n\\nInvestis Digital has been at the forefront of digital communications for two decades. Over time we\\'ve gained deep sector knowledge, invested in leading technologies, and built lasting and trusted relationships with more than 1600 global companies, including Ascential, ASOS, Rolls-Royce, Tarte, Fruit of the Loom and Groupon.\\n\\nThrough a proprietary approach we call Connected Content™, we unite compelling communications, intelligent digital experiences and performance marketing to help companies build deeper connections with audiences and drive business performance.\\n\\nWe tell\\u202fbrand stories through strategic and engaging content that meets your audiences at the right time, in the right place, with the right message.\\n\\nWe build and run\\u202fintelligent websites and digital experiences that are rapidly deployed and strategically measured, underpinned by our secure, world-leading Connect.ID technology and 24/7 service.\\n\\nWe find\\u202fthe audiences that matter most\\u202fthrough powerful\\u202fperformance marketing solutions that optimize and amplify your brand across all touchpoints.\\n\\nThis unique blend of expertise, technology and \"always on\" service allow clients to trust that their digital footprint and brand reputation is secure and protected 24/7 by our dedicated team of 500 digital experts across 9 global offices. To learn more on how Investis Digital has been powering digital communications since 2000, please visit:\\u202fwww.InvestisDigital.com\\n\\nView original content to download multimedia:http://www.prnewswire.com/news-releases/new-investis-digital-connectiq-report-ranks-the-most-effective-corporate-websites-across-nyse-100-and-nasdaq-100-301078654.html\\n\\nSOURCE Investis Digital', 'NEW YORK, June 17, 2020 /PRNewswire/ -- Investis Digital, a leading global digital communications company, announced today the latest results of its Connect.IQ Ranking Report, the industry\\'s leading benchmark that measures the effectiveness of corporate websites from the perspective of their key audiences -- investors, influencers, employees and more. Connect.IQ evaluates the digital performance of global businesses against 300 criteria that covers content, user experience and technical implementation including organic and paid search visibility and social presence.\\n\\nThrough the lens of Investis Digital\\'s Connected Content approach, which helps companies tell their brand stories through strategic and engaging content, build and run intelligent websites and reach audiences with powerful performance marketing solutions, this report ranks companies across five areas; narrative (our company, sustainability, reputation, investors, media and job seekers), content mix, channel mix, optimization and amplification.\\n\\nBringing 20 years of experience, Investis Digital has analyzed corporate websites across major indexes like FTSE, NYSE, and NASDAQ. In this report, it highlights companies in the NASDAQ and NYSE Top 100 to assess how effective they are at telling their stories through their corporate website and owned channels.\\n\\nNotably, the report shows:\\n\\nWhile sustainability is high on both the corporate and societal agenda, less than 10 percent of companies in this group explain their sustainability strategy. (NASDAQ 100) 54 percent of companies have seen a 2-year increase in organic keywords, but only 34 percent of them rank for more non-branded, industry keywords than their brand and company name. (NYSE 100)\\n\\nProminently ranked as Connect.IQ\\'s NASDAQ 100 leader is Exelon, the nation\\'s leading competitive energy provider who successfully maintains an effective narrative on their corporate website, which includes highlighting its focus on sustainability through its corporate environment policy. Other leaders include:\\n\\nConnect.IQ NASDAQ Leaders\\n\\n1 Exelon\\n\\n2 Intel\\n\\n3 Amazon\\n\\n4 ADP\\n\\n5 Analog Devices\\n\\nConnect.IQ NYSE Leaders\\n\\n1 Merck & Co.\\n\\n2 Lockheed Martin\\n\\n3 Accenture\\n\\n4 CVS Health\\n\\n5 UPS\\n\\nDon Scales, Global CEO of Investis Digital, said, \"This report is an excellent showcase of how companies must completely rethink their communications and marketing strategies in today\\'s digital-first world. You must have soundproof websites, digital estates and omni-channel performance marketing strategies that reach your most important audiences. This is especially true if you hope to remain relevant to a new generation of job seekers, customers who put purpose over profit and investors who are expected to focus on the harder elements of reputation. That\\'s why our Connected Content approach is so powerful. It does just that.\"\\n\\nAccording to the Connect.IQ NASDAQ 100 report, from investors to employees, \\'purpose\\' is increasingly driving the agenda but only 25 percent of companies in this group share theirs.\\n\\n\"Companies need to provide a more consistent and coherent perspective of what they do, focus more on stakeholder value, and show long-term business sustainability. This report aims to provide a better understanding on how to tell your story but to also ensure companies address the needs of their audience,\" said Simon Gittings, Creative Director and editor of the report.\\n\\nAbout Investis Digital\\n\\nInvestis Digital has been at the forefront of digital communications for two decades. Over time we\\'ve gained deep sector knowledge, invested in leading technologies, and built lasting and trusted relationships with more than 1600 global companies, including Ascential, ASOS, Rolls-Royce, Tarte, Fruit of the Loom and Groupon.\\n\\nThrough a proprietary approach we call Connected Content™, we unite compelling communications, intelligent digital experiences and performance marketing to help companies build deeper connections with audiences and drive business performance.\\n\\nWe tell\\u202fbrand stories through strategic and engaging content that meets your audiences at the right time, in the right place, with the right message.\\n\\nWe build and run\\u202fintelligent websites and digital experiences that are rapidly deployed and strategically measured, underpinned by our secure, world-leading Connect.ID technology and 24/7 service.\\n\\nWe find\\u202fthe audiences that matter most\\u202fthrough powerful\\u202fperformance marketing solutions that optimize and amplify your brand across all touchpoints.\\n\\nThis unique blend of expertise, technology and \"always on\" service allow clients to trust that their digital footprint and brand reputation is secure and protected 24/7 by our dedicated team of 500 digital experts across 9 global offices. To learn more on how Investis Digital has been powering digital communications since 2000, please visit:\\u202fwww.InvestisDigital.com\\n\\nView original content to download multimedia:http://www.prnewswire.com/news-releases/new-investis-digital-connectiq-report-ranks-the-most-effective-corporate-websites-across-nyse-100-and-nasdaq-100-301078654.html\\n\\nSOURCE Investis Digital', 'The emergence of advanced technologies such as Artificial Intelligence (AI), machine learning, cloud computing, big data, and augmented reality have brought the idea of autonomous vehicles to reality. This disruption in the transportation industry just isn\\'t limited to vehicles on the road; it has ramifications for vessels at sea.\\n\\nHere\\'s an overview of autonomous vessels and the progress so far.\\n\\nSeeing the work around autonomous vessels in the past decade, the International Maritime Organization (IMO) took the first step to address autonomous ships in 2018. It used the term \"Maritime Autonomous Surface Ship (MASS)\" and defined it \"as a ship which, to a varying degree, can operate independently of human interaction, and broadly laid out levels of autonomy.\"\\n\\nShip with automated processes and decision support: Majority shipboard systems are operated and controlled by seafarers; however, some operations may be automated.\\n\\nRemotely controlled ship with seafarers on board: Seafarers are onboard although the ship is controlled and operated from another location.\\n\\nRemotely controlled ship without seafarers on board: The ship is controlled and operated from another location with no seafarers on board.\\n\\nFully autonomous ship: The operating system of the ship is able to make decisions and determine actions by itself.\\n\\nThe interim guidelines for autonomous ship trials were approved by the IMO in 2019.\\n\\nIssues and Initiatives\\n\\nThe projects around autonomous vessels have mostly been in response to counter issues in the global shipping industry. With 90% of the world trade being moved by ships, the shipping industry is the backbone of the global economy. However, accidents are common at sea, and various studies cite human error as the leading cause of marine accidents.\\n\\nAccording to an Allianz study, human error is responsible for between 75% and 96% of marine casualties. The \"Annual Overview of Marine Casualties and Incidents 2019\" published by the European Maritime Safety Agency found that human action (such as inappropriate maneuvering or fatigue) represented 65.8% of accidents. It is estimated that with advanced technologies, the data produced by the shipping industry can be turned into insightful information such as real-time findings and alerts which can help reduce accidents.\\n\\nEurope has been at the forefront of efforts to realize autonomous ships with Rolls-Royce and Kongsberg Maritime playing major roles. Advanced Autonomous Waterborne Applications Initiative (AAWA) and Maritime Unmanned Navigation through Intelligence in Network (MUNIN) are two initiatives towards the development of autonomous ships in Europe. In early 2018, Rolls-Royce and Finnish state-owned ferry operator Finferries began collaboration on a new research project called Safer Vessel with Autonomous Navigation (SVAN), based on the findings of AAWA research project.\\n\\nTo boost its AI capabilities, Rolls-Royce collaborated with Intel in October 2018 for a more sophisticated and intelligent shipping system, in an attempt to make commercial shipping safer and more efficient. Towards the end of 2018, Rolls-Royce and Finferries successfully demonstrated the world\\'s first fully autonomous ferry in the archipelago south of the city of Turku, Finland.\\n\\nIn April 2019, Kongsberg Maritime (NSKFF) completed the acquisition of Rolls-Royce Commercial Marine (RRCM). The integration of the two companies strengthens the leadership in maritime digitalization, ship intelligence and enabling technologies for autonomous vessels.\\n\\nRecently, Kongsberg Maritime, working along with Bastø Fosen and the Norwegian Maritime Authority (NMA), announced the world\\'s first adaptive ferry transit conducted during normal service wherein it carried passengers and vehicles.\\n\\n\"The vessel demonstrated fully automatic control from dock to dock and is a key step forward in the integration of autonomous technology into everyday shipping operations,\" read the press release.\\n\\nIn fact, even start-ups like Shone are enabling conventional ships with the power of AI. In 2018, the CMA CGM Group, a leading worldwide shipping group, partnered with Shone to leverage its capabilities to place AI systems on board container ships. Once the work is finalized, Shone\\'s technology would facilitate the work of crews on board, whether in decision support, maritime safety or piloting assistance.\\n\\nIn South Korea, SK Telecom and Samsung Heavy Industries (SHI) announced the successful testing of the industry\\'s first 5G-based autonomous and remote-control navigation test platform and built Remote Control Center in December 2019. The test marks an important step towards commercialization of 5G-based autonomous and remote-control navigation technologies. The two companies are leveraging 5G, IoT and AI technologies to improve both safety and productivity through real-time detection and control of all equipment and facilities within the shipyard.\\n\\nFighting pollution\\n\\nThe rise of oceanic traffic has led to increased pollution levels, with commercial marine shipping industry being a major contributor to global air pollution. It is estimated that shipping vessels account for more than 3% of global carbon-dioxide emissions. To combat the rising pollution, Yara Birkeland and Kongsberg have teamed up to build the world\\'s first autonomous and zero-emission container vessel. Its launch is expected in 2020, and Yara Birkeland will gradually move from manned operation to fully autonomous operation during its first two years of operation.\\n\\nJapan is working on autonomous ships to combat its widely documented problem of aging pollution. Data published in 2015 revealed that \"56% of Japan\\'s 20,000 seafarers involved in domestic cargo shipping were aged 50 or over.\" Given these figures, Japan is working on viable solutions to manage its maritime with lesser manpower.\\n\\nThe first consortium to work on autonomous ocean transport system was launched in 2017 and included names such as Mitsui, National Institute of Maritime, Port and Aviation Technology, Tokyo University of Marine Science and Technology, Nippon Kaiji Kyokai, Japan Ship Technology Research Association, and Akishima Laboratories. Much work has been done since then, such as the launch of Fleet Optimal Control Unified System (FOCUS). NYK conducted its first successful trial in 2019. It is estimated that Japan\\'s \"unmanned ship \\'economy\\' could be worth $9 billion per year by 2040 and account for 50% of Japanese coastal ships in service by that time.\"\\n\\nBeyond the commercial, autonomous vessels are of great interest for military purposes. Last year, Sea Hunter reached a new milestone for autonomy. Sea Hunter, which is a Medium Displacement Unmanned Surface Vessel (MDUSV) of the Office of Naval Research designed by Leidos (LDOS), successfully autonomously navigated from San Diego to Pearl Harbor, Hawaii. China unveiled its own unmanned warship in 2019.\\n\\nFinal word\\n\\nThe work on autonomous ships is catching pace, and investors should notice. In the future, the ocean will be a mix of sails and sensors.\\n\\nSource: Nasdaq', 'The emergence of advanced technologies such as Artificial Intelligence (AI), machine learning, cloud computing, big data, and augmented reality have brought the idea of autonomous vehicles to reality. This disruption in the transportation industry just isn\\'t limited to vehicles on the road; it has ramifications for vessels at sea.\\n\\nHere\\'s an overview of autonomous vessels and the progress so far.\\n\\nSeeing the work around autonomous vessels in the past decade, the International Maritime Organization (IMO) took the first step to address autonomous ships in 2018. It used the term \"Maritime Autonomous Surface Ship (MASS)\" and defined it \"as a ship which, to a varying degree, can operate independently of human interaction, and broadly laid out levels of autonomy.\"\\n\\nShip with automated processes and decision support: Majority shipboard systems are operated and controlled by seafarers; however, some operations may be automated.\\n\\nRemotely controlled ship with seafarers on board: Seafarers are onboard although the ship is controlled and operated from another location.\\n\\nRemotely controlled ship without seafarers on board: The ship is controlled and operated from another location with no seafarers on board.\\n\\nFully autonomous ship: The operating system of the ship is able to make decisions and determine actions by itself.\\n\\nThe interim guidelines for autonomous ship trials were approved by the IMO in 2019.\\n\\nIssues and Initiatives\\n\\nThe projects around autonomous vessels have mostly been in response to counter issues in the global shipping industry. With 90% of the world trade being moved by ships, the shipping industry is the backbone of the global economy. However, accidents are common at sea, and various studies cite human error as the leading cause of marine accidents.\\n\\nAccording to an Allianz study, human error is responsible for between 75% and 96% of marine casualties. The \"Annual Overview of Marine Casualties and Incidents 2019\" published by the European Maritime Safety Agency found that human action (such as inappropriate maneuvering or fatigue) represented 65.8% of accidents. It is estimated that with advanced technologies, the data produced by the shipping industry can be turned into insightful information such as real-time findings and alerts which can help reduce accidents.\\n\\nEurope has been at the forefront of efforts to realize autonomous ships with Rolls-Royce and Kongsberg Maritime playing major roles. Advanced Autonomous Waterborne Applications Initiative (AAWA) and Maritime Unmanned Navigation through Intelligence in Network (MUNIN) are two initiatives towards the development of autonomous ships in Europe. In early 2018, Rolls-Royce and Finnish state-owned ferry operator Finferries began collaboration on a new research project called Safer Vessel with Autonomous Navigation (SVAN), based on the findings of AAWA research project.\\n\\nTo boost its AI capabilities, Rolls-Royce collaborated with Intel in October 2018 for a more sophisticated and intelligent shipping system, in an attempt to make commercial shipping safer and more efficient. Towards the end of 2018, Rolls-Royce and Finferries successfully demonstrated the world\\'s first fully autonomous ferry in the archipelago south of the city of Turku, Finland.\\n\\nIn April 2019, Kongsberg Maritime (NSKFF) completed the acquisition of Rolls-Royce Commercial Marine (RRCM). The integration of the two companies strengthens the leadership in maritime digitalization, ship intelligence and enabling technologies for autonomous vessels.\\n\\nRecently, Kongsberg Maritime, working along with Bastø Fosen and the Norwegian Maritime Authority (NMA), announced the world\\'s first adaptive ferry transit conducted during normal service wherein it carried passengers and vehicles.\\n\\n\"The vessel demonstrated fully automatic control from dock to dock and is a key step forward in the integration of autonomous technology into everyday shipping operations,\" read the press release.\\n\\nIn fact, even start-ups like Shone are enabling conventional ships with the power of AI. In 2018, the CMA CGM Group, a leading worldwide shipping group, partnered with Shone to leverage its capabilities to place AI systems on board container ships. Once the work is finalized, Shone\\'s technology would facilitate the work of crews on board, whether in decision support, maritime safety or piloting assistance.\\n\\nIn South Korea, SK Telecom and Samsung Heavy Industries (SHI) announced the successful testing of the industry\\'s first 5G-based autonomous and remote-control navigation test platform and built Remote Control Center in December 2019. The test marks an important step towards commercialization of 5G-based autonomous and remote-control navigation technologies. The two companies are leveraging 5G, IoT and AI technologies to improve both safety and productivity through real-time detection and control of all equipment and facilities within the shipyard.\\n\\nFighting pollution\\n\\nThe rise of oceanic traffic has led to increased pollution levels, with commercial marine shipping industry being a major contributor to global air pollution. It is estimated that shipping vessels account for more than 3% of global carbon-dioxide emissions. To combat the rising pollution, Yara Birkeland and Kongsberg have teamed up to build the world\\'s first autonomous and zero-emission container vessel. Its launch is expected in 2020, and Yara Birkeland will gradually move from manned operation to fully autonomous operation during its first two years of operation.\\n\\nJapan is working on autonomous ships to combat its widely documented problem of aging pollution. Data published in 2015 revealed that \"56% of Japan\\'s 20,000 seafarers involved in domestic cargo shipping were aged 50 or over.\" Given these figures, Japan is working on viable solutions to manage its maritime with lesser manpower.\\n\\nThe first consortium to work on autonomous ocean transport system was launched in 2017 and included names such as Mitsui, National Institute of Maritime, Port and Aviation Technology, Tokyo University of Marine Science and Technology, Nippon Kaiji Kyokai, Japan Ship Technology Research Association, and Akishima Laboratories. Much work has been done since then, such as the launch of Fleet Optimal Control Unified System (FOCUS). NYK conducted its first successful trial in 2019. It is estimated that Japan\\'s \"unmanned ship \\'economy\\' could be worth $9 billion per year by 2040 and account for 50% of Japanese coastal ships in service by that time.\"\\n\\nBeyond the commercial, autonomous vessels are of great interest for military purposes. Last year, Sea Hunter reached a new milestone for autonomy. Sea Hunter, which is a Medium Displacement Unmanned Surface Vessel (MDUSV) of the Office of Naval Research designed by Leidos (LDOS), successfully autonomously navigated from San Diego to Pearl Harbor, Hawaii. China unveiled its own unmanned warship in 2019.\\n\\nFinal word\\n\\nThe work on autonomous ships is catching pace, and investors should notice. In the future, the ocean will be a mix of sails and sensors.\\n\\nSource: Nasdaq', 'An obsession with today\\'s customer needs - and preparedness for tomorrow\\'s business ecosystem - are key for success, as this must-read book explains.\\n\\nLaunched in 2012, YourStory\\'s Book Review section features over 280 titles on creativity, innovation, entrepreneurship, and digital transformation. See also our related columns The Turning Point, Techie Tuesdays, and Storybites.\\n\\nA wealth of frameworks, tips, and examples of customer-led business success is featured in the second edition of the compelling book, Customer Innovation: Delivering a Customer-Led Strategy for Sustainable Growth, by Marion Debruyne and Koen Tackx.\\n\\nThe book presents a three-by-three matrix of connect, convert, and collaborate with customers, across different levels of detail (zoom, wide and fisheye lenses). The material is well researched and presented in an engaging manner, backed with over 40 case studies from diverse industries.\\n\\nMarion Debruyne is Dean of Vlerick Business School, Belgium, where Koen Tackx is a professor of strategic marketing.\\n\\nResearch capabilities and first-mover advantage are no longer sufficient for business success in a fast-changing global economy. \"What is needed is an extreme customer orientation, so that your innovation is inspired and guided by where the market is going,\" the authors begin.\\n\\nBusiness success needs three essential capabilities: connect with the customer to assess needs; convert these insights into superior solutions; and collaborate with other firms to deliver new value. This should be refined with three perspectives or lenses: zoom (existing customers, current products), wide (entire customer journey), and fisheye (changes in the periphery).\\n\\nTogether, these factors yield a 3X3 matrix to map a company\\'s performance in continuous customer innovation - from incremental to breakthrough innovation, from an internal focus to an ecosystem strategy.\\n\\nProactive customer innovation yields more sustainable advantage than innovation only in products, operations and markets. This calls for relentless listening to customers and building new capacities internally and via external partnerships, the authors emphasise.\\n\\nAll three capabilities are needed together: focus only on connection will make the company a slave to the customer and miss emerging markets; not converting insights into action will be a waste of intelligence; and focusing only on radical innovation will miss the benefits of incremental innovation.\\n\\nCo-creation with customers helps increase likelihood of product success, ensure buy-in, spur referrals, and provide authentic credible testimonials. Barriers to a customer-centric view include \"blind love\" for current products, and skepticism that customers have value to add, the authors caution.\\n\\nContinuous feedback loops and immersion in customer lives helps understand their needs better. Customers should also be harnessed as sources of ideas and even developers of their own solutions, the authors advise.\\n\\nPeriodic surveys and continuous social media communication help a company stay connected to its customers. Ethnographic approaches to observation yield deeper insights into unarticulated needs and emotional benefits. Customer communities, smart devices, and idea-sharing platforms are useful approaches in this regard.\\n\\nExamples include Zappos\\' call centres, Intel\\'s digital anthropologists, Coca-Cola\\'s Freestyle dispensers, Granville\\'s bicycle configurators, Televic\\'s simulated patient rooms, MyStarbucks idea platform, and Maker Faires.\\n\\nThese insights can then be converted into incremental innovations through daily improvements and small-step changes. Care should be taken to avoid feature bloat and meaningless differentiation, the authors caution.\\n\\nInstead, connected development should be adopted in an open and iterative manner, and customers should be shown that their suggestions matter, are listened to, and acted upon. The entire organisation will need to be engaged in such responsibilities.\\n\\nExamples include Lego Ideas, Asos Style Match, and Chateauform\\'s event surveys, annual idea fairs, and customer advisory board.\\n\\nThe next step of maturity in this perspective is to collaborate with customers as advocates, guides, advisors, idea screeners, designers, influencers, and even as employees.\\n\\n\"Start seeing customers as key collaborators. Build a structured collaboration with customers by giving them an active role,\" the authors advise. Customers should be treated as more than just buyers. Separately, enterprise or internal crowdfunding can spur ideas from within the organisation.\\n\\nExamples include Zipcar\\'s customer communities, IBM Innovation Jams, Local Motor\\'s customer created cars, and Salesforce.com\\'s annual Dreamforce event and Most Valuable Player customer ambassador programme.\\n\\nThe wide lens perspective focuses not just on current products and their functional benefits, but on expanded opportunities by addressing the entire customer journey, needs, and aspirations.\\n\\nExamples include Airnbnb storyboarding, Engie energy calculation tool for switching costs, BMW\\'s five-year guarantee, OTIS predictive maintenance, Van de Welde 3D digital mirrors for size estimates, and Zagat\\'s restaurant ratings.\\n\\nOther connect examples are Orica\\'s explosives estimates, Dow Corning Xiameter\\'s targeting of the price-seeker segment, Spotify\\'s music discovery, PatientsLikeMe community, and the Disneyland journey where excitement begins with ticket purchase even before the park visit.\\n\\nThese insights can be further converted into business models for offering integrated solutions, beyond products and services. The focus shifts from transactions to customer relationships, but calls for acquiring new competencies in segmentation and pricing, the authors explain.\\n\\nExamples include Betafence security systems, Amazon Kindle, Kiehl\\'s subscription cosmetics, Tide\\'s drive-through drycleaning, WeWork co-working spaces, and the product-to-service transitions of IBM. GE, and Rolls-Royce.\\n\\nThe final maturity stage in this evolution is collaborating along the entire value chain. An \"asset cocktail\" should be created with partners, or by acquisition, the authors evocatively explain.\\n\\nExamples here include Barry Callebaut\\'s cocoa bean certifications for fair trade, Carglass customer reports for insurance brokers, Ahold Delhaize\\'s local products retail, MyJohnDeere connected big data platform, the Netflix combination of large catalogue and recommendation engine, and smartphone app platforms.\\n\\nIn addition to customer journeys of today, companies need to cultivate peripheral vision and spot weak or distant signals in the environment. It is important to focus not just on the valuable customers of today, but on emerging segments and latent needs, the authors emphasise.\\n\\nRoadblocks here include confirmation bias with current customers, mental models of the dominant logic, the curse of prior knowledge, risk aversion, and even the \\'boiling frog\\' trap. Tools like active scanning, scenario planning, reverse mentoring, and probe-and-learn experiments can help here.\\n\\nConnection examples include Airbnb\\'s spotting of the shared stay market, JustPark\\'s crowdfunding campaign, Nestle shielding and spinning of Nespresso, and the rise of low-cost airlines.\\n\\nConverting these insights into business advantage calls for business model innovation through an exploratory mindset and strategic experiments. New ventures can be spun off, but should benefit from the parent\\'s assets. Obstacles to overcome are fear of cannibalisation, inertia, sunken cost fallacy, resource lockage, turf battles, scepticism, and even self-sabotage.\\n\\nSuccessful examples here include the rise of Salesforce.com, Amazon\\'s wave of experiments, Disney\\'s business expansion, and Netflix\\'s business models of DVD rentals, streaming, and content creation.\\n\\nNimble players with value-added products such as Starbucks and Chobani have outflanked commodity dairy milk producers. The responses of incumbents like Kodak and Blockbuster to disruptors was too little and too late, the authors observe.\\n\\nThe final stage of fisheye lens excellence is collaboration via adaptable ecosystems. Key success factors are nimble orchestration of ecosystems by finding complementary capabilities, resources and knowledge - from suppliers, partners, and even competitors.\\n\\nExamples include Janssen Pharmaceuticals\\' Venture and Incubation Centre to attract entrepreneurs, and focus on patient-centric disease management systems instead of just product pipelines. An incubated project was the Healseeker computer game for ADHD patients. (See also YourStory\\'s Startup Hatch series of corporate accelerator and incubator profiles.)\\n\\nOther ecosystem examples are the Cisco Hyper Innovation Living Labs (CHILLs) and the YardClub construction marketplace (acquired by Caterpillar). Managing ecosystems can be tricky, as IBM found early in the PC business when it ended up giving power away to Microsoft and Intel.\\n\\nIn sum, companies need to combine customer innovation perspectives from all three lenses - zoom, wide, and fisheye. They need to defend the current market position and add value through integration skills - while also placing selected bets on the future and building ecosystem mastery.\\n\\n\"The ability to innovate your company around the customer is a constant source of competitive advantage. When it is embedded into the culture and processes, it becomes the driving force for any organisation to survive and thrive,\" the authors sign off.', 'An obsession with today\\'s customer needs - and preparedness for tomorrow\\'s business ecosystem - are key for success, as this must-read book explains.\\n\\nLaunched in 2012, YourStory\\'s Book Review section features over 280 titles on creativity, innovation, entrepreneurship, and digital transformation. See also our related columns The Turning Point, Techie Tuesdays, and Storybites.\\n\\nA wealth of frameworks, tips, and examples of customer-led business success is featured in the second edition of the compelling book, Customer Innovation: Delivering a Customer-Led Strategy for Sustainable Growth, by Marion Debruyne and Koen Tackx.\\n\\nThe book presents a three-by-three matrix of connect, convert, and collaborate with customers, across different levels of detail (zoom, wide and fisheye lenses). The material is well researched and presented in an engaging manner, backed with over 40 case studies from diverse industries.\\n\\nMarion Debruyne is Dean of Vlerick Business School, Belgium, where Koen Tackx is a professor of strategic marketing.\\n\\nResearch capabilities and first-mover advantage are no longer sufficient for business success in a fast-changing global economy. \"What is needed is an extreme customer orientation, so that your innovation is inspired and guided by where the market is going,\" the authors begin.\\n\\nBusiness success needs three essential capabilities: connect with the customer to assess needs; convert these insights into superior solutions; and collaborate with other firms to deliver new value. This should be refined with three perspectives or lenses: zoom (existing customers, current products), wide (entire customer journey), and fisheye (changes in the periphery).\\n\\nTogether, these factors yield a 3X3 matrix to map a company\\'s performance in continuous customer innovation - from incremental to breakthrough innovation, from an internal focus to an ecosystem strategy.\\n\\nProactive customer innovation yields more sustainable advantage than innovation only in products, operations and markets. This calls for relentless listening to customers and building new capacities internally and via external partnerships, the authors emphasise.\\n\\nAll three capabilities are needed together: focus only on connection will make the company a slave to the customer and miss emerging markets; not converting insights into action will be a waste of intelligence; and focusing only on radical innovation will miss the benefits of incremental innovation.\\n\\nCo-creation with customers helps increase likelihood of product success, ensure buy-in, spur referrals, and provide authentic credible testimonials. Barriers to a customer-centric view include \"blind love\" for current products, and skepticism that customers have value to add, the authors caution.\\n\\nContinuous feedback loops and immersion in customer lives helps understand their needs better. Customers should also be harnessed as sources of ideas and even developers of their own solutions, the authors advise.\\n\\nPeriodic surveys and continuous social media communication help a company stay connected to its customers. Ethnographic approaches to observation yield deeper insights into unarticulated needs and emotional benefits. Customer communities, smart devices, and idea-sharing platforms are useful approaches in this regard.\\n\\nExamples include Zappos\\' call centres, Intel\\'s digital anthropologists, Coca-Cola\\'s Freestyle dispensers, Granville\\'s bicycle configurators, Televic\\'s simulated patient rooms, MyStarbucks idea platform, and Maker Faires.\\n\\nThese insights can then be converted into incremental innovations through daily improvements and small-step changes. Care should be taken to avoid feature bloat and meaningless differentiation, the authors caution.\\n\\nInstead, connected development should be adopted in an open and iterative manner, and customers should be shown that their suggestions matter, are listened to, and acted upon. The entire organisation will need to be engaged in such responsibilities.\\n\\nExamples include Lego Ideas, Asos Style Match, and Chateauform\\'s event surveys, annual idea fairs, and customer advisory board.\\n\\nThe next step of maturity in this perspective is to collaborate with customers as advocates, guides, advisors, idea screeners, designers, influencers, and even as employees.\\n\\n\"Start seeing customers as key collaborators. Build a structured collaboration with customers by giving them an active role,\" the authors advise. Customers should be treated as more than just buyers. Separately, enterprise or internal crowdfunding can spur ideas from within the organisation.\\n\\nExamples include Zipcar\\'s customer communities, IBM Innovation Jams, Local Motor\\'s customer created cars, and Salesforce.com\\'s annual Dreamforce event and Most Valuable Player customer ambassador programme.\\n\\nThe wide lens perspective focuses not just on current products and their functional benefits, but on expanded opportunities by addressing the entire customer journey, needs, and aspirations.\\n\\nExamples include Airnbnb storyboarding, Engie energy calculation tool for switching costs, BMW\\'s five-year guarantee, OTIS predictive maintenance, Van de Welde 3D digital mirrors for size estimates, and Zagat\\'s restaurant ratings.\\n\\nOther connect examples are Orica\\'s explosives estimates, Dow Corning Xiameter\\'s targeting of the price-seeker segment, Spotify\\'s music discovery, PatientsLikeMe community, and the Disneyland journey where excitement begins with ticket purchase even before the park visit.\\n\\nThese insights can be further converted into business models for offering integrated solutions, beyond products and services. The focus shifts from transactions to customer relationships, but calls for acquiring new competencies in segmentation and pricing, the authors explain.\\n\\nExamples include Betafence security systems, Amazon Kindle, Kiehl\\'s subscription cosmetics, Tide\\'s drive-through drycleaning, WeWork co-working spaces, and the product-to-service transitions of IBM. GE, and Rolls-Royce.\\n\\nThe final maturity stage in this evolution is collaborating along the entire value chain. An \"asset cocktail\" should be created with partners, or by acquisition, the authors evocatively explain.\\n\\nExamples here include Barry Callebaut\\'s cocoa bean certifications for fair trade, Carglass customer reports for insurance brokers, Ahold Delhaize\\'s local products retail, MyJohnDeere connected big data platform, the Netflix combination of large catalogue and recommendation engine, and smartphone app platforms.\\n\\nIn addition to customer journeys of today, companies need to cultivate peripheral vision and spot weak or distant signals in the environment. It is important to focus not just on the valuable customers of today, but on emerging segments and latent needs, the authors emphasise.\\n\\nRoadblocks here include confirmation bias with current customers, mental models of the dominant logic, the curse of prior knowledge, risk aversion, and even the \\'boiling frog\\' trap. Tools like active scanning, scenario planning, reverse mentoring, and probe-and-learn experiments can help here.\\n\\nConnection examples include Airbnb\\'s spotting of the shared stay market, JustPark\\'s crowdfunding campaign, Nestle shielding and spinning of Nespresso, and the rise of low-cost airlines.\\n\\nConverting these insights into business advantage calls for business model innovation through an exploratory mindset and strategic experiments. New ventures can be spun off, but should benefit from the parent\\'s assets. Obstacles to overcome are fear of cannibalisation, inertia, sunken cost fallacy, resource lockage, turf battles, scepticism, and even self-sabotage.\\n\\nSuccessful examples here include the rise of Salesforce.com, Amazon\\'s wave of experiments, Disney\\'s business expansion, and Netflix\\'s business models of DVD rentals, streaming, and content creation.\\n\\nNimble players with value-added products such as Starbucks and Chobani have outflanked commodity dairy milk producers. The responses of incumbents like Kodak and Blockbuster to disruptors was too little and too late, the authors observe.\\n\\nThe final stage of fisheye lens excellence is collaboration via adaptable ecosystems. Key success factors are nimble orchestration of ecosystems by finding complementary capabilities, resources and knowledge - from suppliers, partners, and even competitors.\\n\\nExamples include Janssen Pharmaceuticals\\' Venture and Incubation Centre to attract entrepreneurs, and focus on patient-centric disease management systems instead of just product pipelines. An incubated project was the Healseeker computer game for ADHD patients. (See also YourStory\\'s Startup Hatch series of corporate accelerator and incubator profiles.)\\n\\nOther ecosystem examples are the Cisco Hyper Innovation Living Labs (CHILLs) and the YardClub construction marketplace (acquired by Caterpillar). Managing ecosystems can be tricky, as IBM found early in the PC business when it ended up giving power away to Microsoft and Intel.\\n\\nIn sum, companies need to combine customer innovation perspectives from all three lenses - zoom, wide, and fisheye. They need to defend the current market position and add value through integration skills - while also placing selected bets on the future and building ecosystem mastery.\\n\\n\"The ability to innovate your company around the customer is a constant source of competitive advantage. When it is embedded into the culture and processes, it becomes the driving force for any organisation to survive and thrive,\" the authors sign off.', 'Home\"5G\"ABB Power Grids to use 5G-ready Ericsson Industry Connect 5GConnectivityEnterpriseNewsSmart Factory ABB Power Grids to use 5G-ready Ericsson Industry Connect Juan Pedro Tomás 2020-04-23 Juan Pedro Tomás * April 23, 2020 * 25 Share 0 FacebookTwitterLinkedinemail\\n\\nEricsson has announced that ABB Power Grids will use the 5G-ready Ericsson Industry Connect system at its transformer factory in Ludvika in Sweden, in order to increase productivity and performance.\\n\\nThis is the first commercial application of the latest version of the system at a fully operating manufacturing plant. The smart manufacturing project is a collaboration by the two companies with Nordic carrier Telia and system integrator Afry (formerly Poyry).\\n\\nABB Power Grids provides product, system, software and service solutions that are designed to meet the growing demand for electricity with minimum environmental impact. These solutions support utility, industry and transport and infrastructure customers to plan, build, operate and maintain their power infrastructure.\\n\\nInitially, the Ludvika factory is connecting essential tools such as cordless screwdrivers as part of its digitalization process. Further on, handheld computers will also be connected in order to improve connectivity quality and efficiency compared to their current solution, according to Ericsson.\\n\\nEricsson said that the project shows how ecosystem partners come together to enable digital transformation for smart manufacturing. The partners have deployed, integrated, and managed the 5G-ready dedicated cellular network to enable flexible, efficient, and improved production quality.\\n\\n\"We are reviewing remote management of different processes to improve security, efficiency, and quality aspects. Another example is the optimization and remote monitoring of our drying facilities, which operates 24/7 and requires monitoring,\" said Tobias Hansson, site manager, ABB Power Grids in Ludvika and SVP for power transformers in Europe at ABB.\\n\\n\"With a dedicated network, ABB Power Grids now have access to a robust and secure infrastructure to support critical data streams between different systems in a connected factory. It is also an innovation platform to test new technologies with partners. We are now discussing how to connect more of the production in the factory to accelerate the company\\'s digital transformation,\" said Magnus Leonhardt, innovation and business director for Telia Sweden.\\n\\nErik Josefsson, Head of Advanced Industries at Ericsson, said: \"Ericsson launched a global partnership with ABB at Hannover Messe in April 2019. I am proud to see ABB Power Grids is one of the first ABB factories to go live with a private mobile network in real shop floor production, just after one year.\"\\n\\nBy deploying a dedicated network in a fully operational factory, ABB Power Grids have access to a robust and secure network solution which is required for secure data intelligence.\\n\\nThe Swedish vendor said that the Ericsson Industry 4.0 ecosystem is rapidly expanding with over 30 official device partners, nine application partners, and seven system integrators to date.\\n\\nRelated\\n\\nRelated Tags:5GABB Power GridsEricsson Previous post Zigbee and DALI to improve compatibility of smart lighting connectivity and control Next post This is the most recent story. The Author All posts Juan Pedro Tomás\\n\\nContributing Writer, EMEA & APAC\\n\\njptomas@yahoo.com\\n\\nI have a degree in International Relations and a Masters in Journalism. I have worked seven years for Business News Americas, covering telecoms and IT news in Latin American markets. I have also worked for Telecompaper as regional editor for Latin America and Asia Pacific. I have also contributed with US-based magazine Latin Trade as the publication\\'s correspondent in Argentina and with UK-based political risk consultancy firm Exclusive Analysis, writing reports and providing political and economic information from certain Latin American markets. I am married and I have two kids.\\n\\nRelated Posts BMW talks €30bn future-tech fund, new blockchain experiment, plus COVID impact / April 14, 2020 / Telenor, Sony and Ericsson team to develop smart IoT healthcare devices / April 9, 2020 / Nokia deploys private LTE at 450 MHz for Polish smart grid operator PGE Systemy / April 7, 2020 / NTT DoCoMo shuts down NB-IoT service in Japan / April 1, 2020 /', 'Home\"5G\"ABB Power Grids to use 5G-ready Ericsson Industry Connect 5GConnectivityEnterpriseNewsSmart Factory ABB Power Grids to use 5G-ready Ericsson Industry Connect Juan Pedro Tomás 2020-04-23 Juan Pedro Tomás * April 23, 2020 * 25 Share 0 FacebookTwitterLinkedinemail\\n\\nEricsson has announced that ABB Power Grids will use the 5G-ready Ericsson Industry Connect system at its transformer factory in Ludvika in Sweden, in order to increase productivity and performance.\\n\\nThis is the first commercial application of the latest version of the system at a fully operating manufacturing plant. The smart manufacturing project is a collaboration by the two companies with Nordic carrier Telia and system integrator Afry (formerly Poyry).\\n\\nABB Power Grids provides product, system, software and service solutions that are designed to meet the growing demand for electricity with minimum environmental impact. These solutions support utility, industry and transport and infrastructure customers to plan, build, operate and maintain their power infrastructure.\\n\\nInitially, the Ludvika factory is connecting essential tools such as cordless screwdrivers as part of its digitalization process. Further on, handheld computers will also be connected in order to improve connectivity quality and efficiency compared to their current solution, according to Ericsson.\\n\\nEricsson said that the project shows how ecosystem partners come together to enable digital transformation for smart manufacturing. The partners have deployed, integrated, and managed the 5G-ready dedicated cellular network to enable flexible, efficient, and improved production quality.\\n\\n\"We are reviewing remote management of different processes to improve security, efficiency, and quality aspects. Another example is the optimization and remote monitoring of our drying facilities, which operates 24/7 and requires monitoring,\" said Tobias Hansson, site manager, ABB Power Grids in Ludvika and SVP for power transformers in Europe at ABB.\\n\\n\"With a dedicated network, ABB Power Grids now have access to a robust and secure infrastructure to support critical data streams between different systems in a connected factory. It is also an innovation platform to test new technologies with partners. We are now discussing how to connect more of the production in the factory to accelerate the company\\'s digital transformation,\" said Magnus Leonhardt, innovation and business director for Telia Sweden.\\n\\nErik Josefsson, Head of Advanced Industries at Ericsson, said: \"Ericsson launched a global partnership with ABB at Hannover Messe in April 2019. I am proud to see ABB Power Grids is one of the first ABB factories to go live with a private mobile network in real shop floor production, just after one year.\"\\n\\nBy deploying a dedicated network in a fully operational factory, ABB Power Grids have access to a robust and secure network solution which is required for secure data intelligence.\\n\\nThe Swedish vendor said that the Ericsson Industry 4.0 ecosystem is rapidly expanding with over 30 official device partners, nine application partners, and seven system integrators to date.\\n\\nRelated\\n\\nRelated Tags:5GABB Power GridsEricsson Previous post Zigbee and DALI to improve compatibility of smart lighting connectivity and control Next post This is the most recent story. The Author All posts Juan Pedro Tomás\\n\\nContributing Writer, EMEA & APAC\\n\\njptomas@yahoo.com\\n\\nI have a degree in International Relations and a Masters in Journalism. I have worked seven years for Business News Americas, covering telecoms and IT news in Latin American markets. I have also worked for Telecompaper as regional editor for Latin America and Asia Pacific. I have also contributed with US-based magazine Latin Trade as the publication\\'s correspondent in Argentina and with UK-based political risk consultancy firm Exclusive Analysis, writing reports and providing political and economic information from certain Latin American markets. I am married and I have two kids.\\n\\nRelated Posts BMW talks €30bn future-tech fund, new blockchain experiment, plus COVID impact / April 14, 2020 / Telenor, Sony and Ericsson team to develop smart IoT healthcare devices / April 9, 2020 / Nokia deploys private LTE at 450 MHz for Polish smart grid operator PGE Systemy / April 7, 2020 / NTT DoCoMo shuts down NB-IoT service in Japan / April 1, 2020 /', '-- Stockholm City Center first to benefit with most of Norrmalm, Östermalm\\n\\nand Vasastan to be covered by mid-June\\n\\n-- Ericsson President and CEO, Börje Ekholm, says 5G will transform\\n\\nSwedish life, society and business for the better\\n\\n-- Initial 5G services to be enhanced following spectrum auctions later\\n\\nthis year\\n\\nKISTA, Sweden, May 25, 2020 /PRNewswire/ -- Swedish communications service provider Telia Company has launched commercial 5G in Stockholm powered by Ericsson Radio Access Network (RAN) products and solutions.Initial services on the 700Mhz band will cover most of central Stockholm by mid-June, including the Norrmalm, Östermalm and Vasastan districts.Telia aims to enhance and supplement its low-band 5G commercial services with additional nationwide 5G coverage, including mid- and high-bands, following the auction of the related spectrum by the Swedish government later this year. For this launch Telia is using its existing 700MHz spectrum, boosted by LTE and New Radio (NR) carrier aggregation.Having already partnered successfully on 5G in Sweden - including enabling the country\\'s first live 5G network at the KTH Royal Institute of Technology [https://c212.net/c/link/?t=0&l=en&o=2812505-1&h=2867019293&u=https%3A%2F%2Fwww.ericsson.com%2Fen%2Fpress-releases%2F2018%2F12%2Fswedens-first-5g-network-is-live-at-kth-royal-institute-of-technology&a=enabling+the+country%27s+first+live+5G+network+at+the+KTH+Royal+Institute+of+Technology] and partnering with Volvo to operate Sweden\\'s first industrial 5G network [https://c212.net/c/link/?t=0&l=en&o=2812505-1&h=683902477&u=https%3A%2F%2Fwww.ericsson.com%2Fen%2Fnews%2F2019%2F3%2Fvolvo-telia-ericsson-in-5g-industrial-use-case-test-in-sweden&a=partnering+with+Volvo+to+operate+Sweden%27s+first+industrial+5G+network] - Telia selected Ericsson as its 5G partner for the launch network. Earlier this month Telia\\'s sister company Telia Norway also launched its first commercial 5G services [https://c212.net/c/link/?t=0&l=en&o=2812505-1&h=1217538234&u=https%3A%2F%2Fwww.ericsson.com%2Fen%2Fnews%2F3%2F2020%2Ftelia-norway-launches-commercial-5g-powered-by-ericsson&a=Telia+Norway+also+launched+its+first+commercial+5G+services], with Ericsson as its sole 5G RAN supplier.Products and solutions from Ericson Radio System [https://c212.net/c/link/?t=0&l=en&o=2812505-1&h=197628870&u=https%3A%2F%2Fwww.ericsson.com%2Fen%2Fnetworks%2Fofferings%2F5g%2F5g-radio&a=Ericson+Radio+System] are already powering the first Telia Company Stockholm City Center 5G services and supporting commercially available Telia 5G-ready smartphones.Telia\\'s 5G network is also powered 100 percent by renewable electricity, accredited by the Swedish Environmental Protection Association\\'s Good Environmental Choice mark.Anders Ygeman, Sweden\\'s Minister of Energy and Digital Development, joined senior Telia and Ericsson executives for today\\'s launch in Stockholm.Allison Kirkby, CEO, Telia Company, says: \"Our networks have never been more important to lives and livelihoods, than now. Telia\\'s 5G launch lays the foundations for the next phase of digital transformation, with innovation, sustainability and security as three critical pillars, and we are proud to be doing this launch in partnership with Ericsson. As we roll-out 5G across Sweden, we will open up new user experiences and accelerated innovation in areas such as entertainment, healthcare, manufacturing and transport, that will collectively strengthen and protect everyone living and working in Sweden, and Swedish competitiveness in the world.\"Börje Ekholm, President and CEO, Ericsson, says: \"This is a real milestone for us as a Swedish company as we partner with Telia Company to make commercial 5G a reality for its users in Stockholm. Whether through enhanced mobile broadband or innovative new business, societal and industrial applications, 5G is set to change life and society for the better right across Sweden. We look forward to working with our strategic partner Telia Company to drive this change and ensure Sweden benefits from the competitive benefits of digitalization.\"With today\\'s launch Ericsson now has 37 live 5G networks in 22 countries. Ericsson\\'s live networks are part of the 91 commercial 5G agreements or contracts the company has with unique operators globally, of which 48 are publicly announced 5G deals.Find out more about Ericsson 5G [https://c212.net/c/link/?t=0&l=en&o=2812505-1&h=3332910863&u=https%3A%2F%2Fwww.ericsson.com%2Fen%2F5g&a=Ericsson+5G]Find out more about Ericsson Radio System [https://c212.net/c/link/?t=0&l=en&o=2812505-1&h=4001104817&u=https%3A%2F%2Fwww.ericsson.com%2Fen%2Fportfolio%2Fnetworks%2Fericsson-radio-system&a=Ericsson+Radio+System]FOLLOW US:Subscribe to Ericsson press releases here [https://c212.net/c/link/?t=0&l=en&o=2812505-1&h=3020229897&u=https%3A%2F%2Fwww.ericsson.com%2Fen%2Fnews-and-events%2Flatest-news&a=here].www.twitter.com/ericsson [https://c212.net/c/link/?t=0&l=en&o=2812505-1&h=806509265&u=http%3A%2F%2Fwww.twitter.com%2Fericsson&a=www.twitter.com%2Fericsson]www.facebook.com/ericsson [https://c212.net/c/link/?t=0&l=en&o=2812505-1&h=180040035&u=http%3A%2F%2Fwww.facebook.com%2Fericsson&a=www.facebook.com%2Fericsson]www.linkedin.com/company/ericsson [https://c212.net/c/link/?t=0&l=en&o=2812505-1&h=2752569347&u=http%3A%2F%2Fwww.linkedin.com%2Fcompany%2Fericsson&a=www.linkedin.com%2Fcompany%2Fericsson]ABOUT ERICSSON:Ericsson enables communications service providers to capture the full value of connectivity. The company\\'s portfolio spans Networks, Digital Services, Managed Services, and Emerging Business and is designed to help our customers go digital, increase efficiency and find new revenue streams. Ericsson\\'s investments in innovation have delivered the benefits of telephony and mobile broadband to billions of people around the world. The Ericsson stock is listed on Nasdaq Stockholm and on Nasdaq New York. www.ericsson.com [https://c212.net/c/link/?t=0&l=en&o=2812505-1&h=59444413&u=http%3A%2F%2Fwww.ericsson.com%2F&a=www.ericsson.com]For further information, please contact:\\n\\nEricsson Newsroom [https://c212.net/c/link/?t=0&l=en&o=2812505-1&h=1412292321&u=https%3A%2F%2Fwww.ericsson.com%2Fen%2Fnewsroom&a=Ericsson+Newsroom]media.relations@ericsson.com[mailto:media.relations@ericsson.com] (+46-10-719-69-92)investor.relations@ericsson.com[mailto:investor.relations@ericsson.com] (+46-10-719-00-00)This information was brought to you by Cision http://news.cision.com [https://c212.net/c/link/?t=0&l=en&o=2812505-1&h=1074973181&u=http%3A%2F%2Fnews.cision.com%2F&a=http%3A%2F%2Fnews.cision.com]https://news.cision.com/ericsson/r/telia-company-launches-ericsson-powered-commercial-5g-in-sweden,c3118583 [https://c212.net/c/link/?t=0&l=en&o=2812505-1&h=2533026449&u=https%3A%2F%2Fnews.cision.com%2Fericsson%2Fr%2Ftelia-company-launches-ericsson-powered-commercial-5g-in-sweden%2Cc3118583&a=https%3A%2F%2Fnews.cision.com%2Fericsson%2Fr%2Ftelia-company-launches-ericsson-powered-commercial-5g-in-sweden%2Cc3118583]The following files are available for download:\\n\\nhttps://mb.cision.com/Main/15448/3118583/1253009.pdf PDF Telia Company launches\\n\\nEricsson-powered commercial\\n\\n5G in Sweden\\n\\nhttps://news.cision.com/ericsson/i/fredrik-jejdling-executive-vp-and-head-of-networks- Fredrik Jejdling Executive VP\\n\\nericsson-allison-kirky-ceo-telia-company-anders-y,c2788444 and Head of Networks\\n\\nEricsson Allison Kirky CEO\\n\\nTelia Company Anders Ygeman\\n\\nSweden\\'s Minister of Energy\\n\\nat the 5G launch in\\n\\nStockholm.\\n\\nEricsson', '-- Stockholm City Center first to benefit with most of Norrmalm, Östermalm\\n\\nand Vasastan to be covered by mid-June\\n\\n-- Ericsson President and CEO, Börje Ekholm, says 5G will transform\\n\\nSwedish life, society and business for the better\\n\\n-- Initial 5G services to be enhanced following spectrum auctions later\\n\\nthis year\\n\\nKISTA, Sweden, May 25, 2020 /PRNewswire/ -- Swedish communications service provider Telia Company has launched commercial 5G in Stockholm powered by Ericsson Radio Access Network (RAN) products and solutions.Initial services on the 700Mhz band will cover most of central Stockholm by mid-June, including the Norrmalm, Östermalm and Vasastan districts.Telia aims to enhance and supplement its low-band 5G commercial services with additional nationwide 5G coverage, including mid- and high-bands, following the auction of the related spectrum by the Swedish government later this year. For this launch Telia is using its existing 700MHz spectrum, boosted by LTE and New Radio (NR) carrier aggregation.Having already partnered successfully on 5G in Sweden - including enabling the country\\'s first live 5G network at the KTH Royal Institute of Technology [https://c212.net/c/link/?t=0&l=en&o=2812505-1&h=2867019293&u=https%3A%2F%2Fwww.ericsson.com%2Fen%2Fpress-releases%2F2018%2F12%2Fswedens-first-5g-network-is-live-at-kth-royal-institute-of-technology&a=enabling+the+country%27s+first+live+5G+network+at+the+KTH+Royal+Institute+of+Technology] and partnering with Volvo to operate Sweden\\'s first industrial 5G network [https://c212.net/c/link/?t=0&l=en&o=2812505-1&h=683902477&u=https%3A%2F%2Fwww.ericsson.com%2Fen%2Fnews%2F2019%2F3%2Fvolvo-telia-ericsson-in-5g-industrial-use-case-test-in-sweden&a=partnering+with+Volvo+to+operate+Sweden%27s+first+industrial+5G+network] - Telia selected Ericsson as its 5G partner for the launch network. Earlier this month Telia\\'s sister company Telia Norway also launched its first commercial 5G services [https://c212.net/c/link/?t=0&l=en&o=2812505-1&h=1217538234&u=https%3A%2F%2Fwww.ericsson.com%2Fen%2Fnews%2F3%2F2020%2Ftelia-norway-launches-commercial-5g-powered-by-ericsson&a=Telia+Norway+also+launched+its+first+commercial+5G+services], with Ericsson as its sole 5G RAN supplier.Products and solutions from Ericson Radio System [https://c212.net/c/link/?t=0&l=en&o=2812505-1&h=197628870&u=https%3A%2F%2Fwww.ericsson.com%2Fen%2Fnetworks%2Fofferings%2F5g%2F5g-radio&a=Ericson+Radio+System] are already powering the first Telia Company Stockholm City Center 5G services and supporting commercially available Telia 5G-ready smartphones.Telia\\'s 5G network is also powered 100 percent by renewable electricity, accredited by the Swedish Environmental Protection Association\\'s Good Environmental Choice mark.Anders Ygeman, Sweden\\'s Minister of Energy and Digital Development, joined senior Telia and Ericsson executives for today\\'s launch in Stockholm.Allison Kirkby, CEO, Telia Company, says: \"Our networks have never been more important to lives and livelihoods, than now. Telia\\'s 5G launch lays the foundations for the next phase of digital transformation, with innovation, sustainability and security as three critical pillars, and we are proud to be doing this launch in partnership with Ericsson. As we roll-out 5G across Sweden, we will open up new user experiences and accelerated innovation in areas such as entertainment, healthcare, manufacturing and transport, that will collectively strengthen and protect everyone living and working in Sweden, and Swedish competitiveness in the world.\"Börje Ekholm, President and CEO, Ericsson, says: \"This is a real milestone for us as a Swedish company as we partner with Telia Company to make commercial 5G a reality for its users in Stockholm. Whether through enhanced mobile broadband or innovative new business, societal and industrial applications, 5G is set to change life and society for the better right across Sweden. We look forward to working with our strategic partner Telia Company to drive this change and ensure Sweden benefits from the competitive benefits of digitalization.\"With today\\'s launch Ericsson now has 37 live 5G networks in 22 countries. Ericsson\\'s live networks are part of the 91 commercial 5G agreements or contracts the company has with unique operators globally, of which 48 are publicly announced 5G deals.Find out more about Ericsson 5G [https://c212.net/c/link/?t=0&l=en&o=2812505-1&h=3332910863&u=https%3A%2F%2Fwww.ericsson.com%2Fen%2F5g&a=Ericsson+5G]Find out more about Ericsson Radio System [https://c212.net/c/link/?t=0&l=en&o=2812505-1&h=4001104817&u=https%3A%2F%2Fwww.ericsson.com%2Fen%2Fportfolio%2Fnetworks%2Fericsson-radio-system&a=Ericsson+Radio+System]FOLLOW US:Subscribe to Ericsson press releases here [https://c212.net/c/link/?t=0&l=en&o=2812505-1&h=3020229897&u=https%3A%2F%2Fwww.ericsson.com%2Fen%2Fnews-and-events%2Flatest-news&a=here].www.twitter.com/ericsson [https://c212.net/c/link/?t=0&l=en&o=2812505-1&h=806509265&u=http%3A%2F%2Fwww.twitter.com%2Fericsson&a=www.twitter.com%2Fericsson]www.facebook.com/ericsson [https://c212.net/c/link/?t=0&l=en&o=2812505-1&h=180040035&u=http%3A%2F%2Fwww.facebook.com%2Fericsson&a=www.facebook.com%2Fericsson]www.linkedin.com/company/ericsson [https://c212.net/c/link/?t=0&l=en&o=2812505-1&h=2752569347&u=http%3A%2F%2Fwww.linkedin.com%2Fcompany%2Fericsson&a=www.linkedin.com%2Fcompany%2Fericsson]ABOUT ERICSSON:Ericsson enables communications service providers to capture the full value of connectivity. The company\\'s portfolio spans Networks, Digital Services, Managed Services, and Emerging Business and is designed to help our customers go digital, increase efficiency and find new revenue streams. Ericsson\\'s investments in innovation have delivered the benefits of telephony and mobile broadband to billions of people around the world. The Ericsson stock is listed on Nasdaq Stockholm and on Nasdaq New York. www.ericsson.com [https://c212.net/c/link/?t=0&l=en&o=2812505-1&h=59444413&u=http%3A%2F%2Fwww.ericsson.com%2F&a=www.ericsson.com]For further information, please contact:\\n\\nEricsson Newsroom [https://c212.net/c/link/?t=0&l=en&o=2812505-1&h=1412292321&u=https%3A%2F%2Fwww.ericsson.com%2Fen%2Fnewsroom&a=Ericsson+Newsroom]media.relations@ericsson.com[mailto:media.relations@ericsson.com] (+46-10-719-69-92)investor.relations@ericsson.com[mailto:investor.relations@ericsson.com] (+46-10-719-00-00)This information was brought to you by Cision http://news.cision.com [https://c212.net/c/link/?t=0&l=en&o=2812505-1&h=1074973181&u=http%3A%2F%2Fnews.cision.com%2F&a=http%3A%2F%2Fnews.cision.com]https://news.cision.com/ericsson/r/telia-company-launches-ericsson-powered-commercial-5g-in-sweden,c3118583 [https://c212.net/c/link/?t=0&l=en&o=2812505-1&h=2533026449&u=https%3A%2F%2Fnews.cision.com%2Fericsson%2Fr%2Ftelia-company-launches-ericsson-powered-commercial-5g-in-sweden%2Cc3118583&a=https%3A%2F%2Fnews.cision.com%2Fericsson%2Fr%2Ftelia-company-launches-ericsson-powered-commercial-5g-in-sweden%2Cc3118583]The following files are available for download:\\n\\nhttps://mb.cision.com/Main/15448/3118583/1253009.pdf PDF Telia Company launches\\n\\nEricsson-powered commercial\\n\\n5G in Sweden\\n\\nhttps://news.cision.com/ericsson/i/fredrik-jejdling-executive-vp-and-head-of-networks- Fredrik Jejdling Executive VP\\n\\nericsson-allison-kirky-ceo-telia-company-anders-y,c2788444 and Head of Networks\\n\\nEricsson Allison Kirky CEO\\n\\nTelia Company Anders Ygeman\\n\\nSweden\\'s Minister of Energy\\n\\nat the 5G launch in\\n\\nStockholm.\\n\\nEricsson', 'As with virtually all gatherings of the climate community during the COVID age, this year’s Climate Week was convened as an online event — one hosted from more than 20 countries across myriad time zones rather than its usual host city of New York.\\xa0\\n\\nInstead of running between Manhattan locations, attendees platform-hopped among more than 450 presentations, panels, screenings and other events, including those hosted by the World Economic Forum and the United Nations, while iconic structures such as the Empire State Building turned their lights green to recognize the urgency of the climate crisis.\\n\\nAs is their wont, many companies used the occasion to proclaim updated commitments — the buzzword du la semaine was \"net-zero\" withWalmart declaring a zero-emissions target by 2040 along with a big clean fleet promise and a pledge to \"protect, manage or restore\" at least 50 million acres of land and 1 million square miles of ocean by 2030. GE made headlines with its decision to stop making equipment for new coal-fired power plants to focus on its renewables business (although it doesn’t say anything about fixing the old ones).\\xa0\\n\\nMore than 1,500 companies are committed to net-zero emissions, triple the number that had made those pledges by the end of 2019. Morgan Stanley offered its own twist with a promise to reach \"net-zero financed emissions\" by the critical 2050 timeframe. The intention is to align its portfolio with the goals of the Paris Agreement. (Morgan Stanley, along with Bank of America and Citigroup, has agreed to deeper disclosure.) In other words, stop financing the emitting stuff, as it has been criticized for in the past.\\n\\nThe biggest national-level news of the week came out of the United Nations General Assembly, where Chinese President Xi Jinping announced that the country aims to achieve carbon neutrality before 2060. Given the country’s status as the world’s largest emitter, the development is essential for progress against climate change.\\xa0\\n\\nWhile words aren’t action, the commitment stands in sharp contrast with the extensive environmental protection rollbacks adopted by the Trump administration, which has announced its plan to pull out of the Paris climate accord.\\n\\nAt the state level, California Gov. Gavin Newsom put the transportation industry on noticewith his executive order banning new gasoline-powered vehicles after 2035. Newsom also was named to a two-year term as co-chair of the Under2 Coalition, a network of states and regions looking to integrate the Paris Agreement goals with a mind to social justice.\\xa0\\n\\nOn the other side of the U.S., New York Gov. Andrew Cuomo finalized a ban on hydrofluorocarbons, a superpollutant found in refrigerators, air conditioners and other cooling equipment.\\n\\nAnd the mayors of 12 cities — representing 36 million residents — announcedtheir plansto divest from fossil fuels. Among the signatories to the C40 campaign: Berlin, Bristol, Cape Town, Durban, London, Los Angeles, Milan, New Orleans, New York City, Oslo, Pittsburgh and Vancouver.\\n\\nThroughout the week the heightened attention to supporting nature and biodiversity and to going beyond carbon emissions reductions was also a frequent theme — with a particular focus on the role of science-based targets in driving corporate action.\\xa0\\n\\nThe Science Based Targets Network has created new guidancefor companies interested in setting goals for land and freshwater use, biodiversity or ecosystem impacts using science-based principles, as many are doing to set emissions reduction targets.\\xa0\\n\\n\"The best companies in the world are no longer satisfied with ‘doing better’,\" said Andrew Steer, president and CEO of World Resources Institute, in a statement. \"They insist on ‘doing enough’. That’s what science-based targets provide them.\"\\n\\nWondering what you missed from your home office? Below is a curated list of notable corporate commitments and campaign updates that emerged during Climate Week.\\xa0\\n\\nAccounting bigwigs suggest ‘universal’ ESG metrics\\n\\nFour iconic accounting firms — Deloitte, EY, KPMG and PwC \\xa0— teamed up with Bank of America to develop and release a set of standard metrics and disclosure frameworks that companies can use to report on environmental, social and governance (ESG) issues.\\xa0\\n\\nThe new guidance, released by the World Economic Forum as part of the Sustainable Development Impact Summit, focuses on four pillars:\\n\\nAmazon signs more Climate Pledgers, curates sustainable products shopping site\\n\\nFive more companies have signed the Climate Pledge, an initiative orchestrated by Amazon and Global Optimism: retailer Best Buy; engineering firm McKinstry; professional sports club Real Betis; energy firm Schneider Electric; and manufacturer Siemens.\\n\\nThis gesture commits them to reaching a net-zero carbon footprint by 2040, one decade before the deadline for the Paris Agreement.\\xa0\\n\\nThe mighty e-commerce retailer also created a new \"Climate Pledge Friendly\" shopping section on Amazon.com dedicated to showcasing consumer products that hold one or more of 19 sustainability certifications such as Cradle to Cradle, Energy Star and Fairtrade.\\xa0\\n\\nThe focus is on grocery, household, fashion, beauty and consumer electronics options — and some initial brands showcased are Burt’s Bees Baby, HP Inc. and Seventh Generation. Amazon also created its own externally validated certification, Compact by Design, which will recognize products designed to require less packaging, which makes them more efficient to ship.\\xa0\\n\\nJenny Ahlen, director of EDF+Business, praised Amazon’s new strategy but said it doesn’t go far enough.\\n\\n\"Certifications are a good starting point for companies to help shoppers make more informed and sustainable choices,\" she wrote in a blog about the announcement. \"But to truly make progress on creating safer, more sustainable products, retailers — Amazon included — need to work with their suppliers to improve the quality of all the products they sell and share that information with shoppers. Calling out a small portion of products that have met environmental standards isn’t enough.\"\\xa0\\n\\nClimate Group tallies up more members for RE100, EP100\\xa0\\n\\nBeverage and snack company PepsiCo set a new global targetto source 100 percent of its electricity for company-owned and controlled operations using renewable power by 2030, and across its entire franchise by 2040. (It expects to reach this goal for its U.S. operations by the end of this year.) This move could result in the equivalent of removing 2.5 million metric tons of greenhouse gas emissions.\\n\\nMeanwhile, pharmaceutical company AstraZeneca amped up its renewable energy with a deeper commitment to addressing industrial heat by joining the Renewable Thermal Collaborative, dedicated to decarbonizing tough-to-abate manufacturing and production processes. Currently, 13 percent of AstraZeneca’s power load comes from combined heat and power, and the company has committed to identifying renewable alternatives by 2025.\\n\\nTwo energy-centric campaigns managed by the Climate Group welcomed new members this week. The EP100 initiative, which encourages companies to commit to higher levels of productivity and revenue while using less energy, has more than 100 members, with Japan’s Daito Trust Construction among the latest joiners. The RE100, which represents more than 260 companies committed to using 100 percent renewable power, added new signatories including Intel, ASICS (the apparel company), pharma firm Sanofi and manufacturers SKF and VELUX.\\xa0\\n\\nFormidable food purveyors forsake food waste\\n\\nA group of powerful food retailers including Kroger, Tesco and Walmart and food service company Sodexo created the \"10x20x30\"\\xa0initiative, which commits them to convincing at least 10 of their suppliers to halving food waste and loss by 2030.\\n\\nThe effort is part of Champions 12.3, a group focused on addressing the challenge of United Nations Sustainable Development Goal 12.3, which calls for a 50 percent reduction in food loss and waste by the end of this decade.\\xa0\\n\\nOne exampleof the actions we might see as a result is Walmart’s move to source cucumbers that use a coating provided by startup Apeel that extends their shelf life through a natural coating that extends shelf life.\\n\\n\"Cutting food loss and waste in half\\xa0 — from farm to fork — by 2030 will require ambitious, collection action,\" said Jane Ewing, senior vice president of sustainability for Walmart, in a statement. \"The 10x20x30 initiative is accelerating progress by aligning and training shareholders across the industry on how to dramatically reduce food waste.\"\\n\\nIKEA, Unilever, others bring 1.5 Celsius mindset to supply chains\\n\\nThe Exponential Roadmap Initiative in Stockholm launched the 1.5 Degrees Supply Chain Leaders initiative, a group of multinational companies that have set targets to halve their absolute GHG emissions by 2030 and reach net-zero emissions across their supply chains by 2050 — in line with the ambitions of the Paris Agreement.\\n\\nInitial supporters include BT Group, Ericsson, IKEA, Telia and Unilever. Among the commitments is making climate-related targets and performance a “key supplier purchasing criteria” by this time next year.\\xa0\\n\\n\"To tackle the climate challenge, it is not enough for us to collaborate with the big global suppliers,\" said Mikko Kuusisto, senior director of strategic sourcing for Telia, in a statement. \"We need to engage also with the smaller, more local and often nonlisted companies to get them to commit to halving their emissions by 2030.\"\\n\\nTo help facilitate that transition, the Exponential Roadmap Initiative teamed up with the International Chamber of Commerce, the We Mean Business coalition and the United Nations Race to Zero Campaign to create the SME Climate Hub. The website will provide a set of resources intended to help smaller suppliers take these steps, including measurement tools, best practices frameworks and services.\\xa0\\n\\nMars, Carrefour giants cultivate new coalition for forests\\n\\nThe Forest Positive Coalition of Action, which includes close to 20 companies with a collective market value of $1.8 trillion, is a CEO-level group under the umbrella of the Consumer Goods Forum (CGF) vowing to address key commodity supply chains that often contribute to deforestation.\\n\\nAmong the actions they are advocating include joining forces for forest conservation in \"key production landscapes,\" policy initiatives and regular reporting.\\xa0\\n\\nAside from sponsors Mars and Carrefour, the list of participants includes Colgate-Palmolive, Danone, Danone, Essity, General Mills, Grupo Bimbo, Jerónimo Martins, METRO AG, Mondelēz, Nestlé, Procter & Gamble, PepsiCo, Sainsbury\\'s, Tesco, Unilever and Walmart.\\n\\nThe launch was greeted with skepticism by environmental NGOs including the Rainforest Action Network (RAN), SumofUs, Friends of the Earth U.S. and Amazon Watch, which notes that the involved companies so far have fallen short on deforestation commitments and on protecting the rights of Indigenous people.\\n\\n\"We’ve see 10 years of inaction, half-measures and greenwashing from the CGF, while human rights defenders and frontline communities have been putting their lives on the line to defend forests from rampant corporate expansion,\" said Brihannala Morgan, senior forest campaigner at RAN, in a statement.\\n\\nMicrosoft shares ‘positive’ vibes for water\\n\\nBuilding on its \"carbon negative\" pledge in January, a goal that will see it remove more carbon dioxide from the atmosphere than it historically has emitted, Microsoft is applying that same mindset to its water strategy. Only in reverse.\\n\\nIts new commitment will see it reduce the per-megawatt consumption of water related to the energy that powers its operations and also focus on water replenishment in 40 \"stressed\" regions in which it operates. The goal is to replenish more water than it uses by 2030. That will inspire measures such as:\\n\\nIt’s worth noting that Microsoft’s new strategy prioritizes not just availability but also accessibility, the issue of safe drinking water and sanitation.\\n\\nWere there other announcements this week? Sure, and I\\'m also sure I\\'ll get plenty of emails about what I \"missed.\" While I am grateful for every company that commits to taking practical, meaningful, un-greenwashed action, the common thread of the visions advanced above is that they set the bar higher — even if just a little bit. That\\'s what we need to move entire industries to support taking action on the climate crisis.', 'As with virtually all gatherings of the climate community during the COVID age, this year’s Climate Week was convened as an online event — one hosted from more than 20 countries across myriad time zones rather than its usual host city of New York.\\xa0\\n\\nInstead of running between Manhattan locations, attendees platform-hopped among more than 450 presentations, panels, screenings and other events, including those hosted by the World Economic Forum and the United Nations, while iconic structures such as the Empire State Building turned their lights green to recognize the urgency of the climate crisis.\\n\\nAs is their wont, many companies used the occasion to proclaim updated commitments — the buzzword du la semaine was \"net-zero\" withWalmart declaring a zero-emissions target by 2040 along with a big clean fleet promise and a pledge to \"protect, manage or restore\" at least 50 million acres of land and 1 million square miles of ocean by 2030. GE made headlines with its decision to stop making equipment for new coal-fired power plants to focus on its renewables business (although it doesn’t say anything about fixing the old ones).\\xa0\\n\\nMore than 1,500 companies are committed to net-zero emissions, triple the number that had made those pledges by the end of 2019. Morgan Stanley offered its own twist with a promise to reach \"net-zero financed emissions\" by the critical 2050 timeframe. The intention is to align its portfolio with the goals of the Paris Agreement. (Morgan Stanley, along with Bank of America and Citigroup, has agreed to deeper disclosure.) In other words, stop financing the emitting stuff, as it has been criticized for in the past.\\n\\nThe biggest national-level news of the week came out of the United Nations General Assembly, where Chinese President Xi Jinping announced that the country aims to achieve carbon neutrality before 2060. Given the country’s status as the world’s largest emitter, the development is essential for progress against climate change.\\xa0\\n\\nWhile words aren’t action, the commitment stands in sharp contrast with the extensive environmental protection rollbacks adopted by the Trump administration, which has announced its plan to pull out of the Paris climate accord.\\n\\nAt the state level, California Gov. Gavin Newsom put the transportation industry on noticewith his executive order banning new gasoline-powered vehicles after 2035. Newsom also was named to a two-year term as co-chair of the Under2 Coalition, a network of states and regions looking to integrate the Paris Agreement goals with a mind to social justice.\\xa0\\n\\nOn the other side of the U.S., New York Gov. Andrew Cuomo finalized a ban on hydrofluorocarbons, a superpollutant found in refrigerators, air conditioners and other cooling equipment.\\n\\nAnd the mayors of 12 cities — representing 36 million residents — announcedtheir plansto divest from fossil fuels. Among the signatories to the C40 campaign: Berlin, Bristol, Cape Town, Durban, London, Los Angeles, Milan, New Orleans, New York City, Oslo, Pittsburgh and Vancouver.\\n\\nThroughout the week the heightened attention to supporting nature and biodiversity and to going beyond carbon emissions reductions was also a frequent theme — with a particular focus on the role of science-based targets in driving corporate action.\\xa0\\n\\nThe Science Based Targets Network has created new guidancefor companies interested in setting goals for land and freshwater use, biodiversity or ecosystem impacts using science-based principles, as many are doing to set emissions reduction targets.\\xa0\\n\\n\"The best companies in the world are no longer satisfied with ‘doing better’,\" said Andrew Steer, president and CEO of World Resources Institute, in a statement. \"They insist on ‘doing enough’. That’s what science-based targets provide them.\"\\n\\nWondering what you missed from your home office? Below is a curated list of notable corporate commitments and campaign updates that emerged during Climate Week.\\xa0\\n\\nAccounting bigwigs suggest ‘universal’ ESG metrics\\n\\nFour iconic accounting firms — Deloitte, EY, KPMG and PwC \\xa0— teamed up with Bank of America to develop and release a set of standard metrics and disclosure frameworks that companies can use to report on environmental, social and governance (ESG) issues.\\xa0\\n\\nThe new guidance, released by the World Economic Forum as part of the Sustainable Development Impact Summit, focuses on four pillars:\\n\\nAmazon signs more Climate Pledgers, curates sustainable products shopping site\\n\\nFive more companies have signed the Climate Pledge, an initiative orchestrated by Amazon and Global Optimism: retailer Best Buy; engineering firm McKinstry; professional sports club Real Betis; energy firm Schneider Electric; and manufacturer Siemens.\\n\\nThis gesture commits them to reaching a net-zero carbon footprint by 2040, one decade before the deadline for the Paris Agreement.\\xa0\\n\\nThe mighty e-commerce retailer also created a new \"Climate Pledge Friendly\" shopping section on Amazon.com dedicated to showcasing consumer products that hold one or more of 19 sustainability certifications such as Cradle to Cradle, Energy Star and Fairtrade.\\xa0\\n\\nThe focus is on grocery, household, fashion, beauty and consumer electronics options — and some initial brands showcased are Burt’s Bees Baby, HP Inc. and Seventh Generation. Amazon also created its own externally validated certification, Compact by Design, which will recognize products designed to require less packaging, which makes them more efficient to ship.\\xa0\\n\\nJenny Ahlen, director of EDF+Business, praised Amazon’s new strategy but said it doesn’t go far enough.\\n\\n\"Certifications are a good starting point for companies to help shoppers make more informed and sustainable choices,\" she wrote in a blog about the announcement. \"But to truly make progress on creating safer, more sustainable products, retailers — Amazon included — need to work with their suppliers to improve the quality of all the products they sell and share that information with shoppers. Calling out a small portion of products that have met environmental standards isn’t enough.\"\\xa0\\n\\nClimate Group tallies up more members for RE100, EP100\\xa0\\n\\nBeverage and snack company PepsiCo set a new global targetto source 100 percent of its electricity for company-owned and controlled operations using renewable power by 2030, and across its entire franchise by 2040. (It expects to reach this goal for its U.S. operations by the end of this year.) This move could result in the equivalent of removing 2.5 million metric tons of greenhouse gas emissions.\\n\\nMeanwhile, pharmaceutical company AstraZeneca amped up its renewable energy with a deeper commitment to addressing industrial heat by joining the Renewable Thermal Collaborative, dedicated to decarbonizing tough-to-abate manufacturing and production processes. Currently, 13 percent of AstraZeneca’s power load comes from combined heat and power, and the company has committed to identifying renewable alternatives by 2025.\\n\\nTwo energy-centric campaigns managed by the Climate Group welcomed new members this week. The EP100 initiative, which encourages companies to commit to higher levels of productivity and revenue while using less energy, has more than 100 members, with Japan’s Daito Trust Construction among the latest joiners. The RE100, which represents more than 260 companies committed to using 100 percent renewable power, added new signatories including Intel, ASICS (the apparel company), pharma firm Sanofi and manufacturers SKF and VELUX.\\xa0\\n\\nFormidable food purveyors forsake food waste\\n\\nA group of powerful food retailers including Kroger, Tesco and Walmart and food service company Sodexo created the \"10x20x30\"\\xa0initiative, which commits them to convincing at least 10 of their suppliers to halving food waste and loss by 2030.\\n\\nThe effort is part of Champions 12.3, a group focused on addressing the challenge of United Nations Sustainable Development Goal 12.3, which calls for a 50 percent reduction in food loss and waste by the end of this decade.\\xa0\\n\\nOne exampleof the actions we might see as a result is Walmart’s move to source cucumbers that use a coating provided by startup Apeel that extends their shelf life through a natural coating that extends shelf life.\\n\\n\"Cutting food loss and waste in half\\xa0 — from farm to fork — by 2030 will require ambitious, collection action,\" said Jane Ewing, senior vice president of sustainability for Walmart, in a statement. \"The 10x20x30 initiative is accelerating progress by aligning and training shareholders across the industry on how to dramatically reduce food waste.\"\\n\\nIKEA, Unilever, others bring 1.5 Celsius mindset to supply chains\\n\\nThe Exponential Roadmap Initiative in Stockholm launched the 1.5 Degrees Supply Chain Leaders initiative, a group of multinational companies that have set targets to halve their absolute GHG emissions by 2030 and reach net-zero emissions across their supply chains by 2050 — in line with the ambitions of the Paris Agreement.\\n\\nInitial supporters include BT Group, Ericsson, IKEA, Telia and Unilever. Among the commitments is making climate-related targets and performance a “key supplier purchasing criteria” by this time next year.\\xa0\\n\\n\"To tackle the climate challenge, it is not enough for us to collaborate with the big global suppliers,\" said Mikko Kuusisto, senior director of strategic sourcing for Telia, in a statement. \"We need to engage also with the smaller, more local and often nonlisted companies to get them to commit to halving their emissions by 2030.\"\\n\\nTo help facilitate that transition, the Exponential Roadmap Initiative teamed up with the International Chamber of Commerce, the We Mean Business coalition and the United Nations Race to Zero Campaign to create the SME Climate Hub. The website will provide a set of resources intended to help smaller suppliers take these steps, including measurement tools, best practices frameworks and services.\\xa0\\n\\nMars, Carrefour giants cultivate new coalition for forests\\n\\nThe Forest Positive Coalition of Action, which includes close to 20 companies with a collective market value of $1.8 trillion, is a CEO-level group under the umbrella of the Consumer Goods Forum (CGF) vowing to address key commodity supply chains that often contribute to deforestation.\\n\\nAmong the actions they are advocating include joining forces for forest conservation in \"key production landscapes,\" policy initiatives and regular reporting.\\xa0\\n\\nAside from sponsors Mars and Carrefour, the list of participants includes Colgate-Palmolive, Danone, Danone, Essity, General Mills, Grupo Bimbo, Jerónimo Martins, METRO AG, Mondelēz, Nestlé, Procter & Gamble, PepsiCo, Sainsbury\\'s, Tesco, Unilever and Walmart.\\n\\nThe launch was greeted with skepticism by environmental NGOs including the Rainforest Action Network (RAN), SumofUs, Friends of the Earth U.S. and Amazon Watch, which notes that the involved companies so far have fallen short on deforestation commitments and on protecting the rights of Indigenous people.\\n\\n\"We’ve see 10 years of inaction, half-measures and greenwashing from the CGF, while human rights defenders and frontline communities have been putting their lives on the line to defend forests from rampant corporate expansion,\" said Brihannala Morgan, senior forest campaigner at RAN, in a statement.\\n\\nMicrosoft shares ‘positive’ vibes for water\\n\\nBuilding on its \"carbon negative\" pledge in January, a goal that will see it remove more carbon dioxide from the atmosphere than it historically has emitted, Microsoft is applying that same mindset to its water strategy. Only in reverse.\\n\\nIts new commitment will see it reduce the per-megawatt consumption of water related to the energy that powers its operations and also focus on water replenishment in 40 \"stressed\" regions in which it operates. The goal is to replenish more water than it uses by 2030. That will inspire measures such as:\\n\\nIt’s worth noting that Microsoft’s new strategy prioritizes not just availability but also accessibility, the issue of safe drinking water and sanitation.\\n\\nWere there other announcements this week? Sure, and I\\'m also sure I\\'ll get plenty of emails about what I \"missed.\" While I am grateful for every company that commits to taking practical, meaningful, un-greenwashed action, the common thread of the visions advanced above is that they set the bar higher — even if just a little bit. That\\'s what we need to move entire industries to support taking action on the climate crisis.', \"Telia in Lithuania has entered into a strategic partnership with Ericsson to modernize its mobile network and rollout of 5G across the country. The five-year partnership agreement with Ericsson will deliver better digital experiences to customers and society and pave the way for more sustainable and efficient network operations.\\n\\n'The partnership between the two of Swedish wireless pioneers - Telia and Ericsson - will allow us to provide our customers with the state-of-the-art mobile connectivity and will drive faster development of sustainable digital society. Updated 4G networks and the upcoming 5G technology will deliver both people and businesses with a qualitative leap in several areas - from education, healthcare to transport and leisure' says Dan Strömberg, CEO of Telia in Lithuania and the Head of LED.\\n\\nEricsson will be the sole partner to deliver radio access network technology (RAN) in Lithuania. Over the next three years, Telia plans to upgrade around 2,000 sites in Lithuania, phasing out equipment from Huawei starting next year. This will further improve the current quality of 4G networks and ensure a fast upgrade to 5G, which will eventually be available throughout Lithuania. Telia aims to start offering commercial 5G mobile services in Lithuania as soon as possible, pending a coming spectrum auction to be announced by the Communications Regulatory Authority (RRT).\\n\\nJenny Lindqvist, Head of Northern and Central Europe, Ericsson, says: 'We are excited to further strengthen our partnership with Telia, to power enhanced 4G and next-generation 5G to their customers in Lithuania. 5G is a catalyst for digital innovation, transforming business and industry and giving the Lithuanian economy the boost it needs during uncertain times. Driving a more resilient, smarter and sustainable society, we are working with Telia to bring 5G to the Baltics and Nordics alike.'\\n\\nThe Telia 5G network, built in partnership with Ericsson, will be up to five times more energy efficient than previous generations, and will be powered by 100 percent renewable electricity, which is of particular importance considering the constant growth of data and Telia's goal to achieve zero CO2 in its operations by 2030.\\n\\nTelia Company introduced its first public 5G network in Finland in 2019, followed by launches in Norway and Sweden. Last month, Telia Company also announced a strategic partnership with Ericsson in Sweden and Estonia to modernize its 4G networks and upgrade them to 5G.\\n\\nAttachments\\n\\nOriginal document Permalink\\n\\nDisclaimer\\n\\nTelia Lietuva AB published this content on 03 November 2020 and is solely responsible for the information contained therein. Distributed by Public, unedited and unaltered, on 03 November 2020 08:14:04 UTC\", \"Telia in Lithuania has entered into a strategic partnership with Ericsson to modernize its mobile network and rollout of 5G across the country. The five-year partnership agreement with Ericsson will deliver better digital experiences to customers and society and pave the way for more sustainable and efficient network operations.\\n\\n'The partnership between the two of Swedish wireless pioneers - Telia and Ericsson - will allow us to provide our customers with the state-of-the-art mobile connectivity and will drive faster development of sustainable digital society. Updated 4G networks and the upcoming 5G technology will deliver both people and businesses with a qualitative leap in several areas - from education, healthcare to transport and leisure' says Dan Strömberg, CEO of Telia in Lithuania and the Head of LED.\\n\\nEricsson will be the sole partner to deliver radio access network technology (RAN) in Lithuania. Over the next three years, Telia plans to upgrade around 2,000 sites in Lithuania, phasing out equipment from Huawei starting next year. This will further improve the current quality of 4G networks and ensure a fast upgrade to 5G, which will eventually be available throughout Lithuania. Telia aims to start offering commercial 5G mobile services in Lithuania as soon as possible, pending a coming spectrum auction to be announced by the Communications Regulatory Authority (RRT).\\n\\nJenny Lindqvist, Head of Northern and Central Europe, Ericsson, says: 'We are excited to further strengthen our partnership with Telia, to power enhanced 4G and next-generation 5G to their customers in Lithuania. 5G is a catalyst for digital innovation, transforming business and industry and giving the Lithuanian economy the boost it needs during uncertain times. Driving a more resilient, smarter and sustainable society, we are working with Telia to bring 5G to the Baltics and Nordics alike.'\\n\\nThe Telia 5G network, built in partnership with Ericsson, will be up to five times more energy efficient than previous generations, and will be powered by 100 percent renewable electricity, which is of particular importance considering the constant growth of data and Telia's goal to achieve zero CO2 in its operations by 2030.\\n\\nTelia Company introduced its first public 5G network in Finland in 2019, followed by launches in Norway and Sweden. Last month, Telia Company also announced a strategic partnership with Ericsson in Sweden and Estonia to modernize its 4G networks and upgrade them to 5G.\\n\\nAttachments\\n\\nOriginal document Permalink\\n\\nDisclaimer\\n\\nTelia Lietuva AB published this content on 03 November 2020 and is solely responsible for the information contained therein. Distributed by Public, unedited and unaltered, on 03 November 2020 08:14:04 UTC\", \"Telia in Lithuania has entered into a strategic partnership with Ericsson to modernize its mobile network and rollout of 5G across the country. The five-year partnership agreement with Ericsson will deliver better digital experiences to customers and society and pave the way for more sustainable and efficient network operations.\\n\\n'The partnership between the two of Swedish wireless pioneers - Telia and Ericsson - will allow us to provide our customers with the state-of-the-art mobile connectivity and will drive faster development of sustainable digital society. Updated 4G networks and the upcoming 5G technology will deliver both people and businesses with a qualitative leap in several areas - from education, healthcare to transport and leisure' says Dan Strömberg, CEO of Telia in Lithuania and the Head of LED.\\n\\nEricsson will be the sole partner to deliver radio access network technology (RAN) in Lithuania. Over the next three years, Telia plans to upgrade around 2,000 sites in Lithuania, phasing out equipment from Huawei starting next year. This will further improve the current quality of 4G networks and ensure a fast upgrade to 5G, which will eventually be available throughout Lithuania. Telia aims to start offering commercial 5G mobile services in Lithuania as soon as possible, pending a coming spectrum auction to be announced by the Communications Regulatory Authority (RRT).\\n\\nJenny Lindqvist, Head of Northern and Central Europe, Ericsson, says: 'We are excited to further strengthen our partnership with Telia, to power enhanced 4G and next-generation 5G to their customers in Lithuania. 5G is a catalyst for digital innovation, transforming business and industry and giving the Lithuanian economy the boost it needs during uncertain times. Driving a more resilient, smarter and sustainable society, we are working with Telia to bring 5G to the Baltics and Nordics alike.'\\n\\nThe Telia 5G network, built in partnership with Ericsson, will be up to five times more energy efficient than previous generations, and will be powered by 100 percent renewable electricity, which is of particular importance considering the constant growth of data and Telia's goal to achieve zero CO2 in its operations by 2030.\\n\\nTelia Company introduced its first public 5G network in Finland in 2019, followed by launches in Norway and Sweden. Last month, Telia Company also announced a strategic partnership with Ericsson in Sweden and Estonia to modernize its 4G networks and upgrade them to 5G.\\n\\nAttachments\\n\\nOriginal document Permalink\\n\\nDisclaimer\\n\\nTelia Lietuva AB published this content on 03 November 2020 and is solely responsible for the information contained therein. Distributed by Public, unedited and unaltered, on 03 November 2020 08:14:04 UTC\", \"Telia in Lithuania has entered into a strategic partnership with Ericsson to modernize its mobile network and rollout of 5G across the country. The five-year partnership agreement with Ericsson will deliver better digital experiences to customers and society and pave the way for more sustainable and efficient network operations.\\n\\n'The partnership between the two of Swedish wireless pioneers - Telia and Ericsson - will allow us to provide our customers with the state-of-the-art mobile connectivity and will drive faster development of sustainable digital society. Updated 4G networks and the upcoming 5G technology will deliver both people and businesses with a qualitative leap in several areas - from education, healthcare to transport and leisure' says Dan Strömberg, CEO of Telia in Lithuania and the Head of LED.\\n\\nEricsson will be the sole partner to deliver radio access network technology (RAN) in Lithuania. Over the next three years, Telia plans to upgrade around 2,000 sites in Lithuania, phasing out equipment from Huawei starting next year. This will further improve the current quality of 4G networks and ensure a fast upgrade to 5G, which will eventually be available throughout Lithuania. Telia aims to start offering commercial 5G mobile services in Lithuania as soon as possible, pending a coming spectrum auction to be announced by the Communications Regulatory Authority (RRT).\\n\\nJenny Lindqvist, Head of Northern and Central Europe, Ericsson, says: 'We are excited to further strengthen our partnership with Telia, to power enhanced 4G and next-generation 5G to their customers in Lithuania. 5G is a catalyst for digital innovation, transforming business and industry and giving the Lithuanian economy the boost it needs during uncertain times. Driving a more resilient, smarter and sustainable society, we are working with Telia to bring 5G to the Baltics and Nordics alike.'\\n\\nThe Telia 5G network, built in partnership with Ericsson, will be up to five times more energy efficient than previous generations, and will be powered by 100 percent renewable electricity, which is of particular importance considering the constant growth of data and Telia's goal to achieve zero CO2 in its operations by 2030.\\n\\nTelia Company introduced its first public 5G network in Finland in 2019, followed by launches in Norway and Sweden. Last month, Telia Company also announced a strategic partnership with Ericsson in Sweden and Estonia to modernize its 4G networks and upgrade them to 5G.\\n\\nAttachments\\n\\nOriginal document Permalink\\n\\nDisclaimer\\n\\nTelia Lietuva AB published this content on 03 November 2020 and is solely responsible for the information contained therein. Distributed by Public, unedited and unaltered, on 03 November 2020 08:14:04 UTC\", \"Telia in Lithuania has entered into a strategic partnership with Ericsson to modernize its mobile network and rollout of 5G across the country. The five-year partnership agreement with Ericsson will deliver better digital experiences to customers and society and pave the way for more sustainable and efficient network operations.\\n\\n'The partnership between the two of Swedish wireless pioneers - Telia and Ericsson - will allow us to provide our customers with the state-of-the-art mobile connectivity and will drive faster development of sustainable digital society. Updated 4G networks and the upcoming 5G technology will deliver both people and businesses with a qualitative leap in several areas - from education, healthcare to transport and leisure' says Dan Strömberg, CEO of Telia in Lithuania and the Head of LED.\\n\\nEricsson will be the sole partner to deliver radio access network technology (RAN) in Lithuania. Over the next three years, Telia plans to upgrade around 2,000 sites in Lithuania, phasing out equipment from Huawei starting next year. This will further improve the current quality of 4G networks and ensure a fast upgrade to 5G, which will eventually be available throughout Lithuania. Telia aims to start offering commercial 5G mobile services in Lithuania as soon as possible, pending a coming spectrum auction to be announced by the Communications Regulatory Authority (RRT).\\n\\nJenny Lindqvist, Head of Northern and Central Europe, Ericsson, says: 'We are excited to further strengthen our partnership with Telia, to power enhanced 4G and next-generation 5G to their customers in Lithuania. 5G is a catalyst for digital innovation, transforming business and industry and giving the Lithuanian economy the boost it needs during uncertain times. Driving a more resilient, smarter and sustainable society, we are working with Telia to bring 5G to the Baltics and Nordics alike.'\\n\\nThe Telia 5G network, built in partnership with Ericsson, will be up to five times more energy efficient than previous generations, and will be powered by 100 percent renewable electricity, which is of particular importance considering the constant growth of data and Telia's goal to achieve zero CO2 in its operations by 2030.\\n\\nTelia Company introduced its first public 5G network in Finland in 2019, followed by launches in Norway and Sweden. Last month, Telia Company also announced a strategic partnership with Ericsson in Sweden and Estonia to modernize its 4G networks and upgrade them to 5G.\\n\\nAttachments\\n\\nOriginal document Permalink\\n\\nDisclaimer\\n\\nTelia Lietuva AB published this content on 03 November 2020 and is solely responsible for the information contained therein. Distributed by Public, unedited and unaltered, on 03 November 2020 08:14:04 UTC\", \"Telia in Lithuania has entered into a strategic partnership with Ericsson to modernize its mobile network and rollout of 5G across the country. The five-year partnership agreement with Ericsson will deliver better digital experiences to customers and society and pave the way for more sustainable and efficient network operations.\\n\\n'The partnership between the two of Swedish wireless pioneers - Telia and Ericsson - will allow us to provide our customers with the state-of-the-art mobile connectivity and will drive faster development of sustainable digital society. Updated 4G networks and the upcoming 5G technology will deliver both people and businesses with a qualitative leap in several areas - from education, healthcare to transport and leisure' says Dan Strömberg, CEO of Telia in Lithuania and the Head of LED.\\n\\nEricsson will be the sole partner to deliver radio access network technology (RAN) in Lithuania. Over the next three years, Telia plans to upgrade around 2,000 sites in Lithuania, phasing out equipment from Huawei starting next year. This will further improve the current quality of 4G networks and ensure a fast upgrade to 5G, which will eventually be available throughout Lithuania. Telia aims to start offering commercial 5G mobile services in Lithuania as soon as possible, pending a coming spectrum auction to be announced by the Communications Regulatory Authority (RRT).\\n\\nJenny Lindqvist, Head of Northern and Central Europe, Ericsson, says: 'We are excited to further strengthen our partnership with Telia, to power enhanced 4G and next-generation 5G to their customers in Lithuania. 5G is a catalyst for digital innovation, transforming business and industry and giving the Lithuanian economy the boost it needs during uncertain times. Driving a more resilient, smarter and sustainable society, we are working with Telia to bring 5G to the Baltics and Nordics alike.'\\n\\nThe Telia 5G network, built in partnership with Ericsson, will be up to five times more energy efficient than previous generations, and will be powered by 100 percent renewable electricity, which is of particular importance considering the constant growth of data and Telia's goal to achieve zero CO2 in its operations by 2030.\\n\\nTelia Company introduced its first public 5G network in Finland in 2019, followed by launches in Norway and Sweden. Last month, Telia Company also announced a strategic partnership with Ericsson in Sweden and Estonia to modernize its 4G networks and upgrade them to 5G.\\n\\nAttachments\\n\\nOriginal document Permalink\\n\\nDisclaimer\\n\\nTelia Lietuva AB published this content on 03 November 2020 and is solely responsible for the information contained therein. Distributed by Public, unedited and unaltered, on 03 November 2020 08:14:04 UTC\", \"Telia in Lithuania has entered into a strategic partnership with Ericsson to modernize its mobile network and rollout of 5G across the country. The five-year partnership agreement with Ericsson will deliver better digital experiences to customers and society and pave the way for more sustainable and efficient network operations.\\n\\n'The partnership between the two of Swedish wireless pioneers - Telia and Ericsson - will allow us to provide our customers with the state-of-the-art mobile connectivity and will drive faster development of sustainable digital society. Updated 4G networks and the upcoming 5G technology will deliver both people and businesses with a qualitative leap in several areas - from education, healthcare to transport and leisure' says Dan Strömberg, CEO of Telia in Lithuania and the Head of LED.\\n\\nEricsson will be the sole partner to deliver radio access network technology (RAN) in Lithuania. Over the next three years, Telia plans to upgrade around 2,000 sites in Lithuania, phasing out equipment from Huawei starting next year. This will further improve the current quality of 4G networks and ensure a fast upgrade to 5G, which will eventually be available throughout Lithuania. Telia aims to start offering commercial 5G mobile services in Lithuania as soon as possible, pending a coming spectrum auction to be announced by the Communications Regulatory Authority (RRT).\\n\\nJenny Lindqvist, Head of Northern and Central Europe, Ericsson, says: 'We are excited to further strengthen our partnership with Telia, to power enhanced 4G and next-generation 5G to their customers in Lithuania. 5G is a catalyst for digital innovation, transforming business and industry and giving the Lithuanian economy the boost it needs during uncertain times. Driving a more resilient, smarter and sustainable society, we are working with Telia to bring 5G to the Baltics and Nordics alike.'\\n\\nThe Telia 5G network, built in partnership with Ericsson, will be up to five times more energy efficient than previous generations, and will be powered by 100 percent renewable electricity, which is of particular importance considering the constant growth of data and Telia's goal to achieve zero CO2 in its operations by 2030.\\n\\nTelia Company introduced its first public 5G network in Finland in 2019, followed by launches in Norway and Sweden. Last month, Telia Company also announced a strategic partnership with Ericsson in Sweden and Estonia to modernize its 4G networks and upgrade them to 5G.\\n\\nAttachments\\n\\nOriginal document Permalink\\n\\nDisclaimer\\n\\nTelia Lietuva AB published this content on 03 November 2020 and is solely responsible for the information contained therein. Distributed by Public, unedited and unaltered, on 03 November 2020 08:14:04 UTC\", \"Telia in Lithuania has entered into a strategic partnership with Ericsson to modernize its mobile network and rollout of 5G across the country. The five-year partnership agreement with Ericsson will deliver better digital experiences to customers and society and pave the way for more sustainable and efficient network operations.\\n\\n'The partnership between the two of Swedish wireless pioneers - Telia and Ericsson - will allow us to provide our customers with the state-of-the-art mobile connectivity and will drive faster development of sustainable digital society. Updated 4G networks and the upcoming 5G technology will deliver both people and businesses with a qualitative leap in several areas - from education, healthcare to transport and leisure' says Dan Strömberg, CEO of Telia in Lithuania and the Head of LED.\\n\\nEricsson will be the sole partner to deliver radio access network technology (RAN) in Lithuania. Over the next three years, Telia plans to upgrade around 2,000 sites in Lithuania, phasing out equipment from Huawei starting next year. This will further improve the current quality of 4G networks and ensure a fast upgrade to 5G, which will eventually be available throughout Lithuania. Telia aims to start offering commercial 5G mobile services in Lithuania as soon as possible, pending a coming spectrum auction to be announced by the Communications Regulatory Authority (RRT).\\n\\nJenny Lindqvist, Head of Northern and Central Europe, Ericsson, says: 'We are excited to further strengthen our partnership with Telia, to power enhanced 4G and next-generation 5G to their customers in Lithuania. 5G is a catalyst for digital innovation, transforming business and industry and giving the Lithuanian economy the boost it needs during uncertain times. Driving a more resilient, smarter and sustainable society, we are working with Telia to bring 5G to the Baltics and Nordics alike.'\\n\\nThe Telia 5G network, built in partnership with Ericsson, will be up to five times more energy efficient than previous generations, and will be powered by 100 percent renewable electricity, which is of particular importance considering the constant growth of data and Telia's goal to achieve zero CO2 in its operations by 2030.\\n\\nTelia Company introduced its first public 5G network in Finland in 2019, followed by launches in Norway and Sweden. Last month, Telia Company also announced a strategic partnership with Ericsson in Sweden and Estonia to modernize its 4G networks and upgrade them to 5G.\\n\\nAttachments\\n\\nOriginal document Permalink\\n\\nDisclaimer\\n\\nTelia Lietuva AB published this content on 03 November 2020 and is solely responsible for the information contained therein. Distributed by Public, unedited and unaltered, on 03 November 2020 08:14:04 UTC\", \"Telia in Lithuania has entered into a strategic partnership with Ericsson to modernize its mobile network and rollout of 5G across the country. The five-year partnership agreement with Ericsson will deliver better digital experiences to customers and society and pave the way for more sustainable and efficient network operations.\\n\\n'The partnership between the two of Swedish wireless pioneers - Telia and Ericsson - will allow us to provide our customers with the state-of-the-art mobile connectivity and will drive faster development of sustainable digital society. Updated 4G networks and the upcoming 5G technology will deliver both people and businesses with a qualitative leap in several areas - from education, healthcare to transport and leisure' says Dan Strömberg, CEO of Telia in Lithuania and the Head of LED.\\n\\nEricsson will be the sole partner to deliver radio access network technology (RAN) in Lithuania. Over the next three years, Telia plans to upgrade around 2,000 sites in Lithuania, phasing out equipment from Huawei starting next year. This will further improve the current quality of 4G networks and ensure a fast upgrade to 5G, which will eventually be available throughout Lithuania. Telia aims to start offering commercial 5G mobile services in Lithuania as soon as possible, pending a coming spectrum auction to be announced by the Communications Regulatory Authority (RRT).\\n\\nJenny Lindqvist, Head of Northern and Central Europe, Ericsson, says: 'We are excited to further strengthen our partnership with Telia, to power enhanced 4G and next-generation 5G to their customers in Lithuania. 5G is a catalyst for digital innovation, transforming business and industry and giving the Lithuanian economy the boost it needs during uncertain times. Driving a more resilient, smarter and sustainable society, we are working with Telia to bring 5G to the Baltics and Nordics alike.'\\n\\nThe Telia 5G network, built in partnership with Ericsson, will be up to five times more energy efficient than previous generations, and will be powered by 100 percent renewable electricity, which is of particular importance considering the constant growth of data and Telia's goal to achieve zero CO2 in its operations by 2030.\\n\\nTelia Company introduced its first public 5G network in Finland in 2019, followed by launches in Norway and Sweden. Last month, Telia Company also announced a strategic partnership with Ericsson in Sweden and Estonia to modernize its 4G networks and upgrade them to 5G.\\n\\nAttachments\\n\\nOriginal document Permalink\\n\\nDisclaimer\\n\\nTelia Lietuva AB published this content on 03 November 2020 and is solely responsible for the information contained therein. Distributed by Public, unedited and unaltered, on 03 November 2020 08:14:04 UTC\", \"Telia in Lithuania has entered into a strategic partnership with Ericsson to modernize its mobile network and rollout of 5G across the country. The five-year partnership agreement with Ericsson will deliver better digital experiences to customers and society and pave the way for more sustainable and efficient network operations.\\n\\n'The partnership between the two of Swedish wireless pioneers - Telia and Ericsson - will allow us to provide our customers with the state-of-the-art mobile connectivity and will drive faster development of sustainable digital society. Updated 4G networks and the upcoming 5G technology will deliver both people and businesses with a qualitative leap in several areas - from education, healthcare to transport and leisure' says Dan Strömberg, CEO of Telia in Lithuania and the Head of LED.\\n\\nEricsson will be the sole partner to deliver radio access network technology (RAN) in Lithuania. Over the next three years, Telia plans to upgrade around 2,000 sites in Lithuania, phasing out equipment from Huawei starting next year. This will further improve the current quality of 4G networks and ensure a fast upgrade to 5G, which will eventually be available throughout Lithuania. Telia aims to start offering commercial 5G mobile services in Lithuania as soon as possible, pending a coming spectrum auction to be announced by the Communications Regulatory Authority (RRT).\\n\\nJenny Lindqvist, Head of Northern and Central Europe, Ericsson, says: 'We are excited to further strengthen our partnership with Telia, to power enhanced 4G and next-generation 5G to their customers in Lithuania. 5G is a catalyst for digital innovation, transforming business and industry and giving the Lithuanian economy the boost it needs during uncertain times. Driving a more resilient, smarter and sustainable society, we are working with Telia to bring 5G to the Baltics and Nordics alike.'\\n\\nThe Telia 5G network, built in partnership with Ericsson, will be up to five times more energy efficient than previous generations, and will be powered by 100 percent renewable electricity, which is of particular importance considering the constant growth of data and Telia's goal to achieve zero CO2 in its operations by 2030.\\n\\nTelia Company introduced its first public 5G network in Finland in 2019, followed by launches in Norway and Sweden. Last month, Telia Company also announced a strategic partnership with Ericsson in Sweden and Estonia to modernize its 4G networks and upgrade them to 5G.\\n\\nAttachments\\n\\nOriginal document Permalink\\n\\nDisclaimer\\n\\nTelia Lietuva AB published this content on 03 November 2020 and is solely responsible for the information contained therein. Distributed by Public, unedited and unaltered, on 03 November 2020 08:14:04 UTC\", 'Mobile game publisher Scopely has acquired Digit Game Studios the developer that made the mobile online strategy game Star Trek Fleet Command That s consistent with the eat or be eaten trend of mobile gaming and it follows a pattern where a publisher will acquire an outside developer for a highly successful game The purchase price was not disclosed But Scopely is on a 400 million revenue run rate thanks to big hits like the Star Trek game which has surpassed 50 million in revenue in a few months Dublin based Digit Game Studios helped make the massively multiplayer online strategy game which launched in November 2018 Digit has been a partner of Scopely s since 2015 Scopely also had its own internal team working on Star Trek Los Angeles based Scopely said the title is on track to surpass 100 million in lifetime revenue It also said recently it is expanding its headquarters in Culver City California Jory Pearsall senior vice president spoke about the company s strategy of working with external developers at our GamesBeat Summit 2019 event last month I ve embedded the video of that talk Late last year we expanded into the strategy genre with Star Trek Fleet Command which has proven to be a hugely successful entry into the challenging to tackle MMO strategy sector The trusted partnership we have built the last few years with our collaborator DIGIT also laid the foundation for even more opportunities in the strategy space said Tim O Brien chief revenue officer at Scopely in a statement Game tech and publishing expertise across both teams resulted in a dynamic experience players are engaging with for hours every day It s exciting to see the game garnering awards and popularity showcasing that our deep collaboration has been a great mix for Fleet Command We look forward to further scaling the Scopely business with Digit who will be a fantastic addition to our growing global team Digit founder and CEO Richard Barnwell will continue to manage the operations of the 70 person studio in Dublin Prior to Digit Barnwell served as CEO of Jolt Online Gaming part of the GameStop network and held various senior positions at Jagex the UK s largest independent games developer and publisher We partnered with Scopely in 2015 to enable us to grow our team and focus on building world class strategy games said Barnwell in a statement The success we ve seen with Star Trek Fleet Command has been absolutely amazing and formalizing our relationship will allow us to scale the game even more We can t wait to see what else we can accomplish together Founded in 2011 Scopely expanded its operations to Barcelona in late 2017 an office which now has more than 75 employees Scopely also recently announced it will more than double the footprint of its Los Angeles headquarters by 2020 In addition to Digit Game Studios Scopely works with multiple studio partners to co create its diverse product portfolio and operate franchises together Scopely currently has studio partners in eight countries across four continents totaling a team of more than 800 working on Scopely products Scopely is riding the momentum of several product launches including Star Trek Fleet Command along with existing portfolio successes such as Yahtzee With Buddies which saw its biggest year yet in 2018 with two times revenue growth Scopely made its first investment in Digit Game Studios in 2015 to collaborate in the strategy space In 2018 Scopely announced a 160 million funding round aimed for acquisitions and strategic investment initiatives Digit Game Studios was founded in 2012 by Barnwell David McGovern and Fergus Duggan', 'Mobile game publisher Scopely has acquired Digit Game Studios the developer that made the mobile online strategy game Star Trek Fleet Command That s consistent with the eat or be eaten trend of mobile gaming and it follows a pattern where a publisher will acquire an outside developer for a highly successful game The purchase price was not disclosed But Scopely is on a 400 million revenue run rate thanks to big hits like the Star Trek game which has surpassed 50 million in revenue in a few months Dublin based Digit Game Studios helped make the massively multiplayer online strategy game which launched in November 2018 Digit has been a partner of Scopely s since 2015 Scopely also had its own internal team working on Star Trek Los Angeles based Scopely said the title is on track to surpass 100 million in lifetime revenue It also said recently it is expanding its headquarters in Culver City California Jory Pearsall senior vice president spoke about the company s strategy of working with external developers at our GamesBeat Summit 2019 event last month I ve embedded the video of that talk Late last year we expanded into the strategy genre with Star Trek Fleet Command which has proven to be a hugely successful entry into the challenging to tackle MMO strategy sector The trusted partnership we have built the last few years with our collaborator DIGIT also laid the foundation for even more opportunities in the strategy space said Tim O Brien chief revenue officer at Scopely in a statement Game tech and publishing expertise across both teams resulted in a dynamic experience players are engaging with for hours every day It s exciting to see the game garnering awards and popularity showcasing that our deep collaboration has been a great mix for Fleet Command We look forward to further scaling the Scopely business with Digit who will be a fantastic addition to our growing global team Digit founder and CEO Richard Barnwell will continue to manage the operations of the 70 person studio in Dublin Prior to Digit Barnwell served as CEO of Jolt Online Gaming part of the GameStop network and held various senior positions at Jagex the UK s largest independent games developer and publisher We partnered with Scopely in 2015 to enable us to grow our team and focus on building world class strategy games said Barnwell in a statement The success we ve seen with Star Trek Fleet Command has been absolutely amazing and formalizing our relationship will allow us to scale the game even more We can t wait to see what else we can accomplish together Founded in 2011 Scopely expanded its operations to Barcelona in late 2017 an office which now has more than 75 employees Scopely also recently announced it will more than double the footprint of its Los Angeles headquarters by 2020 In addition to Digit Game Studios Scopely works with multiple studio partners to co create its diverse product portfolio and operate franchises together Scopely currently has studio partners in eight countries across four continents totaling a team of more than 800 working on Scopely products Scopely is riding the momentum of several product launches including Star Trek Fleet Command along with existing portfolio successes such as Yahtzee With Buddies which saw its biggest year yet in 2018 with two times revenue growth Scopely made its first investment in Digit Game Studios in 2015 to collaborate in the strategy space In 2018 Scopely announced a 160 million funding round aimed for acquisitions and strategic investment initiatives Digit Game Studios was founded in 2012 by Barnwell David McGovern and Fergus Duggan', 'Home\"5G\"Ports, warehouses, construction sites - UK lines up £28m for nine new 5G testbeds 5GAutonomous VehiclesBuildingsCarriersConnectivityData AnalyticsInfrastructureInternet of Things (IoT)LTENewsPolicySensorsSmart CitiesSmart Factory Ports, warehouses, construction sites - UK lines up £28m for nine new 5G testbeds James Blackman 2021-01-14 James Blackman * January 14, 2021 * 6 Share 0\\n\\nThe UK government has announced a further £28.3 million in joint public-private funding to support nine new 5G testbeds, as part of its £200 million campaign to leverage 5G to energise the UK industrial sector, and as it seeks to open up UK telecoms supply chains. The move follows\\n\\nThe new funding package comprises £15.2 million from the UK government and £13.1 million coming from project partners. It is the second funding round in the UK\\'s 5G Create programme, supported by the government\\'s Department of Culture, Media and Sport (DCMS); the first round saw £30 million divided between six projects.\\n\\nIn total, the government has now funded 33 5G testbeds across the UK as part of its £200 million 5G Testbeds and Trials programme (5GTT), which 5G Create falls into, and 15 as part of the 5G Create programme. Five of the nine new projects stipulate usage of open RAN 5G networks.\\n\\nThe government said these open RAN networks allow for \"greater interoperability of radio equipment between vendors and give operators more choice and flexibility as they roll out 5G\". Open RAN is a key element of the government\\'s 5G \\'diversification strategy\\'.\\n\\nThe new round-two funding variously covers the tourism, sports, logistics, transport, creative, and construction industries; the announcement has run with a headline about UK naturalist David Attenborough, related to a 5G-enabled AR project that seeks to bring the \"wonders of the natural world\" to the people.\\n\\nHowever, of most interest to Enterprise IoT Insights, the new funding details a trio of projects dedicated to Industry 4.0. These include: the £5.3 million 5G Logistics initiative in Bristol, looking at asset tracking in port and warehouse environments; the £3.4 million 5G Ports project at the Port of Felixstowe, looking at remote-controlled cranes and crane maintenance; and the £1.7 million 5G AMC 2 project for the construction industry, taking place in Scotland, which seeks to make use of cameras, drones, and mixed reality for asset tracking and process optimisation.\\n\\nAll of these will leverage private 5G networks. The first and third use open RAN; the second, at the Port of Felixstowe, is being managed by Hutchison Ports, and engages mobile operator Three UK, also a subsidiary of CK Hutchison Holdings.\\n\\nMatt Warman, minister for digital infrastructure, said: \"5G is about so much more than faster mobile internet speeds so we\\'re investing millions to help some of Britain\\'s brightest innovators explore the huge potential of the technology to improve and enrich our lives. The projects we\\'ve selected will demonstrate how the blistering speeds of 5G can put some rocket fuel in our economy and help businesses bounce back from the pandemic.\"\\n\\nFull detail of all nine projects is listed below.\\n\\n1 | Milton Keynes 5G (MK5G)\\n\\nTotal funding: £4,103,022\\n\\nGovernment funding: £2,397,243\\n\\nProject location: Milton Keynes, South East\\n\\nMilton Keynes Council will test out 5G applications at Stadium MK, home of football team MK Dons, to illustrate how it can \"empower\" other venues to boost efficiency and create better experiences. The trials will include using driverless shuttles and road vehicles for moving people and goods across the site, autonomous surveillance vehicles and drones for enhancing security, and testing out robots and drones for goods delivery and hospitality use.\\n\\nJohn Cove, director at MK Dons said: \"We have been able to bring together a world class team to integrate and exploit 5G capability in a dynamic real world environment - this will truly demonstrate how Stadium MK can use new technology to support a major international sporting and cultural venue.\"\\n\\n2 | Eden Universe (OpenRAN)\\n\\nTotal funding: £3,338,333\\n\\nGovernment funding: £1,662,881\\n\\nProject location: South Cornwall, South West\\n\\nThe Eden Project will explore how 5G and 360-degree video can enhance the visitor experience. Those who are unable to go to the Eden site in person will be able to experience the exhibits and talks from anywhere in the world via a desktop, mobile or virtual reality device and be taken on a real-time virtual reality tour. The local 5G infrastructure will also be used to provide real-time data on core services such as energy and water management.\\n\\nDan James, development director at the Eden Project, said: \"We are looking forward to testing just how 5G can help support our educational, arts, and community programmes, and provide new and exciting reasons for people to keep visiting us in person or virtually. The data collected through the 5G network will also help us manage the site and improve the visitor experience and our environmental performance.\"\\n\\n3 | Connected Cowes (OpenRAN)\\n\\nTotal funding: £1,654,389\\n\\nGovernment funding: £826,915\\n\\nProject location: Isle of Wight, South East\\n\\nThe Connected Cowes project is looking at how 5G can create an \"immersive yacht racing experience\" for the sailing community and spectators in Cowes and online. 5G will be used to stream VR video from yachts racing at events from Cowes. This will be used to create content and enable immersive teaching using 5G-powered VR.\\n\\nLaurence Mead, regatta director at Cowes Week, said: \"This funding is going to enable us to showcase world-beating, non-stadium sports coverage. Our event takes place over 20 square miles of water and will test 5G to the limit.\"\\n\\n4 | 5G AMC 2 (OpenRAN)\\n\\nTotal funding: £1,692,733\\n\\nGovernment funding: £846,365\\n\\nProject location: Shetland and Kilsyth, Scotland\\n\\n5G AMC 2 (Accelerate, Maximise and Create for Construction) will explore how 5G enables the use of data to maximise productivity of construction processes. The project will set up a private 5G network at construction firm BAM Nuttall\\'s regional office in Kilsyth, Scotland, and a construction project in Shetland.\\n\\nThe private 5G network will connect cameras, drones, mixed reality, and IoT sensors to monitor construction processes and track assets. The project will be an enabler for digital solutions that improve construction productivity for the wider UK construction industry. It will be delivered by a consortium led by BAM Nuttall partnered with AttoCore and Building Research Establishment.\\n\\nColin Evison, head of innovation at BAM Nuttall, said: \"The 5G Create... will help us in our mission to build sustainable environments that enhance people\\'s lives. The project outcomes will benefit our business and the wider construction industry in its drive to improve productivity.\"\\n\\n5 | Live and Wild: Filming with 5G (OpenRAN)\\n\\nTotal funding: £2,136,420\\n\\nGovernment funding: £1,224,834\\n\\nProject location: Leeds, North East\\n\\nLive & Wild: Filming with 5G will test 5G\\'s capacity to support the needs of the documentary film industry in the UK. Filming will take place in a variety of extreme locations and weather conditions across the UK designed to test 5G\\'s performance to its limit, including in caving, sea cliff climbing, and ultra-running.\\n\\nPatricia Doherty, project director at Candour TV, said: \"We are really looking forward to discovering the ways in which 5G can help us deliver fast-turnaround and live video content without compromising on high production values. This could be a game changer for the UK film industry.\"\\n\\n6 | Project Vista\\n\\nTotal funding: £2,334,844\\n\\nGovernment funding: £1,307,972\\n\\nProject location: London\\n\\nThis project will provide live multi-angle HD video streams and interactive content from events direct to devices in stadia and across the UK. The goal is to demonstrate consumer demand and deliver the business case to enable 5G-powered sporting events in the near future. The consortium is led by Members Association DTG (Digital TV Group) working in partnership with Digital Catapult, GWS, O2 Telefonica, and Rohde & Schwarz.\\n\\nBrendan O\\'Reilly, chief technology officer at O2 Telefonica, said: \"We are excited... to create something innovative and exciting that will not only enhance our customers\\' experience at events, but add a whole new and exciting dimension to live sports.\"\\n\\n7 | The Green Planet AR\\n\\nTotal funding: £4,409,162\\n\\nGovernment funding: £2,275,498\\n\\nProject location: London & South West\\n\\nThis project will demonstrate an immersive AR experience offering a way for audiences to learn more about the natural world by streaming scientifically accurate plants and creatures into a number of set locations around the UK. The consortium is led by immersive content company Factory 42, working in partnership with BBC Studios, EE, Talesmith, Dimension Studios and Royal Botanic Gardens, Kew.\\n\\nJohn Cassy, founder and chief executive at Factory 42, said: \"The importance of protecting the planet has never been greater and the opportunity to use emerging technologies to engage audiences of all ages in environmental issues in new ways is hugely exciting.\"\\n\\n8 | 5G Ports - Port of Felixstowe\\n\\nTotal funding: £3,405,776\\n\\nGovernment funding: £1,634,590\\n\\nProject location: Suffolk Coast, East\\n\\nWorking with Three UK, Cambridge University, and Blue Mesh Solutions, along with Ericsson and Siemens, the project will test 5G across two use cases: remote-controlled crane operations, managed via real-time camera feeds, and predictive maintenance of 31 quay-side and 82 yard cranes, enabled by IoT and AI. The project will harness the speed, low-latency, and high-capacity of 5G.\\n\\nClemence Cheng, managing director at Hutchison Ports Europe, said: \"Being the first UK port to introduce 5G technology will allow the Port of Felixstowe to deploy innovative technologies to boost efficiency and improve safety for our workforce. It ties in well with government policy to create a network of Freeports to act as hotbeds for innovation and to act as hubs for global trade.\"\\n\\n9 | 5G Logistics (OpenRAN)\\n\\nTotal funding: £5,268,708\\n\\nGovernment funding: £3,054,994\\n\\nProject location: Bristol, South West\\n\\nThe 5G Logistics project will develop 5G products and services to support operations at Bristol Port and Gravity Smart Campus and demonstrate a smart and dynamic port environment. The project will focus on security, traceability, and tracking of goods within and across extendable virtual boundaries - and between public and private networks.\\n\\nIt will demonstrate how efficiency and productivity could be improved by replacing existing manual scanned barcode identification with automated recognition and real-time location tracking of items within a 5G-based IoT environment. The project offers the potential for such advances in technology to be implemented industry-wide; including at other ports in the UK,enterprise zones, or other business parks.\\n\\nTim Bowles, mayor for the West of England, said: \"5G has the potential to revolutionise whole industries and economies, creating exciting new jobs and opportunities. I want the West of England to be at the forefront of this revolution... Backing innovation and the jobs of the future and bringing new investment to the region by securing a Freeport are key parts of our plan for economic recovery, so this is a big vote of confidence in the West of England.\"\\n\\nRelated Tags:5GDavid AttenboroughIndustry 4.0logisticsopen RANprivate 5Gsmart portsUK Previous post Telia on 2021: Private 5G will play key role in digital change for critical industries Next post This is the most recent story. The Author All posts James Blackman\\n\\nJames Blackman has been writing about the technology and telecoms sectors for over a decade. He has edited and contributed to a number of European news outlets and trade titles. He has also worked at telecoms company Huawei, leading media activity for its devices business in Western Europe. He is based in London.\\n\\nRelated Posts Telia on 2021: Private 5G will play key role in digital change for critical industries / January 14, 2021 / \\'Only companies that unlock AI and IoT will succeed\\' - Bosch trumpets edge-AI at CES / January 13, 2021 / Nokia expands collaboration with Kalmar to offer new solutions for ports / January 12, 2021 / Elisa buys German software firm camLine to spur Industry 4.0 charge / January 12, 2021 /', 'Home\"5G\"Ports, warehouses, construction sites - UK lines up £28m for nine new 5G testbeds 5GAutonomous VehiclesBuildingsCarriersConnectivityData AnalyticsInfrastructureInternet of Things (IoT)LTENewsPolicySensorsSmart CitiesSmart Factory Ports, warehouses, construction sites - UK lines up £28m for nine new 5G testbeds James Blackman 2021-01-14 James Blackman * January 14, 2021 * 6 Share 0\\n\\nThe UK government has announced a further £28.3 million in joint public-private funding to support nine new 5G testbeds, as part of its £200 million campaign to leverage 5G to energise the UK industrial sector, and as it seeks to open up UK telecoms supply chains. The move follows\\n\\nThe new funding package comprises £15.2 million from the UK government and £13.1 million coming from project partners. It is the second funding round in the UK\\'s 5G Create programme, supported by the government\\'s Department of Culture, Media and Sport (DCMS); the first round saw £30 million divided between six projects.\\n\\nIn total, the government has now funded 33 5G testbeds across the UK as part of its £200 million 5G Testbeds and Trials programme (5GTT), which 5G Create falls into, and 15 as part of the 5G Create programme. Five of the nine new projects stipulate usage of open RAN 5G networks.\\n\\nThe government said these open RAN networks allow for \"greater interoperability of radio equipment between vendors and give operators more choice and flexibility as they roll out 5G\". Open RAN is a key element of the government\\'s 5G \\'diversification strategy\\'.\\n\\nThe new round-two funding variously covers the tourism, sports, logistics, transport, creative, and construction industries; the announcement has run with a headline about UK naturalist David Attenborough, related to a 5G-enabled AR project that seeks to bring the \"wonders of the natural world\" to the people.\\n\\nHowever, of most interest to Enterprise IoT Insights, the new funding details a trio of projects dedicated to Industry 4.0. These include: the £5.3 million 5G Logistics initiative in Bristol, looking at asset tracking in port and warehouse environments; the £3.4 million 5G Ports project at the Port of Felixstowe, looking at remote-controlled cranes and crane maintenance; and the £1.7 million 5G AMC 2 project for the construction industry, taking place in Scotland, which seeks to make use of cameras, drones, and mixed reality for asset tracking and process optimisation.\\n\\nAll of these will leverage private 5G networks. The first and third use open RAN; the second, at the Port of Felixstowe, is being managed by Hutchison Ports, and engages mobile operator Three UK, also a subsidiary of CK Hutchison Holdings.\\n\\nMatt Warman, minister for digital infrastructure, said: \"5G is about so much more than faster mobile internet speeds so we\\'re investing millions to help some of Britain\\'s brightest innovators explore the huge potential of the technology to improve and enrich our lives. The projects we\\'ve selected will demonstrate how the blistering speeds of 5G can put some rocket fuel in our economy and help businesses bounce back from the pandemic.\"\\n\\nFull detail of all nine projects is listed below.\\n\\n1 | Milton Keynes 5G (MK5G)\\n\\nTotal funding: £4,103,022\\n\\nGovernment funding: £2,397,243\\n\\nProject location: Milton Keynes, South East\\n\\nMilton Keynes Council will test out 5G applications at Stadium MK, home of football team MK Dons, to illustrate how it can \"empower\" other venues to boost efficiency and create better experiences. The trials will include using driverless shuttles and road vehicles for moving people and goods across the site, autonomous surveillance vehicles and drones for enhancing security, and testing out robots and drones for goods delivery and hospitality use.\\n\\nJohn Cove, director at MK Dons said: \"We have been able to bring together a world class team to integrate and exploit 5G capability in a dynamic real world environment - this will truly demonstrate how Stadium MK can use new technology to support a major international sporting and cultural venue.\"\\n\\n2 | Eden Universe (OpenRAN)\\n\\nTotal funding: £3,338,333\\n\\nGovernment funding: £1,662,881\\n\\nProject location: South Cornwall, South West\\n\\nThe Eden Project will explore how 5G and 360-degree video can enhance the visitor experience. Those who are unable to go to the Eden site in person will be able to experience the exhibits and talks from anywhere in the world via a desktop, mobile or virtual reality device and be taken on a real-time virtual reality tour. The local 5G infrastructure will also be used to provide real-time data on core services such as energy and water management.\\n\\nDan James, development director at the Eden Project, said: \"We are looking forward to testing just how 5G can help support our educational, arts, and community programmes, and provide new and exciting reasons for people to keep visiting us in person or virtually. The data collected through the 5G network will also help us manage the site and improve the visitor experience and our environmental performance.\"\\n\\n3 | Connected Cowes (OpenRAN)\\n\\nTotal funding: £1,654,389\\n\\nGovernment funding: £826,915\\n\\nProject location: Isle of Wight, South East\\n\\nThe Connected Cowes project is looking at how 5G can create an \"immersive yacht racing experience\" for the sailing community and spectators in Cowes and online. 5G will be used to stream VR video from yachts racing at events from Cowes. This will be used to create content and enable immersive teaching using 5G-powered VR.\\n\\nLaurence Mead, regatta director at Cowes Week, said: \"This funding is going to enable us to showcase world-beating, non-stadium sports coverage. Our event takes place over 20 square miles of water and will test 5G to the limit.\"\\n\\n4 | 5G AMC 2 (OpenRAN)\\n\\nTotal funding: £1,692,733\\n\\nGovernment funding: £846,365\\n\\nProject location: Shetland and Kilsyth, Scotland\\n\\n5G AMC 2 (Accelerate, Maximise and Create for Construction) will explore how 5G enables the use of data to maximise productivity of construction processes. The project will set up a private 5G network at construction firm BAM Nuttall\\'s regional office in Kilsyth, Scotland, and a construction project in Shetland.\\n\\nThe private 5G network will connect cameras, drones, mixed reality, and IoT sensors to monitor construction processes and track assets. The project will be an enabler for digital solutions that improve construction productivity for the wider UK construction industry. It will be delivered by a consortium led by BAM Nuttall partnered with AttoCore and Building Research Establishment.\\n\\nColin Evison, head of innovation at BAM Nuttall, said: \"The 5G Create... will help us in our mission to build sustainable environments that enhance people\\'s lives. The project outcomes will benefit our business and the wider construction industry in its drive to improve productivity.\"\\n\\n5 | Live and Wild: Filming with 5G (OpenRAN)\\n\\nTotal funding: £2,136,420\\n\\nGovernment funding: £1,224,834\\n\\nProject location: Leeds, North East\\n\\nLive & Wild: Filming with 5G will test 5G\\'s capacity to support the needs of the documentary film industry in the UK. Filming will take place in a variety of extreme locations and weather conditions across the UK designed to test 5G\\'s performance to its limit, including in caving, sea cliff climbing, and ultra-running.\\n\\nPatricia Doherty, project director at Candour TV, said: \"We are really looking forward to discovering the ways in which 5G can help us deliver fast-turnaround and live video content without compromising on high production values. This could be a game changer for the UK film industry.\"\\n\\n6 | Project Vista\\n\\nTotal funding: £2,334,844\\n\\nGovernment funding: £1,307,972\\n\\nProject location: London\\n\\nThis project will provide live multi-angle HD video streams and interactive content from events direct to devices in stadia and across the UK. The goal is to demonstrate consumer demand and deliver the business case to enable 5G-powered sporting events in the near future. The consortium is led by Members Association DTG (Digital TV Group) working in partnership with Digital Catapult, GWS, O2 Telefonica, and Rohde & Schwarz.\\n\\nBrendan O\\'Reilly, chief technology officer at O2 Telefonica, said: \"We are excited... to create something innovative and exciting that will not only enhance our customers\\' experience at events, but add a whole new and exciting dimension to live sports.\"\\n\\n7 | The Green Planet AR\\n\\nTotal funding: £4,409,162\\n\\nGovernment funding: £2,275,498\\n\\nProject location: London & South West\\n\\nThis project will demonstrate an immersive AR experience offering a way for audiences to learn more about the natural world by streaming scientifically accurate plants and creatures into a number of set locations around the UK. The consortium is led by immersive content company Factory 42, working in partnership with BBC Studios, EE, Talesmith, Dimension Studios and Royal Botanic Gardens, Kew.\\n\\nJohn Cassy, founder and chief executive at Factory 42, said: \"The importance of protecting the planet has never been greater and the opportunity to use emerging technologies to engage audiences of all ages in environmental issues in new ways is hugely exciting.\"\\n\\n8 | 5G Ports - Port of Felixstowe\\n\\nTotal funding: £3,405,776\\n\\nGovernment funding: £1,634,590\\n\\nProject location: Suffolk Coast, East\\n\\nWorking with Three UK, Cambridge University, and Blue Mesh Solutions, along with Ericsson and Siemens, the project will test 5G across two use cases: remote-controlled crane operations, managed via real-time camera feeds, and predictive maintenance of 31 quay-side and 82 yard cranes, enabled by IoT and AI. The project will harness the speed, low-latency, and high-capacity of 5G.\\n\\nClemence Cheng, managing director at Hutchison Ports Europe, said: \"Being the first UK port to introduce 5G technology will allow the Port of Felixstowe to deploy innovative technologies to boost efficiency and improve safety for our workforce. It ties in well with government policy to create a network of Freeports to act as hotbeds for innovation and to act as hubs for global trade.\"\\n\\n9 | 5G Logistics (OpenRAN)\\n\\nTotal funding: £5,268,708\\n\\nGovernment funding: £3,054,994\\n\\nProject location: Bristol, South West\\n\\nThe 5G Logistics project will develop 5G products and services to support operations at Bristol Port and Gravity Smart Campus and demonstrate a smart and dynamic port environment. The project will focus on security, traceability, and tracking of goods within and across extendable virtual boundaries - and between public and private networks.\\n\\nIt will demonstrate how efficiency and productivity could be improved by replacing existing manual scanned barcode identification with automated recognition and real-time location tracking of items within a 5G-based IoT environment. The project offers the potential for such advances in technology to be implemented industry-wide; including at other ports in the UK,enterprise zones, or other business parks.\\n\\nTim Bowles, mayor for the West of England, said: \"5G has the potential to revolutionise whole industries and economies, creating exciting new jobs and opportunities. I want the West of England to be at the forefront of this revolution... Backing innovation and the jobs of the future and bringing new investment to the region by securing a Freeport are key parts of our plan for economic recovery, so this is a big vote of confidence in the West of England.\"\\n\\nRelated Tags:5GDavid AttenboroughIndustry 4.0logisticsopen RANprivate 5Gsmart portsUK Previous post Telia on 2021: Private 5G will play key role in digital change for critical industries Next post This is the most recent story. The Author All posts James Blackman\\n\\nJames Blackman has been writing about the technology and telecoms sectors for over a decade. He has edited and contributed to a number of European news outlets and trade titles. He has also worked at telecoms company Huawei, leading media activity for its devices business in Western Europe. He is based in London.\\n\\nRelated Posts Telia on 2021: Private 5G will play key role in digital change for critical industries / January 14, 2021 / \\'Only companies that unlock AI and IoT will succeed\\' - Bosch trumpets edge-AI at CES / January 13, 2021 / Nokia expands collaboration with Kalmar to offer new solutions for ports / January 12, 2021 / Elisa buys German software firm camLine to spur Industry 4.0 charge / January 12, 2021 /', 'Home\"5G\"Ports, warehouses, construction sites - UK lines up £28m for nine new 5G testbeds 5GAutonomous VehiclesBuildingsCarriersConnectivityData AnalyticsInfrastructureInternet of Things (IoT)LTENewsPolicySensorsSmart CitiesSmart Factory Ports, warehouses, construction sites - UK lines up £28m for nine new 5G testbeds James Blackman 2021-01-14 James Blackman * January 14, 2021 * 6 Share 0\\n\\nThe UK government has announced a further £28.3 million in joint public-private funding to support nine new 5G testbeds, as part of its £200 million campaign to leverage 5G to energise the UK industrial sector, and as it seeks to open up UK telecoms supply chains. The move follows\\n\\nThe new funding package comprises £15.2 million from the UK government and £13.1 million coming from project partners. It is the second funding round in the UK\\'s 5G Create programme, supported by the government\\'s Department of Culture, Media and Sport (DCMS); the first round saw £30 million divided between six projects.\\n\\nIn total, the government has now funded 33 5G testbeds across the UK as part of its £200 million 5G Testbeds and Trials programme (5GTT), which 5G Create falls into, and 15 as part of the 5G Create programme. Five of the nine new projects stipulate usage of open RAN 5G networks.\\n\\nThe government said these open RAN networks allow for \"greater interoperability of radio equipment between vendors and give operators more choice and flexibility as they roll out 5G\". Open RAN is a key element of the government\\'s 5G \\'diversification strategy\\'.\\n\\nThe new round-two funding variously covers the tourism, sports, logistics, transport, creative, and construction industries; the announcement has run with a headline about UK naturalist David Attenborough, related to a 5G-enabled AR project that seeks to bring the \"wonders of the natural world\" to the people.\\n\\nHowever, of most interest to Enterprise IoT Insights, the new funding details a trio of projects dedicated to Industry 4.0. These include: the £5.3 million 5G Logistics initiative in Bristol, looking at asset tracking in port and warehouse environments; the £3.4 million 5G Ports project at the Port of Felixstowe, looking at remote-controlled cranes and crane maintenance; and the £1.7 million 5G AMC 2 project for the construction industry, taking place in Scotland, which seeks to make use of cameras, drones, and mixed reality for asset tracking and process optimisation.\\n\\nAll of these will leverage private 5G networks. The first and third use open RAN; the second, at the Port of Felixstowe, is being managed by Hutchison Ports, and engages mobile operator Three UK, also a subsidiary of CK Hutchison Holdings.\\n\\nMatt Warman, minister for digital infrastructure, said: \"5G is about so much more than faster mobile internet speeds so we\\'re investing millions to help some of Britain\\'s brightest innovators explore the huge potential of the technology to improve and enrich our lives. The projects we\\'ve selected will demonstrate how the blistering speeds of 5G can put some rocket fuel in our economy and help businesses bounce back from the pandemic.\"\\n\\nFull detail of all nine projects is listed below.\\n\\n1 | Milton Keynes 5G (MK5G)\\n\\nTotal funding: £4,103,022\\n\\nGovernment funding: £2,397,243\\n\\nProject location: Milton Keynes, South East\\n\\nMilton Keynes Council will test out 5G applications at Stadium MK, home of football team MK Dons, to illustrate how it can \"empower\" other venues to boost efficiency and create better experiences. The trials will include using driverless shuttles and road vehicles for moving people and goods across the site, autonomous surveillance vehicles and drones for enhancing security, and testing out robots and drones for goods delivery and hospitality use.\\n\\nJohn Cove, director at MK Dons said: \"We have been able to bring together a world class team to integrate and exploit 5G capability in a dynamic real world environment - this will truly demonstrate how Stadium MK can use new technology to support a major international sporting and cultural venue.\"\\n\\n2 | Eden Universe (OpenRAN)\\n\\nTotal funding: £3,338,333\\n\\nGovernment funding: £1,662,881\\n\\nProject location: South Cornwall, South West\\n\\nThe Eden Project will explore how 5G and 360-degree video can enhance the visitor experience. Those who are unable to go to the Eden site in person will be able to experience the exhibits and talks from anywhere in the world via a desktop, mobile or virtual reality device and be taken on a real-time virtual reality tour. The local 5G infrastructure will also be used to provide real-time data on core services such as energy and water management.\\n\\nDan James, development director at the Eden Project, said: \"We are looking forward to testing just how 5G can help support our educational, arts, and community programmes, and provide new and exciting reasons for people to keep visiting us in person or virtually. The data collected through the 5G network will also help us manage the site and improve the visitor experience and our environmental performance.\"\\n\\n3 | Connected Cowes (OpenRAN)\\n\\nTotal funding: £1,654,389\\n\\nGovernment funding: £826,915\\n\\nProject location: Isle of Wight, South East\\n\\nThe Connected Cowes project is looking at how 5G can create an \"immersive yacht racing experience\" for the sailing community and spectators in Cowes and online. 5G will be used to stream VR video from yachts racing at events from Cowes. This will be used to create content and enable immersive teaching using 5G-powered VR.\\n\\nLaurence Mead, regatta director at Cowes Week, said: \"This funding is going to enable us to showcase world-beating, non-stadium sports coverage. Our event takes place over 20 square miles of water and will test 5G to the limit.\"\\n\\n4 | 5G AMC 2 (OpenRAN)\\n\\nTotal funding: £1,692,733\\n\\nGovernment funding: £846,365\\n\\nProject location: Shetland and Kilsyth, Scotland\\n\\n5G AMC 2 (Accelerate, Maximise and Create for Construction) will explore how 5G enables the use of data to maximise productivity of construction processes. The project will set up a private 5G network at construction firm BAM Nuttall\\'s regional office in Kilsyth, Scotland, and a construction project in Shetland.\\n\\nThe private 5G network will connect cameras, drones, mixed reality, and IoT sensors to monitor construction processes and track assets. The project will be an enabler for digital solutions that improve construction productivity for the wider UK construction industry. It will be delivered by a consortium led by BAM Nuttall partnered with AttoCore and Building Research Establishment.\\n\\nColin Evison, head of innovation at BAM Nuttall, said: \"The 5G Create... will help us in our mission to build sustainable environments that enhance people\\'s lives. The project outcomes will benefit our business and the wider construction industry in its drive to improve productivity.\"\\n\\n5 | Live and Wild: Filming with 5G (OpenRAN)\\n\\nTotal funding: £2,136,420\\n\\nGovernment funding: £1,224,834\\n\\nProject location: Leeds, North East\\n\\nLive & Wild: Filming with 5G will test 5G\\'s capacity to support the needs of the documentary film industry in the UK. Filming will take place in a variety of extreme locations and weather conditions across the UK designed to test 5G\\'s performance to its limit, including in caving, sea cliff climbing, and ultra-running.\\n\\nPatricia Doherty, project director at Candour TV, said: \"We are really looking forward to discovering the ways in which 5G can help us deliver fast-turnaround and live video content without compromising on high production values. This could be a game changer for the UK film industry.\"\\n\\n6 | Project Vista\\n\\nTotal funding: £2,334,844\\n\\nGovernment funding: £1,307,972\\n\\nProject location: London\\n\\nThis project will provide live multi-angle HD video streams and interactive content from events direct to devices in stadia and across the UK. The goal is to demonstrate consumer demand and deliver the business case to enable 5G-powered sporting events in the near future. The consortium is led by Members Association DTG (Digital TV Group) working in partnership with Digital Catapult, GWS, O2 Telefonica, and Rohde & Schwarz.\\n\\nBrendan O\\'Reilly, chief technology officer at O2 Telefonica, said: \"We are excited... to create something innovative and exciting that will not only enhance our customers\\' experience at events, but add a whole new and exciting dimension to live sports.\"\\n\\n7 | The Green Planet AR\\n\\nTotal funding: £4,409,162\\n\\nGovernment funding: £2,275,498\\n\\nProject location: London & South West\\n\\nThis project will demonstrate an immersive AR experience offering a way for audiences to learn more about the natural world by streaming scientifically accurate plants and creatures into a number of set locations around the UK. The consortium is led by immersive content company Factory 42, working in partnership with BBC Studios, EE, Talesmith, Dimension Studios and Royal Botanic Gardens, Kew.\\n\\nJohn Cassy, founder and chief executive at Factory 42, said: \"The importance of protecting the planet has never been greater and the opportunity to use emerging technologies to engage audiences of all ages in environmental issues in new ways is hugely exciting.\"\\n\\n8 | 5G Ports - Port of Felixstowe\\n\\nTotal funding: £3,405,776\\n\\nGovernment funding: £1,634,590\\n\\nProject location: Suffolk Coast, East\\n\\nWorking with Three UK, Cambridge University, and Blue Mesh Solutions, along with Ericsson and Siemens, the project will test 5G across two use cases: remote-controlled crane operations, managed via real-time camera feeds, and predictive maintenance of 31 quay-side and 82 yard cranes, enabled by IoT and AI. The project will harness the speed, low-latency, and high-capacity of 5G.\\n\\nClemence Cheng, managing director at Hutchison Ports Europe, said: \"Being the first UK port to introduce 5G technology will allow the Port of Felixstowe to deploy innovative technologies to boost efficiency and improve safety for our workforce. It ties in well with government policy to create a network of Freeports to act as hotbeds for innovation and to act as hubs for global trade.\"\\n\\n9 | 5G Logistics (OpenRAN)\\n\\nTotal funding: £5,268,708\\n\\nGovernment funding: £3,054,994\\n\\nProject location: Bristol, South West\\n\\nThe 5G Logistics project will develop 5G products and services to support operations at Bristol Port and Gravity Smart Campus and demonstrate a smart and dynamic port environment. The project will focus on security, traceability, and tracking of goods within and across extendable virtual boundaries - and between public and private networks.\\n\\nIt will demonstrate how efficiency and productivity could be improved by replacing existing manual scanned barcode identification with automated recognition and real-time location tracking of items within a 5G-based IoT environment. The project offers the potential for such advances in technology to be implemented industry-wide; including at other ports in the UK,enterprise zones, or other business parks.\\n\\nTim Bowles, mayor for the West of England, said: \"5G has the potential to revolutionise whole industries and economies, creating exciting new jobs and opportunities. I want the West of England to be at the forefront of this revolution... Backing innovation and the jobs of the future and bringing new investment to the region by securing a Freeport are key parts of our plan for economic recovery, so this is a big vote of confidence in the West of England.\"\\n\\nRelated Tags:5GDavid AttenboroughIndustry 4.0logisticsopen RANprivate 5Gsmart portsUK Previous post Telia on 2021: Private 5G will play key role in digital change for critical industries Next post This is the most recent story. The Author All posts James Blackman\\n\\nJames Blackman has been writing about the technology and telecoms sectors for over a decade. He has edited and contributed to a number of European news outlets and trade titles. He has also worked at telecoms company Huawei, leading media activity for its devices business in Western Europe. He is based in London.\\n\\nRelated Posts Telia on 2021: Private 5G will play key role in digital change for critical industries / January 14, 2021 / \\'Only companies that unlock AI and IoT will succeed\\' - Bosch trumpets edge-AI at CES / January 13, 2021 / Nokia expands collaboration with Kalmar to offer new solutions for ports / January 12, 2021 / Elisa buys German software firm camLine to spur Industry 4.0 charge / January 12, 2021 /'], 'context': ['3) Lilium, a German startup that’s making an all-electric vertical takeoff and landing passenger jet became a ‘unicorn’ after raising $35 million from Baillie Gifford, the largest investor in Tesla after its billionaire owner Elon Musk.', '3) Lilium, a German startup that’s making an all-electric vertical takeoff and landing passenger jet became a ‘unicorn’ after raising $35 million from Baillie Gifford, the largest investor in Tesla after its billionaire owner Elon Musk.', 'Meanwhile, the UK’s watchdog on Friday announced that it has launched an investigation into Facebook’s (reportedly for $400 million) acquisition of Giphy, the popular GIF repository and search engine.\\n\\n', 'Meanwhile, the UK’s watchdog on Friday announced that it has launched an investigation into Facebook’s (reportedly for $400 million) acquisition of Giphy, the popular GIF repository and search engine.\\n\\n', 'Belgium/US-based data governance technology company Collibra has raised $100 million from CapitalG, Google’s growth investment arm, giving it a valuation above $1 billion according to De Tijd and Fortune.\\n\\n', 'Belgium/US-based data governance technology company Collibra has raised $100 million from CapitalG, Google’s growth investment arm, giving it a valuation above $1 billion according to De Tijd and Fortune.\\n\\n', 'Prior to co-founding Xometry, Randy co-founded and was Executive Chairman of CloudBlue, a leading provider of recycling services for electronic equipment.', 'Prior to co-founding Xometry, Randy co-founded and was Executive Chairman of CloudBlue, a leading provider of recycling services for electronic equipment.', 'Viswanathan former NEA general partner Greycroft Partner Mark Terbeek said in a statement We ve been longtime supporters of Scopely since our initial seed investment and we continue to be incredibly impressed by their momentum Scopely has solidified their role as one of the preeminent free to play games companies and we are thrilled to increase our participation in the business Scopely was founded in 2011 and it now has 450 employees in offices in Los Angeles Barcelona Dublin DIGIT Game Studio and Tokyo with an additional 400 people working on Scopely games at external development studios around the world', 'Viswanathan former NEA general partner Greycroft Partner Mark Terbeek said in a statement We ve been longtime supporters of Scopely since our initial seed investment and we continue to be incredibly impressed by their momentum Scopely has solidified their role as one of the preeminent free to play games companies and we are thrilled to increase our participation in the business Scopely was founded in 2011 and it now has 450 employees in offices in Los Angeles Barcelona Dublin DIGIT Game Studio and Tokyo with an additional 400 people working on Scopely games at external development studios around the world', 'Dreyfus noted represent an addressable audience of 3 5 billion globally opening up the possibility of bringing blockchain to a wider audience via collaboration with the industry s global brands and household names Binance CEO Changpeng Zhao', 'Dreyfus noted represent an addressable audience of 3 5 billion globally opening up the possibility of bringing blockchain to a wider audience via collaboration with the industry s global brands and household names Binance CEO Changpeng Zhao', 'American sports fans could soon be using blockchain based tokens to interact with their favorite teams Blockchain sports firm Chiliz has partnered with major marketing agency Lagardere Sports and Entertainment according to a press release on Feb 17 \\xa0 Chiliz CEO Alex Dreyfus told Cointelegraph that as part of the partnership Lagardere s sales team will present Chiliz and its blockchain based fan interaction system Socios to new sports teams leagues and sports federations \\xa0 ', 'American sports fans could soon be using blockchain based tokens to interact with their favorite teams Blockchain sports firm Chiliz has partnered with major marketing agency Lagardere Sports and Entertainment according to a press release on Feb 17 \\xa0 Chiliz CEO Alex Dreyfus told Cointelegraph that as part of the partnership Lagardere s sales team will present Chiliz and its blockchain based fan interaction system Socios to new sports teams leagues and sports federations \\xa0 ', 'shopping app Lolli has partnered with Albertsons Companies subsidiary Safeway to give customers 3 5 back in Bitcoin when purchasing groceries', 'shopping app Lolli has partnered with Albertsons Companies subsidiary Safeway to give customers 3 5 back in Bitcoin when purchasing groceries', 'Mati Greenspan, the famed markets analyst and currency founder of Quantum Economics, has joined the advisory board of Chiliz on June 9, as per a release shared with CryptoSlate.\\n\\n', 'Mati Greenspan, the famed markets analyst and currency founder of Quantum Economics, has joined the advisory board of Chiliz on June 9, as per a release shared with CryptoSlate.\\n\\n', \"Greenspan brings years of market experience, industry connections, and strong networks to Chiliz, notes the latter's founder Alexandre Dreyfus.\\n\\n\", \"Greenspan brings years of market experience, industry connections, and strong networks to Chiliz, notes the latter's founder Alexandre Dreyfus.\\n\\n\", 'Binance, which claims it was an early investor in Chiliz, has now extended the partnership with additional investments – which will focus on the Fintech sports space.', 'Binance, which claims it was an early investor in Chiliz, has now extended the partnership with additional investments – which will focus on the Fintech sports space.', 'Blockchain sports venture Chiliz, which is heavily involved in European soccer, will invest $50 million in an expansion to the United States, chief executive Alexandre Dreyfus has told Reuters.\\n\\n', 'Blockchain sports venture Chiliz, which is heavily involved in European soccer, will invest $50 million in an expansion to the United States, chief executive Alexandre Dreyfus has told Reuters.\\n\\n', 'Star Trek Fleet Command announced that it has acquired FoxNext Games Los Angeles from Disney Disney acquired FoxNext Games a relative newcomer among Hollywood studio game divisions as part of its acquisition of Fox for 71 billion in March 2019', 'Star Trek Fleet Command announced that it has acquired FoxNext Games Los Angeles from Disney Disney acquired FoxNext Games a relative newcomer among Hollywood studio game divisions as part of its acquisition of Fox for 71 billion in March 2019', 'MacGregor, part of Cargotec, has received a significant order for delivery of the mission-critical system to be installed on the OHT offshore wind foundation installation vessel, Alfa Lift, being built at the China Merchants Heavy Industry shipyard in Jiangsu, China.\\n\\n', 'MacGregor, part of Cargotec, has received a significant order for delivery of the mission-critical system to be installed on the OHT offshore wind foundation installation vessel, Alfa Lift, being built at the China Merchants Heavy Industry shipyard in Jiangsu, China.\\n\\n', 'Michel van Roozendaal, President, MacGregor says \"MacGregor has invested in applying its vast knowledge of offshore technology into enabling the progression of renewable energy, with the OHT Alfa Lift contract being an excellent example of where these advanced technologies can be put to work.', 'Michel van Roozendaal, President, MacGregor says \"MacGregor has invested in applying its vast knowledge of offshore technology into enabling the progression of renewable energy, with the OHT Alfa Lift contract being an excellent example of where these advanced technologies can be put to work.', \"MacGregor secures largest single vessel contract for OHT's Alfa Lift wind foundation installation vessel\\n\\nMacGregor, part of Cargotec, has received a significant order for delivery of the mission-critical system to be installed on the OHT offshore wind foundation installation vessel, Alfa Lift, being built at the China Merchants Heavy Industry shipyard in Jiangsu, China.\\n\\n\", \"MacGregor secures largest single vessel contract for OHT's Alfa Lift wind foundation installation vessel\\n\\nMacGregor, part of Cargotec, has received a significant order for delivery of the mission-critical system to be installed on the OHT offshore wind foundation installation vessel, Alfa Lift, being built at the China Merchants Heavy Industry shipyard in Jiangsu, China.\\n\\n\", 'Press Release - MacGregor, part of Cargotec, has received a significant order for delivery of the mission-critical system to be installed on the OHT offshore wind foundation installation vessel, Alfa Lift, being built at the China Merchants Heavy Industry shipyard in Jiangsu, China.\\n\\n', 'Press Release - MacGregor, part of Cargotec, has received a significant order for delivery of the mission-critical system to be installed on the OHT offshore wind foundation installation vessel, Alfa Lift, being built at the China Merchants Heavy Industry shipyard in Jiangsu, China.\\n\\n', 'State rescue programs and the MacGregor, part of Cargotec, has received a significant order for delivery of the mission-critical system to be installed on the OHT offshore wind foundation installation vessel, Alfa Lift, being built at the China Merchants Heavy Industry shipyard in Jiangsu, China.\\n\\n', 'State rescue programs and the MacGregor, part of Cargotec, has received a significant order for delivery of the mission-critical system to be installed on the OHT offshore wind foundation installation vessel, Alfa Lift, being built at the China Merchants Heavy Industry shipyard in Jiangsu, China.\\n\\n', 'Elsewhere, Rolls-Royce recently\\xa0announced a partnership with Intel as part of a grand plan to bring self-guided cargo ships to the world', 'Elsewhere, Rolls-Royce recently\\xa0announced a partnership with Intel as part of a grand plan to bring self-guided cargo ships to the world', 'The MAS ship itself is still being constructed in Gdansk, Poland, and the AI Captain will be tested this month in a manned research ship called the Plymouth Quest, which is owned by the U.K.’s Plymouth Marine Laboratory.', 'The MAS ship itself is still being constructed in Gdansk, Poland, and the AI Captain will be tested this month in a manned research ship called the Plymouth Quest, which is owned by the U.K.’s Plymouth Marine Laboratory.', 'Elsewhere,\\xa0Rolls-Royce previously demonstrated a fully autonomous passenger ferry in Finland and announced a partnership with Intel as part of a grand plan to bring self-guided cargo ships to the world', 'Elsewhere,\\xa0Rolls-Royce previously demonstrated a fully autonomous passenger ferry in Finland and announced a partnership with Intel as part of a grand plan to bring self-guided cargo ships to the world', 'Don Scales, Global CEO of Investis Digital, said, \"This report is an excellent showcase of how companies must completely rethink their communications and marketing strategies in today\\'s digital-first world.', 'Don Scales, Global CEO of Investis Digital, said, \"This report is an excellent showcase of how companies must completely rethink their communications and marketing strategies in today\\'s digital-first world.', 'In April 2019, Kongsberg Maritime (NSKFF) completed the acquisition of Rolls-Royce Commercial Marine (RRCM).', 'In April 2019, Kongsberg Maritime (NSKFF) completed the acquisition of Rolls-Royce Commercial Marine (RRCM).', 'Other ecosystem examples are the Cisco Hyper Innovation Living Labs (CHILLs) and the YardClub construction marketplace (acquired by Caterpillar).', 'Other ecosystem examples are the Cisco Hyper Innovation Living Labs (CHILLs) and the YardClub construction marketplace (acquired by Caterpillar).', 'Erik Josefsson, Head of Advanced Industries at Ericsson, said: \"Ericsson launched a global partnership with ABB at Hannover Messe in April 2019.', 'Erik Josefsson, Head of Advanced Industries at Ericsson, said: \"Ericsson launched a global partnership with ABB at Hannover Messe in April 2019.', \"Telia's 5G launch lays the foundations for the next phase of digital transformation, with innovation, sustainability and security as three critical pillars, and we are proud to be doing this launch in partnership with Ericsson.\", \"Telia's 5G launch lays the foundations for the next phase of digital transformation, with innovation, sustainability and security as three critical pillars, and we are proud to be doing this launch in partnership with Ericsson.\", '\"The best companies in the world are no longer satisfied with ‘doing better’,\" said Andrew Steer, president and CEO of World Resources Institute, in a statement.', '\"The best companies in the world are no longer satisfied with ‘doing better’,\" said Andrew Steer, president and CEO of World Resources Institute, in a statement.', 'Telia in Lithuania has entered into a strategic partnership with Ericsson to modernize its mobile network and rollout of 5G across the country.', 'Telia in Lithuania has entered into a strategic partnership with Ericsson to modernize its mobile network and rollout of 5G across the country.', \"Updated 4G networks and the upcoming 5G technology will deliver both people and businesses with a qualitative leap in several areas - from education, healthcare to transport and leisure' says Dan Strömberg, CEO of Telia in Lithuania and the Head of LED.\\n\\n\", \"Updated 4G networks and the upcoming 5G technology will deliver both people and businesses with a qualitative leap in several areas - from education, healthcare to transport and leisure' says Dan Strömberg, CEO of Telia in Lithuania and the Head of LED.\\n\\n\", \"Jenny Lindqvist, Head of Northern and Central Europe, Ericsson, says: 'We are excited to further strengthen our partnership with Telia, to power enhanced 4G and next-generation 5G to their customers in Lithuania.\", \"Jenny Lindqvist, Head of Northern and Central Europe, Ericsson, says: 'We are excited to further strengthen our partnership with Telia, to power enhanced 4G and next-generation 5G to their customers in Lithuania.\", \"The Telia 5G network, built in partnership with Ericsson, will be up to five times more energy efficient than previous generations, and will be powered by 100 percent renewable electricity, which is of particular importance considering the constant growth of data and Telia's goal to achieve zero CO2 in its operations by 2030.\\n\\n\", \"The Telia 5G network, built in partnership with Ericsson, will be up to five times more energy efficient than previous generations, and will be powered by 100 percent renewable electricity, which is of particular importance considering the constant growth of data and Telia's goal to achieve zero CO2 in its operations by 2030.\\n\\n\", 'Last month, Telia Company also announced a strategic partnership with Ericsson in Sweden and Estonia to modernize its 4G networks and upgrade them to 5G.\\n\\n', 'Last month, Telia Company also announced a strategic partnership with Ericsson in Sweden and Estonia to modernize its 4G networks and upgrade them to 5G.\\n\\n', 'Mobile game publisher Scopely has acquired Digit Game Studios the developer that made the mobile online strategy game Star Trek Fleet Command', 'Mobile game publisher Scopely has acquired Digit Game Studios the developer that made the mobile online strategy game Star Trek Fleet Command', 'The first and third use open RAN; the second, at the Port of Felixstowe, is being managed by Hutchison Ports, and engages mobile operator Three UK, also a subsidiary of CK Hutchison Holdings.\\n\\n', 'The first and third use open RAN; the second, at the Port of Felixstowe, is being managed by Hutchison Ports, and engages mobile operator Three UK, also a subsidiary of CK Hutchison Holdings.\\n\\n', 'The consortium is led by Members Association DTG (Digital TV Group) working in partnership with Digital Catapult, GWS, O2 Telefonica, and Rohde & Schwarz.\\n\\n'], 'start_idx': ['1013', '1013', '1751', '1751', '65', '65', '39', '39', '3249', '3249', '1164', '1164', '258', '258', '101', '101', '524', '524', '1173', '1173', '260', '260', '117', '117', '95', '95', '81', '81', '3230', '3230', '117', '117', '27', '27', '133', '133', '2636', '2636', '4148', '4148', '5719', '5719', '2236', '2236', '3323', '3323', '8806', '8806', '2546', '2546', '3229', '3229', '3653', '3653', '48', '48', '775', '775', '1514', '1514', '1932', '1932', '2399', '2399', '30', '30', '2634', '2634', '8059'], 'string_id': ['invested_in', 'founded_by', 'acquired_by', 'owned_by', 'invested_in', 'founded_by', 'founded_by', 'invested_in', 'founded_by', 'subsidiary_of', 'CEO_of', 'invested_in', 'CEO_of', 'acquired_by', 'subsidiary_of', 'CEO_of', 'founded_by', 'acquired_by', 'founded_by', 'owned_by', 'partners_with', 'invested_in', 'invested_in', 'subsidiary_of', 'acquired_by', 'founded_by', 'subsidiary_of', 'owned_by', 'invested_in', 'acquired_by', 'subsidiary_of', 'CEO_of', 'subsidiary_of', 'partners_with', 'subsidiary_of', 'acquired_by', 'partners_with', 'founded_by', 'owned_by', 'subsidiary_of', 'partners_with', 'owned_by', 'CEO_of', 'partners_with', 'acquired_by', 'founded_by', 'acquired_by', 'subsidiary_of', 'partners_with', 'founded_by', 'partners_with', 'founded_by', 'CEO_of', 'invested_in', 'partners_with', 'invested_in', 'CEO_of', 'owned_by', 'partners_with', 'owned_by', 'partners_with', 'CEO_of', 'partners_with', 'invested_in', 'acquired_by', 'founded_by', 'subsidiary_of', 'invested_in', 'partners_with'], 'question': ['who invested in Baillie Gifford?', 'who founded Baillie Gifford?', 'who acquired Giphy?', 'who owns Giphy?', 'who invested in CapitalG?', 'who founded CapitalG?', 'who founded CloudBlue?', 'who invested in CloudBlue?', 'who founded Barcelona Dublin DIGIT Game Studio?', 'who is subsidiary of Barcelona Dublin DIGIT Game Studio?', 'who is the CEO of Changpeng Zhao?', 'who invested in Changpeng Zhao?', 'who is the CEO of Cointelegraph?', 'who acquired Cointelegraph?', 'who is subsidiary of Safeway?', 'who is the CEO of Safeway?', 'who founded Quantum Economics?', 'who acquired Quantum Economics?', 'who founded Alexandre Dreyfus?', 'who owns Alexandre Dreyfus?', 'who is partner with Fintech?', 'who invested in Fintech?', 'who invested in Alexandre Dreyfus?', 'who is subsidiary of Alexandre Dreyfus?', 'who acquired FoxNext Games Los Angeles?', 'who founded FoxNext Games Los Angeles?', 'who is subsidiary of Cargotec?', 'who owns Cargotec?', 'who invested in Alfa Lift?', 'who acquired Alfa Lift?', 'who is subsidiary of Cargotec?', 'who is the CEO of Cargotec?', 'who is subsidiary of Cargotec?', 'who is partner with Cargotec?', 'who is subsidiary of Cargotec?', 'who acquired Cargotec?', 'who is partner with Intel?', 'who founded Intel?', 'who owns U.K.’s Plymouth Marine Laboratory?', 'who is subsidiary of U.K.’s Plymouth Marine Laboratory?', 'who is partner with Intel?', 'who owns Intel?', 'who is the CEO of Investis Digital?', 'who is partner with Investis Digital?', 'who acquired Rolls-Royce Commercial Marine?', 'who founded Rolls-Royce Commercial Marine?', 'who acquired Caterpillar?', 'who is subsidiary of Caterpillar?', 'who is partner with ABB?', 'who founded ABB?', 'who is partner with Ericsson?', 'who founded Ericsson?', 'who is the CEO of World Resources Institute?', 'who invested in World Resources Institute?', 'who is partner with Ericsson?', 'who invested in Ericsson?', 'who is the CEO of Telia?', 'who owns Telia?', 'who is partner with Telia?', 'who owns Telia?', 'who is partner with Ericsson?', 'who is the CEO of Ericsson?', 'who is partner with Ericsson?', 'who invested in Ericsson?', 'who acquired Digit Game Studios?', 'who founded Digit Game Studios?', 'who is subsidiary of CK Hutchison Holdings?', 'who invested in CK Hutchison Holdings?', 'who is partner with Digital Catapult?'], 'answers': [{'answer_start': [3], 'text': ['Lilium']}, {'answer_start': [], 'text': []}, {'answer_start': [92], 'text': ['Facebook ’s']}, {'answer_start': [], 'text': []}, {'answer_start': [52], 'text': ['Collibra']}, {'answer_start': [], 'text': []}, {'answer_start': [30], 'text': ['Randy']}, {'answer_start': [], 'text': []}, {'answer_start': [381], 'text': ['Scopely']}, {'answer_start': [], 'text': []}, {'answer_start': [0], 'text': ['Dreyfus']}, {'answer_start': [], 'text': []}, {'answer_start': [251], 'text': ['Chiliz']}, {'answer_start': [], 'text': []}, {'answer_start': [13], 'text': ['Lolli']}, {'answer_start': [], 'text': []}, {'answer_start': [0], 'text': ['Mati Greenspan']}, {'answer_start': [], 'text': []}, {'answer_start': [90], 'text': ['Chiliz']}, {'answer_start': [], 'text': []}, {'answer_start': [50], 'text': ['Chiliz']}, {'answer_start': [], 'text': []}, {'answer_start': [26], 'text': ['Chiliz']}, {'answer_start': [], 'text': []}, {'answer_start': [0], 'text': ['Star Trek Fleet Command']}, {'answer_start': [], 'text': []}, {'answer_start': [0], 'text': ['MacGregor']}, {'answer_start': [], 'text': []}, {'answer_start': [50], 'text': ['MacGregor']}, {'answer_start': [], 'text': []}, {'answer_start': [106], 'text': ['MacGregor']}, {'answer_start': [], 'text': []}, {'answer_start': [16], 'text': ['MacGregor']}, {'answer_start': [], 'text': []}, {'answer_start': [30], 'text': ['MacGregor']}, {'answer_start': [], 'text': []}, {'answer_start': [11], 'text': ['Rolls-Royce']}, {'answer_start': [], 'text': []}, {'answer_start': [148], 'text': ['Plymouth Quest']}, {'answer_start': [], 'text': []}, {'answer_start': [11], 'text': ['Rolls-Royce']}, {'answer_start': [], 'text': []}, {'answer_start': [0], 'text': ['Don Scales']}, {'answer_start': [], 'text': []}, {'answer_start': [35], 'text': ['NSKFF']}, {'answer_start': [], 'text': []}, {'answer_start': [85], 'text': ['YardClub']}, {'answer_start': [], 'text': []}, {'answer_start': [64], 'text': ['Ericsson']}, {'answer_start': [], 'text': []}, {'answer_start': [0], 'text': ['Telia']}, {'answer_start': [], 'text': []}, {'answer_start': [84], 'text': ['Andrew Steer']}, {'answer_start': [], 'text': []}, {'answer_start': [0], 'text': ['Telia']}, {'answer_start': [], 'text': []}, {'answer_start': [192], 'text': ['Dan Strömberg']}, {'answer_start': [], 'text': []}, {'answer_start': [54], 'text': ['Ericsson']}, {'answer_start': [], 'text': []}, {'answer_start': [4], 'text': ['Telia']}, {'answer_start': [], 'text': []}, {'answer_start': [12], 'text': ['Telia Company']}, {'answer_start': [], 'text': []}, {'answer_start': [22], 'text': ['Scopely']}, {'answer_start': [], 'text': []}, {'answer_start': [138], 'text': ['Three UK']}, {'answer_start': [], 'text': []}, {'answer_start': [50], 'text': ['Digital TV Group']}], 'id': ['0', '0', '1', '1', '10', '10', '100', '100', '1000', '1000', '10001', '10001', '10002', '10002', '10004', '10004', '10005', '10005', '10006', '10006', '10007', '10007', '10009', '10009', '1001', '1001', '10010', '10010', '10011', '10011', '10012', '10012', '10013', '10013', '10014', '10014', '10015', '10015', '10016', '10016', '10017', '10017', '10018', '10018', '10019', '10019', '10020', '10020', '10021', '10021', '10022', '10022', '10024', '10024', '10025', '10025', '10026', '10026', '10027', '10027', '10028', '10028', '10029', '10029', '1003', '1003', '10031', '10031', '10032'], 'question_id': ['0', '12032', '1', '12040', '10', '12112', '100', '12832', '1000', '20032', '10001', '92040', '10002', '92048', '10004', '92064', '10005', '92072', '10006', '92080', '10007', '92088', '10009', '92104', '1001', '20040', '10010', '92112', '10011', '92120', '10012', '92128', '10013', '92136', '10014', '92144', '10015', '92152', '10016', '92160', '10017', '92168', '10018', '92176', '10019', '92184', '10020', '92192', '10021', '92200', '10022', '92208', '10024', '92224', '10025', '92232', '10026', '92240', '10027', '92248', '10028', '92256', '10029', '92264', '1003', '20056', '10031', '92280', '10032'], '__index_level_0__': [0, 0, 1, 1, 10, 10, 100, 100, 1000, 1000, 10001, 10001, 10002, 10002, 10004, 10004, 10005, 10005, 10006, 10006, 10007, 10007, 10009, 10009, 1001, 1001, 10010, 10010, 10011, 10011, 10012, 10012, 10013, 10013, 10014, 10014, 10015, 10015, 10016, 10016, 10017, 10017, 10018, 10018, 10019, 10019, 10020, 10020, 10021, 10021, 10022, 10022, 10024, 10024, 10025, 10025, 10026, 10026, 10027, 10027, 10028, 10028, 10029, 10029, 1003, 1003, 10031, 10031, 10032]}\n"
          ],
          "name": "stdout"
        }
      ]
    },
    {
      "cell_type": "markdown",
      "metadata": {
        "id": "0lm8ozrJIrJR"
      },
      "source": [
        "This function works with one or several examples. In the case of several examples, the tokenizer will return a list of lists for each key:"
      ]
    },
    {
      "cell_type": "code",
      "metadata": {
        "id": "-b70jh26IrJS",
        "colab": {
          "base_uri": "https://localhost:8080/"
        },
        "outputId": "7e2ffb7f-6dd4-4e89-99d8-8232fc0c2fd1"
      },
      "source": [
        "features = prepare_train_features(datasets['train'][:5])\n",
        "features"
      ],
      "execution_count": 43,
      "outputs": [
        {
          "output_type": "execute_result",
          "data": {
            "text/plain": [
              "{'input_ids': [[101, 2040, 11241, 1999, 15358, 8751, 29360, 1029, 102, 1017, 1007, 13451, 5007, 1010, 1037, 2446, 22752, 2008, 1521, 1055, 2437, 2019, 2035, 1011, 3751, 7471, 19744, 1998, 4899, 4628, 6892, 2150, 1037, 1520, 21830, 1521, 2044, 6274, 1002, 3486, 2454, 2013, 15358, 8751, 29360, 1010, 1996, 2922, 14316, 1999, 26060, 2044, 2049, 22301, 3954, 3449, 2239, 14163, 6711, 1012, 102, 0, 0, 0, 0, 0, 0, 0, 0, 0, 0, 0, 0, 0, 0, 0, 0, 0, 0, 0, 0, 0, 0, 0, 0, 0, 0, 0, 0, 0, 0, 0, 0, 0, 0, 0, 0, 0, 0, 0, 0, 0, 0, 0, 0, 0, 0, 0, 0, 0, 0, 0, 0, 0, 0, 0, 0, 0, 0, 0, 0, 0, 0, 0, 0, 0, 0, 0, 0, 0, 0, 0, 0, 0, 0, 0, 0, 0, 0, 0, 0, 0, 0, 0, 0, 0, 0, 0, 0, 0, 0, 0, 0, 0, 0, 0, 0, 0, 0, 0, 0, 0, 0, 0, 0, 0, 0, 0, 0, 0, 0, 0, 0, 0, 0, 0, 0, 0, 0, 0, 0, 0, 0, 0, 0, 0, 0, 0, 0, 0, 0, 0, 0, 0, 0, 0, 0, 0, 0, 0, 0, 0, 0, 0, 0, 0, 0, 0, 0, 0, 0, 0, 0, 0, 0, 0, 0, 0, 0, 0, 0, 0, 0, 0, 0, 0, 0, 0, 0, 0, 0, 0, 0, 0, 0, 0, 0, 0, 0, 0, 0, 0, 0, 0, 0, 0, 0, 0, 0, 0, 0, 0, 0, 0, 0, 0, 0, 0, 0, 0, 0, 0, 0, 0, 0, 0, 0, 0, 0, 0, 0, 0, 0, 0, 0, 0, 0, 0, 0, 0, 0, 0, 0, 0, 0, 0, 0, 0, 0, 0, 0, 0, 0, 0, 0, 0, 0, 0, 0, 0, 0, 0, 0, 0, 0, 0, 0, 0, 0, 0, 0, 0, 0, 0, 0, 0, 0, 0, 0, 0, 0, 0, 0, 0, 0, 0, 0, 0, 0, 0, 0, 0, 0, 0, 0, 0, 0, 0, 0, 0, 0, 0, 0, 0, 0, 0, 0, 0, 0, 0, 0, 0, 0, 0, 0, 0, 0, 0, 0, 0, 0, 0, 0, 0, 0, 0, 0, 0, 0, 0, 0, 0, 0, 0, 0, 0, 0, 0, 0, 0, 0, 0, 0, 0], [101, 2040, 2631, 15358, 8751, 29360, 1029, 102, 1017, 1007, 13451, 5007, 1010, 1037, 2446, 22752, 2008, 1521, 1055, 2437, 2019, 2035, 1011, 3751, 7471, 19744, 1998, 4899, 4628, 6892, 2150, 1037, 1520, 21830, 1521, 2044, 6274, 1002, 3486, 2454, 2013, 15358, 8751, 29360, 1010, 1996, 2922, 14316, 1999, 26060, 2044, 2049, 22301, 3954, 3449, 2239, 14163, 6711, 1012, 102, 0, 0, 0, 0, 0, 0, 0, 0, 0, 0, 0, 0, 0, 0, 0, 0, 0, 0, 0, 0, 0, 0, 0, 0, 0, 0, 0, 0, 0, 0, 0, 0, 0, 0, 0, 0, 0, 0, 0, 0, 0, 0, 0, 0, 0, 0, 0, 0, 0, 0, 0, 0, 0, 0, 0, 0, 0, 0, 0, 0, 0, 0, 0, 0, 0, 0, 0, 0, 0, 0, 0, 0, 0, 0, 0, 0, 0, 0, 0, 0, 0, 0, 0, 0, 0, 0, 0, 0, 0, 0, 0, 0, 0, 0, 0, 0, 0, 0, 0, 0, 0, 0, 0, 0, 0, 0, 0, 0, 0, 0, 0, 0, 0, 0, 0, 0, 0, 0, 0, 0, 0, 0, 0, 0, 0, 0, 0, 0, 0, 0, 0, 0, 0, 0, 0, 0, 0, 0, 0, 0, 0, 0, 0, 0, 0, 0, 0, 0, 0, 0, 0, 0, 0, 0, 0, 0, 0, 0, 0, 0, 0, 0, 0, 0, 0, 0, 0, 0, 0, 0, 0, 0, 0, 0, 0, 0, 0, 0, 0, 0, 0, 0, 0, 0, 0, 0, 0, 0, 0, 0, 0, 0, 0, 0, 0, 0, 0, 0, 0, 0, 0, 0, 0, 0, 0, 0, 0, 0, 0, 0, 0, 0, 0, 0, 0, 0, 0, 0, 0, 0, 0, 0, 0, 0, 0, 0, 0, 0, 0, 0, 0, 0, 0, 0, 0, 0, 0, 0, 0, 0, 0, 0, 0, 0, 0, 0, 0, 0, 0, 0, 0, 0, 0, 0, 0, 0, 0, 0, 0, 0, 0, 0, 0, 0, 0, 0, 0, 0, 0, 0, 0, 0, 0, 0, 0, 0, 0, 0, 0, 0, 0, 0, 0, 0, 0, 0, 0, 0, 0, 0, 0, 0, 0, 0, 0, 0, 0, 0, 0, 0, 0, 0, 0, 0, 0, 0, 0, 0, 0, 0, 0, 0, 0, 0, 0, 0, 0, 0, 0, 0, 0, 0, 0, 0], [101, 2040, 3734, 21025, 21281, 1029, 102, 5564, 1010, 1996, 2866, 1521, 1055, 3422, 16168, 2006, 5958, 2623, 2008, 2009, 2038, 3390, 2019, 4812, 2046, 9130, 1521, 1055, 1006, 7283, 2005, 1002, 4278, 2454, 1007, 7654, 1997, 21025, 21281, 1010, 1996, 2759, 21025, 2546, 22409, 1998, 3945, 3194, 1012, 102, 0, 0, 0, 0, 0, 0, 0, 0, 0, 0, 0, 0, 0, 0, 0, 0, 0, 0, 0, 0, 0, 0, 0, 0, 0, 0, 0, 0, 0, 0, 0, 0, 0, 0, 0, 0, 0, 0, 0, 0, 0, 0, 0, 0, 0, 0, 0, 0, 0, 0, 0, 0, 0, 0, 0, 0, 0, 0, 0, 0, 0, 0, 0, 0, 0, 0, 0, 0, 0, 0, 0, 0, 0, 0, 0, 0, 0, 0, 0, 0, 0, 0, 0, 0, 0, 0, 0, 0, 0, 0, 0, 0, 0, 0, 0, 0, 0, 0, 0, 0, 0, 0, 0, 0, 0, 0, 0, 0, 0, 0, 0, 0, 0, 0, 0, 0, 0, 0, 0, 0, 0, 0, 0, 0, 0, 0, 0, 0, 0, 0, 0, 0, 0, 0, 0, 0, 0, 0, 0, 0, 0, 0, 0, 0, 0, 0, 0, 0, 0, 0, 0, 0, 0, 0, 0, 0, 0, 0, 0, 0, 0, 0, 0, 0, 0, 0, 0, 0, 0, 0, 0, 0, 0, 0, 0, 0, 0, 0, 0, 0, 0, 0, 0, 0, 0, 0, 0, 0, 0, 0, 0, 0, 0, 0, 0, 0, 0, 0, 0, 0, 0, 0, 0, 0, 0, 0, 0, 0, 0, 0, 0, 0, 0, 0, 0, 0, 0, 0, 0, 0, 0, 0, 0, 0, 0, 0, 0, 0, 0, 0, 0, 0, 0, 0, 0, 0, 0, 0, 0, 0, 0, 0, 0, 0, 0, 0, 0, 0, 0, 0, 0, 0, 0, 0, 0, 0, 0, 0, 0, 0, 0, 0, 0, 0, 0, 0, 0, 0, 0, 0, 0, 0, 0, 0, 0, 0, 0, 0, 0, 0, 0, 0, 0, 0, 0, 0, 0, 0, 0, 0, 0, 0, 0, 0, 0, 0, 0, 0, 0, 0, 0, 0, 0, 0, 0, 0, 0, 0, 0, 0, 0, 0, 0, 0, 0, 0, 0, 0, 0, 0, 0, 0, 0, 0, 0, 0, 0, 0, 0, 0, 0, 0, 0, 0], [101, 2040, 8617, 21025, 21281, 1029, 102, 5564, 1010, 1996, 2866, 1521, 1055, 3422, 16168, 2006, 5958, 2623, 2008, 2009, 2038, 3390, 2019, 4812, 2046, 9130, 1521, 1055, 1006, 7283, 2005, 1002, 4278, 2454, 1007, 7654, 1997, 21025, 21281, 1010, 1996, 2759, 21025, 2546, 22409, 1998, 3945, 3194, 1012, 102, 0, 0, 0, 0, 0, 0, 0, 0, 0, 0, 0, 0, 0, 0, 0, 0, 0, 0, 0, 0, 0, 0, 0, 0, 0, 0, 0, 0, 0, 0, 0, 0, 0, 0, 0, 0, 0, 0, 0, 0, 0, 0, 0, 0, 0, 0, 0, 0, 0, 0, 0, 0, 0, 0, 0, 0, 0, 0, 0, 0, 0, 0, 0, 0, 0, 0, 0, 0, 0, 0, 0, 0, 0, 0, 0, 0, 0, 0, 0, 0, 0, 0, 0, 0, 0, 0, 0, 0, 0, 0, 0, 0, 0, 0, 0, 0, 0, 0, 0, 0, 0, 0, 0, 0, 0, 0, 0, 0, 0, 0, 0, 0, 0, 0, 0, 0, 0, 0, 0, 0, 0, 0, 0, 0, 0, 0, 0, 0, 0, 0, 0, 0, 0, 0, 0, 0, 0, 0, 0, 0, 0, 0, 0, 0, 0, 0, 0, 0, 0, 0, 0, 0, 0, 0, 0, 0, 0, 0, 0, 0, 0, 0, 0, 0, 0, 0, 0, 0, 0, 0, 0, 0, 0, 0, 0, 0, 0, 0, 0, 0, 0, 0, 0, 0, 0, 0, 0, 0, 0, 0, 0, 0, 0, 0, 0, 0, 0, 0, 0, 0, 0, 0, 0, 0, 0, 0, 0, 0, 0, 0, 0, 0, 0, 0, 0, 0, 0, 0, 0, 0, 0, 0, 0, 0, 0, 0, 0, 0, 0, 0, 0, 0, 0, 0, 0, 0, 0, 0, 0, 0, 0, 0, 0, 0, 0, 0, 0, 0, 0, 0, 0, 0, 0, 0, 0, 0, 0, 0, 0, 0, 0, 0, 0, 0, 0, 0, 0, 0, 0, 0, 0, 0, 0, 0, 0, 0, 0, 0, 0, 0, 0, 0, 0, 0, 0, 0, 0, 0, 0, 0, 0, 0, 0, 0, 0, 0, 0, 0, 0, 0, 0, 0, 0, 0, 0, 0, 0, 0, 0, 0, 0, 0, 0, 0, 0, 0, 0, 0, 0, 0, 0, 0, 0, 0, 0, 0, 0, 0, 0, 0, 0, 0, 0, 0], [101, 2040, 11241, 1999, 3007, 2290, 1029, 102, 5706, 1013, 2149, 1011, 2241, 2951, 10615, 2974, 2194, 8902, 29521, 2527, 2038, 2992, 1002, 2531, 2454, 2013, 3007, 2290, 1010, 8224, 1521, 1055, 3930, 5211, 2849, 1010, 3228, 2009, 1037, 26004, 2682, 1002, 1015, 4551, 2429, 2000, 2139, 14841, 3501, 2094, 1998, 7280, 1012, 102, 0, 0, 0, 0, 0, 0, 0, 0, 0, 0, 0, 0, 0, 0, 0, 0, 0, 0, 0, 0, 0, 0, 0, 0, 0, 0, 0, 0, 0, 0, 0, 0, 0, 0, 0, 0, 0, 0, 0, 0, 0, 0, 0, 0, 0, 0, 0, 0, 0, 0, 0, 0, 0, 0, 0, 0, 0, 0, 0, 0, 0, 0, 0, 0, 0, 0, 0, 0, 0, 0, 0, 0, 0, 0, 0, 0, 0, 0, 0, 0, 0, 0, 0, 0, 0, 0, 0, 0, 0, 0, 0, 0, 0, 0, 0, 0, 0, 0, 0, 0, 0, 0, 0, 0, 0, 0, 0, 0, 0, 0, 0, 0, 0, 0, 0, 0, 0, 0, 0, 0, 0, 0, 0, 0, 0, 0, 0, 0, 0, 0, 0, 0, 0, 0, 0, 0, 0, 0, 0, 0, 0, 0, 0, 0, 0, 0, 0, 0, 0, 0, 0, 0, 0, 0, 0, 0, 0, 0, 0, 0, 0, 0, 0, 0, 0, 0, 0, 0, 0, 0, 0, 0, 0, 0, 0, 0, 0, 0, 0, 0, 0, 0, 0, 0, 0, 0, 0, 0, 0, 0, 0, 0, 0, 0, 0, 0, 0, 0, 0, 0, 0, 0, 0, 0, 0, 0, 0, 0, 0, 0, 0, 0, 0, 0, 0, 0, 0, 0, 0, 0, 0, 0, 0, 0, 0, 0, 0, 0, 0, 0, 0, 0, 0, 0, 0, 0, 0, 0, 0, 0, 0, 0, 0, 0, 0, 0, 0, 0, 0, 0, 0, 0, 0, 0, 0, 0, 0, 0, 0, 0, 0, 0, 0, 0, 0, 0, 0, 0, 0, 0, 0, 0, 0, 0, 0, 0, 0, 0, 0, 0, 0, 0, 0, 0, 0, 0, 0, 0, 0, 0, 0, 0, 0, 0, 0, 0, 0, 0, 0, 0, 0, 0, 0, 0, 0, 0, 0, 0, 0, 0, 0, 0, 0, 0, 0, 0, 0, 0, 0, 0, 0, 0, 0, 0, 0, 0, 0, 0, 0, 0]], 'attention_mask': [[1, 1, 1, 1, 1, 1, 1, 1, 1, 1, 1, 1, 1, 1, 1, 1, 1, 1, 1, 1, 1, 1, 1, 1, 1, 1, 1, 1, 1, 1, 1, 1, 1, 1, 1, 1, 1, 1, 1, 1, 1, 1, 1, 1, 1, 1, 1, 1, 1, 1, 1, 1, 1, 1, 1, 1, 1, 1, 1, 1, 1, 0, 0, 0, 0, 0, 0, 0, 0, 0, 0, 0, 0, 0, 0, 0, 0, 0, 0, 0, 0, 0, 0, 0, 0, 0, 0, 0, 0, 0, 0, 0, 0, 0, 0, 0, 0, 0, 0, 0, 0, 0, 0, 0, 0, 0, 0, 0, 0, 0, 0, 0, 0, 0, 0, 0, 0, 0, 0, 0, 0, 0, 0, 0, 0, 0, 0, 0, 0, 0, 0, 0, 0, 0, 0, 0, 0, 0, 0, 0, 0, 0, 0, 0, 0, 0, 0, 0, 0, 0, 0, 0, 0, 0, 0, 0, 0, 0, 0, 0, 0, 0, 0, 0, 0, 0, 0, 0, 0, 0, 0, 0, 0, 0, 0, 0, 0, 0, 0, 0, 0, 0, 0, 0, 0, 0, 0, 0, 0, 0, 0, 0, 0, 0, 0, 0, 0, 0, 0, 0, 0, 0, 0, 0, 0, 0, 0, 0, 0, 0, 0, 0, 0, 0, 0, 0, 0, 0, 0, 0, 0, 0, 0, 0, 0, 0, 0, 0, 0, 0, 0, 0, 0, 0, 0, 0, 0, 0, 0, 0, 0, 0, 0, 0, 0, 0, 0, 0, 0, 0, 0, 0, 0, 0, 0, 0, 0, 0, 0, 0, 0, 0, 0, 0, 0, 0, 0, 0, 0, 0, 0, 0, 0, 0, 0, 0, 0, 0, 0, 0, 0, 0, 0, 0, 0, 0, 0, 0, 0, 0, 0, 0, 0, 0, 0, 0, 0, 0, 0, 0, 0, 0, 0, 0, 0, 0, 0, 0, 0, 0, 0, 0, 0, 0, 0, 0, 0, 0, 0, 0, 0, 0, 0, 0, 0, 0, 0, 0, 0, 0, 0, 0, 0, 0, 0, 0, 0, 0, 0, 0, 0, 0, 0, 0, 0, 0, 0, 0, 0, 0, 0, 0, 0, 0, 0, 0, 0, 0, 0, 0, 0, 0, 0, 0, 0, 0, 0, 0, 0, 0, 0, 0, 0, 0, 0, 0, 0, 0, 0, 0, 0, 0, 0, 0], [1, 1, 1, 1, 1, 1, 1, 1, 1, 1, 1, 1, 1, 1, 1, 1, 1, 1, 1, 1, 1, 1, 1, 1, 1, 1, 1, 1, 1, 1, 1, 1, 1, 1, 1, 1, 1, 1, 1, 1, 1, 1, 1, 1, 1, 1, 1, 1, 1, 1, 1, 1, 1, 1, 1, 1, 1, 1, 1, 1, 0, 0, 0, 0, 0, 0, 0, 0, 0, 0, 0, 0, 0, 0, 0, 0, 0, 0, 0, 0, 0, 0, 0, 0, 0, 0, 0, 0, 0, 0, 0, 0, 0, 0, 0, 0, 0, 0, 0, 0, 0, 0, 0, 0, 0, 0, 0, 0, 0, 0, 0, 0, 0, 0, 0, 0, 0, 0, 0, 0, 0, 0, 0, 0, 0, 0, 0, 0, 0, 0, 0, 0, 0, 0, 0, 0, 0, 0, 0, 0, 0, 0, 0, 0, 0, 0, 0, 0, 0, 0, 0, 0, 0, 0, 0, 0, 0, 0, 0, 0, 0, 0, 0, 0, 0, 0, 0, 0, 0, 0, 0, 0, 0, 0, 0, 0, 0, 0, 0, 0, 0, 0, 0, 0, 0, 0, 0, 0, 0, 0, 0, 0, 0, 0, 0, 0, 0, 0, 0, 0, 0, 0, 0, 0, 0, 0, 0, 0, 0, 0, 0, 0, 0, 0, 0, 0, 0, 0, 0, 0, 0, 0, 0, 0, 0, 0, 0, 0, 0, 0, 0, 0, 0, 0, 0, 0, 0, 0, 0, 0, 0, 0, 0, 0, 0, 0, 0, 0, 0, 0, 0, 0, 0, 0, 0, 0, 0, 0, 0, 0, 0, 0, 0, 0, 0, 0, 0, 0, 0, 0, 0, 0, 0, 0, 0, 0, 0, 0, 0, 0, 0, 0, 0, 0, 0, 0, 0, 0, 0, 0, 0, 0, 0, 0, 0, 0, 0, 0, 0, 0, 0, 0, 0, 0, 0, 0, 0, 0, 0, 0, 0, 0, 0, 0, 0, 0, 0, 0, 0, 0, 0, 0, 0, 0, 0, 0, 0, 0, 0, 0, 0, 0, 0, 0, 0, 0, 0, 0, 0, 0, 0, 0, 0, 0, 0, 0, 0, 0, 0, 0, 0, 0, 0, 0, 0, 0, 0, 0, 0, 0, 0, 0, 0, 0, 0, 0, 0, 0, 0, 0, 0, 0, 0, 0, 0, 0, 0, 0, 0, 0, 0, 0, 0, 0], [1, 1, 1, 1, 1, 1, 1, 1, 1, 1, 1, 1, 1, 1, 1, 1, 1, 1, 1, 1, 1, 1, 1, 1, 1, 1, 1, 1, 1, 1, 1, 1, 1, 1, 1, 1, 1, 1, 1, 1, 1, 1, 1, 1, 1, 1, 1, 1, 1, 1, 0, 0, 0, 0, 0, 0, 0, 0, 0, 0, 0, 0, 0, 0, 0, 0, 0, 0, 0, 0, 0, 0, 0, 0, 0, 0, 0, 0, 0, 0, 0, 0, 0, 0, 0, 0, 0, 0, 0, 0, 0, 0, 0, 0, 0, 0, 0, 0, 0, 0, 0, 0, 0, 0, 0, 0, 0, 0, 0, 0, 0, 0, 0, 0, 0, 0, 0, 0, 0, 0, 0, 0, 0, 0, 0, 0, 0, 0, 0, 0, 0, 0, 0, 0, 0, 0, 0, 0, 0, 0, 0, 0, 0, 0, 0, 0, 0, 0, 0, 0, 0, 0, 0, 0, 0, 0, 0, 0, 0, 0, 0, 0, 0, 0, 0, 0, 0, 0, 0, 0, 0, 0, 0, 0, 0, 0, 0, 0, 0, 0, 0, 0, 0, 0, 0, 0, 0, 0, 0, 0, 0, 0, 0, 0, 0, 0, 0, 0, 0, 0, 0, 0, 0, 0, 0, 0, 0, 0, 0, 0, 0, 0, 0, 0, 0, 0, 0, 0, 0, 0, 0, 0, 0, 0, 0, 0, 0, 0, 0, 0, 0, 0, 0, 0, 0, 0, 0, 0, 0, 0, 0, 0, 0, 0, 0, 0, 0, 0, 0, 0, 0, 0, 0, 0, 0, 0, 0, 0, 0, 0, 0, 0, 0, 0, 0, 0, 0, 0, 0, 0, 0, 0, 0, 0, 0, 0, 0, 0, 0, 0, 0, 0, 0, 0, 0, 0, 0, 0, 0, 0, 0, 0, 0, 0, 0, 0, 0, 0, 0, 0, 0, 0, 0, 0, 0, 0, 0, 0, 0, 0, 0, 0, 0, 0, 0, 0, 0, 0, 0, 0, 0, 0, 0, 0, 0, 0, 0, 0, 0, 0, 0, 0, 0, 0, 0, 0, 0, 0, 0, 0, 0, 0, 0, 0, 0, 0, 0, 0, 0, 0, 0, 0, 0, 0, 0, 0, 0, 0, 0, 0, 0, 0, 0, 0, 0, 0, 0, 0, 0, 0, 0, 0, 0, 0, 0, 0, 0, 0, 0, 0, 0, 0, 0, 0], [1, 1, 1, 1, 1, 1, 1, 1, 1, 1, 1, 1, 1, 1, 1, 1, 1, 1, 1, 1, 1, 1, 1, 1, 1, 1, 1, 1, 1, 1, 1, 1, 1, 1, 1, 1, 1, 1, 1, 1, 1, 1, 1, 1, 1, 1, 1, 1, 1, 1, 0, 0, 0, 0, 0, 0, 0, 0, 0, 0, 0, 0, 0, 0, 0, 0, 0, 0, 0, 0, 0, 0, 0, 0, 0, 0, 0, 0, 0, 0, 0, 0, 0, 0, 0, 0, 0, 0, 0, 0, 0, 0, 0, 0, 0, 0, 0, 0, 0, 0, 0, 0, 0, 0, 0, 0, 0, 0, 0, 0, 0, 0, 0, 0, 0, 0, 0, 0, 0, 0, 0, 0, 0, 0, 0, 0, 0, 0, 0, 0, 0, 0, 0, 0, 0, 0, 0, 0, 0, 0, 0, 0, 0, 0, 0, 0, 0, 0, 0, 0, 0, 0, 0, 0, 0, 0, 0, 0, 0, 0, 0, 0, 0, 0, 0, 0, 0, 0, 0, 0, 0, 0, 0, 0, 0, 0, 0, 0, 0, 0, 0, 0, 0, 0, 0, 0, 0, 0, 0, 0, 0, 0, 0, 0, 0, 0, 0, 0, 0, 0, 0, 0, 0, 0, 0, 0, 0, 0, 0, 0, 0, 0, 0, 0, 0, 0, 0, 0, 0, 0, 0, 0, 0, 0, 0, 0, 0, 0, 0, 0, 0, 0, 0, 0, 0, 0, 0, 0, 0, 0, 0, 0, 0, 0, 0, 0, 0, 0, 0, 0, 0, 0, 0, 0, 0, 0, 0, 0, 0, 0, 0, 0, 0, 0, 0, 0, 0, 0, 0, 0, 0, 0, 0, 0, 0, 0, 0, 0, 0, 0, 0, 0, 0, 0, 0, 0, 0, 0, 0, 0, 0, 0, 0, 0, 0, 0, 0, 0, 0, 0, 0, 0, 0, 0, 0, 0, 0, 0, 0, 0, 0, 0, 0, 0, 0, 0, 0, 0, 0, 0, 0, 0, 0, 0, 0, 0, 0, 0, 0, 0, 0, 0, 0, 0, 0, 0, 0, 0, 0, 0, 0, 0, 0, 0, 0, 0, 0, 0, 0, 0, 0, 0, 0, 0, 0, 0, 0, 0, 0, 0, 0, 0, 0, 0, 0, 0, 0, 0, 0, 0, 0, 0, 0, 0, 0, 0, 0, 0, 0, 0, 0, 0, 0, 0], [1, 1, 1, 1, 1, 1, 1, 1, 1, 1, 1, 1, 1, 1, 1, 1, 1, 1, 1, 1, 1, 1, 1, 1, 1, 1, 1, 1, 1, 1, 1, 1, 1, 1, 1, 1, 1, 1, 1, 1, 1, 1, 1, 1, 1, 1, 1, 1, 1, 1, 1, 1, 1, 1, 0, 0, 0, 0, 0, 0, 0, 0, 0, 0, 0, 0, 0, 0, 0, 0, 0, 0, 0, 0, 0, 0, 0, 0, 0, 0, 0, 0, 0, 0, 0, 0, 0, 0, 0, 0, 0, 0, 0, 0, 0, 0, 0, 0, 0, 0, 0, 0, 0, 0, 0, 0, 0, 0, 0, 0, 0, 0, 0, 0, 0, 0, 0, 0, 0, 0, 0, 0, 0, 0, 0, 0, 0, 0, 0, 0, 0, 0, 0, 0, 0, 0, 0, 0, 0, 0, 0, 0, 0, 0, 0, 0, 0, 0, 0, 0, 0, 0, 0, 0, 0, 0, 0, 0, 0, 0, 0, 0, 0, 0, 0, 0, 0, 0, 0, 0, 0, 0, 0, 0, 0, 0, 0, 0, 0, 0, 0, 0, 0, 0, 0, 0, 0, 0, 0, 0, 0, 0, 0, 0, 0, 0, 0, 0, 0, 0, 0, 0, 0, 0, 0, 0, 0, 0, 0, 0, 0, 0, 0, 0, 0, 0, 0, 0, 0, 0, 0, 0, 0, 0, 0, 0, 0, 0, 0, 0, 0, 0, 0, 0, 0, 0, 0, 0, 0, 0, 0, 0, 0, 0, 0, 0, 0, 0, 0, 0, 0, 0, 0, 0, 0, 0, 0, 0, 0, 0, 0, 0, 0, 0, 0, 0, 0, 0, 0, 0, 0, 0, 0, 0, 0, 0, 0, 0, 0, 0, 0, 0, 0, 0, 0, 0, 0, 0, 0, 0, 0, 0, 0, 0, 0, 0, 0, 0, 0, 0, 0, 0, 0, 0, 0, 0, 0, 0, 0, 0, 0, 0, 0, 0, 0, 0, 0, 0, 0, 0, 0, 0, 0, 0, 0, 0, 0, 0, 0, 0, 0, 0, 0, 0, 0, 0, 0, 0, 0, 0, 0, 0, 0, 0, 0, 0, 0, 0, 0, 0, 0, 0, 0, 0, 0, 0, 0, 0, 0, 0, 0, 0, 0, 0, 0, 0, 0, 0, 0, 0, 0, 0, 0, 0, 0, 0, 0, 0, 0, 0, 0, 0, 0, 0]], 'start_positions': [11, 0, 25, 0, 17], 'end_positions': [12, 0, 28, 0, 19]}"
            ]
          },
          "metadata": {
            "tags": []
          },
          "execution_count": 43
        }
      ]
    },
    {
      "cell_type": "markdown",
      "metadata": {
        "id": "zS-6iXTkIrJT"
      },
      "source": [
        "To apply this function on all the sentences (or pairs of sentences) in our dataset, we just use the `map` method of our `dataset` object we created earlier. This will apply the function on all the elements of all the splits in `dataset`, so our training, validation and testing data will be preprocessed in one single command. Since our preprocessing changes the number of samples, we need to remove the old columns when applying it."
      ]
    },
    {
      "cell_type": "code",
      "metadata": {
        "id": "DDtsaJeVIrJT",
        "colab": {
          "base_uri": "https://localhost:8080/",
          "height": 81,
          "referenced_widgets": [
            "4c1927167ab948f5867ccff59b9b6aa5",
            "47d5e9cc946f4d2787524e523e3fe265",
            "bdf7908060e04eb1b85e60b22b6f214d",
            "ba5acf44851c49adb419614d8f9865a1",
            "3a9a59cca02b4d2fa196867a93a3abc5",
            "e8a9381c96c84f9abba7588013288c46",
            "da9dad7a54c549eb8cd59cd05165b246",
            "59c1fbc597584c00a8aaa439e37d688f",
            "2eb1d0cb40684d41b468f1cf857359f3",
            "0e68cb4031a249feb78036f696a8eaa7",
            "666306f4cd01439a8cc8c77fcf505c79",
            "9f61b2532b5643d29db5e6ef83f00b78",
            "b10f1806e27d4d85818d8ed9556e5168",
            "40aa25520c164542a01ba7754f2336fb",
            "6851b5328d6d472aa2b33a91893b958f",
            "cb09be7e089b41ada491201f7a8ec37c",
            "a1fc88ff5c56415893a36521ac9ecd35",
            "043f82db0d5f4d7e97fddd2b935db8c0",
            "f7b4e4bda6f4451dbef491865599a4ce",
            "8e97bd93ed90485d912f8903311c9b16",
            "5795fa7cf6ad48c892914dd3482cfb66",
            "e9e17b63f6734d9698154f7d4250f662"
          ]
        },
        "outputId": "3170f982-27ad-4576-b147-9c4fe832d96d"
      },
      "source": [
        "tokenized_datasets = datasets.map(prepare_train_features, batched=True, remove_columns=datasets[\"train\"].column_names)"
      ],
      "execution_count": 44,
      "outputs": [
        {
          "output_type": "display_data",
          "data": {
            "application/vnd.jupyter.widget-view+json": {
              "model_id": "4c1927167ab948f5867ccff59b9b6aa5",
              "version_minor": 0,
              "version_major": 2
            },
            "text/plain": [
              "  0%|          | 0/20 [00:00<?, ?ba/s]"
            ]
          },
          "metadata": {
            "tags": []
          }
        },
        {
          "output_type": "display_data",
          "data": {
            "application/vnd.jupyter.widget-view+json": {
              "model_id": "9f61b2532b5643d29db5e6ef83f00b78",
              "version_minor": 0,
              "version_major": 2
            },
            "text/plain": [
              "  0%|          | 0/17 [00:00<?, ?ba/s]"
            ]
          },
          "metadata": {
            "tags": []
          }
        }
      ]
    },
    {
      "cell_type": "markdown",
      "metadata": {
        "id": "voWiw8C7IrJV"
      },
      "source": [
        "Even better, the results are automatically cached by the 🤗 Datasets library to avoid spending time on this step the next time you run your notebook. The 🤗 Datasets library is normally smart enough to detect when the function you pass to map has changed (and thus requires to not use the cache data). For instance, it will properly detect if you change the task in the first cell and rerun the notebook. 🤗 Datasets warns you when it uses cached files, you can pass `load_from_cache_file=False` in the call to `map` to not use the cached files and force the preprocessing to be applied again.\n",
        "\n",
        "Note that we passed `batched=True` to encode the texts by batches together. This is to leverage the full benefit of the fast tokenizer we loaded earlier, which will use multi-threading to treat the texts in a batch concurrently."
      ]
    },
    {
      "cell_type": "markdown",
      "metadata": {
        "id": "545PP3o8IrJV"
      },
      "source": [
        "## Fine-tuning the model"
      ]
    },
    {
      "cell_type": "markdown",
      "metadata": {
        "id": "FBiW8UpKIrJW"
      },
      "source": [
        "Now that our data is ready for training, we can download the pretrained model and fine-tune it. Since our task is question answering, we use the `AutoModelForQuestionAnswering` class. Like with the tokenizer, the `from_pretrained` method will download and cache the model for us:"
      ]
    },
    {
      "cell_type": "code",
      "metadata": {
        "id": "TlqNaB8jIrJW",
        "colab": {
          "base_uri": "https://localhost:8080/",
          "height": 160,
          "referenced_widgets": [
            "7699b0b728e849caafd5b887dcebbd72",
            "8b8c5eaf20444b3892a4d33a2842ffc4",
            "22649a803b99408c88bafa629008c28a",
            "0e4a63fa1ed54e329ecc0fd82b3117ed",
            "f2019d7c95b74de2b978ff92c4e56d6c",
            "32f046f4062746688c4fcecd4450d762",
            "8d64663f0119475e9f91c00cf6bd661e",
            "b76ca862549d48c6ac3412a22bc72b44",
            "c65bb99aef2f4ae3a4a8b26b9c3c4bda",
            "1472d558ffc54bb7b34f19ced10a87b0",
            "5716c932e2ec4c77811f35d586634417"
          ]
        },
        "outputId": "5ee47345-b705-43c5-b0f5-74b90e4b8968"
      },
      "source": [
        "from transformers import AutoModelForQuestionAnswering, TrainingArguments, Trainer\n",
        "\n",
        "model = AutoModelForQuestionAnswering.from_pretrained(model_checkpoint)"
      ],
      "execution_count": 45,
      "outputs": [
        {
          "output_type": "display_data",
          "data": {
            "application/vnd.jupyter.widget-view+json": {
              "model_id": "7699b0b728e849caafd5b887dcebbd72",
              "version_minor": 0,
              "version_major": 2
            },
            "text/plain": [
              "Downloading:   0%|          | 0.00/268M [00:00<?, ?B/s]"
            ]
          },
          "metadata": {
            "tags": []
          }
        },
        {
          "output_type": "stream",
          "text": [
            "Some weights of the model checkpoint at distilbert-base-uncased were not used when initializing DistilBertForQuestionAnswering: ['vocab_transform.bias', 'vocab_projector.bias', 'vocab_transform.weight', 'vocab_layer_norm.weight', 'vocab_layer_norm.bias', 'vocab_projector.weight']\n",
            "- This IS expected if you are initializing DistilBertForQuestionAnswering from the checkpoint of a model trained on another task or with another architecture (e.g. initializing a BertForSequenceClassification model from a BertForPreTraining model).\n",
            "- This IS NOT expected if you are initializing DistilBertForQuestionAnswering from the checkpoint of a model that you expect to be exactly identical (initializing a BertForSequenceClassification model from a BertForSequenceClassification model).\n",
            "Some weights of DistilBertForQuestionAnswering were not initialized from the model checkpoint at distilbert-base-uncased and are newly initialized: ['qa_outputs.weight', 'qa_outputs.bias']\n",
            "You should probably TRAIN this model on a down-stream task to be able to use it for predictions and inference.\n"
          ],
          "name": "stderr"
        }
      ]
    },
    {
      "cell_type": "code",
      "metadata": {
        "id": "L3uIlc8Iibdo"
      },
      "source": [
        "#in case we already trained the model and want to continue\n",
        "#model = AutoModelForQuestionAnswering.from_pretrained(\"/content/drive/MyDrive/nlp/test-rel-trained\")"
      ],
      "execution_count": 46,
      "outputs": []
    },
    {
      "cell_type": "markdown",
      "metadata": {
        "id": "CczA5lJlIrJX"
      },
      "source": [
        "The warning is telling us we are throwing away some weights (the `vocab_transform` and `vocab_layer_norm` layers) and randomly initializing some other (the `pre_classifier` and `classifier` layers). This is absolutely normal in this case, because we are removing the head used to pretrain the model on a masked language modeling objective and replacing it with a new head for which we don't have pretrained weights, so the library warns us we should fine-tune this model before using it for inference, which is exactly what we are going to do."
      ]
    },
    {
      "cell_type": "markdown",
      "metadata": {
        "id": "_N8urzhyIrJY"
      },
      "source": [
        "To instantiate a `Trainer`, we will need to define three more things. The most important is the [`TrainingArguments`](https://huggingface.co/transformers/main_classes/trainer.html#transformers.TrainingArguments), which is a class that contains all the attributes to customize the training. It requires one folder name, which will be used to save the checkpoints of the model, and all other arguments are optional:"
      ]
    },
    {
      "cell_type": "code",
      "metadata": {
        "id": "Bliy8zgjIrJY"
      },
      "source": [
        "args = TrainingArguments(\n",
        "    f\"test-rel\",\n",
        "    evaluation_strategy = \"epoch\",\n",
        "    learning_rate=2e-5,\n",
        "    per_device_train_batch_size=batch_size,\n",
        "    per_device_eval_batch_size=batch_size,\n",
        "    num_train_epochs=3,\n",
        "    weight_decay=0.01,\n",
        ")"
      ],
      "execution_count": 47,
      "outputs": []
    },
    {
      "cell_type": "markdown",
      "metadata": {
        "id": "km3pGVdTIrJc"
      },
      "source": [
        "Here we set the evaluation to be done at the end of each epoch, tweak the learning rate, use the `batch_size` defined at the top of the notebook and customize the number of epochs for training, as well as the weight decay."
      ]
    },
    {
      "cell_type": "markdown",
      "metadata": {
        "id": "F8TB0x3FdG9U"
      },
      "source": [
        "Then we will need a data collator that will batch our processed examples together, here the default one will work:"
      ]
    },
    {
      "cell_type": "code",
      "metadata": {
        "id": "_YnRTl2QdG9V"
      },
      "source": [
        "from transformers import default_data_collator\n",
        "\n",
        "data_collator = default_data_collator"
      ],
      "execution_count": 48,
      "outputs": []
    },
    {
      "cell_type": "markdown",
      "metadata": {
        "id": "rXuFTAzDIrJe"
      },
      "source": [
        "We will evaluate our model and compute metrics in the next section (this is a very long operation, so we will only compute the evaluation loss during training).\n",
        "\n",
        "Then we just need to pass all of this along with our datasets to the `Trainer`:"
      ]
    },
    {
      "cell_type": "code",
      "metadata": {
        "id": "imY1oC3SIrJf"
      },
      "source": [
        "trainer = Trainer(\n",
        "    model,\n",
        "    args,\n",
        "    train_dataset=tokenized_datasets[\"train\"],\n",
        "    eval_dataset=tokenized_datasets[\"val\"],\n",
        "    data_collator=data_collator,\n",
        "    tokenizer=tokenizer,\n",
        ")"
      ],
      "execution_count": 49,
      "outputs": []
    },
    {
      "cell_type": "markdown",
      "metadata": {
        "id": "CdzABDVcIrJg"
      },
      "source": [
        "We can now finetune our model by just calling the `train` method:"
      ]
    },
    {
      "cell_type": "code",
      "metadata": {
        "id": "uNx5pyRlIrJh"
      },
      "source": [
        "trainer.train()\n",
        "trainer.save_model(\"/content/drive/MyDrive/nlp/test-rel-trained\")"
      ],
      "execution_count": 50,
      "outputs": []
    },
    {
      "cell_type": "markdown",
      "metadata": {
        "id": "7PB8D29jdG9W"
      },
      "source": [
        "Since this training is particularly long, let's save the model just in case we need to restart."
      ]
    },
    {
      "cell_type": "markdown",
      "metadata": {
        "id": "RNzUf8BDdG9W"
      },
      "source": [
        "## Evaluation"
      ]
    },
    {
      "cell_type": "markdown",
      "metadata": {
        "id": "M1r1s79adG9W"
      },
      "source": [
        "Evaluating our model will require a bit more work, as we will need to map the predictions of our model back to parts of the context. The model itself predicts logits for the start and en position of our answers: if we take a batch from our validation datalaoder, here is the output our model gives us:"
      ]
    },
    {
      "cell_type": "code",
      "metadata": {
        "id": "_Qa5G8EmdG9X",
        "colab": {
          "base_uri": "https://localhost:8080/"
        },
        "outputId": "fbe4cae6-800b-401d-afa7-70ec26b26007"
      },
      "source": [
        "import torch\n",
        "\n",
        "for batch in trainer.get_eval_dataloader():\n",
        "    break\n",
        "batch = {k: v.to(trainer.args.device) for k, v in batch.items()}\n",
        "with torch.no_grad():\n",
        "    output = trainer.model(**batch)\n",
        "output.keys()"
      ],
      "execution_count": 51,
      "outputs": [
        {
          "output_type": "execute_result",
          "data": {
            "text/plain": [
              "odict_keys(['loss', 'start_logits', 'end_logits'])"
            ]
          },
          "metadata": {
            "tags": []
          },
          "execution_count": 51
        }
      ]
    },
    {
      "cell_type": "markdown",
      "metadata": {
        "id": "dwMRetd0dG9X"
      },
      "source": [
        "The output of the model is a dict-like object that contains the loss (since we provided labels), the start and end logits. We won't need the loss for our predictions, let's have a look a the logits:"
      ]
    },
    {
      "cell_type": "code",
      "metadata": {
        "id": "M3MDGVpCdG9X",
        "colab": {
          "base_uri": "https://localhost:8080/"
        },
        "outputId": "e89dfaee-8fff-4dbc-af81-64a568d184a9"
      },
      "source": [
        "output.start_logits.shape, output.end_logits.shape"
      ],
      "execution_count": 52,
      "outputs": [
        {
          "output_type": "execute_result",
          "data": {
            "text/plain": [
              "(torch.Size([16, 384]), torch.Size([16, 384]))"
            ]
          },
          "metadata": {
            "tags": []
          },
          "execution_count": 52
        }
      ]
    },
    {
      "cell_type": "markdown",
      "metadata": {
        "id": "ocGV88ZGdG9Y"
      },
      "source": [
        "We have one logit for each feature and each token. The most obvious thing to predict an answer for each featyre is to take the index for the maximum of the start logits as a start position and the index of the maximum of the end logits as an end position."
      ]
    },
    {
      "cell_type": "code",
      "metadata": {
        "id": "C-SklK5YdG9Y",
        "colab": {
          "base_uri": "https://localhost:8080/"
        },
        "outputId": "606bc389-a3cc-47a0-a9dc-4ea14ef1ff01"
      },
      "source": [
        "output.start_logits.argmax(dim=-1), output.end_logits.argmax(dim=-1)"
      ],
      "execution_count": 53,
      "outputs": [
        {
          "output_type": "execute_result",
          "data": {
            "text/plain": [
              "(tensor([15,  0,  0,  0,  0,  0,  0, 15,  0,  0,  0,  0,  0,  0, 29,  0],\n",
              "        device='cuda:0'),\n",
              " tensor([16,  0,  0,  0,  0,  0,  0, 18,  0,  0,  0,  0,  0,  0, 33,  0],\n",
              "        device='cuda:0'))"
            ]
          },
          "metadata": {
            "tags": []
          },
          "execution_count": 53
        }
      ]
    },
    {
      "cell_type": "markdown",
      "metadata": {
        "id": "P58se7KRdG9Y"
      },
      "source": [
        "This will work great in a lot of cases, but what if this prediction gives us something impossible: the start position could be greater than the end position, or point to a span of text in the question instead of the answer. In that case, we might want to look at the second best prediction to see if it gives a possible answer and select that instead.\n",
        "\n",
        "However, picking the second best answer is not as easy as picking the best one: is it the second best index in the start logits with the best index in the end logits? Or the best index in the start logits with the second best index in the end logits? And if that second best answer is not possible either, it gets even trickier for the third best answer.\n",
        "\n",
        "\n",
        "To classify our answers, we will use the score obtained by adding the start and end logits. We won't try to order all the possible answers and limit ourselves to with a hyper-parameter we call `n_best_size`. We'll pick the best indices in the start and end logits and gather all the answers this predicts. After checking if each one is valid, we will sort them by their score and keep the best one. Here is how we would do this on the first feature in the batch:"
      ]
    },
    {
      "cell_type": "code",
      "metadata": {
        "id": "yBa_hjrvdG9Y"
      },
      "source": [
        "n_best_size = 20"
      ],
      "execution_count": 54,
      "outputs": []
    },
    {
      "cell_type": "code",
      "metadata": {
        "id": "zB120iP1dG9Z"
      },
      "source": [
        "import numpy as np\n",
        "\n",
        "start_logits = output.start_logits[0].cpu().numpy()\n",
        "end_logits = output.end_logits[0].cpu().numpy()\n",
        "# Gather the indices the best start/end logits:\n",
        "start_indexes = np.argsort(start_logits)[-1 : -n_best_size - 1 : -1].tolist()\n",
        "end_indexes = np.argsort(end_logits)[-1 : -n_best_size - 1 : -1].tolist()\n",
        "valid_answers = []\n",
        "for start_index in start_indexes:\n",
        "    for end_index in end_indexes:\n",
        "        if start_index <= end_index: # We need to refine that test to check the answer is inside the context\n",
        "            valid_answers.append(\n",
        "                {\n",
        "                    \"score\": start_logits[start_index] + end_logits[end_index],\n",
        "                    \"text\": \"\" # We need to find a way to get back the original substring corresponding to the answer in the context\n",
        "                }\n",
        "            )"
      ],
      "execution_count": 55,
      "outputs": []
    },
    {
      "cell_type": "markdown",
      "metadata": {
        "id": "_fV6P4r9dG9Z"
      },
      "source": [
        "And then we can sort the `valid_answers` according to their `score` and only keep the best one. The only point left is how to check a given span is inside the context (and not the question) and how to get back the text inside. To do this, we need to add two things to our validation features:\n",
        "- the ID of the example that generated the feature (since each example can generate several features, as seen before);\n",
        "- the offset mapping that will give us a map from token indices to character positions in the context.\n",
        "\n",
        "That's why we will re-process the validation set with the following function, slightly different from `prepare_train_features`:"
      ]
    },
    {
      "cell_type": "code",
      "metadata": {
        "id": "_jOKfZ61dG9Z"
      },
      "source": [
        "def prepare_validation_features(examples):\n",
        "    # Tokenize our examples with truncation and maybe padding, but keep the overflows using a stride. This results\n",
        "    # in one example possible giving several features when a context is long, each of those features having a\n",
        "    # context that overlaps a bit the context of the previous feature.\n",
        "    tokenized_examples = tokenizer(\n",
        "        examples[\"question\" if pad_on_right else \"context\"],\n",
        "        examples[\"context\" if pad_on_right else \"question\"],\n",
        "        truncation=\"only_second\" if pad_on_right else \"only_first\",\n",
        "        max_length=max_length,\n",
        "        stride=doc_stride,\n",
        "        return_overflowing_tokens=True,\n",
        "        return_offsets_mapping=True,\n",
        "        padding=\"max_length\",\n",
        "    )\n",
        "\n",
        "    # Since one example might give us several features if it has a long context, we need a map from a feature to\n",
        "    # its corresponding example. This key gives us just that.\n",
        "    sample_mapping = tokenized_examples.pop(\"overflow_to_sample_mapping\")\n",
        "\n",
        "    # We keep the example_id that gave us this feature and we will store the offset mappings.\n",
        "    tokenized_examples[\"example_id\"] = []\n",
        "\n",
        "    for i in range(len(tokenized_examples[\"input_ids\"])):\n",
        "        # Grab the sequence corresponding to that example (to know what is the context and what is the question).\n",
        "        sequence_ids = tokenized_examples.sequence_ids(i)\n",
        "        context_index = 1 if pad_on_right else 0\n",
        "\n",
        "        # One example can give several spans, this is the index of the example containing this span of text.\n",
        "        sample_index = sample_mapping[i]\n",
        "        tokenized_examples[\"example_id\"].append(examples['question_id'][sample_index]) #####__index_level_0__\n",
        "\n",
        "        # Set to None the offset_mapping that are not part of the context so it's easy to determine if a token\n",
        "        # position is part of the context or not.\n",
        "        tokenized_examples[\"offset_mapping\"][i] = [\n",
        "            (o if sequence_ids[k] == context_index else None)\n",
        "            for k, o in enumerate(tokenized_examples[\"offset_mapping\"][i])\n",
        "        ]\n",
        "\n",
        "    return tokenized_examples"
      ],
      "execution_count": 56,
      "outputs": []
    },
    {
      "cell_type": "markdown",
      "metadata": {
        "id": "8W-wMyirdG9Z"
      },
      "source": [
        "And like before, we can apply that function to our validation set easily:"
      ]
    },
    {
      "cell_type": "code",
      "metadata": {
        "id": "77ISa2qzdG9a",
        "colab": {
          "base_uri": "https://localhost:8080/",
          "height": 49,
          "referenced_widgets": [
            "542a9aafde184fce8dce0cdb9d36364e",
            "3ecf4daa339840f098c5e8c8d1d9d8c9",
            "5fdaa16d3aa140cda75e03a0083ce3dd",
            "2522db2d7f654d8594d7a54d170cb639",
            "86d0e14cf2754a03b2f0885800ebb660",
            "d5ff0b07d6a0499d8556abab1efa3c11",
            "3561dd43aafb4cb9a5bcd361c9c6fb29",
            "b78944b31d734dd5a20a5acb124ff957",
            "faf38a94cd8849d8b88a855009f74696",
            "7744d498a26b460eb180b191354f3d3d",
            "35c1d61c729040fcb548f9cd45b65de0"
          ]
        },
        "outputId": "8d436a0a-f46f-4ff8-cc8b-e439e3500bd6"
      },
      "source": [
        "validation_features = datasets[\"val\"].map(\n",
        "    prepare_validation_features,\n",
        "    batched=True,\n",
        "    remove_columns=datasets[\"val\"].column_names\n",
        ")"
      ],
      "execution_count": 57,
      "outputs": [
        {
          "output_type": "display_data",
          "data": {
            "application/vnd.jupyter.widget-view+json": {
              "model_id": "542a9aafde184fce8dce0cdb9d36364e",
              "version_minor": 0,
              "version_major": 2
            },
            "text/plain": [
              "  0%|          | 0/17 [00:00<?, ?ba/s]"
            ]
          },
          "metadata": {
            "tags": []
          }
        }
      ]
    },
    {
      "cell_type": "markdown",
      "metadata": {
        "id": "GMQZYH6cdG9a"
      },
      "source": [
        "Now we can grab the predictions for all features by using the `Trainer.predict` method:"
      ]
    },
    {
      "cell_type": "code",
      "metadata": {
        "id": "khzOC8aqdG9a",
        "colab": {
          "base_uri": "https://localhost:8080/",
          "height": 110
        },
        "outputId": "72976883-b673-4283-b508-74d420b850ca"
      },
      "source": [
        "raw_predictions = trainer.predict(validation_features)"
      ],
      "execution_count": 58,
      "outputs": [
        {
          "output_type": "stream",
          "text": [
            "The following columns in the test set  don't have a corresponding argument in `DistilBertForQuestionAnswering.forward` and have been ignored: example_id, offset_mapping.\n",
            "***** Running Prediction *****\n",
            "  Num examples = 16856\n",
            "  Batch size = 16\n"
          ],
          "name": "stderr"
        },
        {
          "output_type": "display_data",
          "data": {
            "text/html": [
              "\n",
              "    <div>\n",
              "      \n",
              "      <progress value='1054' max='1054' style='width:300px; height:20px; vertical-align: middle;'></progress>\n",
              "      [1054/1054 04:03]\n",
              "    </div>\n",
              "    "
            ],
            "text/plain": [
              "<IPython.core.display.HTML object>"
            ]
          },
          "metadata": {
            "tags": []
          }
        }
      ]
    },
    {
      "cell_type": "markdown",
      "metadata": {
        "id": "krP6PWiSdG9b"
      },
      "source": [
        "The `Trainer` *hides* the columns that are not used by the model (here `example_id` and `offset_mapping` which we will need for our post-processing), so we set them back:"
      ]
    },
    {
      "cell_type": "code",
      "metadata": {
        "id": "EY6fCdxodG9b"
      },
      "source": [
        "validation_features.set_format(type=validation_features.format[\"type\"], columns=list(validation_features.features.keys()))"
      ],
      "execution_count": 59,
      "outputs": []
    },
    {
      "cell_type": "markdown",
      "metadata": {
        "id": "9UEd1I8ZdG9b"
      },
      "source": [
        "We can now refine the test we had before: since we set `None` in the offset mappings when it corresponds to a part of the question, it's easy to check if an answer is fully inside the context. We also eliminate very long answers from our considerations (with an hyper-parameter we can tune)"
      ]
    },
    {
      "cell_type": "code",
      "metadata": {
        "id": "sZlTF0ZrdG9b"
      },
      "source": [
        "max_answer_length = 30"
      ],
      "execution_count": 60,
      "outputs": []
    },
    {
      "cell_type": "code",
      "metadata": {
        "id": "Jz1Ii03OdG9b",
        "colab": {
          "base_uri": "https://localhost:8080/"
        },
        "outputId": "4c18e67b-9a65-42ad-ce05-b95e3de9942c"
      },
      "source": [
        "start_logits = output.start_logits[0].cpu().numpy()\n",
        "end_logits = output.end_logits[0].cpu().numpy()\n",
        "offset_mapping = validation_features[0][\"offset_mapping\"]\n",
        "# The first feature comes from the first example. For the more general case, we will need to be match the example_id to\n",
        "# an example index\n",
        "context = datasets[\"val\"][0][\"context\"]\n",
        "print(context)\n",
        "# Gather the indices the best start/end logits:\n",
        "start_indexes = np.argsort(start_logits)[-1 : -n_best_size - 1 : -1].tolist()\n",
        "end_indexes = np.argsort(end_logits)[-1 : -n_best_size - 1 : -1].tolist()\n",
        "valid_answers = []\n",
        "for start_index in start_indexes:\n",
        "    for end_index in end_indexes:\n",
        "        # Don't consider out-of-scope answers, either because the indices are out of bounds or correspond\n",
        "        # to part of the input_ids that are not in the context.\n",
        "        if (\n",
        "            start_index >= len(offset_mapping)\n",
        "            or end_index >= len(offset_mapping)\n",
        "            or offset_mapping[start_index] is None\n",
        "            or offset_mapping[end_index] is None\n",
        "        ):\n",
        "            continue\n",
        "        # Don't consider answers with a length that is either < 0 or > max_answer_length.\n",
        "        if end_index < start_index or end_index - start_index + 1 > max_answer_length:\n",
        "            continue\n",
        "        if start_index <= end_index: # We need to refine that test to check the answer is inside the context\n",
        "            start_char = offset_mapping[start_index][0]\n",
        "            end_char = offset_mapping[end_index][1]\n",
        "            valid_answers.append(\n",
        "                {\n",
        "                    \"score\": start_logits[start_index] + end_logits[end_index],\n",
        "                    \"text\": context[start_char: end_char]\n",
        "                }\n",
        "            )\n",
        "\n",
        "valid_answers = sorted(valid_answers, key=lambda x: x[\"score\"], reverse=True)[:n_best_size]\n",
        "valid_answers"
      ],
      "execution_count": 61,
      "outputs": [
        {
          "output_type": "stream",
          "text": [
            "Sports blockchain venture Chiliz has announced a strategic partnership with Binance Chain the mainnet of major cryptocurrency exchange\n"
          ],
          "name": "stdout"
        },
        {
          "output_type": "execute_result",
          "data": {
            "text/plain": [
              "[{'score': 16.619637, 'text': 'Chiliz'},\n",
              " {'score': 10.727211, 'text': 'Chiliz has'},\n",
              " {'score': 8.035167, 'text': 'Chili'},\n",
              " {'score': 7.923586, 'text': 'Chiliz has announced'},\n",
              " {'score': 6.628046, 'text': 'Chiliz has announced a'},\n",
              " {'score': 6.403385, 'text': 'z'},\n",
              " {'score': 5.088732, 'text': 'Sports blockchain venture Chiliz'},\n",
              " {'score': 4.298773, 'text': 'blockchain venture Chiliz'},\n",
              " {'score': 3.1134443, 'text': 'Chiliz has announced a strategic partnership'},\n",
              " {'score': 2.943778, 'text': 'Chiliz has announced a strategic'},\n",
              " {'score': 2.8883576, 'text': 'venture Chiliz'},\n",
              " {'score': 2.600844, 'text': 'chain venture Chiliz'},\n",
              " {'score': 2.1659794, 'text': 'n venture Chiliz'},\n",
              " {'score': 1.6354704,\n",
              "  'text': 'Chiliz has announced a strategic partnership with Binance Chain the mainnet'},\n",
              " {'score': 1.621232,\n",
              "  'text': 'Chiliz has announced a strategic partnership with Binance Chain the mainnet of major cryptocurren'},\n",
              " {'score': 1.5599504,\n",
              "  'text': 'Chiliz has announced a strategic partnership with Binance Chain'},\n",
              " {'score': 0.5109613, 'text': 'z has'},\n",
              " {'score': -0.8036921, 'text': 'Sports blockchain venture Chiliz has'},\n",
              " {'score': -1.5936515, 'text': 'blockchain venture Chiliz has'},\n",
              " {'score': -1.924221, 'text': 'has'}]"
            ]
          },
          "metadata": {
            "tags": []
          },
          "execution_count": 61
        }
      ]
    },
    {
      "cell_type": "markdown",
      "metadata": {
        "id": "veVmW_NvdG9c"
      },
      "source": [
        "We can compare to the actual ground-truth answer:"
      ]
    },
    {
      "cell_type": "code",
      "metadata": {
        "id": "CxBybCiGdG9c",
        "colab": {
          "base_uri": "https://localhost:8080/"
        },
        "outputId": "33215e9b-e6a0-41f9-831b-175ceea5ac0f"
      },
      "source": [
        "datasets[\"val\"][0][\"answers\"]"
      ],
      "execution_count": 62,
      "outputs": [
        {
          "output_type": "execute_result",
          "data": {
            "text/plain": [
              "{'answer_start': [26], 'text': ['Chiliz']}"
            ]
          },
          "metadata": {
            "tags": []
          },
          "execution_count": 62
        }
      ]
    },
    {
      "cell_type": "markdown",
      "metadata": {
        "id": "dDZ-LO5ZdG9c"
      },
      "source": [
        "Our model picked the right as the most likely answer!\n",
        "\n",
        "As we mentioned in the code above, this was easy on the first feature because we knew it comes from the first example. For the other features, we will need a map between examples and their corresponding features. Also, since one example can give several features, we will need to gather together all the answers in all the features generated by a given example, then pick the best one. The following code builds a map from example index to its corresponding features indices:"
      ]
    },
    {
      "cell_type": "code",
      "metadata": {
        "id": "egcs9JFzdG9d"
      },
      "source": [
        "import collections\n",
        "\n",
        "examples = datasets[\"val\"]\n",
        "features = validation_features\n",
        "\n",
        "example_id_to_index = {k: i for i, k in enumerate(examples[\"question_id\"])}\n",
        "features_per_example = collections.defaultdict(list)\n",
        "for i, feature in enumerate(features):\n",
        "    features_per_example[example_id_to_index[feature[\"example_id\"]]].append(i)"
      ],
      "execution_count": 63,
      "outputs": []
    },
    {
      "cell_type": "markdown",
      "metadata": {
        "id": "4Cr9pIgDdG9d"
      },
      "source": [
        "We're almost ready for our post-processing function. The last bit to deal with is the impossible answer (when `squad_v2 = True`). The code above only keeps answers that are inside the context, we need to also grab the score for the impossible answer (which has start and end indices corresponding to the index of the CLS token). When one example gives several features, we have to predict the impossible answer when all the features give a high score to the impossible answer (since one feature could predict the impossible answer just because the answer isn't in the part of the context it has access too), which is why the score of the impossible answer for one example is the *minimum* of the scores for the impossible answer in each feature generated by the example.\n",
        "\n",
        "We then predict the impossible answer when that score is greater than the score of the best non-impossible answer. All combined together, this gives us this post-processing function:"
      ]
    },
    {
      "cell_type": "markdown",
      "metadata": {
        "id": "qWdpw_ojdG9e"
      },
      "source": [
        "And we can apply our post-processing function to our raw predictions - This is the original versiom which prepare every question seperately:"
      ]
    },
    {
      "cell_type": "code",
      "metadata": {
        "id": "N1JKZHM7dG9d"
      },
      "source": [
        "from tqdm.auto import tqdm\n",
        "\n",
        "def postprocess_qa_predictionsORG(examples, features, raw_predictions, n_best_size = 20, max_answer_length = 30):\n",
        "    all_start_logits, all_end_logits = raw_predictions\n",
        "    # Build a map example to its corresponding features.\n",
        "    example_id_to_index = {k: i for i, k in enumerate(examples[\"question_id\"])}\n",
        "    features_per_example = collections.defaultdict(list)\n",
        "    for i, feature in enumerate(features):\n",
        "        features_per_example[example_id_to_index[feature[\"example_id\"]]].append(i)\n",
        "\n",
        "    # The dictionaries we have to fill.\n",
        "    predictions = collections.OrderedDict()\n",
        "\n",
        "    # Logging.\n",
        "    print(f\"Post-processing {len(examples)} example predictions split into {len(features)} features.\")\n",
        "\n",
        "    # Let's loop over all the examples!\n",
        "    for example_index, example in enumerate(tqdm(examples)):\n",
        "        # Those are the indices of the features associated to the current example.\n",
        "        feature_indices = features_per_example[example_index]\n",
        "         \n",
        "        min_null_score = None # Only used if squad_v2 is True.\n",
        "        valid_answers = []\n",
        "        \n",
        "        context = example[\"context\"]\n",
        "        # Looping through all the features associated to the current example.\n",
        "        \n",
        "        for feature_index in feature_indices:\n",
        "            # We grab the predictions of the model for this feature.\n",
        "            start_logits = all_start_logits[feature_index]\n",
        "            end_logits = all_end_logits[feature_index]\n",
        "            # This is what will allow us to map some the positions in our logits to span of texts in the original\n",
        "            # context.\n",
        "            offset_mapping = features[feature_index][\"offset_mapping\"]\n",
        "\n",
        "            # Update minimum null prediction.\n",
        "            cls_index = features[feature_index][\"input_ids\"].index(tokenizer.cls_token_id)\n",
        "            feature_null_score = start_logits[cls_index] + end_logits[cls_index]\n",
        "            if min_null_score is None or min_null_score < feature_null_score:\n",
        "                 \n",
        "                min_null_score = feature_null_score\n",
        "\n",
        "            # Go through all possibilities for the `n_best_size` greater start and end logits.\n",
        "            start_indexes = np.argsort(start_logits)[-1 : -n_best_size - 1 : -1].tolist()\n",
        "            end_indexes = np.argsort(end_logits)[-1 : -n_best_size - 1 : -1].tolist()\n",
        "            for start_index in start_indexes:\n",
        "                for end_index in end_indexes:\n",
        "                    # Don't consider out-of-scope answers, either because the indices are out of bounds or correspond\n",
        "                    # to part of the input_ids that are not in the context.\n",
        "                    if (\n",
        "                        start_index >= len(offset_mapping)\n",
        "                        or end_index >= len(offset_mapping)\n",
        "                        or offset_mapping[start_index] is None\n",
        "                        or offset_mapping[end_index] is None\n",
        "                    ):\n",
        "                        continue\n",
        "                    # Don't consider answers with a length that is either < 0 or > max_answer_length.\n",
        "                    if end_index < start_index or end_index - start_index + 1 > max_answer_length:\n",
        "                        continue\n",
        "\n",
        "                    start_char = offset_mapping[start_index][0]\n",
        "                    end_char = offset_mapping[end_index][1]\n",
        "                    valid_answers.append(\n",
        "                        {\n",
        "                            \"score\": start_logits[start_index] + end_logits[end_index],\n",
        "                            \"text\": context[start_char: end_char]\n",
        "                        }\n",
        "                    )\n",
        "        \n",
        "        if len(valid_answers) > 0:\n",
        "            best_answer = sorted(valid_answers, key=lambda x: x[\"score\"], reverse=True)[0]\n",
        "        else:\n",
        "            # In the very rare edge case we have not a single non-null prediction, we create a fake prediction to avoid\n",
        "            # failure.\n",
        "            best_answer = {\"text\": \"\", \"score\": 0.0}\n",
        "        \n",
        "        # Let's pick our final answer: the best one or the null answer (only for squad_v2)\n",
        "        \n",
        "        if not squad_v2:\n",
        "            predictions[example[\"question_id\"]] = best_answer[\"text\"]\n",
        "        else:\n",
        "             \n",
        "            answer = best_answer[\"text\"] if best_answer[\"score\"] > min_null_score else \"\"\n",
        "            predictions[example[\"question_id\"]] = answer\n",
        "\n",
        "    return predictions"
      ],
      "execution_count": 64,
      "outputs": []
    },
    {
      "cell_type": "code",
      "metadata": {
        "colab": {
          "base_uri": "https://localhost:8080/",
          "height": 85,
          "referenced_widgets": [
            "4479ebd07b9541dcb5142100aff01cb7",
            "c3d1cb6264444d0fb9825292539e1bbe",
            "aeb6c737796b4f5cadff5e586ba80435",
            "14e5c1da47c546e988658310fad11c51",
            "10e985eac7ef42948012ef59fbb073d0",
            "ad62dbd2cd464357a21f681c36b0f24a",
            "8064212fe211462aa8610006e83b67a6",
            "24a92864ce3d4d2583c17041b4d159e2",
            "891c0e8ed19d418eb1179fa5166dc610",
            "47c5621a659b4ef891719b5f1b953fa4",
            "1e49de10d8074e69b4471bdd8e265b83"
          ]
        },
        "id": "DeD9SRn7WMca",
        "outputId": "c3db0851-0b7b-4228-8d4d-b834e5209668"
      },
      "source": [
        "final_predictions_org = postprocess_qa_predictionsORG(datasets[\"val\"], validation_features, raw_predictions.predictions)\n",
        "len(final_predictions_org)"
      ],
      "execution_count": 65,
      "outputs": [
        {
          "output_type": "stream",
          "text": [
            "Post-processing 16849 example predictions split into 16856 features.\n"
          ],
          "name": "stdout"
        },
        {
          "output_type": "display_data",
          "data": {
            "application/vnd.jupyter.widget-view+json": {
              "model_id": "4479ebd07b9541dcb5142100aff01cb7",
              "version_minor": 0,
              "version_major": 2
            },
            "text/plain": [
              "  0%|          | 0/16849 [00:00<?, ?it/s]"
            ]
          },
          "metadata": {
            "tags": []
          }
        },
        {
          "output_type": "execute_result",
          "data": {
            "text/plain": [
              "16849"
            ]
          },
          "metadata": {
            "tags": []
          },
          "execution_count": 65
        }
      ]
    },
    {
      "cell_type": "markdown",
      "metadata": {
        "id": "9n5cZW586oxN"
      },
      "source": [
        "In this version we preprocess together all the question related to a specific sentence ('id') - we aggregate all the answers for these questions and order them and hopefuly the best answer will correspond with the correct relation as all other questions have no answer and will get lower score."
      ]
    },
    {
      "cell_type": "code",
      "metadata": {
        "id": "-mHp8sS-zZ5R"
      },
      "source": [
        "from tqdm.auto import tqdm\n",
        "RELֹֹ_NUM=7\n",
        "def postprocess_qa_predictions(examples, features, raw_predictions, n_best_size = 20, max_answer_length = 30, rel_num=7):\n",
        "    print(rel_num)\n",
        "    all_start_logits, all_end_logits = raw_predictions\n",
        "    # Build a map example to its corresponding features.\n",
        "    example_id_to_index = {k: i for i, k in enumerate(examples[\"question_id\"])}\n",
        "    features_per_example = collections.defaultdict(list)\n",
        "    for i, feature in enumerate(features):\n",
        "        features_per_example[example_id_to_index[feature[\"example_id\"]]].append(i)\n",
        "\n",
        "    # The dictionaries we have to fill.\n",
        "    predictions = collections.OrderedDict()\n",
        "\n",
        "    # Logging.\n",
        "    print(f\"Post-processing {len(examples)} example predictions split into {len(features)} features.\")\n",
        "\n",
        "    # Let's loop over all the examples!\n",
        "    for example_index, example in enumerate(tqdm(examples)):\n",
        "        # Those are the indices of the features associated to the current example.\n",
        "        feature_indices = features_per_example[example_index]\n",
        "        #print(example, feature_indices)\n",
        "        min_null_score = None # Only used if squad_v2 is True.\n",
        "        if example_index%rel_num ==0 :\n",
        "          valid_answers = []\n",
        "        \n",
        "        context = example[\"context\"]\n",
        "        # Looping through all the features associated to the current example.\n",
        "       # print('fff', len(feature_indices))\n",
        "        for feature_index in feature_indices:\n",
        "            # We grab the predictions of the model for this feature.\n",
        "            start_logits = all_start_logits[feature_index]\n",
        "            end_logits = all_end_logits[feature_index]\n",
        "            # This is what will allow us to map some the positions in our logits to span of texts in the original\n",
        "            # context.\n",
        "            offset_mapping = features[feature_index][\"offset_mapping\"]\n",
        "\n",
        "            # Update minimum null prediction.\n",
        "            cls_index = features[feature_index][\"input_ids\"].index(tokenizer.cls_token_id)\n",
        "            feature_null_score = start_logits[cls_index] + end_logits[cls_index]\n",
        "            if min_null_score is None or min_null_score < feature_null_score:\n",
        "                #print(\"jj\", feature_null_score)\n",
        "                min_null_score = feature_null_score\n",
        "\n",
        "            # Go through all possibilities for the `n_best_size` greater start and end logits.\n",
        "            start_indexes = np.argsort(start_logits)[-1 : -n_best_size - 1 : -1].tolist()\n",
        "            end_indexes = np.argsort(end_logits)[-1 : -n_best_size - 1 : -1].tolist()\n",
        "            for start_index in start_indexes:\n",
        "                for end_index in end_indexes:\n",
        "                    # Don't consider out-of-scope answers, either because the indices are out of bounds or correspond\n",
        "                    # to part of the input_ids that are not in the context.\n",
        "                    if (\n",
        "                        start_index >= len(offset_mapping)\n",
        "                        or end_index >= len(offset_mapping)\n",
        "                        or offset_mapping[start_index] is None\n",
        "                        or offset_mapping[end_index] is None\n",
        "                    ):\n",
        "                        continue\n",
        "                    # Don't consider answers with a length that is either < 0 or > max_answer_length.\n",
        "                    if end_index < start_index or end_index - start_index + 1 > max_answer_length:\n",
        "                        continue\n",
        "\n",
        "                    start_char = offset_mapping[start_index][0]\n",
        "                    end_char = offset_mapping[end_index][1]\n",
        "                    valid_answers.append(\n",
        "                        {\n",
        "                            \"score\": start_logits[start_index] + end_logits[end_index],\n",
        "                            \"text\": example['string_id']##context[start_char: end_char]\n",
        "                        }\n",
        "                    )\n",
        "        if (example_index%rel_num ==(rel_num-1)):\n",
        "            if (len(valid_answers) ) > 0:\n",
        "                best_answer = sorted(valid_answers, key=lambda x: x[\"score\"], reverse=True)[0]\n",
        "            else:\n",
        "                # In the very rare edge case we have not a single non-null prediction, we create a fake prediction to avoid\n",
        "                # failure.\n",
        "                best_answer = {\"text\": \"\", \"score\": 0.0}\n",
        "            \n",
        "            # Let's pick our final answer: the best one or the null answer (only for squad_v2)\n",
        "            \n",
        "            if not squad_v2:\n",
        "                predictions[example[\"id\"]] = best_answer[\"text\"]\n",
        "            else:\n",
        "                \n",
        "                answer = best_answer[\"text\"] ###if best_answer[\"score\"] > min_null_score else \"\"\n",
        "                predictions[example[\"id\"]] = answer\n",
        "\n",
        "    return predictions"
      ],
      "execution_count": 66,
      "outputs": []
    },
    {
      "cell_type": "code",
      "metadata": {
        "id": "4oqsLqjwdG9e",
        "colab": {
          "base_uri": "https://localhost:8080/",
          "height": 85,
          "referenced_widgets": [
            "481b36d803114316a5960a859f87ea05",
            "9a8e0818b1934ffd9c9ba1dd6341cf85",
            "698ae2592d9f49a68f53d000f271c967",
            "d67e582066ca4e0fa586b812f32f4125",
            "52b69e1e31d2498f9ebd9077b0da100c",
            "9f86f1a58c674193ab4d628cd3119748",
            "c9e17d31ea374df999a1b8039416f699",
            "d9b28ef954ac4b1bab97d86bdb1b00a6",
            "a8ff84b1395a44b6bd5c93e1ed457123",
            "a3764505fae146a69dd942213cb00875",
            "8403792c4765412e8248a5a88a359588"
          ]
        },
        "outputId": "7c073684-0358-47c7-dbfe-68284c954c77"
      },
      "source": [
        "\n",
        "final_predictions = postprocess_qa_predictions(datasets[\"val\"], validation_features, raw_predictions.predictions)"
      ],
      "execution_count": 67,
      "outputs": [
        {
          "output_type": "stream",
          "text": [
            "7\n",
            "Post-processing 16849 example predictions split into 16856 features.\n"
          ],
          "name": "stdout"
        },
        {
          "output_type": "display_data",
          "data": {
            "application/vnd.jupyter.widget-view+json": {
              "model_id": "481b36d803114316a5960a859f87ea05",
              "version_minor": 0,
              "version_major": 2
            },
            "text/plain": [
              "  0%|          | 0/16849 [00:00<?, ?it/s]"
            ]
          },
          "metadata": {
            "tags": []
          }
        }
      ]
    },
    {
      "cell_type": "code",
      "metadata": {
        "id": "pD6vOoh9XaKZ",
        "colab": {
          "base_uri": "https://localhost:8080/"
        },
        "outputId": "33f48d09-9952-408d-a2d0-e8721d0e0245"
      },
      "source": [
        "len(final_predictions)"
      ],
      "execution_count": 68,
      "outputs": [
        {
          "output_type": "execute_result",
          "data": {
            "text/plain": [
              "2407"
            ]
          },
          "metadata": {
            "tags": []
          },
          "execution_count": 68
        }
      ]
    },
    {
      "cell_type": "markdown",
      "metadata": {
        "id": "4sYdSZsndG9f"
      },
      "source": [
        "Then we can load the metric from the datasets library."
      ]
    },
    {
      "cell_type": "code",
      "metadata": {
        "id": "en5QwQGndG9f",
        "colab": {
          "base_uri": "https://localhost:8080/",
          "height": 81,
          "referenced_widgets": [
            "493c0563fa1f49fc9fb3d2f2c508d7b9",
            "f77e4a21f7134480b55bdbff58f38e8c",
            "f0917453e16b46a4869e7e827f9f2afa",
            "7f327ec7249b445a8e7e281114467470",
            "631b6eb4e01b468fb05f62963e298fed",
            "9eb46f1b4831497590da91b254bd9df6",
            "315ce1ef1a2c4de984f0beaf449d6f48",
            "b285cdbbeb2a45d7ad686014c6c36c98",
            "91b505a4cb3d4c329dd369086e8b1b0d",
            "559850f6b48a4b2a94e9fc4bb78ec633",
            "6335ab47f1be41bdb60145244fc2829d",
            "717cc88c1d9742608d23f99da8c317c6",
            "31d54770186d48bda66884bd401e6202",
            "3d82f18332a0423bbc100617e496f356",
            "3047d753a2e14cdfa3fea91b668ab43d",
            "66c36d5f25bd452bad1ddaef5abedb77",
            "6280b0bd42d6430eb5a5063aa66756c4",
            "464e37d3060645df8747665a8bcc2ff2",
            "26d335df3b5c4579bd7feebb3d276b06",
            "c0ea4966c3d24d08896896cfb6d866d6",
            "1beb227927a8400c912048560a55d97a",
            "7070bbab17b34c3d85664cffb8b8dbd3"
          ]
        },
        "outputId": "db3fb046-8cb5-4a9f-e227-c03591145e38"
      },
      "source": [
        "metric = load_metric(\"squad_v2\" if squad_v2 else \"squad\")"
      ],
      "execution_count": 69,
      "outputs": [
        {
          "output_type": "display_data",
          "data": {
            "application/vnd.jupyter.widget-view+json": {
              "model_id": "493c0563fa1f49fc9fb3d2f2c508d7b9",
              "version_minor": 0,
              "version_major": 2
            },
            "text/plain": [
              "Downloading:   0%|          | 0.00/2.26k [00:00<?, ?B/s]"
            ]
          },
          "metadata": {
            "tags": []
          }
        },
        {
          "output_type": "display_data",
          "data": {
            "application/vnd.jupyter.widget-view+json": {
              "model_id": "717cc88c1d9742608d23f99da8c317c6",
              "version_minor": 0,
              "version_major": 2
            },
            "text/plain": [
              "Downloading:   0%|          | 0.00/3.18k [00:00<?, ?B/s]"
            ]
          },
          "metadata": {
            "tags": []
          }
        }
      ]
    },
    {
      "cell_type": "markdown",
      "metadata": {
        "id": "b2G2bYSBdG9g"
      },
      "source": [
        "Then we can call compute on it. We just need to format predictions and labels a bit as it expects a list of dictionaries and not one big dictionary. In the case of squad_v2, we also have to set a `no_answer_probability` argument (which we set to 0.0 here as we have already set the answer to empty if we picked it)."
      ]
    },
    {
      "cell_type": "code",
      "metadata": {
        "id": "WtHAwWwCdG9g",
        "colab": {
          "base_uri": "https://localhost:8080/"
        },
        "outputId": "f94bf566-6e0c-4e25-ca2c-3dc0b6050b11"
      },
      "source": [
        "# how good is the model in the regular question answering task\n",
        "if squad_v2:\n",
        "    formatted_predictions = [{\"id\": k, \"prediction_text\": v, \"no_answer_probability\": 0.0} for k, v in final_predictions_org.items()]\n",
        "else:\n",
        "    formatted_predictions = [{\"id\": k, \"prediction_text\": v} for k, v in final_predictions_org.items()]\n",
        "references = [{\"id\": ex[\"question_id\"], \"answers\": ex[\"answers\"]} for ex in datasets[\"val\"]]\n",
        "metric.compute(predictions=formatted_predictions, references=references)"
      ],
      "execution_count": 70,
      "outputs": [
        {
          "output_type": "execute_result",
          "data": {
            "text/plain": [
              "{'HasAns_exact': 88.20108018280017,\n",
              " 'HasAns_f1': 91.13335286787724,\n",
              " 'HasAns_total': 2407,\n",
              " 'NoAns_exact': 98.57360476388313,\n",
              " 'NoAns_f1': 98.57360476388313,\n",
              " 'NoAns_total': 14442,\n",
              " 'best_exact': 97.09181553801413,\n",
              " 'best_exact_thresh': 0.0,\n",
              " 'best_f1': 97.51071163588203,\n",
              " 'best_f1_thresh': 0.0,\n",
              " 'exact': 97.09181553801413,\n",
              " 'f1': 97.51071163588216,\n",
              " 'total': 16849}"
            ]
          },
          "metadata": {
            "tags": []
          },
          "execution_count": 70
        }
      ]
    },
    {
      "cell_type": "code",
      "metadata": {
        "id": "EcIZ-V522ycp",
        "colab": {
          "base_uri": "https://localhost:8080/"
        },
        "outputId": "5f90811f-91d4-4fab-d24e-f63b03b3f67f"
      },
      "source": [
        "print(formatted_predictions[:9])\n",
        "references[:9]"
      ],
      "execution_count": 73,
      "outputs": [
        {
          "output_type": "stream",
          "text": [
            "[{'id': '10000', 'prediction_text': 'partners_with', 'no_answer_probability': 0.0}, {'id': '10003', 'prediction_text': 'founded_by', 'no_answer_probability': 0.0}, {'id': '10008', 'prediction_text': 'CEO_of', 'no_answer_probability': 0.0}, {'id': '1002', 'prediction_text': 'acquired_by', 'no_answer_probability': 0.0}, {'id': '10023', 'prediction_text': 'founded_by', 'no_answer_probability': 0.0}, {'id': '10030', 'prediction_text': 'CEO_of', 'no_answer_probability': 0.0}, {'id': '10042', 'prediction_text': 'subsidiary_of', 'no_answer_probability': 0.0}, {'id': '10044', 'prediction_text': 'invested_in', 'no_answer_probability': 0.0}, {'id': '10046', 'prediction_text': 'CEO_of', 'no_answer_probability': 0.0}]\n"
          ],
          "name": "stdout"
        },
        {
          "output_type": "execute_result",
          "data": {
            "text/plain": [
              "[{'answers': 'invested_in', 'id': '2'},\n",
              " {'answers': 'founded_by', 'id': '39'},\n",
              " {'answers': 'acquired_by', 'id': '40'},\n",
              " {'answers': 'CEO_of', 'id': '42'},\n",
              " {'answers': 'CEO_of', 'id': '44'},\n",
              " {'answers': 'acquired_by', 'id': '51'},\n",
              " {'answers': 'partners_with', 'id': '53'},\n",
              " {'answers': 'acquired_by', 'id': '60'},\n",
              " {'answers': 'partners_with', 'id': '61'}]"
            ]
          },
          "metadata": {
            "tags": []
          },
          "execution_count": 73
        }
      ]
    },
    {
      "cell_type": "markdown",
      "metadata": {
        "id": "rzVp3-KY8WE-"
      },
      "source": [
        "We now test it on our original task of relation detection"
      ]
    },
    {
      "cell_type": "code",
      "metadata": {
        "id": "sWc3IJ82y2k4",
        "colab": {
          "base_uri": "https://localhost:8080/"
        },
        "outputId": "1af3953f-5cdf-4a14-9f36-34331f8b3bd3"
      },
      "source": [
        "if squad_v2:\n",
        "    formatted_predictions = [{\"id\": k, \"prediction_text\": v, \"no_answer_probability\": 0.0} for k, v in final_predictions.items()]\n",
        "else:\n",
        "    formatted_predictions = [{\"id\": k, \"prediction_text\": v} for k, v in final_predictions.items()]\n",
        "references = [{\"id\": ex[\"id\"], \"answers\": ex[\"string_id\"]} for ex in ds_rel_val_org]\n",
        "y_true=[ref['answers'] for ref in references]\n",
        "y_true[:5]\n",
        "#metric.compute(predictions=formatted_predictions, references=references)"
      ],
      "execution_count": 71,
      "outputs": [
        {
          "output_type": "execute_result",
          "data": {
            "text/plain": [
              "['invested_in', 'founded_by', 'acquired_by', 'CEO_of', 'CEO_of']"
            ]
          },
          "metadata": {
            "tags": []
          },
          "execution_count": 71
        }
      ]
    },
    {
      "cell_type": "code",
      "metadata": {
        "id": "uaXxnouBhOvO",
        "colab": {
          "base_uri": "https://localhost:8080/"
        },
        "outputId": "2e77d5ef-7243-4960-b68c-45b641e8ed9b"
      },
      "source": [
        "#len(final_predictions)\n",
        "my_predictions=dict(sorted(final_predictions.items(), key=lambda x:int(x[0])))\n",
        "#list(my_predictions.items())[:5]\n",
        "y_pred=list(my_predictions.values())\n",
        "y_pred[:9]"
      ],
      "execution_count": 72,
      "outputs": [
        {
          "output_type": "execute_result",
          "data": {
            "text/plain": [
              "['invested_in',\n",
              " 'founded_by',\n",
              " 'acquired_by',\n",
              " 'CEO_of',\n",
              " 'founded_by',\n",
              " 'acquired_by',\n",
              " 'partners_with',\n",
              " 'acquired_by',\n",
              " 'partners_with']"
            ]
          },
          "metadata": {
            "tags": []
          },
          "execution_count": 72
        }
      ]
    },
    {
      "cell_type": "code",
      "metadata": {
        "colab": {
          "base_uri": "https://localhost:8080/"
        },
        "id": "zodPGJF2GNF_",
        "outputId": "a40a1d80-2010-4c97-bb52-6d510777271b"
      },
      "source": [
        "from sklearn.metrics import f1_score, classification_report\n",
        "#f1_score(y_true,y_pred, average=None)#'macro')\n",
        "print(classification_report(y_true, y_pred))"
      ],
      "execution_count": 83,
      "outputs": [
        {
          "output_type": "stream",
          "text": [
            "               precision    recall  f1-score   support\n",
            "\n",
            "       CEO_of       0.96      0.90      0.93       341\n",
            "  acquired_by       0.99      0.98      0.99       494\n",
            "   founded_by       0.96      0.99      0.97       751\n",
            "  invested_in       0.98      0.98      0.98       459\n",
            "     owned_by       1.00      0.99      0.99        97\n",
            "partners_with       0.97      0.99      0.98       115\n",
            "subsidiary_of       0.98      0.97      0.98       150\n",
            "\n",
            "     accuracy                           0.97      2407\n",
            "    macro avg       0.98      0.97      0.98      2407\n",
            " weighted avg       0.97      0.97      0.97      2407\n",
            "\n"
          ],
          "name": "stdout"
        }
      ]
    },
    {
      "cell_type": "code",
      "metadata": {
        "id": "MBkJxQyPdG9j"
      },
      "source": [
        ""
      ],
      "execution_count": null,
      "outputs": []
    }
  ]
}