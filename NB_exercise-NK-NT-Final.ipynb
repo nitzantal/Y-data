{
 "cells": [
  {
   "cell_type": "markdown",
   "metadata": {
    "id": "Uq_3t_tluNmU"
   },
   "source": [
    "# Naive Bayes"
   ]
  },
  {
   "cell_type": "markdown",
   "metadata": {
    "id": "TQVMUZkQHlm2"
   },
   "source": [
    "## 1. Classifying Digits\n",
    "In this part we will test digits classification on the MNIST dataset, using Bernoulli Naive Bayes (a generative model), in contrast to the Multivariate Decision Tree (a discriminative model) we used before.\n",
    "\n",
    "The MNIST dataset contains 28x28 grayscale images of handwritten digits between 0 and 9 (10 classes). For mathmatical analysis clarity, and for matching expected API, flatten each image to create a 1D array with 784 elements."
   ]
  },
  {
   "cell_type": "markdown",
   "metadata": {
    "id": "Cjwjk6pzLE-y"
   },
   "source": [
    "### Loading the MNIST dataset\n",
    "Load the MNIST data set. The digits dataset is one of datasets scikit-learn comes with that do not require the downloading of any file from some external website. "
   ]
  },
  {
   "cell_type": "code",
   "execution_count": 1,
   "metadata": {},
   "outputs": [
    {
     "name": "stdout",
     "output_type": "stream",
     "text": [
      "Populating the interactive namespace from numpy and matplotlib\n"
     ]
    }
   ],
   "source": [
    "%pylab inline"
   ]
  },
  {
   "cell_type": "code",
   "execution_count": 2,
   "metadata": {
    "id": "05Om0QLxBvvT"
   },
   "outputs": [
    {
     "data": {
      "image/png": "[encoded data removed]",
      "text/plain": [
       "<Figure size 1296x864 with 20 Axes>"
      ]
     },
     "metadata": {},
     "output_type": "display_data"
    }
   ],
   "source": [
    "from sklearn.model_selection import train_test_split\n",
    "from sklearn.tree import DecisionTreeClassifier\n",
    "from sklearn.model_selection import StratifiedKFold\n",
    "from sklearn.metrics import confusion_matrix, accuracy_score, f1_score, classification_report\n",
    "from keras.datasets import mnist\n",
    "import seaborn as sns\n",
    "\n",
    "sns.set()\n",
    "plt.style.use('bmh')\n",
    "\n",
    "# let's run this on the full dataset:\n",
    "(x_train, y_train), (x_test, y_test) = mnist.load_data()\n",
    "\n",
    "# let's see a small sample of the data\n",
    "\n",
    "fig=plt.figure(figsize=(18,12))\n",
    "for i in range(20):\n",
    "    fig.add_subplot(1,20, i+1, xticks=[], yticks=[])\n",
    "    plt.imshow(x_train[i], cmap=pyplot.get_cmap('gray'))\n",
    "plt.show()\n",
    "\n",
    "\n",
    "x_train = x_train.reshape(x_train.shape[0], 784)\n",
    "x_test = x_test.reshape(x_test.shape[0], 784)"
   ]
  },
  {
   "cell_type": "markdown",
   "metadata": {
    "id": "WTGjjSKaFfE6"
   },
   "source": [
    "### Bernoulli Naive Bayes\n",
    "If we know how the digits are generated, then we know how to classify them (simply choose the digit class which will maximize the posterior probability) --- but which model should we use for describing the digits generation?\n",
    "\n",
    "In this part we will try a very simplified model of digits creation (which is obviously not the same as the \"real\" model), using a Naive Bayes over an underlying Bernoulli distribution --- that is, we will assume that given a digit class, the pixels of the images are the result of independent coin flips, each with its own \"head\" probability.\n",
    "\n",
    "Note that since we assume each pixl is either 0 (black) or 1 (white), we will need to adjust (preprocess) our data accrodingly (see below).\n",
    "\n",
    "So, the model is stated as follows:\n",
    "$$\n",
    "\\begin{align}\n",
    "\\text{Domain} && x \\in \\{0,1\\}^{784} \\\\\n",
    "\\text{Prior} && \\pi_j = \\Pr(y=j) \\\\\n",
    "\\text{Likelihood} && P_j(x) = \\Pr(x | y=j) \\\\\n",
    "\\end{align}\n",
    "$$\n",
    "\n",
    "Where for each $i\\in 0\\ldots 784$ it holds that\n",
    "$$\n",
    "P_{ji}(x_i) = \\Pr(x_i | y=j) =\n",
    "\\begin{cases}\n",
    "p_{ji} & \\text{if } x_i=1 \\\\\n",
    "1-p_{ji} & \\text{if } x_i=0 \\\\\n",
    "\\end{cases}\n",
    "$$\n"
   ]
  },
  {
   "cell_type": "markdown",
   "metadata": {
    "id": "WNjhD3IpL5bC"
   },
   "source": [
    "#### Question 1\n",
    "Write the classification rule based on this Naive Bayes model. \n",
    "How would you esitmate each of the parameters of the model based on the trainning data? \n",
    "\n",
    "\n",
    "**Bonus:** Think of edge cases which may effect your estimator in an undesired way."
   ]
  },
  {
   "cell_type": "markdown",
   "metadata": {
    "id": "0pN1prGcMqwZ"
   },
   "source": [
    "#### Answer 1\n",
    "\n",
    "The classification rule is predict the class $ c_i $ that maximizes the estimation of $ p(c_i|x_i)$ when $ x_i $ is the i-th sample from the test. \n",
    "$ p(c_i|x_i) $ is proportional to the prior probability of a class C times the likelihood to get 1 or 0 for a specifc feature given the class c => $ p(c)*p(x_i|c)$ . p(c) is estimaded by the ratio - number of instances of class c / num of samples, $ p(x_i =1|c) $ is estimated by the ratio - num of times x_i was 1 in samples from class c / num of samples in class c. $ p(x_i =0|c)$ is of course the complement of this value i.e $ 1-p(x_i =1|c)$ .\n",
    "\n",
    "\n",
    "\n",
    "The classification rule based on this NB model is maximizing the posterior probability, which is  $ p(y| x) $:\n",
    "(let's mark class c as y:)\n",
    "\n",
    "$ P ( y| x) \\propto P(y) * P(x | y) = P(y) \\prod\\limits _{i=1} ^{n}{P(x_i}|y) $ \n",
    "\n",
    "To make a classification, we want to find the class that maximized  $ P ( y| x)  $:\n",
    "\n",
    "$y =  \\underset{y}argmax{ P(y) P(x | y) }$ \n",
    "\n",
    "$y =  \\underset{y}argmaxP(y) \\prod\\limits _{i=1} ^{n}{P(x_i}|y)$ \n",
    "\n",
    "which is equivalent to maximizing log likelihood (to avoid underflow): \n",
    "\n",
    "$y =  \\underset{y}argmax\\log{P(y)} + \\sum\\limits _{i=1} ^{n} \\log({P(x_i}| y)$ \n",
    "\n",
    "$y =  \\underset{y}argmax\\log{P(y)} + \\sum\\limits _{i=1} ^{n} \\log({p_{yi}^{x_{i}}(1-p_{yi})^{(1-x_i)}})$ \n",
    "\n",
    "  "
   ]
  },
  {
   "cell_type": "markdown",
   "metadata": {},
   "source": [
    "***\n",
    "Estimating these based on training data:\n",
    "\n",
    "- __Priors P(y)__  are calculated as the count of each label divided by the total number of labels - \n",
    "- __Likelihood P(X|y)__ is calculated by multiplying the individual features conditional probability, meaning: p(X0|y) * P(X1|y)....\n",
    "- __Individual feature conditional probability P(Xi|y)__ is calculated as follows: For each class - counting the number of 1's and dividing them by the total number of datapoints in that class.\n",
    "\n",
    "See code implementation and calculation in the following cells\n",
    "\n",
    "\n",
    "__Edge cases:__\n",
    "    \n",
    "   - When we have a lot of features, we multiply a lot of small numbers, and the likelihood might get so small as it's effectively zero (it's rounded down to 0). To address that, we will maximize the log likelihood instead of the likelihood.\n",
    "    \n",
    "   - Another edge case is where for a specific feature, all examples in the training set are either 0 or 1. This will cause its conditional probability to be 0 or 1, which will then make all future descisions for that feature 0 or 1. To address that - we will use a Laplace smoothing technique.\n",
    "\n",
    "More general edge cases:\n",
    "\n",
    "\n",
    "   - Unequal prior distribution of classes - classes which are under-sampled will have lower prior p(c) value which may not reflect their real prior. Hence the overall estimation of $p(c|x_i)$ will be too low as explained above.\n",
    "\n",
    "   - In our specific case - getting black digits with white background in the test set while the train set is the other way around (and vice versa) will confuse the classifier as the probability of seeing black pixels in the middle is close to 0 (as in the training it saw there mostly white) so the right class will surely not be selected.\n",
    "\n",
    "   - shift in the location of the digit in the frame in the test set relative to its location in the train set -  the calssifier will get black where it expect to get white and vice versa so these pixles will get close to zero probabilities.\n",
    "\n",
    "\n",
    "***"
   ]
  },
  {
   "cell_type": "code",
   "execution_count": 3,
   "metadata": {},
   "outputs": [],
   "source": [
    "import numpy as np\n",
    "EPSILON = 1 # for Laplace smoothing\n",
    "\n",
    "def compute_priors(y):\n",
    "    '''estimating priors: divide the number of occurenced of each label by the total number of examples '''\n",
    "    \n",
    "    classes, classes_counts = np.unique(y, return_counts=True)\n",
    "    total_examples = len(y)\n",
    "    classes_priors = classes_counts / total_examples\n",
    "\n",
    "    print('priors of each class:')\n",
    "    for i,c in enumerate(classes):\n",
    "        print(f'class {c} prior = {classes_priors[i]:.3f}')\n",
    "\n",
    "    return classes, classes_priors\n",
    "\n",
    "\n",
    "def compute_pixel_probabilities(x, y, classes):\n",
    "    ''' count number of 1's for each feature in each class and divide by number of examples to get probability\n",
    "        add smoothing. '''\n",
    "    \n",
    "    per_cluster_pixels_prob = np.zeros(shape=(len(classes), x.shape[1]))\n",
    "\n",
    "    for i,c in enumerate(classes):\n",
    "        cluster_data = x[y == c]\n",
    "        pixels_prob = (np.sum(cluster_data, axis = 0) + EPSILON) / (cluster_data.shape[0] + 2 * EPSILON)\n",
    "        per_cluster_pixels_prob[c] = pixels_prob\n",
    "    \n",
    "    return per_cluster_pixels_prob\n",
    "    \n"
   ]
  },
  {
   "cell_type": "code",
   "execution_count": 4,
   "metadata": {},
   "outputs": [
    {
     "name": "stdout",
     "output_type": "stream",
     "text": [
      "priors of each class:\n",
      "class 0 prior = 0.099\n",
      "class 1 prior = 0.112\n",
      "class 2 prior = 0.099\n",
      "class 3 prior = 0.102\n",
      "class 4 prior = 0.097\n",
      "class 5 prior = 0.090\n",
      "class 6 prior = 0.099\n",
      "class 7 prior = 0.104\n",
      "class 8 prior = 0.098\n",
      "class 9 prior = 0.099\n",
      "[[0.00016878 0.00016878 0.00016878 ... 0.00016878 0.00016878 0.00016878]\n",
      " [0.00014828 0.00014828 0.00014828 ... 0.00014828 0.00014828 0.00014828]\n",
      " [0.00016779 0.00016779 0.00016779 ... 0.00016779 0.00016779 0.00016779]\n",
      " ...\n",
      " [0.00015957 0.00015957 0.00015957 ... 0.00015957 0.00015957 0.00015957]\n",
      " [0.00017085 0.00017085 0.00017085 ... 0.00017085 0.00017085 0.00017085]\n",
      " [0.00016804 0.00016804 0.00016804 ... 0.00016804 0.00016804 0.00016804]]\n"
     ]
    }
   ],
   "source": [
    "#let's' binarize the data:\n",
    "x_train[x_train>0] = 1\n",
    "x_test[x_test>0] = 1\n",
    "\n",
    "classes, priors = compute_priors(y_train)\n",
    "per_cluster_pixels_prob = compute_pixel_probabilities(x_train, y_train, classes)\n",
    "print(per_cluster_pixels_prob)\n"
   ]
  },
  {
   "cell_type": "markdown",
   "metadata": {
    "id": "nOnkgDIXTMCQ"
   },
   "source": [
    "#### Question 2\n",
    "Run a Naive Bayes classifier on the training data and apply predictions on the test data. Use the [sklearn.naive_bayes.BernoulliNB](http://scikit-learn.org/stable/modules/generated/sklearn.naive_bayes.BernoulliNB.html) implementation (see the [source code for sklearn.naive_bayes](https://github.com/scikit-learn/scikit-learn/blob/master/sklearn/naive_bayes.py) for details).\n",
    "\n",
    "Remember we need to preprocess the data in this case such that each pixel would become either black (0) or white (1). For this, use the `binarize` parameter of the implementation. Set this value to $0$ (this is the default), which in this case would mean every pixel with non-zero value will be set to 1.\n",
    "\n",
    "1. Plot the mean image of each class (estimated $\\hat{p}_{ji}$) and generate one sample of each class (remember, you can do this since this is a generative model). You will need to access the `feature_log_prob_` attribute of the trained model.\n",
    "\n",
    "2. Plot the confusion matrix of your classifier, as claculated on the test data (it is recommended to use [sklearn.metrics.confusion_matrix](http://scikit-learn.org/stable/modules/generated/sklearn.metrics.confusion_matrix.html)). Calculate the total accuracy (fraction of correctly classified images), and summarize the results in your own words.\n",
    "\n",
    "3. Think of a way you can find the optimal threshold of the binarization part. **There is no need to actually perform this task --- just describe what you would have done.**\n"
   ]
  },
  {
   "cell_type": "markdown",
   "metadata": {
    "id": "ZKdsdegDWaO_"
   },
   "source": [
    "#### Answer 2"
   ]
  },
  {
   "cell_type": "markdown",
   "metadata": {},
   "source": [
    "#### Run a Naive Bayes classifier on the training data and apply predictions on the test data"
   ]
  },
  {
   "cell_type": "code",
   "execution_count": 5,
   "metadata": {
    "id": "XalqjRWXWS-Y"
   },
   "outputs": [
    {
     "name": "stdout",
     "output_type": "stream",
     "text": [
      "Model accuracy (Train) 0.831\n",
      "Model accuracy (Test) 0.841\n",
      "Model accuracy weighted f1 score (Train): 0.831\n",
      "Model accuracy weighted f1 score (Test): 0.841\n"
     ]
    }
   ],
   "source": [
    "from sklearn.naive_bayes import BernoulliNB\n",
    "classifier = BernoulliNB()\n",
    "classifier.fit(x_train, y_train)\n",
    "\n",
    "y_test_pred = classifier.predict(x_test)\n",
    "y_train_pred = classifier.predict(x_train)\n",
    "\n",
    "# let's look at accuracy and weighted f1 score:\n",
    "\n",
    "acc_score = accuracy_score(y_train, y_train_pred)\n",
    "print(f'Model accuracy (Train) {acc_score:.3f}')\n",
    "acc_score = accuracy_score(y_test, y_test_pred)\n",
    "print(f'Model accuracy (Test) {acc_score:.3f}')\n",
    "\n",
    "f1 = f1_score(y_train, y_train_pred, average='weighted')\n",
    "print(f'Model accuracy weighted f1 score (Train): {f1:.3f}')\n",
    "f1 = f1_score(y_test, y_test_pred, average='weighted')\n",
    "print(f'Model accuracy weighted f1 score (Test): {f1:.3f}')\n"
   ]
  },
  {
   "cell_type": "markdown",
   "metadata": {},
   "source": [
    "Let's test one of the edge cases we mentioned of test data having inverse digits: black over white:"
   ]
  },
  {
   "cell_type": "code",
   "execution_count": 6,
   "metadata": {},
   "outputs": [
    {
     "name": "stdout",
     "output_type": "stream",
     "text": [
      "example of the result of classifiying black over white samples:\n",
      " [2 2 5 2 2 2 2 2 2 2]\n"
     ]
    },
    {
     "data": {
      "image/png": "[encoded data removed]",
      "text/plain": [
       "<Figure size 576x216 with 10 Axes>"
      ]
     },
     "metadata": {},
     "output_type": "display_data"
    }
   ],
   "source": [
    "digit_probability = np.exp(classifier.feature_log_prob_)\n",
    "\n",
    "fig = plt.figure(figsize=(8, 3))\n",
    "inverse_digits=np.ones((10,784))\n",
    "for i in range(10):\n",
    "    inverse_digits[i]= digit_probability[i] < 0.5     # reverse digits \n",
    "    # plot digits\n",
    "    ax = fig.add_subplot(3, 5, 1 + i, xticks=[], yticks=[])\n",
    "    ax.imshow(inverse_digits[i].reshape((28,28)),cmap=pyplot.get_cmap('gray') )\n",
    "\n",
    "# try to predict inverse digits:\n",
    "y_pred_inverse=classifier.predict(inverse_digits)\n",
    "print('example of the result of classifiying black over white samples:\\n', y_pred_inverse)"
   ]
  },
  {
   "cell_type": "markdown",
   "metadata": {},
   "source": [
    "#### Plot the confusion matrix of your classifier, as claculated on the test data (it is recommended to use sklearn.metrics.confusion_matrix). Calculate the total accuracy (fraction of correctly classified images), and summarize the results in your own words.\n"
   ]
  },
  {
   "cell_type": "code",
   "execution_count": 7,
   "metadata": {},
   "outputs": [],
   "source": [
    "### change to generatl name\n",
    "def check_misclassified(categories, category_idx, row):\n",
    "    \n",
    "    row_in_matrix = row.copy()\n",
    "    total_appearances_of_category = np.sum(row_in_matrix)\n",
    "    row_in_matrix[category_idx] = 0  # remove correct classifications\n",
    "    total_errors = np.sum(row_in_matrix)\n",
    "    percent_errors = np.round(total_errors/ total_appearances_of_category, 2) * 100\n",
    "    \n",
    "    print(f'\\ntotal errors for category {categories[category_idx]} (it was classified as something else) = {total_errors} ({percent_errors:.1f}%)')\n",
    "    most_confused_with_idx = np.argmax(row_in_matrix)\n",
    "    most_confused_with = categories[most_confused_with_idx]\n",
    "    times_confused_with = row_in_matrix[most_confused_with_idx]\n",
    "    percent_from_all_these_errors = times_confused_with / total_errors * 100\n",
    "    print(f'most common misclassification is: {most_confused_with}  - {times_confused_with} times ({percent_from_all_these_errors:.2f}%)')\n",
    "\n",
    "    \n",
    "def plot_conf_matrix(matrix, target_names, size = (22,22), rotation = 45):    \n",
    "    ''' Plot the confusion matrix'''\n",
    "\n",
    "    fig, ax1 = plt.subplots(figsize=size)     \n",
    "    df = DataFrame(matrix, index=target_names, columns=target_names)\n",
    "    df.index.name = 'Actual'\n",
    "    ax = sns.heatmap(df, cmap='Blues', annot=True, fmt=\"d\")\n",
    "    ax.set_title('Confusion matrix', fontsize = 20)\n",
    "    ax.set_xlabel('Predicted')\n",
    "    ax.set_xticklabels(ax.get_xticklabels(), rotation = rotation, fontsize = 12)\n",
    "    ax.set_yticklabels(ax.get_yticklabels(), fontsize = 12)\n",
    "    plt.tight_layout() \n",
    "    plt.show()\n"
   ]
  },
  {
   "cell_type": "code",
   "execution_count": 8,
   "metadata": {},
   "outputs": [
    {
     "data": {
      "image/png": "[encoded data removed]",
      "text/plain": [
       "<Figure size 720x720 with 2 Axes>"
      ]
     },
     "metadata": {},
     "output_type": "display_data"
    },
    {
     "name": "stdout",
     "output_type": "stream",
     "text": [
      "              precision    recall  f1-score   support\n",
      "\n",
      "           0       0.91      0.91      0.91       980\n",
      "           1       0.90      0.96      0.93      1135\n",
      "           2       0.89      0.83      0.86      1032\n",
      "           3       0.76      0.84      0.80      1010\n",
      "           4       0.83      0.81      0.82       982\n",
      "           5       0.82      0.70      0.76       892\n",
      "           6       0.89      0.89      0.89       958\n",
      "           7       0.93      0.85      0.89      1028\n",
      "           8       0.75      0.78      0.77       974\n",
      "           9       0.75      0.84      0.79      1009\n",
      "\n",
      "    accuracy                           0.84     10000\n",
      "   macro avg       0.84      0.84      0.84     10000\n",
      "weighted avg       0.84      0.84      0.84     10000\n",
      "\n"
     ]
    }
   ],
   "source": [
    "from sklearn.metrics import confusion_matrix, classification_report\n",
    "from pandas import DataFrame\n",
    "\n",
    "\n",
    "labels = range(10)\n",
    "confustion_mat = confusion_matrix(y_test, y_test_pred)\n",
    "plot_conf_matrix(confustion_mat, labels, (10,10), 0)\n",
    "\n",
    "print(classification_report(y_test, y_test_pred, labels=labels))"
   ]
  },
  {
   "cell_type": "code",
   "execution_count": 9,
   "metadata": {},
   "outputs": [
    {
     "name": "stdout",
     "output_type": "stream",
     "text": [
      "\n",
      "total errors for category 0 (it was classified as something else) = 93 (9.0%)\n",
      "most common misclassification is: 5  - 41 times (44.09%)\n",
      "\n",
      "total errors for category 1 (it was classified as something else) = 50 (4.0%)\n",
      "most common misclassification is: 8  - 19 times (38.00%)\n",
      "\n",
      "total errors for category 2 (it was classified as something else) = 180 (17.0%)\n",
      "most common misclassification is: 8  - 55 times (30.56%)\n",
      "\n",
      "total errors for category 3 (it was classified as something else) = 166 (16.0%)\n",
      "most common misclassification is: 8  - 49 times (29.52%)\n",
      "\n",
      "total errors for category 4 (it was classified as something else) = 187 (19.0%)\n",
      "most common misclassification is: 9  - 126 times (67.38%)\n",
      "\n",
      "total errors for category 5 (it was classified as something else) = 265 (30.0%)\n",
      "most common misclassification is: 3  - 129 times (48.68%)\n",
      "\n",
      "total errors for category 6 (it was classified as something else) = 107 (11.0%)\n",
      "most common misclassification is: 5  - 35 times (32.71%)\n",
      "\n",
      "total errors for category 7 (it was classified as something else) = 157 (15.0%)\n",
      "most common misclassification is: 9  - 72 times (45.86%)\n",
      "\n",
      "total errors for category 8 (it was classified as something else) = 216 (22.0%)\n",
      "most common misclassification is: 3  - 76 times (35.19%)\n",
      "\n",
      "total errors for category 9 (it was classified as something else) = 166 (16.0%)\n",
      "most common misclassification is: 4  - 74 times (44.58%)\n"
     ]
    }
   ],
   "source": [
    "# analyze common misclassifications\n",
    "for i in labels:\n",
    "    check_misclassified(labels, i, confustion_mat[i])\n"
   ]
  },
  {
   "cell_type": "markdown",
   "metadata": {},
   "source": [
    "***\n",
    "The classifier's accuracy is 0.841, which is pretty good. The accuracy is similar for train data and test data , so it doesn't seem like it is overfitting and overall the generalization of the model is good. \n",
    "\n",
    "Looking at recall scores - the classifier identifies most ones and zeros (0.96 and 0.91), and the digits who gets misclassified most are 5 (recall of 0.7) and 8 (0.78) - which means 30% of 5's are classified  incorrectly and 22% of 8's are classified incorrectly.  \n",
    "\n",
    "\n",
    "In terms of percision: The classifier works best for 1's and 0's (0.9 and 0.91), which means that out of all 1's and 0's the model is classifying, 90% of 1's are indeed 1's and 91% of 0's are indeed 0's. The lowest percision scores are for digits 8,9 and 3's, which only about 75% of them turn out to be a correct prediction\n",
    "\n",
    "\n",
    "Looking at the confusion matrix:\n",
    "5's classified as 3's and 4 classified as 9's are the most common errors (in terms of number of errors)\n",
    "and followed by 8's recognized as 3's, 9's as 4's and 7's as 9's. \n",
    "***"
   ]
  },
  {
   "cell_type": "markdown",
   "metadata": {},
   "source": [
    "#### Plot the mean image of each class (estimated 𝑝̂𝑗𝑖) ) and generate one sample of each class (remember, you can do this since this is a generative model). You will need to access the feature_log_prob_ attribute of the trained model."
   ]
  },
  {
   "cell_type": "code",
   "execution_count": 10,
   "metadata": {},
   "outputs": [],
   "source": [
    "def plot_samples(prob_matrix):\n",
    "    fig=plt.figure(figsize=(10,4))\n",
    "    rows = 2\n",
    "    columns = 5\n",
    "\n",
    "    for i in labels:\n",
    "        fig.add_subplot(rows, columns, i + 1, xticks=[], yticks=[])\n",
    "        image_fi = np.reshape(prob_matrix[i], (28,28))\n",
    "        plt.imshow(image_fi, cmap='gray')\n",
    "    plt.show()\n",
    "\n"
   ]
  },
  {
   "cell_type": "code",
   "execution_count": 11,
   "metadata": {},
   "outputs": [
    {
     "data": {
      "image/png": "[encoded data removed]",
      "text/plain": [
       "<Figure size 720x288 with 10 Axes>"
      ]
     },
     "metadata": {},
     "output_type": "display_data"
    }
   ],
   "source": [
    "# using our calculated conditional probabilities per class\n",
    "plot_samples(per_cluster_pixels_prob)\n"
   ]
  },
  {
   "cell_type": "code",
   "execution_count": 12,
   "metadata": {},
   "outputs": [
    {
     "data": {
      "image/png": "[encoded data removed]",
      "text/plain": [
       "<Figure size 720x288 with 10 Axes>"
      ]
     },
     "metadata": {},
     "output_type": "display_data"
    }
   ],
   "source": [
    "# using feature_log_prob_ of the trained model\n",
    "feature_proba = np.exp(classifier.feature_log_prob_)\n",
    "plot_samples(feature_proba)\n"
   ]
  },
  {
   "cell_type": "markdown",
   "metadata": {},
   "source": [
    "#### To test our plotting, let's train the model with different number of examples and see how the mean images change"
   ]
  },
  {
   "cell_type": "code",
   "execution_count": 13,
   "metadata": {},
   "outputs": [
    {
     "name": "stdout",
     "output_type": "stream",
     "text": [
      "train size = 50 examples\n"
     ]
    },
    {
     "data": {
      "image/png": "[encoded data removed]",
      "text/plain": [
       "<Figure size 720x288 with 10 Axes>"
      ]
     },
     "metadata": {},
     "output_type": "display_data"
    },
    {
     "name": "stdout",
     "output_type": "stream",
     "text": [
      "train size = 100 examples\n"
     ]
    },
    {
     "data": {
      "image/png": "[encoded data removed]",
      "text/plain": [
       "<Figure size 720x288 with 10 Axes>"
      ]
     },
     "metadata": {},
     "output_type": "display_data"
    },
    {
     "name": "stdout",
     "output_type": "stream",
     "text": [
      "train size = 1000 examples\n"
     ]
    },
    {
     "data": {
      "image/png": "[encoded data removed]",
      "text/plain": [
       "<Figure size 720x288 with 10 Axes>"
      ]
     },
     "metadata": {},
     "output_type": "display_data"
    },
    {
     "name": "stdout",
     "output_type": "stream",
     "text": [
      "train size = 5000 examples\n"
     ]
    },
    {
     "data": {
      "image/png": "[encoded data removed]",
      "text/plain": [
       "<Figure size 720x288 with 10 Axes>"
      ]
     },
     "metadata": {},
     "output_type": "display_data"
    }
   ],
   "source": [
    "full_size = x_train.shape[0]\n",
    "train_sizes = [50,100,1000, 5000]\n",
    "\n",
    "for size in train_sizes:\n",
    "\n",
    "    classifier = BernoulliNB()\n",
    "    classifier.fit(x_train[:size], y_train[:size])\n",
    "\n",
    "    # using feature_log_prob_ of the trained model\n",
    "    feature_proba = np.exp(classifier.feature_log_prob_)\n",
    "    print(f'train size = {size} examples')\n",
    "    plot_samples(feature_proba)\n"
   ]
  },
  {
   "cell_type": "markdown",
   "metadata": {},
   "source": [
    "####  generate one sample of each class"
   ]
  },
  {
   "cell_type": "code",
   "execution_count": 14,
   "metadata": {},
   "outputs": [
    {
     "name": "stdout",
     "output_type": "stream",
     "text": [
      "1 experiments:\n"
     ]
    },
    {
     "data": {
      "image/png": "[encoded data removed]",
      "text/plain": [
       "<Figure size 720x288 with 10 Axes>"
      ]
     },
     "metadata": {},
     "output_type": "display_data"
    },
    {
     "name": "stdout",
     "output_type": "stream",
     "text": [
      "10 experiments:\n"
     ]
    },
    {
     "data": {
      "image/png": "[encoded data removed]",
      "text/plain": [
       "<Figure size 720x288 with 10 Axes>"
      ]
     },
     "metadata": {},
     "output_type": "display_data"
    },
    {
     "name": "stdout",
     "output_type": "stream",
     "text": [
      "100 experiments:\n"
     ]
    },
    {
     "data": {
      "image/png": "[encoded data removed]",
      "text/plain": [
       "<Figure size 720x288 with 10 Axes>"
      ]
     },
     "metadata": {},
     "output_type": "display_data"
    },
    {
     "name": "stdout",
     "output_type": "stream",
     "text": [
      "1000 experiments:\n"
     ]
    },
    {
     "data": {
      "image/png": "[encoded data removed]",
      "text/plain": [
       "<Figure size 720x288 with 10 Axes>"
      ]
     },
     "metadata": {},
     "output_type": "display_data"
    }
   ],
   "source": [
    "from numpy.random import binomial\n",
    "\n",
    "feature_proba = np.exp(classifier.feature_log_prob_)\n",
    "\n",
    "rows = 2\n",
    "columns = 5\n",
    "experiments = [1,10,100,1000]\n",
    "\n",
    "for num_experiments in experiments:\n",
    "    fig=plt.figure(figsize=(10,4))\n",
    "    print(f'{num_experiments} experiments:')\n",
    "    for label in labels:\n",
    "        pixels = []\n",
    "        for pixel in range(x_train.shape[1]):\n",
    "            p = feature_proba[label][pixel]\n",
    "            pix_value = np.mean(binomial(1,p, num_experiments))\n",
    "            pixels.append(pix_value)\n",
    "\n",
    "        fig.add_subplot(rows, columns, label + 1, xticks=[], yticks=[])    \n",
    "        image_fi = np.reshape(np.array(pixels), (28,28))\n",
    "        plt.imshow(image_fi, cmap='gray')\n",
    "\n",
    "    plt.show()\n",
    "\n",
    "\n"
   ]
  },
  {
   "cell_type": "markdown",
   "metadata": {},
   "source": [
    "#### Think of a way you can find the optimal threshold of the binarization part. There is no need to actually perform this task --- just describe what you would have done."
   ]
  },
  {
   "cell_type": "markdown",
   "metadata": {},
   "source": [
    "We can treat this as other hyper-parameters tuning and find the value using manual tuning or GridSearch using CV."
   ]
  },
  {
   "cell_type": "code",
   "execution_count": 15,
   "metadata": {},
   "outputs": [
    {
     "name": "stdout",
     "output_type": "stream",
     "text": [
      "{'binarize': 85.0}\n"
     ]
    }
   ],
   "source": [
    "from sklearn.model_selection import GridSearchCV\n",
    "\n",
    "# Using GridSearch\n",
    "\n",
    "(x_train, y_train), (x_test, y_test) = mnist.load_data()\n",
    "x_train = x_train.reshape(x_train.shape[0], 784)\n",
    "x_test = x_test.reshape(x_test.shape[0], 784)\n",
    "\n",
    "model = BernoulliNB()\n",
    "hyper_params = dict(binarize = np.linspace(0, 255, 10))\n",
    "\n",
    "grid = GridSearchCV(model, hyper_params, cv = 3, n_jobs = 10)\n",
    "best_parameters = grid.fit(x_train, y_train)\n",
    "\n",
    "print(best_parameters.best_params_)"
   ]
  },
  {
   "cell_type": "markdown",
   "metadata": {},
   "source": [
    "#### let's use the value we got from GridSearch"
   ]
  },
  {
   "cell_type": "code",
   "execution_count": 16,
   "metadata": {},
   "outputs": [
    {
     "name": "stdout",
     "output_type": "stream",
     "text": [
      "Model accuracy (Train) 0.836\n",
      "Model accuracy (Test) 0.844\n"
     ]
    }
   ],
   "source": [
    "(x_train, y_train), (x_test, y_test) = mnist.load_data()\n",
    "x_train = x_train.reshape(x_train.shape[0], 784)\n",
    "x_test = x_test.reshape(x_test.shape[0], 784)\n",
    "\n",
    "model = BernoulliNB(binarize=85)\n",
    "model.fit(x_train, y_train)\n",
    "\n",
    "y_test_pred = model.predict(x_test)\n",
    "y_train_pred = model.predict(x_train)\n",
    "\n",
    "acc_score = accuracy_score(y_train, y_train_pred)\n",
    "print(f'Model accuracy (Train) {acc_score:.3f}')\n",
    "acc_score = accuracy_score(y_test, y_test_pred)\n",
    "print(f'Model accuracy (Test) {acc_score:.3f}')"
   ]
  },
  {
   "cell_type": "markdown",
   "metadata": {},
   "source": [
    "***\n",
    "Using Binarize value of 85, imrpves the he model's accuracy on the test data very slightly (0.841 -> 0.844)\n",
    "***"
   ]
  },
  {
   "cell_type": "markdown",
   "metadata": {
    "id": "lKSgnectrTJ1"
   },
   "source": [
    "## 2. Classifing Text Documents using Multinomial Naive Bayes\n",
    "In this exercise you will classify the \"20 newsgroups\" data set using your own naive bayes classifier and compare to the scikit learn built in version.\n",
    "\n",
    "The 20 newsgroups dataset comprises around 18000 newsgroups posts on 20 topics split in two subsets: one for training (or development) and the other one for testing (or for performance evaluation). The split between the train and test set is based upon messages posted before and after a specific date.\n",
    "\n",
    "\n",
    "* Load the **train** data using `from sklearn.datasets import fetch_20newsgroups`. remove headers, footers and quotes (see documentation)\n",
    "* Use `sklearn.feature_extraction.text import CountVectorizer` to count words (stop_words='english')\n",
    "* Write a class `NaiveBayes(BaseEstimator, ClassifierMixin)` and implement its `fit`, `predict` and `predict_proba` methods.\n",
    "* use `sklearn.pipeline.make_pipeline` to chain the vectroizer and model.\n",
    "* note: limit the vocuabolary size if you suffer memory issues\n",
    "* compare the accuracy over the **test** data. You can use `accuracy_score, classification_report`\n",
    "* compare to the built in `sklearn.naive_bayes.MultinomialNB`\n",
    "* compare to `TfidfVectorizer` preprocessing (you can use the built in model for doing the analysis)\n",
    "* plot the learning curve - is the model in the bias or variance regime (you can use the built in model for doing the analysis)\n",
    "* optimize performance in respect to vectorizer hyper parameters (e.g. max_features, max_df etc.).\n",
    "\n"
   ]
  },
  {
   "cell_type": "markdown",
   "metadata": {},
   "source": [
    "### Load the fetch_20newsgroups dataset"
   ]
  },
  {
   "cell_type": "code",
   "execution_count": 17,
   "metadata": {},
   "outputs": [
    {
     "name": "stdout",
     "output_type": "stream",
     "text": [
      "11314 docs in train set\n",
      "7532 docs in test set\n"
     ]
    }
   ],
   "source": [
    "from sklearn.datasets import fetch_20newsgroups\n",
    "\n",
    "RAND_STATE = 1\n",
    "\n",
    "remove_metadata = ('headers', 'footers', 'quotes')\n",
    "train_data = fetch_20newsgroups(subset='train', remove=remove_metadata, random_state= RAND_STATE)\n",
    "x_test, y_test = fetch_20newsgroups(subset='test', return_X_y=True, remove=remove_metadata, random_state=RAND_STATE)\n",
    "\n",
    "x_train, y_train = train_data.data, train_data.target\n",
    "categories = train_data.target_names\n",
    "\n",
    "print(len(x_train), 'docs in train set')\n",
    "print(len(x_test), 'docs in test set')"
   ]
  },
  {
   "cell_type": "markdown",
   "metadata": {},
   "source": [
    "### Implenentation of Multinomial Naive Bayes"
   ]
  },
  {
   "cell_type": "code",
   "execution_count": 18,
   "metadata": {
    "id": "FEbVc4Ixxe6L"
   },
   "outputs": [],
   "source": [
    "from sklearn.base import BaseEstimator, ClassifierMixin\n",
    "import numpy as np\n",
    "from scipy.sparse import find\n",
    "\n",
    "class NaiveBayes(BaseEstimator, ClassifierMixin):\n",
    "\n",
    "    def __init__(self):\n",
    "        self.words_cond_prob = []  # for each feature - cond prob list (entry per class)\n",
    "        self.EPSILON = 1\n",
    "        self.classes_priors = None\n",
    "        self.classes = None\n",
    "        self.features_count = None\n",
    "        self.words_cond_prob = None\n",
    "\n",
    "    def fit(self, X, y):\n",
    "\n",
    "        self.classes, classes_counts = np.unique(y, return_counts=True)\n",
    "        dataset_size = len(y)\n",
    "        classes_count = len(self.classes)\n",
    "        self.features_count = X.shape[1]\n",
    "\n",
    "        self.classes_priors = np.array(classes_counts / dataset_size)\n",
    "\n",
    "        # sum up the counts of each feature / word for each class:\n",
    "        self.words_cond_prob = np.zeros(shape=(classes_count, self.features_count))  # classes X features\n",
    "        count_words_per_class = [0] * classes_count\n",
    "        for class_ in self.classes:\n",
    "            self.words_cond_prob[class_] = np.sum(X[y == class_], axis=0)\n",
    "            count_words_per_class[class_] = np.sum(self.words_cond_prob[class_] )\n",
    "\n",
    "        # calculate conditional probability (include smoothing)\n",
    "        for i, list_count in enumerate(self.words_cond_prob):\n",
    "            self.words_cond_prob[i] = np.add(list_count, self.EPSILON) / (count_words_per_class[i] + self.features_count)\n",
    "\n",
    "        return self\n",
    "\n",
    "    def predict_log_proba(self, X):\n",
    "        y_log_prob = [0] * X.shape[0]\n",
    "        for idx in range(X.shape[0]):\n",
    "            y_log_prob[idx] = self.predict_point_log_proba(X[idx])\n",
    "        return np.array(y_log_prob)\n",
    "\n",
    "    def predict_proba(self, X):\n",
    "        return np.exp(self.predict_log_proba(X))\n",
    "\n",
    "    def predict(self, X):\n",
    "        y_pred = []\n",
    "        for idx in range(X.shape[0]):\n",
    "            y_pred.append(self.predict_point(X[idx]))\n",
    "        return y_pred\n",
    "\n",
    "    def predict_point(self, x):\n",
    "        log_prob_for_class = self.predict_point_log_proba(x)\n",
    "        return self.classes[np.argmax(log_prob_for_class)]\n",
    "\n",
    "    def predict_point_log_proba(self, X):\n",
    "        rows_idx, cols_idx, values = find(X)\n",
    "        log_proba = np.log(self.classes_priors) + np.dot(np.log(self.words_cond_prob[:, cols_idx]), values)\n",
    "        return log_proba.tolist()"
   ]
  },
  {
   "cell_type": "code",
   "execution_count": 19,
   "metadata": {},
   "outputs": [],
   "source": [
    "from sklearn.feature_extraction.text import CountVectorizer, TfidfVectorizer\n",
    "from sklearn.metrics import confusion_matrix, classification_report, accuracy_score, f1_score\n",
    "from sklearn.naive_bayes import MultinomialNB\n",
    "from sklearn.pipeline import make_pipeline, Pipeline\n",
    "from pandas import DataFrame\n",
    "import seaborn as sns\n",
    "\n",
    "sns.set()    \n",
    "        \n",
    "def analyze_model(y_test, y_test_pred):\n",
    "    conf_matrix = confusion_matrix(y_test, y_test_pred)\n",
    "    plot_conf_matrix(conf_matrix, categories);\n",
    "    \n",
    "    print(classification_report(y_test, y_test_pred, target_names = categories ))\n",
    "\n",
    "    # analyze common misclassifications\n",
    "    for category_index in range(len(categories)):\n",
    "        check_misclassified(categories, category_index, conf_matrix[category_index])\n",
    "    \n",
    "\n",
    "def run_and_evaluate_pipeline(x_test, y_test, x_train, y_train, pipeline, categories):\n",
    "\n",
    "    pipeline.fit(x_train, y_train)\n",
    "\n",
    "    y_test_pred = pipeline.predict(x_test)\n",
    "    y_train_pred = pipeline.predict(x_train)\n",
    "\n",
    "    acc_score = accuracy_score(y_train, y_train_pred)\n",
    "    print(f'Model accuracy (Train) {acc_score:.3f}')\n",
    "    acc_score = accuracy_score(y_test, y_test_pred)\n",
    "    print(f'Model accuracy (Test) {acc_score:.3f}')\n",
    "\n",
    "    f1 = f1_score(y_train, y_train_pred, average='weighted')\n",
    "    print(f'Model accuracy weighted f1 score (Train): {f1:.3f}')\n",
    "\n",
    "    f1 = f1_score(y_test, y_test_pred, average='weighted')\n",
    "    print(f'Model accuracy weighted f1 score (Test): {f1:.3f}')\n",
    "\n",
    "    n_features = len(pipeline.named_steps[\"vectorizer\"].get_feature_names())\n",
    "    print(f'{n_features} features')\n",
    "\n",
    "\n",
    "def run_and_evaluate_model(x_test, y_test, x_train, y_train, categories, sklearn = False, tf_idf = False):\n",
    "    \n",
    "    if sklearn:\n",
    "        title = 'SKlearn Model'\n",
    "        model = MultinomialNB()\n",
    "    else:\n",
    "        title = 'Our Naive Bayes Model'\n",
    "        model = NaiveBayes()\n",
    "\n",
    "    if tf_idf:\n",
    "        title += \" (TF-IDF Vectorizer)\"\n",
    "        vectorizer = TfidfVectorizer(stop_words='english')\n",
    "    else:\n",
    "        title += \" (Count Vectorizer)\"\n",
    "        vectorizer = CountVectorizer(stop_words='english')\n",
    "\n",
    "    print(title)\n",
    "\n",
    "    # Define a pipeline combining the vectorizer and the classifier\n",
    "    pipeline = Pipeline([\n",
    "        ('vectorizer', vectorizer),\n",
    "        ('classifier', model),\n",
    "    ])\n",
    "\n",
    "    run_and_evaluate_pipeline(x_test, y_test, x_train, y_train, pipeline, categories)\n",
    "\n",
    "    "
   ]
  },
  {
   "cell_type": "markdown",
   "metadata": {},
   "source": [
    "### compare the accuracy over the test data"
   ]
  },
  {
   "cell_type": "code",
   "execution_count": 20,
   "metadata": {
    "scrolled": false
   },
   "outputs": [
    {
     "name": "stdout",
     "output_type": "stream",
     "text": [
      "Our Naive Bayes Model (Count Vectorizer)\n",
      "Model accuracy (Train) 0.818\n",
      "Model accuracy (Test) 0.634\n",
      "Model accuracy weighted f1 score (Train): 0.802\n",
      "Model accuracy weighted f1 score (Test): 0.610\n",
      "101322 features\n",
      "done in 7.26 sec\n"
     ]
    }
   ],
   "source": [
    "from time import time \n",
    "\n",
    "t0 = time()\n",
    "\n",
    "run_and_evaluate_model(x_test, y_test, x_train, y_train, categories, sklearn=False)\n",
    "\n",
    "print(f\"done in { time() - t0:.2f} sec\")"
   ]
  },
  {
   "cell_type": "markdown",
   "metadata": {},
   "source": [
    "***\n",
    "\n",
    "We see that our test accuracy is `0.634` (vs. train accuracy which is `0.818`). Looking at weighted f1-score, the score is even lower (`0.610`). As the test accuracy is low and the difference between test and train accuracy is fairly large, we could say that the model overfits the data and does not generalize very well.\n",
    "\n",
    "***\n"
   ]
  },
  {
   "cell_type": "markdown",
   "metadata": {},
   "source": [
    "### compare to the built in `sklearn.naive_bayes.MultinomialNB`"
   ]
  },
  {
   "cell_type": "code",
   "execution_count": 21,
   "metadata": {
    "scrolled": false
   },
   "outputs": [
    {
     "name": "stdout",
     "output_type": "stream",
     "text": [
      "SKlearn Model (Count Vectorizer)\n",
      "Model accuracy (Train) 0.818\n",
      "Model accuracy (Test) 0.634\n",
      "Model accuracy weighted f1 score (Train): 0.802\n",
      "Model accuracy weighted f1 score (Test): 0.610\n",
      "101322 features\n",
      "done in 3.09 sec\n"
     ]
    }
   ],
   "source": [
    "from time import time\n",
    "\n",
    "#  use regular vectorizer and compare to SKlearn\n",
    "t0 = time()\n",
    "\n",
    "run_and_evaluate_model(x_test, y_test, x_train, y_train, categories , sklearn=True)\n",
    "\n",
    "print(f\"done in {time() - t0:.2f} sec\")\n"
   ]
  },
  {
   "cell_type": "markdown",
   "metadata": {},
   "source": [
    "***\n",
    "\n",
    "#### We see that our model gives the same results as the built in  `sklearn.naive_bayes.MultinomialNB`\n",
    "\n",
    "***\n"
   ]
  },
  {
   "cell_type": "markdown",
   "metadata": {},
   "source": [
    "### compare to TfidfVectorizer preprocessing"
   ]
  },
  {
   "cell_type": "code",
   "execution_count": 22,
   "metadata": {
    "scrolled": false
   },
   "outputs": [
    {
     "name": "stdout",
     "output_type": "stream",
     "text": [
      "Our Naive Bayes Model (TF-IDF Vectorizer)\n",
      "Model accuracy (Train) 0.877\n",
      "Model accuracy (Test) 0.678\n",
      "Model accuracy weighted f1 score (Train): 0.871\n",
      "Model accuracy weighted f1 score (Test): 0.665\n",
      "101322 features\n",
      "done in 7.23 sec\n"
     ]
    }
   ],
   "source": [
    "#  use TDF-IF Vectorizer\n",
    "t0 = time()\n",
    "\n",
    "run_and_evaluate_model(x_test, y_test, x_train, y_train, categories, sklearn = False, tf_idf= True)\n",
    " \n",
    "print(f\"done in {time() - t0:.2f} sec\")"
   ]
  },
  {
   "cell_type": "markdown",
   "metadata": {},
   "source": [
    "***\n",
    "\n",
    "The test accuracy improved and is now `0.678` (vs. the previous `0.634`), and training accuracy is `0.877` (vs. the previous `0.818`), However, we are still overfitting. Using the TDF-IF Vectorizer did also improve the weighted f1-score to `0.665` (from `0.610`) on the test data and to `0.871` (from `0.802`) on the train data but we can see the overfitting here as well.  \n",
    "\n",
    "***\n"
   ]
  },
  {
   "cell_type": "markdown",
   "metadata": {},
   "source": [
    "### plot the learning curve - is the model in the bias or variance regime?\n"
   ]
  },
  {
   "cell_type": "code",
   "execution_count": 23,
   "metadata": {},
   "outputs": [],
   "source": [
    "def plot_errors (x_axis, train_error_mean_list, valid_error_mean_list, x_label, y_label):\n",
    "    \n",
    "    fig=plt.figure(figsize=(15,6))\n",
    "    plt.xlabel(x_label)\n",
    "    plt.xticks(x_axis)\n",
    "    plt.ylabel(y_label)\n",
    "    plt.plot(x_axis, train_error_mean_list, label=\"train error\", marker = 'o', c = 'g')\n",
    "    plt.plot(x_axis, valid_error_mean_list, label=\"validation error\", marker = 'o', c = 'r')\n",
    "\n",
    "    plt.legend()\n",
    "    plt.show()"
   ]
  },
  {
   "cell_type": "code",
   "execution_count": 24,
   "metadata": {},
   "outputs": [],
   "source": [
    "from sklearn.model_selection import learning_curve\n",
    "\n",
    "\n",
    "model = MultinomialNB()\n",
    "vectorizer = TfidfVectorizer(stop_words='english')\n",
    "\n",
    "# Define a pipeline combining the vectorizer and the classifier\n",
    "pipeline = Pipeline([\n",
    "    ('vectorizer', vectorizer),\n",
    "    ('classifier', model),\n",
    "])\n",
    "\n",
    "\n",
    "train_set_size_80_percent = int(np.floor(0.8 * len(x_train)))\n",
    "train_sizes = [int(np.floor(size)) for size in np.linspace(1000, train_set_size_80_percent,10)]\n",
    "\n",
    "train_sizes, train_scores, validation_scores = learning_curve(pipeline, x_train, y_train, cv=5, n_jobs=10, \n",
    "                                                              train_sizes=train_sizes, scoring = 'accuracy')\n"
   ]
  },
  {
   "cell_type": "markdown",
   "metadata": {},
   "source": [
    "### Plot learning curves"
   ]
  },
  {
   "cell_type": "code",
   "execution_count": 25,
   "metadata": {},
   "outputs": [
    {
     "data": {
      "image/png": "[encoded data removed]",
      "text/plain": [
       "<Figure size 1080x432 with 1 Axes>"
      ]
     },
     "metadata": {},
     "output_type": "display_data"
    }
   ],
   "source": [
    "train_error_mean = 1 - np.mean(train_scores, axis=1)\n",
    "validation_error_mean = 1 - np.mean(validation_scores, axis=1)\n",
    "\n",
    "plot_errors (train_sizes, train_error_mean, validation_error_mean, 'Training Size', 'error rate')\n"
   ]
  },
  {
   "cell_type": "markdown",
   "metadata": {},
   "source": [
    "***\n",
    "\n",
    "We can see that the training error increases as we add more examples, but is overall low (max value is 0.12). This means the training data is fitted pretty well so we have a low bias. The large gap between the training and validation error (more than 15% difference) indicates a high variance and overfitting problem - the model fits the training data (too) well but doesn't generalize as well. So it has low bias - high variance.\n",
    "\n",
    "The trend seen in the plot, where the validation error decreases as the number of training examples grows - suggests that the model hasn't seen enough data to generalize well, and adding more training examples will improve the model's accuracy and reduce validation error. The model is currently very complex (it has over 100,000 features) so it requires a lot of examples to achieve good accuracy. It might be also that the default hyper parametrs are well tuned for this data (we used default parameters) - we will check that next.\n",
    " \n",
    "***"
   ]
  },
  {
   "cell_type": "markdown",
   "metadata": {},
   "source": [
    "### optimize performance in respect to vectorizer hyper parameters \n",
    "\n"
   ]
  },
  {
   "cell_type": "markdown",
   "metadata": {},
   "source": [
    "#### Let's manually tune max features:"
   ]
  },
  {
   "cell_type": "code",
   "execution_count": 26,
   "metadata": {},
   "outputs": [
    {
     "name": "stdout",
     "output_type": "stream",
     "text": [
      ".................................................."
     ]
    },
    {
     "data": {
      "image/png": "[encoded data removed]",
      "text/plain": [
       "<Figure size 1080x432 with 1 Axes>"
      ]
     },
     "metadata": {},
     "output_type": "display_data"
    }
   ],
   "source": [
    "KFOLD_SPLITS = 5\n",
    "\n",
    "train_error_mean_list = []\n",
    "valid_error_mean_list = []\n",
    "\n",
    "max_features = [ 1000, 12000, 23000, 34000, 45000, 56000, 67000, 78000, 89000, 100000 ]\n",
    "\n",
    "model = MultinomialNB()\n",
    "\n",
    "for max_f in max_features:\n",
    " \n",
    "    kf = StratifiedKFold(n_splits=KFOLD_SPLITS)\n",
    "    train_error_list = []\n",
    "    valid_error_list = []\n",
    "\n",
    "    for train_idx, test_idx in kf.split(x_train, y_train):\n",
    "\n",
    "        print('.', end = '')\n",
    "        \n",
    "        vectorizer = TfidfVectorizer(stop_words='english', max_features = max_f)\n",
    "\n",
    "        # Define a pipeline combining the vectorizer and the classifier\n",
    "        opt_pipeline = Pipeline([\n",
    "            ('vectorizer', vectorizer),\n",
    "            ('classifier', model),\n",
    "        ])\n",
    "        \n",
    "        x_train_train = [x_train[i] for i in train_idx]\n",
    "        y_train_train = [y_train[i] for i in train_idx]\n",
    "        x_train_test =  [x_train[i] for i in test_idx]\n",
    "        y_train_test =  [y_train[i] for i in test_idx]\n",
    "        \n",
    "        opt_pipeline.fit(x_train_train, y_train_train)\n",
    "        \n",
    "        y_test_pred = opt_pipeline.predict(x_train_test)\n",
    "        y_train_pred = opt_pipeline.predict(x_train_train)\n",
    "\n",
    "        train_error_list.append(1 - accuracy_score(y_train_train,y_train_pred))\n",
    "        valid_error_list.append(1 - accuracy_score(y_train_test,y_test_pred))\n",
    "\n",
    "    train_error_mean_list.append(np.array(train_error_list).mean())\n",
    "    valid_error_mean_list.append(np.array(valid_error_list).mean())\n",
    "\n",
    "plot_errors(max_features, train_error_mean_list, valid_error_mean_list, 'max features', \"error rate\" )\n"
   ]
  },
  {
   "cell_type": "markdown",
   "metadata": {},
   "source": [
    "***\n",
    "\n",
    "Seems like the validation error flattens around 12k - 23k features. let's choose 20k\n",
    "\n",
    "***"
   ]
  },
  {
   "cell_type": "markdown",
   "metadata": {},
   "source": [
    "#### Let's optimize strip_accent"
   ]
  },
  {
   "cell_type": "code",
   "execution_count": 27,
   "metadata": {},
   "outputs": [
    {
     "name": "stdout",
     "output_type": "stream",
     "text": [
      "..........Done\n"
     ]
    }
   ],
   "source": [
    "KFOLD_SPLITS = 5\n",
    "\n",
    "train_error_mean_list = []\n",
    "valid_error_mean_list = []\n",
    "\n",
    "strip_accents_options = ['ascii', None]\n",
    "\n",
    "model = MultinomialNB()\n",
    "\n",
    "for strip_accent in strip_accents_options:\n",
    " \n",
    "    kf = StratifiedKFold(n_splits=KFOLD_SPLITS)\n",
    "    train_error_list = []\n",
    "    valid_error_list = []\n",
    "\n",
    "    for train_idx, test_idx in kf.split(x_train, y_train):\n",
    "\n",
    "        print('.', end = '')\n",
    "        \n",
    "        vectorizer = TfidfVectorizer(stop_words='english', strip_accents = strip_accent)\n",
    "\n",
    "        # Define a pipeline combining the vectorizer and the classifier\n",
    "        opt_pipeline = Pipeline([\n",
    "            ('vectorizer', vectorizer),\n",
    "            ('classifier', model),\n",
    "        ])\n",
    "        \n",
    "        x_train_train = [x_train[i] for i in train_idx]\n",
    "        y_train_train = [y_train[i] for i in train_idx]\n",
    "        x_train_test =  [x_train[i] for i in test_idx]\n",
    "        y_train_test =  [y_train[i] for i in test_idx]\n",
    "        \n",
    "        opt_pipeline.fit(x_train_train, y_train_train)\n",
    "        \n",
    "        y_test_pred = opt_pipeline.predict(x_train_test)\n",
    "        y_train_pred = opt_pipeline.predict(x_train_train)\n",
    "\n",
    "        train_error_list.append(1 - accuracy_score(y_train_train,y_train_pred))\n",
    "        valid_error_list.append(1 - accuracy_score(y_train_test,y_test_pred))\n",
    "\n",
    "    train_error_mean_list.append(np.array(train_error_list).mean())\n",
    "    valid_error_mean_list.append(np.array(valid_error_list).mean())\n",
    "\n",
    "print('Done')\n"
   ]
  },
  {
   "cell_type": "code",
   "execution_count": 28,
   "metadata": {},
   "outputs": [
    {
     "name": "stdout",
     "output_type": "stream",
     "text": [
      "[0.11770812599081952, 0.11770812599081952]\n",
      "[0.278947103150556, 0.278947103150556]\n"
     ]
    }
   ],
   "source": [
    "print(train_error_mean_list)\n",
    "print(valid_error_mean_list)"
   ]
  },
  {
   "cell_type": "markdown",
   "metadata": {},
   "source": [
    "***\n",
    "\n",
    "No real difference between ascii and None.\n",
    "\n",
    "***"
   ]
  },
  {
   "cell_type": "markdown",
   "metadata": {},
   "source": [
    "#### Let's manually tune max_df:"
   ]
  },
  {
   "cell_type": "code",
   "execution_count": 29,
   "metadata": {
    "scrolled": true
   },
   "outputs": [
    {
     "name": "stdout",
     "output_type": "stream",
     "text": [
      "............................................................Done\n"
     ]
    }
   ],
   "source": [
    "\n",
    "train_error_mean_list = []\n",
    "valid_error_mean_list = []\n",
    "\n",
    "max_df_list = [0.05, 0.1, 0.2 , 0.3, 0.4, 0.5, 0.6, 0.7, 0.8, 0.9, 0.95, 1.0] \n",
    "\n",
    "model = MultinomialNB()\n",
    "\n",
    "for max_df in max_df_list:\n",
    " \n",
    "    kf = StratifiedKFold(n_splits=KFOLD_SPLITS)\n",
    "    train_error_list = []\n",
    "    valid_error_list = []\n",
    "\n",
    "    for train_idx, test_idx in kf.split(x_train, y_train):\n",
    "\n",
    "        print('.', end = '')\n",
    "        \n",
    "        vectorizer = TfidfVectorizer(stop_words='english', max_df =  max_df)\n",
    "\n",
    "        # Define a pipeline combining the vectorizer and the classifier\n",
    "        opt_pipeline = Pipeline([\n",
    "            ('vectorizer', vectorizer),\n",
    "            ('classifier', model),\n",
    "        ])\n",
    "        \n",
    "        x_train_train = [x_train[i] for i in train_idx]\n",
    "        y_train_train = [y_train[i] for i in train_idx]\n",
    "        x_train_test =  [x_train[i] for i in test_idx]\n",
    "        y_train_test =  [y_train[i] for i in test_idx]\n",
    "        \n",
    "        opt_pipeline.fit(x_train_train, y_train_train)\n",
    "        \n",
    "        y_test_pred = opt_pipeline.predict(x_train_test)\n",
    "        y_train_pred = opt_pipeline.predict(x_train_train)\n",
    "\n",
    "        train_error_list.append(1 - accuracy_score(y_train_train,y_train_pred))\n",
    "        valid_error_list.append(1 - accuracy_score(y_train_test,y_test_pred))\n",
    "\n",
    "    train_error_mean_list.append(np.array(train_error_list).mean())\n",
    "    valid_error_mean_list.append(np.array(valid_error_list).mean())\n",
    "\n",
    "print('Done')"
   ]
  },
  {
   "cell_type": "code",
   "execution_count": 30,
   "metadata": {},
   "outputs": [
    {
     "data": {
      "image/png": "[encoded data removed]",
      "text/plain": [
       "<Figure size 1080x432 with 1 Axes>"
      ]
     },
     "metadata": {},
     "output_type": "display_data"
    }
   ],
   "source": [
    "plot_errors(max_df_list, train_error_mean_list, valid_error_mean_list, 'max df', \"error rate\" )"
   ]
  },
  {
   "cell_type": "markdown",
   "metadata": {},
   "source": [
    "***\n",
    "\n",
    "Seems like lower max_df has a slightly lower error\n",
    "\n",
    "***"
   ]
  },
  {
   "cell_type": "markdown",
   "metadata": {},
   "source": [
    "#### Let's try to optimize n_grams"
   ]
  },
  {
   "cell_type": "code",
   "execution_count": 31,
   "metadata": {},
   "outputs": [
    {
     "name": "stdout",
     "output_type": "stream",
     "text": [
      "...............Done\n"
     ]
    }
   ],
   "source": [
    "train_error_mean_list = []\n",
    "valid_error_mean_list = []\n",
    "\n",
    "ngram_list = [(1,1),(1,2), (1,3)] \n",
    "\n",
    "model = MultinomialNB()\n",
    "\n",
    "for n_gram in ngram_list:\n",
    " \n",
    "    kf = StratifiedKFold(n_splits=KFOLD_SPLITS)\n",
    "    train_error_list = []\n",
    "    valid_error_list = []\n",
    "\n",
    "    for train_idx, test_idx in kf.split(x_train, y_train):\n",
    "\n",
    "        print('.', end = '')\n",
    "        \n",
    "        vectorizer = TfidfVectorizer(stop_words='english', ngram_range =  n_gram)\n",
    "\n",
    "        # Define a pipeline combining the vectorizer and the classifier\n",
    "        opt_pipeline = Pipeline([\n",
    "            ('vectorizer', vectorizer),\n",
    "            ('classifier', model),\n",
    "        ])\n",
    "        \n",
    "        x_train_train = [x_train[i] for i in train_idx]\n",
    "        y_train_train = [y_train[i] for i in train_idx]\n",
    "        x_train_test =  [x_train[i] for i in test_idx]\n",
    "        y_train_test =  [y_train[i] for i in test_idx]\n",
    "        \n",
    "        opt_pipeline.fit(x_train_train, y_train_train)\n",
    "        \n",
    "        y_test_pred = opt_pipeline.predict(x_train_test)\n",
    "        y_train_pred = opt_pipeline.predict(x_train_train)\n",
    "\n",
    "        train_error_list.append(1 - accuracy_score(y_train_train,y_train_pred))\n",
    "        valid_error_list.append(1 - accuracy_score(y_train_test,y_test_pred))\n",
    "\n",
    "    train_error_mean_list.append(np.array(train_error_list).mean())\n",
    "    valid_error_mean_list.append(np.array(valid_error_list).mean())\n",
    "\n",
    "print('Done')\n"
   ]
  },
  {
   "cell_type": "code",
   "execution_count": 32,
   "metadata": {},
   "outputs": [
    {
     "name": "stdout",
     "output_type": "stream",
     "text": [
      "[0.278947103150556, 0.2783282209128279, 0.2817751683660532]\n"
     ]
    },
    {
     "data": {
      "image/png": "[encoded data removed]",
      "text/plain": [
       "<Figure size 1080x432 with 1 Axes>"
      ]
     },
     "metadata": {},
     "output_type": "display_data"
    }
   ],
   "source": [
    "print(valid_error_mean_list)\n",
    "plot_errors([1,2,3], train_error_mean_list, valid_error_mean_list, 'n-grams', \"error rate\" )"
   ]
  },
  {
   "cell_type": "markdown",
   "metadata": {},
   "source": [
    "***\n",
    "\n",
    "Seens like the training errors decreases, but validation errors don't for 2 / 3 grams. We will stays with one then.\n",
    "\n",
    "***"
   ]
  },
  {
   "cell_type": "markdown",
   "metadata": {},
   "source": [
    "#### let's try to optimize min_df"
   ]
  },
  {
   "cell_type": "code",
   "execution_count": 33,
   "metadata": {},
   "outputs": [
    {
     "name": "stdout",
     "output_type": "stream",
     "text": [
      "....................Done\n"
     ]
    }
   ],
   "source": [
    "\n",
    "train_error_mean_list = []\n",
    "valid_error_mean_list = []\n",
    "\n",
    "min_df_list = [1, 10, 100, 500]\n",
    "\n",
    "model = MultinomialNB()\n",
    "\n",
    "for min_df in min_df_list:\n",
    " \n",
    "    kf = StratifiedKFold(n_splits=KFOLD_SPLITS)\n",
    "    train_error_list = []\n",
    "    valid_error_list = []\n",
    "\n",
    "    for train_idx, test_idx in kf.split(x_train, y_train):\n",
    "\n",
    "        print('.', end = '')\n",
    "        \n",
    "        vectorizer = TfidfVectorizer(stop_words='english', min_df =  min_df)\n",
    "\n",
    "        # Define a pipeline combining the vectorizer and the classifier\n",
    "        opt_pipeline = Pipeline([\n",
    "            ('vectorizer', vectorizer),\n",
    "            ('classifier', model),\n",
    "        ])\n",
    "        \n",
    "        x_train_train = [x_train[i] for i in train_idx]\n",
    "        y_train_train = [y_train[i] for i in train_idx]\n",
    "        x_train_test =  [x_train[i] for i in test_idx]\n",
    "        y_train_test =  [y_train[i] for i in test_idx]\n",
    "        \n",
    "        opt_pipeline.fit(x_train_train, y_train_train)\n",
    "        \n",
    "        y_test_pred = opt_pipeline.predict(x_train_test)\n",
    "        y_train_pred = opt_pipeline.predict(x_train_train)\n",
    "\n",
    "        train_error_list.append(1 - accuracy_score(y_train_train,y_train_pred))\n",
    "        valid_error_list.append(1 - accuracy_score(y_train_test,y_test_pred))\n",
    "\n",
    "    train_error_mean_list.append(np.array(train_error_list).mean())\n",
    "    valid_error_mean_list.append(np.array(valid_error_list).mean())\n",
    "\n",
    "print('Done')"
   ]
  },
  {
   "cell_type": "code",
   "execution_count": 34,
   "metadata": {},
   "outputs": [
    {
     "name": "stdout",
     "output_type": "stream",
     "text": [
      "[0.278947103150556, 0.29194007469564787, 0.44387464821584927, 0.8272043284248627]\n"
     ]
    },
    {
     "data": {
      "image/png": "[encoded data removed]",
      "text/plain": [
       "<Figure size 1080x432 with 1 Axes>"
      ]
     },
     "metadata": {},
     "output_type": "display_data"
    }
   ],
   "source": [
    "print(valid_error_mean_list)\n",
    "plot_errors(min_df_list, train_error_mean_list, valid_error_mean_list, 'min_df', \"error rate\" )"
   ]
  },
  {
   "cell_type": "markdown",
   "metadata": {},
   "source": [
    "***\n",
    "\n",
    "Seems like smaller values work better. Let's stick with the default of 1 document which has the lowest error.\n",
    "\n",
    "***"
   ]
  },
  {
   "cell_type": "markdown",
   "metadata": {},
   "source": [
    "#### Let's run the model with our manually optimized hyper parameters"
   ]
  },
  {
   "cell_type": "code",
   "execution_count": 35,
   "metadata": {
    "scrolled": false
   },
   "outputs": [
    {
     "name": "stdout",
     "output_type": "stream",
     "text": [
      "Model accuracy (Train) 0.869\n",
      "Model accuracy (Test) 0.683\n",
      "Model accuracy weighted f1 score (Train): 0.865\n",
      "Model accuracy weighted f1 score (Test): 0.670\n",
      "20000 features\n"
     ]
    }
   ],
   "source": [
    "model = MultinomialNB()\n",
    "opt_vectorizer = TfidfVectorizer(stop_words='english', max_features = 20000, min_df = 1, max_df = 0.05)\n",
    "\n",
    "# Define a pipeline combining the vectorizer and the classifier\n",
    "opt_pipeline = Pipeline([\n",
    "    ('vectorizer', opt_vectorizer),\n",
    "    ('classifier', model),\n",
    "])\n",
    "\n",
    "run_and_evaluate_pipeline(x_test, y_test, x_train, y_train, opt_pipeline, categories)"
   ]
  },
  {
   "cell_type": "markdown",
   "metadata": {},
   "source": [
    "*** \n",
    "\n",
    "#### The test accuracy is `0.683` (vs. the previous `0.678`), and training accuracy is `0.869` (vs. the previous `0.877`) - So we are not seeing a big difference and seems like the model is still overfitting. (even with only 20,000 features)\n",
    "\n",
    "\n",
    "***"
   ]
  },
  {
   "cell_type": "markdown",
   "metadata": {},
   "source": [
    "#### Let's try GridSearch"
   ]
  },
  {
   "cell_type": "code",
   "execution_count": 36,
   "metadata": {},
   "outputs": [
    {
     "name": "stdout",
     "output_type": "stream",
     "text": [
      "parameters: {'vectorizer__max_df': (0.05, 0.5, 1.0), 'vectorizer__ngram_range': ((1, 1), (1, 2)), 'vectorizer__max_features': (None, 5000, 20000, 50000, 100000), 'vectorizer__strip_accents': ('ascii', None)}\n",
      "Fitting 5 folds for each of 60 candidates, totalling 300 fits\n"
     ]
    },
    {
     "name": "stderr",
     "output_type": "stream",
     "text": [
      "[Parallel(n_jobs=10)]: Using backend LokyBackend with 10 concurrent workers.\n",
      "/Users/noa/Documents/Y-Data/Fall 2/Supervised learning/venv/lib/python3.7/site-packages/joblib/externals/loky/process_executor.py:691: UserWarning: A worker stopped while some jobs were given to the executor. This can be caused by a too short worker timeout or by a memory leak.\n",
      "  \"timeout or by a memory leak.\", UserWarning\n",
      "[Parallel(n_jobs=10)]: Done  30 tasks      | elapsed:   14.0s\n",
      "[Parallel(n_jobs=10)]: Done 180 tasks      | elapsed:  1.2min\n",
      "[Parallel(n_jobs=10)]: Done 300 out of 300 | elapsed:  2.0min finished\n"
     ]
    },
    {
     "name": "stdout",
     "output_type": "stream",
     "text": [
      "done in 123.81 sec\n",
      "Best score: 0.736\n",
      "Best parameters: {'vectorizer__max_df': 0.05, 'vectorizer__max_features': 100000, 'vectorizer__ngram_range': (1, 2), 'vectorizer__strip_accents': 'ascii'}\n"
     ]
    }
   ],
   "source": [
    "from sklearn.model_selection import GridSearchCV\n",
    "\n",
    "model = MultinomialNB()\n",
    "vectorizer = TfidfVectorizer(stop_words='english')\n",
    "\n",
    "# Define a pipeline combining the vectorizer and the classifier\n",
    "pipeline = Pipeline([\n",
    "    ('vectorizer', vectorizer),\n",
    "    ('classifier', model),\n",
    "])\n",
    "\n",
    "# max_df - ignore terms that have a document frequency strictly higher than the given threshold (corpus-specific stop words)\n",
    "# max_df = 0.50 means \"ignore terms that appear in more than 50% of the documents\n",
    "# min_df - ignore terms that have a document frequency strictly lower than the given threshold\n",
    "# min_df = 0.01 means \"ignore terms that appear in less than 1% of the documents\".\n",
    "# max_features -  only consider the top max_features ordered by term frequency across the corpus. \n",
    "\n",
    "parameters = {\n",
    "    'vectorizer__max_df': (0.05, 0.5, 1.0),\n",
    "    'vectorizer__ngram_range': ((1,1),(1,2)),\n",
    "    'vectorizer__max_features': (None, 5000, 20000, 50000, 100000),\n",
    "    'vectorizer__strip_accents': ('ascii', None),\n",
    "}\n",
    "\n",
    "grid_search = GridSearchCV(pipeline, parameters, n_jobs=10, verbose=1)\n",
    "\n",
    "print(\"parameters:\", parameters)\n",
    "\n",
    "\n",
    "t0 = time()\n",
    "\n",
    "best_parameters = grid_search.fit(x_train, y_train)\n",
    "\n",
    "print(f'done in {time() - t0:.2f} sec')\n",
    "\n",
    "print(\"Best score: %0.3f\" % grid_search.best_score_)\n",
    "print(\"Best parameters:\", best_parameters.best_params_)\n"
   ]
  },
  {
   "cell_type": "markdown",
   "metadata": {},
   "source": [
    "#### let's try to run the model with the optimized parameters"
   ]
  },
  {
   "cell_type": "code",
   "execution_count": 37,
   "metadata": {
    "scrolled": false
   },
   "outputs": [
    {
     "name": "stdout",
     "output_type": "stream",
     "text": [
      "Model accuracy (Train) 0.905\n",
      "Model accuracy (Test) 0.687\n",
      "Model accuracy weighted f1 score (Train): 0.903\n",
      "Model accuracy weighted f1 score (Test): 0.674\n",
      "100000 features\n"
     ]
    }
   ],
   "source": [
    "model = MultinomialNB()\n",
    "opt_vectorizer = TfidfVectorizer(stop_words='english', max_df = 0.05, max_features = 100000, \n",
    "                                 ngram_range = (1, 2), strip_accents='ascii')\n",
    "\n",
    "# Define a pipeline combining the vectorizer and the classifier\n",
    "opt_pipeline = Pipeline([\n",
    "    ('vectorizer', opt_vectorizer),\n",
    "    ('classifier', model),\n",
    "])\n",
    "\n",
    "run_and_evaluate_pipeline(x_test, y_test, x_train, y_train, opt_pipeline, categories)"
   ]
  },
  {
   "cell_type": "markdown",
   "metadata": {},
   "source": [
    "*** \n",
    "\n",
    "#### The test accuracy is `0.687` (vs. the previous `0.678`), and training accuracy is `0.905` (vs. the previous `0.877`) - So we are not seeing a big difference and seems like the model is still overfitting.\n",
    "\n",
    "***"
   ]
  },
  {
   "cell_type": "markdown",
   "metadata": {},
   "source": [
    "### Optional: Model interpretability\n",
    "Find the most important features for a **specific** decision of a NB classifier.\n",
    "Because the model has learned the prior $p(x_i|c)$ during the training, the contribution of an individual feature value can be easily measured by the posterior, $p(c|x_i)=p(c)p(x_i|c)/p(x_i)$\n",
    "Implement a function which gets a scikit-learn NB model as input and returns $P(c|x_i)$:\n",
    "\n",
    "`def calc_p_c_given_xi(model)`\n",
    "\n",
    "Hint: Use the following model properties:\n",
    "\n",
    "* `model.class_log_prior_`\n",
    "* `model.feature_log_prob_`\n",
    "\n",
    "Note: remember these are logs and you need to use np.exp and normalize to get $P(c|x_i)$ \n",
    "Another hint: use numpy built-in broadcasting property.\n",
    "\n",
    "* Use the interpretation to examine errors of the classifier where $\\hat{c}\\ne c$. Which top words support the correct class and which support the wrong class? You can use the `print_txt` below to color words. \n",
    "\n",
    "Bonus: How can you correct the analyzed error? \n",
    "\n",
    "To read more about model interpretation, see the blogpost below and my tutorial:\n",
    "* https://lilianweng.github.io/lil-log/2017/08/01/how-to-explain-the-prediction-of-a-machine-learning-model.html\n",
    "* https://github.com/chanansh/right_but_why"
   ]
  },
  {
   "cell_type": "code",
   "execution_count": 38,
   "metadata": {},
   "outputs": [
    {
     "name": "stdout",
     "output_type": "stream",
     "text": [
      "This \u001b[42;37mword\u001b[0m support the \u001b[44;37mfirst\u001b[0m class but this the \u001b[41;37mother\u001b[0m\n"
     ]
    }
   ],
   "source": [
    "import string\n",
    "import re\n",
    "\n",
    "def print_txt(txt, hot, cold):\n",
    "    \"\"\" print the text, coloring hot and cold words with colors    \"\"\"\n",
    "    \n",
    "    cold_color = '\\x1b[41;37m{}\\x1b[0m'\n",
    "    hot_color = '\\x1b[42;37m{}\\x1b[0m'\n",
    "    mid_color = '\\x1b[44;37m{}\\x1b[0m'\n",
    "\n",
    "    def color(token):\n",
    "        lower = str(token).lower()\n",
    "        lower = lower.replace('\\t', '').replace('\\n', '')\n",
    "        lower = lower.translate(string.punctuation)\n",
    "        if (lower in hot) and (lower in cold):\n",
    "            return mid_color.format(token)\n",
    "        elif lower in hot:\n",
    "            return hot_color.format(token)\n",
    "        elif lower in cold:\n",
    "            return cold_color.format(token)\n",
    "        else:\n",
    "            return token\n",
    "\n",
    "    for punctuation in string.punctuation:\n",
    "        txt = txt.replace(punctuation, '')\n",
    "\n",
    "    txt = txt.replace('\\n', ' ')\n",
    "    txt = txt.replace('\\t', ' ')\n",
    "    \n",
    "    colored_txt = \" \".join([color(token) for token in txt.split(' ')])\n",
    "    \n",
    "    print(colored_txt)\n",
    "    \n",
    "print_txt('This word support the first class but this the other', ['word', 'first'], ['other', 'first'])\n"
   ]
  },
  {
   "cell_type": "markdown",
   "metadata": {},
   "source": [
    "### Implement a function which gets a scikit-learn NB model as input and returns  𝑃(𝑐|𝑥𝑖)"
   ]
  },
  {
   "cell_type": "code",
   "execution_count": 39,
   "metadata": {},
   "outputs": [],
   "source": [
    "import numpy as np\n",
    "import pandas as pd\n",
    "import string\n",
    "  \n",
    "def calc_p_c_given_xi(model):\n",
    "    ''' return matrix of individual feature values (which can be measured by the posterior p(y| Xi))'''\n",
    "    \n",
    "    p_c = np.exp(model.class_log_prior_)\n",
    "    p_xi_given_c = np.exp(model.feature_log_prob_)\n",
    "    p_c_times_p_c_given_xi = np.expand_dims(p_c, axis = -1) * p_xi_given_c\n",
    "    p_xi = np.sum(p_c_times_p_c_given_xi, axis = 0)\n",
    "    p_c_given_xi = p_c_times_p_c_given_xi / p_xi\n",
    "\n",
    "    return p_c_given_xi\n"
   ]
  },
  {
   "cell_type": "markdown",
   "metadata": {},
   "source": [
    "### Find the most important features for a specific decision of a NB classifier. \n",
    "### Use the interpretation to examine errors of the classifier. Which top words support the correct class and which support the wrong class? You can use the print_txt below to color words."
   ]
  },
  {
   "cell_type": "markdown",
   "metadata": {},
   "source": [
    "#### Helper functions"
   ]
  },
  {
   "cell_type": "code",
   "execution_count": 40,
   "metadata": {},
   "outputs": [],
   "source": [
    "def create_dfs_for_features_value(model, vectorizer, categories):\n",
    "    ''' Create two dataframes for the class probabilities given a feature (single index and multi index)\n",
    "    This will help determine features importance '''\n",
    "    \n",
    "    \n",
    "    # calculate the posterior matrix\n",
    "    class_p_given_a_feature = calc_p_c_given_xi(model)\n",
    "\n",
    "    # create a multi index df (word index + word)\n",
    "    class_p_given_a_feature_df = pd.DataFrame(class_p_given_a_feature.T, \n",
    "                                                          index = vectorizer.vocabulary_.items(), \n",
    "                                                          columns = categories)\n",
    "    class_p_given_a_feature_df.index.names = ['word', 'idx']\n",
    "    \n",
    "    # create a single index df (word index)\n",
    "    class_p_given_a_feature_df_single_ind = pd.DataFrame(class_p_given_a_feature.T, \n",
    "                                                         index = vectorizer.vocabulary_.values(), \n",
    "                                                         columns = categories)\n",
    "    class_p_given_a_feature_df_single_ind.index.name = 'index'\n",
    "\n",
    "    return class_p_given_a_feature_df, class_p_given_a_feature_df_single_ind\n",
    "\n",
    "\n",
    "def print_highest_prob_words_for_class(prob_mi_df, c, n):\n",
    "    ''' show top n keywords for a class (words with highest probability - p(c | Xi)'''\n",
    "    \n",
    "    print(f'Top {n} keywords for category {categories[c]}:')\n",
    "    print(prob_mi_df.nlargest(n, categories[c])[categories[c]])\n",
    "\n",
    "\n",
    "def get_top_doc_words_per_c(prob_df, features, label, word_idx, min_prob = 0.05, top_n = 10):\n",
    "    \"\"\" return highest p(c|xi) for the given class and word indices \"\"\"\n",
    "    \n",
    "    word_indices = [ind for ind in word_idx]\n",
    "    # get the score for all the words in this document and filter out words with p < min_prob\n",
    "    \n",
    "    word_scores = prob_df.loc[word_indices][categories[label]]\n",
    "    word_scores = word_scores.where(word_scores > min_prob)\n",
    "    \n",
    "    # translate to the actual words\n",
    "    words =[features[i] for i in word_indices]\n",
    "    \n",
    "    # create a dataframe of words and their probability and index and sort by score\n",
    "    df = pd.DataFrame({'word':words, 'probability':word_scores}, index = word_indices)\n",
    "    df.index.name = 'index'\n",
    "    df.sort_values(by=['probability'], ascending = False)\n",
    "    \n",
    "    df = df.dropna()\n",
    "\n",
    "    return df[:top_n]\n",
    "    \n",
    "    \n",
    "def analyze_prediction(x_test_tfidf_arr, y_test, features, prob_df, prob_mi_df, idx, min_prob, top_n = 20):\n",
    "    \"\"\" analyze a specific classifier prediction in terms of words that impacted the descision the most\"\"\"\n",
    "    \n",
    "    doc_text = x_test[idx]\n",
    "    x_tf_df_vec = x_test_tfidf_arr[idx]\n",
    "    doc_words_idx = (x_tf_df_vec.nonzero()[0]).tolist()\n",
    "    \n",
    "    real_label = y_test[idx]\n",
    "    predicted_label = y_pred_test[idx]\n",
    "        \n",
    "    print(f'\\n\\nLabel      = {categories[real_label]} ({real_label})')\n",
    "    print(f'Prediction = {categories[predicted_label]} ({predicted_label})')\n",
    "    print(f'** {real_label == predicted_label} Prediction **')\n",
    "    print()\n",
    "        \n",
    "\n",
    "    print('Hot words that support the correct classification', categories[real_label])\n",
    "    hot_words_series = get_top_doc_words_per_c(prob_df, features, real_label, doc_words_idx, min_prob, top_n);\n",
    "    display(hot_words_series);\n",
    "\n",
    "    if predicted_label != real_label:\n",
    "        print('Cold words - that support the incorrect predicted class ', categories[predicted_label])\n",
    "        cold_words_series = get_top_doc_words_per_c(prob_df, features, predicted_label, doc_words_idx, min_prob, top_n);\n",
    "        cold_words_list = cold_words_series.word.tolist()\n",
    "        display(cold_words_series);\n",
    "    else:\n",
    "        cold_words_list = []\n",
    "    \n",
    "    print()\n",
    "    print_txt(doc_text, hot_words_series.word.tolist(), cold_words_list)\n",
    "\n",
    "    print('\\nReal class: ')\n",
    "    print('**************')\n",
    "    print(print_highest_prob_words_for_class(prob_mi_df, real_label, top_n))\n",
    "\n",
    "    if predicted_label != real_label:\n",
    "        print('\\nPredicted class: ')\n",
    "        print('*******************')\n",
    "        print(print_highest_prob_words_for_class(prob_mi_df, predicted_label, top_n))\n",
    "\n"
   ]
  },
  {
   "cell_type": "code",
   "execution_count": 41,
   "metadata": {
    "scrolled": false
   },
   "outputs": [
    {
     "data": {
      "image/png": "[encoded data removed]",
      "text/plain": [
       "<Figure size 1584x1584 with 2 Axes>"
      ]
     },
     "metadata": {},
     "output_type": "display_data"
    },
    {
     "name": "stdout",
     "output_type": "stream",
     "text": [
      "                          precision    recall  f1-score   support\n",
      "\n",
      "             alt.atheism       0.66      0.29      0.40       319\n",
      "           comp.graphics       0.64      0.70      0.67       389\n",
      " comp.os.ms-windows.misc       0.64      0.53      0.58       394\n",
      "comp.sys.ibm.pc.hardware       0.60      0.74      0.66       392\n",
      "   comp.sys.mac.hardware       0.76      0.68      0.72       385\n",
      "          comp.windows.x       0.80      0.77      0.79       395\n",
      "            misc.forsale       0.76      0.78      0.77       390\n",
      "               rec.autos       0.79      0.73      0.76       396\n",
      "         rec.motorcycles       0.83      0.73      0.77       398\n",
      "      rec.sport.baseball       0.90      0.80      0.85       397\n",
      "        rec.sport.hockey       0.56      0.93      0.70       399\n",
      "               sci.crypt       0.72      0.79      0.75       396\n",
      "         sci.electronics       0.69      0.53      0.60       393\n",
      "                 sci.med       0.85      0.75      0.80       396\n",
      "               sci.space       0.74      0.74      0.74       394\n",
      "  soc.religion.christian       0.43      0.90      0.58       398\n",
      "      talk.politics.guns       0.56      0.73      0.64       364\n",
      "   talk.politics.mideast       0.79      0.79      0.79       376\n",
      "      talk.politics.misc       0.78      0.35      0.48       310\n",
      "      talk.religion.misc       0.57      0.02      0.03       251\n",
      "\n",
      "                accuracy                           0.68      7532\n",
      "               macro avg       0.70      0.66      0.65      7532\n",
      "            weighted avg       0.71      0.68      0.67      7532\n",
      "\n",
      "\n",
      "total errors for category alt.atheism (it was classified as something else) = 228 (71.0%)\n",
      "most common misclassification is: soc.religion.christian  - 140 times (61.40%)\n",
      "\n",
      "total errors for category comp.graphics (it was classified as something else) = 117 (30.0%)\n",
      "most common misclassification is: comp.windows.x  - 25 times (21.37%)\n",
      "\n",
      "total errors for category comp.os.ms-windows.misc (it was classified as something else) = 185 (47.0%)\n",
      "most common misclassification is: comp.sys.ibm.pc.hardware  - 62 times (33.51%)\n",
      "\n",
      "total errors for category comp.sys.ibm.pc.hardware (it was classified as something else) = 103 (26.0%)\n",
      "most common misclassification is: comp.os.ms-windows.misc  - 30 times (29.13%)\n",
      "\n",
      "total errors for category comp.sys.mac.hardware (it was classified as something else) = 125 (32.0%)\n",
      "most common misclassification is: comp.sys.ibm.pc.hardware  - 38 times (30.40%)\n",
      "\n",
      "total errors for category comp.windows.x (it was classified as something else) = 90 (23.0%)\n",
      "most common misclassification is: comp.graphics  - 36 times (40.00%)\n",
      "\n",
      "total errors for category misc.forsale (it was classified as something else) = 87 (22.0%)\n",
      "most common misclassification is: comp.sys.ibm.pc.hardware  - 28 times (32.18%)\n",
      "\n",
      "total errors for category rec.autos (it was classified as something else) = 107 (27.0%)\n",
      "most common misclassification is: rec.sport.hockey  - 28 times (26.17%)\n",
      "\n",
      "total errors for category rec.motorcycles (it was classified as something else) = 109 (27.0%)\n",
      "most common misclassification is: rec.autos  - 25 times (22.94%)\n",
      "\n",
      "total errors for category rec.sport.baseball (it was classified as something else) = 79 (20.0%)\n",
      "most common misclassification is: rec.sport.hockey  - 41 times (51.90%)\n",
      "\n",
      "total errors for category rec.sport.hockey (it was classified as something else) = 26 (7.0%)\n",
      "most common misclassification is: soc.religion.christian  - 8 times (30.77%)\n",
      "\n",
      "total errors for category sci.crypt (it was classified as something else) = 85 (21.0%)\n",
      "most common misclassification is: rec.sport.hockey  - 18 times (21.18%)\n",
      "\n",
      "total errors for category sci.electronics (it was classified as something else) = 183 (47.0%)\n",
      "most common misclassification is: sci.crypt  - 34 times (18.58%)\n",
      "\n",
      "total errors for category sci.med (it was classified as something else) = 99 (25.0%)\n",
      "most common misclassification is: soc.religion.christian  - 29 times (29.29%)\n",
      "\n",
      "total errors for category sci.space (it was classified as something else) = 101 (26.0%)\n",
      "most common misclassification is: rec.sport.hockey  - 20 times (19.80%)\n",
      "\n",
      "total errors for category soc.religion.christian (it was classified as something else) = 41 (10.0%)\n",
      "most common misclassification is: rec.sport.hockey  - 14 times (34.15%)\n",
      "\n",
      "total errors for category talk.politics.guns (it was classified as something else) = 98 (27.0%)\n",
      "most common misclassification is: soc.religion.christian  - 21 times (21.43%)\n",
      "\n",
      "total errors for category talk.politics.mideast (it was classified as something else) = 78 (21.0%)\n",
      "most common misclassification is: soc.religion.christian  - 29 times (37.18%)\n",
      "\n",
      "total errors for category talk.politics.misc (it was classified as something else) = 202 (65.0%)\n",
      "most common misclassification is: talk.politics.guns  - 100 times (49.50%)\n",
      "\n",
      "total errors for category talk.religion.misc (it was classified as something else) = 247 (98.0%)\n",
      "most common misclassification is: soc.religion.christian  - 136 times (55.06%)\n"
     ]
    }
   ],
   "source": [
    "# let's create a model and run it so we can look at its descisions\n",
    "\n",
    "model = MultinomialNB()\n",
    "vectorizer = TfidfVectorizer(stop_words='english', max_df = 0.05, max_features = 20000)\n",
    "x_train_tfidf = vectorizer.fit_transform(x_train, y_train)\n",
    "x_test_tfidf = vectorizer.transform(x_test)\n",
    "x_test_tfidf_arr = x_test_tfidf.toarray()\n",
    "\n",
    "features = np.array(vectorizer.get_feature_names())\n",
    "\n",
    "model.fit(x_train_tfidf,y_train)\n",
    "y_pred_test = model.predict(x_test_tfidf)\n",
    "\n",
    "c_p_given_xi_df, c_p_given_xi_ind_df = create_dfs_for_features_value(model, vectorizer, categories)\n",
    "\n",
    "analyze_model(y_test, y_pred_test)"
   ]
  },
  {
   "cell_type": "markdown",
   "metadata": {},
   "source": [
    "As seen from the confusion matrix above there are few common confusions. The 2 most common ones are missclassifying of the atheism (class 0, 188 cases) and religion.misc ( class 19, 167 cases) classes as religion.christian (15). This is quite reasonable actually as these 3 classes actually deal with the same subjects maybe just from differnt angles and share probably the same vocabulary and concepts. Note that the complement missclassification  - religion.christian as atheism or religion.misc is very rare (just one case). This might be because the religion.christian class has much more samples than the other 2 classes and hence more words related to it as seen in the 2 plots below. Also the subject religion.christian is more specific from the other two and hence maybe easier to distingish it.\n",
    "\n",
    "\n"
   ]
  },
  {
   "cell_type": "markdown",
   "metadata": {},
   "source": [
    "***\n",
    "\n",
    "Looking at these results, we can see that the highest % of misclassifications happens for  `talk.religion.misc ` (98%) and for `alt.atheism` (71%) which both are often misclassified as something else. Both are most frequently classified as  `soc.religion.christian`. This is quite reasonable, as these three classes deal with similar concepts and probably share the same vocabulary. \n",
    "\n",
    "Note that the complement missclassification  - `soc.religion.christian` as `alt.atheism` or `talk.religion.misc` is very rare. This might happen because the `soc.religion.christian` class has more samples than the other 2 classes and hence more words related to it, as seen in the 2 plots below. Also the subject `soc.religion.christian` is more specific from the other two and hence maybe easier to distingish it.\n",
    "\n",
    "***"
   ]
  },
  {
   "cell_type": "code",
   "execution_count": 42,
   "metadata": {},
   "outputs": [
    {
     "data": {
      "image/png": "[encoded data removed]",
      "text/plain": [
       "<Figure size 432x288 with 1 Axes>"
      ]
     },
     "metadata": {},
     "output_type": "display_data"
    },
    {
     "data": {
      "image/png": "[encoded data removed]",
      "text/plain": [
       "<Figure size 432x288 with 1 Axes>"
      ]
     },
     "metadata": {},
     "output_type": "display_data"
    }
   ],
   "source": [
    "checked_categories_idx = [0, 15, 19]\n",
    "checked_categories = [categories[i] for i in checked_categories_idx]\n",
    "samples_count = [model.class_count_[i] for i in checked_categories_idx]\n",
    "\n",
    "feature_count = [model.feature_count_[i] for i in checked_categories_idx]\n",
    "\n",
    "plt.bar(checked_categories, samples_count)\n",
    "plt.xticks(checked_categories)\n",
    "plt.title('Number of samples for class')\n",
    "plt.show()\n",
    "\n",
    "class_features = np.sum(feature_count, axis=1)\n",
    "plt.bar(checked_categories, class_features)\n",
    "plt.xticks(checked_categories)\n",
    "plt.title('Number of features (words) for class')\n",
    "plt.show()"
   ]
  },
  {
   "cell_type": "markdown",
   "metadata": {},
   "source": [
    "Another common mistake is missclassifying `talk.politics.misc` as `talk.politics.guns`. This confusion is less trivial than the previous ones. Again `talk.politics.guns` is more specific and has more samples but the differnce is less clear so we will explore it using the posterior probabilities and the supporting words method."
   ]
  },
  {
   "cell_type": "code",
   "execution_count": 50,
   "metadata": {
    "scrolled": false
   },
   "outputs": [
    {
     "data": {
      "text/html": [
       "<div>\n",
       "<style scoped>\n",
       "    .dataframe tbody tr th:only-of-type {\n",
       "        vertical-align: middle;\n",
       "    }\n",
       "\n",
       "    .dataframe tbody tr th {\n",
       "        vertical-align: top;\n",
       "    }\n",
       "\n",
       "    .dataframe thead th {\n",
       "        text-align: right;\n",
       "    }\n",
       "</style>\n",
       "<table border=\"1\" class=\"dataframe\">\n",
       "  <thead>\n",
       "    <tr style=\"text-align: right;\">\n",
       "      <th></th>\n",
       "      <th>correct class</th>\n",
       "      <th>wrong prediction class</th>\n",
       "      <th>support correct class</th>\n",
       "      <th>prob_class</th>\n",
       "      <th>support wrong class</th>\n",
       "      <th>prob_wrong</th>\n",
       "    </tr>\n",
       "  </thead>\n",
       "  <tbody>\n",
       "    <tr>\n",
       "      <th>0</th>\n",
       "      <td>talk.politics.misc</td>\n",
       "      <td>talk.politics.guns</td>\n",
       "      <td>liberal</td>\n",
       "      <td>0.101</td>\n",
       "      <td>waco</td>\n",
       "      <td>0.214</td>\n",
       "    </tr>\n",
       "    <tr>\n",
       "      <th>4</th>\n",
       "      <td>talk.politics.misc</td>\n",
       "      <td>talk.politics.guns</td>\n",
       "      <td>government</td>\n",
       "      <td>0.137</td>\n",
       "      <td>gun</td>\n",
       "      <td>0.51</td>\n",
       "    </tr>\n",
       "    <tr>\n",
       "      <th>5</th>\n",
       "      <td>talk.politics.misc</td>\n",
       "      <td>talk.politics.guns</td>\n",
       "      <td>government</td>\n",
       "      <td>0.137</td>\n",
       "      <td>gun</td>\n",
       "      <td>0.51</td>\n",
       "    </tr>\n",
       "    <tr>\n",
       "      <th>6</th>\n",
       "      <td>talk.politics.misc</td>\n",
       "      <td>talk.politics.guns</td>\n",
       "      <td>force</td>\n",
       "      <td>0.106</td>\n",
       "      <td>compound</td>\n",
       "      <td>0.213</td>\n",
       "    </tr>\n",
       "    <tr>\n",
       "      <th>8</th>\n",
       "      <td>talk.politics.misc</td>\n",
       "      <td>talk.politics.guns</td>\n",
       "      <td>national</td>\n",
       "      <td>0.081</td>\n",
       "      <td>military</td>\n",
       "      <td>0.123</td>\n",
       "    </tr>\n",
       "    <tr>\n",
       "      <th>10</th>\n",
       "      <td>talk.politics.misc</td>\n",
       "      <td>talk.politics.guns</td>\n",
       "      <td>drugs</td>\n",
       "      <td>0.178</td>\n",
       "      <td>criminals</td>\n",
       "      <td>0.218</td>\n",
       "    </tr>\n",
       "    <tr>\n",
       "      <th>11</th>\n",
       "      <td>talk.politics.misc</td>\n",
       "      <td>talk.politics.guns</td>\n",
       "      <td>government</td>\n",
       "      <td>0.137</td>\n",
       "      <td>davidians</td>\n",
       "      <td>0.178</td>\n",
       "    </tr>\n",
       "    <tr>\n",
       "      <th>12</th>\n",
       "      <td>talk.politics.misc</td>\n",
       "      <td>talk.politics.guns</td>\n",
       "      <td>president</td>\n",
       "      <td>0.191</td>\n",
       "      <td>gun</td>\n",
       "      <td>0.51</td>\n",
       "    </tr>\n",
       "    <tr>\n",
       "      <th>15</th>\n",
       "      <td>talk.politics.misc</td>\n",
       "      <td>talk.politics.guns</td>\n",
       "      <td>government</td>\n",
       "      <td>0.137</td>\n",
       "      <td>government</td>\n",
       "      <td>0.14</td>\n",
       "    </tr>\n",
       "    <tr>\n",
       "      <th>16</th>\n",
       "      <td>talk.politics.misc</td>\n",
       "      <td>talk.politics.guns</td>\n",
       "      <td>president</td>\n",
       "      <td>0.191</td>\n",
       "      <td>fbi</td>\n",
       "      <td>0.305</td>\n",
       "    </tr>\n",
       "    <tr>\n",
       "      <th>17</th>\n",
       "      <td>talk.politics.misc</td>\n",
       "      <td>talk.politics.guns</td>\n",
       "      <td>children</td>\n",
       "      <td>0.078</td>\n",
       "      <td>children</td>\n",
       "      <td>0.134</td>\n",
       "    </tr>\n",
       "    <tr>\n",
       "      <th>22</th>\n",
       "      <td>talk.politics.misc</td>\n",
       "      <td>talk.politics.guns</td>\n",
       "      <td>operation</td>\n",
       "      <td>0.065</td>\n",
       "      <td>batf</td>\n",
       "      <td>0.29</td>\n",
       "    </tr>\n",
       "    <tr>\n",
       "      <th>24</th>\n",
       "      <td>talk.politics.misc</td>\n",
       "      <td>talk.politics.guns</td>\n",
       "      <td>government</td>\n",
       "      <td>0.137</td>\n",
       "      <td>koresh</td>\n",
       "      <td>0.181</td>\n",
       "    </tr>\n",
       "    <tr>\n",
       "      <th>25</th>\n",
       "      <td>talk.politics.misc</td>\n",
       "      <td>talk.politics.guns</td>\n",
       "      <td>federal</td>\n",
       "      <td>0.111</td>\n",
       "      <td>federal</td>\n",
       "      <td>0.176</td>\n",
       "    </tr>\n",
       "    <tr>\n",
       "      <th>27</th>\n",
       "      <td>talk.politics.misc</td>\n",
       "      <td>talk.politics.guns</td>\n",
       "      <td>state</td>\n",
       "      <td>0.106</td>\n",
       "      <td>criminal</td>\n",
       "      <td>0.166</td>\n",
       "    </tr>\n",
       "    <tr>\n",
       "      <th>28</th>\n",
       "      <td>talk.politics.misc</td>\n",
       "      <td>talk.politics.guns</td>\n",
       "      <td>trial</td>\n",
       "      <td>0.153</td>\n",
       "      <td>defense</td>\n",
       "      <td>0.163</td>\n",
       "    </tr>\n",
       "    <tr>\n",
       "      <th>29</th>\n",
       "      <td>talk.politics.misc</td>\n",
       "      <td>talk.politics.guns</td>\n",
       "      <td>forces</td>\n",
       "      <td>0.061</td>\n",
       "      <td>fbi</td>\n",
       "      <td>0.305</td>\n",
       "    </tr>\n",
       "    <tr>\n",
       "      <th>31</th>\n",
       "      <td>talk.politics.misc</td>\n",
       "      <td>talk.politics.guns</td>\n",
       "      <td>clinton</td>\n",
       "      <td>0.182</td>\n",
       "      <td>fbi</td>\n",
       "      <td>0.305</td>\n",
       "    </tr>\n",
       "    <tr>\n",
       "      <th>32</th>\n",
       "      <td>talk.politics.misc</td>\n",
       "      <td>talk.politics.guns</td>\n",
       "      <td>clinton</td>\n",
       "      <td>0.182</td>\n",
       "      <td>fbi</td>\n",
       "      <td>0.305</td>\n",
       "    </tr>\n",
       "    <tr>\n",
       "      <th>33</th>\n",
       "      <td>talk.politics.misc</td>\n",
       "      <td>talk.politics.guns</td>\n",
       "      <td>clinton</td>\n",
       "      <td>0.182</td>\n",
       "      <td>fbi</td>\n",
       "      <td>0.305</td>\n",
       "    </tr>\n",
       "    <tr>\n",
       "      <th>34</th>\n",
       "      <td>talk.politics.misc</td>\n",
       "      <td>talk.politics.guns</td>\n",
       "      <td>civil</td>\n",
       "      <td>0.095</td>\n",
       "      <td>koresh</td>\n",
       "      <td>0.181</td>\n",
       "    </tr>\n",
       "    <tr>\n",
       "      <th>36</th>\n",
       "      <td>talk.politics.misc</td>\n",
       "      <td>talk.politics.guns</td>\n",
       "      <td>government</td>\n",
       "      <td>0.137</td>\n",
       "      <td>gun</td>\n",
       "      <td>0.51</td>\n",
       "    </tr>\n",
       "    <tr>\n",
       "      <th>37</th>\n",
       "      <td>talk.politics.misc</td>\n",
       "      <td>talk.politics.guns</td>\n",
       "      <td>government</td>\n",
       "      <td>0.137</td>\n",
       "      <td>compound</td>\n",
       "      <td>0.213</td>\n",
       "    </tr>\n",
       "    <tr>\n",
       "      <th>41</th>\n",
       "      <td>talk.politics.misc</td>\n",
       "      <td>talk.politics.guns</td>\n",
       "      <td>commit</td>\n",
       "      <td>0.073</td>\n",
       "      <td>gun</td>\n",
       "      <td>0.51</td>\n",
       "    </tr>\n",
       "    <tr>\n",
       "      <th>42</th>\n",
       "      <td>talk.politics.misc</td>\n",
       "      <td>talk.politics.guns</td>\n",
       "      <td>commit</td>\n",
       "      <td>0.073</td>\n",
       "      <td>gun</td>\n",
       "      <td>0.51</td>\n",
       "    </tr>\n",
       "    <tr>\n",
       "      <th>43</th>\n",
       "      <td>talk.politics.misc</td>\n",
       "      <td>talk.politics.guns</td>\n",
       "      <td>rights</td>\n",
       "      <td>0.102</td>\n",
       "      <td>rights</td>\n",
       "      <td>0.154</td>\n",
       "    </tr>\n",
       "    <tr>\n",
       "      <th>46</th>\n",
       "      <td>talk.politics.misc</td>\n",
       "      <td>talk.politics.guns</td>\n",
       "      <td>libertarian</td>\n",
       "      <td>0.141</td>\n",
       "      <td>amendment</td>\n",
       "      <td>0.198</td>\n",
       "    </tr>\n",
       "    <tr>\n",
       "      <th>47</th>\n",
       "      <td>talk.politics.misc</td>\n",
       "      <td>talk.politics.guns</td>\n",
       "      <td>president</td>\n",
       "      <td>0.191</td>\n",
       "      <td>waco</td>\n",
       "      <td>0.214</td>\n",
       "    </tr>\n",
       "    <tr>\n",
       "      <th>49</th>\n",
       "      <td>talk.politics.misc</td>\n",
       "      <td>talk.politics.guns</td>\n",
       "      <td>government</td>\n",
       "      <td>0.137</td>\n",
       "      <td>waco</td>\n",
       "      <td>0.214</td>\n",
       "    </tr>\n",
       "    <tr>\n",
       "      <th>54</th>\n",
       "      <td>talk.politics.misc</td>\n",
       "      <td>talk.politics.guns</td>\n",
       "      <td>clinton</td>\n",
       "      <td>0.182</td>\n",
       "      <td>batf</td>\n",
       "      <td>0.29</td>\n",
       "    </tr>\n",
       "    <tr>\n",
       "      <th>55</th>\n",
       "      <td>talk.politics.misc</td>\n",
       "      <td>talk.politics.guns</td>\n",
       "      <td>employer</td>\n",
       "      <td>0.091</td>\n",
       "      <td>fbi</td>\n",
       "      <td>0.305</td>\n",
       "    </tr>\n",
       "    <tr>\n",
       "      <th>56</th>\n",
       "      <td>talk.politics.misc</td>\n",
       "      <td>talk.politics.guns</td>\n",
       "      <td>trial</td>\n",
       "      <td>0.153</td>\n",
       "      <td>gun</td>\n",
       "      <td>0.51</td>\n",
       "    </tr>\n",
       "    <tr>\n",
       "      <th>57</th>\n",
       "      <td>talk.politics.misc</td>\n",
       "      <td>talk.politics.guns</td>\n",
       "      <td>government</td>\n",
       "      <td>0.137</td>\n",
       "      <td>guns</td>\n",
       "      <td>0.441</td>\n",
       "    </tr>\n",
       "    <tr>\n",
       "      <th>58</th>\n",
       "      <td>talk.politics.misc</td>\n",
       "      <td>talk.politics.guns</td>\n",
       "      <td>king</td>\n",
       "      <td>0.086</td>\n",
       "      <td>police</td>\n",
       "      <td>0.195</td>\n",
       "    </tr>\n",
       "    <tr>\n",
       "      <th>59</th>\n",
       "      <td>talk.politics.misc</td>\n",
       "      <td>talk.politics.guns</td>\n",
       "      <td>libertarian</td>\n",
       "      <td>0.141</td>\n",
       "      <td>guns</td>\n",
       "      <td>0.441</td>\n",
       "    </tr>\n",
       "    <tr>\n",
       "      <th>60</th>\n",
       "      <td>talk.politics.misc</td>\n",
       "      <td>talk.politics.guns</td>\n",
       "      <td>paul</td>\n",
       "      <td>0.059</td>\n",
       "      <td>gun</td>\n",
       "      <td>0.51</td>\n",
       "    </tr>\n",
       "    <tr>\n",
       "      <th>61</th>\n",
       "      <td>talk.politics.misc</td>\n",
       "      <td>talk.politics.guns</td>\n",
       "      <td>clinton</td>\n",
       "      <td>0.182</td>\n",
       "      <td>crime</td>\n",
       "      <td>0.217</td>\n",
       "    </tr>\n",
       "    <tr>\n",
       "      <th>62</th>\n",
       "      <td>talk.politics.misc</td>\n",
       "      <td>talk.politics.guns</td>\n",
       "      <td>society</td>\n",
       "      <td>0.105</td>\n",
       "      <td>weapons</td>\n",
       "      <td>0.337</td>\n",
       "    </tr>\n",
       "    <tr>\n",
       "      <th>63</th>\n",
       "      <td>talk.politics.misc</td>\n",
       "      <td>talk.politics.guns</td>\n",
       "      <td>federal</td>\n",
       "      <td>0.111</td>\n",
       "      <td>guns</td>\n",
       "      <td>0.441</td>\n",
       "    </tr>\n",
       "    <tr>\n",
       "      <th>64</th>\n",
       "      <td>talk.politics.misc</td>\n",
       "      <td>talk.politics.guns</td>\n",
       "      <td>taxes</td>\n",
       "      <td>0.171</td>\n",
       "      <td>constitution</td>\n",
       "      <td>0.167</td>\n",
       "    </tr>\n",
       "    <tr>\n",
       "      <th>65</th>\n",
       "      <td>talk.politics.misc</td>\n",
       "      <td>talk.politics.guns</td>\n",
       "      <td>person</td>\n",
       "      <td>0.066</td>\n",
       "      <td>reno</td>\n",
       "      <td>0.156</td>\n",
       "    </tr>\n",
       "    <tr>\n",
       "      <th>66</th>\n",
       "      <td>talk.politics.misc</td>\n",
       "      <td>talk.politics.guns</td>\n",
       "      <td>men</td>\n",
       "      <td>0.155</td>\n",
       "      <td>fbi</td>\n",
       "      <td>0.305</td>\n",
       "    </tr>\n",
       "    <tr>\n",
       "      <th>68</th>\n",
       "      <td>talk.politics.misc</td>\n",
       "      <td>talk.politics.guns</td>\n",
       "      <td>civil</td>\n",
       "      <td>0.095</td>\n",
       "      <td>police</td>\n",
       "      <td>0.195</td>\n",
       "    </tr>\n",
       "    <tr>\n",
       "      <th>70</th>\n",
       "      <td>talk.politics.misc</td>\n",
       "      <td>talk.politics.guns</td>\n",
       "      <td>government</td>\n",
       "      <td>0.137</td>\n",
       "      <td>fbi</td>\n",
       "      <td>0.305</td>\n",
       "    </tr>\n",
       "    <tr>\n",
       "      <th>72</th>\n",
       "      <td>talk.politics.misc</td>\n",
       "      <td>talk.politics.guns</td>\n",
       "      <td>state</td>\n",
       "      <td>0.106</td>\n",
       "      <td>fbi</td>\n",
       "      <td>0.305</td>\n",
       "    </tr>\n",
       "    <tr>\n",
       "      <th>77</th>\n",
       "      <td>talk.politics.misc</td>\n",
       "      <td>talk.politics.guns</td>\n",
       "      <td>state</td>\n",
       "      <td>0.106</td>\n",
       "      <td>law</td>\n",
       "      <td>0.157</td>\n",
       "    </tr>\n",
       "    <tr>\n",
       "      <th>79</th>\n",
       "      <td>talk.politics.misc</td>\n",
       "      <td>talk.politics.guns</td>\n",
       "      <td>government</td>\n",
       "      <td>0.137</td>\n",
       "      <td>government</td>\n",
       "      <td>0.14</td>\n",
       "    </tr>\n",
       "    <tr>\n",
       "      <th>80</th>\n",
       "      <td>talk.politics.misc</td>\n",
       "      <td>talk.politics.guns</td>\n",
       "      <td>politics</td>\n",
       "      <td>0.091</td>\n",
       "      <td>gun</td>\n",
       "      <td>0.51</td>\n",
       "    </tr>\n",
       "    <tr>\n",
       "      <th>85</th>\n",
       "      <td>talk.politics.misc</td>\n",
       "      <td>talk.politics.guns</td>\n",
       "      <td>children</td>\n",
       "      <td>0.078</td>\n",
       "      <td>gun</td>\n",
       "      <td>0.51</td>\n",
       "    </tr>\n",
       "    <tr>\n",
       "      <th>86</th>\n",
       "      <td>talk.politics.misc</td>\n",
       "      <td>talk.politics.guns</td>\n",
       "      <td>media</td>\n",
       "      <td>0.07</td>\n",
       "      <td>fbi</td>\n",
       "      <td>0.305</td>\n",
       "    </tr>\n",
       "    <tr>\n",
       "      <th>90</th>\n",
       "      <td>talk.politics.misc</td>\n",
       "      <td>talk.politics.guns</td>\n",
       "      <td>trial</td>\n",
       "      <td>0.153</td>\n",
       "      <td>fbi</td>\n",
       "      <td>0.305</td>\n",
       "    </tr>\n",
       "    <tr>\n",
       "      <th>91</th>\n",
       "      <td>talk.politics.misc</td>\n",
       "      <td>talk.politics.guns</td>\n",
       "      <td>liberal</td>\n",
       "      <td>0.101</td>\n",
       "      <td>liberal</td>\n",
       "      <td>0.106</td>\n",
       "    </tr>\n",
       "    <tr>\n",
       "      <th>93</th>\n",
       "      <td>talk.politics.misc</td>\n",
       "      <td>talk.politics.guns</td>\n",
       "      <td>trial</td>\n",
       "      <td>0.153</td>\n",
       "      <td>batf</td>\n",
       "      <td>0.29</td>\n",
       "    </tr>\n",
       "    <tr>\n",
       "      <th>94</th>\n",
       "      <td>talk.politics.misc</td>\n",
       "      <td>talk.politics.guns</td>\n",
       "      <td>government</td>\n",
       "      <td>0.137</td>\n",
       "      <td>gun</td>\n",
       "      <td>0.51</td>\n",
       "    </tr>\n",
       "    <tr>\n",
       "      <th>95</th>\n",
       "      <td>talk.politics.misc</td>\n",
       "      <td>talk.politics.guns</td>\n",
       "      <td>president</td>\n",
       "      <td>0.191</td>\n",
       "      <td>davidians</td>\n",
       "      <td>0.178</td>\n",
       "    </tr>\n",
       "    <tr>\n",
       "      <th>96</th>\n",
       "      <td>talk.politics.misc</td>\n",
       "      <td>talk.politics.guns</td>\n",
       "      <td>president</td>\n",
       "      <td>0.191</td>\n",
       "      <td>davidians</td>\n",
       "      <td>0.178</td>\n",
       "    </tr>\n",
       "    <tr>\n",
       "      <th>100</th>\n",
       "      <td>talk.politics.misc</td>\n",
       "      <td>talk.politics.guns</td>\n",
       "      <td>clinton</td>\n",
       "      <td>0.182</td>\n",
       "      <td>gun</td>\n",
       "      <td>0.51</td>\n",
       "    </tr>\n",
       "    <tr>\n",
       "      <th>102</th>\n",
       "      <td>talk.politics.misc</td>\n",
       "      <td>talk.politics.guns</td>\n",
       "      <td>government</td>\n",
       "      <td>0.137</td>\n",
       "      <td>batf</td>\n",
       "      <td>0.29</td>\n",
       "    </tr>\n",
       "    <tr>\n",
       "      <th>103</th>\n",
       "      <td>talk.politics.misc</td>\n",
       "      <td>talk.politics.guns</td>\n",
       "      <td>legal</td>\n",
       "      <td>0.089</td>\n",
       "      <td>weapons</td>\n",
       "      <td>0.337</td>\n",
       "    </tr>\n",
       "    <tr>\n",
       "      <th>104</th>\n",
       "      <td>talk.politics.misc</td>\n",
       "      <td>talk.politics.guns</td>\n",
       "      <td>men</td>\n",
       "      <td>0.155</td>\n",
       "      <td>gas</td>\n",
       "      <td>0.156</td>\n",
       "    </tr>\n",
       "    <tr>\n",
       "      <th>105</th>\n",
       "      <td>talk.politics.misc</td>\n",
       "      <td>talk.politics.guns</td>\n",
       "      <td>clinton</td>\n",
       "      <td>0.182</td>\n",
       "      <td>defense</td>\n",
       "      <td>0.163</td>\n",
       "    </tr>\n",
       "    <tr>\n",
       "      <th>106</th>\n",
       "      <td>talk.politics.misc</td>\n",
       "      <td>talk.politics.guns</td>\n",
       "      <td>sexual</td>\n",
       "      <td>0.165</td>\n",
       "      <td>weapons</td>\n",
       "      <td>0.337</td>\n",
       "    </tr>\n",
       "    <tr>\n",
       "      <th>107</th>\n",
       "      <td>talk.politics.misc</td>\n",
       "      <td>talk.politics.guns</td>\n",
       "      <td>force</td>\n",
       "      <td>0.106</td>\n",
       "      <td>fbi</td>\n",
       "      <td>0.305</td>\n",
       "    </tr>\n",
       "    <tr>\n",
       "      <th>110</th>\n",
       "      <td>talk.politics.misc</td>\n",
       "      <td>talk.politics.guns</td>\n",
       "      <td>trial</td>\n",
       "      <td>0.153</td>\n",
       "      <td>gun</td>\n",
       "      <td>0.51</td>\n",
       "    </tr>\n",
       "    <tr>\n",
       "      <th>112</th>\n",
       "      <td>talk.politics.misc</td>\n",
       "      <td>talk.politics.guns</td>\n",
       "      <td>lives</td>\n",
       "      <td>0.074</td>\n",
       "      <td>fbi</td>\n",
       "      <td>0.305</td>\n",
       "    </tr>\n",
       "    <tr>\n",
       "      <th>114</th>\n",
       "      <td>talk.politics.misc</td>\n",
       "      <td>talk.politics.guns</td>\n",
       "      <td>men</td>\n",
       "      <td>0.155</td>\n",
       "      <td>guns</td>\n",
       "      <td>0.441</td>\n",
       "    </tr>\n",
       "    <tr>\n",
       "      <th>116</th>\n",
       "      <td>talk.politics.misc</td>\n",
       "      <td>talk.politics.guns</td>\n",
       "      <td>law</td>\n",
       "      <td>0.08</td>\n",
       "      <td>law</td>\n",
       "      <td>0.157</td>\n",
       "    </tr>\n",
       "    <tr>\n",
       "      <th>117</th>\n",
       "      <td>talk.politics.misc</td>\n",
       "      <td>talk.politics.guns</td>\n",
       "      <td>crime</td>\n",
       "      <td>0.11</td>\n",
       "      <td>gun</td>\n",
       "      <td>0.51</td>\n",
       "    </tr>\n",
       "    <tr>\n",
       "      <th>121</th>\n",
       "      <td>talk.politics.misc</td>\n",
       "      <td>talk.politics.guns</td>\n",
       "      <td>clinton</td>\n",
       "      <td>0.182</td>\n",
       "      <td>batf</td>\n",
       "      <td>0.29</td>\n",
       "    </tr>\n",
       "    <tr>\n",
       "      <th>123</th>\n",
       "      <td>talk.politics.misc</td>\n",
       "      <td>talk.politics.guns</td>\n",
       "      <td>fight</td>\n",
       "      <td>0.064</td>\n",
       "      <td>army</td>\n",
       "      <td>0.09</td>\n",
       "    </tr>\n",
       "    <tr>\n",
       "      <th>125</th>\n",
       "      <td>talk.politics.misc</td>\n",
       "      <td>talk.politics.guns</td>\n",
       "      <td>men</td>\n",
       "      <td>0.155</td>\n",
       "      <td>weapons</td>\n",
       "      <td>0.337</td>\n",
       "    </tr>\n",
       "    <tr>\n",
       "      <th>130</th>\n",
       "      <td>talk.politics.misc</td>\n",
       "      <td>talk.politics.guns</td>\n",
       "      <td>men</td>\n",
       "      <td>0.155</td>\n",
       "      <td>compound</td>\n",
       "      <td>0.213</td>\n",
       "    </tr>\n",
       "    <tr>\n",
       "      <th>133</th>\n",
       "      <td>talk.politics.misc</td>\n",
       "      <td>talk.politics.guns</td>\n",
       "      <td>state</td>\n",
       "      <td>0.106</td>\n",
       "      <td>fbi</td>\n",
       "      <td>0.305</td>\n",
       "    </tr>\n",
       "    <tr>\n",
       "      <th>136</th>\n",
       "      <td>talk.politics.misc</td>\n",
       "      <td>talk.politics.guns</td>\n",
       "      <td>children</td>\n",
       "      <td>0.078</td>\n",
       "      <td>fbi</td>\n",
       "      <td>0.305</td>\n",
       "    </tr>\n",
       "    <tr>\n",
       "      <th>137</th>\n",
       "      <td>talk.politics.misc</td>\n",
       "      <td>talk.politics.guns</td>\n",
       "      <td>force</td>\n",
       "      <td>0.106</td>\n",
       "      <td>guns</td>\n",
       "      <td>0.441</td>\n",
       "    </tr>\n",
       "    <tr>\n",
       "      <th>138</th>\n",
       "      <td>talk.politics.misc</td>\n",
       "      <td>talk.politics.guns</td>\n",
       "      <td>drug</td>\n",
       "      <td>0.099</td>\n",
       "      <td>batf</td>\n",
       "      <td>0.29</td>\n",
       "    </tr>\n",
       "    <tr>\n",
       "      <th>141</th>\n",
       "      <td>talk.politics.misc</td>\n",
       "      <td>talk.politics.guns</td>\n",
       "      <td>officers</td>\n",
       "      <td>0.077</td>\n",
       "      <td>batf</td>\n",
       "      <td>0.29</td>\n",
       "    </tr>\n",
       "    <tr>\n",
       "      <th>142</th>\n",
       "      <td>talk.politics.misc</td>\n",
       "      <td>talk.politics.guns</td>\n",
       "      <td>state</td>\n",
       "      <td>0.106</td>\n",
       "      <td>weapons</td>\n",
       "      <td>0.337</td>\n",
       "    </tr>\n",
       "    <tr>\n",
       "      <th>144</th>\n",
       "      <td>talk.politics.misc</td>\n",
       "      <td>talk.politics.guns</td>\n",
       "      <td>law</td>\n",
       "      <td>0.08</td>\n",
       "      <td>batf</td>\n",
       "      <td>0.29</td>\n",
       "    </tr>\n",
       "    <tr>\n",
       "      <th>146</th>\n",
       "      <td>talk.politics.misc</td>\n",
       "      <td>talk.politics.guns</td>\n",
       "      <td>idea</td>\n",
       "      <td>0.045</td>\n",
       "      <td>gas</td>\n",
       "      <td>0.156</td>\n",
       "    </tr>\n",
       "    <tr>\n",
       "      <th>148</th>\n",
       "      <td>talk.politics.misc</td>\n",
       "      <td>talk.politics.guns</td>\n",
       "      <td>saw</td>\n",
       "      <td>0.035</td>\n",
       "      <td>koresh</td>\n",
       "      <td>0.181</td>\n",
       "    </tr>\n",
       "    <tr>\n",
       "      <th>149</th>\n",
       "      <td>talk.politics.misc</td>\n",
       "      <td>talk.politics.guns</td>\n",
       "      <td>government</td>\n",
       "      <td>0.137</td>\n",
       "      <td>gun</td>\n",
       "      <td>0.51</td>\n",
       "    </tr>\n",
       "    <tr>\n",
       "      <th>150</th>\n",
       "      <td>talk.politics.misc</td>\n",
       "      <td>talk.politics.guns</td>\n",
       "      <td>society</td>\n",
       "      <td>0.105</td>\n",
       "      <td>waco</td>\n",
       "      <td>0.214</td>\n",
       "    </tr>\n",
       "    <tr>\n",
       "      <th>151</th>\n",
       "      <td>talk.politics.misc</td>\n",
       "      <td>talk.politics.guns</td>\n",
       "      <td>tax</td>\n",
       "      <td>0.224</td>\n",
       "      <td>gun</td>\n",
       "      <td>0.51</td>\n",
       "    </tr>\n",
       "    <tr>\n",
       "      <th>153</th>\n",
       "      <td>talk.politics.misc</td>\n",
       "      <td>talk.politics.guns</td>\n",
       "      <td>american</td>\n",
       "      <td>0.095</td>\n",
       "      <td>texas</td>\n",
       "      <td>0.138</td>\n",
       "    </tr>\n",
       "    <tr>\n",
       "      <th>158</th>\n",
       "      <td>talk.politics.misc</td>\n",
       "      <td>talk.politics.guns</td>\n",
       "      <td>bush</td>\n",
       "      <td>0.164</td>\n",
       "      <td>guns</td>\n",
       "      <td>0.441</td>\n",
       "    </tr>\n",
       "    <tr>\n",
       "      <th>159</th>\n",
       "      <td>talk.politics.misc</td>\n",
       "      <td>talk.politics.guns</td>\n",
       "      <td>men</td>\n",
       "      <td>0.155</td>\n",
       "      <td>batf</td>\n",
       "      <td>0.29</td>\n",
       "    </tr>\n",
       "    <tr>\n",
       "      <th>160</th>\n",
       "      <td>talk.politics.misc</td>\n",
       "      <td>talk.politics.guns</td>\n",
       "      <td>clinton</td>\n",
       "      <td>0.182</td>\n",
       "      <td>fbi</td>\n",
       "      <td>0.305</td>\n",
       "    </tr>\n",
       "    <tr>\n",
       "      <th>164</th>\n",
       "      <td>talk.politics.misc</td>\n",
       "      <td>talk.politics.guns</td>\n",
       "      <td>government</td>\n",
       "      <td>0.137</td>\n",
       "      <td>gun</td>\n",
       "      <td>0.51</td>\n",
       "    </tr>\n",
       "    <tr>\n",
       "      <th>167</th>\n",
       "      <td>talk.politics.misc</td>\n",
       "      <td>talk.politics.guns</td>\n",
       "      <td>evidence</td>\n",
       "      <td>0.094</td>\n",
       "      <td>gun</td>\n",
       "      <td>0.51</td>\n",
       "    </tr>\n",
       "    <tr>\n",
       "      <th>170</th>\n",
       "      <td>talk.politics.misc</td>\n",
       "      <td>talk.politics.guns</td>\n",
       "      <td>president</td>\n",
       "      <td>0.191</td>\n",
       "      <td>gun</td>\n",
       "      <td>0.51</td>\n",
       "    </tr>\n",
       "    <tr>\n",
       "      <th>171</th>\n",
       "      <td>talk.politics.misc</td>\n",
       "      <td>talk.politics.guns</td>\n",
       "      <td>government</td>\n",
       "      <td>0.137</td>\n",
       "      <td>guns</td>\n",
       "      <td>0.441</td>\n",
       "    </tr>\n",
       "    <tr>\n",
       "      <th>174</th>\n",
       "      <td>talk.politics.misc</td>\n",
       "      <td>talk.politics.guns</td>\n",
       "      <td>armed</td>\n",
       "      <td>0.083</td>\n",
       "      <td>armed</td>\n",
       "      <td>0.142</td>\n",
       "    </tr>\n",
       "    <tr>\n",
       "      <th>175</th>\n",
       "      <td>talk.politics.misc</td>\n",
       "      <td>talk.politics.guns</td>\n",
       "      <td>armed</td>\n",
       "      <td>0.083</td>\n",
       "      <td>firearms</td>\n",
       "      <td>0.336</td>\n",
       "    </tr>\n",
       "    <tr>\n",
       "      <th>178</th>\n",
       "      <td>talk.politics.misc</td>\n",
       "      <td>talk.politics.guns</td>\n",
       "      <td>children</td>\n",
       "      <td>0.078</td>\n",
       "      <td>fbi</td>\n",
       "      <td>0.305</td>\n",
       "    </tr>\n",
       "    <tr>\n",
       "      <th>179</th>\n",
       "      <td>talk.politics.misc</td>\n",
       "      <td>talk.politics.guns</td>\n",
       "      <td>evidence</td>\n",
       "      <td>0.094</td>\n",
       "      <td>compound</td>\n",
       "      <td>0.213</td>\n",
       "    </tr>\n",
       "    <tr>\n",
       "      <th>180</th>\n",
       "      <td>talk.politics.misc</td>\n",
       "      <td>talk.politics.guns</td>\n",
       "      <td>president</td>\n",
       "      <td>0.191</td>\n",
       "      <td>waco</td>\n",
       "      <td>0.214</td>\n",
       "    </tr>\n",
       "    <tr>\n",
       "      <th>181</th>\n",
       "      <td>talk.politics.misc</td>\n",
       "      <td>talk.politics.guns</td>\n",
       "      <td>charges</td>\n",
       "      <td>0.084</td>\n",
       "      <td>koresh</td>\n",
       "      <td>0.181</td>\n",
       "    </tr>\n",
       "    <tr>\n",
       "      <th>183</th>\n",
       "      <td>talk.politics.misc</td>\n",
       "      <td>talk.politics.guns</td>\n",
       "      <td>jobs</td>\n",
       "      <td>0.191</td>\n",
       "      <td>gun</td>\n",
       "      <td>0.51</td>\n",
       "    </tr>\n",
       "    <tr>\n",
       "      <th>188</th>\n",
       "      <td>talk.politics.misc</td>\n",
       "      <td>talk.politics.guns</td>\n",
       "      <td>witnesses</td>\n",
       "      <td>0.095</td>\n",
       "      <td>batf</td>\n",
       "      <td>0.29</td>\n",
       "    </tr>\n",
       "    <tr>\n",
       "      <th>189</th>\n",
       "      <td>talk.politics.misc</td>\n",
       "      <td>talk.politics.guns</td>\n",
       "      <td>health</td>\n",
       "      <td>0.153</td>\n",
       "      <td>fbi</td>\n",
       "      <td>0.305</td>\n",
       "    </tr>\n",
       "    <tr>\n",
       "      <th>190</th>\n",
       "      <td>talk.politics.misc</td>\n",
       "      <td>talk.politics.guns</td>\n",
       "      <td>health</td>\n",
       "      <td>0.153</td>\n",
       "      <td>fbi</td>\n",
       "      <td>0.305</td>\n",
       "    </tr>\n",
       "    <tr>\n",
       "      <th>195</th>\n",
       "      <td>talk.politics.misc</td>\n",
       "      <td>talk.politics.guns</td>\n",
       "      <td>wind</td>\n",
       "      <td>0.047</td>\n",
       "      <td>fbi</td>\n",
       "      <td>0.305</td>\n",
       "    </tr>\n",
       "    <tr>\n",
       "      <th>196</th>\n",
       "      <td>talk.politics.misc</td>\n",
       "      <td>talk.politics.guns</td>\n",
       "      <td>trial</td>\n",
       "      <td>0.153</td>\n",
       "      <td>weapons</td>\n",
       "      <td>0.337</td>\n",
       "    </tr>\n",
       "    <tr>\n",
       "      <th>197</th>\n",
       "      <td>talk.politics.misc</td>\n",
       "      <td>talk.politics.guns</td>\n",
       "      <td>constitution</td>\n",
       "      <td>0.082</td>\n",
       "      <td>constitution</td>\n",
       "      <td>0.167</td>\n",
       "    </tr>\n",
       "  </tbody>\n",
       "</table>\n",
       "</div>"
      ],
      "text/plain": [
       "          correct class wrong prediction class support correct class  \\\n",
       "0    talk.politics.misc     talk.politics.guns               liberal   \n",
       "4    talk.politics.misc     talk.politics.guns            government   \n",
       "5    talk.politics.misc     talk.politics.guns            government   \n",
       "6    talk.politics.misc     talk.politics.guns                 force   \n",
       "8    talk.politics.misc     talk.politics.guns              national   \n",
       "10   talk.politics.misc     talk.politics.guns                 drugs   \n",
       "11   talk.politics.misc     talk.politics.guns            government   \n",
       "12   talk.politics.misc     talk.politics.guns             president   \n",
       "15   talk.politics.misc     talk.politics.guns            government   \n",
       "16   talk.politics.misc     talk.politics.guns             president   \n",
       "17   talk.politics.misc     talk.politics.guns              children   \n",
       "22   talk.politics.misc     talk.politics.guns             operation   \n",
       "24   talk.politics.misc     talk.politics.guns            government   \n",
       "25   talk.politics.misc     talk.politics.guns               federal   \n",
       "27   talk.politics.misc     talk.politics.guns                 state   \n",
       "28   talk.politics.misc     talk.politics.guns                 trial   \n",
       "29   talk.politics.misc     talk.politics.guns                forces   \n",
       "31   talk.politics.misc     talk.politics.guns               clinton   \n",
       "32   talk.politics.misc     talk.politics.guns               clinton   \n",
       "33   talk.politics.misc     talk.politics.guns               clinton   \n",
       "34   talk.politics.misc     talk.politics.guns                 civil   \n",
       "36   talk.politics.misc     talk.politics.guns            government   \n",
       "37   talk.politics.misc     talk.politics.guns            government   \n",
       "41   talk.politics.misc     talk.politics.guns                commit   \n",
       "42   talk.politics.misc     talk.politics.guns                commit   \n",
       "43   talk.politics.misc     talk.politics.guns                rights   \n",
       "46   talk.politics.misc     talk.politics.guns           libertarian   \n",
       "47   talk.politics.misc     talk.politics.guns             president   \n",
       "49   talk.politics.misc     talk.politics.guns            government   \n",
       "54   talk.politics.misc     talk.politics.guns               clinton   \n",
       "55   talk.politics.misc     talk.politics.guns              employer   \n",
       "56   talk.politics.misc     talk.politics.guns                 trial   \n",
       "57   talk.politics.misc     talk.politics.guns            government   \n",
       "58   talk.politics.misc     talk.politics.guns                  king   \n",
       "59   talk.politics.misc     talk.politics.guns           libertarian   \n",
       "60   talk.politics.misc     talk.politics.guns                  paul   \n",
       "61   talk.politics.misc     talk.politics.guns               clinton   \n",
       "62   talk.politics.misc     talk.politics.guns               society   \n",
       "63   talk.politics.misc     talk.politics.guns               federal   \n",
       "64   talk.politics.misc     talk.politics.guns                 taxes   \n",
       "65   talk.politics.misc     talk.politics.guns                person   \n",
       "66   talk.politics.misc     talk.politics.guns                   men   \n",
       "68   talk.politics.misc     talk.politics.guns                 civil   \n",
       "70   talk.politics.misc     talk.politics.guns            government   \n",
       "72   talk.politics.misc     talk.politics.guns                 state   \n",
       "77   talk.politics.misc     talk.politics.guns                 state   \n",
       "79   talk.politics.misc     talk.politics.guns            government   \n",
       "80   talk.politics.misc     talk.politics.guns              politics   \n",
       "85   talk.politics.misc     talk.politics.guns              children   \n",
       "86   talk.politics.misc     talk.politics.guns                 media   \n",
       "90   talk.politics.misc     talk.politics.guns                 trial   \n",
       "91   talk.politics.misc     talk.politics.guns               liberal   \n",
       "93   talk.politics.misc     talk.politics.guns                 trial   \n",
       "94   talk.politics.misc     talk.politics.guns            government   \n",
       "95   talk.politics.misc     talk.politics.guns             president   \n",
       "96   talk.politics.misc     talk.politics.guns             president   \n",
       "100  talk.politics.misc     talk.politics.guns               clinton   \n",
       "102  talk.politics.misc     talk.politics.guns            government   \n",
       "103  talk.politics.misc     talk.politics.guns                 legal   \n",
       "104  talk.politics.misc     talk.politics.guns                   men   \n",
       "105  talk.politics.misc     talk.politics.guns               clinton   \n",
       "106  talk.politics.misc     talk.politics.guns                sexual   \n",
       "107  talk.politics.misc     talk.politics.guns                 force   \n",
       "110  talk.politics.misc     talk.politics.guns                 trial   \n",
       "112  talk.politics.misc     talk.politics.guns                 lives   \n",
       "114  talk.politics.misc     talk.politics.guns                   men   \n",
       "116  talk.politics.misc     talk.politics.guns                   law   \n",
       "117  talk.politics.misc     talk.politics.guns                 crime   \n",
       "121  talk.politics.misc     talk.politics.guns               clinton   \n",
       "123  talk.politics.misc     talk.politics.guns                 fight   \n",
       "125  talk.politics.misc     talk.politics.guns                   men   \n",
       "130  talk.politics.misc     talk.politics.guns                   men   \n",
       "133  talk.politics.misc     talk.politics.guns                 state   \n",
       "136  talk.politics.misc     talk.politics.guns              children   \n",
       "137  talk.politics.misc     talk.politics.guns                 force   \n",
       "138  talk.politics.misc     talk.politics.guns                  drug   \n",
       "141  talk.politics.misc     talk.politics.guns              officers   \n",
       "142  talk.politics.misc     talk.politics.guns                 state   \n",
       "144  talk.politics.misc     talk.politics.guns                   law   \n",
       "146  talk.politics.misc     talk.politics.guns                  idea   \n",
       "148  talk.politics.misc     talk.politics.guns                   saw   \n",
       "149  talk.politics.misc     talk.politics.guns            government   \n",
       "150  talk.politics.misc     talk.politics.guns               society   \n",
       "151  talk.politics.misc     talk.politics.guns                   tax   \n",
       "153  talk.politics.misc     talk.politics.guns              american   \n",
       "158  talk.politics.misc     talk.politics.guns                  bush   \n",
       "159  talk.politics.misc     talk.politics.guns                   men   \n",
       "160  talk.politics.misc     talk.politics.guns               clinton   \n",
       "164  talk.politics.misc     talk.politics.guns            government   \n",
       "167  talk.politics.misc     talk.politics.guns              evidence   \n",
       "170  talk.politics.misc     talk.politics.guns             president   \n",
       "171  talk.politics.misc     talk.politics.guns            government   \n",
       "174  talk.politics.misc     talk.politics.guns                 armed   \n",
       "175  talk.politics.misc     talk.politics.guns                 armed   \n",
       "178  talk.politics.misc     talk.politics.guns              children   \n",
       "179  talk.politics.misc     talk.politics.guns              evidence   \n",
       "180  talk.politics.misc     talk.politics.guns             president   \n",
       "181  talk.politics.misc     talk.politics.guns               charges   \n",
       "183  talk.politics.misc     talk.politics.guns                  jobs   \n",
       "188  talk.politics.misc     talk.politics.guns             witnesses   \n",
       "189  talk.politics.misc     talk.politics.guns                health   \n",
       "190  talk.politics.misc     talk.politics.guns                health   \n",
       "195  talk.politics.misc     talk.politics.guns                  wind   \n",
       "196  talk.politics.misc     talk.politics.guns                 trial   \n",
       "197  talk.politics.misc     talk.politics.guns          constitution   \n",
       "\n",
       "    prob_class support wrong class prob_wrong  \n",
       "0        0.101                waco      0.214  \n",
       "4        0.137                 gun       0.51  \n",
       "5        0.137                 gun       0.51  \n",
       "6        0.106            compound      0.213  \n",
       "8        0.081            military      0.123  \n",
       "10       0.178           criminals      0.218  \n",
       "11       0.137           davidians      0.178  \n",
       "12       0.191                 gun       0.51  \n",
       "15       0.137          government       0.14  \n",
       "16       0.191                 fbi      0.305  \n",
       "17       0.078            children      0.134  \n",
       "22       0.065                batf       0.29  \n",
       "24       0.137              koresh      0.181  \n",
       "25       0.111             federal      0.176  \n",
       "27       0.106            criminal      0.166  \n",
       "28       0.153             defense      0.163  \n",
       "29       0.061                 fbi      0.305  \n",
       "31       0.182                 fbi      0.305  \n",
       "32       0.182                 fbi      0.305  \n",
       "33       0.182                 fbi      0.305  \n",
       "34       0.095              koresh      0.181  \n",
       "36       0.137                 gun       0.51  \n",
       "37       0.137            compound      0.213  \n",
       "41       0.073                 gun       0.51  \n",
       "42       0.073                 gun       0.51  \n",
       "43       0.102              rights      0.154  \n",
       "46       0.141           amendment      0.198  \n",
       "47       0.191                waco      0.214  \n",
       "49       0.137                waco      0.214  \n",
       "54       0.182                batf       0.29  \n",
       "55       0.091                 fbi      0.305  \n",
       "56       0.153                 gun       0.51  \n",
       "57       0.137                guns      0.441  \n",
       "58       0.086              police      0.195  \n",
       "59       0.141                guns      0.441  \n",
       "60       0.059                 gun       0.51  \n",
       "61       0.182               crime      0.217  \n",
       "62       0.105             weapons      0.337  \n",
       "63       0.111                guns      0.441  \n",
       "64       0.171        constitution      0.167  \n",
       "65       0.066                reno      0.156  \n",
       "66       0.155                 fbi      0.305  \n",
       "68       0.095              police      0.195  \n",
       "70       0.137                 fbi      0.305  \n",
       "72       0.106                 fbi      0.305  \n",
       "77       0.106                 law      0.157  \n",
       "79       0.137          government       0.14  \n",
       "80       0.091                 gun       0.51  \n",
       "85       0.078                 gun       0.51  \n",
       "86        0.07                 fbi      0.305  \n",
       "90       0.153                 fbi      0.305  \n",
       "91       0.101             liberal      0.106  \n",
       "93       0.153                batf       0.29  \n",
       "94       0.137                 gun       0.51  \n",
       "95       0.191           davidians      0.178  \n",
       "96       0.191           davidians      0.178  \n",
       "100      0.182                 gun       0.51  \n",
       "102      0.137                batf       0.29  \n",
       "103      0.089             weapons      0.337  \n",
       "104      0.155                 gas      0.156  \n",
       "105      0.182             defense      0.163  \n",
       "106      0.165             weapons      0.337  \n",
       "107      0.106                 fbi      0.305  \n",
       "110      0.153                 gun       0.51  \n",
       "112      0.074                 fbi      0.305  \n",
       "114      0.155                guns      0.441  \n",
       "116       0.08                 law      0.157  \n",
       "117       0.11                 gun       0.51  \n",
       "121      0.182                batf       0.29  \n",
       "123      0.064                army       0.09  \n",
       "125      0.155             weapons      0.337  \n",
       "130      0.155            compound      0.213  \n",
       "133      0.106                 fbi      0.305  \n",
       "136      0.078                 fbi      0.305  \n",
       "137      0.106                guns      0.441  \n",
       "138      0.099                batf       0.29  \n",
       "141      0.077                batf       0.29  \n",
       "142      0.106             weapons      0.337  \n",
       "144       0.08                batf       0.29  \n",
       "146      0.045                 gas      0.156  \n",
       "148      0.035              koresh      0.181  \n",
       "149      0.137                 gun       0.51  \n",
       "150      0.105                waco      0.214  \n",
       "151      0.224                 gun       0.51  \n",
       "153      0.095               texas      0.138  \n",
       "158      0.164                guns      0.441  \n",
       "159      0.155                batf       0.29  \n",
       "160      0.182                 fbi      0.305  \n",
       "164      0.137                 gun       0.51  \n",
       "167      0.094                 gun       0.51  \n",
       "170      0.191                 gun       0.51  \n",
       "171      0.137                guns      0.441  \n",
       "174      0.083               armed      0.142  \n",
       "175      0.083            firearms      0.336  \n",
       "178      0.078                 fbi      0.305  \n",
       "179      0.094            compound      0.213  \n",
       "180      0.191                waco      0.214  \n",
       "181      0.084              koresh      0.181  \n",
       "183      0.191                 gun       0.51  \n",
       "188      0.095                batf       0.29  \n",
       "189      0.153                 fbi      0.305  \n",
       "190      0.153                 fbi      0.305  \n",
       "195      0.047                 fbi      0.305  \n",
       "196      0.153             weapons      0.337  \n",
       "197      0.082        constitution      0.167  "
      ]
     },
     "metadata": {},
     "output_type": "display_data"
    }
   ],
   "source": [
    "pd.set_option('display.max_rows', 105)\n",
    "\n",
    "def find_err_for_class(model, x_test, vectorizer, y_pred, y_true, true_class, target_names):\n",
    "    ''' For each missclassification of a given class, show the top words that supported the right and wrong \n",
    "        classification and their posterior probabilities'''\n",
    "    \n",
    "    p_c_w = calc_p_c_given_xi(model)\n",
    "    key_list = list(vectorizer.vocabulary_.keys()) # words\n",
    "    val_list = list(vectorizer.vocabulary_.values()) # words indices\n",
    "       \n",
    "    err_ind, = np.where((y_true==true_class) & (y_pred!=true_class))\n",
    "        \n",
    "    support_for_class = np.empty((err_ind.size,6), dtype=object)    \n",
    "    incorerctly_classified_docs = x_test[err_ind]    \n",
    "    \n",
    "    \n",
    "    for j in range(incorerctly_classified_docs.shape[0]):\n",
    "        \n",
    "        ind_feat, = np.where(incorerctly_classified_docs[j]>0)\n",
    "        \n",
    "        wrong_class = y_pred[err_ind[j]]\n",
    "        if ind_feat.size==0:\n",
    "            support_for_class[j] = None\n",
    "        else:\n",
    "            highest_p_c_given_xi = ind_feat[np.argmax(p_c_w[true_class, ind_feat])]\n",
    "            max_wrong = ind_feat[np.argmax(p_c_w[wrong_class, ind_feat])]\n",
    "            line = np.array([target_names[true_class], \n",
    "                             target_names[wrong_class],\n",
    "                             key_list[val_list.index(highest_p_c_given_xi)],\n",
    "                             np.round(np.max(p_c_w[true_class,ind_feat]), decimals=3),\n",
    "                             key_list[val_list.index(max_wrong)], \n",
    "                             np.round(np.max(p_c_w[wrong_class,ind_feat]), decimals=3)])\n",
    "        \n",
    "        support_for_class[j]= line\n",
    "        \n",
    "    return support_for_class\n",
    "\n",
    "\n",
    "ind_of_politics_misc = 18\n",
    "columns_for_df = ['correct class', 'wrong prediction class', 'support correct class','prob_class', 'support wrong class','prob_wrong']\n",
    "\n",
    "error_analysis = find_err_for_class(model, x_test_tfidf_arr, vectorizer, y_pred_test, y_test, ind_of_politics_misc, categories)\n",
    "df = pd.DataFrame(error_analysis, columns = columns_for_df)  \n",
    "df=df.dropna(axis=0)\n",
    "display(df[df['wrong prediction class'] == 'talk.politics.guns'] ) \n",
    "\n"
   ]
  },
  {
   "cell_type": "markdown",
   "metadata": {},
   "source": [
    "*** \n",
    "We can see that many of the errors are actually quite reasonable as the missclassified documents contain words like: gun, guns, weapons, fbi, etc., which are, naturally, strong predictors (probability >=0.3) of the politics.guns class. \n",
    "\n",
    "This is in fact a well known flaw of the Naive bayes algorithm that takes words as indepndent features and ignores dependecies between words (context).\n",
    "\n",
    "It might be that taking also n-grams of higher range such as 4 or 5 may help with adding more context but this will also increase the number of features. \n",
    "\n",
    "Another option might be using Bernoullie classifier instead of multinomial as it calculates the probability also of words that do not appear in the specific document but appear in the vocublary. It consides the probability of not-seeing these words given the class whereas the multinomial classifiers ignores them.\n",
    "                                                                                                                   \n",
    "***"
   ]
  },
  {
   "cell_type": "markdown",
   "metadata": {},
   "source": [
    "### Let's explore more errors:"
   ]
  },
  {
   "cell_type": "code",
   "execution_count": 51,
   "metadata": {},
   "outputs": [],
   "source": [
    "import ipywidgets as widgets\n",
    "from ipywidgets import interact, fixed\n",
    "\n",
    "def show_sliders(y_test, x_test_tfidf_arr, features, c_p_given_xi_ind_df, c_p_given_xi_df):\n",
    "    example_ind = widgets.IntSlider(min=0, max = len(y_test), value=5496, continuous_update=False)\n",
    "    min_prob = widgets.FloatSlider(min=0.01, max = 0.2, step = 0.01, value = 0.05, continuous_update=False)\n",
    "    top_words = widgets.IntSlider(min=0, max = 30,  value = 10, continuous_update=False)\n",
    "    interact(analyze_prediction, idx = example_ind, min_prob = min_prob, top_n = top_words, \n",
    "            x_test_tfidf_arr = fixed(x_test_tfidf_arr), y_test = fixed(y_test), features = fixed(features), \n",
    "            prob_df = fixed(c_p_given_xi_ind_df), prob_mi_df = fixed(c_p_given_xi_df));"
   ]
  },
  {
   "cell_type": "code",
   "execution_count": 52,
   "metadata": {
    "scrolled": false
   },
   "outputs": [
    {
     "data": {
      "application/vnd.jupyter.widget-view+json": {
       "model_id": "0e8ac786529d49a392afe8f41231cbc6",
       "version_major": 2,
       "version_minor": 0
      },
      "text/plain": [
       "interactive(children=(IntSlider(value=5496, continuous_update=False, description='idx', max=7532), FloatSlider…"
      ]
     },
     "metadata": {},
     "output_type": "display_data"
    }
   ],
   "source": [
    "show_sliders(y_test, x_test_tfidf_arr, features, c_p_given_xi_ind_df, c_p_given_xi_df)"
   ]
  },
  {
   "cell_type": "markdown",
   "metadata": {},
   "source": [
    "*** \n",
    "\n",
    "Let's look at example 5496, which is `comp.graphics` misclassified as `comp.sys.ibm.pc.hardware`\n",
    "Looking at the features which impact this descision most - we can see that most words that impacted the classification descision are not even words, but mostly numbers. Let's try to improve the model by adding pre-processing\n",
    "***"
   ]
  },
  {
   "cell_type": "markdown",
   "metadata": {},
   "source": [
    "*** \n",
    "\n",
    "__Which top words support the correct class and which support the wrong class?__\n",
    "we can see the green words that support the real class, the red ones that support the predicted class and the blue ones that appear in both.\n",
    "\n",
    "***"
   ]
  },
  {
   "cell_type": "markdown",
   "metadata": {},
   "source": [
    "### How can you correct the analyzed error?"
   ]
  },
  {
   "cell_type": "markdown",
   "metadata": {},
   "source": [
    "***\n",
    "\n",
    "We can try to use a pre-processor to improve the classifier\n",
    "\n",
    "***"
   ]
  },
  {
   "cell_type": "code",
   "execution_count": 53,
   "metadata": {
    "scrolled": false
   },
   "outputs": [
    {
     "name": "stdout",
     "output_type": "stream",
     "text": [
      "done in 527.80 sec\n"
     ]
    }
   ],
   "source": [
    "from nltk import word_tokenize\n",
    "from nltk.corpus import stopwords\n",
    "from time import time\n",
    "import nltk\n",
    "from nltk.stem.snowball import SnowballStemmer\n",
    "\n",
    "stemmer = SnowballStemmer(\"english\")\n",
    "\n",
    "def tokenizer(text):\n",
    "    \n",
    "    text = text.lower()\n",
    "    # remove special characters and digits\n",
    "    text = re.sub('[^a-zA-Z]+', ' ', text)\n",
    "    tokens = word_tokenize(text)\n",
    "    words = []\n",
    "    for token in tokens:\n",
    "        if token not in stopwords.words('english') and len(token) > 1:\n",
    "            words.append(stemmer.stem(token))\n",
    "            \n",
    "    return tokens\n",
    "\n",
    "\n",
    "# pp indicates = pre processed text\n",
    "\n",
    "model_pp = MultinomialNB()\n",
    "vectorizer_pp = TfidfVectorizer(stop_words='english', tokenizer = tokenizer, max_df = 0.05)\n",
    "\n",
    "t0 = time()\n",
    "\n",
    "x_train_tfidf_pp = vectorizer_pp.fit_transform(x_train, y_train)\n",
    "x_test_tfidf_pp = vectorizer_pp.transform(x_test)\n",
    "x_test_tfidf_arr_pp = x_test_tfidf_pp.toarray()\n",
    "\n",
    "print(f\"done in {time() - t0:.2f} sec\")\n",
    "\n",
    "features_pp = np.array(vectorizer_pp.get_feature_names())\n",
    "\n",
    "model_pp.fit(x_train_tfidf_pp,y_train)\n",
    "y_pred_test_pp = model_pp.predict(x_test_tfidf_pp)\n",
    "y_pred_train_pp = model_pp.predict(x_train_tfidf_pp)\n"
   ]
  },
  {
   "cell_type": "code",
   "execution_count": 54,
   "metadata": {},
   "outputs": [
    {
     "name": "stdout",
     "output_type": "stream",
     "text": [
      "Model accuracy (Train) 0.882\n",
      "Model accuracy (Test) 0.681\n",
      "Model accuracy weighted f1 score (Train): 0.878\n",
      "Model accuracy weighted f1 score (Test): 0.667\n",
      "72532 features\n"
     ]
    }
   ],
   "source": [
    "\n",
    "acc_score = accuracy_score(y_train, y_pred_train_pp)\n",
    "print(f'Model accuracy (Train) {acc_score:.3f}')\n",
    "acc_score = accuracy_score(y_test, y_pred_test_pp)\n",
    "print(f'Model accuracy (Test) {acc_score:.3f}')\n",
    "\n",
    "f1 = f1_score(y_train, y_pred_train_pp, average='weighted')\n",
    "print(f'Model accuracy weighted f1 score (Train): {f1:.3f}')\n",
    "f1 = f1_score(y_test, y_pred_test_pp, average='weighted')\n",
    "print(f'Model accuracy weighted f1 score (Test): {f1:.3f}')\n",
    "\n",
    "n_features = len(features_pp)\n",
    "print(f'{n_features} features')\n",
    "\n",
    "#analyze_model(y_test, y_pred_test)\n",
    "\n"
   ]
  },
  {
   "cell_type": "code",
   "execution_count": 55,
   "metadata": {},
   "outputs": [],
   "source": [
    "c_p_given_xi_df_pp, c_p_given_xi_ind_df_pp = create_dfs_for_features_value(model_pp, vectorizer_pp, categories)\n"
   ]
  },
  {
   "cell_type": "code",
   "execution_count": 56,
   "metadata": {
    "scrolled": false
   },
   "outputs": [
    {
     "data": {
      "application/vnd.jupyter.widget-view+json": {
       "model_id": "87c3fdeaf57c4fabba20833744a05e8d",
       "version_major": 2,
       "version_minor": 0
      },
      "text/plain": [
       "interactive(children=(IntSlider(value=5496, continuous_update=False, description='idx', max=7532), FloatSlider…"
      ]
     },
     "metadata": {},
     "output_type": "display_data"
    }
   ],
   "source": [
    "show_sliders(y_test, x_test_tfidf_arr_pp, features_pp, c_p_given_xi_ind_df_pp, c_p_given_xi_df_pp )"
   ]
  },
  {
   "cell_type": "markdown",
   "metadata": {},
   "source": [
    "***\n",
    "\n",
    "The classification is still incorrect as it seems like the words in this document match both classes (which makes sense, as they are similar domains with similar voaculary), but it seems like the classifier has a better vocabulary. To further improve this, we might want to allow combinataions of text and numbers (so phrases like 50mhz will be included), and potentially increase the n-grams. \n",
    "\n",
    "***"
   ]
  },
  {
   "cell_type": "code",
   "execution_count": null,
   "metadata": {},
   "outputs": [],
   "source": []
  }
 ],
 "metadata": {
  "colab": {
   "collapsed_sections": [],
   "name": "NB exercise.ipynb",
   "provenance": []
  },
  "kernelspec": {
   "display_name": "Python 3",
   "language": "python",
   "name": "python3"
  },
  "language_info": {
   "codemirror_mode": {
    "name": "ipython",
    "version": 3
   },
   "file_extension": ".py",
   "mimetype": "text/x-python",
   "name": "python",
   "nbconvert_exporter": "python",
   "pygments_lexer": "ipython3",
   "version": "3.8.5"
  }
 },
 "nbformat": 4,
 "nbformat_minor": 1
}
